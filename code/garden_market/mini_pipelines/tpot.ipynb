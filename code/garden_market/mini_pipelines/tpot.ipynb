{
 "cells": [
  {
   "cell_type": "markdown",
   "metadata": {},
   "source": [
    "Licensed under the MIT License.\n",
    "\n",
    "Copyright (c) 2021-2031. All rights reserved.\n",
    "\n",
    "# Model Selection with TPOT\n",
    "\n",
    "* TPOT uses genetic programming to optimize a machine learning pipeline that optimize the model performance. It has internal k-fold cross-validaton. At the end of the pipeline optimization procedure, the best pipeline is trained on the entire set of provided samples, and you can export the best pipeline code.\n"
   ]
  },
  {
   "cell_type": "code",
   "execution_count": 12,
   "metadata": {},
   "outputs": [],
   "source": [
    "import pandas as pd\n",
    "from tpot import TPOTRegressor, TPOTClassifier\n",
    "from sklearn.model_selection import train_test_split\n",
    "from sklearn.metrics import r2_score, balanced_accuracy_score\n",
    "import timeit"
   ]
  },
  {
   "cell_type": "markdown",
   "metadata": {},
   "source": [
    "## About TPOT API\n",
    "\n",
    "* TPOT API: http://epistasislab.github.io/tpot/api/\n",
    "  * Different choices for `config_dict`: http://epistasislab.github.io/tpot/using/#built-in-tpot-configurations\n",
    "    * The defualt choice takes very long time for large dataset...\n",
    "  * `generations` is the number of iterations to run the pipeline optimiation\n",
    "  * `popluation_size` is the number of pipelines to retain in the genetic programming population every generation\n",
    "  * Larger `generations` and `popluation_size` will take longer time to execute the pipeline, may not always bring better performance\n",
    "  * Details of available values for each parameter: http://epistasislab.github.io/tpot/using/#tpot-on-the-command-line\n",
    "  * How to use customized scoring function: http://epistasislab.github.io/tpot/using/#scoring-functions\n",
    "  \n",
    "### Regression"
   ]
  },
  {
   "cell_type": "code",
   "execution_count": 7,
   "metadata": {},
   "outputs": [
    {
     "name": "stdout",
     "output_type": "stream",
     "text": [
      "(532529, 19) (161332, 19) (532529,) (161332,)\n"
     ]
    },
    {
     "data": {
      "text/html": [
       "<div>\n",
       "<style scoped>\n",
       "    .dataframe tbody tr th:only-of-type {\n",
       "        vertical-align: middle;\n",
       "    }\n",
       "\n",
       "    .dataframe tbody tr th {\n",
       "        vertical-align: top;\n",
       "    }\n",
       "\n",
       "    .dataframe thead th {\n",
       "        text-align: right;\n",
       "    }\n",
       "</style>\n",
       "<table border=\"1\" class=\"dataframe\">\n",
       "  <thead>\n",
       "    <tr style=\"text-align: right;\">\n",
       "      <th></th>\n",
       "      <th>Store</th>\n",
       "      <th>Month</th>\n",
       "      <th>Quarter</th>\n",
       "      <th>Customers_larger_than_3000</th>\n",
       "      <th>StoreType</th>\n",
       "      <th>Assortment</th>\n",
       "      <th>CompetitionDistance</th>\n",
       "      <th>CompetitionOpenSinceMonth</th>\n",
       "      <th>CompetitionOpenSinceYear</th>\n",
       "      <th>Promo2</th>\n",
       "      <th>Promo2SinceWeek</th>\n",
       "      <th>Promo2SinceYear</th>\n",
       "      <th>PromoInterval</th>\n",
       "      <th>DayOfWeek</th>\n",
       "      <th>Customers</th>\n",
       "      <th>Open</th>\n",
       "      <th>Promo</th>\n",
       "      <th>StateHoliday</th>\n",
       "      <th>SchoolHoliday</th>\n",
       "    </tr>\n",
       "  </thead>\n",
       "  <tbody>\n",
       "    <tr>\n",
       "      <th>0</th>\n",
       "      <td>1</td>\n",
       "      <td>12</td>\n",
       "      <td>729</td>\n",
       "      <td>0.0</td>\n",
       "      <td>2</td>\n",
       "      <td>0</td>\n",
       "      <td>1270.0</td>\n",
       "      <td>9</td>\n",
       "      <td>2008</td>\n",
       "      <td>0</td>\n",
       "      <td>-1</td>\n",
       "      <td>-1</td>\n",
       "      <td>0</td>\n",
       "      <td>3</td>\n",
       "      <td>327</td>\n",
       "      <td>1</td>\n",
       "      <td>0</td>\n",
       "      <td>0</td>\n",
       "      <td>1</td>\n",
       "    </tr>\n",
       "    <tr>\n",
       "      <th>1</th>\n",
       "      <td>1</td>\n",
       "      <td>12</td>\n",
       "      <td>728</td>\n",
       "      <td>0.0</td>\n",
       "      <td>2</td>\n",
       "      <td>0</td>\n",
       "      <td>1270.0</td>\n",
       "      <td>9</td>\n",
       "      <td>2008</td>\n",
       "      <td>0</td>\n",
       "      <td>-1</td>\n",
       "      <td>-1</td>\n",
       "      <td>0</td>\n",
       "      <td>2</td>\n",
       "      <td>703</td>\n",
       "      <td>1</td>\n",
       "      <td>0</td>\n",
       "      <td>0</td>\n",
       "      <td>1</td>\n",
       "    </tr>\n",
       "    <tr>\n",
       "      <th>2</th>\n",
       "      <td>1</td>\n",
       "      <td>12</td>\n",
       "      <td>727</td>\n",
       "      <td>0.0</td>\n",
       "      <td>2</td>\n",
       "      <td>0</td>\n",
       "      <td>1270.0</td>\n",
       "      <td>9</td>\n",
       "      <td>2008</td>\n",
       "      <td>0</td>\n",
       "      <td>-1</td>\n",
       "      <td>-1</td>\n",
       "      <td>0</td>\n",
       "      <td>1</td>\n",
       "      <td>700</td>\n",
       "      <td>1</td>\n",
       "      <td>0</td>\n",
       "      <td>0</td>\n",
       "      <td>1</td>\n",
       "    </tr>\n",
       "    <tr>\n",
       "      <th>3</th>\n",
       "      <td>1</td>\n",
       "      <td>12</td>\n",
       "      <td>726</td>\n",
       "      <td>0.0</td>\n",
       "      <td>2</td>\n",
       "      <td>0</td>\n",
       "      <td>1270.0</td>\n",
       "      <td>9</td>\n",
       "      <td>2008</td>\n",
       "      <td>0</td>\n",
       "      <td>-1</td>\n",
       "      <td>-1</td>\n",
       "      <td>0</td>\n",
       "      <td>7</td>\n",
       "      <td>0</td>\n",
       "      <td>0</td>\n",
       "      <td>0</td>\n",
       "      <td>0</td>\n",
       "      <td>1</td>\n",
       "    </tr>\n",
       "    <tr>\n",
       "      <th>4</th>\n",
       "      <td>1</td>\n",
       "      <td>12</td>\n",
       "      <td>725</td>\n",
       "      <td>0.0</td>\n",
       "      <td>2</td>\n",
       "      <td>0</td>\n",
       "      <td>1270.0</td>\n",
       "      <td>9</td>\n",
       "      <td>2008</td>\n",
       "      <td>0</td>\n",
       "      <td>-1</td>\n",
       "      <td>-1</td>\n",
       "      <td>0</td>\n",
       "      <td>6</td>\n",
       "      <td>684</td>\n",
       "      <td>1</td>\n",
       "      <td>0</td>\n",
       "      <td>0</td>\n",
       "      <td>1</td>\n",
       "    </tr>\n",
       "  </tbody>\n",
       "</table>\n",
       "</div>"
      ],
      "text/plain": [
       "  Store Month Quarter  Customers_larger_than_3000 StoreType Assortment  \\\n",
       "0     1    12     729                         0.0         2          0   \n",
       "1     1    12     728                         0.0         2          0   \n",
       "2     1    12     727                         0.0         2          0   \n",
       "3     1    12     726                         0.0         2          0   \n",
       "4     1    12     725                         0.0         2          0   \n",
       "\n",
       "   CompetitionDistance CompetitionOpenSinceMonth CompetitionOpenSinceYear  \\\n",
       "0               1270.0                         9                     2008   \n",
       "1               1270.0                         9                     2008   \n",
       "2               1270.0                         9                     2008   \n",
       "3               1270.0                         9                     2008   \n",
       "4               1270.0                         9                     2008   \n",
       "\n",
       "  Promo2 Promo2SinceWeek Promo2SinceYear PromoInterval DayOfWeek  Customers  \\\n",
       "0      0              -1              -1             0         3        327   \n",
       "1      0              -1              -1             0         2        703   \n",
       "2      0              -1              -1             0         1        700   \n",
       "3      0              -1              -1             0         7          0   \n",
       "4      0              -1              -1             0         6        684   \n",
       "\n",
       "  Open Promo StateHoliday SchoolHoliday  \n",
       "0    1     0            0             1  \n",
       "1    1     0            0             1  \n",
       "2    1     0            0             1  \n",
       "3    0     0            0             1  \n",
       "4    1     0            0             1  "
      ]
     },
     "execution_count": 7,
     "metadata": {},
     "output_type": "execute_result"
    }
   ],
   "source": [
    "df = pd.read_pickle('../luigi_pipeline/output/preprocessed_data.pkl')\n",
    "\n",
    "# train, test split for df\n",
    "train_df = df.loc[df['Year'].astype(str) < '2015']\n",
    "test_df = df.loc[df['Year'].astype(str) == '2015']\n",
    "\n",
    "y_train, y_test = train_df['Sales'], test_df['Sales']\n",
    "X_train, X_test = train_df.drop(['Sales', 'Date', 'Year'], axis=1), test_df.drop(['Sales', 'Date', 'Year'], axis=1)\n",
    "\n",
    "X_train.reset_index(inplace=True, drop=True)\n",
    "X_test.reset_index(inplace=True, drop=True)\n",
    "y_train.reset_index(inplace=True, drop=True)\n",
    "y_test.reset_index(inplace=True, drop=True)\n",
    "\n",
    "print(X_train.shape, X_test.shape, y_train.shape, y_test.shape)\n",
    "X_train.head()"
   ]
  },
  {
   "cell_type": "code",
   "execution_count": 3,
   "metadata": {},
   "outputs": [
    {
     "data": {
      "application/vnd.jupyter.widget-view+json": {
       "model_id": "",
       "version_major": 2,
       "version_minor": 0
      },
      "text/plain": [
       "HBox(children=(FloatProgress(value=0.0, description='Optimization Progress', max=600.0, style=ProgressStyle(de…"
      ]
     },
     "metadata": {},
     "output_type": "display_data"
    },
    {
     "name": "stdout",
     "output_type": "stream",
     "text": [
      "\n",
      "Generation 1 - Current best internal CV score: -1700568.1847760915\n",
      "\n",
      "Generation 2 - Current best internal CV score: -1529739.2334290748\n",
      "\n",
      "Generation 3 - Current best internal CV score: -1529739.2334290748\n",
      "\n",
      "Generation 4 - Current best internal CV score: -1526786.2560226254\n",
      "\n",
      "Generation 5 - Current best internal CV score: -1526786.2560226254\n",
      "\n",
      "Best pipeline: LassoLarsCV(VarianceThreshold(MinMaxScaler(ZeroCount(input_matrix)), threshold=0.001), normalize=False)\n",
      "Time: 14507.524469 seconds\n"
     ]
    }
   ],
   "source": [
    "GENERATIONS = 5\n",
    "POPULATION_SIZE = 100\n",
    "CV = 5\n",
    "SEED = 10\n",
    "\n",
    "tpot_regression = TPOTRegressor(\n",
    "    generations=GENERATIONS,\n",
    "    population_size=POPULATION_SIZE,\n",
    "    random_state=SEED,\n",
    "    config_dict='TPOT light',\n",
    "    n_jobs=-1, \n",
    "    cv=CV,\n",
    "    verbosity=2,\n",
    ")\n",
    "\n",
    "start = timeit.default_timer()\n",
    "tpot_regression.fit(X_train, y_train)\n",
    "stop = timeit.default_timer()\n",
    "print(f'Time: {stop - start} seconds')"
   ]
  },
  {
   "cell_type": "code",
   "execution_count": 6,
   "metadata": {},
   "outputs": [
    {
     "name": "stdout",
     "output_type": "stream",
     "text": [
      "0.8966096700362922\n",
      "\n",
      "import numpy as np\n",
      "import pandas as pd\n",
      "from sklearn.feature_selection import VarianceThreshold\n",
      "from sklearn.linear_model import LassoLarsCV\n",
      "from sklearn.model_selection import train_test_split\n",
      "from sklearn.pipeline import make_pipeline\n",
      "from sklearn.preprocessing import MinMaxScaler\n",
      "from tpot.builtins import ZeroCount\n",
      "from tpot.export_utils import set_param_recursive\n",
      "\n",
      "# NOTE: Make sure that the outcome column is labeled 'target' in the data file\n",
      "tpot_data = pd.read_csv('PATH/TO/DATA/FILE', sep='COLUMN_SEPARATOR', dtype=np.float64)\n",
      "features = tpot_data.drop('target', axis=1)\n",
      "training_features, testing_features, training_target, testing_target = \\\n",
      "            train_test_split(features, tpot_data['target'], random_state=10)\n",
      "\n",
      "# Average CV score on the training set was: -1526786.2560226254\n",
      "exported_pipeline = make_pipeline(\n",
      "    ZeroCount(),\n",
      "    MinMaxScaler(),\n",
      "    VarianceThreshold(threshold=0.001),\n",
      "    LassoLarsCV(normalize=False)\n",
      ")\n",
      "# Fix random state for all the steps in exported pipeline\n",
      "set_param_recursive(exported_pipeline.steps, 'random_state', 10)\n",
      "\n",
      "exported_pipeline.fit(training_features, training_target)\n",
      "results = exported_pipeline.predict(testing_features)\n",
      "\n"
     ]
    },
    {
     "name": "stderr",
     "output_type": "stream",
     "text": [
      "C:\\Users\\wuhan\\anaconda3\\lib\\site-packages\\sklearn\\utils\\validation.py:63: FutureWarning: Arrays of bytes/strings is being converted to decimal numbers if dtype='numeric'. This behavior is deprecated in 0.24 and will be removed in 1.1 (renaming of 0.26). Please convert your data to numeric values explicitly instead.\n",
      "  return f(*args, **kwargs)\n"
     ]
    }
   ],
   "source": [
    "preds = tpot_regression.predict(X_test)\n",
    "print(r2_score(y_test, preds))\n",
    "print()\n",
    "\n",
    "tpot_regression.export('tpot_exported_pipeline/tpot_regression_sales_pipeline.py')\n",
    "print(tpot_regression.export())"
   ]
  },
  {
   "cell_type": "markdown",
   "metadata": {},
   "source": [
    "### Classification"
   ]
  },
  {
   "cell_type": "code",
   "execution_count": 8,
   "metadata": {},
   "outputs": [
    {
     "name": "stdout",
     "output_type": "stream",
     "text": [
      "(272, 15) (68, 15) (272,) (68,)\n",
      "30 30\n"
     ]
    }
   ],
   "source": [
    "df30 = pd.read_csv('../../crystal_ball/data_collector/structured_data/leaf.csv')\n",
    "\n",
    "y30 = df30['species']\n",
    "X30 = df30.drop('species', axis=1)\n",
    "\n",
    "X_train30, X_test30, y_train30, y_test30 = train_test_split(X30, y30, test_size=0.2,\n",
    "                                               random_state=10, shuffle=True, stratify=y30)\n",
    "\n",
    "X_train30.reset_index(inplace=True, drop=True)\n",
    "X_test30.reset_index(inplace=True, drop=True)\n",
    "y_train30.reset_index(inplace=True, drop=True)\n",
    "y_test30.reset_index(inplace=True, drop=True)\n",
    "\n",
    "print(X_train30.shape, X_test30.shape, y_train30.shape, y_test30.shape)\n",
    "print(y_train30.nunique(), y_test30.nunique())"
   ]
  },
  {
   "cell_type": "code",
   "execution_count": 22,
   "metadata": {},
   "outputs": [
    {
     "data": {
      "application/vnd.jupyter.widget-view+json": {
       "model_id": "",
       "version_major": 2,
       "version_minor": 0
      },
      "text/plain": [
       "HBox(children=(FloatProgress(value=0.0, description='Optimization Progress', max=600.0, style=ProgressStyle(de…"
      ]
     },
     "metadata": {},
     "output_type": "display_data"
    },
    {
     "name": "stdout",
     "output_type": "stream",
     "text": [
      "\n",
      "Generation 1 - Current best internal CV score: 0.8679030263935925\n",
      "\n",
      "Generation 2 - Current best internal CV score: 0.8748283878944256\n",
      "\n",
      "Generation 3 - Current best internal CV score: 0.8748283878944256\n",
      "\n",
      "Generation 4 - Current best internal CV score: 0.8748283878944256\n",
      "\n",
      "Generation 5 - Current best internal CV score: 0.8852058781368808\n",
      "\n",
      "Best pipeline: GaussianNB(PCA(Normalizer(ZeroCount(SelectFwe(input_matrix, alpha=0.007)), norm=l1), iterated_power=7, svd_solver=randomized))\n",
      "Time: 61.20634079999945 seconds\n"
     ]
    }
   ],
   "source": [
    "GENERATIONS = 5\n",
    "POPULATION_SIZE = 100\n",
    "CV = 5\n",
    "SEED = 10\n",
    "\n",
    "tpot_classification = TPOTClassifier(\n",
    "    generations=GENERATIONS,\n",
    "    population_size=POPULATION_SIZE,\n",
    "    random_state=SEED,\n",
    "    config_dict='TPOT light',\n",
    "    scoring='balanced_accuracy',\n",
    "    n_jobs=-1, \n",
    "    cv=CV,\n",
    "    verbosity=2,\n",
    ")\n",
    "\n",
    "start = timeit.default_timer()\n",
    "tpot_classification.fit(X_train30, y_train30)\n",
    "stop = timeit.default_timer()\n",
    "print(f'Time: {stop - start} seconds')"
   ]
  },
  {
   "cell_type": "code",
   "execution_count": 19,
   "metadata": {},
   "outputs": [
    {
     "name": "stdout",
     "output_type": "stream",
     "text": [
      "0.8055555555555555\n",
      "\n",
      "import numpy as np\n",
      "import pandas as pd\n",
      "from sklearn.decomposition import PCA\n",
      "from sklearn.feature_selection import SelectFwe, f_classif\n",
      "from sklearn.model_selection import train_test_split\n",
      "from sklearn.naive_bayes import GaussianNB\n",
      "from sklearn.pipeline import make_pipeline\n",
      "from sklearn.preprocessing import Normalizer\n",
      "from tpot.builtins import ZeroCount\n",
      "from tpot.export_utils import set_param_recursive\n",
      "\n",
      "# NOTE: Make sure that the outcome column is labeled 'target' in the data file\n",
      "tpot_data = pd.read_csv('PATH/TO/DATA/FILE', sep='COLUMN_SEPARATOR', dtype=np.float64)\n",
      "features = tpot_data.drop('target', axis=1)\n",
      "training_features, testing_features, training_target, testing_target = \\\n",
      "            train_test_split(features, tpot_data['target'], random_state=10)\n",
      "\n",
      "# Average CV score on the training set was: 0.7830976430976431\n",
      "exported_pipeline = make_pipeline(\n",
      "    SelectFwe(score_func=f_classif, alpha=0.007),\n",
      "    Normalizer(norm=\"l2\"),\n",
      "    ZeroCount(),\n",
      "    ZeroCount(),\n",
      "    PCA(iterated_power=7, svd_solver=\"randomized\"),\n",
      "    GaussianNB()\n",
      ")\n",
      "# Fix random state for all the steps in exported pipeline\n",
      "set_param_recursive(exported_pipeline.steps, 'random_state', 10)\n",
      "\n",
      "exported_pipeline.fit(training_features, training_target)\n",
      "results = exported_pipeline.predict(testing_features)\n",
      "\n"
     ]
    }
   ],
   "source": [
    "preds30 = tpot_classification.predict(X_test30)\n",
    "print(balanced_accuracy_score(y_test30, preds30))\n",
    "print()\n",
    "\n",
    "tpot_classification.export('tpot_exported_pipeline/tpot_classification_leaves30_pipeline.py')\n",
    "print(tpot_classification.export())"
   ]
  }
 ],
 "metadata": {
  "kernelspec": {
   "display_name": "garden_market",
   "language": "python",
   "name": "garden_market"
  },
  "language_info": {
   "codemirror_mode": {
    "name": "ipython",
    "version": 3
   },
   "file_extension": ".py",
   "mimetype": "text/x-python",
   "name": "python",
   "nbconvert_exporter": "python",
   "pygments_lexer": "ipython3",
   "version": "3.9.19"
  }
 },
 "nbformat": 4,
 "nbformat_minor": 4
}

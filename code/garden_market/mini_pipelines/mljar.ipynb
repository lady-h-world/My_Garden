{
 "cells": [
  {
   "cell_type": "markdown",
   "metadata": {},
   "source": [
    "Licensed under the MIT License.\n",
    "\n",
    "Copyright (c) 2021-2031. All rights reserved.\n",
    "\n",
    "# Model Selection with MLJAR\n",
    "\n",
    "* MLJAR's automl params: https://supervised.mljar.com/api/\n",
    "* Checklist of modes: https://supervised.mljar.com/features/modes/\n",
    "* Steps of mljar's automl: https://supervised.mljar.com/features/automl/"
   ]
  },
  {
   "cell_type": "code",
   "execution_count": 1,
   "metadata": {},
   "outputs": [],
   "source": [
    "from supervised.automl import AutoML\n",
    "import pandas as pd\n",
    "import numpy as np\n",
    "from sklearn.model_selection import train_test_split\n",
    "from sklearn.metrics import r2_score, balanced_accuracy_score\n",
    "\n",
    "import warnings\n",
    "warnings.filterwarnings('ignore')"
   ]
  },
  {
   "cell_type": "markdown",
   "metadata": {},
   "source": [
    "### Regression"
   ]
  },
  {
   "cell_type": "code",
   "execution_count": 2,
   "metadata": {},
   "outputs": [
    {
     "name": "stdout",
     "output_type": "stream",
     "text": [
      "(693861, 22)\n",
      "(532529, 3) (161332, 3) (532529,) (161332,)\n"
     ]
    },
    {
     "data": {
      "text/html": [
       "<div>\n",
       "<style scoped>\n",
       "    .dataframe tbody tr th:only-of-type {\n",
       "        vertical-align: middle;\n",
       "    }\n",
       "\n",
       "    .dataframe tbody tr th {\n",
       "        vertical-align: top;\n",
       "    }\n",
       "\n",
       "    .dataframe thead th {\n",
       "        text-align: right;\n",
       "    }\n",
       "</style>\n",
       "<table border=\"1\" class=\"dataframe\">\n",
       "  <thead>\n",
       "    <tr style=\"text-align: right;\">\n",
       "      <th></th>\n",
       "      <th>Customers_larger_than_3000</th>\n",
       "      <th>CompetitionDistance</th>\n",
       "      <th>Customers</th>\n",
       "    </tr>\n",
       "  </thead>\n",
       "  <tbody>\n",
       "    <tr>\n",
       "      <th>0</th>\n",
       "      <td>0.0</td>\n",
       "      <td>1270.0</td>\n",
       "      <td>327</td>\n",
       "    </tr>\n",
       "    <tr>\n",
       "      <th>1</th>\n",
       "      <td>0.0</td>\n",
       "      <td>1270.0</td>\n",
       "      <td>703</td>\n",
       "    </tr>\n",
       "    <tr>\n",
       "      <th>2</th>\n",
       "      <td>0.0</td>\n",
       "      <td>1270.0</td>\n",
       "      <td>700</td>\n",
       "    </tr>\n",
       "    <tr>\n",
       "      <th>3</th>\n",
       "      <td>0.0</td>\n",
       "      <td>1270.0</td>\n",
       "      <td>0</td>\n",
       "    </tr>\n",
       "    <tr>\n",
       "      <th>4</th>\n",
       "      <td>0.0</td>\n",
       "      <td>1270.0</td>\n",
       "      <td>684</td>\n",
       "    </tr>\n",
       "  </tbody>\n",
       "</table>\n",
       "</div>"
      ],
      "text/plain": [
       "   Customers_larger_than_3000  CompetitionDistance  Customers\n",
       "0                         0.0               1270.0        327\n",
       "1                         0.0               1270.0        703\n",
       "2                         0.0               1270.0        700\n",
       "3                         0.0               1270.0          0\n",
       "4                         0.0               1270.0        684"
      ]
     },
     "execution_count": 2,
     "metadata": {},
     "output_type": "execute_result"
    }
   ],
   "source": [
    "df = pd.read_pickle('../luigi_pipeline/output/preprocessed_data.pkl')\n",
    "print(df.shape)\n",
    "\n",
    "# drop categorical features, only keep numerical features\n",
    "cat_cols = [col for col in df.select_dtypes(include='category').columns if col != 'Year']\n",
    "df.drop(cat_cols, axis=1, inplace=True)\n",
    "\n",
    "train_df = df.loc[df['Year'].astype(str) < '2015']\n",
    "test_df = df.loc[df['Year'].astype(str) == '2015']\n",
    "\n",
    "y_train, y_test = train_df['Sales'], test_df['Sales']\n",
    "X_train, X_test = train_df.drop(['Sales', 'Date', 'Year'], axis=1), test_df.drop(['Sales', 'Date', 'Year'], axis=1)\n",
    "\n",
    "X_train.reset_index(inplace=True, drop=True)\n",
    "X_test.reset_index(inplace=True, drop=True)\n",
    "y_train.reset_index(inplace=True, drop=True)\n",
    "y_test.reset_index(inplace=True, drop=True)\n",
    "\n",
    "print(X_train.shape, X_test.shape, y_train.shape, y_test.shape)\n",
    "X_train.head()"
   ]
  },
  {
   "cell_type": "code",
   "execution_count": 4,
   "metadata": {},
   "outputs": [
    {
     "name": "stdout",
     "output_type": "stream",
     "text": [
      "Linear algorithm was disabled.\n",
      "AutoML directory: mljar_regression\n",
      "The task is regression with evaluation metric r2\n",
      "AutoML will use algorithms: ['Decision Tree', 'Random Forest', 'Extra Trees', 'LightGBM', 'Xgboost', 'CatBoost', 'Neural Network', 'Nearest Neighbors']\n",
      "AutoML will stack models\n",
      "AutoML will ensemble available models\n",
      "AutoML steps: ['simple_algorithms', 'default_algorithms', 'not_so_random', 'golden_features', 'kmeans_features', 'insert_random_feature', 'features_selection', 'hill_climbing_1', 'hill_climbing_2', 'boost_on_errors', 'ensemble', 'stack', 'ensemble_stacked']\n",
      "* Step simple_algorithms will try to check up to 3 models\n",
      "1_DecisionTree r2 0.847607 trained in 46.42 seconds\n",
      "2_DecisionTree r2 0.747035 trained in 23.12 seconds\n",
      "3_DecisionTree r2 0.824 trained in 30.68 seconds\n",
      "* Step default_algorithms will try to check up to 6 models\n",
      "4_Default_LightGBM r2 0.942309 trained in 2730.99 seconds\n",
      "Skip not_so_random because of the time limit.\n",
      "Skip golden_features because of the time limit.\n",
      "Skip kmeans_features because of the time limit.\n",
      "Skip insert_random_feature because of the time limit.\n",
      "Skip features_selection because no parameters were generated.\n",
      "Skip hill_climbing_1 because of the time limit.\n",
      "* Step hill_climbing_2 will try to check up to 5 models\n",
      "7_DecisionTree r2 0.847607 trained in 55.03 seconds\n",
      "8_DecisionTree r2 0.824 trained in 35.05 seconds\n",
      "* Step boost_on_errors will try to check up to 1 model\n",
      "1_DecisionTree_BoostOnErrors r2 0.849443 trained in 43.93 seconds\n",
      "* Step ensemble will try to check up to 1 model\n",
      "Ensemble r2 0.942309 trained in 1.24 seconds\n",
      "* Step stack will try to check up to 1 model\n",
      "4_Default_LightGBM_Stacked r2 0.942304 trained in 571.47 seconds\n",
      "* Step ensemble_stacked will try to check up to 1 model\n",
      "Ensemble_Stacked r2 0.942472 trained in 3.32 seconds\n",
      "AutoML fit time: 3581.81 seconds\n",
      "AutoML best model: Ensemble_Stacked\n"
     ]
    },
    {
     "data": {
      "text/plain": [
       "AutoML(eval_metric='r2', explain_level=2, mode='Compete', random_state=10,\n",
       "       results_path='mljar_regression',\n",
       "       validation_strategy={'k_folds': 10, 'random_seed': 10, 'shuffle': True,\n",
       "                            'stratify': True, 'validation_type': 'kfold'})"
      ]
     },
     "execution_count": 4,
     "metadata": {},
     "output_type": "execute_result"
    }
   ],
   "source": [
    "automl = AutoML(mode=\"Compete\", eval_metric='r2', explain_level=2, random_state=10,\n",
    "                results_path='mljar_regression',\n",
    "               validation_strategy={\n",
    "                   \"validation_type\": \"kfold\",\n",
    "                    \"k_folds\": 10,\n",
    "                    \"shuffle\": True,\n",
    "                    \"stratify\": True,\n",
    "                    \"random_seed\": 10\n",
    "               })\n",
    "automl.fit(X_train, y_train)"
   ]
  },
  {
   "cell_type": "code",
   "execution_count": 5,
   "metadata": {},
   "outputs": [
    {
     "name": "stdout",
     "output_type": "stream",
     "text": [
      "Test R2: 0.9377363242318557\n"
     ]
    }
   ],
   "source": [
    "y_pred = automl.predict(X_test)\n",
    "print(\"Test R2:\", r2_score(y_test, y_pred))"
   ]
  },
  {
   "cell_type": "code",
   "execution_count": 6,
   "metadata": {},
   "outputs": [
    {
     "name": "stdout",
     "output_type": "stream",
     "text": [
      "Test R2: 0.9377363242318557\n"
     ]
    }
   ],
   "source": [
    "# load saved model\n",
    "loaded_automl = AutoML(results_path='mljar_regression')\n",
    "y_pred = loaded_automl.predict(X_test)\n",
    "print(\"Test R2:\", r2_score(y_test, y_pred))"
   ]
  },
  {
   "cell_type": "markdown",
   "metadata": {},
   "source": [
    "### Classification\n",
    "#### 1 hour default time limit"
   ]
  },
  {
   "cell_type": "code",
   "execution_count": 18,
   "metadata": {},
   "outputs": [
    {
     "name": "stdout",
     "output_type": "stream",
     "text": [
      "(272, 15) (68, 15) (272,) (68,)\n",
      "30 30\n"
     ]
    },
    {
     "data": {
      "text/html": [
       "<div>\n",
       "<style scoped>\n",
       "    .dataframe tbody tr th:only-of-type {\n",
       "        vertical-align: middle;\n",
       "    }\n",
       "\n",
       "    .dataframe tbody tr th {\n",
       "        vertical-align: top;\n",
       "    }\n",
       "\n",
       "    .dataframe thead th {\n",
       "        text-align: right;\n",
       "    }\n",
       "</style>\n",
       "<table border=\"1\" class=\"dataframe\">\n",
       "  <thead>\n",
       "    <tr style=\"text-align: right;\">\n",
       "      <th></th>\n",
       "      <th>specimen_number</th>\n",
       "      <th>eccentricity</th>\n",
       "      <th>aspect_ratio</th>\n",
       "      <th>elongation</th>\n",
       "      <th>solidity</th>\n",
       "      <th>stochastic_convexity</th>\n",
       "      <th>isoperimetric_factor</th>\n",
       "      <th>maximal_indentation_depth</th>\n",
       "      <th>lobedness</th>\n",
       "      <th>average_intensity</th>\n",
       "      <th>average_contrast</th>\n",
       "      <th>smoothness</th>\n",
       "      <th>third_moment</th>\n",
       "      <th>uniformity</th>\n",
       "      <th>entropy</th>\n",
       "    </tr>\n",
       "  </thead>\n",
       "  <tbody>\n",
       "    <tr>\n",
       "      <th>0</th>\n",
       "      <td>6</td>\n",
       "      <td>0.55977</td>\n",
       "      <td>1.3442</td>\n",
       "      <td>0.34301</td>\n",
       "      <td>0.92980</td>\n",
       "      <td>0.97544</td>\n",
       "      <td>0.57879</td>\n",
       "      <td>0.053564</td>\n",
       "      <td>0.522180</td>\n",
       "      <td>0.149050</td>\n",
       "      <td>0.255430</td>\n",
       "      <td>0.061249</td>\n",
       "      <td>0.023810</td>\n",
       "      <td>0.000597</td>\n",
       "      <td>2.41300</td>\n",
       "    </tr>\n",
       "    <tr>\n",
       "      <th>1</th>\n",
       "      <td>2</td>\n",
       "      <td>0.87024</td>\n",
       "      <td>2.1094</td>\n",
       "      <td>0.52863</td>\n",
       "      <td>0.98360</td>\n",
       "      <td>0.99298</td>\n",
       "      <td>0.60784</td>\n",
       "      <td>0.003174</td>\n",
       "      <td>0.001833</td>\n",
       "      <td>0.026902</td>\n",
       "      <td>0.091391</td>\n",
       "      <td>0.008283</td>\n",
       "      <td>0.002439</td>\n",
       "      <td>0.000161</td>\n",
       "      <td>0.73904</td>\n",
       "    </tr>\n",
       "    <tr>\n",
       "      <th>2</th>\n",
       "      <td>6</td>\n",
       "      <td>0.63965</td>\n",
       "      <td>1.2323</td>\n",
       "      <td>0.60663</td>\n",
       "      <td>0.77037</td>\n",
       "      <td>0.62105</td>\n",
       "      <td>0.24135</td>\n",
       "      <td>0.124380</td>\n",
       "      <td>2.815500</td>\n",
       "      <td>0.025438</td>\n",
       "      <td>0.096215</td>\n",
       "      <td>0.009172</td>\n",
       "      <td>0.003421</td>\n",
       "      <td>0.000052</td>\n",
       "      <td>0.75194</td>\n",
       "    </tr>\n",
       "    <tr>\n",
       "      <th>3</th>\n",
       "      <td>10</td>\n",
       "      <td>0.39606</td>\n",
       "      <td>1.1647</td>\n",
       "      <td>0.29415</td>\n",
       "      <td>0.94064</td>\n",
       "      <td>0.99298</td>\n",
       "      <td>0.54860</td>\n",
       "      <td>0.025244</td>\n",
       "      <td>0.115980</td>\n",
       "      <td>0.051625</td>\n",
       "      <td>0.120140</td>\n",
       "      <td>0.014228</td>\n",
       "      <td>0.003721</td>\n",
       "      <td>0.000382</td>\n",
       "      <td>1.49430</td>\n",
       "    </tr>\n",
       "    <tr>\n",
       "      <th>4</th>\n",
       "      <td>6</td>\n",
       "      <td>0.37522</td>\n",
       "      <td>1.1417</td>\n",
       "      <td>0.81725</td>\n",
       "      <td>0.68511</td>\n",
       "      <td>0.58772</td>\n",
       "      <td>0.12523</td>\n",
       "      <td>0.091860</td>\n",
       "      <td>1.535800</td>\n",
       "      <td>0.114880</td>\n",
       "      <td>0.208610</td>\n",
       "      <td>0.041703</td>\n",
       "      <td>0.013344</td>\n",
       "      <td>0.000820</td>\n",
       "      <td>2.02810</td>\n",
       "    </tr>\n",
       "  </tbody>\n",
       "</table>\n",
       "</div>"
      ],
      "text/plain": [
       "   specimen_number  eccentricity  aspect_ratio  elongation  solidity  \\\n",
       "0                6       0.55977        1.3442     0.34301   0.92980   \n",
       "1                2       0.87024        2.1094     0.52863   0.98360   \n",
       "2                6       0.63965        1.2323     0.60663   0.77037   \n",
       "3               10       0.39606        1.1647     0.29415   0.94064   \n",
       "4                6       0.37522        1.1417     0.81725   0.68511   \n",
       "\n",
       "   stochastic_convexity  isoperimetric_factor  maximal_indentation_depth  \\\n",
       "0               0.97544               0.57879                   0.053564   \n",
       "1               0.99298               0.60784                   0.003174   \n",
       "2               0.62105               0.24135                   0.124380   \n",
       "3               0.99298               0.54860                   0.025244   \n",
       "4               0.58772               0.12523                   0.091860   \n",
       "\n",
       "   lobedness  average_intensity  average_contrast  smoothness  third_moment  \\\n",
       "0   0.522180           0.149050          0.255430    0.061249      0.023810   \n",
       "1   0.001833           0.026902          0.091391    0.008283      0.002439   \n",
       "2   2.815500           0.025438          0.096215    0.009172      0.003421   \n",
       "3   0.115980           0.051625          0.120140    0.014228      0.003721   \n",
       "4   1.535800           0.114880          0.208610    0.041703      0.013344   \n",
       "\n",
       "   uniformity  entropy  \n",
       "0    0.000597  2.41300  \n",
       "1    0.000161  0.73904  \n",
       "2    0.000052  0.75194  \n",
       "3    0.000382  1.49430  \n",
       "4    0.000820  2.02810  "
      ]
     },
     "execution_count": 18,
     "metadata": {},
     "output_type": "execute_result"
    }
   ],
   "source": [
    "df30 = pd.read_csv('../../crystal_ball/data_collector/structured_data/leaf.csv')\n",
    "\n",
    "y30 = df30['species']\n",
    "X30 = df30.drop('species', axis=1)\n",
    "\n",
    "X_train30, X_test30, y_train30, y_test30 = train_test_split(X30, y30, test_size=0.2,\n",
    "                                               random_state=10, shuffle=True, stratify=y30)\n",
    "\n",
    "X_train30.reset_index(inplace=True, drop=True)\n",
    "X_test30.reset_index(inplace=True, drop=True)\n",
    "y_train30.reset_index(inplace=True, drop=True)\n",
    "y_test30.reset_index(inplace=True, drop=True)\n",
    "\n",
    "print(X_train30.shape, X_test30.shape, y_train30.shape, y_test30.shape)\n",
    "print(y_train30.nunique(), y_test30.nunique())\n",
    "X_train30.head()"
   ]
  },
  {
   "cell_type": "code",
   "execution_count": 26,
   "metadata": {},
   "outputs": [
    {
     "name": "stdout",
     "output_type": "stream",
     "text": [
      "AutoML directory: mljar_classification\n",
      "The task is multiclass_classification with evaluation metric logloss\n",
      "AutoML will use algorithms: ['Decision Tree', 'Linear', 'Random Forest', 'Extra Trees', 'LightGBM', 'Xgboost', 'CatBoost', 'Neural Network', 'Nearest Neighbors']\n",
      "AutoML will stack models\n",
      "AutoML will ensemble available models\n",
      "AutoML steps: ['simple_algorithms', 'default_algorithms', 'not_so_random', 'golden_features', 'kmeans_features', 'insert_random_feature', 'features_selection', 'hill_climbing_1', 'hill_climbing_2', 'boost_on_errors', 'ensemble', 'stack', 'ensemble_stacked']\n",
      "* Step simple_algorithms will try to check up to 4 models\n",
      "1_DecisionTree logloss 2.420592 trained in 186.64 seconds\n",
      "2_DecisionTree logloss 2.869901 trained in 191.42 seconds\n",
      "3_DecisionTree logloss 1.901518 trained in 233.82 seconds\n",
      "4_Linear logloss 1.110228 trained in 280.24 seconds\n",
      "Skip default_algorithms because of the time limit.\n",
      "* Step not_so_random will try to check up to 63 models\n",
      "14_LightGBM logloss 0.186936 trained in 390.31 seconds\n",
      "5_Xgboost logloss 0.938666 trained in 416.7 seconds\n",
      "23_CatBoost logloss 0.135736 trained in 534.02 seconds\n",
      "Skip golden_features because of the time limit.\n",
      "Skip kmeans_features because of the time limit.\n",
      "Skip insert_random_feature because of the time limit.\n",
      "Skip features_selection because no parameters were generated.\n",
      "* Step hill_climbing_1 will try to check up to 7 models\n",
      "24_CatBoost logloss 0.123466 trained in 557.13 seconds\n",
      "* Step hill_climbing_2 will try to check up to 9 models\n",
      "25_CatBoost logloss 0.125554 trained in 448.54 seconds\n",
      "Skip boost_on_errors because of the time limit.\n",
      "* Step ensemble will try to check up to 1 model\n",
      "Ensemble logloss 0.117132 trained in 1.1 seconds\n",
      "* Step stack will try to check up to 5 models\n",
      "24_CatBoost_Stacked not trained. Stop training after the first fold. Time needed to train on the first fold 99.0 seconds. The time estimate for training on all folds is larger than total_time_limit.\n",
      "14_LightGBM_Stacked not trained. Force to stop the training. Total time for AutoML training already exceeded.\n",
      "Skip ensemble_stacked because no parameters were generated.\n",
      "AutoML fit time: 4295.25 seconds\n",
      "AutoML best model: Ensemble\n"
     ]
    },
    {
     "data": {
      "text/plain": [
       "AutoML(eval_metric='logloss', explain_level=2,\n",
       "       ml_task='multiclass_classification', mode='Compete', random_state=10,\n",
       "       results_path='mljar_classification',\n",
       "       validation_strategy={'k_folds': 5, 'random_seed': 10, 'shuffle': True,\n",
       "                            'stratify': True, 'validation_type': 'kfold'})"
      ]
     },
     "execution_count": 26,
     "metadata": {},
     "output_type": "execute_result"
    }
   ],
   "source": [
    "automl_classification = AutoML(mode=\"Compete\", eval_metric='logloss', ml_task='multiclass_classification',\n",
    "                               explain_level=2, random_state=10,\n",
    "                               results_path='mljar_classification',\n",
    "                               validation_strategy={\n",
    "                                   \"validation_type\": \"kfold\",\n",
    "                                    \"k_folds\": 5,\n",
    "                                    \"shuffle\": True,\n",
    "                                    \"stratify\": True,\n",
    "                                    \"random_seed\": 10\n",
    "                               })\n",
    "automl_classification.fit(X_train30, y_train30)"
   ]
  },
  {
   "cell_type": "code",
   "execution_count": 28,
   "metadata": {},
   "outputs": [
    {
     "name": "stdout",
     "output_type": "stream",
     "text": [
      "Test Balabced Accuracy: 0.8444444444444444\n"
     ]
    }
   ],
   "source": [
    "y_pred30 = automl_classification.predict(X_test30)\n",
    "print(\"Test Balabced Accuracy:\", balanced_accuracy_score(y_test30, y_pred30))"
   ]
  },
  {
   "cell_type": "markdown",
   "metadata": {},
   "source": [
    "#### 6 minute time limit"
   ]
  },
  {
   "cell_type": "code",
   "execution_count": 30,
   "metadata": {},
   "outputs": [
    {
     "name": "stdout",
     "output_type": "stream",
     "text": [
      "AutoML directory: mljar_classification_6m\n",
      "The task is multiclass_classification with evaluation metric logloss\n",
      "AutoML will use algorithms: ['Decision Tree', 'Linear', 'Random Forest', 'Extra Trees', 'LightGBM', 'Xgboost', 'CatBoost', 'Neural Network', 'Nearest Neighbors']\n",
      "AutoML will stack models\n",
      "AutoML will ensemble available models\n",
      "AutoML steps: ['simple_algorithms', 'default_algorithms', 'not_so_random', 'golden_features', 'kmeans_features', 'insert_random_feature', 'features_selection', 'hill_climbing_1', 'hill_climbing_2', 'boost_on_errors', 'ensemble', 'stack', 'ensemble_stacked']\n",
      "* Step simple_algorithms will try to check up to 4 models\n",
      "1_DecisionTree logloss 2.420592 trained in 253.09 seconds\n",
      "4_Linear logloss 1.110228 trained in 239.96 seconds\n",
      "Skip default_algorithms because of the time limit.\n",
      "Skip not_so_random because of the time limit.\n",
      "Skip golden_features because no parameters were generated.\n",
      "'score' Traceback (most recent call last):\n",
      "  File \"C:\\Users\\wuhan\\anaconda3\\lib\\site-packages\\supervised\\tuner\\mljar_tuner.py\", line 210, in generate_params\n",
      "    models, results_path, total_time_limit\n",
      "  File \"C:\\Users\\wuhan\\anaconda3\\lib\\site-packages\\supervised\\tuner\\mljar_tuner.py\", line 787, in get_kmeans_features_params\n",
      "    current_models, time_limit=model_selection_time_limit, exclude_golden=True\n",
      "  File \"C:\\Users\\wuhan\\anaconda3\\lib\\site-packages\\supervised\\tuner\\mljar_tuner.py\", line 727, in df_models_algorithms\n",
      "    df_models.sort_values(by=\"score\", ascending=True, inplace=True)\n",
      "  File \"C:\\Users\\wuhan\\anaconda3\\lib\\site-packages\\pandas\\util\\_decorators.py\", line 311, in wrapper\n",
      "    return func(*args, **kwargs)\n",
      "  File \"C:\\Users\\wuhan\\anaconda3\\lib\\site-packages\\pandas\\core\\frame.py\", line 6259, in sort_values\n",
      "    k = self._get_label_or_level_values(by, axis=axis)\n",
      "  File \"C:\\Users\\wuhan\\anaconda3\\lib\\site-packages\\pandas\\core\\generic.py\", line 1779, in _get_label_or_level_values\n",
      "    raise KeyError(key)\n",
      "KeyError: 'score'\n",
      "\n",
      "Skip kmeans_features because no parameters were generated.\n",
      "Skip insert_random_feature because no parameters were generated.\n",
      "Skip features_selection because no parameters were generated.\n",
      "Skip hill_climbing_1 because of the time limit.\n",
      "Skip hill_climbing_2 because of the time limit.\n",
      "Skip boost_on_errors because no parameters were generated.\n",
      "* Step ensemble will try to check up to 1 model\n",
      "Ensemble logloss 1.110228 trained in 0.77 seconds\n",
      "Skip stack because no parameters were generated.\n",
      "Skip ensemble_stacked because no parameters were generated.\n",
      "AutoML fit time: 503.67 seconds\n",
      "AutoML best model: 4_Linear\n"
     ]
    },
    {
     "data": {
      "text/plain": [
       "AutoML(eval_metric='logloss', explain_level=2,\n",
       "       ml_task='multiclass_classification', mode='Compete', random_state=10,\n",
       "       results_path='mljar_classification_6m', total_time_limit=360,\n",
       "       validation_strategy={'k_folds': 5, 'random_seed': 10, 'shuffle': True,\n",
       "                            'stratify': True, 'validation_type': 'kfold'})"
      ]
     },
     "execution_count": 30,
     "metadata": {},
     "output_type": "execute_result"
    }
   ],
   "source": [
    "automl_classification_6m = AutoML(mode=\"Compete\", eval_metric='logloss', ml_task='multiclass_classification',\n",
    "                               total_time_limit=360,\n",
    "                               explain_level=2, random_state=10,\n",
    "                               results_path='mljar_classification_6m',\n",
    "                               validation_strategy={\n",
    "                                   \"validation_type\": \"kfold\",\n",
    "                                    \"k_folds\": 5,\n",
    "                                    \"shuffle\": True,\n",
    "                                    \"stratify\": True,\n",
    "                                    \"random_seed\": 10\n",
    "                               })\n",
    "automl_classification_6m.fit(X_train30, y_train30)"
   ]
  },
  {
   "cell_type": "code",
   "execution_count": 31,
   "metadata": {},
   "outputs": [
    {
     "name": "stdout",
     "output_type": "stream",
     "text": [
      "Test Balabced Accuracy: 0.6555555555555554\n"
     ]
    }
   ],
   "source": [
    "y_pred30_6m = automl_classification_6m.predict(X_test30)\n",
    "print(\"Test Balabced Accuracy:\", balanced_accuracy_score(y_test30, y_pred30_6m))"
   ]
  }
 ],
 "metadata": {
  "kernelspec": {
   "display_name": "garden_market",
   "language": "python",
   "name": "garden_market"
  },
  "language_info": {
   "codemirror_mode": {
    "name": "ipython",
    "version": 3
   },
   "file_extension": ".py",
   "mimetype": "text/x-python",
   "name": "python",
   "nbconvert_exporter": "python",
   "pygments_lexer": "ipython3",
   "version": "3.9.19"
  }
 },
 "nbformat": 4,
 "nbformat_minor": 4
}

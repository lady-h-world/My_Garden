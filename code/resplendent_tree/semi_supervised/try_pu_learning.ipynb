{
 "cells": [
  {
   "cell_type": "markdown",
   "metadata": {},
   "source": [
    "Licensed under the MIT License.\n",
    "\n",
    "Copyright (c) 2021-2031. All rights reserved.\n",
    "\n",
    "# Try PU Learning\n",
    "\n",
    "* Process\n",
    "  1. Predict `P(has_label=1 | sample)`, which is the probability of a record is labeled in the sample\n",
    "  2. `P(has_label=1 | positive_label=1 | sample)` is the probability of known positive labels in the sample, then get `P(has_label=1 | positive_label=1)`, which is the average of these probabilities\n",
    "  3. Predict `P(has_label=1 | data)`\n",
    "  4. `P(positive_label=1 | data) = P(has_label=1 | data) / P(has_label=1 | positive_label=1)`\n",
    "    * `P(positive_label=1 | data) * P(data) = P(has_label=1 | data) * P(data) / P(has_label=1 | positive_label=1)` ==> `P(positive_label=1 | data) = P(has_label=1 | data) / P(has_label=1 | positive_label=1)`\n",
    "* Reference: https://towardsdatascience.com/semi-supervised-classification-of-unlabeled-data-pu-learning-81f96e96f7cb"
   ]
  },
  {
   "cell_type": "code",
   "execution_count": 1,
   "metadata": {},
   "outputs": [],
   "source": [
    "import pandas as pd\n",
    "import numpy as np\n",
    "from sklearn.model_selection import train_test_split\n",
    "from sklearn.metrics import roc_auc_score\n",
    "from category_encoders import TargetEncoder\n",
    "import lightgbm as lgb\n",
    "from lightgbm import LGBMClassifier\n",
    "from matplotlib import pylab as plt\n",
    "\n",
    "import warnings\n",
    "warnings.filterwarnings('ignore')"
   ]
  },
  {
   "cell_type": "code",
   "execution_count": 2,
   "metadata": {},
   "outputs": [],
   "source": [
    "def mask_labels_1class_labeled(df, label_col, masked_label, partially_labeled_class=1, mask_rate=0.95):\n",
    "    df['keep_label'] = False \n",
    "    df.loc[df[df[label_col]==partially_labeled_class].sample(frac=1-mask_rate, random_state=10).index, 'keep_label'] = True\n",
    "    df[masked_label] = df.apply(lambda r: r[label_col] if r['keep_label']==True else -1, axis=1)\n",
    "    \n",
    "    return df"
   ]
  },
  {
   "cell_type": "code",
   "execution_count": 3,
   "metadata": {},
   "outputs": [
    {
     "name": "stdout",
     "output_type": "stream",
     "text": [
      "(11162, 17)\n",
      "0    5873\n",
      "1    5289\n",
      "Name: deposit, dtype: int64\n"
     ]
    },
    {
     "data": {
      "text/html": [
       "<div>\n",
       "<style scoped>\n",
       "    .dataframe tbody tr th:only-of-type {\n",
       "        vertical-align: middle;\n",
       "    }\n",
       "\n",
       "    .dataframe tbody tr th {\n",
       "        vertical-align: top;\n",
       "    }\n",
       "\n",
       "    .dataframe thead th {\n",
       "        text-align: right;\n",
       "    }\n",
       "</style>\n",
       "<table border=\"1\" class=\"dataframe\">\n",
       "  <thead>\n",
       "    <tr style=\"text-align: right;\">\n",
       "      <th></th>\n",
       "      <th>age</th>\n",
       "      <th>job</th>\n",
       "      <th>marital</th>\n",
       "      <th>education</th>\n",
       "      <th>default</th>\n",
       "      <th>balance</th>\n",
       "      <th>housing</th>\n",
       "      <th>loan</th>\n",
       "      <th>contact</th>\n",
       "      <th>day</th>\n",
       "      <th>month</th>\n",
       "      <th>duration</th>\n",
       "      <th>campaign</th>\n",
       "      <th>pdays</th>\n",
       "      <th>previous</th>\n",
       "      <th>poutcome</th>\n",
       "      <th>deposit</th>\n",
       "    </tr>\n",
       "  </thead>\n",
       "  <tbody>\n",
       "    <tr>\n",
       "      <th>0</th>\n",
       "      <td>59</td>\n",
       "      <td>admin.</td>\n",
       "      <td>married</td>\n",
       "      <td>secondary</td>\n",
       "      <td>no</td>\n",
       "      <td>2343</td>\n",
       "      <td>yes</td>\n",
       "      <td>no</td>\n",
       "      <td>unknown</td>\n",
       "      <td>5</td>\n",
       "      <td>may</td>\n",
       "      <td>1042</td>\n",
       "      <td>1</td>\n",
       "      <td>-1</td>\n",
       "      <td>0</td>\n",
       "      <td>unknown</td>\n",
       "      <td>1</td>\n",
       "    </tr>\n",
       "    <tr>\n",
       "      <th>1</th>\n",
       "      <td>56</td>\n",
       "      <td>admin.</td>\n",
       "      <td>married</td>\n",
       "      <td>secondary</td>\n",
       "      <td>no</td>\n",
       "      <td>45</td>\n",
       "      <td>no</td>\n",
       "      <td>no</td>\n",
       "      <td>unknown</td>\n",
       "      <td>5</td>\n",
       "      <td>may</td>\n",
       "      <td>1467</td>\n",
       "      <td>1</td>\n",
       "      <td>-1</td>\n",
       "      <td>0</td>\n",
       "      <td>unknown</td>\n",
       "      <td>1</td>\n",
       "    </tr>\n",
       "    <tr>\n",
       "      <th>2</th>\n",
       "      <td>41</td>\n",
       "      <td>technician</td>\n",
       "      <td>married</td>\n",
       "      <td>secondary</td>\n",
       "      <td>no</td>\n",
       "      <td>1270</td>\n",
       "      <td>yes</td>\n",
       "      <td>no</td>\n",
       "      <td>unknown</td>\n",
       "      <td>5</td>\n",
       "      <td>may</td>\n",
       "      <td>1389</td>\n",
       "      <td>1</td>\n",
       "      <td>-1</td>\n",
       "      <td>0</td>\n",
       "      <td>unknown</td>\n",
       "      <td>1</td>\n",
       "    </tr>\n",
       "    <tr>\n",
       "      <th>3</th>\n",
       "      <td>55</td>\n",
       "      <td>services</td>\n",
       "      <td>married</td>\n",
       "      <td>secondary</td>\n",
       "      <td>no</td>\n",
       "      <td>2476</td>\n",
       "      <td>yes</td>\n",
       "      <td>no</td>\n",
       "      <td>unknown</td>\n",
       "      <td>5</td>\n",
       "      <td>may</td>\n",
       "      <td>579</td>\n",
       "      <td>1</td>\n",
       "      <td>-1</td>\n",
       "      <td>0</td>\n",
       "      <td>unknown</td>\n",
       "      <td>1</td>\n",
       "    </tr>\n",
       "    <tr>\n",
       "      <th>4</th>\n",
       "      <td>54</td>\n",
       "      <td>admin.</td>\n",
       "      <td>married</td>\n",
       "      <td>tertiary</td>\n",
       "      <td>no</td>\n",
       "      <td>184</td>\n",
       "      <td>no</td>\n",
       "      <td>no</td>\n",
       "      <td>unknown</td>\n",
       "      <td>5</td>\n",
       "      <td>may</td>\n",
       "      <td>673</td>\n",
       "      <td>2</td>\n",
       "      <td>-1</td>\n",
       "      <td>0</td>\n",
       "      <td>unknown</td>\n",
       "      <td>1</td>\n",
       "    </tr>\n",
       "  </tbody>\n",
       "</table>\n",
       "</div>"
      ],
      "text/plain": [
       "   age         job  marital  education default  balance housing loan  contact  \\\n",
       "0   59      admin.  married  secondary      no     2343     yes   no  unknown   \n",
       "1   56      admin.  married  secondary      no       45      no   no  unknown   \n",
       "2   41  technician  married  secondary      no     1270     yes   no  unknown   \n",
       "3   55    services  married  secondary      no     2476     yes   no  unknown   \n",
       "4   54      admin.  married   tertiary      no      184      no   no  unknown   \n",
       "\n",
       "   day month  duration  campaign  pdays  previous poutcome  deposit  \n",
       "0    5   may      1042         1     -1         0  unknown        1  \n",
       "1    5   may      1467         1     -1         0  unknown        1  \n",
       "2    5   may      1389         1     -1         0  unknown        1  \n",
       "3    5   may       579         1     -1         0  unknown        1  \n",
       "4    5   may       673         2     -1         0  unknown        1  "
      ]
     },
     "execution_count": 3,
     "metadata": {},
     "output_type": "execute_result"
    }
   ],
   "source": [
    "label_col = 'deposit'\n",
    "masked_label = 'masked_deposit'\n",
    "\n",
    "raw_df = pd.read_pickle('../../crystal_ball/data_collector/structured_data/deposit.pkl')\n",
    "print(raw_df.shape)\n",
    "print(raw_df[label_col].value_counts())\n",
    "\n",
    "raw_df.head()"
   ]
  },
  {
   "cell_type": "code",
   "execution_count": 4,
   "metadata": {},
   "outputs": [
    {
     "name": "stdout",
     "output_type": "stream",
     "text": [
      "-1    95.260706\n",
      " 1     4.739294\n",
      "Name: masked_deposit, dtype: float64\n",
      "\n",
      "0    55.233706\n",
      "1    44.766294\n",
      "Name: deposit, dtype: float64\n"
     ]
    },
    {
     "data": {
      "text/html": [
       "<div>\n",
       "<style scoped>\n",
       "    .dataframe tbody tr th:only-of-type {\n",
       "        vertical-align: middle;\n",
       "    }\n",
       "\n",
       "    .dataframe tbody tr th {\n",
       "        vertical-align: top;\n",
       "    }\n",
       "\n",
       "    .dataframe thead th {\n",
       "        text-align: right;\n",
       "    }\n",
       "</style>\n",
       "<table border=\"1\" class=\"dataframe\">\n",
       "  <thead>\n",
       "    <tr style=\"text-align: right;\">\n",
       "      <th></th>\n",
       "      <th>age</th>\n",
       "      <th>job</th>\n",
       "      <th>marital</th>\n",
       "      <th>education</th>\n",
       "      <th>default</th>\n",
       "      <th>balance</th>\n",
       "      <th>housing</th>\n",
       "      <th>loan</th>\n",
       "      <th>contact</th>\n",
       "      <th>day</th>\n",
       "      <th>month</th>\n",
       "      <th>duration</th>\n",
       "      <th>campaign</th>\n",
       "      <th>pdays</th>\n",
       "      <th>previous</th>\n",
       "      <th>poutcome</th>\n",
       "      <th>deposit</th>\n",
       "      <th>keep_label</th>\n",
       "      <th>masked_deposit</th>\n",
       "    </tr>\n",
       "  </thead>\n",
       "  <tbody>\n",
       "    <tr>\n",
       "      <th>0</th>\n",
       "      <td>59</td>\n",
       "      <td>admin.</td>\n",
       "      <td>married</td>\n",
       "      <td>secondary</td>\n",
       "      <td>no</td>\n",
       "      <td>2343</td>\n",
       "      <td>yes</td>\n",
       "      <td>no</td>\n",
       "      <td>unknown</td>\n",
       "      <td>5</td>\n",
       "      <td>may</td>\n",
       "      <td>1042</td>\n",
       "      <td>1</td>\n",
       "      <td>-1</td>\n",
       "      <td>0</td>\n",
       "      <td>unknown</td>\n",
       "      <td>1</td>\n",
       "      <td>False</td>\n",
       "      <td>-1</td>\n",
       "    </tr>\n",
       "    <tr>\n",
       "      <th>1</th>\n",
       "      <td>56</td>\n",
       "      <td>admin.</td>\n",
       "      <td>married</td>\n",
       "      <td>secondary</td>\n",
       "      <td>no</td>\n",
       "      <td>45</td>\n",
       "      <td>no</td>\n",
       "      <td>no</td>\n",
       "      <td>unknown</td>\n",
       "      <td>5</td>\n",
       "      <td>may</td>\n",
       "      <td>1467</td>\n",
       "      <td>1</td>\n",
       "      <td>-1</td>\n",
       "      <td>0</td>\n",
       "      <td>unknown</td>\n",
       "      <td>1</td>\n",
       "      <td>False</td>\n",
       "      <td>-1</td>\n",
       "    </tr>\n",
       "    <tr>\n",
       "      <th>2</th>\n",
       "      <td>41</td>\n",
       "      <td>technician</td>\n",
       "      <td>married</td>\n",
       "      <td>secondary</td>\n",
       "      <td>no</td>\n",
       "      <td>1270</td>\n",
       "      <td>yes</td>\n",
       "      <td>no</td>\n",
       "      <td>unknown</td>\n",
       "      <td>5</td>\n",
       "      <td>may</td>\n",
       "      <td>1389</td>\n",
       "      <td>1</td>\n",
       "      <td>-1</td>\n",
       "      <td>0</td>\n",
       "      <td>unknown</td>\n",
       "      <td>1</td>\n",
       "      <td>False</td>\n",
       "      <td>-1</td>\n",
       "    </tr>\n",
       "    <tr>\n",
       "      <th>3</th>\n",
       "      <td>55</td>\n",
       "      <td>services</td>\n",
       "      <td>married</td>\n",
       "      <td>secondary</td>\n",
       "      <td>no</td>\n",
       "      <td>2476</td>\n",
       "      <td>yes</td>\n",
       "      <td>no</td>\n",
       "      <td>unknown</td>\n",
       "      <td>5</td>\n",
       "      <td>may</td>\n",
       "      <td>579</td>\n",
       "      <td>1</td>\n",
       "      <td>-1</td>\n",
       "      <td>0</td>\n",
       "      <td>unknown</td>\n",
       "      <td>1</td>\n",
       "      <td>False</td>\n",
       "      <td>-1</td>\n",
       "    </tr>\n",
       "    <tr>\n",
       "      <th>4</th>\n",
       "      <td>54</td>\n",
       "      <td>admin.</td>\n",
       "      <td>married</td>\n",
       "      <td>tertiary</td>\n",
       "      <td>no</td>\n",
       "      <td>184</td>\n",
       "      <td>no</td>\n",
       "      <td>no</td>\n",
       "      <td>unknown</td>\n",
       "      <td>5</td>\n",
       "      <td>may</td>\n",
       "      <td>673</td>\n",
       "      <td>2</td>\n",
       "      <td>-1</td>\n",
       "      <td>0</td>\n",
       "      <td>unknown</td>\n",
       "      <td>1</td>\n",
       "      <td>True</td>\n",
       "      <td>1</td>\n",
       "    </tr>\n",
       "  </tbody>\n",
       "</table>\n",
       "</div>"
      ],
      "text/plain": [
       "   age         job  marital  education default  balance housing loan  contact  \\\n",
       "0   59      admin.  married  secondary      no     2343     yes   no  unknown   \n",
       "1   56      admin.  married  secondary      no       45      no   no  unknown   \n",
       "2   41  technician  married  secondary      no     1270     yes   no  unknown   \n",
       "3   55    services  married  secondary      no     2476     yes   no  unknown   \n",
       "4   54      admin.  married   tertiary      no      184      no   no  unknown   \n",
       "\n",
       "   day month  duration  campaign  pdays  previous poutcome  deposit  \\\n",
       "0    5   may      1042         1     -1         0  unknown        1   \n",
       "1    5   may      1467         1     -1         0  unknown        1   \n",
       "2    5   may      1389         1     -1         0  unknown        1   \n",
       "3    5   may       579         1     -1         0  unknown        1   \n",
       "4    5   may       673         2     -1         0  unknown        1   \n",
       "\n",
       "   keep_label  masked_deposit  \n",
       "0       False              -1  \n",
       "1       False              -1  \n",
       "2       False              -1  \n",
       "3       False              -1  \n",
       "4        True               1  "
      ]
     },
     "execution_count": 4,
     "metadata": {},
     "output_type": "execute_result"
    }
   ],
   "source": [
    "# mask the data so that there's only partially positive labeled data\n",
    "raw_df = mask_labels_1class_labeled(raw_df, label_col, masked_label, partially_labeled_class=1, mask_rate=0.9)\n",
    "print(raw_df[masked_label].value_counts()*100/raw_df.shape[0])\n",
    "print()\n",
    "print(raw_df[raw_df[masked_label]==-1][label_col].value_counts()*100/raw_df[raw_df[masked_label]==-1].shape[0])\n",
    "raw_df.head()"
   ]
  },
  {
   "cell_type": "markdown",
   "metadata": {},
   "source": [
    "### Train a classifier to predict `P(has_label=1 | sample)`\n",
    "\n",
    "* The training data is \"sample\""
   ]
  },
  {
   "cell_type": "code",
   "execution_count": 5,
   "metadata": {},
   "outputs": [
    {
     "name": "stdout",
     "output_type": "stream",
     "text": [
      "(11162, 16) (11162,)\n",
      "(8371, 16) (8371,) (8371, 4) (2791, 16) (2791,) (2791, 4)\n",
      "0    95.257436\n",
      "1     4.742564\n",
      "Name: has_label, dtype: float64\n",
      "0    95.270512\n",
      "1     4.729488\n",
      "Name: has_label, dtype: float64\n",
      "\n"
     ]
    }
   ],
   "source": [
    "cat_features = ['job', 'marital', 'education', 'default', 'housing', 'loan', 'contact', 'month', 'poutcome']\n",
    "raw_df[cat_features] = raw_df[cat_features].astype('category')\n",
    "\n",
    "# generate label \"has_label\"\n",
    "raw_df['has_label'] = raw_df['keep_label'].astype(int)\n",
    "\n",
    "all_y_df = raw_df[[label_col, 'keep_label', masked_label, 'has_label']]\n",
    "y = raw_df['has_label']\n",
    "X = raw_df.drop(all_y_df.columns, axis=1)\n",
    "print(X.shape, y.shape)\n",
    "\n",
    "X_train, X_test, y_train, y_test = train_test_split(X, y, test_size=0.25, random_state=10, stratify=y)\n",
    "all_y_train = all_y_df.iloc[y_train.index]\n",
    "all_y_test = all_y_df.iloc[y_test.index]\n",
    "print(X_train.shape, y_train.shape, all_y_train.shape, X_test.shape, y_test.shape, all_y_test.shape)\n",
    "print(y_train.value_counts()*100/y_train.shape)\n",
    "print(y_test.value_counts()*100/y_test.shape)\n",
    "print()\n",
    "\n",
    "X_train.reset_index(inplace=True, drop=True)\n",
    "X_test.reset_index(inplace=True, drop=True)\n",
    "y_train.reset_index(inplace=True, drop=True)\n",
    "y_test.reset_index(inplace=True, drop=True)\n",
    "all_y_train.reset_index(inplace=True, drop=True)\n",
    "all_y_test.reset_index(inplace=True, drop=True)"
   ]
  },
  {
   "cell_type": "code",
   "execution_count": 6,
   "metadata": {},
   "outputs": [
    {
     "data": {
      "text/html": [
       "<div>\n",
       "<style scoped>\n",
       "    .dataframe tbody tr th:only-of-type {\n",
       "        vertical-align: middle;\n",
       "    }\n",
       "\n",
       "    .dataframe tbody tr th {\n",
       "        vertical-align: top;\n",
       "    }\n",
       "\n",
       "    .dataframe thead th {\n",
       "        text-align: right;\n",
       "    }\n",
       "</style>\n",
       "<table border=\"1\" class=\"dataframe\">\n",
       "  <thead>\n",
       "    <tr style=\"text-align: right;\">\n",
       "      <th></th>\n",
       "      <th>age</th>\n",
       "      <th>job</th>\n",
       "      <th>marital</th>\n",
       "      <th>education</th>\n",
       "      <th>default</th>\n",
       "      <th>balance</th>\n",
       "      <th>housing</th>\n",
       "      <th>loan</th>\n",
       "      <th>contact</th>\n",
       "      <th>day</th>\n",
       "      <th>month</th>\n",
       "      <th>duration</th>\n",
       "      <th>campaign</th>\n",
       "      <th>pdays</th>\n",
       "      <th>previous</th>\n",
       "      <th>poutcome</th>\n",
       "    </tr>\n",
       "  </thead>\n",
       "  <tbody>\n",
       "    <tr>\n",
       "      <th>0</th>\n",
       "      <td>46</td>\n",
       "      <td>0.028736</td>\n",
       "      <td>0.056760</td>\n",
       "      <td>0.042729</td>\n",
       "      <td>0.047908</td>\n",
       "      <td>5</td>\n",
       "      <td>0.037898</td>\n",
       "      <td>0.033575</td>\n",
       "      <td>0.054134</td>\n",
       "      <td>29</td>\n",
       "      <td>0.035433</td>\n",
       "      <td>305</td>\n",
       "      <td>2</td>\n",
       "      <td>-1</td>\n",
       "      <td>0</td>\n",
       "      <td>0.042168</td>\n",
       "    </tr>\n",
       "    <tr>\n",
       "      <th>1</th>\n",
       "      <td>48</td>\n",
       "      <td>0.034317</td>\n",
       "      <td>0.041702</td>\n",
       "      <td>0.038053</td>\n",
       "      <td>0.047908</td>\n",
       "      <td>134</td>\n",
       "      <td>0.037898</td>\n",
       "      <td>0.049525</td>\n",
       "      <td>0.020092</td>\n",
       "      <td>28</td>\n",
       "      <td>0.029020</td>\n",
       "      <td>315</td>\n",
       "      <td>2</td>\n",
       "      <td>-1</td>\n",
       "      <td>0</td>\n",
       "      <td>0.042168</td>\n",
       "    </tr>\n",
       "    <tr>\n",
       "      <th>2</th>\n",
       "      <td>41</td>\n",
       "      <td>0.034317</td>\n",
       "      <td>0.041702</td>\n",
       "      <td>0.042729</td>\n",
       "      <td>0.047908</td>\n",
       "      <td>4910</td>\n",
       "      <td>0.037898</td>\n",
       "      <td>0.049525</td>\n",
       "      <td>0.054134</td>\n",
       "      <td>3</td>\n",
       "      <td>0.062411</td>\n",
       "      <td>1090</td>\n",
       "      <td>1</td>\n",
       "      <td>-1</td>\n",
       "      <td>0</td>\n",
       "      <td>0.042168</td>\n",
       "    </tr>\n",
       "    <tr>\n",
       "      <th>3</th>\n",
       "      <td>29</td>\n",
       "      <td>0.028736</td>\n",
       "      <td>0.056760</td>\n",
       "      <td>0.042729</td>\n",
       "      <td>0.047908</td>\n",
       "      <td>84</td>\n",
       "      <td>0.037898</td>\n",
       "      <td>0.049525</td>\n",
       "      <td>0.054134</td>\n",
       "      <td>13</td>\n",
       "      <td>0.062411</td>\n",
       "      <td>1101</td>\n",
       "      <td>2</td>\n",
       "      <td>-1</td>\n",
       "      <td>0</td>\n",
       "      <td>0.042168</td>\n",
       "    </tr>\n",
       "    <tr>\n",
       "      <th>4</th>\n",
       "      <td>39</td>\n",
       "      <td>0.050073</td>\n",
       "      <td>0.041702</td>\n",
       "      <td>0.059636</td>\n",
       "      <td>0.047908</td>\n",
       "      <td>94</td>\n",
       "      <td>0.037898</td>\n",
       "      <td>0.033575</td>\n",
       "      <td>0.020092</td>\n",
       "      <td>16</td>\n",
       "      <td>0.029020</td>\n",
       "      <td>813</td>\n",
       "      <td>1</td>\n",
       "      <td>-1</td>\n",
       "      <td>0</td>\n",
       "      <td>0.042168</td>\n",
       "    </tr>\n",
       "  </tbody>\n",
       "</table>\n",
       "</div>"
      ],
      "text/plain": [
       "   age       job   marital  education   default  balance   housing      loan  \\\n",
       "0   46  0.028736  0.056760   0.042729  0.047908        5  0.037898  0.033575   \n",
       "1   48  0.034317  0.041702   0.038053  0.047908      134  0.037898  0.049525   \n",
       "2   41  0.034317  0.041702   0.042729  0.047908     4910  0.037898  0.049525   \n",
       "3   29  0.028736  0.056760   0.042729  0.047908       84  0.037898  0.049525   \n",
       "4   39  0.050073  0.041702   0.059636  0.047908       94  0.037898  0.033575   \n",
       "\n",
       "    contact  day     month  duration  campaign  pdays  previous  poutcome  \n",
       "0  0.054134   29  0.035433       305         2     -1         0  0.042168  \n",
       "1  0.020092   28  0.029020       315         2     -1         0  0.042168  \n",
       "2  0.054134    3  0.062411      1090         1     -1         0  0.042168  \n",
       "3  0.054134   13  0.062411      1101         2     -1         0  0.042168  \n",
       "4  0.020092   16  0.029020       813         1     -1         0  0.042168  "
      ]
     },
     "execution_count": 6,
     "metadata": {},
     "output_type": "execute_result"
    }
   ],
   "source": [
    "encoder = TargetEncoder(cols=cat_features)\n",
    "encoded_X_train = encoder.fit_transform(X_train, y_train)\n",
    "encoded_X_test = encoder.transform(X_test)\n",
    "\n",
    "encoded_X_train.head()"
   ]
  },
  {
   "cell_type": "code",
   "execution_count": 7,
   "metadata": {},
   "outputs": [
    {
     "name": "stdout",
     "output_type": "stream",
     "text": [
      "[LightGBM] [Warning] boosting is set=gbdt, boosting_type=gbdt will be ignored. Current value: boosting=gbdt\n",
      "[LightGBM] [Warning] feature_fraction is set=0.6643670461510903, colsample_bytree=1.0 will be ignored. Current value: feature_fraction=0.6643670461510903\n",
      "[LightGBM] [Warning] min_data_in_leaf is set=1133, min_child_samples=20 will be ignored. Current value: min_data_in_leaf=1133\n",
      "[LightGBM] [Warning] bagging_fraction is set=0.8506740422636537, subsample=1.0 will be ignored. Current value: bagging_fraction=0.8506740422636537\n",
      "[LightGBM] [Warning] num_threads is set=4, n_jobs=-1 will be ignored. Current value: num_threads=4\n",
      "[LightGBM] [Warning] bagging_freq is set=18, subsample_freq=0 will be ignored. Current value: bagging_freq=18\n",
      "Testing AUC is 0.654399865522468\n"
     ]
    }
   ],
   "source": [
    "params = {'num_leaves': 4, 'learning_rate': 0.01, 'bagging_fraction': 0.8506740422636537, 'feature_fraction': 0.6643670461510903, \n",
    "          'bagging_freq': 18, 'min_data_in_leaf': 1133, 'num_iterations': 2956, 'objective': 'binary', 'metric': 'auc', 'random_state': 10, \n",
    "          'verbosity': -1, 'boosting': 'gbdt', 'num_threads': 4, 'is_unbalance':True, 'max_bin':250}\n",
    "opt_model = LGBMClassifier(**params)\n",
    "opt_model.fit(encoded_X_train, y_train)\n",
    "y_pred = opt_model.predict(encoded_X_test)\n",
    "auc = roc_auc_score(y_test, y_pred)\n",
    "print(f'Testing AUC is {auc}')"
   ]
  },
  {
   "cell_type": "markdown",
   "metadata": {},
   "source": [
    "### Get `P(has_label=1 | positive_label=1)`"
   ]
  },
  {
   "cell_type": "code",
   "execution_count": 8,
   "metadata": {},
   "outputs": [
    {
     "name": "stdout",
     "output_type": "stream",
     "text": [
      "(397, 16) 4.742563612471629\n"
     ]
    }
   ],
   "source": [
    "pos_encoded_X_train = encoded_X_train.iloc[all_y_train[all_y_train[masked_label]==1].index]\n",
    "print(pos_encoded_X_train.shape, pos_encoded_X_train.shape[0]*100/encoded_X_train.shape[0])"
   ]
  },
  {
   "cell_type": "code",
   "execution_count": 9,
   "metadata": {},
   "outputs": [
    {
     "name": "stdout",
     "output_type": "stream",
     "text": [
      "0.6368340353734504\n"
     ]
    }
   ],
   "source": [
    "pos_has_label_prob = np.mean(opt_model.predict_proba(pos_encoded_X_train)[:, 1])\n",
    "print(pos_has_label_prob)"
   ]
  },
  {
   "cell_type": "markdown",
   "metadata": {},
   "source": [
    "### Predict `P(has_label=1 | data)`\n",
    "\n",
    "* The testing data is \"data\""
   ]
  },
  {
   "cell_type": "code",
   "execution_count": 10,
   "metadata": {},
   "outputs": [
    {
     "data": {
      "text/plain": [
       "array([0.60210276, 0.72250636, 0.74394194, ..., 0.0748975 , 0.22456186,\n",
       "       0.77737462])"
      ]
     },
     "execution_count": 10,
     "metadata": {},
     "output_type": "execute_result"
    }
   ],
   "source": [
    "has_label_prob = opt_model.predict_proba(encoded_X_test)[:, 1]\n",
    "pos_label_prob = has_label_prob/pos_has_label_prob\n",
    "pos_label_prob"
   ]
  },
  {
   "cell_type": "markdown",
   "metadata": {},
   "source": [
    "### Evaluation\n",
    "\n",
    "#### If all labels are known"
   ]
  },
  {
   "cell_type": "code",
   "execution_count": 11,
   "metadata": {},
   "outputs": [
    {
     "name": "stdout",
     "output_type": "stream",
     "text": [
      "Testing AUC is 0.6810717175515972\n"
     ]
    }
   ],
   "source": [
    "auc = roc_auc_score(y_test, pos_label_prob)\n",
    "print(f'Testing AUC is {auc}')"
   ]
  },
  {
   "cell_type": "markdown",
   "metadata": {},
   "source": [
    "#### Without knowing all labels\n",
    "* In reality, this is often the case, we can\n",
    "  * Check the percentage of predicted positive to see whether it aligns with business estimation\n",
    "  * Evaluate on known lables using recall"
   ]
  },
  {
   "cell_type": "code",
   "execution_count": 12,
   "metadata": {},
   "outputs": [],
   "source": [
    "threshold = 0.7"
   ]
  },
  {
   "cell_type": "code",
   "execution_count": 13,
   "metadata": {},
   "outputs": [],
   "source": [
    "def pu_eval(all_y_test, threshold=0.7):\n",
    "    # predicted positive class percentage\n",
    "    pred_pos_perct = all_y_test[all_y_test['pred_label']>= threshold].shape[0]/all_y_test.shape[0]\n",
    "\n",
    "    # recall on known labels\n",
    "    pos_label_df = all_y_test[all_y_test['masked_deposit']==1]\n",
    "    tp = pos_label_df[pos_label_df['pred_label']>=threshold].shape[0]\n",
    "    fn = pos_label_df[pos_label_df['pred_label']<threshold].shape[0]\n",
    "    known_recall = tp/(tp + fn)\n",
    "    \n",
    "    return pred_pos_perct, known_recall"
   ]
  },
  {
   "cell_type": "code",
   "execution_count": 14,
   "metadata": {},
   "outputs": [
    {
     "name": "stdout",
     "output_type": "stream",
     "text": [
      "0.047294876388391256 0.47868147617341456\n",
      "\n",
      "0.44822644213543533 0.7348484848484849\n"
     ]
    }
   ],
   "source": [
    "known_pos_perct = all_y_test[all_y_test['masked_deposit']==1].shape[0]/all_y_test.shape[0]\n",
    "real_pos_perct = all_y_test[all_y_test['deposit']==1].shape[0]/all_y_test.shape[0]  # business estimated percentage should align with this percentage \n",
    "print(known_pos_perct, real_pos_perct)\n",
    "print()\n",
    "\n",
    "all_y_test['pred_label'] = pos_label_prob\n",
    "pred_pos_perct, known_recall = pu_eval(all_y_test, threshold=0.7)\n",
    "print(pred_pos_perct, known_recall)"
   ]
  },
  {
   "cell_type": "code",
   "execution_count": 20,
   "metadata": {},
   "outputs": [],
   "source": [
    "# plot performance for different theresholds\n",
    "def plot_performance_per_threshold(threshold_performance_dct, color_dct, title, fig_size=[15, 7]):\n",
    "    plt.figure(figsize=(fig_size[0], fig_size[1]))\n",
    "    ax = plt.gca()\n",
    "    ax.set_ylim([0, 1]) # set y-axis range\n",
    "    \n",
    "    x = threshold_performance_dct['threshold_lst']\n",
    "    \n",
    "    for performance_name, performance_lst in threshold_performance_dct.items():\n",
    "        if (performance_name=='threshold_lst'):\n",
    "            continue\n",
    "        ax.plot(x, performance_lst, color=color_dct[performance_name], label=performance_name, marker='*')\n",
    "        \n",
    "        # annotate y_value along the line\n",
    "        for i,j in zip(x, performance_lst):\n",
    "            ax.annotate(str(j),xy=(i,j)) \n",
    "    \n",
    "    plt.xlabel('Positive Label Threshold')\n",
    "    plt.ylabel('Performance')\n",
    "    plt.legend(loc='best')\n",
    "    plt.title(title)\n",
    "    plt.show()\n",
    "    \n",
    "    \n",
    "def get_plot_dcts(threshold_lst, real_pos_perct):\n",
    "    threshold_performance_dct = {\n",
    "        'threshold_lst': threshold_lst,\n",
    "        'real_pos_perct': [round(real_pos_perct, 2)]*len(threshold_lst),\n",
    "        'pred_pos_perct': [],\n",
    "        'known_recall': []\n",
    "    }\n",
    "    color_dct = {'real_pos_perct': 'r', 'pred_pos_perct': 'green', 'known_recall': 'purple'}\n",
    "\n",
    "    for threshold in threshold_lst:\n",
    "        pred_pos_perct, known_recall = pu_eval(all_y_test, threshold)\n",
    "        threshold_performance_dct['pred_pos_perct'].append(round(pred_pos_perct, 2))\n",
    "        threshold_performance_dct['known_recall'].append(round(known_recall, 2))\n",
    "        \n",
    "    return threshold_performance_dct, color_dct"
   ]
  },
  {
   "cell_type": "code",
   "execution_count": 21,
   "metadata": {},
   "outputs": [
    {
     "data": {
      "image/png": "[encoded data removed]",
      "text/plain": [
       "<Figure size 1500x700 with 1 Axes>"
      ]
     },
     "metadata": {},
     "output_type": "display_data"
    },
    {
     "data": {
      "text/plain": [
       "<module 'matplotlib.pylab' from 'C:\\\\Users\\\\wuhan\\\\anaconda3\\\\envs\\\\replendent_tree\\\\lib\\\\site-packages\\\\matplotlib\\\\pylab.py'>"
      ]
     },
     "metadata": {},
     "output_type": "display_data"
    }
   ],
   "source": [
    "threshold_lst = np.arange(0.5, 1, 0.1)\n",
    "threshold_performance_dct, color_dct = get_plot_dcts(threshold_lst, real_pos_perct)\n",
    "    \n",
    "plot_performance_per_threshold(threshold_performance_dct, color_dct, title='PU Learning Performance per Threshold', fig_size=[15, 7])"
   ]
  },
  {
   "cell_type": "code",
   "execution_count": null,
   "metadata": {},
   "outputs": [],
   "source": []
  }
 ],
 "metadata": {
  "kernelspec": {
   "display_name": "replendent_tree",
   "language": "python",
   "name": "replendent_tree"
  },
  "language_info": {
   "codemirror_mode": {
    "name": "ipython",
    "version": 3
   },
   "file_extension": ".py",
   "mimetype": "text/x-python",
   "name": "python",
   "nbconvert_exporter": "python",
   "pygments_lexer": "ipython3",
   "version": "3.9.13"
  }
 },
 "nbformat": 4,
 "nbformat_minor": 4
}

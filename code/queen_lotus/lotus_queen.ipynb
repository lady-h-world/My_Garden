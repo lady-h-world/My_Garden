{
 "cells": [
  {
   "cell_type": "markdown",
   "metadata": {},
   "source": [
    "Licensed under the MIT License.\n",
    "\n",
    "Copyright (c) 2021-2031. All rights reserved.\n",
    "\n",
    "# Lotus Queen - Outlier Plot\n",
    "\n",
    "* How to convert an image to a matplot marker\n",
    "  * Find a `.png` format image that you want to use as the marker\n",
    "  * Convert `.png` image to `.svg` image through an [online converter][2]\n",
    "  * Parse the path string using `minidom` as my code below shows\n",
    "  * Then use `parse_path()` from `svgpath2mpl` will get the marker output\n",
    " \n",
    "[1]:https://inkscape.org/release/inkscape-1.3.2/windows/64-bit/msi/?redirected=1\n",
    "[2]:https://www.freeconvert.com/png-to-svg"
   ]
  },
  {
   "cell_type": "code",
   "execution_count": 1,
   "metadata": {},
   "outputs": [],
   "source": [
    "from svgpath2mpl import parse_path\n",
    "import matplotlib.pyplot as plt       \n",
    "import pandas as pd\n",
    "import numpy as np\n",
    "from xml.dom import minidom"
   ]
  },
  {
   "cell_type": "markdown",
   "metadata": {},
   "source": [
    "#### Parse Path String from SVG Image"
   ]
  },
  {
   "cell_type": "code",
   "execution_count": 10,
   "metadata": {},
   "outputs": [
    {
     "data": {
      "text/plain": [
       "['M943 1468 c-40 -43 -107 -135 -127 -175 l-16 -32 -55 34 c-67 40 -199 90 -218 82 -22 -8 -38 -82 -44 -208 l-6 -116 -81 -7 c-104 -9 -166 -25 -166 -43 0 -26 42 -138 76 -204 115 -218 315 -314 584 -279 71 9 114 9 194 0 136 -16 247 -2 343 45 89 43 141 89 201 179 49 74 117 238 108 262 -7 18 -65 32 -163 40 l-83 7 0 78 c0 83 -23 226 -40 243 -14 14 -108 -17 -202 -67 -43 -22 -79 -39 -81 -36 -2 2 -19 29 -38 59 -46 74 -127 170 -142 170 -7 0 -27 -15 -44 -32z m100 -86 c24 -31 55 -76 68 -99 l24 -42 -51 -53 c-28 -29 -63 -70 -77 -92 l-25 -38 -16 30 c-9 17 -41 57 -71 90 -30 33 -55 64 -55 69 0 31 135 207 151 198 5 -3 28 -32 52 -63z m-355 -104 c46 -22 86 -46 88 -52 3 -7 -3 -32 -11 -56 -9 -25 -19 -78 -22 -117 -3 -40 -8 -73 -10 -73 -2 0 -18 7 -34 16 -17 8 -63 23 -102 33 l-72 19 -3 73 c-2 41 2 105 9 142 l11 69 32 -6 c17 -4 69 -25 114 -48z m752 -30 c6 -46 10 -110 8 -143 l-3 -59 -62 -13 c-34 -7 -80 -21 -102 -33 -22 -11 -43 -20 -46 -20 -3 0 -5 20 -5 43 0 24 -9 79 -20 122 -11 43 -20 79 -20 81 0 6 99 59 149 80 87 36 87 36 101 -58z m-567 -107 c25 -26 55 -67 66 -90 21 -40 21 -44 6 -116 -8 -41 -15 -96 -15 -122 l0 -48 -34 50 c-18 28 -51 68 -72 90 -39 39 -39 39 -38 120 0 80 17 165 33 165 5 0 29 -22 54 -49z m303 -27 c24 -108 16 -158 -33 -210 -21 -22 -53 -62 -71 -89 l-32 -48 0 41 c0 23 -7 77 -16 120 -15 78 -15 80 6 122 22 43 106 140 121 140 4 0 15 -34 25 -76z m-681 -141 c25 -138 150 -284 315 -366 l90 -45 -63 -6 c-72 -8 -187 6 -249 31 -62 24 -119 65 -172 124 -48 53 -120 189 -132 246 -6 30 -4 32 27 37 73 12 86 13 130 15 46 1 47 1 54 -36z m1124 27 c35 -5 66 -11 68 -14 3 -3 -4 -34 -17 -68 -75 -211 -213 -333 -404 -359 -44 -6 -107 -7 -140 -4 l-60 7 61 28 c177 80 298 208 339 358 17 61 18 62 53 62 20 0 65 -5 100 -10z m-939 -43 c63 -31 65 -33 90 -102 34 -91 61 -141 105 -199 33 -43 34 -47 13 -41 -85 27 -220 123 -273 194 -37 51 -68 115 -79 165 l-7 29 43 -7 c24 -3 72 -21 108 -39z m754 21 c-46 -150 -123 -242 -268 -322 -107 -59 -113 -57 -56 25 27 39 61 103 76 143 14 39 29 78 33 86 16 31 142 88 199 89 20 1 22 -3 16 -21z m-440 -246 c-7 -73 -8 -75 -15 -37 -10 51 -11 139 -2 190 l7 40 9 -58 c5 -31 6 -92 1 -135z m142 74 c-18 -44 -87 -149 -93 -142 -6 6 32 81 70 138 36 54 45 56 23 4z m-272 -18 c20 -29 42 -71 51 -93 l16 -40 -26 30 c-23 28 -85 136 -85 149 0 15 12 2 44 -46z']"
      ]
     },
     "execution_count": 10,
     "metadata": {},
     "output_type": "execute_result"
    }
   ],
   "source": [
    "doc = minidom.parse('lotus.svg')\n",
    "path_strings = [path.getAttribute('d') for path\n",
    "                in doc.getElementsByTagName('path')]\n",
    "doc.unlink()\n",
    "\n",
    "path_strings"
   ]
  },
  {
   "cell_type": "markdown",
   "metadata": {},
   "source": [
    "#### Generate Example Outlier Data & Plot"
   ]
  },
  {
   "cell_type": "code",
   "execution_count": 73,
   "metadata": {},
   "outputs": [
    {
     "name": "stdout",
     "output_type": "stream",
     "text": [
      "6.590429704098659 14.634620913866307\n",
      "4.730082413075134 8.576997515562896\n"
     ]
    },
    {
     "data": {
      "text/html": [
       "<div>\n",
       "<style scoped>\n",
       "    .dataframe tbody tr th:only-of-type {\n",
       "        vertical-align: middle;\n",
       "    }\n",
       "\n",
       "    .dataframe tbody tr th {\n",
       "        vertical-align: top;\n",
       "    }\n",
       "\n",
       "    .dataframe thead th {\n",
       "        text-align: right;\n",
       "    }\n",
       "</style>\n",
       "<table border=\"1\" class=\"dataframe\">\n",
       "  <thead>\n",
       "    <tr style=\"text-align: right;\">\n",
       "      <th></th>\n",
       "      <th>open_time</th>\n",
       "      <th>open_month</th>\n",
       "    </tr>\n",
       "  </thead>\n",
       "  <tbody>\n",
       "    <tr>\n",
       "      <th>14</th>\n",
       "      <td>6.651084</td>\n",
       "      <td>8.576998</td>\n",
       "    </tr>\n",
       "    <tr>\n",
       "      <th>15</th>\n",
       "      <td>9.714133</td>\n",
       "      <td>7.821988</td>\n",
       "    </tr>\n",
       "    <tr>\n",
       "      <th>16</th>\n",
       "      <td>7.966652</td>\n",
       "      <td>6.556630</td>\n",
       "    </tr>\n",
       "    <tr>\n",
       "      <th>17</th>\n",
       "      <td>7.758615</td>\n",
       "      <td>6.018660</td>\n",
       "    </tr>\n",
       "    <tr>\n",
       "      <th>18</th>\n",
       "      <td>22.000000</td>\n",
       "      <td>12.000000</td>\n",
       "    </tr>\n",
       "  </tbody>\n",
       "</table>\n",
       "</div>"
      ],
      "text/plain": [
       "    open_time  open_month\n",
       "14   6.651084    8.576998\n",
       "15   9.714133    7.821988\n",
       "16   7.966652    6.556630\n",
       "17   7.758615    6.018660\n",
       "18  22.000000   12.000000"
      ]
     },
     "execution_count": 73,
     "metadata": {},
     "output_type": "execute_result"
    }
   ],
   "source": [
    "n = 18\n",
    "time_mean = 10\n",
    "time_std = 2.5\n",
    "month_mean = 7\n",
    "month_std = 1\n",
    "\n",
    "normal_lotus_time = np.random.normal(time_mean, time_std, n)\n",
    "normal_lotus_month = np.random.normal(month_mean, month_std, n)\n",
    "\n",
    "print(min(normal_lotus_time), max(normal_lotus_time))\n",
    "print(min(normal_lotus_month), max(normal_lotus_month))\n",
    "\n",
    "lotus_df = pd.DataFrame({'open_time': normal_lotus_time, 'open_month':normal_lotus_month})\n",
    "lotus_df.loc[len(lotus_df)] = [22, 12]  # create 1 outlier ;)\n",
    "\n",
    "lotus_df.tail()"
   ]
  },
  {
   "cell_type": "code",
   "execution_count": 74,
   "metadata": {},
   "outputs": [
    {
     "data": {
      "image/png": "[encoded data removed]",
      "text/plain": [
       "<Figure size 576x432 with 1 Axes>"
      ]
     },
     "metadata": {
      "needs_background": "light"
     },
     "output_type": "display_data"
    }
   ],
   "source": [
    "plt.figure(figsize=(8, 6))\n",
    "lotus = parse_path(path_strings[0])\n",
    "lotus.vertices -= lotus.vertices.mean(axis=0)         \n",
    "plt.plot(lotus_df['open_month'].values[:-1], lotus_df['open_time'].values[:-1], marker=lotus, markersize=20, color='c', alpha=0.5, label='normal lotus', linestyle='None')\n",
    "plt.plot(lotus_df['open_month'].values[-1], lotus_df['open_time'].values[-1], marker=lotus, markersize=20, color='deeppink', label='the queen :)')\n",
    "plt.xlabel('open_month')\n",
    "plt.ylabel('open_time')\n",
    "plt.legend()\n",
    "plt.show()"
   ]
  }
 ],
 "metadata": {
  "kernelspec": {
   "display_name": "lotus_queen",
   "language": "python",
   "name": "lotus_queen"
  },
  "language_info": {
   "codemirror_mode": {
    "name": "ipython",
    "version": 3
   },
   "file_extension": ".py",
   "mimetype": "text/x-python",
   "name": "python",
   "nbconvert_exporter": "python",
   "pygments_lexer": "ipython3",
   "version": "3.8.19"
  }
 },
 "nbformat": 4,
 "nbformat_minor": 4
}

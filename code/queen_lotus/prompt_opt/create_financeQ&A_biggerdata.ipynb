{
 "cells": [
  {
   "cell_type": "markdown",
   "id": "a712d351",
   "metadata": {},
   "source": [
    "Licensed under the MIT License.\n",
    "\n",
    "Copyright (c) 2025-2035. All rights reserved by Hanhan Wu.\n",
    "\n",
    "Permission is hereby granted to view this code for evaluation purposes only.\n",
    "You may not reuse, copy, modify, merge, publish, distribute, sublicense,\n",
    "or exploit this code without Hanhan Wu's EXPLICIT written permission.\n",
    "\n",
    "\n",
    "# Create Large Dataset of Finance Q&A\n",
    "\n",
    "* About the Data Source:\n",
    "  * https://huggingface.co/datasets/sujet-ai/Sujet-Finance-QA-Vision-100k\n"
   ]
  },
  {
   "cell_type": "code",
   "execution_count": 1,
   "id": "cac65eed",
   "metadata": {},
   "outputs": [],
   "source": [
    "%load_ext autoreload\n",
    "%autoreload 2\n",
    "\n",
    "import ast\n",
    "import pandas as pd\n",
    "from pprint import pprint\n",
    "from datasets import load_dataset\n",
    "from concurrent.futures import ThreadPoolExecutor\n",
    "\n",
    "\n",
    "import warnings\n",
    "warnings.filterwarnings('ignore')"
   ]
  },
  {
   "cell_type": "markdown",
   "id": "1eaa753d",
   "metadata": {},
   "source": [
    "### Process Data"
   ]
  },
  {
   "cell_type": "code",
   "execution_count": 2,
   "id": "ffecc76a",
   "metadata": {},
   "outputs": [
    {
     "name": "stdout",
     "output_type": "stream",
     "text": [
      "9212 589\n",
      "dict_keys(['doc_id', 'image', 'content', 'qa_pairs'])\n"
     ]
    }
   ],
   "source": [
    "ds = load_dataset(\"sujet-ai/Sujet-Finance-QA-Vision-100k\")\n",
    "print(len(ds['train']), len(ds['test']))\n",
    "print(ds['train'][0].keys())"
   ]
  },
  {
   "cell_type": "code",
   "execution_count": 3,
   "id": "f88295e4",
   "metadata": {},
   "outputs": [],
   "source": [
    "def parse_row(row):\n",
    "    return {\n",
    "        'doc_id': row['doc_id'],\n",
    "        'context': [row['content']],\n",
    "        'qa_pairs': ast.literal_eval(row['qa_pairs'])\n",
    "    }\n",
    "\n",
    "\n",
    "def get_exploded_data(data):\n",
    "    with ThreadPoolExecutor() as executor:\n",
    "        rows = list(executor.map(parse_row, data))\n",
    "    raw_df = pd.DataFrame(rows)\n",
    "    print(raw_df.shape)\n",
    "\n",
    "    exploded_df = raw_df.explode('qa_pairs').reset_index(drop=True)\n",
    "    exploded_df['question'] = exploded_df['qa_pairs'].apply(lambda x: x['question'])\n",
    "    exploded_df['answer'] = exploded_df['qa_pairs'].apply(lambda x: x['answer'])\n",
    "    exploded_df = exploded_df.drop(columns=['qa_pairs'])\n",
    "\n",
    "    return exploded_df"
   ]
  },
  {
   "cell_type": "code",
   "execution_count": 4,
   "id": "5803ea2f",
   "metadata": {},
   "outputs": [
    {
     "name": "stdout",
     "output_type": "stream",
     "text": [
      "(9212, 3)\n",
      "(100629, 4)\n"
     ]
    },
    {
     "data": {
      "text/html": [
       "<div>\n",
       "<style scoped>\n",
       "    .dataframe tbody tr th:only-of-type {\n",
       "        vertical-align: middle;\n",
       "    }\n",
       "\n",
       "    .dataframe tbody tr th {\n",
       "        vertical-align: top;\n",
       "    }\n",
       "\n",
       "    .dataframe thead th {\n",
       "        text-align: right;\n",
       "    }\n",
       "</style>\n",
       "<table border=\"1\" class=\"dataframe\">\n",
       "  <thead>\n",
       "    <tr style=\"text-align: right;\">\n",
       "      <th></th>\n",
       "      <th>doc_id</th>\n",
       "      <th>context</th>\n",
       "      <th>question</th>\n",
       "      <th>answer</th>\n",
       "    </tr>\n",
       "  </thead>\n",
       "  <tbody>\n",
       "    <tr>\n",
       "      <th>0</th>\n",
       "      <td>175.jpeg</td>\n",
       "      <td>[### Document Analysis\\n\\n**Document Type:**\\n...</td>\n",
       "      <td>What is the purpose of Recommendation No. 6?</td>\n",
       "      <td>The purpose is to grant approval for specific ...</td>\n",
       "    </tr>\n",
       "    <tr>\n",
       "      <th>1</th>\n",
       "      <td>175.jpeg</td>\n",
       "      <td>[### Document Analysis\\n\\n**Document Type:**\\n...</td>\n",
       "      <td>What equipment does the memo recommend approvi...</td>\n",
       "      <td>The memo recommends approving funds for renova...</td>\n",
       "    </tr>\n",
       "    <tr>\n",
       "      <th>2</th>\n",
       "      <td>175.jpeg</td>\n",
       "      <td>[### Document Analysis\\n\\n**Document Type:**\\n...</td>\n",
       "      <td>What is the total direct cost recommended in t...</td>\n",
       "      <td>$25,380.00</td>\n",
       "    </tr>\n",
       "    <tr>\n",
       "      <th>3</th>\n",
       "      <td>175.jpeg</td>\n",
       "      <td>[### Document Analysis\\n\\n**Document Type:**\\n...</td>\n",
       "      <td>How much are indirect costs proposed to be all...</td>\n",
       "      <td>$6,345.00</td>\n",
       "    </tr>\n",
       "    <tr>\n",
       "      <th>4</th>\n",
       "      <td>175.jpeg</td>\n",
       "      <td>[### Document Analysis\\n\\n**Document Type:**\\n...</td>\n",
       "      <td>What is the main reason for relocating the Ele...</td>\n",
       "      <td>To maximize resources by using facilities more...</td>\n",
       "    </tr>\n",
       "  </tbody>\n",
       "</table>\n",
       "</div>"
      ],
      "text/plain": [
       "     doc_id                                            context  \\\n",
       "0  175.jpeg  [### Document Analysis\\n\\n**Document Type:**\\n...   \n",
       "1  175.jpeg  [### Document Analysis\\n\\n**Document Type:**\\n...   \n",
       "2  175.jpeg  [### Document Analysis\\n\\n**Document Type:**\\n...   \n",
       "3  175.jpeg  [### Document Analysis\\n\\n**Document Type:**\\n...   \n",
       "4  175.jpeg  [### Document Analysis\\n\\n**Document Type:**\\n...   \n",
       "\n",
       "                                            question  \\\n",
       "0       What is the purpose of Recommendation No. 6?   \n",
       "1  What equipment does the memo recommend approvi...   \n",
       "2  What is the total direct cost recommended in t...   \n",
       "3  How much are indirect costs proposed to be all...   \n",
       "4  What is the main reason for relocating the Ele...   \n",
       "\n",
       "                                              answer  \n",
       "0  The purpose is to grant approval for specific ...  \n",
       "1  The memo recommends approving funds for renova...  \n",
       "2                                         $25,380.00  \n",
       "3                                          $6,345.00  \n",
       "4  To maximize resources by using facilities more...  "
      ]
     },
     "metadata": {},
     "output_type": "display_data"
    }
   ],
   "source": [
    "exploded_train_df = get_exploded_data(ds['train'])\n",
    "\n",
    "print(exploded_train_df.shape)\n",
    "display(exploded_train_df.head())"
   ]
  },
  {
   "cell_type": "code",
   "execution_count": 5,
   "id": "48d573c3",
   "metadata": {},
   "outputs": [
    {
     "name": "stdout",
     "output_type": "stream",
     "text": [
      "(589, 3)\n",
      "(6421, 4)\n"
     ]
    },
    {
     "data": {
      "text/html": [
       "<div>\n",
       "<style scoped>\n",
       "    .dataframe tbody tr th:only-of-type {\n",
       "        vertical-align: middle;\n",
       "    }\n",
       "\n",
       "    .dataframe tbody tr th {\n",
       "        vertical-align: top;\n",
       "    }\n",
       "\n",
       "    .dataframe thead th {\n",
       "        text-align: right;\n",
       "    }\n",
       "</style>\n",
       "<table border=\"1\" class=\"dataframe\">\n",
       "  <thead>\n",
       "    <tr style=\"text-align: right;\">\n",
       "      <th></th>\n",
       "      <th>doc_id</th>\n",
       "      <th>context</th>\n",
       "      <th>question</th>\n",
       "      <th>answer</th>\n",
       "    </tr>\n",
       "  </thead>\n",
       "  <tbody>\n",
       "    <tr>\n",
       "      <th>0</th>\n",
       "      <td>5370.jpeg</td>\n",
       "      <td>[### Document Type\\nThis image represents a hi...</td>\n",
       "      <td>What is the date of the invoice document?</td>\n",
       "      <td>The document date is February 6, 1941.</td>\n",
       "    </tr>\n",
       "    <tr>\n",
       "      <th>1</th>\n",
       "      <td>5370.jpeg</td>\n",
       "      <td>[### Document Type\\nThis image represents a hi...</td>\n",
       "      <td>What is the company issuing the invoice?</td>\n",
       "      <td>The company issuing the invoice is Tabacalera ...</td>\n",
       "    </tr>\n",
       "    <tr>\n",
       "      <th>2</th>\n",
       "      <td>5370.jpeg</td>\n",
       "      <td>[### Document Type\\nThis image represents a hi...</td>\n",
       "      <td>What is the commodity being shipped according ...</td>\n",
       "      <td>The commodity being shipped is 960 cigarettes ...</td>\n",
       "    </tr>\n",
       "    <tr>\n",
       "      <th>3</th>\n",
       "      <td>5370.jpeg</td>\n",
       "      <td>[### Document Type\\nThis image represents a hi...</td>\n",
       "      <td>What is the total amount charged for the shipm...</td>\n",
       "      <td>The total amount charged is $3.51.</td>\n",
       "    </tr>\n",
       "    <tr>\n",
       "      <th>4</th>\n",
       "      <td>5370.jpeg</td>\n",
       "      <td>[### Document Type\\nThis image represents a hi...</td>\n",
       "      <td>What is the insurance value of the shipment?</td>\n",
       "      <td>The shipment is insured for $100.00.</td>\n",
       "    </tr>\n",
       "  </tbody>\n",
       "</table>\n",
       "</div>"
      ],
      "text/plain": [
       "      doc_id                                            context  \\\n",
       "0  5370.jpeg  [### Document Type\\nThis image represents a hi...   \n",
       "1  5370.jpeg  [### Document Type\\nThis image represents a hi...   \n",
       "2  5370.jpeg  [### Document Type\\nThis image represents a hi...   \n",
       "3  5370.jpeg  [### Document Type\\nThis image represents a hi...   \n",
       "4  5370.jpeg  [### Document Type\\nThis image represents a hi...   \n",
       "\n",
       "                                            question  \\\n",
       "0          What is the date of the invoice document?   \n",
       "1           What is the company issuing the invoice?   \n",
       "2  What is the commodity being shipped according ...   \n",
       "3  What is the total amount charged for the shipm...   \n",
       "4       What is the insurance value of the shipment?   \n",
       "\n",
       "                                              answer  \n",
       "0             The document date is February 6, 1941.  \n",
       "1  The company issuing the invoice is Tabacalera ...  \n",
       "2  The commodity being shipped is 960 cigarettes ...  \n",
       "3                 The total amount charged is $3.51.  \n",
       "4               The shipment is insured for $100.00.  "
      ]
     },
     "metadata": {},
     "output_type": "display_data"
    }
   ],
   "source": [
    "exploded_test_df = get_exploded_data(ds['test'])\n",
    "\n",
    "print(exploded_test_df.shape)\n",
    "display(exploded_test_df.head())"
   ]
  },
  {
   "cell_type": "code",
   "execution_count": 6,
   "id": "2040b876",
   "metadata": {},
   "outputs": [],
   "source": [
    "exploded_train_df.rename(columns={'answer': 'ground_truth'}, inplace=True)\n",
    "exploded_test_df.rename(columns={'answer': 'ground_truth'}, inplace=True)"
   ]
  },
  {
   "cell_type": "code",
   "execution_count": 7,
   "id": "58810d08",
   "metadata": {},
   "outputs": [],
   "source": [
    "exploded_train_df.to_parquet('bigger_finance_qa_train.parquet', index=False)\n",
    "exploded_test_df.to_parquet('bigger_finance_qa_test.parquet', index=False)"
   ]
  },
  {
   "cell_type": "markdown",
   "id": "b623c718",
   "metadata": {},
   "source": [
    "### Sample Data to Save Money 😉"
   ]
  },
  {
   "cell_type": "code",
   "execution_count": 2,
   "id": "f05b171b",
   "metadata": {},
   "outputs": [],
   "source": [
    "exploded_train_df = pd.read_parquet('bigger_finance_qa_train.parquet')\n",
    "exploded_test_df = pd.read_parquet('bigger_finance_qa_test.parquet')"
   ]
  },
  {
   "cell_type": "code",
   "execution_count": 3,
   "id": "d6b7eee5",
   "metadata": {},
   "outputs": [
    {
     "name": "stdout",
     "output_type": "stream",
     "text": [
      "(9212, 4) (589, 4)\n"
     ]
    }
   ],
   "source": [
    "# choose the 1st record for each doc_id\n",
    "first_per_doc_train_df = exploded_train_df.groupby('doc_id', as_index=False).first()\n",
    "first_per_doc_test_df = exploded_test_df.groupby('doc_id', as_index=False).first()\n",
    "\n",
    "print(first_per_doc_train_df.shape, first_per_doc_test_df.shape)"
   ]
  },
  {
   "cell_type": "code",
   "execution_count": 5,
   "id": "fc911ccc",
   "metadata": {},
   "outputs": [
    {
     "name": "stdout",
     "output_type": "stream",
     "text": [
      "(100, 4) (180, 4) (200, 4)\n"
     ]
    },
    {
     "data": {
      "text/html": [
       "<div>\n",
       "<style scoped>\n",
       "    .dataframe tbody tr th:only-of-type {\n",
       "        vertical-align: middle;\n",
       "    }\n",
       "\n",
       "    .dataframe tbody tr th {\n",
       "        vertical-align: top;\n",
       "    }\n",
       "\n",
       "    .dataframe thead th {\n",
       "        text-align: right;\n",
       "    }\n",
       "</style>\n",
       "<table border=\"1\" class=\"dataframe\">\n",
       "  <thead>\n",
       "    <tr style=\"text-align: right;\">\n",
       "      <th></th>\n",
       "      <th>doc_id</th>\n",
       "      <th>context</th>\n",
       "      <th>question</th>\n",
       "      <th>ground_truth</th>\n",
       "    </tr>\n",
       "  </thead>\n",
       "  <tbody>\n",
       "    <tr>\n",
       "      <th>0</th>\n",
       "      <td>2574.jpeg</td>\n",
       "      <td>[**Document Type:** \\nThis is a check issued b...</td>\n",
       "      <td>Who issued the check?</td>\n",
       "      <td>The Tobacco Institute, located at 1875 I Stree...</td>\n",
       "    </tr>\n",
       "    <tr>\n",
       "      <th>1</th>\n",
       "      <td>4492.jpeg</td>\n",
       "      <td>[### Document Analysis\\n\\n**Document Type**: C...</td>\n",
       "      <td>What is the type of document being analyzed?</td>\n",
       "      <td>The document is a Check Request Form.</td>\n",
       "    </tr>\n",
       "    <tr>\n",
       "      <th>2</th>\n",
       "      <td>7281.jpeg</td>\n",
       "      <td>[**Document Type**: This is a commercial invoi...</td>\n",
       "      <td>What is the name of the organization issuing t...</td>\n",
       "      <td>Philip Morris Limited</td>\n",
       "    </tr>\n",
       "    <tr>\n",
       "      <th>3</th>\n",
       "      <td>1242.jpeg</td>\n",
       "      <td>[### Document Type\\nThis is a financial docume...</td>\n",
       "      <td>What is the client company for this outdoor ad...</td>\n",
       "      <td>The client company is P.M. Inc.</td>\n",
       "    </tr>\n",
       "    <tr>\n",
       "      <th>4</th>\n",
       "      <td>7700.jpeg</td>\n",
       "      <td>[### Document Type\\nThis is a Production Estim...</td>\n",
       "      <td>What is the client's name mentioned in the doc...</td>\n",
       "      <td>The client's name is RJR/NOW Family.</td>\n",
       "    </tr>\n",
       "  </tbody>\n",
       "</table>\n",
       "</div>"
      ],
      "text/plain": [
       "      doc_id                                            context  \\\n",
       "0  2574.jpeg  [**Document Type:** \\nThis is a check issued b...   \n",
       "1  4492.jpeg  [### Document Analysis\\n\\n**Document Type**: C...   \n",
       "2  7281.jpeg  [**Document Type**: This is a commercial invoi...   \n",
       "3  1242.jpeg  [### Document Type\\nThis is a financial docume...   \n",
       "4  7700.jpeg  [### Document Type\\nThis is a Production Estim...   \n",
       "\n",
       "                                            question  \\\n",
       "0                              Who issued the check?   \n",
       "1       What is the type of document being analyzed?   \n",
       "2  What is the name of the organization issuing t...   \n",
       "3  What is the client company for this outdoor ad...   \n",
       "4  What is the client's name mentioned in the doc...   \n",
       "\n",
       "                                        ground_truth  \n",
       "0  The Tobacco Institute, located at 1875 I Stree...  \n",
       "1              The document is a Check Request Form.  \n",
       "2                              Philip Morris Limited  \n",
       "3                    The client company is P.M. Inc.  \n",
       "4               The client's name is RJR/NOW Family.  "
      ]
     },
     "metadata": {},
     "output_type": "display_data"
    }
   ],
   "source": [
    "sampled_train_df = first_per_doc_train_df.sample(n=280, random_state=10)\n",
    "final_train_df = sampled_train_df.sample(n=100, random_state=10)\n",
    "final_val_df = sampled_train_df.drop(final_train_df.index).reset_index(drop=True)\n",
    "final_train_df = final_train_df.reset_index(drop=True)\n",
    "\n",
    "final_test_df = first_per_doc_test_df.sample(n=200, random_state=10)\n",
    "\n",
    "print(final_train_df.shape, final_val_df.shape, final_test_df.shape)\n",
    "display(final_train_df.head())"
   ]
  },
  {
   "cell_type": "code",
   "execution_count": 7,
   "id": "66b81dab",
   "metadata": {},
   "outputs": [],
   "source": [
    "final_train_df.to_parquet('final_finance_qa_train.parquet', index=False)\n",
    "final_val_df.to_parquet('final_finance_qa_val.parquet', index=False)\n",
    "final_test_df.to_parquet('final_finance_qa_test.parquet', index=False)"
   ]
  }
 ],
 "metadata": {
  "kernelspec": {
   "display_name": ".venv",
   "language": "python",
   "name": "python3"
  },
  "language_info": {
   "codemirror_mode": {
    "name": "ipython",
    "version": 3
   },
   "file_extension": ".py",
   "mimetype": "text/x-python",
   "name": "python",
   "nbconvert_exporter": "python",
   "pygments_lexer": "ipython3",
   "version": "3.13.5"
  }
 },
 "nbformat": 4,
 "nbformat_minor": 5
}

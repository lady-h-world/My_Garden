{
 "cells": [
  {
   "cell_type": "markdown",
   "id": "07ca39f3",
   "metadata": {},
   "source": [
    "Licensed under the MIT License.\n",
    "\n",
    "Copyright (c) 2025-2035. All rights reserved by Hanhan Wu.\n",
    "\n",
    "Permission is hereby granted to view this code for evaluation purposes only.\n",
    "You may not reuse, copy, modify, merge, publish, distribute, sublicense,\n",
    "or exploit this code without Hanhan Wu's EXPLICIT written permission.\n",
    "\n",
    "\n",
    "# AdalFlow on Bigger FIQA Data & Optimize Answer Generation\n",
    "\n",
    "* Dataset\n",
    "  * 30 training records\n",
    "  * 30 validation records\n",
    "  * 30 testing records\n",
    "* Optimization\n",
    "  * teacher generator for few-shot learning\n",
    "  * backward_engine & optimizer for text_grad optimization\n",
    "  * Added `self.configure_text_optimizer_helper()` to customize LLM used in the optimization\n",
    "  * Added `few_shot_demos` to add examples in training, indeed improved the performance here\n",
    "  * Added `regularization_fn` in `optimizer_config`"
   ]
  },
  {
   "cell_type": "code",
   "execution_count": null,
   "id": "f045bba8",
   "metadata": {},
   "outputs": [],
   "source": [
    "%load_ext autoreload\n",
    "%autoreload 2\n",
    "\n",
    "import pandas as pd\n",
    "import re\n",
    "import json\n",
    "import matplotlib.pyplot as plt\n",
    "from pprint import pprint\n",
    "from dataclasses import dataclass, field\n",
    "from typing import Union, Dict, Callable, Any, Tuple\n",
    "\n",
    "import adalflow as adal\n",
    "from adalflow.datasets.hotpot_qa import HotPotQAData\n",
    "from adalflow.components.model_client.openai_client import OpenAIClient\n",
    "from adalflow.eval.g_eval import GEvalLLMJudge, GEvalJudgeEvaluator, NLGTask\n",
    "\n",
    "import warnings\n",
    "warnings.filterwarnings('ignore')\n",
    "\n",
    "\n",
    "model_str = \"gpt-4.1-nano\"\n",
    "gpt4_model = {\n",
    "    \"model_client\": OpenAIClient(),\n",
    "    \"model_kwargs\": {\n",
    "        \"model\": model_str,\n",
    "        \"temperature\": 0.7,\n",
    "    },\n",
    "}\n",
    "model_kwargs = {\n",
    "        \"model\": model_str,\n",
    "        \"temperature\": 0.7,\n",
    "    }"
   ]
  },
  {
   "cell_type": "markdown",
   "id": "d941ed71",
   "metadata": {},
   "source": [
    "### Create Data Input"
   ]
  },
  {
   "cell_type": "code",
   "execution_count": 3,
   "id": "28d25d1b",
   "metadata": {},
   "outputs": [
    {
     "name": "stdout",
     "output_type": "stream",
     "text": [
      "(30, 4) (30, 4) (30, 4)\n"
     ]
    },
    {
     "data": {
      "text/html": [
       "<div>\n",
       "<style scoped>\n",
       "    .dataframe tbody tr th:only-of-type {\n",
       "        vertical-align: middle;\n",
       "    }\n",
       "\n",
       "    .dataframe tbody tr th {\n",
       "        vertical-align: top;\n",
       "    }\n",
       "\n",
       "    .dataframe thead th {\n",
       "        text-align: right;\n",
       "    }\n",
       "</style>\n",
       "<table border=\"1\" class=\"dataframe\">\n",
       "  <thead>\n",
       "    <tr style=\"text-align: right;\">\n",
       "      <th></th>\n",
       "      <th>doc_id</th>\n",
       "      <th>context</th>\n",
       "      <th>question</th>\n",
       "      <th>ground_truth</th>\n",
       "    </tr>\n",
       "  </thead>\n",
       "  <tbody>\n",
       "    <tr>\n",
       "      <th>0</th>\n",
       "      <td>1361.jpeg</td>\n",
       "      <td>[### Document Type\\nThe document is an adverti...</td>\n",
       "      <td>What is the client company for this financial ...</td>\n",
       "      <td>The client company is P.M. Inc.</td>\n",
       "    </tr>\n",
       "    <tr>\n",
       "      <th>1</th>\n",
       "      <td>8297.jpeg</td>\n",
       "      <td>[### Document Type\\nThe image depicts an invoi...</td>\n",
       "      <td>What is the company name and address listed on...</td>\n",
       "      <td>The company name is Copiadora Gouldsvey, and t...</td>\n",
       "    </tr>\n",
       "    <tr>\n",
       "      <th>2</th>\n",
       "      <td>2319.jpeg</td>\n",
       "      <td>[### Document Type\\nThis image presents a fina...</td>\n",
       "      <td>What is the total farm cash receipts from 1988...</td>\n",
       "      <td>The total farm cash receipts over the period 1...</td>\n",
       "    </tr>\n",
       "    <tr>\n",
       "      <th>3</th>\n",
       "      <td>6605.jpeg</td>\n",
       "      <td>[**Document Type:**  \\nThis is an invoice from...</td>\n",
       "      <td>Who is the issuer of the invoice?</td>\n",
       "      <td>Heyl &amp; Patterson</td>\n",
       "    </tr>\n",
       "    <tr>\n",
       "      <th>4</th>\n",
       "      <td>7974.jpeg</td>\n",
       "      <td>[**Document Type**: The image features an Invo...</td>\n",
       "      <td>What is the invoice number of the document?</td>\n",
       "      <td>The invoice number is 3195004.</td>\n",
       "    </tr>\n",
       "  </tbody>\n",
       "</table>\n",
       "</div>"
      ],
      "text/plain": [
       "      doc_id                                            context  \\\n",
       "0  1361.jpeg  [### Document Type\\nThe document is an adverti...   \n",
       "1  8297.jpeg  [### Document Type\\nThe image depicts an invoi...   \n",
       "2  2319.jpeg  [### Document Type\\nThis image presents a fina...   \n",
       "3  6605.jpeg  [**Document Type:**  \\nThis is an invoice from...   \n",
       "4  7974.jpeg  [**Document Type**: The image features an Invo...   \n",
       "\n",
       "                                            question  \\\n",
       "0  What is the client company for this financial ...   \n",
       "1  What is the company name and address listed on...   \n",
       "2  What is the total farm cash receipts from 1988...   \n",
       "3                  Who is the issuer of the invoice?   \n",
       "4        What is the invoice number of the document?   \n",
       "\n",
       "                                        ground_truth  \n",
       "0                    The client company is P.M. Inc.  \n",
       "1  The company name is Copiadora Gouldsvey, and t...  \n",
       "2  The total farm cash receipts over the period 1...  \n",
       "3                                   Heyl & Patterson  \n",
       "4                     The invoice number is 3195004.  "
      ]
     },
     "execution_count": 3,
     "metadata": {},
     "output_type": "execute_result"
    }
   ],
   "source": [
    "train_df = pd.read_parquet('final_finance_qa_train.parquet')\n",
    "val_df = pd.read_parquet('final_finance_qa_val.parquet')\n",
    "test_df = pd.read_parquet('final_finance_qa_test.parquet')\n",
    "\n",
    "print(train_df.shape, val_df.shape, test_df.shape)\n",
    "train_df.head()"
   ]
  },
  {
   "cell_type": "code",
   "execution_count": 4,
   "id": "b72a69af",
   "metadata": {},
   "outputs": [
    {
     "name": "stdout",
     "output_type": "stream",
     "text": [
      "(90, 4)\n",
      "(90, 3)\n"
     ]
    },
    {
     "data": {
      "text/html": [
       "<div>\n",
       "<style scoped>\n",
       "    .dataframe tbody tr th:only-of-type {\n",
       "        vertical-align: middle;\n",
       "    }\n",
       "\n",
       "    .dataframe tbody tr th {\n",
       "        vertical-align: top;\n",
       "    }\n",
       "\n",
       "    .dataframe thead th {\n",
       "        text-align: right;\n",
       "    }\n",
       "</style>\n",
       "<table border=\"1\" class=\"dataframe\">\n",
       "  <thead>\n",
       "    <tr style=\"text-align: right;\">\n",
       "      <th></th>\n",
       "      <th>question</th>\n",
       "      <th>context</th>\n",
       "      <th>ground_truth</th>\n",
       "    </tr>\n",
       "  </thead>\n",
       "  <tbody>\n",
       "    <tr>\n",
       "      <th>0</th>\n",
       "      <td>What is the client company for this financial ...</td>\n",
       "      <td>[### Document Type\\nThe document is an adverti...</td>\n",
       "      <td>The client company is P.M. Inc.</td>\n",
       "    </tr>\n",
       "    <tr>\n",
       "      <th>1</th>\n",
       "      <td>What is the company name and address listed on...</td>\n",
       "      <td>[### Document Type\\nThe image depicts an invoi...</td>\n",
       "      <td>The company name is Copiadora Gouldsvey, and t...</td>\n",
       "    </tr>\n",
       "    <tr>\n",
       "      <th>2</th>\n",
       "      <td>What is the total farm cash receipts from 1988...</td>\n",
       "      <td>[### Document Type\\nThis image presents a fina...</td>\n",
       "      <td>The total farm cash receipts over the period 1...</td>\n",
       "    </tr>\n",
       "    <tr>\n",
       "      <th>3</th>\n",
       "      <td>Who is the issuer of the invoice?</td>\n",
       "      <td>[**Document Type:**  \\nThis is an invoice from...</td>\n",
       "      <td>Heyl &amp; Patterson</td>\n",
       "    </tr>\n",
       "    <tr>\n",
       "      <th>4</th>\n",
       "      <td>What is the invoice number of the document?</td>\n",
       "      <td>[**Document Type**: The image features an Invo...</td>\n",
       "      <td>The invoice number is 3195004.</td>\n",
       "    </tr>\n",
       "  </tbody>\n",
       "</table>\n",
       "</div>"
      ],
      "text/plain": [
       "                                            question  \\\n",
       "0  What is the client company for this financial ...   \n",
       "1  What is the company name and address listed on...   \n",
       "2  What is the total farm cash receipts from 1988...   \n",
       "3                  Who is the issuer of the invoice?   \n",
       "4        What is the invoice number of the document?   \n",
       "\n",
       "                                             context  \\\n",
       "0  [### Document Type\\nThe document is an adverti...   \n",
       "1  [### Document Type\\nThe image depicts an invoi...   \n",
       "2  [### Document Type\\nThis image presents a fina...   \n",
       "3  [**Document Type:**  \\nThis is an invoice from...   \n",
       "4  [**Document Type**: The image features an Invo...   \n",
       "\n",
       "                                        ground_truth  \n",
       "0                    The client company is P.M. Inc.  \n",
       "1  The company name is Copiadora Gouldsvey, and t...  \n",
       "2  The total farm cash receipts over the period 1...  \n",
       "3                                   Heyl & Patterson  \n",
       "4                     The invoice number is 3195004.  "
      ]
     },
     "execution_count": 4,
     "metadata": {},
     "output_type": "execute_result"
    }
   ],
   "source": [
    "all_df = pd.concat([train_df, val_df, test_df], ignore_index=True)\n",
    "print(all_df.shape)\n",
    "all_df_lst = all_df.to_dict(orient='records')\n",
    "\n",
    "rag_lst = []\n",
    "for record in all_df_lst:\n",
    "    rag_lst.append({\n",
    "        'question': record['question'],\n",
    "        'context': record['context'],\n",
    "        'ground_truth': record['ground_truth']\n",
    "    })\n",
    "\n",
    "rag_df = pd.DataFrame(rag_lst)\n",
    "print(rag_df.shape)\n",
    "rag_df.head()"
   ]
  },
  {
   "cell_type": "code",
   "execution_count": 5,
   "id": "c29cf57e",
   "metadata": {},
   "outputs": [
    {
     "name": "stdout",
     "output_type": "stream",
     "text": [
      "90\n"
     ]
    },
    {
     "data": {
      "text/plain": [
       "{'question': 'What is the client company for this financial estimate recap?',\n",
       " 'answer': None,\n",
       " 'id': 'fa226c55-16a2-4d5a-a92f-82038ccef70c',\n",
       " 'gold_titles': 'The client company is P.M. Inc.',\n",
       " 'context': array([\"### Document Type\\nThe document is an advertising financial estimate recap issued by Leo Burnett USA.\\n\\n### Key Details\\n- **Document Identifier:** Estimate Recap - 0001(S)\\n- **Client:** P.M. Inc.\\n- **Date Issued:** June 1, 1985, with a review date of April 12, 1985\\n- **Product/Service:** 42-Dunhill Test\\n- **Period Covered:** June to September 1985\\n- **Description:** 771A - Dunhill Test Cut-In - Ethnic Paint\\n- **Key Financials:**\\n  - **June 1985:** $13,846.84\\n  - **July 1985:** $13,846.84\\n  - **August 1985:** $13,846.84\\n  - **September 1985:** $17,566.17\\n  - **Q3 Total:** $59,106.69\\n- **Gross Change for September 1985:** $3,719.33\\n- **Total Gross Change:** $3,719.33\\n- **Signature:** Document is signed, indicating approval or finalization.\\n\\n### Insights and Observations\\n- The document outlines monthly financial estimates tied to an advertising project specifically for 'Dunhill Test' presumably a campaign for P.M. Inc.\\n- There is a noticeable increase in spending in September 1985, which marked an upsurge of $3,719.33 compared to previous months. This suggests either an expansion in advertising scope or additional costs incurred.\\n- The consistent figures in June to August and the sudden rise in September could indicate strategic planning phases followed by implementation phase which is often more costly.\\n- The presence of a signature in green indicates final approval of the financial estimates, signifying that the presented numbers have been reviewed and accepted by a relevant authority within or associated with Leo Burnett USA. \\n\\nUnderstanding the financial trajectory and approval process highlighted in this document is crucial for tracking budget implementation and effectiveness of the advertising spending over the specified period.\"],\n",
       "       dtype=object)}"
      ]
     },
     "execution_count": 5,
     "metadata": {},
     "output_type": "execute_result"
    }
   ],
   "source": [
    "def fiqa_to_hotpotqa(record):\n",
    "    return HotPotQAData(\n",
    "        question=record['question'],\n",
    "        gold_titles=record['ground_truth'],\n",
    "        context=record['context']\n",
    "    )\n",
    "\n",
    "fiqa_as_hotpotqa = [fiqa_to_hotpotqa(s) for s in all_df_lst]\n",
    "print(len(fiqa_as_hotpotqa))\n",
    "fiqa_as_hotpotqa[0].to_dict()"
   ]
  },
  {
   "cell_type": "code",
   "execution_count": 6,
   "id": "9c1fe944",
   "metadata": {},
   "outputs": [
    {
     "name": "stdout",
     "output_type": "stream",
     "text": [
      "30 30 30\n"
     ]
    }
   ],
   "source": [
    "trainset = fiqa_as_hotpotqa[0:len(train_df)]\n",
    "valset = fiqa_as_hotpotqa[len(train_df):len(train_df) + len(val_df)]\n",
    "testset = fiqa_as_hotpotqa[len(train_df) + len(val_df):]\n",
    "print(len(trainset), len(valset), len(testset))"
   ]
  },
  {
   "cell_type": "markdown",
   "id": "9ef96f6e",
   "metadata": {},
   "source": [
    "### AdalFlow Optimization\n",
    "\n",
    "* References\n",
    "  * How to use AdalFlow's GEval and LLM-as-Judge: https://colab.research.google.com/github/SylphAI-Inc/AdalFlow/blob/main/notebooks/evaluation/adalflow_llm_eval.ipynb\n",
    "  * Official evaluation page (I think their user guide is very confusing 😅): https://adalflow.sylph.ai/apis/eval/index.html"
   ]
  },
  {
   "cell_type": "code",
   "execution_count": 7,
   "id": "58a1351e",
   "metadata": {},
   "outputs": [
    {
     "name": "stdout",
     "output_type": "stream",
     "text": [
      "Context: [\"### Document Type\\nThe document is an advertising financial estimate recap issued by Leo Burnett USA.\\n\\n### Key Details\\n- **Document Identifier:** Estimate Recap - 0001(S)\\n- **Client:** P.M. Inc.\\n- **Date Issued:** June 1, 1985, with a review date of April 12, 1985\\n- **Product/Service:** 42-Dunhill Test\\n- **Period Covered:** June to September 1985\\n- **Description:** 771A - Dunhill Test Cut-In - Ethnic Paint\\n- **Key Financials:**\\n  - **June 1985:** $13,846.84\\n  - **July 1985:** $13,846.84\\n  - **August 1985:** $13,846.84\\n  - **September 1985:** $17,566.17\\n  - **Q3 Total:** $59,106.69\\n- **Gross Change for September 1985:** $3,719.33\\n- **Total Gross Change:** $3,719.33\\n- **Signature:** Document is signed, indicating approval or finalization.\\n\\n### Insights and Observations\\n- The document outlines monthly financial estimates tied to an advertising project specifically for 'Dunhill Test' presumably a campaign for P.M. Inc.\\n- There is a noticeable increase in spending in September 1985, which marked an upsurge of $3,719.33 compared to previous months. This suggests either an expansion in advertising scope or additional costs incurred.\\n- The consistent figures in June to August and the sudden rise in September could indicate strategic planning phases followed by implementation phase which is often more costly.\\n- The presence of a signature in green indicates final approval of the financial estimates, signifying that the presented numbers have been reviewed and accepted by a relevant authority within or associated with Leo Burnett USA. \\n\\nUnderstanding the financial trajectory and approval process highlighted in this document is crucial for tracking budget implementation and effectiveness of the advertising spending over the specified period.\"]\n",
      "Question: What is the client company for this financial estimate recap?\n",
      "Answer: None\n",
      "\n",
      "---\n",
      "Context: ['### Document Type\\nThe image depicts an invoice.\\n\\n### Key Details\\n- **Invoice Header**\\n  - **Company Name:** Copiadora Gouldsvey\\n  - **Address:** 12 Calle Guisqueya, HATO Rey PR 00917-1236\\n  - **Phone/Fax:** (787) 764-1511 / Fax 756-8195\\n  - **Date:** June 10, 1998\\n  - **Invoice Number:** 343419\\n\\n- **Sold To**\\n  - **Customer Name:** Ramos Diaz, Juan A. LCDO.\\n  - **Address:** Ave. De Diego # 339 Suite 901, San Juan, PR, 00909-1711\\n\\n- **Ship To**\\n  - **Customer Name:** Ramos Diaz, Juan A. LCDO.\\n  - **Address:** Ave. De Diego # 339 Suite 901, San Juan, PR, 00909-1711\\n\\n- **Items Sold**\\n  - **Part Number:** 54710\\n  - **Description:** MANUAL, N342. PAGE\\n  - **Quantity:** 1.00\\n  - **Unit Price:** $42.00\\n  - **Extended Price:** $42.00\\n\\n- **Financial Summary**\\n  - **Sales Total:** $42.00\\n  - **Miscellaneous Charges:** $3.00\\n  - **Sales Tax:** $3.83\\n  - **Shipping:** $2.00\\n  - **Invoice Total:** $50.83\\n\\n- **Authorization**\\n  - **Signatures:** Three signatures are present, with \"Juan Letuina\" clearly visible alongside two unreadable ones.\\n\\n### Insights and Observations\\n- The invoice is from 1998, which suggests it may not have any current legal or financial implication but would be significant for historical record-keeping.\\n- Both the billing and shipping addresses are the same, indicating that the purchased item was likely for business use at the same location.\\n- The financial details listed are concise and typical of standard business invoices from this time period, including the segmentation of costs (Sales Total, Miscellaneous Charges, Sales Tax, and Shipping).\\n- The document includes manual item entries, which might have been more prone to error. This necessitates careful archival and cross-referencing for financial accuracy and compliance from historical perspectives.\\n- The presence of multiple signatures suggests validations and approvals which are critical for internal audits and tracking business transactions.\\n\\nThis invoice provides a clear breakdown of sales-related transactions and would serve primarily as a record-keeping tool in financial and business history analyses.']\n",
      "Question: What is the company name and address listed on the invoice?\n",
      "Answer: None\n",
      "\n",
      "---\n",
      "Context: ['### Document Type\\nThis image presents a financial data table likely from a report, specifically `Table 31`, highlighting \"Cash receipts from farm marketings and tobacco\" for the years 1988 to 1997.\\n\\n### Key Details\\n- **Title of Table**: Cash receipts from farm marketings and tobacco, 1988-97\\n- **Data Range**: 1988 to 1997 (annual data)\\n- **Categories Detailed**:\\n  - Livestock and products\\n  - All crops\\n  - Total farm cash receipts\\n- **Cash Receipts (in million dollars)**:\\n  - **1988**: Livestock (79,640), Crops (71,603), Total (151,243)\\n  - **1989**: Livestock (83,918), Crops (76,892), Total (160,810)\\n  - **1990**: Livestock (89,313), Crops (80,356), Total (169,669)\\n  - **1991**: Livestock (85,750), Crops (82,251), Total (167,951)\\n  - **1992**: Livestock (85,596), Crops (85,662), Total (171,346)\\n  - **1993**: Livestock (90,036), Crops (87,102), Total (177,617)\\n  - **1994**: Livestock (88,107), Crops (91,562), Total (180,775)\\n  - **1995**: Livestock (87,004), Crops (100,700), Total (187,704)\\n  - **1996**: Livestock (92,914), Crops (109,425), Total (202,339)\\n  - **1997** (Preliminary): Livestock (93,444), Crops (108,373), Total (201,822)\\n- **Source Annotation**: USDA, possibly sourced from an online USDA briefing room or report archive (as indicated by a URL on the document)\\n\\n### Insights and Observations\\n- **Trend Analysis**: There is a noticeable growth in total annual farm cash receipts over the decade, reflecting increases in both livestock and crop sectors.\\n- **Significant Increase in Crop Sector**: From 1988 to 1996, cash receipts from crops show a significant increase, notably a growth of approximately 52% from 71,603 million dollars in 1988 to 109,425 million dollars in 1996. This might indicate improved crop yields, price increases, or expansion of cultivated areas.\\n- **Stability in Livestock Sector**: The livestock sector shows relatively stable growth with minor fluctuations from year to year.\\n- **Document Quality and Handling**: Trace annotations and scribbles, possibly indicating usage and referencing for reports or presentations. These annotations might reflect document handling and utilization in professional settings.\\n\\nThis table provides valuable historical financial data for analyzing trends in farm marketings and can aid in economic studies, policy-making, or market forecasts regarding the agricultural sector.']\n",
      "Question: What is the total farm cash receipts from 1988 to 1997?\n",
      "Answer: None\n",
      "\n"
     ]
    }
   ],
   "source": [
    "task_desc_str = r\"\"\"Answer questions with short factoid answers.\n",
    "                    You will receive context(contain relevant facts).\n",
    "                    Think step by step.\n",
    "                \"\"\"\n",
    "\n",
    "\n",
    "prompt_template = \"\"\"<START_OF_SYSTEM_PROMPT>\n",
    "{{task_desc_str}}\n",
    "\n",
    "{{output_format_str}}\n",
    "{# Few shot demos #}\n",
    "{% if few_shot_demos is not none %}\n",
    "    Here are some examples:\n",
    "    {{few_shot_demos}}\n",
    "{% endif %}\n",
    "<END_OF_SYSTEM_PROMPT>\n",
    "<START_OF_USER>\n",
    "    Context: {{context}}\n",
    "    Question: {{question}}\n",
    "<END_OF_USER>\n",
    "\"\"\"\n",
    "\n",
    "\n",
    "def format_few_shot_demo(example):\n",
    "    return f\"Context: {example.context}\\nQuestion: {example.question}\\nAnswer: {example.answer}\\n\"\n",
    "\n",
    "few_shot_examples = trainset[:3]  # Use first 3 as demos\n",
    "few_shot_demos_str = \"\\n---\\n\".join([format_few_shot_demo(e) for e in few_shot_examples])\n",
    "print(few_shot_demos_str)"
   ]
  },
  {
   "cell_type": "code",
   "execution_count": 8,
   "id": "b61235db",
   "metadata": {},
   "outputs": [],
   "source": [
    "@dataclass\n",
    "class AnswerData(adal.DataClass):\n",
    "    reasoning: str = field(\n",
    "        metadata={\"desc\": \"The reasoning to produce the answer\"},\n",
    "    )\n",
    "    answer: str = field(\n",
    "        metadata={\"desc\": \"The answer you produced\"},\n",
    "    )\n",
    "\n",
    "    __output_fields__ = [\"reasoning\", \"answer\"]\n",
    "\n",
    "\n",
    "class RAG_AnswerGeneration(adal.Component):\n",
    "    def __init__(self, model_client=None, model_kwargs=None):\n",
    "        super().__init__()\n",
    "\n",
    "        self.llm_parser = adal.DataClassParser(\n",
    "            data_class=AnswerData, return_data_class=True, format_type=\"json\"\n",
    "        )\n",
    "        self.llm = adal.Generator(\n",
    "            model_client=model_client,\n",
    "            model_kwargs=model_kwargs,\n",
    "            prompt_kwargs={\n",
    "                \"task_desc_str\": adal.Parameter(\n",
    "                    data=task_desc_str,\n",
    "                    role_desc=\"\"\"Task description for the language model,\\\n",
    "                            used with the following template: \\\n",
    "                                {{task_desc_str}} \\\n",
    "                                {{output_format_str}}\\\n",
    "                            <START_OF_USER>\n",
    "                                Context: {{context}}\n",
    "                                Question: {{question}}\n",
    "                            <END_OF_USER>\"\"\",\n",
    "                    param_type=adal.ParameterType.PROMPT,\n",
    "                    requires_opt=True,\n",
    "                    instruction_to_backward_engine=\"\"\"You need find the best way\n",
    "                            (where does the right answer come from the context) \n",
    "                            to extract the RIGHT answer from the context.\"\"\",\n",
    "                    instruction_to_optimizer=\"\"\"\n",
    "                        Write ONLY general instructions for answering questions. \n",
    "                        Do NOT include any specific answers, facts, or content from the dataset or any query. \n",
    "                        Do NOT copy or paraphrase any ground-truth answer. \n",
    "                        Your output must be a reusable prompt template, not a response to a specific question.\n",
    "                    \"\"\",\n",
    "                ),\n",
    "                \"output_format_str\": self.llm_parser.get_output_format_str(),\n",
    "            },\n",
    "            template=prompt_template,\n",
    "            output_processors=self.llm_parser,\n",
    "            use_cache=True,\n",
    "        )\n",
    "\n",
    "    def bicall(\n",
    "        self, \n",
    "        question: str, \n",
    "        retrieved_context: str,\n",
    "        id: str = None,\n",
    "        few_shot_demos: str = None\n",
    "    ) -> Union[adal.GeneratorOutput, adal.Parameter]:\n",
    "        \"\"\"\n",
    "            This function is used to call the model for both training and eval mode.\n",
    "        \"\"\"\n",
    "        prompt_kwargs = {\n",
    "            \"context\": retrieved_context,\n",
    "            \"question\": question,\n",
    "        }\n",
    "        if few_shot_demos is not None:\n",
    "            prompt_kwargs[\"few_shot_demos\"] = few_shot_demos\n",
    "        output = self.llm(prompt_kwargs=prompt_kwargs, id=id)\n",
    "        return output"
   ]
  },
  {
   "cell_type": "code",
   "execution_count": 9,
   "id": "4575397e",
   "metadata": {},
   "outputs": [
    {
     "name": "stdout",
     "output_type": "stream",
     "text": [
      "GeneratorOutput(id=None, data=AnswerData(reasoning=\"The context explicitly states that the client for the financial estimate recap is P.M. Inc., which is mentioned under the 'Key Details' section.\", answer='P.M. Inc.'), error=None, usage=CompletionUsage(completion_tokens=51, prompt_tokens=2347, total_tokens=2398), raw_response='```json\\n{\\n    \"reasoning\": \"The context explicitly states that the client for the financial estimate recap is P.M. Inc., which is mentioned under the \\'Key Details\\' section.\",\\n    \"answer\": \"P.M. Inc.\"\\n}\\n```', metadata=None)\n",
      "AnswerData(reasoning='The context explicitly states that the client for the '\n",
      "                     'financial estimate recap is P.M. Inc., which is '\n",
      "                     \"mentioned under the 'Key Details' section.\",\n",
      "           answer='P.M. Inc.')\n"
     ]
    }
   ],
   "source": [
    "# test above RAG_AnswerGeneration logic\n",
    "random_test_data = fiqa_as_hotpotqa[0].to_dict()\n",
    "\n",
    "rag = RAG_AnswerGeneration(**gpt4_model)\n",
    "output = rag.bicall(\n",
    "    question=random_test_data['question'],\n",
    "    retrieved_context=random_test_data['context'],\n",
    "    few_shot_demos=few_shot_demos_str\n",
    ")\n",
    "print(output)\n",
    "pprint(output.data)"
   ]
  },
  {
   "cell_type": "code",
   "execution_count": 10,
   "id": "901cb9f5",
   "metadata": {},
   "outputs": [],
   "source": [
    "class HotPotQAAdal(adal.AdalComponent):\n",
    "    def __init__(\n",
    "        self,\n",
    "        backward_engine_model_config: Dict | None = None,\n",
    "        teacher_model_config: Dict | None = None,\n",
    "        text_optimizer_model_config: Dict | None = None,\n",
    "        task: adal.Component | None = None,  # initialized task\n",
    "    ):\n",
    "        g_eval = GEvalLLMJudge(default_task=NLGTask.SUMMARIZATION,\n",
    "                                model_kwargs=model_kwargs)\n",
    "        g_evaluator = GEvalJudgeEvaluator(llm_judge=g_eval)\n",
    "        def extract_overall(**kwargs):\n",
    "            if 'input_str'  in kwargs:\n",
    "                match = re.search(r\"Reference Answer:(.*)Predicted Answer:(.*)\", kwargs['input_str'], re.DOTALL)\n",
    "                if match:\n",
    "                    reference = match.group(1).strip()\n",
    "                    predicted = match.group(2).strip()\n",
    "            else:\n",
    "                predicted = kwargs.get(\"y\")\n",
    "                reference = kwargs.get(\"y_gt\")\n",
    "\n",
    "            input_str = f\"Reference Answer: {reference}\\nPredicted Answer: {predicted}\"\n",
    "            return g_evaluator.compute_single_item(input_str)[\"overall\"]\n",
    "\n",
    "        eval_fn = extract_overall\n",
    "        loss_eval_fn = extract_overall\n",
    "\n",
    "        loss_fn = adal.EvalFnToTextLoss(\n",
    "            eval_fn=loss_eval_fn,\n",
    "            eval_fn_desc=\"GEval score\",\n",
    "        )\n",
    "        super().__init__(\n",
    "            task=task,\n",
    "            eval_fn=eval_fn,\n",
    "            loss_eval_fn=loss_eval_fn,\n",
    "            loss_fn=loss_fn,\n",
    "            backward_engine_model_config=backward_engine_model_config,\n",
    "            teacher_model_config=teacher_model_config,\n",
    "            text_optimizer_model_config=text_optimizer_model_config,\n",
    "        )\n",
    "        self.configure_text_optimizer_helper(\n",
    "            model_client=OpenAIClient(),\n",
    "            model_kwargs={\"temperature\": 0.3}\n",
    "        )\n",
    "\n",
    "    def prepare_task(self, sample: HotPotQAData) -> Tuple[Callable[..., Any], Dict]:\n",
    "        task_kwargs = {\n",
    "            \"question\": sample.question,\n",
    "            \"retrieved_context\": sample.context,\n",
    "            \"id\": getattr(sample, \"id\", None),\n",
    "            \"few_shot_demos\": few_shot_demos_str,\n",
    "        }\n",
    "        if self.task.training:\n",
    "            return self.task.forward, task_kwargs\n",
    "        else:\n",
    "            return self.task.call, task_kwargs\n",
    "\n",
    "    def prepare_eval(self, sample: HotPotQAData, y_pred: adal.GeneratorOutput):\n",
    "        y_label = \"\"\n",
    "        if y_pred and y_pred.data and y_pred.data.answer:\n",
    "            y_label = y_pred.data.answer\n",
    "\n",
    "        input_str = (\n",
    "            f\"Reference Answer: {sample.gold_titles}\\n\"\n",
    "            f\"Predicted Answer: {y_label}\"\n",
    "        )\n",
    "\n",
    "        return self.eval_fn, {'input_str': input_str}\n",
    "\n",
    "\n",
    "    def prepare_loss_eval(self, sample: Any, y_pred: Any, *args, **kwargs):\n",
    "        y_label = \"\"\n",
    "        if y_pred and y_pred.data and y_pred.data.answer:\n",
    "            y_label = y_pred.data.answer\n",
    "\n",
    "        input_str = (\n",
    "            f\"Reference Answer: {sample.gold_titles}\\n\"\n",
    "            f\"Predicted Answer: {y_label}\"\n",
    "        )\n",
    "\n",
    "        return self.loss_eval_fn, {'input_str': input_str}\n",
    "\n",
    "\n",
    "    def prepare_loss(self, sample: HotPotQAData, pred: adal.Parameter):\n",
    "        y_gt = adal.Parameter(\n",
    "            name=\"y_gt\",\n",
    "            data=sample.gold_titles,\n",
    "            eval_input=sample.gold_titles,\n",
    "            requires_opt=False,\n",
    "        )\n",
    "        context_param = adal.Parameter(\n",
    "            name=\"context\",\n",
    "            data=sample.context,\n",
    "            eval_input=sample.context,  # you could also stringify it if needed\n",
    "            requires_opt=False,\n",
    "        )\n",
    "\n",
    "        pred.eval_input = (\n",
    "            pred.data.data.answer\n",
    "            if pred.data and pred.data.data and pred.data.data.answer\n",
    "            else \"\"\n",
    "        )\n",
    "        return self.loss_fn, {\n",
    "            \"kwargs\": {\"y\": pred, \"y_gt\": y_gt,\n",
    "                        \"context\": context_param},\n",
    "            \"input\": {\"question\": sample.question,\n",
    "                       \"retrieved_context\": sample.context},\n",
    "            \"gt\": sample.gold_titles,\n",
    "            \"id\": sample.id,\n",
    "        }"
   ]
  },
  {
   "cell_type": "markdown",
   "id": "90fef285",
   "metadata": {},
   "source": [
    "<b>Evaluation Only</b>"
   ]
  },
  {
   "cell_type": "code",
   "execution_count": 11,
   "id": "b9ae4f16",
   "metadata": {},
   "outputs": [
    {
     "name": "stderr",
     "output_type": "stream",
     "text": [
      "Generator llm is already registered with jsonl file at C:\\Users\\wuhan\\AppData\\Roaming\\adalflow\\ckpt\\VallinaRAGAdal\\diagnose_train\\llm_call.jsonl\n"
     ]
    },
    {
     "name": "stdout",
     "output_type": "stream",
     "text": [
      "\u001b[36m2025-07-25 22:44:33 - [adal.py:852:configure_text_optimizer_helper] - Text optimizer configured for 1 parameters. names: [('llm.task_desc_str', 'Answer questions with short factoid answers.\\n                    You will receive context(contain relevant facts).\\n                    Think step by step.\\n                ')]\u001b[0m\n",
      "\u001b[36m2025-07-25 22:44:33 - [trainer.py:227:diagnose] - Checkpoint path: C:\\Users\\wuhan\\AppData\\Roaming\\adalflow\\ckpt\\HotPotQAAdal\u001b[0m\n"
     ]
    },
    {
     "name": "stderr",
     "output_type": "stream",
     "text": [
      "Loading Data: 100%|██████████| 30/30 [00:00<00:00, 1235.68it/s]\n",
      "Predicting: step(0): 0.8661 across 30 samples, Max potential: 0.8661: 100%|██████████| 30/30 [00:00<00:00, 67.29it/s]\n",
      "Error loading jsonl file C:\\Users\\wuhan\\AppData\\Roaming\\adalflow\\ckpt\\VallinaRAGAdal\\diagnose_train\\llm_call.jsonl: line contains invalid json: Trailing data (line 46)\n"
     ]
    },
    {
     "name": "stdout",
     "output_type": "stream",
     "text": [
      "Log file C:\\Users\\wuhan\\AppData\\Roaming\\adalflow\\ckpt\\VallinaRAGAdal\\diagnose_train\\llm_call.jsonl is empty. This llm is not called at all.\n",
      "\n",
      "================== DIAGNOSE REPORT ==================\n",
      "\n",
      "✔ Split: train\n",
      "✔ Overall accuracy score: 0.87\n",
      "✔ Log paths:\n",
      "  - Log 1: C:\\Users\\wuhan\\AppData\\Roaming\\adalflow\\ckpt\\VallinaRAGAdal\\diagnose_train\\llm_call.jsonl\n",
      "\n",
      "✔ Diagnose report completed successfully!\n",
      "\n",
      "=====================================================\n",
      "\n"
     ]
    }
   ],
   "source": [
    "def train_diagnose(model_client, model_kwargs):\n",
    "    task = RAG_AnswerGeneration(\n",
    "        model_client=model_client,\n",
    "        model_kwargs=model_kwargs\n",
    "    )\n",
    "\n",
    "    adal_component = HotPotQAAdal(task=task)\n",
    "    trainer = adal.Trainer(adaltask=adal_component)\n",
    "    trainer.diagnose(dataset=testset, split=\"train\")\n",
    "\n",
    "\n",
    "train_diagnose(**gpt4_model)"
   ]
  },
  {
   "cell_type": "markdown",
   "id": "4dc6a710",
   "metadata": {},
   "source": [
    "<b>Training</b>"
   ]
  },
  {
   "cell_type": "code",
   "execution_count": 12,
   "id": "02cbfe73",
   "metadata": {},
   "outputs": [],
   "source": [
    "def regularization_fn(prompt: str, sample: HotPotQAData) -> float:\n",
    "    # Penalize if ground-truth answer appears in the prompt\n",
    "    if sample.answer.strip() in prompt or sample.question.strip() in prompt:\n",
    "        return 1.0  # High penalty\n",
    "    return 0.0     # No penalty\n",
    "\n",
    "optimizer_config = {\n",
    "    \"regularization_fn\": regularization_fn,\n",
    "}\n",
    "\n",
    "def train(\n",
    "    task_model_cliet,\n",
    "    task_model_kwargs,\n",
    "    optimizer_model_config,\n",
    "    backward_engine_model_config,\n",
    "    train_batch_size=4,  # larger batch size is not that effective, probably because of llm's lost in the middle\n",
    "    raw_shots: int = 0,\n",
    "    bootstrap_shots: int = 4,\n",
    "    max_steps=1,\n",
    "    num_workers=4,\n",
    "    strategy=\"constrained\",\n",
    "    optimization_order=\"sequential\",\n",
    "    debug=False,\n",
    "    resume_from_ckpt=None,\n",
    "    exclude_input_fields_from_bootstrap_demos=True,\n",
    "    seed=10,\n",
    "    max_proposals_per_step: int = 5,\n",
    "    disable_backward_gradients: bool = False,\n",
    "    disable_backward: bool = False,\n",
    "):\n",
    "    task = RAG_AnswerGeneration(\n",
    "        model_client=task_model_cliet,\n",
    "        model_kwargs=task_model_kwargs\n",
    "    )\n",
    "\n",
    "    adal_component = HotPotQAAdal(\n",
    "        task=task,\n",
    "        text_optimizer_model_config=optimizer_model_config,\n",
    "        backward_engine_model_config=backward_engine_model_config,\n",
    "    )\n",
    "\n",
    "    trainer = adal.Trainer(\n",
    "        train_batch_size=train_batch_size,\n",
    "        optimizer_config = optimizer_config,\n",
    "        adaltask=adal_component,\n",
    "        strategy=strategy,\n",
    "        max_steps=max_steps,\n",
    "        num_workers=num_workers,\n",
    "        raw_shots=raw_shots,\n",
    "        bootstrap_shots=bootstrap_shots,\n",
    "        debug=debug,\n",
    "        weighted_sampling=False,\n",
    "        optimization_order=optimization_order,\n",
    "        exclude_input_fields_from_bootstrap_demos=exclude_input_fields_from_bootstrap_demos,\n",
    "        max_proposals_per_step=max_proposals_per_step,\n",
    "        text_optimizers_config_kwargs={\"max_past_history\": 5},\n",
    "        disable_backward_gradients=disable_backward_gradients,\n",
    "        disable_backward=disable_backward,\n",
    "    )\n",
    "    trainer.set_random_seed(seed)\n",
    "    print(trainer)\n",
    "\n",
    "    ckpt, _ = trainer.fit(\n",
    "        train_dataset=trainset,\n",
    "        val_dataset=valset,\n",
    "        test_dataset=testset,\n",
    "        resume_from_ckpt=resume_from_ckpt,\n",
    "    )\n",
    "    return ckpt"
   ]
  },
  {
   "cell_type": "code",
   "execution_count": 13,
   "id": "192da2a3",
   "metadata": {},
   "outputs": [
    {
     "name": "stdout",
     "output_type": "stream",
     "text": [
      "2025-07-25 22:44:52 - [adal.py:852:configure_text_optimizer_helper] - Text optimizer configured for 1 parameters. names: [('llm.task_desc_str', 'Answer questions with short factoid answers.\\n                    You will receive context(contain relevant facts).\\n                    Think step by step.\\n                ')]\n",
      "Trainer(\n",
      "  (adaltask): HotPotQAAdal(\n",
      "    eval_fn: extract_overall, backward_engine: None, backward_engine_model_config: {'model_client': OpenAIClient(), 'model_kwargs': {'model': 'gpt-4.1-nano', 'temperature': 0.7}}, teacher_model_config: None, text_optimizer_model_config: {'model_client': OpenAIClient(), 'model_kwargs': {'model': 'gpt-4.1-nano', 'temperature': 0.7}}\n",
      "    (task): RAG_AnswerGeneration(\n",
      "      (llm_parser): DataClassParser(\n",
      "        data_class=AnswerData, format_type=json,            return_data_class=True, input_fields=[],            output_fields=['reasoning', 'answer']\n",
      "        (_output_processor): JsonParser()\n",
      "        (output_format_prompt): template: Your output should be formatted as a standard JSON instance with the following schema:\n",
      "        ```\n",
      "        {{schema}}\n",
      "        ```\n",
      "        -Make sure to always enclose the JSON output in triple backticks (```). Please do not add anything other than valid JSON output!\n",
      "        -Use double quotes for the keys and string values.\n",
      "        -DO NOT mistaken the \"properties\" and \"type\" in the schema as the actual fields in the JSON output.\n",
      "        -Follow the JSON formatting conventions., prompt_variables: ['schema']\n",
      "      )\n",
      "      (llm): Generator(\n",
      "        model_kwargs={'model': 'gpt-4.1-nano', 'temperature': 0.7}, trainable_prompt_kwargs=['task_desc_str']\n",
      "        (prompt): template: <START_OF_SYSTEM_PROMPT>\n",
      "        {{task_desc_str}}\n",
      "        \n",
      "        {{output_format_str}}\n",
      "        {# Few shot demos #}\n",
      "        {% if few_shot_demos is not none %}\n",
      "            Here are some examples:\n",
      "            {{few_shot_demos}}\n",
      "        {% endif %}\n",
      "        <END_OF_SYSTEM_PROMPT>\n",
      "        <START_OF_USER>\n",
      "            Context: {{context}}\n",
      "            Question: {{question}}\n",
      "        <END_OF_USER>\n",
      "        , prompt_kwargs: {'task_desc_str': 'Answer questions with short factoid answers.\\n                    You will receive context(contain relevant facts).\\n                    Think step by step.\\n                ', 'output_format_str': 'Your output should be formatted as a standard JSON instance with the following schema:\\n```\\n{\\n    \"reasoning\": \"The reasoning to produce the answer (str) (required)\",\\n    \"answer\": \"The answer you produced (str) (required)\"\\n}\\n```\\n-Make sure to always enclose the JSON output in triple backticks (```). Please do not add anything other than valid JSON output!\\n-Use double quotes for the keys and string values.\\n-DO NOT mistaken the \"properties\" and \"type\" in the schema as the actual fields in the JSON output.\\n-Follow the JSON formatting conventions.'}, prompt_variables: ['question', 'few_shot_demos', 'task_desc_str', 'context', 'output_format_str']\n",
      "        (model_client): OpenAIClient()\n",
      "        (output_processors): DataClassParser(\n",
      "          data_class=AnswerData, format_type=json,            return_data_class=True, input_fields=[],            output_fields=['reasoning', 'answer']\n",
      "          (_output_processor): JsonParser()\n",
      "          (output_format_prompt): template: Your output should be formatted as a standard JSON instance with the following schema:\n",
      "          ```\n",
      "          {{schema}}\n",
      "          ```\n",
      "          -Make sure to always enclose the JSON output in triple backticks (```). Please do not add anything other than valid JSON output!\n",
      "          -Use double quotes for the keys and string values.\n",
      "          -DO NOT mistaken the \"properties\" and \"type\" in the schema as the actual fields in the JSON output.\n",
      "          -Follow the JSON formatting conventions., prompt_variables: ['schema']\n",
      "        )\n",
      "      )\n",
      "    )\n",
      "    (loss_fn): EvalFnToTextLoss()\n",
      "  )\n",
      ")\n",
      "raw_shots: 0, bootstrap_shots: 4\n",
      "No demo parameters found.\n",
      "2025-07-25 22:44:52 - [adal.py:852:configure_text_optimizer_helper] - Text optimizer configured for 1 parameters. names: [('llm.task_desc_str', 'Answer questions with short factoid answers.\\n                    You will receive context(contain relevant facts).\\n                    Think step by step.\\n                ')]\n",
      "No trainable demo params to optimize\n",
      "Backward engine configured for GradComponents\n"
     ]
    },
    {
     "name": "stderr",
     "output_type": "stream",
     "text": [
      "Loading Data: 100%|██████████| 30/30 [00:00<00:00, 2191.19it/s]\n",
      "Predicting: step(0): 0.885 across 30 samples, Max potential: 0.885: 100%|██████████| 30/30 [00:00<00:00, 102.98it/s]  \n",
      "Loading Data: 100%|██████████| 30/30 [00:00<00:00, 3472.78it/s]\n",
      "Predicting: step(0): 0.8661 across 30 samples, Max potential: 0.8661: 100%|██████████| 30/30 [00:00<00:00, 97.30it/s]\n"
     ]
    },
    {
     "name": "stdout",
     "output_type": "stream",
     "text": [
      "Initial validation score: 0.8849999999999999\n",
      "Initial test score: 0.8661111111111112\n",
      "2025-07-25 22:44:53 - [trainer.py:2343:_fit_text_grad_constraint] - Fitting using Textual Gradient Descent with constraints\n",
      "_fit_text_grad_constraint save to C:\\Users\\wuhan\\AppData\\Roaming\\adalflow\\ckpt\\HotPotQAAdal\\constrained_max_steps_12_21fb6_run_1.json\n"
     ]
    },
    {
     "name": "stderr",
     "output_type": "stream",
     "text": [
      "Epoch:   0%|          | 0/2 [00:00<?, ?it/s]"
     ]
    },
    {
     "name": "stdout",
     "output_type": "stream",
     "text": [
      "Epoch: 0\n"
     ]
    },
    {
     "name": "stderr",
     "output_type": "stream",
     "text": [
      "Training Step: 1:   0%|          | 0/8 [00:00<?, ?it/s]\n",
      "Loading Data: 100%|██████████| 4/4 [00:00<00:00, 159.67it/s]\n",
      "Training: 100%|██████████| 4/4 [00:02<00:00,  1.37it/s]\n",
      "\n",
      "Loading Data: 100%|██████████| 4/4 [00:00<00:00, 160.82it/s]\n",
      "Calculating Loss: 100%|██████████| 4/4 [00:02<00:00,  1.70it/s]\n",
      "Evaluating: 100%|██████████| 4/4 [00:00<00:00, 61.82it/s]\n"
     ]
    },
    {
     "name": "stdout",
     "output_type": "stream",
     "text": [
      "Moving batch eval: EvaluationResult(avg_score=0.8708333333333332, per_item_scores=[0.8166666666666667, 1.0, 1.0, 0.6666666666666666], additional_info=None)\n",
      "2025-07-25 22:44:59 - [trainer.py:2172:_text_grad_constraint_propose_step] - Moving batch acc: 0.8708333333333332\n",
      "Moving batch correct size: 4\n",
      "Moving batch error size: 0\n",
      "Subset Error size: 0\n",
      "Subset Correct size: 2\n",
      "Subset score: 0.9083333333333333\n",
      "2025-07-25 22:44:59 - [trainer.py:2178:_text_grad_constraint_propose_step] - Subset batch acc: 0.9083333333333333,0.9083333333333333\n",
      "Subset loss backward...\n",
      "Subset loss backward time: 3.917593002319336\n",
      "Optimizer propose...\n"
     ]
    },
    {
     "name": "stderr",
     "output_type": "stream",
     "text": [
      "\n",
      "Proposing:   0%|          | 0/5 [00:00<?, ?it/s]"
     ]
    },
    {
     "name": "stdout",
     "output_type": "stream",
     "text": [
      "Proposal: 1\n",
      "2025-07-25 22:45:05 - [trainer.py:2204:_text_grad_constraint_propose_step] - Propose time: 1.6974115371704102\n",
      "New prompts:  [PromptData(id='7c4cfe03-3711-427e-a485-2a8def6f6893', name='llm.task_desc_str', data=\"Answer with the date in MM/DD/YY format, exactly as it appears in the context, for example, '11/30/91'.\", requires_opt=True)]\n"
     ]
    },
    {
     "name": "stderr",
     "output_type": "stream",
     "text": [
      "\n",
      "\n",
      "Loading Data: 100%|██████████| 2/2 [00:00<00:00, 164.16it/s]\n",
      "Predicting: step(1): 0.8833 across 2 samples, Max potential: 0.8833: 100%|██████████| 2/2 [00:03<00:00,  1.79s/it]\n"
     ]
    },
    {
     "name": "stdout",
     "output_type": "stream",
     "text": [
      "2025-07-25 22:45:09 - [trainer.py:2230:_text_grad_constraint_propose_step] - Fail minibatch check, try next proposal: True, 0.8833333333333333 <= 0.9083333333333333\n"
     ]
    },
    {
     "name": "stderr",
     "output_type": "stream",
     "text": [
      "\n",
      "Proposing:  20%|██        | 1/5 [00:05<00:23,  5.85s/it]"
     ]
    },
    {
     "name": "stdout",
     "output_type": "stream",
     "text": [
      "Proposal: 2\n",
      "2025-07-25 22:45:12 - [trainer.py:2204:_text_grad_constraint_propose_step] - Propose time: 2.135007381439209\n",
      "New prompts:  [PromptData(id='7c4cfe03-3711-427e-a485-2a8def6f6893', name='llm.task_desc_str', data='Answer questions with short factoid answers. You will receive context (contain relevant facts). Think step by step. Extract dates in MM/DD/YY format, matching the ground truth format precisely.', requires_opt=True)]\n"
     ]
    },
    {
     "name": "stderr",
     "output_type": "stream",
     "text": [
      "\n",
      "\n",
      "Loading Data: 100%|██████████| 2/2 [00:00<00:00, 112.34it/s]\n",
      "Predicting: step(1): 0.8833 across 2 samples, Max potential: 0.8833: 100%|██████████| 2/2 [00:01<00:00,  1.17it/s]\n"
     ]
    },
    {
     "name": "stdout",
     "output_type": "stream",
     "text": [
      "2025-07-25 22:45:14 - [trainer.py:2230:_text_grad_constraint_propose_step] - Fail minibatch check, try next proposal: True, 0.8833333333333333 <= 0.9083333333333333\n"
     ]
    },
    {
     "name": "stderr",
     "output_type": "stream",
     "text": [
      "\n",
      "Proposing:  40%|████      | 2/5 [00:10<00:14,  4.98s/it]"
     ]
    },
    {
     "name": "stdout",
     "output_type": "stream",
     "text": [
      "Proposal: 3\n",
      "2025-07-25 22:45:16 - [trainer.py:2204:_text_grad_constraint_propose_step] - Propose time: 2.1667590141296387\n",
      "New prompts:  [PromptData(id='7c4cfe03-3711-427e-a485-2a8def6f6893', name='llm.task_desc_str', data='Answer questions with short factoid answers. For date questions, extract the date in the exact format MM/DD/YY to match ground truth. Think step by step.', requires_opt=True)]\n"
     ]
    },
    {
     "name": "stderr",
     "output_type": "stream",
     "text": [
      "\n",
      "\n",
      "Loading Data: 100%|██████████| 2/2 [00:00<00:00, 219.19it/s]\n",
      "Predicting: step(1): 0.8833 across 2 samples, Max potential: 0.8833: 100%|██████████| 2/2 [00:00<00:00,  2.02it/s]\n"
     ]
    },
    {
     "name": "stdout",
     "output_type": "stream",
     "text": [
      "2025-07-25 22:45:17 - [trainer.py:2230:_text_grad_constraint_propose_step] - Fail minibatch check, try next proposal: True, 0.8833333333333333 <= 0.9083333333333333\n"
     ]
    },
    {
     "name": "stderr",
     "output_type": "stream",
     "text": [
      "\n",
      "Proposing:  60%|██████    | 3/5 [00:13<00:08,  4.36s/it]"
     ]
    },
    {
     "name": "stdout",
     "output_type": "stream",
     "text": [
      "Proposal: 4\n",
      "2025-07-25 22:45:19 - [trainer.py:2204:_text_grad_constraint_propose_step] - Propose time: 1.8640360832214355\n",
      "New prompts:  [PromptData(id='7c4cfe03-3711-427e-a485-2a8def6f6893', name='llm.task_desc_str', data='Answer questions with short factoid answers. Focus on extracting dates in the exact format MM/DD/YY, matching the ground truth format, and avoid expanding into full date descriptions.', requires_opt=True)]\n"
     ]
    },
    {
     "name": "stderr",
     "output_type": "stream",
     "text": [
      "\n",
      "\n",
      "Loading Data: 100%|██████████| 2/2 [00:00<00:00, 125.10it/s]\n",
      "Predicting: step(1): 0.8833 across 2 samples, Max potential: 0.8833: 100%|██████████| 2/2 [00:00<00:00,  2.36it/s]\n"
     ]
    },
    {
     "name": "stdout",
     "output_type": "stream",
     "text": [
      "2025-07-25 22:45:21 - [trainer.py:2230:_text_grad_constraint_propose_step] - Fail minibatch check, try next proposal: True, 0.8833333333333333 <= 0.9083333333333333\n"
     ]
    },
    {
     "name": "stderr",
     "output_type": "stream",
     "text": [
      "\n",
      "Proposing:  80%|████████  | 4/5 [00:17<00:03,  3.91s/it]"
     ]
    },
    {
     "name": "stdout",
     "output_type": "stream",
     "text": [
      "Proposal: 5\n",
      "2025-07-25 22:45:22 - [trainer.py:2204:_text_grad_constraint_propose_step] - Propose time: 1.3525142669677734\n",
      "New prompts:  [PromptData(id='7c4cfe03-3711-427e-a485-2a8def6f6893', name='llm.task_desc_str', data='Answer questions with short factoid answers. Think step by step. When extracting dates, ensure they are in the MM/DD/YY format to match the ground truth precisely.', requires_opt=True)]\n"
     ]
    },
    {
     "name": "stderr",
     "output_type": "stream",
     "text": [
      "\n",
      "\n",
      "Loading Data: 100%|██████████| 2/2 [00:00<00:00, 176.58it/s]\n",
      "Predicting: step(1): 0.8833 across 2 samples, Max potential: 0.8833: 100%|██████████| 2/2 [00:00<00:00,  2.64it/s]\n"
     ]
    },
    {
     "name": "stdout",
     "output_type": "stream",
     "text": [
      "2025-07-25 22:45:23 - [trainer.py:2230:_text_grad_constraint_propose_step] - Fail minibatch check, try next proposal: True, 0.8833333333333333 <= 0.9083333333333333\n"
     ]
    },
    {
     "name": "stderr",
     "output_type": "stream",
     "text": [
      "\n",
      "Proposing: 100%|██████████| 5/5 [00:19<00:00,  3.94s/it]\n"
     ]
    },
    {
     "name": "stdout",
     "output_type": "stream",
     "text": [
      "No proposal can improve the subset and full set, and val set\n",
      "Saving checkpoint to C:\\Users\\wuhan\\AppData\\Roaming\\adalflow\\ckpt\\HotPotQAAdal\\constrained_max_steps_12_21fb6_run_1.json\n",
      "Done with proposals\n"
     ]
    },
    {
     "name": "stderr",
     "output_type": "stream",
     "text": [
      "Training Step: 2:  12%|█▎        | 1/8 [00:29<03:29, 29.94s/it]\n",
      "Loading Data: 100%|██████████| 4/4 [00:00<00:00, 254.66it/s]\n",
      "Training: 100%|██████████| 4/4 [00:01<00:00,  2.90it/s]\n",
      "\n",
      "Loading Data: 100%|██████████| 4/4 [00:00<00:00, 206.46it/s]\n",
      "Calculating Loss: 100%|██████████| 4/4 [00:02<00:00,  1.84it/s]\n",
      "Evaluating: 100%|██████████| 8/8 [00:00<00:00, 58.29it/s]\n"
     ]
    },
    {
     "name": "stdout",
     "output_type": "stream",
     "text": [
      "Moving batch eval: EvaluationResult(avg_score=0.8104166666666667, per_item_scores=[0.8166666666666667, 1.0, 1.0, 0.6666666666666666, 0.4666666666666667, 0.7666666666666667, 0.95, 0.8166666666666667], additional_info=None)\n",
      "2025-07-25 22:45:27 - [trainer.py:2172:_text_grad_constraint_propose_step] - Moving batch acc: 0.8104166666666667\n",
      "Moving batch correct size: 7\n",
      "Moving batch error size: 1\n",
      "Subset Error size: 1\n",
      "Subset Correct size: 2\n",
      "Subset score: 0.6833333333333332\n",
      "2025-07-25 22:45:27 - [trainer.py:2178:_text_grad_constraint_propose_step] - Subset batch acc: 0.6833333333333332,0.6833333333333332\n",
      "Subset loss backward...\n",
      "Subset loss backward time: 6.626593351364136\n",
      "Optimizer propose...\n"
     ]
    },
    {
     "name": "stderr",
     "output_type": "stream",
     "text": [
      "\n",
      "Proposing:   0%|          | 0/5 [00:00<?, ?it/s]"
     ]
    },
    {
     "name": "stdout",
     "output_type": "stream",
     "text": [
      "Proposal: 1\n",
      "2025-07-25 22:45:36 - [trainer.py:2204:_text_grad_constraint_propose_step] - Propose time: 1.5897667407989502\n",
      "New prompts:  [PromptData(id='7c4cfe03-3711-427e-a485-2a8def6f6893', name='llm.task_desc_str', data='Answer questions with short, fact-based answers. Carefully analyze the provided context to identify the specific detail asked, following the task description schema. Think step by step if necessary to ensure accuracy.', requires_opt=True)]\n"
     ]
    },
    {
     "name": "stderr",
     "output_type": "stream",
     "text": [
      "\n",
      "\n",
      "Loading Data: 100%|██████████| 3/3 [00:00<00:00, 316.78it/s]\n",
      "Predicting: step(2): 0.6833 across 3 samples, Max potential: 0.6833: 100%|██████████| 3/3 [00:05<00:00,  1.76s/it]\n"
     ]
    },
    {
     "name": "stdout",
     "output_type": "stream",
     "text": [
      "2025-07-25 22:45:41 - [trainer.py:2230:_text_grad_constraint_propose_step] - Fail minibatch check, try next proposal: True, 0.6833333333333332 <= 0.6833333333333332\n"
     ]
    },
    {
     "name": "stderr",
     "output_type": "stream",
     "text": [
      "\n",
      "Proposing:  20%|██        | 1/5 [00:07<00:29,  7.31s/it]"
     ]
    },
    {
     "name": "stdout",
     "output_type": "stream",
     "text": [
      "Proposal: 2\n",
      "2025-07-25 22:45:44 - [trainer.py:2204:_text_grad_constraint_propose_step] - Propose time: 2.1978111267089844\n",
      "New prompts:  [PromptData(id='7c4cfe03-3711-427e-a485-2a8def6f6893', name='llm.task_desc_str', data='Answer questions with short factoid answers. Explicitly identify key factual details based on the provided schema and context. Think step by step to ensure accuracy.', requires_opt=True)]\n"
     ]
    },
    {
     "name": "stderr",
     "output_type": "stream",
     "text": [
      "\n",
      "\n",
      "Loading Data: 100%|██████████| 3/3 [00:00<00:00, 140.24it/s]\n",
      "Predicting: step(2): 0.6833 across 3 samples, Max potential: 0.6833: 100%|██████████| 3/3 [00:07<00:00,  2.51s/it]\n"
     ]
    },
    {
     "name": "stdout",
     "output_type": "stream",
     "text": [
      "2025-07-25 22:45:52 - [trainer.py:2224:_text_grad_constraint_propose_step] - Pass minibatch check:True, 0.6833333333333335 > 0.6833333333333332\n"
     ]
    },
    {
     "name": "stderr",
     "output_type": "stream",
     "text": [
      "\n",
      "\n",
      "Loading Data: 100%|██████████| 30/30 [00:00<00:00, 794.05it/s]\n",
      "Predicting: step(2): 0.885 across 30 samples, Max potential: 0.885: 100%|██████████| 30/30 [00:53<00:00,  1.78s/it]  \n"
     ]
    },
    {
     "name": "stdout",
     "output_type": "stream",
     "text": [
      "Optimizer revert: 0.8849999999999999 <= 0.8849999999999999\n"
     ]
    },
    {
     "name": "stderr",
     "output_type": "stream",
     "text": [
      "\n",
      "Proposing:  40%|████      | 2/5 [01:11<02:01, 40.59s/it]"
     ]
    },
    {
     "name": "stdout",
     "output_type": "stream",
     "text": [
      "Proposal: 3\n",
      "2025-07-25 22:46:47 - [trainer.py:2204:_text_grad_constraint_propose_step] - Propose time: 1.6573173999786377\n",
      "New prompts:  [PromptData(id='7c4cfe03-3711-427e-a485-2a8def6f6893', name='llm.task_desc_str', data='Answer questions with short factoid answers. Explicitly identify key factual details from the context based on the provided schema, thinking step by step to ensure accuracy and relevance.', requires_opt=True)]\n"
     ]
    },
    {
     "name": "stderr",
     "output_type": "stream",
     "text": [
      "\n",
      "\n",
      "Loading Data: 100%|██████████| 3/3 [00:00<00:00, 155.53it/s]\n",
      "Predicting: step(2): 0.6333 across 3 samples, Max potential: 0.6333: 100%|██████████| 3/3 [00:03<00:00,  1.03s/it]\n"
     ]
    },
    {
     "name": "stdout",
     "output_type": "stream",
     "text": [
      "2025-07-25 22:46:50 - [trainer.py:2230:_text_grad_constraint_propose_step] - Fail minibatch check, try next proposal: True, 0.6333333333333333 <= 0.6833333333333332\n"
     ]
    },
    {
     "name": "stderr",
     "output_type": "stream",
     "text": [
      "\n",
      "Proposing:  60%|██████    | 3/5 [01:16<00:48, 24.45s/it]"
     ]
    },
    {
     "name": "stdout",
     "output_type": "stream",
     "text": [
      "Proposal: 4\n",
      "2025-07-25 22:46:52 - [trainer.py:2204:_text_grad_constraint_propose_step] - Propose time: 1.639535665512085\n",
      "New prompts:  [PromptData(id='7c4cfe03-3711-427e-a485-2a8def6f6893', name='llm.task_desc_str', data='Answer questions with short factoid answers. Think step by step. Use the context to identify key factual details, such as company names, dates, or financial figures, and provide concise answers based on the extracted information.', requires_opt=True)]\n"
     ]
    },
    {
     "name": "stderr",
     "output_type": "stream",
     "text": [
      "\n",
      "\n",
      "Loading Data: 100%|██████████| 3/3 [00:00<00:00, 166.10it/s]\n",
      "Predicting: step(2): 0.7 across 3 samples, Max potential: 0.7: 100%|██████████| 3/3 [00:03<00:00,  1.15s/it]      \n"
     ]
    },
    {
     "name": "stdout",
     "output_type": "stream",
     "text": [
      "2025-07-25 22:46:56 - [trainer.py:2224:_text_grad_constraint_propose_step] - Pass minibatch check:True, 0.7000000000000001 > 0.6833333333333332\n"
     ]
    },
    {
     "name": "stderr",
     "output_type": "stream",
     "text": [
      "\n",
      "\n",
      "Loading Data: 100%|██████████| 30/30 [00:00<00:00, 697.23it/s]\n",
      "Predicting: step(2): 0.868 across 25 samples, Max potential: 0.89:  83%|████████▎ | 25/30 [00:08<00:01,  2.82it/s]   \n"
     ]
    },
    {
     "name": "stdout",
     "output_type": "stream",
     "text": [
      "Optimizer revert: 0.864102564102564 <= 0.8849999999999999\n"
     ]
    },
    {
     "name": "stderr",
     "output_type": "stream",
     "text": [
      "\n",
      "Proposing:  80%|████████  | 4/5 [01:31<00:20, 20.56s/it]"
     ]
    },
    {
     "name": "stdout",
     "output_type": "stream",
     "text": [
      "Proposal: 5\n",
      "2025-07-25 22:47:07 - [trainer.py:2204:_text_grad_constraint_propose_step] - Propose time: 1.6934113502502441\n",
      "New prompts:  [PromptData(id='7c4cfe03-3711-427e-a485-2a8def6f6893', name='llm.task_desc_str', data='Answer questions with short factoid answers. Explicitly identify and extract the specific factual detail asked in the question based on the provided context and schema, ensuring clarity and focus.', requires_opt=True)]\n"
     ]
    },
    {
     "name": "stderr",
     "output_type": "stream",
     "text": [
      "\n",
      "\n",
      "Loading Data: 100%|██████████| 3/3 [00:00<00:00, 258.53it/s]\n",
      "Predicting: step(2): 0.6389 across 3 samples, Max potential: 0.6389: 100%|██████████| 3/3 [00:03<00:00,  1.09s/it]\n"
     ]
    },
    {
     "name": "stdout",
     "output_type": "stream",
     "text": [
      "2025-07-25 22:47:11 - [trainer.py:2230:_text_grad_constraint_propose_step] - Fail minibatch check, try next proposal: True, 0.638888888888889 <= 0.6833333333333332\n"
     ]
    },
    {
     "name": "stderr",
     "output_type": "stream",
     "text": [
      "\n",
      "Proposing: 100%|██████████| 5/5 [01:36<00:00, 19.31s/it]\n"
     ]
    },
    {
     "name": "stdout",
     "output_type": "stream",
     "text": [
      "No proposal can improve the subset and full set, and val set\n",
      "Saving checkpoint to C:\\Users\\wuhan\\AppData\\Roaming\\adalflow\\ckpt\\HotPotQAAdal\\constrained_max_steps_12_21fb6_run_1.json\n",
      "Done with proposals\n"
     ]
    },
    {
     "name": "stderr",
     "output_type": "stream",
     "text": [
      "Training Step: 3:  25%|██▌       | 2/8 [02:17<07:33, 75.55s/it]\n",
      "Loading Data: 100%|██████████| 4/4 [00:00<00:00, 96.02it/s]\n",
      "Training: 100%|██████████| 4/4 [00:01<00:00,  3.94it/s]\n",
      "\n",
      "Loading Data: 100%|██████████| 4/4 [00:00<00:00, 156.82it/s]\n",
      "Calculating Loss: 100%|██████████| 4/4 [00:01<00:00,  2.31it/s]\n",
      "Evaluating: 100%|██████████| 12/12 [00:00<00:00, 61.95it/s]\n"
     ]
    },
    {
     "name": "stdout",
     "output_type": "stream",
     "text": [
      "Moving batch eval: EvaluationResult(avg_score=0.8333333333333334, per_item_scores=[0.8166666666666667, 1.0, 1.0, 0.6666666666666666, 0.4666666666666667, 0.7666666666666667, 0.95, 0.8166666666666667, 0.9, 0.9, 0.95, 0.7666666666666667], additional_info=None)\n",
      "2025-07-25 22:47:14 - [trainer.py:2172:_text_grad_constraint_propose_step] - Moving batch acc: 0.8333333333333334\n",
      "Moving batch correct size: 11\n",
      "Moving batch error size: 1\n",
      "Subset Error size: 1\n",
      "Subset Correct size: 2\n",
      "Subset score: 0.7722222222222221\n",
      "2025-07-25 22:47:14 - [trainer.py:2178:_text_grad_constraint_propose_step] - Subset batch acc: 0.7722222222222221,0.7722222222222221\n",
      "Subset loss backward...\n",
      "Subset loss backward time: 7.57248067855835\n",
      "Optimizer propose...\n"
     ]
    },
    {
     "name": "stderr",
     "output_type": "stream",
     "text": [
      "\n",
      "Proposing:   0%|          | 0/5 [00:00<?, ?it/s]"
     ]
    },
    {
     "name": "stdout",
     "output_type": "stream",
     "text": [
      "Proposal: 1\n",
      "2025-07-25 22:47:24 - [trainer.py:2204:_text_grad_constraint_propose_step] - Propose time: 1.6838011741638184\n",
      "New prompts:  [PromptData(id='7c4cfe03-3711-427e-a485-2a8def6f6893', name='llm.task_desc_str', data='You are 2 steps ahead since your last improvement. Update the variable more rapidly when steps are larger than 3. Ensure the instruction emphasizes batch consistency and quick updates for better performance.', requires_opt=True)]\n"
     ]
    },
    {
     "name": "stderr",
     "output_type": "stream",
     "text": [
      "\n",
      "\n",
      "Loading Data: 100%|██████████| 3/3 [00:00<00:00, 330.68it/s]\n",
      "Predicting: step(3): 0.7722 across 3 samples, Max potential: 0.7722: 100%|██████████| 3/3 [00:04<00:00,  1.39s/it]\n"
     ]
    },
    {
     "name": "stdout",
     "output_type": "stream",
     "text": [
      "2025-07-25 22:47:28 - [trainer.py:2230:_text_grad_constraint_propose_step] - Fail minibatch check, try next proposal: True, 0.7722222222222221 <= 0.7722222222222221\n"
     ]
    },
    {
     "name": "stderr",
     "output_type": "stream",
     "text": [
      "\n",
      "Proposing:  20%|██        | 1/5 [00:06<00:25,  6.34s/it]"
     ]
    },
    {
     "name": "stdout",
     "output_type": "stream",
     "text": [
      "Proposal: 2\n",
      "2025-07-25 22:47:30 - [trainer.py:2204:_text_grad_constraint_propose_step] - Propose time: 1.5767874717712402\n",
      "New prompts:  [PromptData(id='7c4cfe03-3711-427e-a485-2a8def6f6893', name='llm.task_desc_str', data='Answer questions with short factoid answers. Receive context containing relevant facts. Think step by step. When the number of steps exceeds 3, update the answer more rapidly to ensure efficiency. Maintain consistency across the entire batch to improve performance.', requires_opt=True)]\n"
     ]
    },
    {
     "name": "stderr",
     "output_type": "stream",
     "text": [
      "\n",
      "\n",
      "Loading Data: 100%|██████████| 3/3 [00:00<00:00, 89.15it/s]\n",
      "Predicting: step(3): 0.8222 across 3 samples, Max potential: 0.8222: 100%|██████████| 3/3 [00:02<00:00,  1.06it/s]\n"
     ]
    },
    {
     "name": "stdout",
     "output_type": "stream",
     "text": [
      "2025-07-25 22:47:33 - [trainer.py:2224:_text_grad_constraint_propose_step] - Pass minibatch check:True, 0.8222222222222223 > 0.7722222222222221\n"
     ]
    },
    {
     "name": "stderr",
     "output_type": "stream",
     "text": [
      "\n",
      "\n",
      "Loading Data: 100%|██████████| 30/30 [00:00<00:00, 795.21it/s]\n",
      "Predicting: step(3): 0.868 across 25 samples, Max potential: 0.89:  83%|████████▎ | 25/30 [00:07<00:01,  3.37it/s]   \n"
     ]
    },
    {
     "name": "stdout",
     "output_type": "stream",
     "text": [
      "Optimizer revert: 0.864102564102564 <= 0.8849999999999999\n"
     ]
    },
    {
     "name": "stderr",
     "output_type": "stream",
     "text": [
      "\n",
      "Proposing:  40%|████      | 2/5 [00:18<00:29,  9.95s/it]"
     ]
    },
    {
     "name": "stdout",
     "output_type": "stream",
     "text": [
      "Proposal: 3\n",
      "2025-07-25 22:47:43 - [trainer.py:2204:_text_grad_constraint_propose_step] - Propose time: 1.484738826751709\n",
      "New prompts:  [PromptData(id='7c4cfe03-3711-427e-a485-2a8def6f6893', name='llm.task_desc_str', data='Answer questions with short factoid answers. Think step by step. When processing multiple items or batches, update the instructions to specify rapid adaptation when steps are larger than 3, and ensure batch consistency.', requires_opt=True)]\n"
     ]
    },
    {
     "name": "stderr",
     "output_type": "stream",
     "text": [
      "\n",
      "\n",
      "Loading Data: 100%|██████████| 3/3 [00:00<00:00, 163.40it/s]\n",
      "Predicting: step(3): 0.7278 across 3 samples, Max potential: 0.7278: 100%|██████████| 3/3 [00:04<00:00,  1.35s/it]\n"
     ]
    },
    {
     "name": "stdout",
     "output_type": "stream",
     "text": [
      "2025-07-25 22:47:47 - [trainer.py:2230:_text_grad_constraint_propose_step] - Fail minibatch check, try next proposal: True, 0.7277777777777779 <= 0.7722222222222221\n"
     ]
    },
    {
     "name": "stderr",
     "output_type": "stream",
     "text": [
      "\n",
      "Proposing:  60%|██████    | 3/5 [00:24<00:16,  8.17s/it]"
     ]
    },
    {
     "name": "stdout",
     "output_type": "stream",
     "text": [
      "Proposal: 4\n",
      "2025-07-25 22:47:49 - [trainer.py:2204:_text_grad_constraint_propose_step] - Propose time: 1.4734129905700684\n",
      "New prompts:  [PromptData(id='7c4cfe03-3711-427e-a485-2a8def6f6893', name='llm.task_desc_str', data='Set context and role as a task-specific assistant that updates task description more rapidly when steps > 3, and ensure batch processing consistency.', requires_opt=True)]\n"
     ]
    },
    {
     "name": "stderr",
     "output_type": "stream",
     "text": [
      "\n",
      "\n",
      "Loading Data: 100%|██████████| 3/3 [00:00<00:00, 174.85it/s]\n",
      "Predicting: step(3): 0.7444 across 3 samples, Max potential: 0.7444: 100%|██████████| 3/3 [00:04<00:00,  1.41s/it]\n"
     ]
    },
    {
     "name": "stdout",
     "output_type": "stream",
     "text": [
      "2025-07-25 22:47:53 - [trainer.py:2230:_text_grad_constraint_propose_step] - Fail minibatch check, try next proposal: True, 0.7444444444444445 <= 0.7722222222222221\n"
     ]
    },
    {
     "name": "stderr",
     "output_type": "stream",
     "text": [
      "\n",
      "Proposing:  80%|████████  | 4/5 [00:31<00:07,  7.43s/it]"
     ]
    },
    {
     "name": "stdout",
     "output_type": "stream",
     "text": [
      "Proposal: 5\n",
      "2025-07-25 22:47:55 - [trainer.py:2204:_text_grad_constraint_propose_step] - Propose time: 1.2495477199554443\n",
      "New prompts:  [PromptData(id='7c4cfe03-3711-427e-a485-2a8def6f6893', name='llm.task_desc_str', data='Answer questions with short factoid answers. Think step by step. When step count exceeds 3, update the response more rapidly. Ensure consistency across batch inputs.', requires_opt=True)]\n"
     ]
    },
    {
     "name": "stderr",
     "output_type": "stream",
     "text": [
      "\n",
      "\n",
      "Loading Data: 100%|██████████| 3/3 [00:00<00:00, 169.75it/s]\n",
      "Predicting: step(3): 0.7389 across 3 samples, Max potential: 0.7389: 100%|██████████| 3/3 [00:02<00:00,  1.24it/s]\n"
     ]
    },
    {
     "name": "stdout",
     "output_type": "stream",
     "text": [
      "2025-07-25 22:47:57 - [trainer.py:2230:_text_grad_constraint_propose_step] - Fail minibatch check, try next proposal: True, 0.7388888888888889 <= 0.7722222222222221\n"
     ]
    },
    {
     "name": "stderr",
     "output_type": "stream",
     "text": [
      "\n",
      "Proposing: 100%|██████████| 5/5 [00:35<00:00,  7.07s/it]\n"
     ]
    },
    {
     "name": "stdout",
     "output_type": "stream",
     "text": [
      "No proposal can improve the subset and full set, and val set\n",
      "Saving checkpoint to C:\\Users\\wuhan\\AppData\\Roaming\\adalflow\\ckpt\\HotPotQAAdal\\constrained_max_steps_12_21fb6_run_1.json\n",
      "Done with proposals\n"
     ]
    },
    {
     "name": "stderr",
     "output_type": "stream",
     "text": [
      "Training Step: 4:  38%|███▊      | 3/8 [03:04<05:12, 62.42s/it]\n",
      "Loading Data: 100%|██████████| 4/4 [00:00<00:00, 92.79it/s]\n",
      "Training: 100%|██████████| 4/4 [00:00<00:00,  5.01it/s]\n",
      "\n",
      "Loading Data: 100%|██████████| 4/4 [00:00<00:00, 71.13it/s]\n",
      "Calculating Loss: 100%|██████████| 4/4 [00:01<00:00,  2.57it/s]\n",
      "Evaluating: 100%|██████████| 16/16 [00:00<00:00, 67.84it/s]\n"
     ]
    },
    {
     "name": "stdout",
     "output_type": "stream",
     "text": [
      "Moving batch eval: EvaluationResult(avg_score=0.8385416666666667, per_item_scores=[0.8166666666666667, 1.0, 1.0, 0.6666666666666666, 0.4666666666666667, 0.7666666666666667, 0.95, 0.8166666666666667, 0.9, 0.9, 0.95, 0.7666666666666667, 0.7000000000000001, 1.0, 0.7166666666666667, 1.0], additional_info=None)\n",
      "2025-07-25 22:48:01 - [trainer.py:2172:_text_grad_constraint_propose_step] - Moving batch acc: 0.8385416666666667\n",
      "Moving batch correct size: 15\n",
      "Moving batch error size: 1\n",
      "Subset Error size: 1\n",
      "Subset Correct size: 2\n",
      "Subset score: 0.6444444444444445\n",
      "2025-07-25 22:48:01 - [trainer.py:2178:_text_grad_constraint_propose_step] - Subset batch acc: 0.6444444444444445,0.6444444444444445\n",
      "Subset loss backward...\n",
      "Subset loss backward time: 8.017658710479736\n",
      "Optimizer propose...\n"
     ]
    },
    {
     "name": "stderr",
     "output_type": "stream",
     "text": [
      "\n",
      "Proposing:   0%|          | 0/5 [00:00<?, ?it/s]"
     ]
    },
    {
     "name": "stdout",
     "output_type": "stream",
     "text": [
      "Proposal: 1\n",
      "2025-07-25 22:48:11 - [trainer.py:2204:_text_grad_constraint_propose_step] - Propose time: 2.521388053894043\n",
      "New prompts:  [PromptData(id='7c4cfe03-3711-427e-a485-2a8def6f6893', name='llm.task_desc_str', data='Answer questions with short factoid answers. You will receive context(contain relevant facts). Think step by step. The context states the total budget for 1997 as $1,000,000, which should be the answer.', requires_opt=True)]\n"
     ]
    },
    {
     "name": "stderr",
     "output_type": "stream",
     "text": [
      "\n",
      "\n",
      "Loading Data: 100%|██████████| 3/3 [00:00<00:00, 158.41it/s]\n",
      "Predicting: step(4): 0.5722 across 3 samples, Max potential: 0.5722: 100%|██████████| 3/3 [00:07<00:00,  2.59s/it]\n"
     ]
    },
    {
     "name": "stdout",
     "output_type": "stream",
     "text": [
      "2025-07-25 22:48:20 - [trainer.py:2230:_text_grad_constraint_propose_step] - Fail minibatch check, try next proposal: True, 0.5722222222222223 <= 0.6444444444444445\n"
     ]
    },
    {
     "name": "stderr",
     "output_type": "stream",
     "text": [
      "\n",
      "Proposing:  20%|██        | 1/5 [00:10<00:43, 10.82s/it]"
     ]
    },
    {
     "name": "stdout",
     "output_type": "stream",
     "text": [
      "Proposal: 2\n",
      "2025-07-25 22:48:22 - [trainer.py:2204:_text_grad_constraint_propose_step] - Propose time: 2.6412415504455566\n",
      "New prompts:  [PromptData(id='7c4cfe03-3711-427e-a485-2a8def6f6893', name='llm.task_desc_str', data=\"Answer questions with short factoid answers. The context clearly states the total budget for 1997 as $1,000,000, so the answer is '$1,000,000'.\", requires_opt=True)]\n"
     ]
    },
    {
     "name": "stderr",
     "output_type": "stream",
     "text": [
      "\n",
      "\n",
      "Loading Data: 100%|██████████| 3/3 [00:00<00:00, 143.94it/s]\n",
      "Predicting: step(4): 0.6333 across 3 samples, Max potential: 0.6333: 100%|██████████| 3/3 [00:04<00:00,  1.39s/it]\n"
     ]
    },
    {
     "name": "stdout",
     "output_type": "stream",
     "text": [
      "2025-07-25 22:48:27 - [trainer.py:2230:_text_grad_constraint_propose_step] - Fail minibatch check, try next proposal: True, 0.6333333333333333 <= 0.6444444444444445\n"
     ]
    },
    {
     "name": "stderr",
     "output_type": "stream",
     "text": [
      "\n",
      "Proposing:  40%|████      | 2/5 [00:18<00:26,  8.74s/it]"
     ]
    },
    {
     "name": "stdout",
     "output_type": "stream",
     "text": [
      "Proposal: 3\n",
      "2025-07-25 22:48:28 - [trainer.py:2204:_text_grad_constraint_propose_step] - Propose time: 1.2817771434783936\n",
      "New prompts:  [PromptData(id='7c4cfe03-3711-427e-a485-2a8def6f6893', name='llm.task_desc_str', data='Answer the question by directly citing the total budget for 1997 as given in the context, which is $1,000,000.', requires_opt=True)]\n"
     ]
    },
    {
     "name": "stderr",
     "output_type": "stream",
     "text": [
      "\n",
      "\n",
      "Loading Data: 100%|██████████| 3/3 [00:00<00:00, 182.95it/s]\n",
      "Predicting: step(4): 0.7111 across 3 samples, Max potential: 0.7111: 100%|██████████| 3/3 [00:06<00:00,  2.01s/it]\n"
     ]
    },
    {
     "name": "stdout",
     "output_type": "stream",
     "text": [
      "2025-07-25 22:48:35 - [trainer.py:2224:_text_grad_constraint_propose_step] - Pass minibatch check:True, 0.7111111111111111 > 0.6444444444444445\n"
     ]
    },
    {
     "name": "stderr",
     "output_type": "stream",
     "text": [
      "\n",
      "\n",
      "Loading Data: 100%|██████████| 30/30 [00:00<00:00, 992.38it/s]\n",
      "Predicting: step(4): 0.8718 across 26 samples, Max potential: 0.8889:  87%|████████▋ | 26/30 [00:46<00:07,  1.79s/it]\n"
     ]
    },
    {
     "name": "stdout",
     "output_type": "stream",
     "text": [
      "Optimizer revert: 0.8716049382716049 <= 0.8849999999999999\n"
     ]
    },
    {
     "name": "stderr",
     "output_type": "stream",
     "text": [
      "\n",
      "Proposing:  60%|██████    | 3/5 [01:12<00:59, 29.62s/it]"
     ]
    },
    {
     "name": "stdout",
     "output_type": "stream",
     "text": [
      "Proposal: 4\n",
      "2025-07-25 22:49:23 - [trainer.py:2204:_text_grad_constraint_propose_step] - Propose time: 1.1927495002746582\n",
      "New prompts:  [PromptData(id='7c4cfe03-3711-427e-a485-2a8def6f6893', name='llm.task_desc_str', data='Answer questions with short factoid answers. The context contains the relevant facts, including the total budget for 1997 being $1,000,000. The instruction emphasizes extracting this directly from the context.', requires_opt=True)]\n"
     ]
    },
    {
     "name": "stderr",
     "output_type": "stream",
     "text": [
      "\n",
      "\n",
      "Loading Data: 100%|██████████| 3/3 [00:00<00:00, 101.05it/s]\n",
      "Predicting: step(4): 0.6667 across 3 samples, Max potential: 0.6667: 100%|██████████| 3/3 [00:06<00:00,  2.15s/it]\n"
     ]
    },
    {
     "name": "stdout",
     "output_type": "stream",
     "text": [
      "2025-07-25 22:49:29 - [trainer.py:2224:_text_grad_constraint_propose_step] - Pass minibatch check:True, 0.6666666666666666 > 0.6444444444444445\n"
     ]
    },
    {
     "name": "stderr",
     "output_type": "stream",
     "text": [
      "\n",
      "\n",
      "Loading Data: 100%|██████████| 30/30 [00:00<00:00, 1302.23it/s]\n",
      "Predicting: step(4): 0.8712 across 26 samples, Max potential: 0.8883:  87%|████████▋ | 26/30 [00:15<00:02,  1.73it/s]\n"
     ]
    },
    {
     "name": "stdout",
     "output_type": "stream",
     "text": [
      "Optimizer revert: 0.8709876543209876 <= 0.8849999999999999\n"
     ]
    },
    {
     "name": "stderr",
     "output_type": "stream",
     "text": [
      "\n",
      "Proposing:  80%|████████  | 4/5 [01:35<00:27, 27.11s/it]"
     ]
    },
    {
     "name": "stdout",
     "output_type": "stream",
     "text": [
      "Proposal: 5\n",
      "2025-07-25 22:49:46 - [trainer.py:2204:_text_grad_constraint_propose_step] - Propose time: 1.4708850383758545\n",
      "New prompts:  [PromptData(id='7c4cfe03-3711-427e-a485-2a8def6f6893', name='llm.task_desc_str', data='Answer: $1,000,000', requires_opt=True)]\n"
     ]
    },
    {
     "name": "stderr",
     "output_type": "stream",
     "text": [
      "\n",
      "\n",
      "Loading Data: 100%|██████████| 3/3 [00:00<00:00, 124.07it/s]\n",
      "Predicting: step(4): 0.6667 across 3 samples, Max potential: 0.6667: 100%|██████████| 3/3 [00:02<00:00,  1.00it/s]\n"
     ]
    },
    {
     "name": "stdout",
     "output_type": "stream",
     "text": [
      "2025-07-25 22:49:50 - [trainer.py:2224:_text_grad_constraint_propose_step] - Pass minibatch check:True, 0.6666666666666666 > 0.6444444444444445\n"
     ]
    },
    {
     "name": "stderr",
     "output_type": "stream",
     "text": [
      "\n",
      "\n",
      "Loading Data: 100%|██████████| 30/30 [00:00<00:00, 536.90it/s]\n",
      "Predicting: step(4): 0.8102 across 18 samples, Max potential: 0.8861:  60%|██████    | 18/30 [00:08<00:05,  2.18it/s]\n"
     ]
    },
    {
     "name": "stdout",
     "output_type": "stream",
     "text": [
      "Optimizer revert: 0.8052631578947368 <= 0.8849999999999999\n"
     ]
    },
    {
     "name": "stderr",
     "output_type": "stream",
     "text": [
      "\n",
      "Proposing: 100%|██████████| 5/5 [01:49<00:00, 21.85s/it]\n"
     ]
    },
    {
     "name": "stdout",
     "output_type": "stream",
     "text": [
      "No proposal can improve the subset and full set, and val set\n",
      "Saving checkpoint to C:\\Users\\wuhan\\AppData\\Roaming\\adalflow\\ckpt\\HotPotQAAdal\\constrained_max_steps_12_21fb6_run_1.json\n",
      "Done with proposals\n"
     ]
    },
    {
     "name": "stderr",
     "output_type": "stream",
     "text": [
      "Training Step: 5:  50%|█████     | 4/8 [05:04<05:41, 85.39s/it]\n",
      "Loading Data: 100%|██████████| 4/4 [00:00<00:00, 132.53it/s]\n",
      "Training: 100%|██████████| 4/4 [00:01<00:00,  3.91it/s]\n",
      "\n",
      "Loading Data: 100%|██████████| 4/4 [00:00<00:00, 177.28it/s]\n",
      "Calculating Loss: 100%|██████████| 4/4 [00:01<00:00,  2.16it/s]\n",
      "Evaluating: 100%|██████████| 20/20 [00:00<00:00, 70.72it/s]\n"
     ]
    },
    {
     "name": "stdout",
     "output_type": "stream",
     "text": [
      "Moving batch eval: EvaluationResult(avg_score=0.8283333333333334, per_item_scores=[0.8166666666666667, 1.0, 1.0, 0.6666666666666666, 0.4666666666666667, 0.7666666666666667, 0.95, 0.8166666666666667, 0.9, 0.9, 0.95, 0.7666666666666667, 0.7000000000000001, 1.0, 0.7166666666666667, 1.0, 0.8666666666666667, 0.95, 1.0, 0.33333333333333337], additional_info=None)\n",
      "2025-07-25 22:50:02 - [trainer.py:2172:_text_grad_constraint_propose_step] - Moving batch acc: 0.8283333333333334\n",
      "Moving batch correct size: 18\n",
      "Moving batch error size: 2\n",
      "Subset Error size: 2\n",
      "Subset Correct size: 2\n",
      "Subset score: 0.6875\n",
      "2025-07-25 22:50:02 - [trainer.py:2178:_text_grad_constraint_propose_step] - Subset batch acc: 0.6875,0.6875\n",
      "Subset loss backward...\n",
      "Subset loss backward time: 5.847296714782715\n",
      "Optimizer propose...\n"
     ]
    },
    {
     "name": "stderr",
     "output_type": "stream",
     "text": [
      "\n",
      "Proposing:   0%|          | 0/5 [00:00<?, ?it/s]"
     ]
    },
    {
     "name": "stdout",
     "output_type": "stream",
     "text": [
      "Proposal: 1\n",
      "2025-07-25 22:50:10 - [trainer.py:2204:_text_grad_constraint_propose_step] - Propose time: 1.9877266883850098\n",
      "New prompts:  [PromptData(id='7c4cfe03-3711-427e-a485-2a8def6f6893', name='llm.task_desc_str', data='Answer questions with short factoid answers. You will receive context (contain relevant facts). Think step by step. Focus on extracting the specific detail requested (e.g., invoice number). Provide the answer as a short string. Do not include any extraneous information.', requires_opt=True)]\n"
     ]
    },
    {
     "name": "stderr",
     "output_type": "stream",
     "text": [
      "\n",
      "\n",
      "Loading Data: 100%|██████████| 4/4 [00:00<00:00, 163.72it/s]\n",
      "Predicting: step(5): 0.75 across 4 samples, Max potential: 0.75: 100%|██████████| 4/4 [00:03<00:00,  1.21it/s]    \n"
     ]
    },
    {
     "name": "stdout",
     "output_type": "stream",
     "text": [
      "2025-07-25 22:50:13 - [trainer.py:2224:_text_grad_constraint_propose_step] - Pass minibatch check:True, 0.75 > 0.6875\n"
     ]
    },
    {
     "name": "stderr",
     "output_type": "stream",
     "text": [
      "\n",
      "\n",
      "Loading Data: 100%|██████████| 30/30 [00:00<00:00, 591.69it/s]\n",
      "Predicting: step(5): 0.8712 across 26 samples, Max potential: 0.8883:  87%|████████▋ | 26/30 [00:06<00:01,  3.84it/s]\n"
     ]
    },
    {
     "name": "stdout",
     "output_type": "stream",
     "text": [
      "Optimizer revert: 0.8709876543209876 <= 0.8849999999999999\n"
     ]
    },
    {
     "name": "stderr",
     "output_type": "stream",
     "text": [
      "\n",
      "Proposing:  20%|██        | 1/5 [00:12<00:51, 12.78s/it]"
     ]
    },
    {
     "name": "stdout",
     "output_type": "stream",
     "text": [
      "Proposal: 2\n",
      "2025-07-25 22:50:22 - [trainer.py:2204:_text_grad_constraint_propose_step] - Propose time: 1.688164234161377\n",
      "New prompts:  [PromptData(id='7c4cfe03-3711-427e-a485-2a8def6f6893', name='llm.task_desc_str', data='Answer questions with short factoid answers. Clearly extract the specified key detail (e.g., invoice number, company name, address) from the context. Think step by step and ensure the answer is precise and accurate.', requires_opt=True)]\n"
     ]
    },
    {
     "name": "stderr",
     "output_type": "stream",
     "text": [
      "\n",
      "\n",
      "Loading Data: 100%|██████████| 4/4 [00:00<00:00, 135.36it/s]\n",
      "Predicting: step(5): 0.8417 across 4 samples, Max potential: 0.8417: 100%|██████████| 4/4 [00:04<00:00,  1.04s/it]\n"
     ]
    },
    {
     "name": "stdout",
     "output_type": "stream",
     "text": [
      "2025-07-25 22:50:27 - [trainer.py:2224:_text_grad_constraint_propose_step] - Pass minibatch check:True, 0.8416666666666666 > 0.6875\n"
     ]
    },
    {
     "name": "stderr",
     "output_type": "stream",
     "text": [
      "\n",
      "\n",
      "Loading Data: 100%|██████████| 30/30 [00:00<00:00, 846.80it/s]\n",
      "Predicting: step(5): 0.8728 across 27 samples, Max potential: 0.8856:  90%|█████████ | 27/30 [00:10<00:01,  2.63it/s]\n"
     ]
    },
    {
     "name": "stdout",
     "output_type": "stream",
     "text": [
      "Optimizer revert: 0.8726190476190476 <= 0.8849999999999999\n"
     ]
    },
    {
     "name": "stderr",
     "output_type": "stream",
     "text": [
      "\n",
      "Proposing:  40%|████      | 2/5 [00:29<00:45, 15.13s/it]"
     ]
    },
    {
     "name": "stdout",
     "output_type": "stream",
     "text": [
      "Proposal: 3\n",
      "2025-07-25 22:50:41 - [trainer.py:2204:_text_grad_constraint_propose_step] - Propose time: 3.314664363861084\n",
      "New prompts:  [PromptData(id='7c4cfe03-3711-427e-a485-2a8def6f6893', name='llm.task_desc_str', data='Answer questions with short factoid answers. The question asks for the invoice number. Find and extract the invoice number explicitly provided in the context, ensuring the answer is correct and directly sourced from the context details.', requires_opt=True)]\n"
     ]
    },
    {
     "name": "stderr",
     "output_type": "stream",
     "text": [
      "\n",
      "\n",
      "Loading Data: 100%|██████████| 4/4 [00:00<00:00, 146.01it/s]\n",
      "Predicting: step(5): 0.6917 across 4 samples, Max potential: 0.6917: 100%|██████████| 4/4 [00:04<00:00,  1.21s/it]\n"
     ]
    },
    {
     "name": "stdout",
     "output_type": "stream",
     "text": [
      "2025-07-25 22:50:46 - [trainer.py:2224:_text_grad_constraint_propose_step] - Pass minibatch check:True, 0.6916666666666667 > 0.6875\n"
     ]
    },
    {
     "name": "stderr",
     "output_type": "stream",
     "text": [
      "\n",
      "\n",
      "Loading Data: 100%|██████████| 30/30 [00:00<00:00, 1185.08it/s]\n",
      "Predicting: step(5): 0.85 across 22 samples, Max potential: 0.89:  73%|███████▎  | 22/30 [00:08<00:03,  2.45it/s]    \n"
     ]
    },
    {
     "name": "stdout",
     "output_type": "stream",
     "text": [
      "Optimizer revert: 0.8485507246376811 <= 0.8849999999999999\n"
     ]
    },
    {
     "name": "stderr",
     "output_type": "stream",
     "text": [
      "\n",
      "Proposing:  60%|██████    | 3/5 [00:47<00:32, 16.33s/it]"
     ]
    },
    {
     "name": "stdout",
     "output_type": "stream",
     "text": [
      "Proposal: 4\n",
      "2025-07-25 22:50:57 - [trainer.py:2204:_text_grad_constraint_propose_step] - Propose time: 1.7629084587097168\n",
      "New prompts:  [PromptData(id='7c4cfe03-3711-427e-a485-2a8def6f6893', name='llm.task_desc_str', data=\"Answer questions with short factoid answers. You will receive context(contain relevant facts). Think step by step. Explicitly locate and extract the invoice number from the context, which is given as '3195004'. Ensure the answer is the exact invoice number without additional words.\", requires_opt=True)]\n"
     ]
    },
    {
     "name": "stderr",
     "output_type": "stream",
     "text": [
      "\n",
      "\n",
      "Loading Data: 100%|██████████| 4/4 [00:00<00:00, 145.98it/s]\n",
      "Predicting: step(5): 0.7958 across 4 samples, Max potential: 0.7958: 100%|██████████| 4/4 [00:05<00:00,  1.40s/it]\n"
     ]
    },
    {
     "name": "stdout",
     "output_type": "stream",
     "text": [
      "2025-07-25 22:51:03 - [trainer.py:2224:_text_grad_constraint_propose_step] - Pass minibatch check:True, 0.7958333333333334 > 0.6875\n"
     ]
    },
    {
     "name": "stderr",
     "output_type": "stream",
     "text": [
      "\n",
      "\n",
      "Loading Data: 100%|██████████| 30/30 [00:00<00:00, 1612.95it/s]\n",
      "Predicting: step(5): 0.8558 across 20 samples, Max potential: 0.9039:  67%|██████▋   | 20/30 [00:07<00:03,  2.69it/s]\n"
     ]
    },
    {
     "name": "stdout",
     "output_type": "stream",
     "text": [
      "Optimizer revert: 0.8261904761904761 <= 0.8849999999999999\n"
     ]
    },
    {
     "name": "stderr",
     "output_type": "stream",
     "text": [
      "\n",
      "Proposing:  80%|████████  | 4/5 [01:02<00:15, 15.95s/it]"
     ]
    },
    {
     "name": "stdout",
     "output_type": "stream",
     "text": [
      "Proposal: 5\n",
      "2025-07-25 22:51:12 - [trainer.py:2204:_text_grad_constraint_propose_step] - Propose time: 1.846574306488037\n",
      "New prompts:  [PromptData(id='7c4cfe03-3711-427e-a485-2a8def6f6893', name='llm.task_desc_str', data=\"Answer questions with short factoid answers. The key detail to extract is the invoice number, which is explicitly provided in the context as '3195004'. Focus on locating and extracting this exact detail directly from the context for accurate response.\", requires_opt=True)]\n"
     ]
    },
    {
     "name": "stderr",
     "output_type": "stream",
     "text": [
      "\n",
      "\n",
      "Loading Data: 100%|██████████| 4/4 [00:00<00:00, 162.95it/s]\n",
      "Predicting: step(5): 0.8542 across 4 samples, Max potential: 0.8542: 100%|██████████| 4/4 [00:02<00:00,  1.52it/s]\n"
     ]
    },
    {
     "name": "stdout",
     "output_type": "stream",
     "text": [
      "2025-07-25 22:51:15 - [trainer.py:2224:_text_grad_constraint_propose_step] - Pass minibatch check:True, 0.8541666666666667 > 0.6875\n"
     ]
    },
    {
     "name": "stderr",
     "output_type": "stream",
     "text": [
      "\n",
      "\n",
      "Loading Data: 100%|██████████| 30/30 [00:00<00:00, 899.43it/s]\n",
      "Predicting: step(5): 0.8699 across 26 samples, Max potential: 0.8872:  87%|████████▋ | 26/30 [00:07<00:01,  3.61it/s]\n"
     ]
    },
    {
     "name": "stdout",
     "output_type": "stream",
     "text": [
      "Optimizer revert: 0.8697530864197531 <= 0.8849999999999999\n"
     ]
    },
    {
     "name": "stderr",
     "output_type": "stream",
     "text": [
      "\n",
      "Proposing: 100%|██████████| 5/5 [01:15<00:00, 15.02s/it]\n"
     ]
    },
    {
     "name": "stdout",
     "output_type": "stream",
     "text": [
      "No proposal can improve the subset and full set, and val set\n",
      "Saving checkpoint to C:\\Users\\wuhan\\AppData\\Roaming\\adalflow\\ckpt\\HotPotQAAdal\\constrained_max_steps_12_21fb6_run_1.json\n",
      "Done with proposals\n"
     ]
    },
    {
     "name": "stderr",
     "output_type": "stream",
     "text": [
      "Training Step: 6:  62%|██████▎   | 5/8 [06:29<04:15, 85.14s/it]\n",
      "Loading Data: 100%|██████████| 4/4 [00:00<00:00, 117.09it/s]\n",
      "Training: 100%|██████████| 4/4 [00:01<00:00,  2.70it/s]\n",
      "\n",
      "Loading Data: 100%|██████████| 4/4 [00:00<00:00, 219.55it/s]\n",
      "Calculating Loss: 100%|██████████| 4/4 [00:02<00:00,  1.86it/s]\n",
      "Evaluating: 100%|██████████| 24/24 [00:00<00:00, 60.99it/s]\n"
     ]
    },
    {
     "name": "stdout",
     "output_type": "stream",
     "text": [
      "Moving batch eval: EvaluationResult(avg_score=0.8416666666666667, per_item_scores=[0.8166666666666667, 1.0, 1.0, 0.6666666666666666, 0.4666666666666667, 0.7666666666666667, 0.95, 0.8166666666666667, 0.9, 0.9, 0.95, 0.7666666666666667, 0.7000000000000001, 1.0, 0.7166666666666667, 1.0, 0.8666666666666667, 0.95, 1.0, 0.33333333333333337, 0.95, 0.8166666666666667, 0.8666666666666667, 1.0], additional_info=None)\n",
      "2025-07-25 22:51:27 - [trainer.py:2172:_text_grad_constraint_propose_step] - Moving batch acc: 0.8216666666666667\n",
      "Moving batch correct size: 18\n",
      "Moving batch error size: 2\n",
      "Subset Error size: 2\n",
      "Subset Correct size: 2\n",
      "Subset score: 0.6625000000000001\n",
      "2025-07-25 22:51:27 - [trainer.py:2178:_text_grad_constraint_propose_step] - Subset batch acc: 0.6625000000000001,0.6625000000000001\n",
      "Subset loss backward...\n",
      "Subset loss backward time: 12.448458909988403\n",
      "Optimizer propose...\n"
     ]
    },
    {
     "name": "stderr",
     "output_type": "stream",
     "text": [
      "\n",
      "Proposing:   0%|          | 0/5 [00:00<?, ?it/s]"
     ]
    },
    {
     "name": "stdout",
     "output_type": "stream",
     "text": [
      "Proposal: 1\n",
      "2025-07-25 22:51:45 - [trainer.py:2204:_text_grad_constraint_propose_step] - Propose time: 5.06087851524353\n",
      "New prompts:  [PromptData(id='7c4cfe03-3711-427e-a485-2a8def6f6893', name='llm.task_desc_str', data='Answer questions with short factoid answers. You will receive context (contain relevant facts). Think step by step. Focus on extracting the most relevant factoid directly answering the question. Do not include explanations or additional commentary. Ensure the answer is concise, accurate, and based solely on the provided context.', requires_opt=True)]\n"
     ]
    },
    {
     "name": "stderr",
     "output_type": "stream",
     "text": [
      "\n",
      "\n",
      "Loading Data: 100%|██████████| 4/4 [00:00<00:00, 116.09it/s]\n",
      "Predicting: step(6): 0.8083 across 4 samples, Max potential: 0.8083: 100%|██████████| 4/4 [00:38<00:00,  9.54s/it]\n"
     ]
    },
    {
     "name": "stdout",
     "output_type": "stream",
     "text": [
      "2025-07-25 22:52:24 - [trainer.py:2224:_text_grad_constraint_propose_step] - Pass minibatch check:True, 0.8083333333333333 > 0.6625000000000001\n"
     ]
    },
    {
     "name": "stderr",
     "output_type": "stream",
     "text": [
      "\n",
      "\n",
      "Loading Data: 100%|██████████| 30/30 [00:00<00:00, 1263.40it/s]\n",
      "Predicting: step(6): 0.8883 across 30 samples, Max potential: 0.8883: 100%|██████████| 30/30 [00:07<00:00,  3.94it/s]\n"
     ]
    },
    {
     "name": "stdout",
     "output_type": "stream",
     "text": [
      "Optimizer step: 0.8883333333333333 > 0.8849999999999999\n"
     ]
    },
    {
     "name": "stderr",
     "output_type": "stream",
     "text": [
      "Proposing:   0%|          | 0/5 [00:51<?, ?it/s]\n"
     ]
    },
    {
     "name": "stdout",
     "output_type": "stream",
     "text": [
      "Saving checkpoint to C:\\Users\\wuhan\\AppData\\Roaming\\adalflow\\ckpt\\HotPotQAAdal\\constrained_max_steps_12_21fb6_run_1.json\n",
      "Done with proposals\n"
     ]
    },
    {
     "name": "stderr",
     "output_type": "stream",
     "text": [
      "Training Step: 7:  75%|███████▌  | 6/8 [07:38<02:39, 79.68s/it]\n",
      "Loading Data: 100%|██████████| 4/4 [00:00<00:00, 175.24it/s]\n",
      "Training: 100%|██████████| 4/4 [00:00<00:00,  4.18it/s]\n",
      "\n",
      "Loading Data: 100%|██████████| 4/4 [00:00<00:00, 203.74it/s]\n",
      "Calculating Loss: 100%|██████████| 4/4 [00:00<00:00, 45.40it/s]\n",
      "Evaluating: 100%|██████████| 4/4 [00:00<00:00, 71.40it/s]\n"
     ]
    },
    {
     "name": "stdout",
     "output_type": "stream",
     "text": [
      "Moving batch eval: EvaluationResult(avg_score=0.8208333333333333, per_item_scores=[0.5166666666666666, 0.8166666666666667, 0.95, 1.0], additional_info=None)\n",
      "2025-07-25 22:52:33 - [trainer.py:2172:_text_grad_constraint_propose_step] - Moving batch acc: 0.8208333333333333\n",
      "Moving batch correct size: 4\n",
      "Moving batch error size: 0\n",
      "Subset Error size: 0\n",
      "Subset Correct size: 2\n",
      "Subset score: 0.6666666666666666\n",
      "2025-07-25 22:52:34 - [trainer.py:2178:_text_grad_constraint_propose_step] - Subset batch acc: 0.6666666666666666,0.6666666666666666\n",
      "Subset loss backward...\n",
      "Subset loss backward time: 7.268210411071777\n",
      "Optimizer propose...\n"
     ]
    },
    {
     "name": "stderr",
     "output_type": "stream",
     "text": [
      "\n",
      "Proposing:   0%|          | 0/5 [00:00<?, ?it/s]"
     ]
    },
    {
     "name": "stdout",
     "output_type": "stream",
     "text": [
      "Proposal: 1\n",
      "2025-07-25 22:52:43 - [trainer.py:2204:_text_grad_constraint_propose_step] - Propose time: 1.4711787700653076\n",
      "New prompts:  [PromptData(id='7c4cfe03-3711-427e-a485-2a8def6f6893', name='llm.task_desc_str', data='Answer the question based on the departments explicitly listed in the provided report content. Extract the department names directly from the report and ensure the answer is concise and based solely on this information.', requires_opt=True)]\n"
     ]
    },
    {
     "name": "stderr",
     "output_type": "stream",
     "text": [
      "\n",
      "\n",
      "Loading Data: 100%|██████████| 2/2 [00:00<00:00, 196.35it/s]\n",
      "Predicting: step(7): 0.7917 across 2 samples, Max potential: 0.7917: 100%|██████████| 2/2 [00:10<00:00,  5.48s/it]\n"
     ]
    },
    {
     "name": "stdout",
     "output_type": "stream",
     "text": [
      "2025-07-25 22:52:54 - [trainer.py:2224:_text_grad_constraint_propose_step] - Pass minibatch check:True, 0.7916666666666666 > 0.6666666666666666\n"
     ]
    },
    {
     "name": "stderr",
     "output_type": "stream",
     "text": [
      "\n",
      "\n",
      "Loading Data: 100%|██████████| 30/30 [00:00<00:00, 655.75it/s]\n",
      "Predicting: step(7): 0.872 across 25 samples, Max potential: 0.8933:  83%|████████▎ | 25/30 [00:15<00:03,  1.65it/s] \n"
     ]
    },
    {
     "name": "stdout",
     "output_type": "stream",
     "text": [
      "Optimizer revert: 0.8698717948717949 <= 0.8883333333333333\n"
     ]
    },
    {
     "name": "stderr",
     "output_type": "stream",
     "text": [
      "\n",
      "Proposing:  20%|██        | 1/5 [00:28<01:52, 28.25s/it]"
     ]
    },
    {
     "name": "stdout",
     "output_type": "stream",
     "text": [
      "Proposal: 2\n",
      "2025-07-25 22:53:11 - [trainer.py:2204:_text_grad_constraint_propose_step] - Propose time: 1.5625677108764648\n",
      "New prompts:  [PromptData(id='7c4cfe03-3711-427e-a485-2a8def6f6893', name='llm.task_desc_str', data=\"Answer the question based solely on the report content, explicitly stating the departments listed within the provided report. Keep the answer concise and directly related to the context, ensuring the model references the report's department list correctly.\", requires_opt=True)]\n"
     ]
    },
    {
     "name": "stderr",
     "output_type": "stream",
     "text": [
      "\n",
      "\n",
      "Loading Data: 100%|██████████| 2/2 [00:00<00:00, 180.17it/s]\n",
      "Predicting: step(7): 0.6667 across 2 samples, Max potential: 0.6667: 100%|██████████| 2/2 [00:00<00:00,  2.30it/s]\n"
     ]
    },
    {
     "name": "stdout",
     "output_type": "stream",
     "text": [
      "2025-07-25 22:53:12 - [trainer.py:2230:_text_grad_constraint_propose_step] - Fail minibatch check, try next proposal: True, 0.6666666666666666 <= 0.6666666666666666\n"
     ]
    },
    {
     "name": "stderr",
     "output_type": "stream",
     "text": [
      "\n",
      "Proposing:  40%|████      | 2/5 [00:31<00:40, 13.39s/it]"
     ]
    },
    {
     "name": "stdout",
     "output_type": "stream",
     "text": [
      "Proposal: 3\n",
      "2025-07-25 22:53:14 - [trainer.py:2204:_text_grad_constraint_propose_step] - Propose time: 1.713730812072754\n",
      "New prompts:  [PromptData(id='7c4cfe03-3711-427e-a485-2a8def6f6893', name='llm.task_desc_str', data='Answer questions with short, fact-based answers strictly supported by the provided context. Focus on extracting the most relevant factoid directly answering the question. Do not include explanations or additional commentary. Ensure the answer is concise, accurate, and based solely on the input information.', requires_opt=True)]\n"
     ]
    },
    {
     "name": "stderr",
     "output_type": "stream",
     "text": [
      "\n",
      "\n",
      "Loading Data: 100%|██████████| 2/2 [00:00<00:00, 166.13it/s]\n",
      "Predicting: step(7): 0.6667 across 2 samples, Max potential: 0.6667: 100%|██████████| 2/2 [00:00<00:00,  2.86it/s]\n"
     ]
    },
    {
     "name": "stdout",
     "output_type": "stream",
     "text": [
      "2025-07-25 22:53:15 - [trainer.py:2230:_text_grad_constraint_propose_step] - Fail minibatch check, try next proposal: True, 0.6666666666666666 <= 0.6666666666666666\n"
     ]
    },
    {
     "name": "stderr",
     "output_type": "stream",
     "text": [
      "\n",
      "Proposing:  60%|██████    | 3/5 [00:34<00:17,  8.60s/it]"
     ]
    },
    {
     "name": "stdout",
     "output_type": "stream",
     "text": [
      "Proposal: 4\n",
      "2025-07-25 22:53:17 - [trainer.py:2204:_text_grad_constraint_propose_step] - Propose time: 2.0481655597686768\n",
      "New prompts:  [PromptData(id='7c4cfe03-3711-427e-a485-2a8def6f6893', name='llm.task_desc_str', data='Answer questions with short, fact-based answers. You will receive context containing relevant facts. Think step by step. Focus on extracting the most relevant factoid directly answering the question. Do not include explanations or additional commentary. Ensure the answer is concise, accurate, and based solely on the provided context. Clearly state that the list of departments or entities must be directly supported by the report content, and answers should be extracted from that source.', requires_opt=True)]\n"
     ]
    },
    {
     "name": "stderr",
     "output_type": "stream",
     "text": [
      "\n",
      "\n",
      "Loading Data: 100%|██████████| 2/2 [00:00<00:00, 180.17it/s]\n",
      "Predicting: step(7): 0.6667 across 2 samples, Max potential: 0.6667: 100%|██████████| 2/2 [00:01<00:00,  1.85it/s]\n"
     ]
    },
    {
     "name": "stdout",
     "output_type": "stream",
     "text": [
      "2025-07-25 22:53:19 - [trainer.py:2230:_text_grad_constraint_propose_step] - Fail minibatch check, try next proposal: True, 0.6666666666666666 <= 0.6666666666666666\n"
     ]
    },
    {
     "name": "stderr",
     "output_type": "stream",
     "text": [
      "\n",
      "Proposing:  80%|████████  | 4/5 [00:37<00:06,  6.65s/it]"
     ]
    },
    {
     "name": "stdout",
     "output_type": "stream",
     "text": [
      "Proposal: 5\n",
      "2025-07-25 22:53:21 - [trainer.py:2204:_text_grad_constraint_propose_step] - Propose time: 1.6571128368377686\n",
      "New prompts:  [PromptData(id='7c4cfe03-3711-427e-a485-2a8def6f6893', name='llm.task_desc_str', data='Answer the question based solely on the provided report content, explicitly stating that the listed departments are derived from this content. Ensure the answer is concise, specific, and directly supported by the context.', requires_opt=True)]\n"
     ]
    },
    {
     "name": "stderr",
     "output_type": "stream",
     "text": [
      "\n",
      "\n",
      "Loading Data: 100%|██████████| 2/2 [00:00<00:00, 171.86it/s]\n",
      "Predicting: step(7): 0.6667 across 2 samples, Max potential: 0.6667: 100%|██████████| 2/2 [00:00<00:00,  2.47it/s]\n"
     ]
    },
    {
     "name": "stdout",
     "output_type": "stream",
     "text": [
      "2025-07-25 22:53:22 - [trainer.py:2230:_text_grad_constraint_propose_step] - Fail minibatch check, try next proposal: True, 0.6666666666666666 <= 0.6666666666666666\n"
     ]
    },
    {
     "name": "stderr",
     "output_type": "stream",
     "text": [
      "\n",
      "Proposing: 100%|██████████| 5/5 [00:40<00:00,  8.16s/it]\n"
     ]
    },
    {
     "name": "stdout",
     "output_type": "stream",
     "text": [
      "No proposal can improve the subset and full set, and val set\n",
      "Saving checkpoint to C:\\Users\\wuhan\\AppData\\Roaming\\adalflow\\ckpt\\HotPotQAAdal\\constrained_max_steps_12_21fb6_run_1.json\n",
      "Done with proposals\n"
     ]
    },
    {
     "name": "stderr",
     "output_type": "stream",
     "text": [
      "Training Step: 8:  88%|████████▊ | 7/8 [08:28<01:09, 69.97s/it]\n",
      "Loading Data: 100%|██████████| 2/2 [00:00<00:00, 218.87it/s]\n",
      "Training: 100%|██████████| 2/2 [00:00<00:00,  2.28it/s]\n",
      "\n",
      "Loading Data: 100%|██████████| 2/2 [00:00<00:00, 155.80it/s]\n",
      "Calculating Loss: 100%|██████████| 2/2 [00:01<00:00,  1.17it/s]\n",
      "Evaluating: 100%|██████████| 6/6 [00:00<00:00, 50.09it/s]\n"
     ]
    },
    {
     "name": "stdout",
     "output_type": "stream",
     "text": [
      "Moving batch eval: EvaluationResult(avg_score=0.85, per_item_scores=[0.5166666666666666, 0.8166666666666667, 0.95, 1.0, 1.0, 0.8166666666666667], additional_info=None)\n",
      "2025-07-25 22:53:25 - [trainer.py:2172:_text_grad_constraint_propose_step] - Moving batch acc: 0.85\n",
      "Moving batch correct size: 6\n",
      "Moving batch error size: 0\n",
      "Subset Error size: 0\n",
      "Subset Correct size: 2\n",
      "Subset score: 0.9083333333333333\n",
      "2025-07-25 22:53:25 - [trainer.py:2178:_text_grad_constraint_propose_step] - Subset batch acc: 0.9083333333333333,0.9083333333333333\n",
      "Subset loss backward...\n",
      "Subset loss backward time: 2.8919906616210938\n",
      "Optimizer propose...\n"
     ]
    },
    {
     "name": "stderr",
     "output_type": "stream",
     "text": [
      "\n",
      "Proposing:   0%|          | 0/5 [00:00<?, ?it/s]"
     ]
    },
    {
     "name": "stdout",
     "output_type": "stream",
     "text": [
      "Proposal: 1\n",
      "2025-07-25 22:53:30 - [trainer.py:2204:_text_grad_constraint_propose_step] - Propose time: 2.085531711578369\n",
      "New prompts:  [PromptData(id='7c4cfe03-3711-427e-a485-2a8def6f6893', name='llm.task_desc_str', data=\"Answer questions with short factoid answers. Always locate the relevant label (e.g., 'Customer No.', 'Invoice Issuer', 'Company Name') within the provided context and extract the associated value directly from the same section. Focus on extracting the most relevant factoid that directly answers the question, without additional commentary. Ensure the answer is concise, accurate, and solely based on the provided context.\", requires_opt=True)]\n"
     ]
    },
    {
     "name": "stderr",
     "output_type": "stream",
     "text": [
      "\n",
      "\n",
      "Loading Data: 100%|██████████| 2/2 [00:00<00:00, 202.94it/s]\n",
      "Predicting: step(8): 0.9083 across 2 samples, Max potential: 0.9083: 100%|██████████| 2/2 [00:00<00:00,  2.40it/s]\n"
     ]
    },
    {
     "name": "stdout",
     "output_type": "stream",
     "text": [
      "2025-07-25 22:53:32 - [trainer.py:2230:_text_grad_constraint_propose_step] - Fail minibatch check, try next proposal: True, 0.9083333333333333 <= 0.9083333333333333\n"
     ]
    },
    {
     "name": "stderr",
     "output_type": "stream",
     "text": [
      "\n",
      "Proposing:  20%|██        | 1/5 [00:03<00:13,  3.42s/it]"
     ]
    },
    {
     "name": "stdout",
     "output_type": "stream",
     "text": [
      "Proposal: 2\n",
      "2025-07-25 22:53:34 - [trainer.py:2204:_text_grad_constraint_propose_step] - Propose time: 2.0956954956054688\n",
      "New prompts:  [PromptData(id='7c4cfe03-3711-427e-a485-2a8def6f6893', name='llm.task_desc_str', data=\"Answer questions with short factoid answers. When extracting specific details such as customer number, always locate the 'Customer No.' label within the context and extract the number directly from that label's section. Focus on accuracy by verifying the label and its value in the same segment, and ensure the answer is concise, accurate, and based solely on the provided context.\", requires_opt=True)]\n"
     ]
    },
    {
     "name": "stderr",
     "output_type": "stream",
     "text": [
      "\n",
      "\n",
      "Loading Data: 100%|██████████| 2/2 [00:00<00:00, 192.43it/s]\n",
      "Predicting: step(8): 0.9083 across 2 samples, Max potential: 0.9083: 100%|██████████| 2/2 [00:01<00:00,  1.97it/s]\n"
     ]
    },
    {
     "name": "stdout",
     "output_type": "stream",
     "text": [
      "2025-07-25 22:53:35 - [trainer.py:2230:_text_grad_constraint_propose_step] - Fail minibatch check, try next proposal: True, 0.9083333333333333 <= 0.9083333333333333\n"
     ]
    },
    {
     "name": "stderr",
     "output_type": "stream",
     "text": [
      "\n",
      "Proposing:  40%|████      | 2/5 [00:06<00:10,  3.50s/it]"
     ]
    },
    {
     "name": "stdout",
     "output_type": "stream",
     "text": [
      "Proposal: 3\n",
      "2025-07-25 22:53:38 - [trainer.py:2204:_text_grad_constraint_propose_step] - Propose time: 2.7773430347442627\n",
      "New prompts:  [PromptData(id='7c4cfe03-3711-427e-a485-2a8def6f6893', name='llm.task_desc_str', data=\"Answer questions with short factoid answers. Think step by step. Always locate the 'Customer No.' label in the context and extract the associated number directly from the same section. Do not rely on inference or assumptions. Ensure the answer is concise, accurate, and based solely on the provided context.\", requires_opt=True)]\n"
     ]
    },
    {
     "name": "stderr",
     "output_type": "stream",
     "text": [
      "\n",
      "\n",
      "Loading Data: 100%|██████████| 2/2 [00:00<00:00, 140.00it/s]\n",
      "Predicting: step(8): 0.9083 across 2 samples, Max potential: 0.9083: 100%|██████████| 2/2 [00:00<00:00,  2.11it/s]\n"
     ]
    },
    {
     "name": "stdout",
     "output_type": "stream",
     "text": [
      "2025-07-25 22:53:39 - [trainer.py:2230:_text_grad_constraint_propose_step] - Fail minibatch check, try next proposal: True, 0.9083333333333333 <= 0.9083333333333333\n"
     ]
    },
    {
     "name": "stderr",
     "output_type": "stream",
     "text": [
      "\n",
      "Proposing:  60%|██████    | 3/5 [00:11<00:07,  3.81s/it]"
     ]
    },
    {
     "name": "stdout",
     "output_type": "stream",
     "text": [
      "Proposal: 4\n",
      "2025-07-25 22:53:42 - [trainer.py:2204:_text_grad_constraint_propose_step] - Propose time: 2.2890608310699463\n",
      "New prompts:  [PromptData(id='7c4cfe03-3711-427e-a485-2a8def6f6893', name='llm.task_desc_str', data=\"Answer questions with short factoid answers. Always locate the 'Customer No.' label in the context, verify it, and extract the associated number directly from the same section. Do not include extraneous information. Focus on accuracy and consistency across diverse document layouts.\", requires_opt=True)]\n"
     ]
    },
    {
     "name": "stderr",
     "output_type": "stream",
     "text": [
      "\n",
      "\n",
      "Loading Data: 100%|██████████| 2/2 [00:00<00:00, 167.13it/s]\n",
      "Predicting: step(8): 0.9083 across 2 samples, Max potential: 0.9083: 100%|██████████| 2/2 [00:01<00:00,  1.29it/s]\n"
     ]
    },
    {
     "name": "stdout",
     "output_type": "stream",
     "text": [
      "2025-07-25 22:53:44 - [trainer.py:2230:_text_grad_constraint_propose_step] - Fail minibatch check, try next proposal: True, 0.9083333333333333 <= 0.9083333333333333\n"
     ]
    },
    {
     "name": "stderr",
     "output_type": "stream",
     "text": [
      "\n",
      "Proposing:  80%|████████  | 4/5 [00:15<00:04,  4.01s/it]"
     ]
    },
    {
     "name": "stdout",
     "output_type": "stream",
     "text": [
      "Proposal: 5\n",
      "2025-07-25 22:53:45 - [trainer.py:2204:_text_grad_constraint_propose_step] - Propose time: 1.459000825881958\n",
      "New prompts:  [PromptData(id='7c4cfe03-3711-427e-a485-2a8def6f6893', name='llm.task_desc_str', data='The invoice issuer is Heyl & Patterson', requires_opt=True)]\n"
     ]
    },
    {
     "name": "stderr",
     "output_type": "stream",
     "text": [
      "\n",
      "\n",
      "Loading Data: 100%|██████████| 2/2 [00:00<00:00, 282.77it/s]\n",
      "Predicting: step(8): 0.9083 across 2 samples, Max potential: 0.9083: 100%|██████████| 2/2 [00:00<00:00,  2.09it/s]\n"
     ]
    },
    {
     "name": "stdout",
     "output_type": "stream",
     "text": [
      "2025-07-25 22:53:46 - [trainer.py:2230:_text_grad_constraint_propose_step] - Fail minibatch check, try next proposal: True, 0.9083333333333333 <= 0.9083333333333333\n"
     ]
    },
    {
     "name": "stderr",
     "output_type": "stream",
     "text": [
      "\n",
      "Proposing: 100%|██████████| 5/5 [00:18<00:00,  3.65s/it]\n"
     ]
    },
    {
     "name": "stdout",
     "output_type": "stream",
     "text": [
      "No proposal can improve the subset and full set, and val set\n",
      "Saving checkpoint to C:\\Users\\wuhan\\AppData\\Roaming\\adalflow\\ckpt\\HotPotQAAdal\\constrained_max_steps_12_21fb6_run_1.json\n",
      "Done with proposals\n"
     ]
    },
    {
     "name": "stderr",
     "output_type": "stream",
     "text": [
      "Training Step: 8: 100%|██████████| 8/8 [08:53<00:00, 66.64s/it]\n",
      "Epoch:  50%|█████     | 1/2 [08:53<08:53, 533.18s/it]"
     ]
    },
    {
     "name": "stdout",
     "output_type": "stream",
     "text": [
      "Epoch: 1\n"
     ]
    },
    {
     "name": "stderr",
     "output_type": "stream",
     "text": [
      "Training Step: 9:   0%|          | 0/8 [00:00<?, ?it/s]\n",
      "Loading Data: 100%|██████████| 4/4 [00:00<00:00, 233.83it/s]\n",
      "Training: 100%|██████████| 4/4 [00:00<00:00,  5.18it/s]\n",
      "\n",
      "Loading Data: 100%|██████████| 4/4 [00:00<00:00, 210.08it/s]\n",
      "Calculating Loss: 100%|██████████| 4/4 [00:00<00:00, 31.59it/s]\n",
      "Evaluating: 100%|██████████| 10/10 [00:00<00:00, 123.59it/s]\n"
     ]
    },
    {
     "name": "stdout",
     "output_type": "stream",
     "text": [
      "Moving batch eval: EvaluationResult(avg_score=0.8633333333333333, per_item_scores=[0.5166666666666666, 0.8166666666666667, 0.95, 1.0, 1.0, 0.8166666666666667, 0.95, 1.0, 0.8166666666666667, 0.7666666666666667], additional_info=None)\n",
      "2025-07-25 22:53:48 - [trainer.py:2172:_text_grad_constraint_propose_step] - Moving batch acc: 0.8633333333333333\n",
      "Moving batch correct size: 10\n",
      "Moving batch error size: 0\n",
      "Subset Error size: 0\n",
      "Subset Correct size: 2\n",
      "Subset score: 0.9083333333333333\n",
      "2025-07-25 22:53:48 - [trainer.py:2178:_text_grad_constraint_propose_step] - Subset batch acc: 0.9083333333333333,0.9083333333333333\n",
      "Subset loss backward...\n",
      "Subset loss backward time: 2.782881021499634\n",
      "Optimizer propose...\n"
     ]
    },
    {
     "name": "stderr",
     "output_type": "stream",
     "text": [
      "\n",
      "Proposing:   0%|          | 0/5 [00:00<?, ?it/s]"
     ]
    },
    {
     "name": "stdout",
     "output_type": "stream",
     "text": [
      "Proposal: 1\n",
      "2025-07-25 22:53:53 - [trainer.py:2204:_text_grad_constraint_propose_step] - Propose time: 2.2678420543670654\n",
      "New prompts:  [PromptData(id='7c4cfe03-3711-427e-a485-2a8def6f6893', name='llm.task_desc_str', data='Answer questions with short factoid answers. You will receive context (contain relevant facts). Think step by step. Focus on extracting the most relevant factoid directly answering the question. Do not include explanations or additional commentary. Ensure the answer is concise, accurate, and based solely on the provided context. Update more rapidly when steps are larger than 3.', requires_opt=True)]\n"
     ]
    },
    {
     "name": "stderr",
     "output_type": "stream",
     "text": [
      "\n",
      "\n",
      "Loading Data: 100%|██████████| 2/2 [00:00<00:00, 332.54it/s]\n",
      "Predicting: step(9): 0.9083 across 2 samples, Max potential: 0.9083: 100%|██████████| 2/2 [00:01<00:00,  1.93it/s]\n"
     ]
    },
    {
     "name": "stdout",
     "output_type": "stream",
     "text": [
      "2025-07-25 22:53:55 - [trainer.py:2230:_text_grad_constraint_propose_step] - Fail minibatch check, try next proposal: True, 0.9083333333333333 <= 0.9083333333333333\n"
     ]
    },
    {
     "name": "stderr",
     "output_type": "stream",
     "text": [
      "\n",
      "Proposing:  20%|██        | 1/5 [00:03<00:14,  3.68s/it]"
     ]
    },
    {
     "name": "stdout",
     "output_type": "stream",
     "text": [
      "Proposal: 2\n",
      "2025-07-25 22:53:56 - [trainer.py:2204:_text_grad_constraint_propose_step] - Propose time: 1.6745796203613281\n",
      "New prompts:  [PromptData(id='7c4cfe03-3711-427e-a485-2a8def6f6893', name='llm.task_desc_str', data='Answer questions with short factoid answers. You will receive context (contain relevant facts). Think step by step. Focus on extracting the most relevant factoid directly answering the question. Do not include explanations or additional commentary. Ensure the answer is concise, accurate, and based solely on the provided context. When the step count increases beyond 3, update your response more rapidly to reflect new information.', requires_opt=True)]\n"
     ]
    },
    {
     "name": "stderr",
     "output_type": "stream",
     "text": [
      "\n",
      "\n",
      "Loading Data: 100%|██████████| 2/2 [00:00<00:00, 266.53it/s]\n",
      "Predicting: step(9): 0.9083 across 2 samples, Max potential: 0.9083: 100%|██████████| 2/2 [00:01<00:00,  1.69it/s]\n"
     ]
    },
    {
     "name": "stdout",
     "output_type": "stream",
     "text": [
      "2025-07-25 22:53:58 - [trainer.py:2230:_text_grad_constraint_propose_step] - Fail minibatch check, try next proposal: True, 0.9083333333333333 <= 0.9083333333333333\n"
     ]
    },
    {
     "name": "stderr",
     "output_type": "stream",
     "text": [
      "\n",
      "Proposing:  40%|████      | 2/5 [00:07<00:10,  3.47s/it]"
     ]
    },
    {
     "name": "stdout",
     "output_type": "stream",
     "text": [
      "Proposal: 3\n",
      "2025-07-25 22:54:00 - [trainer.py:2204:_text_grad_constraint_propose_step] - Propose time: 1.624986171722412\n",
      "New prompts:  [PromptData(id='7c4cfe03-3711-427e-a485-2a8def6f6893', name='llm.task_desc_str', data='Answer questions with short factoid answers. Think step by step. When steps are larger than 3, update the response more rapidly. Focus on extracting the most relevant fact directly answering the question based solely on the provided context. Do not include explanations or additional commentary.', requires_opt=True)]\n"
     ]
    },
    {
     "name": "stderr",
     "output_type": "stream",
     "text": [
      "\n",
      "\n",
      "Loading Data: 100%|██████████| 2/2 [00:00<00:00, 207.13it/s]\n",
      "Predicting: step(9): 0.9083 across 2 samples, Max potential: 0.9083: 100%|██████████| 2/2 [00:01<00:00,  1.50it/s]\n"
     ]
    },
    {
     "name": "stdout",
     "output_type": "stream",
     "text": [
      "2025-07-25 22:54:01 - [trainer.py:2230:_text_grad_constraint_propose_step] - Fail minibatch check, try next proposal: True, 0.9083333333333333 <= 0.9083333333333333\n"
     ]
    },
    {
     "name": "stderr",
     "output_type": "stream",
     "text": [
      "\n",
      "Proposing:  60%|██████    | 3/5 [00:10<00:06,  3.49s/it]"
     ]
    },
    {
     "name": "stdout",
     "output_type": "stream",
     "text": [
      "Proposal: 4\n",
      "2025-07-25 22:54:03 - [trainer.py:2204:_text_grad_constraint_propose_step] - Propose time: 1.8940811157226562\n",
      "New prompts:  [PromptData(id='7c4cfe03-3711-427e-a485-2a8def6f6893', name='llm.task_desc_str', data='Answer questions with short factoid answers. Focus solely on extracting the most relevant factual information from the context. Think step by step if needed. Do not include explanations or additional commentary. For large step numbers (greater than 3), update the answer more rapidly to reflect changes in the context.', requires_opt=True)]\n"
     ]
    },
    {
     "name": "stderr",
     "output_type": "stream",
     "text": [
      "\n",
      "\n",
      "Loading Data: 100%|██████████| 2/2 [00:00<00:00, 166.01it/s]\n",
      "Predicting: step(9): 0.95 across 2 samples, Max potential: 0.95: 100%|██████████| 2/2 [00:03<00:00,  1.50s/it]\n"
     ]
    },
    {
     "name": "stdout",
     "output_type": "stream",
     "text": [
      "2025-07-25 22:54:07 - [trainer.py:2224:_text_grad_constraint_propose_step] - Pass minibatch check:True, 0.95 > 0.9083333333333333\n"
     ]
    },
    {
     "name": "stderr",
     "output_type": "stream",
     "text": [
      "\n",
      "\n",
      "Loading Data: 100%|██████████| 30/30 [00:00<00:00, 1299.97it/s]\n",
      "Predicting: step(9): 0.8712 across 26 samples, Max potential: 0.8883:  87%|████████▋ | 26/30 [00:07<00:01,  3.28it/s]\n"
     ]
    },
    {
     "name": "stdout",
     "output_type": "stream",
     "text": [
      "Optimizer revert: 0.8709876543209876 <= 0.8883333333333333\n"
     ]
    },
    {
     "name": "stderr",
     "output_type": "stream",
     "text": [
      "\n",
      "Proposing:  80%|████████  | 4/5 [00:23<00:07,  7.38s/it]"
     ]
    },
    {
     "name": "stdout",
     "output_type": "stream",
     "text": [
      "Proposal: 5\n",
      "2025-07-25 22:54:17 - [trainer.py:2204:_text_grad_constraint_propose_step] - Propose time: 2.1696770191192627\n",
      "New prompts:  [PromptData(id='7c4cfe03-3711-427e-a485-2a8def6f6893', name='llm.task_desc_str', data='Answer questions with short factoid answers. You will receive context (contain relevant facts). Think step by step. Focus on extracting the most relevant factoid directly answering the question. Do not include explanations or additional commentary. Ensure the answer is concise, accurate, and based solely on the provided context. When the step number exceeds 3, update the answer more rapidly to accommodate batch changes.', requires_opt=True)]\n"
     ]
    },
    {
     "name": "stderr",
     "output_type": "stream",
     "text": [
      "\n",
      "\n",
      "Loading Data: 100%|██████████| 2/2 [00:00<00:00, 202.74it/s]\n",
      "Predicting: step(9): 0.9083 across 2 samples, Max potential: 0.9083: 100%|██████████| 2/2 [00:01<00:00,  1.90it/s]\n"
     ]
    },
    {
     "name": "stdout",
     "output_type": "stream",
     "text": [
      "2025-07-25 22:54:18 - [trainer.py:2230:_text_grad_constraint_propose_step] - Fail minibatch check, try next proposal: True, 0.9083333333333333 <= 0.9083333333333333\n"
     ]
    },
    {
     "name": "stderr",
     "output_type": "stream",
     "text": [
      "\n",
      "Proposing: 100%|██████████| 5/5 [00:27<00:00,  5.51s/it]\n"
     ]
    },
    {
     "name": "stdout",
     "output_type": "stream",
     "text": [
      "No proposal can improve the subset and full set, and val set\n",
      "Saving checkpoint to C:\\Users\\wuhan\\AppData\\Roaming\\adalflow\\ckpt\\HotPotQAAdal\\constrained_max_steps_12_21fb6_run_1.json\n",
      "Done with proposals\n"
     ]
    },
    {
     "name": "stderr",
     "output_type": "stream",
     "text": [
      "Training Step: 10:  12%|█▎        | 1/8 [00:31<03:43, 31.96s/it]\n",
      "Loading Data: 100%|██████████| 4/4 [00:00<00:00, 127.08it/s]\n",
      "Training: 100%|██████████| 4/4 [00:00<00:00,  5.17it/s]\n",
      "\n",
      "Loading Data: 100%|██████████| 4/4 [00:00<00:00, 567.87it/s]\n",
      "Calculating Loss: 100%|██████████| 4/4 [00:00<00:00, 87.16it/s]\n",
      "Evaluating: 100%|██████████| 14/14 [00:00<00:00, 184.13it/s]\n"
     ]
    },
    {
     "name": "stdout",
     "output_type": "stream",
     "text": [
      "Moving batch eval: EvaluationResult(avg_score=0.8857142857142856, per_item_scores=[0.5166666666666666, 0.8166666666666667, 0.95, 1.0, 1.0, 0.8166666666666667, 0.95, 1.0, 0.8166666666666667, 0.7666666666666667, 1.0, 0.8166666666666667, 0.95, 1.0], additional_info=None)\n",
      "2025-07-25 22:54:20 - [trainer.py:2172:_text_grad_constraint_propose_step] - Moving batch acc: 0.8857142857142856\n",
      "Moving batch correct size: 14\n",
      "Moving batch error size: 0\n",
      "Subset Error size: 0\n",
      "Subset Correct size: 2\n",
      "Subset score: 0.8833333333333333\n",
      "2025-07-25 22:54:20 - [trainer.py:2178:_text_grad_constraint_propose_step] - Subset batch acc: 0.8833333333333333,0.8833333333333333\n",
      "Subset loss backward...\n",
      "Subset loss backward time: 3.433289051055908\n",
      "Optimizer propose...\n"
     ]
    },
    {
     "name": "stderr",
     "output_type": "stream",
     "text": [
      "\n",
      "Proposing:   0%|          | 0/5 [00:00<?, ?it/s]"
     ]
    },
    {
     "name": "stdout",
     "output_type": "stream",
     "text": [
      "Proposal: 1\n",
      "2025-07-25 22:54:27 - [trainer.py:2204:_text_grad_constraint_propose_step] - Propose time: 3.603412628173828\n",
      "New prompts:  [PromptData(id='7c4cfe03-3711-427e-a485-2a8def6f6893', name='llm.task_desc_str', data='Answer questions with short factoid answers. You will receive context (contain relevant facts). Think step by step. Focus on extracting the most relevant factoid directly answering the question. Do not include explanations or additional commentary. Ensure the answer is concise, accurate, and based solely on the provided context. When stating names of organizations or entities, include their full official designation as it appears in the context.', requires_opt=True)]\n"
     ]
    },
    {
     "name": "stderr",
     "output_type": "stream",
     "text": [
      "\n",
      "\n",
      "Loading Data: 100%|██████████| 2/2 [00:00<00:00, 117.47it/s]\n",
      "Predicting: step(10): 0.8833 across 2 samples, Max potential: 0.8833: 100%|██████████| 2/2 [00:02<00:00,  1.33s/it]\n"
     ]
    },
    {
     "name": "stdout",
     "output_type": "stream",
     "text": [
      "2025-07-25 22:54:30 - [trainer.py:2230:_text_grad_constraint_propose_step] - Fail minibatch check, try next proposal: True, 0.8833333333333333 <= 0.8833333333333333\n"
     ]
    },
    {
     "name": "stderr",
     "output_type": "stream",
     "text": [
      "\n",
      "Proposing:  20%|██        | 1/5 [00:06<00:26,  6.74s/it]"
     ]
    },
    {
     "name": "stdout",
     "output_type": "stream",
     "text": [
      "Proposal: 2\n",
      "2025-07-25 22:54:37 - [trainer.py:2204:_text_grad_constraint_propose_step] - Propose time: 6.978186130523682\n",
      "New prompts:  [PromptData(id='7c4cfe03-3711-427e-a485-2a8def6f6893', name='llm.task_desc_str', data='Task description for the language model, used with the following template: {{task_desc_str}} {{output_format_str}} <START_OF_USER> Context: {{context}} Question: {{question}} <END_OF_USER>\\nAnswer: Provide a concise, fact-based response that includes the full official name and designation exactly as given in the context, including any divisions or corporate designations. Focus on extracting the most relevant and precise official designation. Do not include explanations or additional commentary.', requires_opt=True)]\n"
     ]
    },
    {
     "name": "stderr",
     "output_type": "stream",
     "text": [
      "\n",
      "\n",
      "Loading Data: 100%|██████████| 2/2 [00:00<00:00, 189.76it/s]\n",
      "Predicting: step(10): 0.975 across 2 samples, Max potential: 0.975: 100%|██████████| 2/2 [00:39<00:00, 19.71s/it]\n"
     ]
    },
    {
     "name": "stdout",
     "output_type": "stream",
     "text": [
      "2025-07-25 22:55:17 - [trainer.py:2224:_text_grad_constraint_propose_step] - Pass minibatch check:True, 0.975 > 0.8833333333333333\n"
     ]
    },
    {
     "name": "stderr",
     "output_type": "stream",
     "text": [
      "\n",
      "\n",
      "Loading Data: 100%|██████████| 30/30 [00:00<00:00, 1204.79it/s]\n",
      "Predicting: step(10): 0.8452 across 21 samples, Max potential: 0.8917:  70%|███████   | 21/30 [00:08<00:03,  2.38it/s]\n"
     ]
    },
    {
     "name": "stdout",
     "output_type": "stream",
     "text": [
      "Optimizer revert: 0.8439393939393939 <= 0.8883333333333333\n"
     ]
    },
    {
     "name": "stderr",
     "output_type": "stream",
     "text": [
      "\n",
      "Proposing:  40%|████      | 2/5 [01:02<01:46, 35.60s/it]"
     ]
    },
    {
     "name": "stdout",
     "output_type": "stream",
     "text": [
      "Proposal: 3\n"
     ]
    },
    {
     "name": "stderr",
     "output_type": "stream",
     "text": [
      "Error at parsing JSON string: Got invalid JSON object with yaml.safe_load. Error: while parsing a flow mapping\n",
      "  in \"<unicode string>\", line 1, column 1:\n",
      "    {\n",
      "    ^\n",
      "expected ',' or '}', but got '<scalar>'\n",
      "  in \"<unicode string>\", line 4, column 29:\n",
      "        \"proposed_variable\": \"{\"reasoning\": \"The context explici ... \n",
      "                                ^. Got JSON string: {\n",
      "    \"reasoning\": \"The context consistently mentions the full official name 'Leo Burnett USA, a division of Leo Burnett Company, Inc.' as the creator of the document. The previous model outputs only 'Leo Burnett USA', which omits the essential official designation. To match the ground truth and improve accuracy, the prompt should explicitly instruct the model to include the entire official name and designation exactly as provided in the context.\",\n",
      "    \"method\": \"Rephrase existing instruction (prompting) + add explicit guidance to include full official names and designations\",\n",
      "    \"proposed_variable\": \"{\"reasoning\": \"The context explicitly states the full official name and designation of the company as 'Leo Burnett USA, a division of Leo Burnett Company, Inc.' To ensure the model outputs the complete and correct official name, the instruction must explicitly require including the full official designation in the answer. This will help the model produce precise and aligned responses across the batch.\",\"method\": \"Rephrase existing instruction (prompting) + add explicit guidance to include full official names and designations\",\"proposed_variable\": \"Answer with the full official name and designation exactly as it appears in the context, including 'a division of Leo Burnett Company, Inc.'.\"}\"\n",
      "}\n",
      "Error at parsing output: Error: Got invalid JSON object with yaml.safe_load. Error: while parsing a flow mapping\n",
      "  in \"<unicode string>\", line 1, column 1:\n",
      "    {\n",
      "    ^\n",
      "expected ',' or '}', but got '<scalar>'\n",
      "  in \"<unicode string>\", line 4, column 29:\n",
      "        \"proposed_variable\": \"{\"reasoning\": \"The context explici ... \n",
      "                                ^. Got JSON string: {\n",
      "    \"reasoning\": \"The context consistently mentions the full official name 'Leo Burnett USA, a division of Leo Burnett Company, Inc.' as the creator of the document. The previous model outputs only 'Leo Burnett USA', which omits the essential official designation. To match the ground truth and improve accuracy, the prompt should explicitly instruct the model to include the entire official name and designation exactly as provided in the context.\",\n",
      "    \"method\": \"Rephrase existing instruction (prompting) + add explicit guidance to include full official names and designations\",\n",
      "    \"proposed_variable\": \"{\"reasoning\": \"The context explicitly states the full official name and designation of the company as 'Leo Burnett USA, a division of Leo Burnett Company, Inc.' To ensure the model outputs the complete and correct official name, the instruction must explicitly require including the full official designation in the answer. This will help the model produce precise and aligned responses across the batch.\",\"method\": \"Rephrase existing instruction (prompting) + add explicit guidance to include full official names and designations\",\"proposed_variable\": \"Answer with the full official name and designation exactly as it appears in the context, including 'a division of Leo Burnett Company, Inc.'.\"}\"\n",
      "}\n",
      "Error processing the output processors: Error: Error: Got invalid JSON object with yaml.safe_load. Error: while parsing a flow mapping\n",
      "  in \"<unicode string>\", line 1, column 1:\n",
      "    {\n",
      "    ^\n",
      "expected ',' or '}', but got '<scalar>'\n",
      "  in \"<unicode string>\", line 4, column 29:\n",
      "        \"proposed_variable\": \"{\"reasoning\": \"The context explici ... \n",
      "                                ^. Got JSON string: {\n",
      "    \"reasoning\": \"The context consistently mentions the full official name 'Leo Burnett USA, a division of Leo Burnett Company, Inc.' as the creator of the document. The previous model outputs only 'Leo Burnett USA', which omits the essential official designation. To match the ground truth and improve accuracy, the prompt should explicitly instruct the model to include the entire official name and designation exactly as provided in the context.\",\n",
      "    \"method\": \"Rephrase existing instruction (prompting) + add explicit guidance to include full official names and designations\",\n",
      "    \"proposed_variable\": \"{\"reasoning\": \"The context explicitly states the full official name and designation of the company as 'Leo Burnett USA, a division of Leo Burnett Company, Inc.' To ensure the model outputs the complete and correct official name, the instruction must explicitly require including the full official designation in the answer. This will help the model produce precise and aligned responses across the batch.\",\"method\": \"Rephrase existing instruction (prompting) + add explicit guidance to include full official names and designations\",\"proposed_variable\": \"Answer with the full official name and designation exactly as it appears in the context, including 'a division of Leo Burnett Company, Inc.'.\"}\"\n",
      "}\n"
     ]
    },
    {
     "name": "stdout",
     "output_type": "stream",
     "text": [
      "2025-07-25 22:55:28 - [trainer.py:2204:_text_grad_constraint_propose_step] - Propose time: 2.1000757217407227\n",
      "New prompts:  [PromptData(id='7c4cfe03-3711-427e-a485-2a8def6f6893', name='llm.task_desc_str', data='{\\n    \"reasoning\": \"The context consistently mentions the full official name \\'Leo Burnett USA, a division of Leo Burnett Company, Inc.\\' as the creator of the document. The previous model outputs only \\'Leo Burnett USA\\', which omits the essential official designation. To match the ground truth and improve accuracy, the prompt should explicitly instruct the model to include the entire official name and designation exactly as provided in the context.\",\\n    \"method\": \"Rephrase existing instruction (prompting) + add explicit guidance to include full official names and designations\",\\n    \"proposed_variable\": \"{\"reasoning\": \"The context explicitly states the full official name and designation of the company as \\'Leo Burnett USA, a division of Leo Burnett Company, Inc.\\' To ensure the model outputs the complete and correct official name, the instruction must explicitly require including the full official designation in the answer. This will help the model produce precise and aligned responses across the batch.\",\"method\": \"Rephrase existing instruction (prompting) + add explicit guidance to include full official names and designations\",\"proposed_variable\": \"Answer with the full official name and designation exactly as it appears in the context, including \\'a division of Leo Burnett Company, Inc.\\'.\"}\"\\n}', requires_opt=True)]\n"
     ]
    },
    {
     "name": "stderr",
     "output_type": "stream",
     "text": [
      "\n",
      "\n",
      "Loading Data: 100%|██████████| 2/2 [00:00<00:00, 110.33it/s]\n",
      "Predicting: step(10): 0.975 across 2 samples, Max potential: 0.975: 100%|██████████| 2/2 [00:03<00:00,  1.53s/it]\n"
     ]
    },
    {
     "name": "stdout",
     "output_type": "stream",
     "text": [
      "2025-07-25 22:55:32 - [trainer.py:2224:_text_grad_constraint_propose_step] - Pass minibatch check:True, 0.975 > 0.8833333333333333\n"
     ]
    },
    {
     "name": "stderr",
     "output_type": "stream",
     "text": [
      "\n",
      "\n",
      "Loading Data: 100%|██████████| 30/30 [00:00<00:00, 1142.03it/s]\n",
      "Predicting: step(10): 0.8204 across 18 samples, Max potential: 0.8922:  60%|██████    | 18/30 [00:12<00:08,  1.48it/s]\n"
     ]
    },
    {
     "name": "stdout",
     "output_type": "stream",
     "text": [
      "Optimizer revert: 0.8149122807017544 <= 0.8883333333333333\n"
     ]
    },
    {
     "name": "stderr",
     "output_type": "stream",
     "text": [
      "\n",
      "Proposing:  60%|██████    | 3/5 [01:20<00:55, 27.60s/it]"
     ]
    },
    {
     "name": "stdout",
     "output_type": "stream",
     "text": [
      "Proposal: 4\n",
      "2025-07-25 22:55:46 - [trainer.py:2204:_text_grad_constraint_propose_step] - Propose time: 2.3317854404449463\n",
      "New prompts:  [PromptData(id='7c4cfe03-3711-427e-a485-2a8def6f6893', name='llm.task_desc_str', data='Task description for the language model, used with the following template: {{task_desc_str}} {{output_format_str}} <START_OF_USER> Context: {{context}} Question: {{question}} <END_OF_USER> Please answer with the full official name and designation of the creating company exactly as it appears in the context, including any divisions or legal designations.', requires_opt=True)]\n"
     ]
    },
    {
     "name": "stderr",
     "output_type": "stream",
     "text": [
      "\n",
      "\n",
      "Loading Data: 100%|██████████| 2/2 [00:00<00:00, 188.23it/s]\n",
      "Predicting: step(10): 0.975 across 2 samples, Max potential: 0.975: 100%|██████████| 2/2 [00:00<00:00,  2.12it/s]\n"
     ]
    },
    {
     "name": "stdout",
     "output_type": "stream",
     "text": [
      "2025-07-25 22:55:48 - [trainer.py:2224:_text_grad_constraint_propose_step] - Pass minibatch check:True, 0.975 > 0.8833333333333333\n"
     ]
    },
    {
     "name": "stderr",
     "output_type": "stream",
     "text": [
      "\n",
      "\n",
      "Loading Data: 100%|██████████| 30/30 [00:00<00:00, 804.62it/s]\n",
      "Predicting: step(10): 0.6667 across 10 samples, Max potential: 0.8889:  33%|███▎      | 10/30 [00:09<00:19,  1.02it/s]\n"
     ]
    },
    {
     "name": "stdout",
     "output_type": "stream",
     "text": [
      "Optimizer revert: 0.6787878787878788 <= 0.8883333333333333\n"
     ]
    },
    {
     "name": "stderr",
     "output_type": "stream",
     "text": [
      "\n",
      "Proposing:  80%|████████  | 4/5 [01:34<00:22, 22.09s/it]"
     ]
    },
    {
     "name": "stdout",
     "output_type": "stream",
     "text": [
      "Proposal: 5\n",
      "2025-07-25 22:56:00 - [trainer.py:2204:_text_grad_constraint_propose_step] - Propose time: 1.8859953880310059\n",
      "New prompts:  [PromptData(id='7c4cfe03-3711-427e-a485-2a8def6f6893', name='llm.task_desc_str', data=\"Answer questions with short factoid answers. You will receive context (contain relevant facts). Think step by step. Focus on extracting the most relevant factoid directly answering the question. Include the full official name and designation as it appears in the context, such as 'a division of Leo Burnett Company, Inc.' Ensure the answer is concise, accurate, and based solely on the provided context.\", requires_opt=True)]\n"
     ]
    },
    {
     "name": "stderr",
     "output_type": "stream",
     "text": [
      "\n",
      "\n",
      "Loading Data: 100%|██████████| 2/2 [00:00<00:00, 302.21it/s]\n",
      "Predicting: step(10): 0.975 across 2 samples, Max potential: 0.975: 100%|██████████| 2/2 [00:00<00:00,  2.36it/s]\n"
     ]
    },
    {
     "name": "stdout",
     "output_type": "stream",
     "text": [
      "2025-07-25 22:56:01 - [trainer.py:2224:_text_grad_constraint_propose_step] - Pass minibatch check:True, 0.975 > 0.8833333333333333\n"
     ]
    },
    {
     "name": "stderr",
     "output_type": "stream",
     "text": [
      "\n",
      "\n",
      "Loading Data: 100%|██████████| 30/30 [00:00<00:00, 1774.19it/s]\n",
      "Predicting: step(10): 0.8712 across 26 samples, Max potential: 0.8883:  87%|████████▋ | 26/30 [00:09<00:01,  2.75it/s]\n"
     ]
    },
    {
     "name": "stdout",
     "output_type": "stream",
     "text": [
      "Optimizer revert: 0.8709876543209876 <= 0.8883333333333333\n"
     ]
    },
    {
     "name": "stderr",
     "output_type": "stream",
     "text": [
      "\n",
      "Proposing: 100%|██████████| 5/5 [01:46<00:00, 21.39s/it]\n"
     ]
    },
    {
     "name": "stdout",
     "output_type": "stream",
     "text": [
      "No proposal can improve the subset and full set, and val set\n",
      "Saving checkpoint to C:\\Users\\wuhan\\AppData\\Roaming\\adalflow\\ckpt\\HotPotQAAdal\\constrained_max_steps_12_21fb6_run_1.json\n",
      "Done with proposals\n"
     ]
    },
    {
     "name": "stderr",
     "output_type": "stream",
     "text": [
      "Training Step: 11:  25%|██▌       | 2/8 [02:23<07:53, 78.95s/it]\n",
      "Loading Data: 100%|██████████| 4/4 [00:00<00:00, 165.85it/s]\n",
      "Training: 100%|██████████| 4/4 [00:01<00:00,  2.24it/s]\n",
      "\n",
      "Loading Data: 100%|██████████| 4/4 [00:00<00:00, 232.37it/s]\n",
      "Calculating Loss: 100%|██████████| 4/4 [00:00<00:00, 33.20it/s]\n",
      "Evaluating: 100%|██████████| 18/18 [00:00<00:00, 139.42it/s]\n"
     ]
    },
    {
     "name": "stdout",
     "output_type": "stream",
     "text": [
      "Moving batch eval: EvaluationResult(avg_score=0.8851851851851852, per_item_scores=[0.5166666666666666, 0.8166666666666667, 0.95, 1.0, 1.0, 0.8166666666666667, 0.95, 1.0, 0.8166666666666667, 0.7666666666666667, 1.0, 0.8166666666666667, 0.95, 1.0, 1.0, 0.8166666666666667, 0.95, 0.7666666666666667], additional_info=None)\n",
      "2025-07-25 22:56:13 - [trainer.py:2172:_text_grad_constraint_propose_step] - Moving batch acc: 0.8851851851851852\n",
      "Moving batch correct size: 18\n",
      "Moving batch error size: 0\n",
      "Subset Error size: 0\n",
      "Subset Correct size: 2\n",
      "Subset score: 0.7916666666666667\n",
      "2025-07-25 22:56:13 - [trainer.py:2178:_text_grad_constraint_propose_step] - Subset batch acc: 0.7916666666666667,0.7916666666666667\n",
      "Subset loss backward...\n",
      "Subset loss backward time: 6.133310556411743\n",
      "Optimizer propose...\n"
     ]
    },
    {
     "name": "stderr",
     "output_type": "stream",
     "text": [
      "\n",
      "Proposing:   0%|          | 0/5 [00:00<?, ?it/s]"
     ]
    },
    {
     "name": "stdout",
     "output_type": "stream",
     "text": [
      "Proposal: 1\n",
      "2025-07-25 22:56:21 - [trainer.py:2204:_text_grad_constraint_propose_step] - Propose time: 1.929619550704956\n",
      "New prompts:  [PromptData(id='7c4cfe03-3711-427e-a485-2a8def6f6893', name='llm.task_desc_str', data='Copiadora Gouldsvey, 12 Calle Guisqueya, HATO Rey PR 00917-1236', requires_opt=True)]\n"
     ]
    },
    {
     "name": "stderr",
     "output_type": "stream",
     "text": [
      "\n",
      "\n",
      "Loading Data: 100%|██████████| 2/2 [00:00<00:00, 141.20it/s]\n",
      "Predicting: step(11): 0.7917 across 2 samples, Max potential: 0.7917: 100%|██████████| 2/2 [00:01<00:00,  1.94it/s]\n"
     ]
    },
    {
     "name": "stdout",
     "output_type": "stream",
     "text": [
      "2025-07-25 22:56:22 - [trainer.py:2230:_text_grad_constraint_propose_step] - Fail minibatch check, try next proposal: True, 0.7916666666666667 <= 0.7916666666666667\n"
     ]
    },
    {
     "name": "stderr",
     "output_type": "stream",
     "text": [
      "\n",
      "Proposing:  20%|██        | 1/5 [00:03<00:13,  3.40s/it]"
     ]
    },
    {
     "name": "stdout",
     "output_type": "stream",
     "text": [
      "Proposal: 2\n",
      "2025-07-25 22:56:24 - [trainer.py:2204:_text_grad_constraint_propose_step] - Propose time: 1.8057801723480225\n",
      "New prompts:  [PromptData(id='7c4cfe03-3711-427e-a485-2a8def6f6893', name='llm.task_desc_str', data='Copiadora Gouldsvey, 12 Calle Guisqueya, HATO Rey PR 00917-1236', requires_opt=True)]\n"
     ]
    },
    {
     "name": "stderr",
     "output_type": "stream",
     "text": [
      "\n",
      "\n",
      "Loading Data: 100%|██████████| 2/2 [00:00<00:00, 229.15it/s]\n",
      "Predicting: step(11): 0.7917 across 2 samples, Max potential: 0.7917: 100%|██████████| 2/2 [00:00<00:00, 21.08it/s]\n"
     ]
    },
    {
     "name": "stdout",
     "output_type": "stream",
     "text": [
      "2025-07-25 22:56:25 - [trainer.py:2230:_text_grad_constraint_propose_step] - Fail minibatch check, try next proposal: True, 0.7916666666666667 <= 0.7916666666666667\n"
     ]
    },
    {
     "name": "stderr",
     "output_type": "stream",
     "text": [
      "\n",
      "Proposing:  40%|████      | 2/5 [00:05<00:08,  2.76s/it]"
     ]
    },
    {
     "name": "stdout",
     "output_type": "stream",
     "text": [
      "Proposal: 3\n",
      "2025-07-25 22:56:27 - [trainer.py:2204:_text_grad_constraint_propose_step] - Propose time: 1.861696720123291\n",
      "New prompts:  [PromptData(id='7c4cfe03-3711-427e-a485-2a8def6f6893', name='llm.task_desc_str', data='Copiadora Gouldsvey, 12 Calle Guisqueya, HATO Rey PR 00917-1236', requires_opt=True)]\n"
     ]
    },
    {
     "name": "stderr",
     "output_type": "stream",
     "text": [
      "\n",
      "\n",
      "Loading Data: 100%|██████████| 2/2 [00:00<00:00, 474.07it/s]\n",
      "Predicting: step(11): 0.7917 across 2 samples, Max potential: 0.7917: 100%|██████████| 2/2 [00:00<00:00, 98.77it/s]\n"
     ]
    },
    {
     "name": "stdout",
     "output_type": "stream",
     "text": [
      "2025-07-25 22:56:27 - [trainer.py:2230:_text_grad_constraint_propose_step] - Fail minibatch check, try next proposal: True, 0.7916666666666667 <= 0.7916666666666667\n"
     ]
    },
    {
     "name": "stderr",
     "output_type": "stream",
     "text": [
      "\n",
      "Proposing:  60%|██████    | 3/5 [00:07<00:04,  2.48s/it]"
     ]
    },
    {
     "name": "stdout",
     "output_type": "stream",
     "text": [
      "Proposal: 4\n",
      "2025-07-25 22:56:28 - [trainer.py:2204:_text_grad_constraint_propose_step] - Propose time: 1.3744637966156006\n",
      "New prompts:  [PromptData(id='7c4cfe03-3711-427e-a485-2a8def6f6893', name='llm.task_desc_str', data='Copiadora Gouldsvey, 12 Calle Guisqueya, HATO Rey PR 00917-1236', requires_opt=True)]\n"
     ]
    },
    {
     "name": "stderr",
     "output_type": "stream",
     "text": [
      "\n",
      "\n",
      "Loading Data: 100%|██████████| 2/2 [00:00<00:00, 395.73it/s]\n",
      "Predicting: step(11): 0.7917 across 2 samples, Max potential: 0.7917: 100%|██████████| 2/2 [00:00<00:00, 131.83it/s]\n"
     ]
    },
    {
     "name": "stdout",
     "output_type": "stream",
     "text": [
      "2025-07-25 22:56:29 - [trainer.py:2230:_text_grad_constraint_propose_step] - Fail minibatch check, try next proposal: True, 0.7916666666666667 <= 0.7916666666666667\n"
     ]
    },
    {
     "name": "stderr",
     "output_type": "stream",
     "text": [
      "\n",
      "Proposing:  80%|████████  | 4/5 [00:09<00:02,  2.19s/it]"
     ]
    },
    {
     "name": "stdout",
     "output_type": "stream",
     "text": [
      "Proposal: 5\n",
      "2025-07-25 22:56:30 - [trainer.py:2204:_text_grad_constraint_propose_step] - Propose time: 1.3258843421936035\n",
      "New prompts:  [PromptData(id='7c4cfe03-3711-427e-a485-2a8def6f6893', name='llm.task_desc_str', data='Copiadora Gouldsvey, 12 Calle Guisqueya, HATO Rey PR 00917-1236', requires_opt=True)]\n"
     ]
    },
    {
     "name": "stderr",
     "output_type": "stream",
     "text": [
      "\n",
      "\n",
      "Loading Data: 100%|██████████| 2/2 [00:00<00:00, 229.23it/s]\n",
      "Predicting: step(11): 0.7917 across 2 samples, Max potential: 0.7917: 100%|██████████| 2/2 [00:00<00:00, 100.51it/s]\n"
     ]
    },
    {
     "name": "stdout",
     "output_type": "stream",
     "text": [
      "2025-07-25 22:56:30 - [trainer.py:2230:_text_grad_constraint_propose_step] - Fail minibatch check, try next proposal: True, 0.7916666666666667 <= 0.7916666666666667\n"
     ]
    },
    {
     "name": "stderr",
     "output_type": "stream",
     "text": [
      "\n",
      "Proposing: 100%|██████████| 5/5 [00:11<00:00,  2.27s/it]\n"
     ]
    },
    {
     "name": "stdout",
     "output_type": "stream",
     "text": [
      "No proposal can improve the subset and full set, and val set\n",
      "Saving checkpoint to C:\\Users\\wuhan\\AppData\\Roaming\\adalflow\\ckpt\\HotPotQAAdal\\constrained_max_steps_12_21fb6_run_1.json\n",
      "Done with proposals\n"
     ]
    },
    {
     "name": "stderr",
     "output_type": "stream",
     "text": [
      "Training Step: 12:  38%|███▊      | 3/8 [02:43<04:20, 52.08s/it]\n",
      "Loading Data: 100%|██████████| 4/4 [00:00<00:00, 213.10it/s]\n",
      "Training: 100%|██████████| 4/4 [00:00<00:00,  5.40it/s]\n",
      "\n",
      "Loading Data: 100%|██████████| 4/4 [00:00<00:00, 299.04it/s]\n",
      "Calculating Loss: 100%|██████████| 4/4 [00:00<00:00, 50.00it/s]\n",
      "Evaluating: 100%|██████████| 22/22 [00:00<00:00, 124.24it/s]\n"
     ]
    },
    {
     "name": "stdout",
     "output_type": "stream",
     "text": [
      "Moving batch eval: EvaluationResult(avg_score=0.8787878787878788, per_item_scores=[0.5166666666666666, 0.8166666666666667, 0.95, 1.0, 1.0, 0.8166666666666667, 0.95, 1.0, 0.8166666666666667, 0.7666666666666667, 1.0, 0.8166666666666667, 0.95, 1.0, 1.0, 0.8166666666666667, 0.95, 0.7666666666666667, 0.8666666666666667, 1.0, 0.7166666666666667, 0.8166666666666667], additional_info=None)\n",
      "2025-07-25 22:56:32 - [trainer.py:2172:_text_grad_constraint_propose_step] - Moving batch acc: 0.8783333333333332\n",
      "Moving batch correct size: 20\n",
      "Moving batch error size: 0\n",
      "Subset Error size: 0\n",
      "Subset Correct size: 2\n",
      "Subset score: 0.975\n",
      "2025-07-25 22:56:32 - [trainer.py:2178:_text_grad_constraint_propose_step] - Subset batch acc: 0.975,0.975\n",
      "Subset loss backward...\n",
      "Subset loss backward time: 1.578230857849121\n",
      "Optimizer propose...\n"
     ]
    },
    {
     "name": "stderr",
     "output_type": "stream",
     "text": [
      "\n",
      "Proposing:   0%|          | 0/5 [00:00<?, ?it/s]"
     ]
    },
    {
     "name": "stdout",
     "output_type": "stream",
     "text": [
      "Proposal: 1\n",
      "2025-07-25 22:56:36 - [trainer.py:2204:_text_grad_constraint_propose_step] - Propose time: 1.9395856857299805\n",
      "New prompts:  [PromptData(id='7c4cfe03-3711-427e-a485-2a8def6f6893', name='llm.task_desc_str', data='The check number of the payment is 0130520468.', requires_opt=True)]\n"
     ]
    },
    {
     "name": "stderr",
     "output_type": "stream",
     "text": [
      "\n",
      "\n",
      "Loading Data: 100%|██████████| 2/2 [00:00<00:00, 203.69it/s]\n",
      "Predicting: step(12): 0.975 across 2 samples, Max potential: 0.975: 100%|██████████| 2/2 [00:01<00:00,  1.15it/s]\n"
     ]
    },
    {
     "name": "stdout",
     "output_type": "stream",
     "text": [
      "2025-07-25 22:56:38 - [trainer.py:2230:_text_grad_constraint_propose_step] - Fail minibatch check, try next proposal: True, 0.975 <= 0.975\n"
     ]
    },
    {
     "name": "stderr",
     "output_type": "stream",
     "text": [
      "\n",
      "Proposing:  20%|██        | 1/5 [00:04<00:16,  4.12s/it]"
     ]
    },
    {
     "name": "stdout",
     "output_type": "stream",
     "text": [
      "Proposal: 2\n",
      "2025-07-25 22:56:39 - [trainer.py:2204:_text_grad_constraint_propose_step] - Propose time: 1.3173415660858154\n",
      "New prompts:  [PromptData(id='7c4cfe03-3711-427e-a485-2a8def6f6893', name='llm.task_desc_str', data='Question: What is the check number of the payment?\\nAnswer: The check number is 0130520468.', requires_opt=True)]\n"
     ]
    },
    {
     "name": "stderr",
     "output_type": "stream",
     "text": [
      "\n",
      "\n",
      "Loading Data: 100%|██████████| 2/2 [00:00<00:00, 161.67it/s]\n",
      "Predicting: step(12): 0.975 across 2 samples, Max potential: 0.975: 100%|██████████| 2/2 [00:01<00:00,  1.88it/s]\n"
     ]
    },
    {
     "name": "stdout",
     "output_type": "stream",
     "text": [
      "2025-07-25 22:56:40 - [trainer.py:2230:_text_grad_constraint_propose_step] - Fail minibatch check, try next proposal: True, 0.975 <= 0.975\n"
     ]
    },
    {
     "name": "stderr",
     "output_type": "stream",
     "text": [
      "\n",
      "Proposing:  40%|████      | 2/5 [00:07<00:10,  3.39s/it]"
     ]
    },
    {
     "name": "stdout",
     "output_type": "stream",
     "text": [
      "Proposal: 3\n",
      "2025-07-25 22:56:43 - [trainer.py:2204:_text_grad_constraint_propose_step] - Propose time: 2.136554002761841\n",
      "New prompts:  [PromptData(id='7c4cfe03-3711-427e-a485-2a8def6f6893', name='llm.task_desc_str', data='Answer questions with short factoid answers. You will receive context (contain relevant facts). Think step by step. Focus on extracting the specific detail asked in the question directly from the explicit key details section of the context. Do not include explanations or additional commentary. Ensure the answer is concise, accurate, and based solely on the provided context.', requires_opt=True)]\n"
     ]
    },
    {
     "name": "stderr",
     "output_type": "stream",
     "text": [
      "\n",
      "\n",
      "Loading Data: 100%|██████████| 2/2 [00:00<00:00, 403.47it/s]\n",
      "Predicting: step(12): 0.975 across 2 samples, Max potential: 0.975: 100%|██████████| 2/2 [00:00<00:00,  3.28it/s]\n"
     ]
    },
    {
     "name": "stdout",
     "output_type": "stream",
     "text": [
      "2025-07-25 22:56:43 - [trainer.py:2230:_text_grad_constraint_propose_step] - Fail minibatch check, try next proposal: True, 0.975 <= 0.975\n"
     ]
    },
    {
     "name": "stderr",
     "output_type": "stream",
     "text": [
      "\n",
      "Proposing:  60%|██████    | 3/5 [00:10<00:06,  3.23s/it]"
     ]
    },
    {
     "name": "stdout",
     "output_type": "stream",
     "text": [
      "Proposal: 4\n",
      "2025-07-25 22:56:46 - [trainer.py:2204:_text_grad_constraint_propose_step] - Propose time: 2.5393359661102295\n",
      "New prompts:  [PromptData(id='7c4cfe03-3711-427e-a485-2a8def6f6893', name='llm.task_desc_str', data='Answer questions with short factoid answers. You will receive context (contain relevant facts). Identify and extract the specific key detail (e.g., issuer, check number, company name, address) directly from the context, citing the exact text when possible. Do not include explanations or additional commentary. Focus on concise, accurate extraction based solely on the provided context.', requires_opt=True)]\n"
     ]
    },
    {
     "name": "stderr",
     "output_type": "stream",
     "text": [
      "\n",
      "\n",
      "Loading Data: 100%|██████████| 2/2 [00:00<00:00, 494.55it/s]\n",
      "Predicting: step(12): 0.975 across 2 samples, Max potential: 0.975: 100%|██████████| 2/2 [00:00<00:00,  2.50it/s]\n"
     ]
    },
    {
     "name": "stdout",
     "output_type": "stream",
     "text": [
      "2025-07-25 22:56:47 - [trainer.py:2230:_text_grad_constraint_propose_step] - Fail minibatch check, try next proposal: True, 0.975 <= 0.975\n"
     ]
    },
    {
     "name": "stderr",
     "output_type": "stream",
     "text": [
      "\n",
      "Proposing:  80%|████████  | 4/5 [00:13<00:03,  3.40s/it]"
     ]
    },
    {
     "name": "stdout",
     "output_type": "stream",
     "text": [
      "Proposal: 5\n",
      "2025-07-25 22:56:48 - [trainer.py:2204:_text_grad_constraint_propose_step] - Propose time: 1.1289136409759521\n",
      "New prompts:  [PromptData(id='7c4cfe03-3711-427e-a485-2a8def6f6893', name='llm.task_desc_str', data=\"Output the check number exactly as it appears in the context, using a clear and concise format: 'The check number is 0130520468.'\", requires_opt=True)]\n"
     ]
    },
    {
     "name": "stderr",
     "output_type": "stream",
     "text": [
      "\n",
      "\n",
      "Loading Data: 100%|██████████| 2/2 [00:00<00:00, 456.35it/s]\n",
      "Predicting: step(12): 0.6667 across 2 samples, Max potential: 0.6667: 100%|██████████| 2/2 [00:04<00:00,  2.01s/it]\n"
     ]
    },
    {
     "name": "stdout",
     "output_type": "stream",
     "text": [
      "2025-07-25 22:56:53 - [trainer.py:2230:_text_grad_constraint_propose_step] - Fail minibatch check, try next proposal: True, 0.6666666666666667 <= 0.975\n"
     ]
    },
    {
     "name": "stderr",
     "output_type": "stream",
     "text": [
      "\n",
      "Proposing: 100%|██████████| 5/5 [00:19<00:00,  3.84s/it]\n"
     ]
    },
    {
     "name": "stdout",
     "output_type": "stream",
     "text": [
      "No proposal can improve the subset and full set, and val set\n",
      "Saving checkpoint to C:\\Users\\wuhan\\AppData\\Roaming\\adalflow\\ckpt\\HotPotQAAdal\\constrained_max_steps_12_21fb6_run_1.json\n",
      "Done with proposals\n"
     ]
    },
    {
     "name": "stderr",
     "output_type": "stream",
     "text": [
      "Training Step: 12:  50%|█████     | 4/8 [03:06<02:41, 40.33s/it]"
     ]
    },
    {
     "name": "stdout",
     "output_type": "stream",
     "text": [
      "Reached max steps\n"
     ]
    },
    {
     "name": "stderr",
     "output_type": "stream",
     "text": [
      "Training Step: 12:  50%|█████     | 4/8 [03:06<03:06, 46.56s/it]\n",
      "Epoch: 100%|██████████| 2/2 [11:59<00:00, 359.73s/it]\n"
     ]
    },
    {
     "name": "stdout",
     "output_type": "stream",
     "text": [
      "Starting step: 12\n",
      "steps [0, 1, 2, 3, 4, 5, 6, 7, 8, 9, 10, 11, 12]\n",
      "Training time: 720.5202217102051s\n"
     ]
    },
    {
     "name": "stderr",
     "output_type": "stream",
     "text": [
      "Loading Data: 100%|██████████| 30/30 [00:00<00:00, 2440.54it/s]\n",
      "Predicting: step(0): 0.87 across 30 samples, Max potential: 0.87: 100%|██████████| 30/30 [00:08<00:00,  3.38it/s]    \n"
     ]
    },
    {
     "name": "stdout",
     "output_type": "stream",
     "text": [
      "ckpt_file: C:\\Users\\wuhan\\AppData\\Roaming\\adalflow\\ckpt\\HotPotQAAdal\\constrained_max_steps_12_21fb6_run_1.json\n"
     ]
    },
    {
     "data": {
      "text/plain": [
       "'C:\\\\Users\\\\wuhan\\\\AppData\\\\Roaming\\\\adalflow\\\\ckpt\\\\HotPotQAAdal\\\\constrained_max_steps_12_21fb6_run_1.json'"
      ]
     },
     "execution_count": 13,
     "metadata": {},
     "output_type": "execute_result"
    }
   ],
   "source": [
    "train(\n",
    "    task_model_cliet=gpt4_model[\"model_client\"],\n",
    "    task_model_kwargs=gpt4_model[\"model_kwargs\"],\n",
    "    optimizer_model_config=gpt4_model,\n",
    "    backward_engine_model_config=gpt4_model,\n",
    "    max_steps=12,\n",
    ")"
   ]
  },
  {
   "cell_type": "code",
   "execution_count": 2,
   "id": "7c6442a1",
   "metadata": {},
   "outputs": [],
   "source": [
    "def plot_training_single(file):\n",
    "    with open(file) as f:\n",
    "        data = json.load(f)\n",
    "\n",
    "    val_scores = data[\"val_scores\"]\n",
    "    start_test_score = data[\"test_scores\"][0]\n",
    "    end_test_score = data[\"test_score\"]\n",
    "\n",
    "    plt.figure(figsize=(12, 6))\n",
    "\n",
    "    # Plot validation scores as a continuous line\n",
    "    plt.plot(\n",
    "        val_scores,\n",
    "        label=\"Validation Scores\",\n",
    "        marker=\"o\",\n",
    "        markersize=5,\n",
    "        linewidth=1.5,\n",
    "        color=\"tab:blue\",\n",
    "    )\n",
    "\n",
    "    # Plot test scores as individual markers\n",
    "    plt.scatter(\n",
    "        0,\n",
    "        start_test_score,\n",
    "        s=100,\n",
    "        marker=\"D\",\n",
    "        color=\"tab:orange\",\n",
    "        edgecolor=\"black\",\n",
    "        label=\"Initial Test Score\",\n",
    "    )\n",
    "    plt.scatter(\n",
    "        len(val_scores) - 1,\n",
    "        end_test_score,\n",
    "        s=100,\n",
    "        marker=\"D\",\n",
    "        color=\"tab:green\",\n",
    "        edgecolor=\"black\",\n",
    "        label=\"Final Test Score\",\n",
    "    )\n",
    "\n",
    "    plt.title(\"AdalFlow Promp Optimization Training Progress\", fontsize=14, pad=20)\n",
    "    plt.xlabel(\"Training Steps\", fontsize=12)\n",
    "    plt.ylabel(\"GEval Score\", fontsize=12)\n",
    "    plt.legend(loc=\"lower right\", frameon=True)\n",
    "    plt.grid(True, linestyle=\"--\", alpha=0.6)\n",
    "\n",
    "    # Set x-axis to show only integer steps\n",
    "    plt.xticks(range(0, len(val_scores) + 1, max(1, len(val_scores) // 10)))\n",
    "\n",
    "    plt.tight_layout()\n",
    "    plt.show()"
   ]
  },
  {
   "cell_type": "code",
   "execution_count": 3,
   "id": "1732102f",
   "metadata": {},
   "outputs": [
    {
     "data": {
      "image/png": "[encoded data removed]",
      "text/plain": [
       "<Figure size 1200x600 with 1 Axes>"
      ]
     },
     "metadata": {},
     "output_type": "display_data"
    }
   ],
   "source": [
    "file = 'C:\\\\Users\\\\wuhan\\\\AppData\\\\Roaming\\\\adalflow\\\\ckpt\\\\HotPotQAAdal\\\\constrained_max_steps_12_21fb6_run_1.json'\n",
    "plot_training_single(file)"
   ]
  },
  {
   "cell_type": "markdown",
   "id": "2b35d38b",
   "metadata": {},
   "source": [
    "### Understand the JSON Output"
   ]
  },
  {
   "cell_type": "code",
   "execution_count": 4,
   "id": "948f3905",
   "metadata": {},
   "outputs": [
    {
     "name": "stdout",
     "output_type": "stream",
     "text": [
      "dict_keys(['steps', 'val_scores', 'test_scores', 'step_results', 'effective_measure', 'validate_stats', 'time_stamp', 'total_time', 'test_score', 'trainer_state'])\n"
     ]
    }
   ],
   "source": [
    "with open(file) as f:\n",
    "    data = json.load(f)\n",
    "print(data.keys())"
   ]
  },
  {
   "cell_type": "code",
   "execution_count": 5,
   "id": "0fe56f33",
   "metadata": {},
   "outputs": [
    {
     "name": "stdout",
     "output_type": "stream",
     "text": [
      "0.8699999999999999\n",
      "6\n",
      "Initial Prompt: Answer questions with short factoid answers.\n",
      "                    You will receive context(contain relevant facts).\n",
      "                    Think step by step.\n",
      "                \n",
      "Best Prompt: Answer questions with short factoid answers. You will receive context (contain relevant facts). Think step by step. Focus on extracting the most relevant factoid directly answering the question. Do not include explanations or additional commentary. Ensure the answer is concise, accurate, and based solely on the provided context.\n"
     ]
    }
   ],
   "source": [
    "print(data['test_score'])\n",
    "\n",
    "best_idx = data['val_scores'].index(max(data['val_scores']))\n",
    "print(best_idx)\n",
    "\n",
    "best_prompt = data['step_results'][best_idx]['prompt'][0]['data']\n",
    "initial_prompt = data['step_results'][0]['prompt'][0]['data']\n",
    "print('Initial Prompt:', initial_prompt)\n",
    "print('Best Prompt:', best_prompt)"
   ]
  },
  {
   "cell_type": "code",
   "execution_count": 18,
   "id": "409b1e3e",
   "metadata": {},
   "outputs": [
    {
     "name": "stdout",
     "output_type": "stream",
     "text": [
      "step: 0\n",
      "val_score: 0.8849999999999999\n",
      "test_score: 0.8661111111111112\n",
      "attempted_val_score: None\n",
      "1 prompt: Answer questions with short factoid answers.\n",
      "                    You will receive context(contain relevant facts).\n",
      "                    Think step by step.\n",
      "                \n",
      "\n",
      "step: 1\n",
      "val_score: 0.8849999999999999\n",
      "test_score: 0.8661111111111112\n",
      "attempted_val_score: 0.8833333333333333\n",
      "1 prompt: Answer questions with short factoid answers.\n",
      "                    You will receive context(contain relevant facts).\n",
      "                    Think step by step.\n",
      "                \n",
      "\n",
      "step: 2\n",
      "val_score: 0.8849999999999999\n",
      "test_score: 0.8661111111111112\n",
      "attempted_val_score: 0.638888888888889\n",
      "1 prompt: Answer questions with short factoid answers.\n",
      "                    You will receive context(contain relevant facts).\n",
      "                    Think step by step.\n",
      "                \n",
      "\n",
      "step: 3\n",
      "val_score: 0.8849999999999999\n",
      "test_score: 0.8661111111111112\n",
      "attempted_val_score: 0.7388888888888889\n",
      "1 prompt: Answer questions with short factoid answers.\n",
      "                    You will receive context(contain relevant facts).\n",
      "                    Think step by step.\n",
      "                \n",
      "\n",
      "step: 4\n",
      "val_score: 0.8849999999999999\n",
      "test_score: 0.8661111111111112\n",
      "attempted_val_score: 0.8052631578947368\n",
      "1 prompt: Answer questions with short factoid answers.\n",
      "                    You will receive context(contain relevant facts).\n",
      "                    Think step by step.\n",
      "                \n",
      "\n",
      "step: 5\n",
      "val_score: 0.8849999999999999\n",
      "test_score: 0.8661111111111112\n",
      "attempted_val_score: 0.8697530864197531\n",
      "1 prompt: Answer questions with short factoid answers.\n",
      "                    You will receive context(contain relevant facts).\n",
      "                    Think step by step.\n",
      "                \n",
      "\n",
      "step: 6\n",
      "val_score: 0.8883333333333333\n",
      "test_score: None\n",
      "attempted_val_score: None\n",
      "1 prompt: Answer questions with short factoid answers. You will receive context (contain relevant facts). Think step by step. Focus on extracting the most relevant factoid directly answering the question. Do not include explanations or additional commentary. Ensure the answer is concise, accurate, and based solely on the provided context.\n",
      "\n",
      "step: 7\n",
      "val_score: 0.8883333333333333\n",
      "test_score: None\n",
      "attempted_val_score: 0.6666666666666666\n",
      "1 prompt: Answer questions with short factoid answers. You will receive context (contain relevant facts). Think step by step. Focus on extracting the most relevant factoid directly answering the question. Do not include explanations or additional commentary. Ensure the answer is concise, accurate, and based solely on the provided context.\n",
      "\n",
      "step: 8\n",
      "val_score: 0.8883333333333333\n",
      "test_score: None\n",
      "attempted_val_score: 0.9083333333333333\n",
      "1 prompt: Answer questions with short factoid answers. You will receive context (contain relevant facts). Think step by step. Focus on extracting the most relevant factoid directly answering the question. Do not include explanations or additional commentary. Ensure the answer is concise, accurate, and based solely on the provided context.\n",
      "\n",
      "step: 9\n",
      "val_score: 0.8883333333333333\n",
      "test_score: None\n",
      "attempted_val_score: 0.9083333333333333\n",
      "1 prompt: Answer questions with short factoid answers. You will receive context (contain relevant facts). Think step by step. Focus on extracting the most relevant factoid directly answering the question. Do not include explanations or additional commentary. Ensure the answer is concise, accurate, and based solely on the provided context.\n",
      "\n",
      "step: 10\n",
      "val_score: 0.8883333333333333\n",
      "test_score: None\n",
      "attempted_val_score: 0.8709876543209876\n",
      "1 prompt: Answer questions with short factoid answers. You will receive context (contain relevant facts). Think step by step. Focus on extracting the most relevant factoid directly answering the question. Do not include explanations or additional commentary. Ensure the answer is concise, accurate, and based solely on the provided context.\n",
      "\n",
      "step: 11\n",
      "val_score: 0.8883333333333333\n",
      "test_score: None\n",
      "attempted_val_score: 0.7916666666666667\n",
      "1 prompt: Answer questions with short factoid answers. You will receive context (contain relevant facts). Think step by step. Focus on extracting the most relevant factoid directly answering the question. Do not include explanations or additional commentary. Ensure the answer is concise, accurate, and based solely on the provided context.\n",
      "\n",
      "step: 12\n",
      "val_score: 0.8883333333333333\n",
      "test_score: None\n",
      "attempted_val_score: 0.6666666666666667\n",
      "1 prompt: Answer questions with short factoid answers. You will receive context (contain relevant facts). Think step by step. Focus on extracting the most relevant factoid directly answering the question. Do not include explanations or additional commentary. Ensure the answer is concise, accurate, and based solely on the provided context.\n",
      "\n"
     ]
    }
   ],
   "source": [
    "for step in data['step_results']:\n",
    "    for k, v in step.items():\n",
    "        if k == 'prompt':\n",
    "            print(len(v), f\"prompt: {v[0]['data']}\")\n",
    "        else:\n",
    "            print(f\"{k}: {v}\")\n",
    "    print()"
   ]
  }
 ],
 "metadata": {
  "kernelspec": {
   "display_name": ".venv",
   "language": "python",
   "name": "python3"
  },
  "language_info": {
   "codemirror_mode": {
    "name": "ipython",
    "version": 3
   },
   "file_extension": ".py",
   "mimetype": "text/x-python",
   "name": "python",
   "nbconvert_exporter": "python",
   "pygments_lexer": "ipython3",
   "version": "3.13.5"
  }
 },
 "nbformat": 4,
 "nbformat_minor": 5
}

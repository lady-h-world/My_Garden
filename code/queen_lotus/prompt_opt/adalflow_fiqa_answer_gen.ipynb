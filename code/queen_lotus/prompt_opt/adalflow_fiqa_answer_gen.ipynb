{
 "cells": [
  {
   "cell_type": "markdown",
   "id": "07ca39f3",
   "metadata": {},
   "source": [
    "# AdalFlow on FIQA Data & Optimize Answer Generation"
   ]
  },
  {
   "cell_type": "code",
   "execution_count": 1,
   "id": "f045bba8",
   "metadata": {},
   "outputs": [],
   "source": [
    "%load_ext autoreload\n",
    "%autoreload 2\n",
    "\n",
    "import pandas as pd\n",
    "import re\n",
    "import dspy\n",
    "import contextlib\n",
    "from pprint import pprint\n",
    "from datasets import load_dataset\n",
    "from dataclasses import dataclass, field\n",
    "from typing import Union, Dict, Callable, Any, Tuple\n",
    "\n",
    "import adalflow as adal\n",
    "from adalflow.datasets.hotpot_qa import HotPotQAData\n",
    "from adalflow.components.model_client.openai_client import OpenAIClient\n",
    "from adalflow.eval.g_eval import GEvalLLMJudge, GEvalJudgeEvaluator, NLGTask\n",
    "\n",
    "import warnings\n",
    "warnings.filterwarnings('ignore')\n",
    "\n",
    "\n",
    "model_str = \"gpt-4.1-nano\"\n",
    "gpt4_model = {\n",
    "    \"model_client\": OpenAIClient(),\n",
    "    \"model_kwargs\": {\n",
    "        \"model\": model_str,\n",
    "        \"temperature\": 0.7,\n",
    "    },\n",
    "}\n",
    "model_kwargs = {\n",
    "        \"model\": model_str,\n",
    "        \"temperature\": 0.7,\n",
    "    }"
   ]
  },
  {
   "cell_type": "markdown",
   "id": "d941ed71",
   "metadata": {},
   "source": [
    "### Create Data Input\n",
    "\n",
    "* Load fiqa data and convert to AdalFlow's HotPotQAData format\n",
    "  * So far, this is the only data format I knew AdaalFlow can process...😅\n",
    "* About the Data Source: https://huggingface.co/datasets/explodinggradients/fiqa\n",
    "  * Only 30 records"
   ]
  },
  {
   "cell_type": "code",
   "execution_count": 2,
   "id": "b72a69af",
   "metadata": {},
   "outputs": [
    {
     "name": "stdout",
     "output_type": "stream",
     "text": [
      "(30, 4)\n"
     ]
    },
    {
     "data": {
      "text/html": [
       "<div>\n",
       "<style scoped>\n",
       "    .dataframe tbody tr th:only-of-type {\n",
       "        vertical-align: middle;\n",
       "    }\n",
       "\n",
       "    .dataframe tbody tr th {\n",
       "        vertical-align: top;\n",
       "    }\n",
       "\n",
       "    .dataframe thead th {\n",
       "        text-align: right;\n",
       "    }\n",
       "</style>\n",
       "<table border=\"1\" class=\"dataframe\">\n",
       "  <thead>\n",
       "    <tr style=\"text-align: right;\">\n",
       "      <th></th>\n",
       "      <th>question</th>\n",
       "      <th>context</th>\n",
       "      <th>ground_truth</th>\n",
       "      <th>answer_before_prompt_opt</th>\n",
       "    </tr>\n",
       "  </thead>\n",
       "  <tbody>\n",
       "    <tr>\n",
       "      <th>0</th>\n",
       "      <td>How to deposit a cheque issued to an associate...</td>\n",
       "      <td>[Just have the associate sign the back and the...</td>\n",
       "      <td>Have the check reissued to the proper payee.Ju...</td>\n",
       "      <td>The best way to deposit a cheque issued to an ...</td>\n",
       "    </tr>\n",
       "    <tr>\n",
       "      <th>1</th>\n",
       "      <td>Can I send a money order from USPS as a business?</td>\n",
       "      <td>[Sure you can.  You can fill in whatever you w...</td>\n",
       "      <td>Sure you can.  You can fill in whatever you wa...</td>\n",
       "      <td>Yes, you can send a money order from USPS as a...</td>\n",
       "    </tr>\n",
       "    <tr>\n",
       "      <th>2</th>\n",
       "      <td>1 EIN doing business under multiple business n...</td>\n",
       "      <td>[You're confusing a lot of things here. Compan...</td>\n",
       "      <td>You're confusing a lot of things here. Company...</td>\n",
       "      <td>Yes, it is possible to have one EIN doing busi...</td>\n",
       "    </tr>\n",
       "    <tr>\n",
       "      <th>3</th>\n",
       "      <td>Applying for and receiving business credit</td>\n",
       "      <td>[Set up a meeting with the bank that handles y...</td>\n",
       "      <td>\"I'm afraid the great myth of limited liabilit...</td>\n",
       "      <td>Applying for and receiving business credit can...</td>\n",
       "    </tr>\n",
       "    <tr>\n",
       "      <th>4</th>\n",
       "      <td>401k Transfer After Business Closure</td>\n",
       "      <td>[The time horizon for your 401K/IRA is essenti...</td>\n",
       "      <td>You should probably consult an attorney. Howev...</td>\n",
       "      <td>If your employer has closed and you need to tr...</td>\n",
       "    </tr>\n",
       "  </tbody>\n",
       "</table>\n",
       "</div>"
      ],
      "text/plain": [
       "                                            question  \\\n",
       "0  How to deposit a cheque issued to an associate...   \n",
       "1  Can I send a money order from USPS as a business?   \n",
       "2  1 EIN doing business under multiple business n...   \n",
       "3         Applying for and receiving business credit   \n",
       "4               401k Transfer After Business Closure   \n",
       "\n",
       "                                             context  \\\n",
       "0  [Just have the associate sign the back and the...   \n",
       "1  [Sure you can.  You can fill in whatever you w...   \n",
       "2  [You're confusing a lot of things here. Compan...   \n",
       "3  [Set up a meeting with the bank that handles y...   \n",
       "4  [The time horizon for your 401K/IRA is essenti...   \n",
       "\n",
       "                                        ground_truth  \\\n",
       "0  Have the check reissued to the proper payee.Ju...   \n",
       "1  Sure you can.  You can fill in whatever you wa...   \n",
       "2  You're confusing a lot of things here. Company...   \n",
       "3  \"I'm afraid the great myth of limited liabilit...   \n",
       "4  You should probably consult an attorney. Howev...   \n",
       "\n",
       "                            answer_before_prompt_opt  \n",
       "0  The best way to deposit a cheque issued to an ...  \n",
       "1  Yes, you can send a money order from USPS as a...  \n",
       "2  Yes, it is possible to have one EIN doing busi...  \n",
       "3  Applying for and receiving business credit can...  \n",
       "4  If your employer has closed and you need to tr...  "
      ]
     },
     "execution_count": 2,
     "metadata": {},
     "output_type": "execute_result"
    }
   ],
   "source": [
    "fiqa_eval = load_dataset(\"explodinggradients/fiqa\", \"ragas_eval\")['baseline']\n",
    "\n",
    "rag_lst = []\n",
    "for record in fiqa_eval:\n",
    "    rag_lst.append({\n",
    "        'question': record['question'],\n",
    "        'context': record['contexts'],\n",
    "        'ground_truth': record['ground_truths'][0],\n",
    "        'answer_before_prompt_opt': record['answer'].strip()\n",
    "    })\n",
    "\n",
    "rag_df = pd.DataFrame(rag_lst)\n",
    "print(rag_df.shape)\n",
    "rag_df.head()"
   ]
  },
  {
   "cell_type": "code",
   "execution_count": 3,
   "id": "c29cf57e",
   "metadata": {},
   "outputs": [
    {
     "name": "stdout",
     "output_type": "stream",
     "text": [
      "30\n"
     ]
    },
    {
     "data": {
      "text/plain": [
       "{'question': 'How to deposit a cheque issued to an associate in my business into my business account?',\n",
       " 'answer': 'The best way to deposit a cheque issued to an associate in your business into your business account is to open a business account with the bank. You will need a state-issued \"dba\" certificate from the county clerk\\'s office as well as an Employer ID Number (EIN) issued by the IRS. Once you have opened the business account, you can have the associate sign the back of the cheque and deposit it into the business account.',\n",
       " 'id': 'b7f0d34e-d36a-491e-a6b6-f276f8e4a9e1',\n",
       " 'gold_titles': \"Have the check reissued to the proper payee.Just have the associate sign the back and then deposit it.  It's called a third party cheque and is perfectly legal.  I wouldn't be surprised if it has a longer hold period and, as always, you don't get the money if the cheque doesn't clear. Now, you may have problems if it's a large amount or you're not very well known at the bank.  In that case you can have the associate go to the bank and endorse it in front of the teller with some ID.  You don't even technically have to be there.  Anybody can deposit money to your account if they have the account number. He could also just deposit it in his account and write a cheque to the business.\",\n",
       " 'context': ['Just have the associate sign the back and then deposit it.  It\\'s called a third party cheque and is perfectly legal.  I wouldn\\'t be surprised if it has a longer hold period and, as always, you don\\'t get the money if the cheque doesn\\'t clear. Now, you may have problems if it\\'s a large amount or you\\'re not very well known at the bank.  In that case you can have the associate go to the bank and endorse it in front of the teller with some ID.  You don\\'t even technically have to be there.  Anybody can deposit money to your account if they have the account number. He could also just deposit it in his account and write a cheque to the business.\"I have checked with Bank of America, and they say the ONLY way to cash (or deposit, or otherwise get access to the funds represented by a check made out to my business) is to open a business account. They tell me this is a Federal regulation, and every bank will say the same thing.  To do this, I need a state-issued \"\"dba\"\" certificate (from the county clerk\\'s office) as well as an Employer ID Number (EIN) issued by the IRS. AND their CHEAPEST business banking account costs $15 / month. I think I can go to the bank that the check is drawn upon, and they will cash it, assuming I have documentation showing that I am the sole proprietor. But I\\'m not sure.... What a racket!!\"When a business asks me to make out a cheque to a person rather than the business name, I take that as a red flag. Frankly it usually means that the person doesn\\'t want the money going through their business account for some reason - probably tax evasion. I\\'m not saying you are doing that, but it is a frequent issue. If the company makes the cheque out to a person they may run the risk of being party to fraud. Worse still they only have your word for it that you actually own the company, and aren\\'t ripping off your employer by pocketing their payment. Even worse, when the company is audited and finds that cheque, the person who wrote it will have to justify and document why they made it out to you or risk being charged with embezzlement. It\\'s very much in their interests to make the cheque out to the company they did business with. Given that, you should really have an account in the name of your business. It\\'s going to make your life much simpler in the long run.']}"
      ]
     },
     "execution_count": 3,
     "metadata": {},
     "output_type": "execute_result"
    }
   ],
   "source": [
    "def fiqa_to_hotpotqa(record):\n",
    "    return HotPotQAData(\n",
    "        question=record['question'],\n",
    "        gold_titles=record['ground_truths'][0],\n",
    "        context=record['contexts'],\n",
    "        answer=record['answer'].strip(),  # answer_before_prompt_opt\n",
    "    )\n",
    "\n",
    "fiqa_as_hotpotqa = [fiqa_to_hotpotqa(s) for s in fiqa_eval]\n",
    "print(len(fiqa_as_hotpotqa))\n",
    "fiqa_as_hotpotqa[0].to_dict()"
   ]
  },
  {
   "cell_type": "markdown",
   "id": "9ef96f6e",
   "metadata": {},
   "source": [
    "### AdalFlow Optimization\n",
    "\n",
    "* References\n",
    "  * How to use AdalFlow's GEval and LLM-as-Judge: https://colab.research.google.com/github/SylphAI-Inc/AdalFlow/blob/main/notebooks/evaluation/adalflow_llm_eval.ipynb\n",
    "  * Official evaluation page (I think their user guide is very confusing 😅): https://adalflow.sylph.ai/apis/eval/index.html"
   ]
  },
  {
   "cell_type": "code",
   "execution_count": 4,
   "id": "58a1351e",
   "metadata": {},
   "outputs": [],
   "source": [
    "task_desc_str = r\"\"\"Answer questions with short factoid answers.\n",
    "                    You will receive context(contain relevant facts).\n",
    "                    Think step by step.\n",
    "                \"\"\"\n",
    "\n",
    "\n",
    "answer_template = \"\"\"<START_OF_SYSTEM_PROMPT>\n",
    "{{task_desc_str}}\n",
    "\n",
    "{{output_format_str}}\n",
    "{# Few shot demos #}\n",
    "{% if few_shot_demos is not none %}\n",
    "    Here are some examples:\n",
    "    {{few_shot_demos}}\n",
    "{% endif %}\n",
    "<END_OF_SYSTEM_PROMPT>\n",
    "<START_OF_USER>\n",
    "    Context: {{context}}\n",
    "    Question: {{question}}\n",
    "<END_OF_USER>\n",
    "\"\"\"\n",
    "\n",
    "\n",
    "trainset = fiqa_as_hotpotqa[0:10]\n",
    "valset = fiqa_as_hotpotqa[10:20]\n",
    "testset = fiqa_as_hotpotqa[20:]"
   ]
  },
  {
   "cell_type": "code",
   "execution_count": 5,
   "id": "b61235db",
   "metadata": {},
   "outputs": [],
   "source": [
    "@dataclass\n",
    "class AnswerData(adal.DataClass):\n",
    "    reasoning: str = field(\n",
    "        metadata={\"desc\": \"The reasoning to produce the answer\"},\n",
    "    )\n",
    "    answer: str = field(\n",
    "        metadata={\"desc\": \"The answer you produced\"},\n",
    "    )\n",
    "\n",
    "    __output_fields__ = [\"reasoning\", \"answer\"]\n",
    "\n",
    "\n",
    "class RAG_AnswerGeneration(adal.Component):\n",
    "    def __init__(self, model_client=None, model_kwargs=None):\n",
    "        super().__init__()\n",
    "\n",
    "        self.llm_parser = adal.DataClassParser(\n",
    "            data_class=AnswerData, return_data_class=True, format_type=\"json\"\n",
    "        )\n",
    "        self.llm = adal.Generator(\n",
    "            model_client=model_client,\n",
    "            model_kwargs=model_kwargs,\n",
    "            prompt_kwargs={\n",
    "                \"task_desc_str\": adal.Parameter(\n",
    "                    data=task_desc_str,\n",
    "                    role_desc=\"\"\"Task description for the language model,\\\n",
    "                            used with the following template: \\\n",
    "                                {{task_desc_str}} \\\n",
    "                                {{output_format_str}}\\\n",
    "                            <START_OF_USER>\n",
    "                                Context: {{context}}\n",
    "                                Question: {{question}}\n",
    "                            <END_OF_USER>\"\"\",\n",
    "                    param_type=adal.ParameterType.PROMPT,\n",
    "                    requires_opt=True,\n",
    "                    instruction_to_backward_engine=\"\"\"You need find the best way\n",
    "                            (where does the right answer come from the context) \n",
    "                            to extract the RIGHT answer from the context.\"\"\",\n",
    "                    instruction_to_optimizer=\"\"\"You need find the best way\n",
    "                            (where does the right answer come from the context)\n",
    "                            to extract the RIGHT answer from the context.\"\"\",\n",
    "                ),\n",
    "                \"output_format_str\": self.llm_parser.get_output_format_str(),\n",
    "            },\n",
    "            template=answer_template,\n",
    "            output_processors=self.llm_parser,\n",
    "            use_cache=True,\n",
    "        )\n",
    "\n",
    "    def bicall(\n",
    "        self, \n",
    "        question: str, \n",
    "        retrieved_context: str,\n",
    "        id: str = None\n",
    "    ) -> Union[adal.GeneratorOutput, adal.Parameter]:\n",
    "        \"\"\"\n",
    "            This function is used to call the model for both training and eval mode.\n",
    "        \"\"\"\n",
    "        prompt_kwargs = {\n",
    "            \"context\": retrieved_context,\n",
    "            \"question\": question,\n",
    "        }\n",
    "        output = self.llm(prompt_kwargs=prompt_kwargs, id=id)\n",
    "        return output"
   ]
  },
  {
   "cell_type": "code",
   "execution_count": 6,
   "id": "4575397e",
   "metadata": {},
   "outputs": [
    {
     "name": "stdout",
     "output_type": "stream",
     "text": [
      "GeneratorOutput(id=None, data=AnswerData(reasoning=\"The context explains that for a business to deposit a cheque issued to an associate into their business account, the associate should endorse the cheque on the back and deposit it, preferably in front of a teller with ID if the amount is large or the bank is unfamiliar. Additionally, having a business account in the company's name simplifies the process, as personal or third-party cheques should ideally be made out to the business to avoid complications.\", answer='Have the associate endorse the back of the cheque and deposit it into your business account, preferably in front of a teller with ID if necessary.'), error=None, usage=CompletionUsage(completion_tokens=130, prompt_tokens=736, total_tokens=866), raw_response='```json\\n{\\n    \"reasoning\": \"The context explains that for a business to deposit a cheque issued to an associate into their business account, the associate should endorse the cheque on the back and deposit it, preferably in front of a teller with ID if the amount is large or the bank is unfamiliar. Additionally, having a business account in the company\\'s name simplifies the process, as personal or third-party cheques should ideally be made out to the business to avoid complications.\",\\n    \"answer\": \"Have the associate endorse the back of the cheque and deposit it into your business account, preferably in front of a teller with ID if necessary.\"\\n}\\n```', metadata=None)\n",
      "AnswerData(reasoning='The context explains that for a business to deposit a '\n",
      "                     'cheque issued to an associate into their business '\n",
      "                     'account, the associate should endorse the cheque on the '\n",
      "                     'back and deposit it, preferably in front of a teller '\n",
      "                     'with ID if the amount is large or the bank is '\n",
      "                     'unfamiliar. Additionally, having a business account in '\n",
      "                     \"the company's name simplifies the process, as personal \"\n",
      "                     'or third-party cheques should ideally be made out to the '\n",
      "                     'business to avoid complications.',\n",
      "           answer='Have the associate endorse the back of the cheque and '\n",
      "                  'deposit it into your business account, preferably in front '\n",
      "                  'of a teller with ID if necessary.')\n"
     ]
    }
   ],
   "source": [
    "# test above RAG_AnswerGeneration logic\n",
    "random_test_data = fiqa_as_hotpotqa[0].to_dict()\n",
    "\n",
    "rag = RAG_AnswerGeneration(**gpt4_model)\n",
    "output = rag.bicall(\n",
    "    question=random_test_data['question'],\n",
    "    retrieved_context=random_test_data['context'],\n",
    ")\n",
    "print(output)\n",
    "pprint(output.data)"
   ]
  },
  {
   "cell_type": "code",
   "execution_count": 7,
   "id": "901cb9f5",
   "metadata": {},
   "outputs": [],
   "source": [
    "class HotPotQAAdal(adal.AdalComponent):\n",
    "    def __init__(\n",
    "        self,\n",
    "        backward_engine_model_config: Dict | None = None,\n",
    "        teacher_model_config: Dict | None = None,\n",
    "        text_optimizer_model_config: Dict | None = None,\n",
    "        task: adal.Component | None = None,  # initialized task\n",
    "    ):\n",
    "        g_eval = GEvalLLMJudge(default_task=NLGTask.SUMMARIZATION,\n",
    "                                model_kwargs=model_kwargs)\n",
    "        g_evaluator = GEvalJudgeEvaluator(llm_judge=g_eval)\n",
    "        def extract_overall(**kwargs):\n",
    "            if 'input_str'  in kwargs:\n",
    "                match = re.search(r\"Reference Answer:(.*)Predicted Answer:(.*)\", kwargs['input_str'], re.DOTALL)\n",
    "                if match:\n",
    "                    reference = match.group(1).strip()\n",
    "                    predicted = match.group(2).strip()\n",
    "            else:\n",
    "                predicted = kwargs.get(\"y\")\n",
    "                reference = kwargs.get(\"y_gt\")\n",
    "\n",
    "            input_str = f\"Reference Answer: {reference}\\nPredicted Answer: {predicted}\"\n",
    "            return g_evaluator.compute_single_item(input_str)[\"overall\"]\n",
    "\n",
    "        eval_fn = extract_overall\n",
    "        loss_eval_fn = extract_overall\n",
    "\n",
    "        loss_fn = adal.EvalFnToTextLoss(\n",
    "            eval_fn=loss_eval_fn,\n",
    "            eval_fn_desc=\"GEval score\",\n",
    "        )\n",
    "        super().__init__(\n",
    "            task=task,\n",
    "            eval_fn=eval_fn,\n",
    "            loss_eval_fn=loss_eval_fn,\n",
    "            loss_fn=loss_fn,\n",
    "            backward_engine_model_config=backward_engine_model_config,\n",
    "            teacher_model_config=teacher_model_config,\n",
    "            text_optimizer_model_config=text_optimizer_model_config,\n",
    "        )\n",
    "\n",
    "    def prepare_task(self, sample: HotPotQAData) -> Tuple[Callable[..., Any], Dict]:\n",
    "        if self.task.training:\n",
    "            return self.task.forward, {\"question\": sample.question,\n",
    "                                       \"retrieved_context\": sample.context,\n",
    "                                        \"id\": sample.id}\n",
    "        else:\n",
    "            return self.task.call, {\"question\": sample.question,\n",
    "                                    \"retrieved_context\": sample.context,\n",
    "                                     \"id\": sample.id}\n",
    "\n",
    "    def prepare_eval(self, sample: HotPotQAData, y_pred: adal.GeneratorOutput):\n",
    "        y_label = \"\"\n",
    "        if y_pred and y_pred.data and y_pred.data.answer:\n",
    "            y_label = y_pred.data.answer\n",
    "\n",
    "        input_str = (\n",
    "            f\"Reference Answer: {sample.gold_titles}\\n\"\n",
    "            f\"Predicted Answer: {y_label}\"\n",
    "        )\n",
    "\n",
    "        return self.eval_fn, {'input_str': input_str}\n",
    "\n",
    "\n",
    "    def prepare_loss_eval(self, sample: Any, y_pred: Any, *args, **kwargs):\n",
    "        y_label = \"\"\n",
    "        if y_pred and y_pred.data and y_pred.data.answer:\n",
    "            y_label = y_pred.data.answer\n",
    "\n",
    "        input_str = (\n",
    "            f\"Reference Answer: {sample.gold_titles}\\n\"\n",
    "            f\"Predicted Answer: {y_label}\"\n",
    "        )\n",
    "\n",
    "        return self.loss_eval_fn, {'input_str': input_str}\n",
    "\n",
    "\n",
    "    def prepare_loss(self, sample: HotPotQAData, pred: adal.Parameter):\n",
    "        y_gt = adal.Parameter(\n",
    "            name=\"y_gt\",\n",
    "            data=sample.gold_titles,\n",
    "            eval_input=sample.gold_titles,\n",
    "            requires_opt=False,\n",
    "        )\n",
    "        context_param = adal.Parameter(\n",
    "            name=\"context\",\n",
    "            data=sample.context,\n",
    "            eval_input=sample.context,  # you could also stringify it if needed\n",
    "            requires_opt=False,\n",
    "        )\n",
    "\n",
    "        pred.eval_input = (\n",
    "            pred.data.data.answer\n",
    "            if pred.data and pred.data.data and pred.data.data.answer\n",
    "            else \"\"\n",
    "        )\n",
    "        return self.loss_fn, {\n",
    "            \"kwargs\": {\"y\": pred, \"y_gt\": y_gt,\n",
    "                        \"context\": context_param},\n",
    "            \"input\": {\"question\": sample.question,\n",
    "                       \"retrieved_context\": sample.context},\n",
    "            \"gt\": sample.gold_titles,\n",
    "            \"id\": sample.id,\n",
    "        }"
   ]
  },
  {
   "cell_type": "markdown",
   "id": "90fef285",
   "metadata": {},
   "source": [
    "<b>Evaluation Only</b>"
   ]
  },
  {
   "cell_type": "code",
   "execution_count": 8,
   "id": "b9ae4f16",
   "metadata": {},
   "outputs": [
    {
     "name": "stderr",
     "output_type": "stream",
     "text": [
      "Generator llm is already registered with jsonl file at C:\\Users\\wuhan\\AppData\\Roaming\\adalflow\\ckpt\\VallinaRAGAdal\\diagnose_train\\llm_call.jsonl\n"
     ]
    },
    {
     "name": "stdout",
     "output_type": "stream",
     "text": [
      "\u001b[36m2025-06-29 22:08:37 - [trainer.py:227:diagnose] - Checkpoint path: C:\\Users\\wuhan\\AppData\\Roaming\\adalflow\\ckpt\\HotPotQAAdal\u001b[0m\n"
     ]
    },
    {
     "name": "stderr",
     "output_type": "stream",
     "text": [
      "Loading Data: 100%|██████████| 10/10 [00:00<00:00, 2164.13it/s]\n",
      "Predicting: step(0): 0.6167 across 10 samples, Max potential: 0.6167: 100%|██████████| 10/10 [00:00<00:00, 135.89it/s]\n",
      "Error loading jsonl file C:\\Users\\wuhan\\AppData\\Roaming\\adalflow\\ckpt\\VallinaRAGAdal\\diagnose_train\\llm_call.jsonl: line contains invalid json: Trailing data (line 46)\n"
     ]
    },
    {
     "name": "stdout",
     "output_type": "stream",
     "text": [
      "Log file C:\\Users\\wuhan\\AppData\\Roaming\\adalflow\\ckpt\\VallinaRAGAdal\\diagnose_train\\llm_call.jsonl is empty. This llm is not called at all.\n",
      "\n",
      "================== DIAGNOSE REPORT ==================\n",
      "\n",
      "✔ Split: train\n",
      "✔ Overall accuracy score: 0.62\n",
      "✔ Log paths:\n",
      "  - Log 1: C:\\Users\\wuhan\\AppData\\Roaming\\adalflow\\ckpt\\VallinaRAGAdal\\diagnose_train\\llm_call.jsonl\n",
      "\n",
      "✔ Diagnose report completed successfully!\n",
      "\n",
      "=====================================================\n",
      "\n"
     ]
    }
   ],
   "source": [
    "def train_diagnose(model_client, model_kwargs):\n",
    "    task = RAG_AnswerGeneration(\n",
    "        model_client=model_client,\n",
    "        model_kwargs=model_kwargs\n",
    "    )\n",
    "\n",
    "    adal_component = HotPotQAAdal(\n",
    "        task=task,\n",
    "    )\n",
    "    trainer = adal.Trainer(adaltask=adal_component)\n",
    "    trainer.diagnose(dataset=testset, split=\"train\")\n",
    "\n",
    "\n",
    "train_diagnose(**gpt4_model)"
   ]
  },
  {
   "cell_type": "markdown",
   "id": "4dc6a710",
   "metadata": {},
   "source": [
    "<b>Training</b>"
   ]
  },
  {
   "cell_type": "code",
   "execution_count": 9,
   "id": "02cbfe73",
   "metadata": {},
   "outputs": [],
   "source": [
    "def train(\n",
    "    task_model_cliet,\n",
    "    task_model_kwargs,\n",
    "    optimizer_model_config,\n",
    "    backward_engine_model_config,\n",
    "    train_batch_size=4,  # larger batch size is not that effective, probably because of llm's lost in the middle\n",
    "    raw_shots: int = 0,\n",
    "    bootstrap_shots: int = 4,\n",
    "    max_steps=1,\n",
    "    num_workers=4,\n",
    "    strategy=\"constrained\",\n",
    "    optimization_order=\"sequential\",\n",
    "    debug=False,\n",
    "    resume_from_ckpt=None,\n",
    "    exclude_input_fields_from_bootstrap_demos=True,\n",
    "    seed=10,\n",
    "    max_proposals_per_step: int = 5,\n",
    "    disable_backward_gradients: bool = False,\n",
    "    disable_backward: bool = False,\n",
    "):\n",
    "    task = RAG_AnswerGeneration(\n",
    "        model_client=task_model_cliet,\n",
    "        model_kwargs=task_model_kwargs\n",
    "    )\n",
    "\n",
    "    adal_component = HotPotQAAdal(\n",
    "        task=task,\n",
    "        text_optimizer_model_config=optimizer_model_config,\n",
    "        backward_engine_model_config=backward_engine_model_config,\n",
    "    )\n",
    "\n",
    "    trainer = adal.Trainer(\n",
    "        train_batch_size=train_batch_size,\n",
    "        adaltask=adal_component,\n",
    "        strategy=strategy,\n",
    "        max_steps=max_steps,\n",
    "        num_workers=num_workers,\n",
    "        raw_shots=raw_shots,\n",
    "        bootstrap_shots=bootstrap_shots,\n",
    "        debug=debug,\n",
    "        weighted_sampling=False,\n",
    "        optimization_order=optimization_order,\n",
    "        exclude_input_fields_from_bootstrap_demos=exclude_input_fields_from_bootstrap_demos,\n",
    "        max_proposals_per_step=max_proposals_per_step,\n",
    "        text_optimizers_config_kwargs={\"max_past_history\": 5},\n",
    "        disable_backward_gradients=disable_backward_gradients,\n",
    "        disable_backward=disable_backward,\n",
    "    )\n",
    "    trainer.set_random_seed(seed)\n",
    "    print(trainer)\n",
    "\n",
    "    ckpt, _ = trainer.fit(\n",
    "        train_dataset=trainset,\n",
    "        val_dataset=valset,\n",
    "        test_dataset=testset,\n",
    "        resume_from_ckpt=resume_from_ckpt,\n",
    "    )\n",
    "    return ckpt"
   ]
  },
  {
   "cell_type": "code",
   "execution_count": 10,
   "id": "192da2a3",
   "metadata": {},
   "outputs": [
    {
     "name": "stdout",
     "output_type": "stream",
     "text": [
      "Trainer(\n",
      "  (adaltask): HotPotQAAdal(\n",
      "    eval_fn: extract_overall, backward_engine: None, backward_engine_model_config: {'model_client': OpenAIClient(), 'model_kwargs': {'model': 'gpt-4.1-nano', 'temperature': 0.7}}, teacher_model_config: None, text_optimizer_model_config: {'model_client': OpenAIClient(), 'model_kwargs': {'model': 'gpt-4.1-nano', 'temperature': 0.7}}\n",
      "    (task): RAG_AnswerGeneration(\n",
      "      (llm_parser): DataClassParser(\n",
      "        data_class=AnswerData, format_type=json,            return_data_class=True, input_fields=[],            output_fields=['reasoning', 'answer']\n",
      "        (_output_processor): JsonParser()\n",
      "        (output_format_prompt): template: Your output should be formatted as a standard JSON instance with the following schema:\n",
      "        ```\n",
      "        {{schema}}\n",
      "        ```\n",
      "        -Make sure to always enclose the JSON output in triple backticks (```). Please do not add anything other than valid JSON output!\n",
      "        -Use double quotes for the keys and string values.\n",
      "        -DO NOT mistaken the \"properties\" and \"type\" in the schema as the actual fields in the JSON output.\n",
      "        -Follow the JSON formatting conventions., prompt_variables: ['schema']\n",
      "      )\n",
      "      (llm): Generator(\n",
      "        model_kwargs={'model': 'gpt-4.1-nano', 'temperature': 0.7}, trainable_prompt_kwargs=['task_desc_str']\n",
      "        (prompt): template: <START_OF_SYSTEM_PROMPT>\n",
      "        {{task_desc_str}}\n",
      "        \n",
      "        {{output_format_str}}\n",
      "        {# Few shot demos #}\n",
      "        {% if few_shot_demos is not none %}\n",
      "            Here are some examples:\n",
      "            {{few_shot_demos}}\n",
      "        {% endif %}\n",
      "        <END_OF_SYSTEM_PROMPT>\n",
      "        <START_OF_USER>\n",
      "            Context: {{context}}\n",
      "            Question: {{question}}\n",
      "        <END_OF_USER>\n",
      "        , prompt_kwargs: {'task_desc_str': 'Answer questions with short factoid answers.\\n                    You will receive context(contain relevant facts).\\n                    Think step by step.\\n                ', 'output_format_str': 'Your output should be formatted as a standard JSON instance with the following schema:\\n```\\n{\\n    \"reasoning\": \"The reasoning to produce the answer (str) (required)\",\\n    \"answer\": \"The answer you produced (str) (required)\"\\n}\\n```\\n-Make sure to always enclose the JSON output in triple backticks (```). Please do not add anything other than valid JSON output!\\n-Use double quotes for the keys and string values.\\n-DO NOT mistaken the \"properties\" and \"type\" in the schema as the actual fields in the JSON output.\\n-Follow the JSON formatting conventions.'}, prompt_variables: ['few_shot_demos', 'output_format_str', 'question', 'context', 'task_desc_str']\n",
      "        (model_client): OpenAIClient()\n",
      "        (output_processors): DataClassParser(\n",
      "          data_class=AnswerData, format_type=json,            return_data_class=True, input_fields=[],            output_fields=['reasoning', 'answer']\n",
      "          (_output_processor): JsonParser()\n",
      "          (output_format_prompt): template: Your output should be formatted as a standard JSON instance with the following schema:\n",
      "          ```\n",
      "          {{schema}}\n",
      "          ```\n",
      "          -Make sure to always enclose the JSON output in triple backticks (```). Please do not add anything other than valid JSON output!\n",
      "          -Use double quotes for the keys and string values.\n",
      "          -DO NOT mistaken the \"properties\" and \"type\" in the schema as the actual fields in the JSON output.\n",
      "          -Follow the JSON formatting conventions., prompt_variables: ['schema']\n",
      "        )\n",
      "      )\n",
      "    )\n",
      "    (loss_fn): EvalFnToTextLoss()\n",
      "  )\n",
      ")\n",
      "raw_shots: 0, bootstrap_shots: 4\n",
      "No demo parameters found.\n",
      "2025-06-29 22:08:47 - [adal.py:852:configure_text_optimizer_helper] - Text optimizer configured for 1 parameters. names: [('llm.task_desc_str', 'Answer questions with short factoid answers.\\n                    You will receive context(contain relevant facts).\\n                    Think step by step.\\n                ')]\n",
      "No trainable demo params to optimize\n",
      "Backward engine configured for GradComponents\n"
     ]
    },
    {
     "name": "stderr",
     "output_type": "stream",
     "text": [
      "Loading Data: 100%|██████████| 10/10 [00:00<00:00, 2435.86it/s]\n",
      "Predicting: step(0): 0.7117 across 10 samples, Max potential: 0.7117: 100%|██████████| 10/10 [00:00<00:00, 203.32it/s]\n",
      "Loading Data: 100%|██████████| 10/10 [00:00<00:00, 2596.13it/s]\n",
      "Predicting: step(0): 0.6167 across 10 samples, Max potential: 0.6167: 100%|██████████| 10/10 [00:00<00:00, 224.13it/s]\n"
     ]
    },
    {
     "name": "stdout",
     "output_type": "stream",
     "text": [
      "Initial validation score: 0.7116666666666667\n",
      "Initial test score: 0.6166666666666667\n",
      "2025-06-29 22:08:47 - [trainer.py:2343:_fit_text_grad_constraint] - Fitting using Textual Gradient Descent with constraints\n",
      "_fit_text_grad_constraint save to C:\\Users\\wuhan\\AppData\\Roaming\\adalflow\\ckpt\\HotPotQAAdal\\constrained_max_steps_12_c89b2_run_1.json\n"
     ]
    },
    {
     "name": "stderr",
     "output_type": "stream",
     "text": [
      "Epoch:   0%|          | 0/5 [00:00<?, ?it/s]"
     ]
    },
    {
     "name": "stdout",
     "output_type": "stream",
     "text": [
      "Epoch: 0\n"
     ]
    },
    {
     "name": "stderr",
     "output_type": "stream",
     "text": [
      "Training Step: 1:   0%|          | 0/3 [00:00<?, ?it/s]\n",
      "Loading Data: 100%|██████████| 4/4 [00:00<00:00, 938.01it/s]\n",
      "Training: 100%|██████████| 4/4 [00:00<00:00, 869.69it/s]\n",
      "\n",
      "Loading Data: 100%|██████████| 4/4 [00:00<00:00, 1060.31it/s]\n",
      "Calculating Loss: 100%|██████████| 4/4 [00:00<00:00, 1277.78it/s]\n",
      "Evaluating: 100%|██████████| 4/4 [00:00<00:00, 529.75it/s]\n"
     ]
    },
    {
     "name": "stdout",
     "output_type": "stream",
     "text": [
      "Moving batch eval: EvaluationResult(avg_score=0.6541666666666667, per_item_scores=[0.4666666666666667, 0.6666666666666666, 0.7166666666666667, 0.7666666666666666], additional_info=None)\n",
      "2025-06-29 22:08:48 - [trainer.py:2172:_text_grad_constraint_propose_step] - Moving batch acc: 0.6541666666666667\n",
      "Moving batch correct size: 3\n",
      "Moving batch error size: 1\n",
      "Subset Error size: 1\n",
      "Subset Correct size: 2\n",
      "Subset score: 0.6166666666666667\n",
      "2025-06-29 22:08:48 - [trainer.py:2178:_text_grad_constraint_propose_step] - Subset batch acc: 0.6166666666666667,0.6166666666666667\n",
      "Subset loss backward...\n",
      "Subset loss backward time: 6.369569778442383\n",
      "Optimizer propose...\n"
     ]
    },
    {
     "name": "stderr",
     "output_type": "stream",
     "text": [
      "\n",
      "Proposing:   0%|          | 0/5 [00:00<?, ?it/s]"
     ]
    },
    {
     "name": "stdout",
     "output_type": "stream",
     "text": [
      "Proposal: 1\n",
      "2025-06-29 22:08:56 - [trainer.py:2204:_text_grad_constraint_propose_step] - Propose time: 1.5944139957427979\n",
      "New prompts:  [PromptData(id='b01271f1-fb33-40ad-979c-5b5cfe3db491', name='llm.task_desc_str', data='Answer questions with short factoid answers. Clearly state that equipment used exclusively for business and costing under $10,000 can be fully expensed in the year of purchase. Think step by step and emphasize the key points: immediate deduction, expense threshold, and exclusive use.', requires_opt=True)]\n"
     ]
    },
    {
     "name": "stderr",
     "output_type": "stream",
     "text": [
      "\n",
      "\n",
      "Loading Data: 100%|██████████| 3/3 [00:00<00:00, 931.38it/s]\n",
      "Predicting: step(1): 0.5667 across 3 samples, Max potential: 0.5667: 100%|██████████| 3/3 [00:04<00:00,  1.57s/it]\n"
     ]
    },
    {
     "name": "stdout",
     "output_type": "stream",
     "text": [
      "2025-06-29 22:09:00 - [trainer.py:2230:_text_grad_constraint_propose_step] - Fail minibatch check, try next proposal: True, 0.5666666666666668 <= 0.6166666666666667\n"
     ]
    },
    {
     "name": "stderr",
     "output_type": "stream",
     "text": [
      "\n",
      "Proposing:  20%|██        | 1/5 [00:06<00:26,  6.51s/it]"
     ]
    },
    {
     "name": "stdout",
     "output_type": "stream",
     "text": [
      "Proposal: 2\n",
      "2025-06-29 22:09:02 - [trainer.py:2204:_text_grad_constraint_propose_step] - Propose time: 1.3514289855957031\n",
      "New prompts:  [PromptData(id='b01271f1-fb33-40ad-979c-5b5cfe3db491', name='llm.task_desc_str', data='Answer questions with short factoid answers. Focus explicitly on whether equipment under $10,000 used exclusively for business can be expensed immediately. Think step by step and highlight the expense threshold and exclusive use criterion as the key points in your answer.', requires_opt=True)]\n"
     ]
    },
    {
     "name": "stderr",
     "output_type": "stream",
     "text": [
      "\n",
      "\n",
      "Loading Data: 100%|██████████| 3/3 [00:00<00:00, 762.74it/s]\n",
      "Predicting: step(1): 0.5333 across 3 samples, Max potential: 0.5333: 100%|██████████| 3/3 [00:04<00:00,  1.53s/it]\n"
     ]
    },
    {
     "name": "stdout",
     "output_type": "stream",
     "text": [
      "2025-06-29 22:09:07 - [trainer.py:2230:_text_grad_constraint_propose_step] - Fail minibatch check, try next proposal: True, 0.5333333333333333 <= 0.6166666666666667\n"
     ]
    },
    {
     "name": "stderr",
     "output_type": "stream",
     "text": [
      "\n",
      "Proposing:  40%|████      | 2/5 [00:12<00:18,  6.30s/it]"
     ]
    },
    {
     "name": "stdout",
     "output_type": "stream",
     "text": [
      "Proposal: 3\n",
      "2025-06-29 22:09:08 - [trainer.py:2204:_text_grad_constraint_propose_step] - Propose time: 1.3302242755889893\n",
      "New prompts:  [PromptData(id='b01271f1-fb33-40ad-979c-5b5cfe3db491', name='llm.task_desc_str', data='Answer questions with short factoid answers. Explicitly focus on whether equipment under $10,000 used exclusively for business can be fully expensed immediately, highlighting the expense threshold and exclusive use criterion. Think step by step.', requires_opt=True)]\n"
     ]
    },
    {
     "name": "stderr",
     "output_type": "stream",
     "text": [
      "\n",
      "\n",
      "Loading Data: 100%|██████████| 3/3 [00:00<00:00, 800.49it/s]\n",
      "Predicting: step(1): 0.5 across 3 samples, Max potential: 0.5: 100%|██████████| 3/3 [00:04<00:00,  1.51s/it]      \n"
     ]
    },
    {
     "name": "stdout",
     "output_type": "stream",
     "text": [
      "2025-06-29 22:09:13 - [trainer.py:2230:_text_grad_constraint_propose_step] - Fail minibatch check, try next proposal: True, 0.5 <= 0.6166666666666667\n"
     ]
    },
    {
     "name": "stderr",
     "output_type": "stream",
     "text": [
      "\n",
      "Proposing:  60%|██████    | 3/5 [00:18<00:12,  6.19s/it]"
     ]
    },
    {
     "name": "stdout",
     "output_type": "stream",
     "text": [
      "Proposal: 4\n",
      "2025-06-29 22:09:14 - [trainer.py:2204:_text_grad_constraint_propose_step] - Propose time: 1.6605005264282227\n",
      "New prompts:  [PromptData(id='b01271f1-fb33-40ad-979c-5b5cfe3db491', name='llm.task_desc_str', data='Answer questions with short factoid answers. Focus on whether equipment under $10,000 used exclusively for business can be fully expensed in the year of purchase, as this is the key point. Think step by step.', requires_opt=True)]\n"
     ]
    },
    {
     "name": "stderr",
     "output_type": "stream",
     "text": [
      "\n",
      "\n",
      "Loading Data: 100%|██████████| 3/3 [00:00<00:00, 758.83it/s]\n",
      "Predicting: step(1): 0.5167 across 3 samples, Max potential: 0.5167: 100%|██████████| 3/3 [00:04<00:00,  1.48s/it]\n"
     ]
    },
    {
     "name": "stdout",
     "output_type": "stream",
     "text": [
      "2025-06-29 22:09:19 - [trainer.py:2230:_text_grad_constraint_propose_step] - Fail minibatch check, try next proposal: True, 0.5166666666666667 <= 0.6166666666666667\n"
     ]
    },
    {
     "name": "stderr",
     "output_type": "stream",
     "text": [
      "\n",
      "Proposing:  80%|████████  | 4/5 [00:25<00:06,  6.24s/it]"
     ]
    },
    {
     "name": "stdout",
     "output_type": "stream",
     "text": [
      "Proposal: 5\n",
      "2025-06-29 22:09:20 - [trainer.py:2204:_text_grad_constraint_propose_step] - Propose time: 1.3469758033752441\n",
      "New prompts:  [PromptData(id='b01271f1-fb33-40ad-979c-5b5cfe3db491', name='llm.task_desc_str', data='Answer questions with short factoid answers. Focus explicitly on whether equipment under $10,000 used solely for business can be expensed immediately, stating this as the key point. Think step by step and ensure the answer highlights the expense threshold and exclusive use criterion for alignment with the ground truth.', requires_opt=True)]\n"
     ]
    },
    {
     "name": "stderr",
     "output_type": "stream",
     "text": [
      "\n",
      "\n",
      "Loading Data: 100%|██████████| 3/3 [00:00<00:00, 374.10it/s]\n",
      "Predicting: step(1): 0.4389 across 3 samples, Max potential: 0.4389: 100%|██████████| 3/3 [00:04<00:00,  1.55s/it]\n"
     ]
    },
    {
     "name": "stdout",
     "output_type": "stream",
     "text": [
      "2025-06-29 22:09:25 - [trainer.py:2230:_text_grad_constraint_propose_step] - Fail minibatch check, try next proposal: True, 0.4388888888888889 <= 0.6166666666666667\n"
     ]
    },
    {
     "name": "stderr",
     "output_type": "stream",
     "text": [
      "\n",
      "Proposing: 100%|██████████| 5/5 [00:31<00:00,  6.25s/it]\n"
     ]
    },
    {
     "name": "stdout",
     "output_type": "stream",
     "text": [
      "No proposal can improve the subset and full set, and val set\n",
      "Saving checkpoint to C:\\Users\\wuhan\\AppData\\Roaming\\adalflow\\ckpt\\HotPotQAAdal\\constrained_max_steps_12_c89b2_run_1.json\n",
      "Done with proposals\n"
     ]
    },
    {
     "name": "stderr",
     "output_type": "stream",
     "text": [
      "Training Step: 2:  33%|███▎      | 1/3 [00:37<01:15, 37.85s/it]\n",
      "Loading Data: 100%|██████████| 4/4 [00:00<00:00, 633.25it/s]\n",
      "Training: 100%|██████████| 4/4 [00:00<00:00, 202.90it/s]\n",
      "\n",
      "Loading Data: 100%|██████████| 4/4 [00:00<00:00, 710.00it/s]\n",
      "Calculating Loss: 100%|██████████| 4/4 [00:01<00:00,  3.11it/s]\n",
      "Evaluating: 100%|██████████| 8/8 [00:00<00:00, 245.65it/s]\n"
     ]
    },
    {
     "name": "stdout",
     "output_type": "stream",
     "text": [
      "Moving batch eval: EvaluationResult(avg_score=0.6541666666666667, per_item_scores=[0.4666666666666667, 0.6666666666666666, 0.7166666666666667, 0.7666666666666666, 0.8166666666666667, 0.6666666666666667, 0.6666666666666667, 0.4666666666666667], additional_info=None)\n",
      "2025-06-29 22:09:27 - [trainer.py:2172:_text_grad_constraint_propose_step] - Moving batch acc: 0.6541666666666667\n",
      "Moving batch correct size: 6\n",
      "Moving batch error size: 2\n",
      "Subset Error size: 2\n",
      "Subset Correct size: 2\n",
      "Subset score: 0.6166666666666667\n",
      "2025-06-29 22:09:27 - [trainer.py:2178:_text_grad_constraint_propose_step] - Subset batch acc: 0.6166666666666667,0.6166666666666667\n",
      "Subset loss backward...\n",
      "Subset loss backward time: 5.80608344078064\n",
      "Optimizer propose...\n"
     ]
    },
    {
     "name": "stderr",
     "output_type": "stream",
     "text": [
      "\n",
      "Proposing:   0%|          | 0/5 [00:00<?, ?it/s]"
     ]
    },
    {
     "name": "stdout",
     "output_type": "stream",
     "text": [
      "Proposal: 1\n",
      "2025-06-29 22:09:34 - [trainer.py:2204:_text_grad_constraint_propose_step] - Propose time: 1.3146581649780273\n",
      "New prompts:  [PromptData(id='b01271f1-fb33-40ad-979c-5b5cfe3db491', name='llm.task_desc_str', data='Answer questions with short factoid answers. You will receive context (contain relevant facts). Think step by step. Simplify reasoning to affirm that a business can send a USPS money order and omit tangential details.', requires_opt=True)]\n"
     ]
    },
    {
     "name": "stderr",
     "output_type": "stream",
     "text": [
      "\n",
      "\n",
      "Loading Data:   0%|          | 0/4 [00:00<?, ?it/s]\n",
      "\n",
      "Loading Data: 100%|██████████| 4/4 [00:00<00:00, 35.43it/s]\n",
      "Predicting: step(2): 0.6667 across 4 samples, Max potential: 0.6667: 100%|██████████| 4/4 [00:03<00:00,  1.03it/s]\n"
     ]
    },
    {
     "name": "stdout",
     "output_type": "stream",
     "text": [
      "2025-06-29 22:09:38 - [trainer.py:2224:_text_grad_constraint_propose_step] - Pass minibatch check:True, 0.6666666666666667 > 0.6166666666666667\n"
     ]
    },
    {
     "name": "stderr",
     "output_type": "stream",
     "text": [
      "\n",
      "\n",
      "Loading Data: 100%|██████████| 10/10 [00:00<00:00, 1226.51it/s]\n",
      "Predicting: step(2): 0.6479 across 8 samples, Max potential: 0.7183:  80%|████████  | 8/10 [00:10<00:02,  1.36s/it]\n"
     ]
    },
    {
     "name": "stdout",
     "output_type": "stream",
     "text": [
      "Optimizer revert: 0.6555555555555556 <= 0.7116666666666667\n"
     ]
    },
    {
     "name": "stderr",
     "output_type": "stream",
     "text": [
      "\n",
      "Proposing:  20%|██        | 1/5 [00:16<01:06, 16.53s/it]"
     ]
    },
    {
     "name": "stdout",
     "output_type": "stream",
     "text": [
      "Proposal: 2\n",
      "2025-06-29 22:09:51 - [trainer.py:2204:_text_grad_constraint_propose_step] - Propose time: 1.3326592445373535\n",
      "New prompts:  [PromptData(id='b01271f1-fb33-40ad-979c-5b5cfe3db491', name='llm.task_desc_str', data='You should contact your HR department to confirm if they accept rollovers from a closed business plan, verify the plan rules, and follow the proper procedures for a tax-free rollover by coordinating with the plan administrator.', requires_opt=True)]\n"
     ]
    },
    {
     "name": "stderr",
     "output_type": "stream",
     "text": [
      "\n",
      "\n",
      "Loading Data: 100%|██████████| 4/4 [00:00<00:00, 569.76it/s]\n",
      "Predicting: step(2): 0.6042 across 4 samples, Max potential: 0.6042: 100%|██████████| 4/4 [00:05<00:00,  1.37s/it]\n"
     ]
    },
    {
     "name": "stdout",
     "output_type": "stream",
     "text": [
      "2025-06-29 22:09:56 - [trainer.py:2230:_text_grad_constraint_propose_step] - Fail minibatch check, try next proposal: True, 0.6041666666666666 <= 0.6166666666666667\n"
     ]
    },
    {
     "name": "stderr",
     "output_type": "stream",
     "text": [
      "\n",
      "Proposing:  40%|████      | 2/5 [00:23<00:32, 10.94s/it]"
     ]
    },
    {
     "name": "stdout",
     "output_type": "stream",
     "text": [
      "Proposal: 3\n",
      "2025-06-29 22:09:58 - [trainer.py:2204:_text_grad_constraint_propose_step] - Propose time: 1.2140309810638428\n",
      "New prompts:  [PromptData(id='b01271f1-fb33-40ad-979c-5b5cfe3db491', name='llm.task_desc_str', data=\"You should contact your HR department, verify the plan's transfer rules, and follow the proper procedures to roll over your 401k into an IRA or new employer's plan, ensuring a tax-free transfer.\", requires_opt=True)]\n"
     ]
    },
    {
     "name": "stderr",
     "output_type": "stream",
     "text": [
      "\n",
      "\n",
      "Loading Data: 100%|██████████| 4/4 [00:00<00:00, 453.19it/s]\n",
      "Predicting: step(2): 0.5667 across 4 samples, Max potential: 0.5667: 100%|██████████| 4/4 [00:05<00:00,  1.40s/it]\n"
     ]
    },
    {
     "name": "stdout",
     "output_type": "stream",
     "text": [
      "2025-06-29 22:10:03 - [trainer.py:2230:_text_grad_constraint_propose_step] - Fail minibatch check, try next proposal: True, 0.5666666666666667 <= 0.6166666666666667\n"
     ]
    },
    {
     "name": "stderr",
     "output_type": "stream",
     "text": [
      "\n",
      "Proposing:  60%|██████    | 3/5 [00:30<00:18,  9.13s/it]"
     ]
    },
    {
     "name": "stdout",
     "output_type": "stream",
     "text": [
      "Proposal: 4\n",
      "2025-06-29 22:10:05 - [trainer.py:2204:_text_grad_constraint_propose_step] - Propose time: 1.2557151317596436\n",
      "New prompts:  [PromptData(id='b01271f1-fb33-40ad-979c-5b5cfe3db491', name='llm.task_desc_str', data='You should consult HR, verify plan rules, and follow proper transfer procedures, such as initiating a rollover into an IRA or new employer plan, to ensure a tax-free transfer after business closure.', requires_opt=True)]\n"
     ]
    },
    {
     "name": "stderr",
     "output_type": "stream",
     "text": [
      "\n",
      "\n",
      "Loading Data: 100%|██████████| 4/4 [00:00<00:00, 420.63it/s]\n",
      "Predicting: step(2): 0.6792 across 4 samples, Max potential: 0.6792: 100%|██████████| 4/4 [00:04<00:00,  1.13s/it]\n"
     ]
    },
    {
     "name": "stdout",
     "output_type": "stream",
     "text": [
      "2025-06-29 22:10:09 - [trainer.py:2224:_text_grad_constraint_propose_step] - Pass minibatch check:True, 0.6791666666666667 > 0.6166666666666667\n"
     ]
    },
    {
     "name": "stderr",
     "output_type": "stream",
     "text": [
      "\n",
      "\n",
      "Loading Data: 100%|██████████| 10/10 [00:00<00:00, 1578.71it/s]\n",
      "Predicting: step(2): 0.7183 across 10 samples, Max potential: 0.7183: 100%|██████████| 10/10 [00:16<00:00,  1.63s/it]\n"
     ]
    },
    {
     "name": "stdout",
     "output_type": "stream",
     "text": [
      "Optimizer step: 0.7183333333333334 > 0.7116666666666667\n"
     ]
    },
    {
     "name": "stderr",
     "output_type": "stream",
     "text": [
      "Proposing:  60%|██████    | 3/5 [00:52<00:35, 17.61s/it]\n"
     ]
    },
    {
     "name": "stdout",
     "output_type": "stream",
     "text": [
      "Saving checkpoint to C:\\Users\\wuhan\\AppData\\Roaming\\adalflow\\ckpt\\HotPotQAAdal\\constrained_max_steps_12_c89b2_run_1.json\n",
      "Done with proposals\n"
     ]
    },
    {
     "name": "stderr",
     "output_type": "stream",
     "text": [
      "Training Step: 3:  67%|██████▋   | 2/3 [01:38<00:51, 51.05s/it]\n",
      "Loading Data: 100%|██████████| 2/2 [00:00<00:00, 30.76it/s]\n",
      "Training: 100%|██████████| 2/2 [00:01<00:00,  1.14it/s]\n",
      "\n",
      "Loading Data: 100%|██████████| 2/2 [00:00<00:00, 708.14it/s]\n",
      "Calculating Loss: 100%|██████████| 2/2 [00:01<00:00,  1.58it/s]\n",
      "Evaluating: 100%|██████████| 2/2 [00:00<00:00, 107.95it/s]\n"
     ]
    },
    {
     "name": "stdout",
     "output_type": "stream",
     "text": [
      "Moving batch eval: EvaluationResult(avg_score=0.6666666666666667, per_item_scores=[0.6666666666666667, 0.6666666666666667], additional_info=None)\n",
      "2025-06-29 22:10:29 - [trainer.py:2172:_text_grad_constraint_propose_step] - Moving batch acc: 0.6666666666666667\n",
      "Moving batch correct size: 2\n",
      "Moving batch error size: 0\n",
      "Subset Error size: 0\n",
      "Subset Correct size: 2\n",
      "Subset score: 0.6666666666666667\n",
      "2025-06-29 22:10:29 - [trainer.py:2178:_text_grad_constraint_propose_step] - Subset batch acc: 0.6666666666666667,0.6666666666666667\n",
      "Subset loss backward...\n",
      "Subset loss backward time: 3.5264649391174316\n",
      "Optimizer propose...\n"
     ]
    },
    {
     "name": "stderr",
     "output_type": "stream",
     "text": [
      "\n",
      "Proposing:   0%|          | 0/5 [00:00<?, ?it/s]"
     ]
    },
    {
     "name": "stdout",
     "output_type": "stream",
     "text": [
      "Proposal: 1\n",
      "2025-06-29 22:10:34 - [trainer.py:2204:_text_grad_constraint_propose_step] - Propose time: 1.5392489433288574\n",
      "New prompts:  [PromptData(id='b01271f1-fb33-40ad-979c-5b5cfe3db491', name='llm.task_desc_str', data=\"If the 1099 was issued to your corporation, report it on the corporation's return (Form 1120S) rather than your personal return, because your corporation and you are separate legal entities. If the 1099 was issued directly to you personally, then report it on your personal tax return. The decision affects your legal protections and tax filings, so ensure proper reporting based on the issuing entity.\", requires_opt=True)]\n"
     ]
    },
    {
     "name": "stderr",
     "output_type": "stream",
     "text": [
      "\n",
      "\n",
      "Loading Data: 100%|██████████| 2/2 [00:00<00:00, 527.35it/s]\n",
      "Predicting: step(3): 0.7417 across 2 samples, Max potential: 0.7417: 100%|██████████| 2/2 [00:05<00:00,  2.96s/it]\n"
     ]
    },
    {
     "name": "stdout",
     "output_type": "stream",
     "text": [
      "2025-06-29 22:10:40 - [trainer.py:2224:_text_grad_constraint_propose_step] - Pass minibatch check:True, 0.7416666666666667 > 0.6666666666666667\n"
     ]
    },
    {
     "name": "stderr",
     "output_type": "stream",
     "text": [
      "\n",
      "\n",
      "Loading Data: 100%|██████████| 10/10 [00:00<00:00, 1622.87it/s]\n",
      "Predicting: step(3): 0.7467 across 10 samples, Max potential: 0.7467: 100%|██████████| 10/10 [00:13<00:00,  1.40s/it]\n"
     ]
    },
    {
     "name": "stdout",
     "output_type": "stream",
     "text": [
      "Optimizer step: 0.7466666666666667 > 0.7183333333333334\n"
     ]
    },
    {
     "name": "stderr",
     "output_type": "stream",
     "text": [
      "Proposing:   0%|          | 0/5 [00:21<?, ?it/s]\n"
     ]
    },
    {
     "name": "stdout",
     "output_type": "stream",
     "text": [
      "Saving checkpoint to C:\\Users\\wuhan\\AppData\\Roaming\\adalflow\\ckpt\\HotPotQAAdal\\constrained_max_steps_12_c89b2_run_1.json\n",
      "Done with proposals\n"
     ]
    },
    {
     "name": "stderr",
     "output_type": "stream",
     "text": [
      "Training Step: 3: 100%|██████████| 3/3 [02:06<00:00, 42.22s/it]\n",
      "Epoch:  20%|██        | 1/5 [02:06<08:26, 126.66s/it]"
     ]
    },
    {
     "name": "stdout",
     "output_type": "stream",
     "text": [
      "Epoch: 1\n"
     ]
    },
    {
     "name": "stderr",
     "output_type": "stream",
     "text": [
      "Training Step: 4:   0%|          | 0/3 [00:00<?, ?it/s]\n",
      "Loading Data: 100%|██████████| 4/4 [00:00<00:00, 543.60it/s]\n",
      "Training: 100%|██████████| 4/4 [00:01<00:00,  2.12it/s]\n",
      "\n",
      "Loading Data: 100%|██████████| 4/4 [00:00<00:00, 715.17it/s]\n",
      "Calculating Loss: 100%|██████████| 4/4 [00:01<00:00,  3.08it/s]\n",
      "Evaluating: 100%|██████████| 4/4 [00:00<00:00, 131.95it/s]\n"
     ]
    },
    {
     "name": "stdout",
     "output_type": "stream",
     "text": [
      "Moving batch eval: EvaluationResult(avg_score=0.7625, per_item_scores=[0.7666666666666666, 0.7666666666666666, 0.8500000000000001, 0.6666666666666667], additional_info=None)\n",
      "2025-06-29 22:10:57 - [trainer.py:2172:_text_grad_constraint_propose_step] - Moving batch acc: 0.7625\n",
      "Moving batch correct size: 4\n",
      "Moving batch error size: 0\n",
      "Subset Error size: 0\n",
      "Subset Correct size: 2\n",
      "Subset score: 0.7166666666666667\n",
      "2025-06-29 22:10:58 - [trainer.py:2178:_text_grad_constraint_propose_step] - Subset batch acc: 0.7166666666666667,0.7166666666666667\n",
      "Subset loss backward...\n",
      "Subset loss backward time: 3.1835644245147705\n",
      "Optimizer propose...\n"
     ]
    },
    {
     "name": "stderr",
     "output_type": "stream",
     "text": [
      "\n",
      "Proposing:   0%|          | 0/5 [00:00<?, ?it/s]"
     ]
    },
    {
     "name": "stdout",
     "output_type": "stream",
     "text": [
      "Proposal: 1\n",
      "2025-06-29 22:11:03 - [trainer.py:2204:_text_grad_constraint_propose_step] - Propose time: 1.7188758850097656\n",
      "New prompts:  [PromptData(id='b01271f1-fb33-40ad-979c-5b5cfe3db491', name='llm.task_desc_str', data=\"After a business closes, to transfer your 401(k), first contact your former employer's HR department to confirm their procedures for accepting rollovers. Ensure that the rollover is done as a direct transfer to avoid taxes. Obtain the necessary paperwork, specify where the check should be sent, and ensure it is payable to your new custodian or IRA. This process allows you to consolidate your retirement funds, access more investment options, and avoid potential penalties.\", requires_opt=True)]\n"
     ]
    },
    {
     "name": "stderr",
     "output_type": "stream",
     "text": [
      "\n",
      "\n",
      "Loading Data: 100%|██████████| 2/2 [00:00<00:00, 694.59it/s]\n",
      "Predicting: step(4): 0.5917 across 2 samples, Max potential: 0.5917: 100%|██████████| 2/2 [00:05<00:00,  2.97s/it]\n"
     ]
    },
    {
     "name": "stdout",
     "output_type": "stream",
     "text": [
      "2025-06-29 22:11:09 - [trainer.py:2230:_text_grad_constraint_propose_step] - Fail minibatch check, try next proposal: True, 0.5916666666666667 <= 0.7166666666666667\n"
     ]
    },
    {
     "name": "stderr",
     "output_type": "stream",
     "text": [
      "\n",
      "Proposing:  20%|██        | 1/5 [00:07<00:31,  7.81s/it]"
     ]
    },
    {
     "name": "stdout",
     "output_type": "stream",
     "text": [
      "Proposal: 2\n",
      "2025-06-29 22:11:10 - [trainer.py:2204:_text_grad_constraint_propose_step] - Propose time: 1.5109405517578125\n",
      "New prompts:  [PromptData(id='b01271f1-fb33-40ad-979c-5b5cfe3db491', name='llm.task_desc_str', data=\"Evaluate if the response explicitly states that income should be reported based on the legal entity associated with the final active EIN after merging and dissolution, and clarify that the original output's generic guidance may not fully align with the ground truth scenario involving LLC mergers and EIN cancellations.\", requires_opt=True)]\n"
     ]
    },
    {
     "name": "stderr",
     "output_type": "stream",
     "text": [
      "\n",
      "\n",
      "Loading Data: 100%|██████████| 2/2 [00:00<00:00, 720.98it/s]\n",
      "Predicting: step(4): 0.6667 across 2 samples, Max potential: 0.6667: 100%|██████████| 2/2 [00:04<00:00,  2.05s/it]\n"
     ]
    },
    {
     "name": "stdout",
     "output_type": "stream",
     "text": [
      "2025-06-29 22:11:14 - [trainer.py:2230:_text_grad_constraint_propose_step] - Fail minibatch check, try next proposal: True, 0.6666666666666667 <= 0.7166666666666667\n"
     ]
    },
    {
     "name": "stderr",
     "output_type": "stream",
     "text": [
      "\n",
      "Proposing:  40%|████      | 2/5 [00:13<00:19,  6.62s/it]"
     ]
    },
    {
     "name": "stdout",
     "output_type": "stream",
     "text": [
      "Proposal: 3\n",
      "2025-06-29 22:11:16 - [trainer.py:2204:_text_grad_constraint_propose_step] - Propose time: 1.3417277336120605\n",
      "New prompts:  [PromptData(id='b01271f1-fb33-40ad-979c-5b5cfe3db491', name='llm.task_desc_str', data=\"Evaluate if the response accurately reflects the ground truth scenario of EIN cancellation, merging LLCs, and entity reporting, and adjust the answer to explicitly align with the context of reporting income based on the final or relevant entity's EIN.\", requires_opt=True)]\n"
     ]
    },
    {
     "name": "stderr",
     "output_type": "stream",
     "text": [
      "\n",
      "\n",
      "Loading Data: 100%|██████████| 2/2 [00:00<00:00, 901.32it/s]\n",
      "Predicting: step(4): 0.5917 across 2 samples, Max potential: 0.5917: 100%|██████████| 2/2 [00:04<00:00,  2.10s/it]\n"
     ]
    },
    {
     "name": "stdout",
     "output_type": "stream",
     "text": [
      "2025-06-29 22:11:20 - [trainer.py:2230:_text_grad_constraint_propose_step] - Fail minibatch check, try next proposal: True, 0.5916666666666667 <= 0.7166666666666667\n"
     ]
    },
    {
     "name": "stderr",
     "output_type": "stream",
     "text": [
      "\n",
      "Proposing:  60%|██████    | 3/5 [00:19<00:12,  6.19s/it]"
     ]
    },
    {
     "name": "stdout",
     "output_type": "stream",
     "text": [
      "Proposal: 4\n",
      "2025-06-29 22:11:22 - [trainer.py:2204:_text_grad_constraint_propose_step] - Propose time: 1.9813377857208252\n",
      "New prompts:  [PromptData(id='b01271f1-fb33-40ad-979c-5b5cfe3db491', name='llm.task_desc_str', data=\"The income reporting should be based on the final active entity after merging LLCs and cancelling previous EINs. If the LLCs are merged into a new corporation with a new EIN, income should be reported under that new EIN's entity. If an LLC ceases to exist and its EIN is cancelled, any income or payments associated with that EIN should be reported on the final or relevant entity that remains active, such as the new corporation or the entity holding the EIN at the time of the income receipt. The response must explicitly evaluate whether the reported income aligns with these scenarios, ensuring accurate and context-specific guidance.\", requires_opt=True)]\n"
     ]
    },
    {
     "name": "stderr",
     "output_type": "stream",
     "text": [
      "\n",
      "\n",
      "Loading Data: 100%|██████████| 2/2 [00:00<00:00, 790.33it/s]\n",
      "Predicting: step(4): 0.7417 across 2 samples, Max potential: 0.7417: 100%|██████████| 2/2 [00:03<00:00,  1.97s/it]\n"
     ]
    },
    {
     "name": "stdout",
     "output_type": "stream",
     "text": [
      "2025-06-29 22:11:26 - [trainer.py:2224:_text_grad_constraint_propose_step] - Pass minibatch check:True, 0.7416666666666667 > 0.7166666666666667\n"
     ]
    },
    {
     "name": "stderr",
     "output_type": "stream",
     "text": [
      "\n",
      "\n",
      "Loading Data: 100%|██████████| 10/10 [00:00<00:00, 1624.19it/s]\n",
      "Predicting: step(4): 0.7125 across 8 samples, Max potential: 0.77:  80%|████████  | 8/10 [00:13<00:03,  1.63s/it]  \n"
     ]
    },
    {
     "name": "stdout",
     "output_type": "stream",
     "text": [
      "Optimizer revert: 0.7185185185185184 <= 0.7466666666666667\n"
     ]
    },
    {
     "name": "stderr",
     "output_type": "stream",
     "text": [
      "\n",
      "Proposing:  80%|████████  | 4/5 [00:38<00:11, 11.32s/it]"
     ]
    },
    {
     "name": "stdout",
     "output_type": "stream",
     "text": [
      "Proposal: 5\n",
      "2025-06-29 22:11:41 - [trainer.py:2204:_text_grad_constraint_propose_step] - Propose time: 2.008998394012451\n",
      "New prompts:  [PromptData(id='b01271f1-fb33-40ad-979c-5b5cfe3db491', name='llm.task_desc_str', data='Report income based on the final or relevant entity after the merger and cancellation of previous EINs. If the EIN was issued to a dissolved LLC that has merged into another entity, the income should be reported under the EIN of the surviving entity (e.g., the new corporation or LLC). Ensure that the reporting aligns with the entity that is legally responsible for the income post-merger, and confirm that the answer explicitly reflects this scenario and the proper handling of EIN cancellations and mergers.', requires_opt=True)]\n"
     ]
    },
    {
     "name": "stderr",
     "output_type": "stream",
     "text": [
      "\n",
      "\n",
      "Loading Data: 100%|██████████| 2/2 [00:00<00:00, 1033.72it/s]\n",
      "Predicting: step(4): 0.7167 across 2 samples, Max potential: 0.7167: 100%|██████████| 2/2 [00:03<00:00,  1.75s/it]\n"
     ]
    },
    {
     "name": "stdout",
     "output_type": "stream",
     "text": [
      "2025-06-29 22:11:45 - [trainer.py:2230:_text_grad_constraint_propose_step] - Fail minibatch check, try next proposal: True, 0.7166666666666667 <= 0.7166666666666667\n"
     ]
    },
    {
     "name": "stderr",
     "output_type": "stream",
     "text": [
      "\n",
      "Proposing: 100%|██████████| 5/5 [00:44<00:00,  8.83s/it]\n"
     ]
    },
    {
     "name": "stdout",
     "output_type": "stream",
     "text": [
      "No proposal can improve the subset and full set, and val set\n",
      "Saving checkpoint to C:\\Users\\wuhan\\AppData\\Roaming\\adalflow\\ckpt\\HotPotQAAdal\\constrained_max_steps_12_c89b2_run_1.json\n",
      "Done with proposals\n"
     ]
    },
    {
     "name": "stderr",
     "output_type": "stream",
     "text": [
      "Training Step: 5:  33%|███▎      | 1/3 [00:50<01:41, 50.80s/it]\n",
      "Loading Data: 100%|██████████| 4/4 [00:00<00:00, 583.90it/s]\n",
      "Training: 100%|██████████| 4/4 [00:01<00:00,  2.59it/s]\n",
      "\n",
      "Loading Data: 100%|██████████| 4/4 [00:00<00:00, 580.73it/s]\n",
      "Calculating Loss: 100%|██████████| 4/4 [00:02<00:00,  1.83it/s]\n",
      "Evaluating: 100%|██████████| 8/8 [00:00<00:00, 260.98it/s]\n"
     ]
    },
    {
     "name": "stdout",
     "output_type": "stream",
     "text": [
      "Moving batch eval: EvaluationResult(avg_score=0.69375, per_item_scores=[0.7666666666666666, 0.7666666666666666, 0.8500000000000001, 0.6666666666666667, 0.4666666666666667, 0.7166666666666667, 0.7166666666666668, 0.6], additional_info=None)\n",
      "2025-06-29 22:11:49 - [trainer.py:2172:_text_grad_constraint_propose_step] - Moving batch acc: 0.69375\n",
      "Moving batch correct size: 7\n",
      "Moving batch error size: 1\n",
      "Subset Error size: 1\n",
      "Subset Correct size: 2\n",
      "Subset score: 0.6333333333333333\n",
      "2025-06-29 22:11:49 - [trainer.py:2178:_text_grad_constraint_propose_step] - Subset batch acc: 0.6333333333333333,0.6333333333333333\n",
      "Subset loss backward...\n",
      "Subset loss backward time: 4.843205451965332\n",
      "Optimizer propose...\n"
     ]
    },
    {
     "name": "stderr",
     "output_type": "stream",
     "text": [
      "\n",
      "Proposing:   0%|          | 0/5 [00:00<?, ?it/s]"
     ]
    },
    {
     "name": "stdout",
     "output_type": "stream",
     "text": [
      "Proposal: 1\n",
      "2025-06-29 22:11:55 - [trainer.py:2204:_text_grad_constraint_propose_step] - Propose time: 1.4303104877471924\n",
      "New prompts:  [PromptData(id='b01271f1-fb33-40ad-979c-5b5cfe3db491', name='llm.task_desc_str', data='To deposit a check made out to your business, you should open a dedicated business account and deposit the check there. It is best practice to keep business and personal finances separate. Do not endorse the check over to yourself for deposit into a personal account, as this can cause legal and tax issues. Instead, deposit the check into your business account to ensure proper financial management.', requires_opt=True)]\n"
     ]
    },
    {
     "name": "stderr",
     "output_type": "stream",
     "text": [
      "\n",
      "\n",
      "Loading Data: 100%|██████████| 3/3 [00:00<00:00, 742.09it/s]\n",
      "Predicting: step(5): 0.7167 across 3 samples, Max potential: 0.7167: 100%|██████████| 3/3 [00:05<00:00,  1.90s/it]\n"
     ]
    },
    {
     "name": "stdout",
     "output_type": "stream",
     "text": [
      "2025-06-29 22:12:01 - [trainer.py:2224:_text_grad_constraint_propose_step] - Pass minibatch check:True, 0.7166666666666668 > 0.6333333333333333\n"
     ]
    },
    {
     "name": "stderr",
     "output_type": "stream",
     "text": [
      "\n",
      "\n",
      "Loading Data: 100%|██████████| 10/10 [00:00<00:00, 1956.30it/s]\n",
      "Predicting: step(5): 0.7315 across 9 samples, Max potential: 0.7583:  90%|█████████ | 9/10 [00:12<00:01,  1.40s/it]\n"
     ]
    },
    {
     "name": "stdout",
     "output_type": "stream",
     "text": [
      "Optimizer revert: 0.735 <= 0.7466666666666667\n"
     ]
    },
    {
     "name": "stderr",
     "output_type": "stream",
     "text": [
      "\n",
      "Proposing:  20%|██        | 1/5 [00:20<01:19, 19.99s/it]"
     ]
    },
    {
     "name": "stdout",
     "output_type": "stream",
     "text": [
      "Proposal: 2\n",
      "2025-06-29 22:12:16 - [trainer.py:2204:_text_grad_constraint_propose_step] - Propose time: 1.907153606414795\n",
      "New prompts:  [PromptData(id='b01271f1-fb33-40ad-979c-5b5cfe3db491', name='llm.task_desc_str', data='To deposit a check made out to your business, you should open a dedicated business account. Using a separate business account ensures proper separation of personal and business finances, which is important for legal and tax purposes. Do not endorse the check over to yourself for deposit into a personal account, as this can lead to legal and accounting complications. Instead, deposit the check directly into your business account after setting it up with the required documentation, such as your DBA certificate and EIN.', requires_opt=True)]\n"
     ]
    },
    {
     "name": "stderr",
     "output_type": "stream",
     "text": [
      "\n",
      "\n",
      "Loading Data: 100%|██████████| 3/3 [00:00<00:00, 1055.44it/s]\n",
      "Predicting: step(5): 0.6167 across 3 samples, Max potential: 0.6167: 100%|██████████| 3/3 [00:05<00:00,  1.69s/it]\n"
     ]
    },
    {
     "name": "stdout",
     "output_type": "stream",
     "text": [
      "2025-06-29 22:12:21 - [trainer.py:2230:_text_grad_constraint_propose_step] - Fail minibatch check, try next proposal: True, 0.6166666666666667 <= 0.6333333333333333\n"
     ]
    },
    {
     "name": "stderr",
     "output_type": "stream",
     "text": [
      "\n",
      "Proposing:  40%|████      | 2/5 [00:27<00:37, 12.43s/it]"
     ]
    },
    {
     "name": "stdout",
     "output_type": "stream",
     "text": [
      "Proposal: 3\n",
      "2025-06-29 22:12:22 - [trainer.py:2204:_text_grad_constraint_propose_step] - Propose time: 1.4138848781585693\n",
      "New prompts:  [PromptData(id='b01271f1-fb33-40ad-979c-5b5cfe3db491', name='llm.task_desc_str', data='To deposit a check made out to your business, you should open a dedicated business account. Depositing business checks into your personal account is not advisable and can lead to legal and tax issues. Always endorse the check to the business and deposit it into your business account to keep your finances properly separated and compliant.', requires_opt=True)]\n"
     ]
    },
    {
     "name": "stderr",
     "output_type": "stream",
     "text": [
      "\n",
      "\n",
      "Loading Data: 100%|██████████| 3/3 [00:00<00:00, 912.66it/s]\n",
      "Predicting: step(5): 0.7167 across 3 samples, Max potential: 0.7167: 100%|██████████| 3/3 [00:04<00:00,  1.62s/it]\n"
     ]
    },
    {
     "name": "stdout",
     "output_type": "stream",
     "text": [
      "2025-06-29 22:12:27 - [trainer.py:2224:_text_grad_constraint_propose_step] - Pass minibatch check:True, 0.7166666666666667 > 0.6333333333333333\n"
     ]
    },
    {
     "name": "stderr",
     "output_type": "stream",
     "text": [
      "\n",
      "\n",
      "Loading Data: 100%|██████████| 10/10 [00:00<00:00, 2478.32it/s]\n",
      "Predicting: step(5): 0.6917 across 8 samples, Max potential: 0.7533:  80%|████████  | 8/10 [00:12<00:03,  1.58s/it]\n"
     ]
    },
    {
     "name": "stdout",
     "output_type": "stream",
     "text": [
      "Optimizer revert: 0.7 <= 0.7466666666666667\n"
     ]
    },
    {
     "name": "stderr",
     "output_type": "stream",
     "text": [
      "\n",
      "Proposing:  60%|██████    | 3/5 [00:46<00:30, 15.46s/it]"
     ]
    },
    {
     "name": "stdout",
     "output_type": "stream",
     "text": [
      "Proposal: 4\n",
      "2025-06-29 22:12:42 - [trainer.py:2204:_text_grad_constraint_propose_step] - Propose time: 1.7457923889160156\n",
      "New prompts:  [PromptData(id='b01271f1-fb33-40ad-979c-5b5cfe3db491', name='llm.task_desc_str', data='To properly deposit a check made out to your business, you should open a dedicated business account and deposit all business checks there. Mixing business and personal funds is not recommended and can lead to legal and tax issues. If you only have a personal account, consider opening a small business account to keep your finances separate and compliant.', requires_opt=True)]\n"
     ]
    },
    {
     "name": "stderr",
     "output_type": "stream",
     "text": [
      "\n",
      "\n",
      "Loading Data: 100%|██████████| 3/3 [00:00<00:00, 1068.70it/s]\n",
      "Predicting: step(5): 0.7333 across 3 samples, Max potential: 0.7333: 100%|██████████| 3/3 [00:08<00:00,  2.68s/it]\n"
     ]
    },
    {
     "name": "stdout",
     "output_type": "stream",
     "text": [
      "2025-06-29 22:12:50 - [trainer.py:2224:_text_grad_constraint_propose_step] - Pass minibatch check:True, 0.7333333333333334 > 0.6333333333333333\n"
     ]
    },
    {
     "name": "stderr",
     "output_type": "stream",
     "text": [
      "\n",
      "\n",
      "Loading Data: 100%|██████████| 10/10 [00:00<00:00, 2451.66it/s]\n",
      "Predicting: step(5): 0.7241 across 9 samples, Max potential: 0.7517:  90%|█████████ | 9/10 [00:14<00:01,  1.60s/it]\n"
     ]
    },
    {
     "name": "stdout",
     "output_type": "stream",
     "text": [
      "Optimizer revert: 0.7283333333333333 <= 0.7466666666666667\n"
     ]
    },
    {
     "name": "stderr",
     "output_type": "stream",
     "text": [
      "\n",
      "Proposing:  80%|████████  | 4/5 [01:10<00:18, 18.96s/it]"
     ]
    },
    {
     "name": "stdout",
     "output_type": "stream",
     "text": [
      "Proposal: 5\n",
      "2025-06-29 22:13:06 - [trainer.py:2204:_text_grad_constraint_propose_step] - Propose time: 1.6186840534210205\n",
      "New prompts:  [PromptData(id='b01271f1-fb33-40ad-979c-5b5cfe3db491', name='llm.task_desc_str', data=\"You should open a separate business account to deposit checks made out to your business. Mixing business and personal funds is a bad practice and can lead to legal and tax issues. Obtain the necessary documentation such as a DBA certificate and EIN, then deposit the check directly into your business account. If you are a sole proprietor, you can also deposit the check into your personal account, but it's still highly recommended to keep business finances separate by using a dedicated account.\", requires_opt=True)]\n"
     ]
    },
    {
     "name": "stderr",
     "output_type": "stream",
     "text": [
      "\n",
      "\n",
      "Loading Data: 100%|██████████| 3/3 [00:00<00:00, 1349.66it/s]\n",
      "Predicting: step(5): 0.5833 across 3 samples, Max potential: 0.5833: 100%|██████████| 3/3 [00:04<00:00,  1.51s/it]\n"
     ]
    },
    {
     "name": "stdout",
     "output_type": "stream",
     "text": [
      "2025-06-29 22:13:10 - [trainer.py:2230:_text_grad_constraint_propose_step] - Fail minibatch check, try next proposal: True, 0.5833333333333334 <= 0.6333333333333333\n"
     ]
    },
    {
     "name": "stderr",
     "output_type": "stream",
     "text": [
      "\n",
      "Proposing: 100%|██████████| 5/5 [01:16<00:00, 15.35s/it]\n"
     ]
    },
    {
     "name": "stdout",
     "output_type": "stream",
     "text": [
      "No proposal can improve the subset and full set, and val set\n",
      "Saving checkpoint to C:\\Users\\wuhan\\AppData\\Roaming\\adalflow\\ckpt\\HotPotQAAdal\\constrained_max_steps_12_c89b2_run_1.json\n",
      "Done with proposals\n"
     ]
    },
    {
     "name": "stderr",
     "output_type": "stream",
     "text": [
      "Training Step: 6:  67%|██████▋   | 2/3 [02:16<01:11, 71.26s/it]\n",
      "Loading Data: 100%|██████████| 2/2 [00:00<00:00, 970.23it/s]\n",
      "Training: 100%|██████████| 2/2 [00:01<00:00,  1.32it/s]\n",
      "\n",
      "Loading Data: 100%|██████████| 2/2 [00:00<00:00, 605.98it/s]\n",
      "Calculating Loss: 100%|██████████| 2/2 [00:01<00:00,  1.87it/s]\n",
      "Evaluating: 100%|██████████| 10/10 [00:00<00:00, 328.16it/s]\n"
     ]
    },
    {
     "name": "stdout",
     "output_type": "stream",
     "text": [
      "Moving batch eval: EvaluationResult(avg_score=0.7083333333333333, per_item_scores=[0.7666666666666666, 0.7666666666666666, 0.8500000000000001, 0.6666666666666667, 0.4666666666666667, 0.7166666666666667, 0.7166666666666668, 0.6, 0.7666666666666666, 0.7666666666666666], additional_info=None)\n",
      "2025-06-29 22:13:13 - [trainer.py:2172:_text_grad_constraint_propose_step] - Moving batch acc: 0.7083333333333333\n",
      "Moving batch correct size: 9\n",
      "Moving batch error size: 1\n",
      "Subset Error size: 1\n",
      "Subset Correct size: 2\n",
      "Subset score: 0.65\n",
      "2025-06-29 22:13:13 - [trainer.py:2178:_text_grad_constraint_propose_step] - Subset batch acc: 0.65,0.65\n",
      "Subset loss backward...\n",
      "Subset loss backward time: 4.635338306427002\n",
      "Optimizer propose...\n"
     ]
    },
    {
     "name": "stderr",
     "output_type": "stream",
     "text": [
      "\n",
      "Proposing:   0%|          | 0/5 [00:00<?, ?it/s]"
     ]
    },
    {
     "name": "stdout",
     "output_type": "stream",
     "text": [
      "Proposal: 1\n",
      "2025-06-29 22:13:20 - [trainer.py:2204:_text_grad_constraint_propose_step] - Propose time: 2.2010555267333984\n",
      "New prompts:  [PromptData(id='b01271f1-fb33-40ad-979c-5b5cfe3db491', name='llm.task_desc_str', data='To apply for and receive business credit, you should first establish a relationship with your bank by visiting in person, bringing your financial statements, and discussing your credit needs. Be prepared with profit and loss statements, balance sheets, and cash flow spreadsheets. The bank will typically review your financial health and may consider your personal credit history, especially for newer businesses. If traditional credit options are limited, explore alternative methods like factoring, where you sell your accounts receivable to a third party for immediate cash. Factoring emphasizes the value of your invoices rather than your creditworthiness and involves a third-party purchase of your receivables at a discount. Building a strong relationship with your banker and understanding such alternative financing options will improve your chances of obtaining business credit under favorable terms.', requires_opt=True)]\n"
     ]
    },
    {
     "name": "stderr",
     "output_type": "stream",
     "text": [
      "\n",
      "\n",
      "Loading Data: 100%|██████████| 3/3 [00:00<00:00, 996.43it/s]\n",
      "Predicting: step(6): 0.7333 across 3 samples, Max potential: 0.7333: 100%|██████████| 3/3 [00:04<00:00,  1.64s/it]\n"
     ]
    },
    {
     "name": "stdout",
     "output_type": "stream",
     "text": [
      "2025-06-29 22:13:25 - [trainer.py:2224:_text_grad_constraint_propose_step] - Pass minibatch check:True, 0.7333333333333334 > 0.65\n"
     ]
    },
    {
     "name": "stderr",
     "output_type": "stream",
     "text": [
      "\n",
      "\n",
      "Loading Data: 100%|██████████| 10/10 [00:00<00:00, 1018.93it/s]\n",
      "Predicting: step(6): 0.7683 across 10 samples, Max potential: 0.7683: 100%|██████████| 10/10 [00:12<00:00,  1.28s/it]\n"
     ]
    },
    {
     "name": "stdout",
     "output_type": "stream",
     "text": [
      "Optimizer step: 0.7683333333333333 > 0.7466666666666667\n"
     ]
    },
    {
     "name": "stderr",
     "output_type": "stream",
     "text": [
      "Proposing:   0%|          | 0/5 [00:20<?, ?it/s]\n"
     ]
    },
    {
     "name": "stdout",
     "output_type": "stream",
     "text": [
      "Saving checkpoint to C:\\Users\\wuhan\\AppData\\Roaming\\adalflow\\ckpt\\HotPotQAAdal\\constrained_max_steps_12_c89b2_run_1.json\n",
      "Done with proposals\n"
     ]
    },
    {
     "name": "stderr",
     "output_type": "stream",
     "text": [
      "Training Step: 6: 100%|██████████| 3/3 [02:44<00:00, 54.70s/it]\n",
      "Epoch:  40%|████      | 2/5 [04:50<07:26, 148.68s/it]"
     ]
    },
    {
     "name": "stdout",
     "output_type": "stream",
     "text": [
      "Epoch: 2\n"
     ]
    },
    {
     "name": "stderr",
     "output_type": "stream",
     "text": [
      "Training Step: 7:   0%|          | 0/3 [00:00<?, ?it/s]\n",
      "Loading Data: 100%|██████████| 4/4 [00:00<00:00, 733.01it/s]\n",
      "Training: 100%|██████████| 4/4 [00:01<00:00,  2.09it/s]\n",
      "\n",
      "Loading Data: 100%|██████████| 4/4 [00:00<00:00, 722.35it/s]\n",
      "Calculating Loss: 100%|██████████| 4/4 [00:01<00:00,  3.09it/s]\n",
      "Evaluating: 100%|██████████| 4/4 [00:00<00:00, 155.39it/s]\n"
     ]
    },
    {
     "name": "stdout",
     "output_type": "stream",
     "text": [
      "Moving batch eval: EvaluationResult(avg_score=0.6791666666666667, per_item_scores=[0.7666666666666666, 0.7166666666666667, 0.5166666666666667, 0.7166666666666668], additional_info=None)\n",
      "2025-06-29 22:13:42 - [trainer.py:2172:_text_grad_constraint_propose_step] - Moving batch acc: 0.6791666666666667\n",
      "Moving batch correct size: 4\n",
      "Moving batch error size: 0\n",
      "Subset Error size: 0\n",
      "Subset Correct size: 2\n",
      "Subset score: 0.7416666666666667\n",
      "2025-06-29 22:13:42 - [trainer.py:2178:_text_grad_constraint_propose_step] - Subset batch acc: 0.7416666666666667,0.7416666666666667\n",
      "Subset loss backward...\n",
      "Subset loss backward time: 3.2736656665802\n",
      "Optimizer propose...\n"
     ]
    },
    {
     "name": "stderr",
     "output_type": "stream",
     "text": [
      "\n",
      "Proposing:   0%|          | 0/5 [00:00<?, ?it/s]"
     ]
    },
    {
     "name": "stdout",
     "output_type": "stream",
     "text": [
      "Proposal: 1\n",
      "2025-06-29 22:13:46 - [trainer.py:2204:_text_grad_constraint_propose_step] - Propose time: 1.4357874393463135\n",
      "New prompts:  [PromptData(id='b01271f1-fb33-40ad-979c-5b5cfe3db491', name='llm.task_desc_str', data='To deposit a check made out to your business, it is best to first deposit it into a dedicated business account to ensure proper legal and tax compliance. If you need to deposit it into your personal account, endorse the check by signing your name and deposit it via in-person or electronic methods. However, for long-term good practice and to avoid potential issues such as fraud or audits, you should open and use a separate business account for all business-related checks and funds.', requires_opt=True)]\n"
     ]
    },
    {
     "name": "stderr",
     "output_type": "stream",
     "text": [
      "\n",
      "\n",
      "Loading Data: 100%|██████████| 2/2 [00:00<00:00, 829.73it/s]\n",
      "Predicting: step(7): 0.7417 across 2 samples, Max potential: 0.7417: 100%|██████████| 2/2 [00:03<00:00,  1.80s/it]\n"
     ]
    },
    {
     "name": "stdout",
     "output_type": "stream",
     "text": [
      "2025-06-29 22:13:50 - [trainer.py:2230:_text_grad_constraint_propose_step] - Fail minibatch check, try next proposal: True, 0.7416666666666667 <= 0.7416666666666667\n"
     ]
    },
    {
     "name": "stderr",
     "output_type": "stream",
     "text": [
      "\n",
      "Proposing:  20%|██        | 1/5 [00:05<00:20,  5.22s/it]"
     ]
    },
    {
     "name": "stdout",
     "output_type": "stream",
     "text": [
      "Proposal: 2\n",
      "2025-06-29 22:13:52 - [trainer.py:2204:_text_grad_constraint_propose_step] - Propose time: 1.4189152717590332\n",
      "New prompts:  [PromptData(id='b01271f1-fb33-40ad-979c-5b5cfe3db491', name='llm.task_desc_str', data='To deposit a check made out to your business, it is highly recommended to use a dedicated business account to ensure legal and tax compliance. However, if you choose to deposit into your personal account, endorse the check by signing your name and deposit it either in person or electronically. Be aware that mixing business and personal funds can lead to legal or tax issues, so maintaining a separate business account is best practice.', requires_opt=True)]\n"
     ]
    },
    {
     "name": "stderr",
     "output_type": "stream",
     "text": [
      "\n",
      "\n",
      "Loading Data: 100%|██████████| 2/2 [00:00<00:00, 872.36it/s]\n",
      "Predicting: step(7): 0.6667 across 2 samples, Max potential: 0.6667: 100%|██████████| 2/2 [00:03<00:00,  1.72s/it]\n"
     ]
    },
    {
     "name": "stdout",
     "output_type": "stream",
     "text": [
      "2025-06-29 22:13:55 - [trainer.py:2230:_text_grad_constraint_propose_step] - Fail minibatch check, try next proposal: True, 0.6666666666666667 <= 0.7416666666666667\n"
     ]
    },
    {
     "name": "stderr",
     "output_type": "stream",
     "text": [
      "\n",
      "Proposing:  40%|████      | 2/5 [00:10<00:15,  5.15s/it]"
     ]
    },
    {
     "name": "stdout",
     "output_type": "stream",
     "text": [
      "Proposal: 3\n",
      "2025-06-29 22:13:57 - [trainer.py:2204:_text_grad_constraint_propose_step] - Propose time: 1.714538812637329\n",
      "New prompts:  [PromptData(id='b01271f1-fb33-40ad-979c-5b5cfe3db491', name='llm.task_desc_str', data=\"To deposit a check made out to your business into your personal account, you can endorse the check by signing your name on the back and then deposit it into your personal account, either in person at the bank or via the bank's electronic deposit interface. However, the best practice is to have a separate business account for depositing business checks to avoid legal and tax issues. If you must deposit into a personal account, ensure proper endorsement and be aware of potential restrictions or scrutiny from your bank.\", requires_opt=True)]\n"
     ]
    },
    {
     "name": "stderr",
     "output_type": "stream",
     "text": [
      "\n",
      "\n",
      "Loading Data: 100%|██████████| 2/2 [00:00<00:00, 738.24it/s]\n",
      "Predicting: step(7): 0.7417 across 2 samples, Max potential: 0.7417: 100%|██████████| 2/2 [00:03<00:00,  1.77s/it]\n"
     ]
    },
    {
     "name": "stdout",
     "output_type": "stream",
     "text": [
      "2025-06-29 22:14:01 - [trainer.py:2230:_text_grad_constraint_propose_step] - Fail minibatch check, try next proposal: True, 0.7416666666666667 <= 0.7416666666666667\n"
     ]
    },
    {
     "name": "stderr",
     "output_type": "stream",
     "text": [
      "\n",
      "Proposing:  60%|██████    | 3/5 [00:15<00:10,  5.25s/it]"
     ]
    },
    {
     "name": "stdout",
     "output_type": "stream",
     "text": [
      "Proposal: 4\n",
      "2025-06-29 22:14:02 - [trainer.py:2204:_text_grad_constraint_propose_step] - Propose time: 1.7332305908203125\n",
      "New prompts:  [PromptData(id='b01271f1-fb33-40ad-979c-5b5cfe3db491', name='llm.task_desc_str', data=\"To deposit a check made out to your business into your personal account, you can endorse the check by signing your name on the back and then deposit it into your personal account, either in person at the bank or via the bank's electronic deposit interface. However, it is strongly recommended to open and use a dedicated business account for handling business checks to ensure compliance with legal and tax regulations, avoid potential fraud, and simplify record-keeping. Maintaining a separate business account helps in proper financial management and reduces risks associated with mixing personal and business funds.\", requires_opt=True)]\n"
     ]
    },
    {
     "name": "stderr",
     "output_type": "stream",
     "text": [
      "\n",
      "\n",
      "Loading Data: 100%|██████████| 2/2 [00:00<00:00, 586.86it/s]\n",
      "Predicting: step(7): 0.7417 across 2 samples, Max potential: 0.7417: 100%|██████████| 2/2 [00:03<00:00,  1.91s/it]\n"
     ]
    },
    {
     "name": "stdout",
     "output_type": "stream",
     "text": [
      "2025-06-29 22:14:06 - [trainer.py:2230:_text_grad_constraint_propose_step] - Fail minibatch check, try next proposal: True, 0.7416666666666667 <= 0.7416666666666667\n"
     ]
    },
    {
     "name": "stderr",
     "output_type": "stream",
     "text": [
      "\n",
      "Proposing:  80%|████████  | 4/5 [00:21<00:05,  5.43s/it]"
     ]
    },
    {
     "name": "stdout",
     "output_type": "stream",
     "text": [
      "Proposal: 5\n",
      "2025-06-29 22:14:08 - [trainer.py:2204:_text_grad_constraint_propose_step] - Propose time: 1.7259573936462402\n",
      "New prompts:  [PromptData(id='b01271f1-fb33-40ad-979c-5b5cfe3db491', name='llm.task_desc_str', data='To deposit a check made out to your business, it is best to open and use a dedicated business account to avoid legal and tax issues. You can endorse the check by signing your name on the back and deposit it into the business account. If you need to deposit it into a personal account, you can endorse the check in front of a teller with ID and deposit it there, but this is not recommended as a best practice. Maintaining a separate business account helps ensure proper record-keeping and compliance with regulations.', requires_opt=True)]\n"
     ]
    },
    {
     "name": "stderr",
     "output_type": "stream",
     "text": [
      "\n",
      "\n",
      "Loading Data: 100%|██████████| 2/2 [00:00<00:00, 717.59it/s]\n",
      "Predicting: step(7): 0.7417 across 2 samples, Max potential: 0.7417: 100%|██████████| 2/2 [00:03<00:00,  1.87s/it]\n"
     ]
    },
    {
     "name": "stdout",
     "output_type": "stream",
     "text": [
      "2025-06-29 22:14:12 - [trainer.py:2230:_text_grad_constraint_propose_step] - Fail minibatch check, try next proposal: True, 0.7416666666666666 <= 0.7416666666666667\n"
     ]
    },
    {
     "name": "stderr",
     "output_type": "stream",
     "text": [
      "\n",
      "Proposing: 100%|██████████| 5/5 [00:26<00:00,  5.40s/it]\n"
     ]
    },
    {
     "name": "stdout",
     "output_type": "stream",
     "text": [
      "No proposal can improve the subset and full set, and val set\n",
      "Saving checkpoint to C:\\Users\\wuhan\\AppData\\Roaming\\adalflow\\ckpt\\HotPotQAAdal\\constrained_max_steps_12_c89b2_run_1.json\n",
      "Done with proposals\n"
     ]
    },
    {
     "name": "stderr",
     "output_type": "stream",
     "text": [
      "Training Step: 8:  33%|███▎      | 1/3 [00:33<01:07, 33.75s/it]\n",
      "Loading Data: 100%|██████████| 4/4 [00:00<00:00, 780.66it/s]\n",
      "Training: 100%|██████████| 4/4 [00:01<00:00,  2.20it/s]\n",
      "\n",
      "Loading Data: 100%|██████████| 4/4 [00:00<00:00, 813.24it/s]\n",
      "Calculating Loss: 100%|██████████| 4/4 [00:01<00:00,  3.32it/s]\n",
      "Evaluating: 100%|██████████| 8/8 [00:00<00:00, 136.45it/s]\n"
     ]
    },
    {
     "name": "stdout",
     "output_type": "stream",
     "text": [
      "Moving batch eval: EvaluationResult(avg_score=0.6479166666666667, per_item_scores=[0.7666666666666666, 0.7166666666666667, 0.5166666666666667, 0.7166666666666668, 0.7166666666666668, 0.6166666666666667, 0.7166666666666667, 0.41666666666666663], additional_info=None)\n",
      "2025-06-29 22:14:15 - [trainer.py:2172:_text_grad_constraint_propose_step] - Moving batch acc: 0.6479166666666667\n",
      "Moving batch correct size: 7\n",
      "Moving batch error size: 1\n",
      "Subset Error size: 1\n",
      "Subset Correct size: 2\n",
      "Subset score: 0.6166666666666667\n",
      "2025-06-29 22:14:15 - [trainer.py:2178:_text_grad_constraint_propose_step] - Subset batch acc: 0.6166666666666667,0.6166666666666667\n",
      "Subset loss backward...\n",
      "Subset loss backward time: 5.215758323669434\n",
      "Optimizer propose...\n"
     ]
    },
    {
     "name": "stderr",
     "output_type": "stream",
     "text": [
      "\n",
      "Proposing:   0%|          | 0/5 [00:00<?, ?it/s]"
     ]
    },
    {
     "name": "stdout",
     "output_type": "stream",
     "text": [
      "Proposal: 1\n",
      "2025-06-29 22:14:22 - [trainer.py:2204:_text_grad_constraint_propose_step] - Propose time: 1.8415017127990723\n",
      "New prompts:  [PromptData(id='b01271f1-fb33-40ad-979c-5b5cfe3db491', name='llm.task_desc_str', data='To deposit a cheque issued to an associate into your business account, first ensure the cheque is reissued to the proper payee—your business. Then, the associate can endorse the cheque in front of a bank teller with valid ID if depositing directly. Alternatively, they can deposit the cheque into their own account and then write a cheque payable to your business. Having a dedicated business account simplifies this process and ensures compliance with banking regulations, avoiding issues related to payee mismatch.', requires_opt=True)]\n"
     ]
    },
    {
     "name": "stderr",
     "output_type": "stream",
     "text": [
      "\n",
      "\n",
      "Loading Data: 100%|██████████| 3/3 [00:00<00:00, 908.71it/s]\n",
      "Predicting: step(8): 0.6833 across 3 samples, Max potential: 0.6833: 100%|██████████| 3/3 [00:05<00:00,  1.74s/it]\n"
     ]
    },
    {
     "name": "stdout",
     "output_type": "stream",
     "text": [
      "2025-06-29 22:14:28 - [trainer.py:2224:_text_grad_constraint_propose_step] - Pass minibatch check:True, 0.6833333333333332 > 0.6166666666666667\n"
     ]
    },
    {
     "name": "stderr",
     "output_type": "stream",
     "text": [
      "\n",
      "\n",
      "Loading Data: 100%|██████████| 10/10 [00:00<00:00, 2209.04it/s]\n",
      "Predicting: step(8): 0.7071 across 7 samples, Max potential: 0.795:  70%|███████   | 7/10 [00:11<00:04,  1.63s/it] \n"
     ]
    },
    {
     "name": "stdout",
     "output_type": "stream",
     "text": [
      "Optimizer revert: 0.7083333333333333 <= 0.7683333333333333\n"
     ]
    },
    {
     "name": "stderr",
     "output_type": "stream",
     "text": [
      "\n",
      "Proposing:  20%|██        | 1/5 [00:18<01:14, 18.62s/it]"
     ]
    },
    {
     "name": "stdout",
     "output_type": "stream",
     "text": [
      "Proposal: 2\n",
      "2025-06-29 22:14:41 - [trainer.py:2204:_text_grad_constraint_propose_step] - Propose time: 1.7232377529144287\n",
      "New prompts:  [PromptData(id='b01271f1-fb33-40ad-979c-5b5cfe3db491', name='llm.task_desc_str', data=\"To deposit a cheque issued to an associate into your business account, first ensure the cheque is reissued to the business as the proper payee. Then, the associate can endorse the cheque in front of a bank teller with valid ID to deposit it. Alternatively, the cheque can be deposited into the associate's account and then a cheque written to the business. Having the cheque correctly payable to the business simplifies the deposit process and avoids legal complications.\", requires_opt=True)]\n"
     ]
    },
    {
     "name": "stderr",
     "output_type": "stream",
     "text": [
      "\n",
      "\n",
      "Loading Data: 100%|██████████| 3/3 [00:00<00:00, 893.55it/s]\n",
      "Predicting: step(8): 0.7333 across 3 samples, Max potential: 0.7333: 100%|██████████| 3/3 [00:04<00:00,  1.64s/it]\n"
     ]
    },
    {
     "name": "stdout",
     "output_type": "stream",
     "text": [
      "2025-06-29 22:14:46 - [trainer.py:2224:_text_grad_constraint_propose_step] - Pass minibatch check:True, 0.7333333333333334 > 0.6166666666666667\n"
     ]
    },
    {
     "name": "stderr",
     "output_type": "stream",
     "text": [
      "\n",
      "\n",
      "Loading Data: 100%|██████████| 10/10 [00:00<00:00, 1409.76it/s]\n",
      "Predicting: step(8): 0.7208 across 8 samples, Max potential: 0.7767:  80%|████████  | 8/10 [00:12<00:03,  1.53s/it]\n"
     ]
    },
    {
     "name": "stdout",
     "output_type": "stream",
     "text": [
      "Optimizer revert: 0.7314814814814814 <= 0.7683333333333333\n"
     ]
    },
    {
     "name": "stderr",
     "output_type": "stream",
     "text": [
      "\n",
      "Proposing:  40%|████      | 2/5 [00:37<00:56, 18.91s/it]"
     ]
    },
    {
     "name": "stdout",
     "output_type": "stream",
     "text": [
      "Proposal: 3\n",
      "2025-06-29 22:15:00 - [trainer.py:2204:_text_grad_constraint_propose_step] - Propose time: 1.8399741649627686\n",
      "New prompts:  [PromptData(id='b01271f1-fb33-40ad-979c-5b5cfe3db491', name='llm.task_desc_str', data=\"To deposit a cheque issued to an associate into your business account, ensure the cheque is reissued payable to your business. The associate should then endorse the cheque by signing the back in front of a bank teller with valid ID, or deposit it into their own account and write a cheque payable to your business. Establishing a proper payee ensures the cheque's acceptance and compliance with banking regulations, simplifying the deposit process and avoiding legal complications.\", requires_opt=True)]\n"
     ]
    },
    {
     "name": "stderr",
     "output_type": "stream",
     "text": [
      "\n",
      "\n",
      "Loading Data: 100%|██████████| 3/3 [00:00<00:00, 1092.36it/s]\n",
      "Predicting: step(8): 0.7167 across 3 samples, Max potential: 0.7167: 100%|██████████| 3/3 [00:05<00:00,  1.68s/it]\n"
     ]
    },
    {
     "name": "stdout",
     "output_type": "stream",
     "text": [
      "2025-06-29 22:15:05 - [trainer.py:2224:_text_grad_constraint_propose_step] - Pass minibatch check:True, 0.7166666666666667 > 0.6166666666666667\n"
     ]
    },
    {
     "name": "stderr",
     "output_type": "stream",
     "text": [
      "\n",
      "\n",
      "Loading Data: 100%|██████████| 10/10 [00:00<00:00, 2473.49it/s]\n",
      "Predicting: step(8): 0.7 across 7 samples, Max potential: 0.79:  70%|███████   | 7/10 [00:14<00:06,  2.09s/it]     \n"
     ]
    },
    {
     "name": "stdout",
     "output_type": "stream",
     "text": [
      "Optimizer revert: 0.6895833333333333 <= 0.7683333333333333\n"
     ]
    },
    {
     "name": "stderr",
     "output_type": "stream",
     "text": [
      "\n",
      "Proposing:  60%|██████    | 3/5 [00:59<00:40, 20.15s/it]"
     ]
    },
    {
     "name": "stdout",
     "output_type": "stream",
     "text": [
      "Proposal: 4\n",
      "2025-06-29 22:15:22 - [trainer.py:2204:_text_grad_constraint_propose_step] - Propose time: 1.731125831604004\n",
      "New prompts:  [PromptData(id='b01271f1-fb33-40ad-979c-5b5cfe3db491', name='llm.task_desc_str', data='To deposit a cheque issued to an associate into your business account, ensure the cheque is reissued to the business as the proper payee. The associate should then endorse the cheque by signing the back in front of a bank teller with valid ID, or deposit it into their own account and write a cheque payable to your business. Having the cheque properly reissued to the business prevents rejection and legal issues, making the deposit process smoother and compliant.', requires_opt=True)]\n"
     ]
    },
    {
     "name": "stderr",
     "output_type": "stream",
     "text": [
      "\n",
      "\n",
      "Loading Data: 100%|██████████| 3/3 [00:00<00:00, 862.91it/s]\n",
      "Predicting: step(8): 0.65 across 3 samples, Max potential: 0.65: 100%|██████████| 3/3 [00:04<00:00,  1.62s/it]    \n"
     ]
    },
    {
     "name": "stdout",
     "output_type": "stream",
     "text": [
      "2025-06-29 22:15:27 - [trainer.py:2224:_text_grad_constraint_propose_step] - Pass minibatch check:True, 0.65 > 0.6166666666666667\n"
     ]
    },
    {
     "name": "stderr",
     "output_type": "stream",
     "text": [
      "\n",
      "\n",
      "Loading Data: 100%|██████████| 10/10 [00:00<00:00, 2531.11it/s]\n",
      "Predicting: step(8): 0.7767 across 10 samples, Max potential: 0.7767: 100%|██████████| 10/10 [00:15<00:00,  1.60s/it]\n"
     ]
    },
    {
     "name": "stdout",
     "output_type": "stream",
     "text": [
      "Optimizer step: 0.7766666666666666 > 0.7683333333333333\n"
     ]
    },
    {
     "name": "stderr",
     "output_type": "stream",
     "text": [
      "Proposing:  60%|██████    | 3/5 [01:22<00:54, 27.36s/it]\n"
     ]
    },
    {
     "name": "stdout",
     "output_type": "stream",
     "text": [
      "Saving checkpoint to C:\\Users\\wuhan\\AppData\\Roaming\\adalflow\\ckpt\\HotPotQAAdal\\constrained_max_steps_12_c89b2_run_1.json\n",
      "Done with proposals\n"
     ]
    },
    {
     "name": "stderr",
     "output_type": "stream",
     "text": [
      "Training Step: 9:  67%|██████▋   | 2/3 [02:04<01:07, 67.23s/it]\n",
      "Loading Data: 100%|██████████| 2/2 [00:00<00:00, 783.69it/s]\n",
      "Training: 100%|██████████| 2/2 [00:02<00:00,  1.00s/it]\n",
      "\n",
      "Loading Data: 100%|██████████| 2/2 [00:00<00:00, 239.31it/s]\n",
      "Calculating Loss: 100%|██████████| 2/2 [00:01<00:00,  1.52it/s]\n",
      "Evaluating: 100%|██████████| 2/2 [00:00<00:00, 40.23it/s]\n"
     ]
    },
    {
     "name": "stdout",
     "output_type": "stream",
     "text": [
      "Moving batch eval: EvaluationResult(avg_score=0.6166666666666667, per_item_scores=[0.6166666666666667, 0.6166666666666667], additional_info=None)\n",
      "2025-06-29 22:15:46 - [trainer.py:2172:_text_grad_constraint_propose_step] - Moving batch acc: 0.6166666666666667\n",
      "Moving batch correct size: 2\n",
      "Moving batch error size: 0\n",
      "Subset Error size: 0\n",
      "Subset Correct size: 2\n",
      "Subset score: 0.6166666666666667\n",
      "2025-06-29 22:15:46 - [trainer.py:2178:_text_grad_constraint_propose_step] - Subset batch acc: 0.6166666666666667,0.6166666666666667\n",
      "Subset loss backward...\n",
      "Subset loss backward time: 6.042140960693359\n",
      "Optimizer propose...\n"
     ]
    },
    {
     "name": "stderr",
     "output_type": "stream",
     "text": [
      "\n",
      "Proposing:   0%|          | 0/5 [00:00<?, ?it/s]"
     ]
    },
    {
     "name": "stdout",
     "output_type": "stream",
     "text": [
      "Proposal: 1\n",
      "2025-06-29 22:15:54 - [trainer.py:2204:_text_grad_constraint_propose_step] - Propose time: 1.6159522533416748\n",
      "New prompts:  [PromptData(id='b01271f1-fb33-40ad-979c-5b5cfe3db491', name='llm.task_desc_str', data=\"To transfer your 401k funds after your business closure, first contact your plan administrator to confirm they accept rollovers and get the necessary paperwork. Make sure the check for the transfer is payable directly to your new IRA custodian or the new employer's plan, not to you personally. Send the check directly to the new custodian or plan administrator. If the check is issued to you, endorse it and deposit or send it to the new account, but a direct transfer is preferable to avoid complications. Proper check reissuance ensures a smooth transfer of your retirement funds.\", requires_opt=True)]\n"
     ]
    },
    {
     "name": "stderr",
     "output_type": "stream",
     "text": [
      "\n",
      "\n",
      "Loading Data: 100%|██████████| 2/2 [00:00<00:00, 540.85it/s]\n",
      "Predicting: step(9): 0.6917 across 2 samples, Max potential: 0.6917: 100%|██████████| 2/2 [00:04<00:00,  2.09s/it]\n"
     ]
    },
    {
     "name": "stdout",
     "output_type": "stream",
     "text": [
      "2025-06-29 22:15:58 - [trainer.py:2224:_text_grad_constraint_propose_step] - Pass minibatch check:True, 0.6916666666666667 > 0.6166666666666667\n"
     ]
    },
    {
     "name": "stderr",
     "output_type": "stream",
     "text": [
      "\n",
      "\n",
      "Loading Data: 100%|██████████| 10/10 [00:00<00:00, 1277.27it/s]\n",
      "Predicting: step(9): 0.7593 across 9 samples, Max potential: 0.7833:  90%|█████████ | 9/10 [00:13<00:01,  1.54s/it]\n"
     ]
    },
    {
     "name": "stdout",
     "output_type": "stream",
     "text": [
      "Optimizer revert: 0.7683333333333333 <= 0.7766666666666666\n"
     ]
    },
    {
     "name": "stderr",
     "output_type": "stream",
     "text": [
      "\n",
      "Proposing:  20%|██        | 1/5 [00:20<01:20, 20.03s/it]"
     ]
    },
    {
     "name": "stdout",
     "output_type": "stream",
     "text": [
      "Proposal: 2\n",
      "2025-06-29 22:16:15 - [trainer.py:2204:_text_grad_constraint_propose_step] - Propose time: 2.181833505630493\n",
      "New prompts:  [PromptData(id='b01271f1-fb33-40ad-979c-5b5cfe3db491', name='llm.task_desc_str', data=\"To transfer your 401k after your business has closed, contact your plan administrator to confirm they accept rollovers and request the necessary paperwork. Ensure that the check for the transfer is made payable directly to your new IRA custodian or the new employer's plan, not to you personally. Send the check directly to the new custodian or plan administrator. If the check is issued to you, endorse it and deposit it into your IRA or send it to the new plan, but direct transfer is preferred to prevent issues. Proper reissuance of the check to the new account will ensure a smooth and compliant transfer of your retirement funds.\", requires_opt=True)]\n"
     ]
    },
    {
     "name": "stderr",
     "output_type": "stream",
     "text": [
      "\n",
      "\n",
      "Loading Data: 100%|██████████| 2/2 [00:00<00:00, 902.58it/s]\n",
      "Predicting: step(9): 0.6917 across 2 samples, Max potential: 0.6917: 100%|██████████| 2/2 [00:04<00:00,  2.20s/it]\n"
     ]
    },
    {
     "name": "stdout",
     "output_type": "stream",
     "text": [
      "2025-06-29 22:16:19 - [trainer.py:2224:_text_grad_constraint_propose_step] - Pass minibatch check:True, 0.6916666666666667 > 0.6166666666666667\n"
     ]
    },
    {
     "name": "stderr",
     "output_type": "stream",
     "text": [
      "\n",
      "\n",
      "Loading Data: 100%|██████████| 10/10 [00:00<00:00, 1702.51it/s]\n",
      "Predicting: step(9): 0.7333 across 7 samples, Max potential: 0.8133:  70%|███████   | 7/10 [00:13<00:05,  1.86s/it]\n"
     ]
    },
    {
     "name": "stdout",
     "output_type": "stream",
     "text": [
      "Optimizer revert: 0.71875 <= 0.7766666666666666\n"
     ]
    },
    {
     "name": "stderr",
     "output_type": "stream",
     "text": [
      "\n",
      "Proposing:  40%|████      | 2/5 [00:39<00:59, 19.94s/it]"
     ]
    },
    {
     "name": "stdout",
     "output_type": "stream",
     "text": [
      "Proposal: 3\n",
      "2025-06-29 22:16:34 - [trainer.py:2204:_text_grad_constraint_propose_step] - Propose time: 1.8340301513671875\n",
      "New prompts:  [PromptData(id='b01271f1-fb33-40ad-979c-5b5cfe3db491', name='llm.task_desc_str', data=\"To transfer your 401k funds after your business has closed, contact your plan administrator to confirm they accept rollovers and obtain the necessary paperwork. Make sure the check for the transfer is payable directly to your new IRA custodian or the new employer's plan, not to you personally. Send the check directly to the new custodian or plan administrator. If the check is issued to you, endorse it and deposit or send it to the new account, but direct transfer is preferred to prevent complications and ensure compliance.\", requires_opt=True)]\n"
     ]
    },
    {
     "name": "stderr",
     "output_type": "stream",
     "text": [
      "\n",
      "\n",
      "Loading Data: 100%|██████████| 2/2 [00:00<00:00, 809.01it/s]\n",
      "Predicting: step(9): 0.7667 across 2 samples, Max potential: 0.7667: 100%|██████████| 2/2 [00:03<00:00,  1.86s/it]\n"
     ]
    },
    {
     "name": "stdout",
     "output_type": "stream",
     "text": [
      "2025-06-29 22:16:38 - [trainer.py:2224:_text_grad_constraint_propose_step] - Pass minibatch check:True, 0.7666666666666666 > 0.6166666666666667\n"
     ]
    },
    {
     "name": "stderr",
     "output_type": "stream",
     "text": [
      "\n",
      "\n",
      "Loading Data: 100%|██████████| 10/10 [00:00<00:00, 229.94it/s]\n",
      "Predicting: step(9): 0.7667 across 9 samples, Max potential: 0.79:  90%|█████████ | 9/10 [00:14<00:01,  1.56s/it]  \n"
     ]
    },
    {
     "name": "stdout",
     "output_type": "stream",
     "text": [
      "Optimizer revert: 0.775 <= 0.7766666666666666\n"
     ]
    },
    {
     "name": "stderr",
     "output_type": "stream",
     "text": [
      "\n",
      "Proposing:  60%|██████    | 3/5 [00:59<00:39, 19.93s/it]"
     ]
    },
    {
     "name": "stdout",
     "output_type": "stream",
     "text": [
      "Proposal: 4\n",
      "2025-06-29 22:16:54 - [trainer.py:2204:_text_grad_constraint_propose_step] - Propose time: 2.243978977203369\n",
      "New prompts:  [PromptData(id='b01271f1-fb33-40ad-979c-5b5cfe3db491', name='llm.task_desc_str', data=\"To transfer your 401k funds after your business has closed, first contact your plan administrator to confirm they accept rollovers and to obtain the necessary paperwork. Ensure that the check for the transfer is made payable directly to your new IRA custodian or the new employer's plan, not to you personally. The check should then be sent directly to the new custodian or plan administrator. If the check is issued to you, endorse it and deposit it into your IRA or send it to the new plan, but direct transfer is preferred to avoid complications. Proper reissuance of the check to the new account helps prevent rejection and ensures a smooth, compliant transfer of your retirement funds.\", requires_opt=True)]\n"
     ]
    },
    {
     "name": "stderr",
     "output_type": "stream",
     "text": [
      "\n",
      "\n",
      "Loading Data: 100%|██████████| 2/2 [00:00<00:00, 808.85it/s]\n",
      "Predicting: step(9): 0.6667 across 2 samples, Max potential: 0.6667: 100%|██████████| 2/2 [00:04<00:00,  2.05s/it]\n"
     ]
    },
    {
     "name": "stdout",
     "output_type": "stream",
     "text": [
      "2025-06-29 22:16:59 - [trainer.py:2224:_text_grad_constraint_propose_step] - Pass minibatch check:True, 0.6666666666666667 > 0.6166666666666667\n"
     ]
    },
    {
     "name": "stderr",
     "output_type": "stream",
     "text": [
      "\n",
      "\n",
      "Loading Data: 100%|██████████| 10/10 [00:00<00:00, 2547.72it/s]\n",
      "Predicting: step(9): 0.7238 across 7 samples, Max potential: 0.8067:  70%|███████   | 7/10 [00:12<00:05,  1.75s/it]\n"
     ]
    },
    {
     "name": "stdout",
     "output_type": "stream",
     "text": [
      "Optimizer revert: 0.7104166666666667 <= 0.7766666666666666\n"
     ]
    },
    {
     "name": "stderr",
     "output_type": "stream",
     "text": [
      "\n",
      "Proposing:  80%|████████  | 4/5 [01:18<00:19, 19.49s/it]"
     ]
    },
    {
     "name": "stdout",
     "output_type": "stream",
     "text": [
      "Proposal: 5\n",
      "2025-06-29 22:17:13 - [trainer.py:2204:_text_grad_constraint_propose_step] - Propose time: 2.1618497371673584\n",
      "New prompts:  [PromptData(id='b01271f1-fb33-40ad-979c-5b5cfe3db491', name='llm.task_desc_str', data=\"To transfer your 401k funds after your business has closed, you should first contact your plan administrator to confirm they accept rollovers and to obtain the necessary paperwork. Ensure that the check for the transfer is made payable directly to your new IRA custodian or the new employer's plan, not to you personally. The check should then be sent directly to the new custodian or plan administrator. If the check is issued to you, you must endorse it and deposit it into your IRA or send it to the new plan, but direct transfer is preferred to avoid complications. Proper reissuance of the check to the new account helps prevent rejection and ensures a smooth, compliant transfer of your retirement funds.\", requires_opt=True)]\n"
     ]
    },
    {
     "name": "stderr",
     "output_type": "stream",
     "text": [
      "\n",
      "\n",
      "Loading Data: 100%|██████████| 2/2 [00:00<00:00, 224.09it/s]\n",
      "Predicting: step(9): 0.6917 across 2 samples, Max potential: 0.6917: 100%|██████████| 2/2 [00:03<00:00,  1.61s/it]\n"
     ]
    },
    {
     "name": "stdout",
     "output_type": "stream",
     "text": [
      "2025-06-29 22:17:17 - [trainer.py:2224:_text_grad_constraint_propose_step] - Pass minibatch check:True, 0.6916666666666667 > 0.6166666666666667\n"
     ]
    },
    {
     "name": "stderr",
     "output_type": "stream",
     "text": [
      "\n",
      "\n",
      "Loading Data: 100%|██████████| 10/10 [00:00<00:00, 2468.25it/s]\n",
      "Predicting: step(9): 0.7271 across 8 samples, Max potential: 0.7817:  80%|████████  | 8/10 [00:12<00:03,  1.54s/it]\n"
     ]
    },
    {
     "name": "stdout",
     "output_type": "stream",
     "text": [
      "Optimizer revert: 0.7314814814814814 <= 0.7766666666666666\n"
     ]
    },
    {
     "name": "stderr",
     "output_type": "stream",
     "text": [
      "\n",
      "Proposing: 100%|██████████| 5/5 [01:36<00:00, 19.34s/it]\n"
     ]
    },
    {
     "name": "stdout",
     "output_type": "stream",
     "text": [
      "No proposal can improve the subset and full set, and val set\n",
      "Saving checkpoint to C:\\Users\\wuhan\\AppData\\Roaming\\adalflow\\ckpt\\HotPotQAAdal\\constrained_max_steps_12_c89b2_run_1.json\n",
      "Done with proposals\n"
     ]
    },
    {
     "name": "stderr",
     "output_type": "stream",
     "text": [
      "Training Step: 9: 100%|██████████| 3/3 [03:50<00:00, 76.97s/it]\n",
      "Epoch:  60%|██████    | 3/5 [08:41<06:12, 186.23s/it]"
     ]
    },
    {
     "name": "stdout",
     "output_type": "stream",
     "text": [
      "Epoch: 3\n"
     ]
    },
    {
     "name": "stderr",
     "output_type": "stream",
     "text": [
      "Training Step: 10:   0%|          | 0/3 [00:00<?, ?it/s]\n",
      "Loading Data: 100%|██████████| 4/4 [00:00<00:00, 725.00it/s]\n",
      "Training: 100%|██████████| 4/4 [00:01<00:00,  2.21it/s]\n",
      "\n",
      "Loading Data:   0%|          | 0/4 [00:00<?, ?it/s]\n",
      "Loading Data: 100%|██████████| 4/4 [00:00<00:00, 34.93it/s]\n",
      "Calculating Loss: 100%|██████████| 4/4 [00:01<00:00,  3.08it/s]\n",
      "Evaluating: 100%|██████████| 6/6 [00:00<00:00, 145.79it/s]\n"
     ]
    },
    {
     "name": "stdout",
     "output_type": "stream",
     "text": [
      "Moving batch eval: EvaluationResult(avg_score=0.7166666666666667, per_item_scores=[0.6166666666666667, 0.6166666666666667, 0.7666666666666666, 0.7666666666666666, 0.7666666666666666, 0.7666666666666666], additional_info=None)\n",
      "2025-06-29 22:17:33 - [trainer.py:2172:_text_grad_constraint_propose_step] - Moving batch acc: 0.7166666666666667\n",
      "Moving batch correct size: 6\n",
      "Moving batch error size: 0\n",
      "Subset Error size: 0\n",
      "Subset Correct size: 2\n",
      "Subset score: 0.6916666666666667\n",
      "2025-06-29 22:17:33 - [trainer.py:2178:_text_grad_constraint_propose_step] - Subset batch acc: 0.6916666666666667,0.6916666666666667\n",
      "Subset loss backward...\n",
      "Subset loss backward time: 4.363311290740967\n",
      "Optimizer propose...\n"
     ]
    },
    {
     "name": "stderr",
     "output_type": "stream",
     "text": [
      "\n",
      "Proposing:   0%|          | 0/5 [00:00<?, ?it/s]"
     ]
    },
    {
     "name": "stdout",
     "output_type": "stream",
     "text": [
      "Proposal: 1\n",
      "2025-06-29 22:17:39 - [trainer.py:2204:_text_grad_constraint_propose_step] - Propose time: 2.046049118041992\n",
      "New prompts:  [PromptData(id='b01271f1-fb33-40ad-979c-5b5cfe3db491', name='llm.task_desc_str', data=\"To transfer your 401k funds after your business has closed, first contact your plan administrator to confirm they accept rollovers and to obtain the necessary paperwork. Ensure that the check for the transfer is made payable directly to your new IRA custodian or the new employer's plan, not to you personally. The check should then be sent directly to the new custodian or plan administrator. If the check is issued to you, you must endorse it and deposit it into your IRA or send it to the new plan, but direct transfer is preferred to avoid complications. Proper reissuance of the check to the new account helps prevent rejection and ensures a smooth, compliant transfer of your retirement funds.\", requires_opt=True)]\n"
     ]
    },
    {
     "name": "stderr",
     "output_type": "stream",
     "text": [
      "\n",
      "\n",
      "Loading Data: 100%|██████████| 2/2 [00:00<00:00, 348.39it/s]\n",
      "Predicting: step(10): 0.6917 across 2 samples, Max potential: 0.6917: 100%|██████████| 2/2 [00:04<00:00,  2.29s/it]\n"
     ]
    },
    {
     "name": "stdout",
     "output_type": "stream",
     "text": [
      "2025-06-29 22:17:44 - [trainer.py:2230:_text_grad_constraint_propose_step] - Fail minibatch check, try next proposal: True, 0.6916666666666667 <= 0.6916666666666667\n"
     ]
    },
    {
     "name": "stderr",
     "output_type": "stream",
     "text": [
      "\n",
      "Proposing:  20%|██        | 1/5 [00:06<00:27,  7.00s/it]"
     ]
    },
    {
     "name": "stdout",
     "output_type": "stream",
     "text": [
      "Proposal: 2\n",
      "2025-06-29 22:17:46 - [trainer.py:2204:_text_grad_constraint_propose_step] - Propose time: 2.1643731594085693\n",
      "New prompts:  [PromptData(id='b01271f1-fb33-40ad-979c-5b5cfe3db491', name='llm.task_desc_str', data=\"To transfer your 401k funds after your business has closed, you should first contact your plan administrator to confirm they accept rollovers and to obtain the necessary paperwork. Ensure that the check for the transfer is made payable directly to your new IRA custodian or the new employer's plan, not to you personally. The check should then be sent directly to the new custodian or plan administrator. If the check is issued to you, you must endorse it and deposit it into your IRA or send it to the new plan, but direct transfer is preferred to avoid complications. Proper reissuance of the check to the new account helps prevent rejection and ensures a smooth, compliant transfer of your retirement funds.\", requires_opt=True)]\n"
     ]
    },
    {
     "name": "stderr",
     "output_type": "stream",
     "text": [
      "\n",
      "\n",
      "Loading Data: 100%|██████████| 2/2 [00:00<00:00, 549.50it/s]\n",
      "Predicting: step(10): 0.6167 across 2 samples, Max potential: 0.6167: 100%|██████████| 2/2 [00:03<00:00,  1.53s/it]\n"
     ]
    },
    {
     "name": "stdout",
     "output_type": "stream",
     "text": [
      "2025-06-29 22:17:50 - [trainer.py:2230:_text_grad_constraint_propose_step] - Fail minibatch check, try next proposal: True, 0.6166666666666667 <= 0.6916666666666667\n"
     ]
    },
    {
     "name": "stderr",
     "output_type": "stream",
     "text": [
      "\n",
      "Proposing:  40%|████      | 2/5 [00:12<00:18,  6.14s/it]"
     ]
    },
    {
     "name": "stdout",
     "output_type": "stream",
     "text": [
      "Proposal: 3\n",
      "2025-06-29 22:17:52 - [trainer.py:2204:_text_grad_constraint_propose_step] - Propose time: 2.4409396648406982\n",
      "New prompts:  [PromptData(id='b01271f1-fb33-40ad-979c-5b5cfe3db491', name='llm.task_desc_str', data=\"To transfer your 401k funds after your business has closed, you should first contact your plan administrator to confirm they accept rollovers and to obtain the necessary paperwork. Ensure that the check for the transfer is made payable directly to your new IRA custodian or the new employer's plan, not to you personally. The check should then be sent directly to the new custodian or plan administrator. If the check is issued to you, you must endorse it and deposit it into your IRA or send it to the new plan, but direct transfer is preferred to avoid complications. Proper reissuance of the check to the new account helps prevent rejection and ensures a smooth, compliant transfer of your retirement funds.\", requires_opt=True)]\n"
     ]
    },
    {
     "name": "stderr",
     "output_type": "stream",
     "text": [
      "\n",
      "\n",
      "Loading Data: 100%|██████████| 2/2 [00:00<00:00, 513.25it/s]\n",
      "Predicting: step(10): 0.6167 across 2 samples, Max potential: 0.6167: 100%|██████████| 2/2 [00:00<00:00, 52.58it/s]\n"
     ]
    },
    {
     "name": "stdout",
     "output_type": "stream",
     "text": [
      "2025-06-29 22:17:52 - [trainer.py:2230:_text_grad_constraint_propose_step] - Fail minibatch check, try next proposal: True, 0.6166666666666667 <= 0.6916666666666667\n"
     ]
    },
    {
     "name": "stderr",
     "output_type": "stream",
     "text": [
      "\n",
      "Proposing:  60%|██████    | 3/5 [00:15<00:09,  4.59s/it]"
     ]
    },
    {
     "name": "stdout",
     "output_type": "stream",
     "text": [
      "Proposal: 4\n",
      "2025-06-29 22:17:55 - [trainer.py:2204:_text_grad_constraint_propose_step] - Propose time: 2.186901807785034\n",
      "New prompts:  [PromptData(id='b01271f1-fb33-40ad-979c-5b5cfe3db491', name='llm.task_desc_str', data=\"To transfer your 401k funds after your business has closed, you should first contact your plan administrator to confirm they accept rollovers and to obtain the necessary paperwork. Ensure that the check for the transfer is made payable directly to your new IRA custodian or the new employer's plan, not to you personally. The check should then be sent directly to the new custodian or plan administrator. If the check is issued to you, you must endorse it and deposit it into your IRA or send it to the new plan, but direct transfer is preferred to avoid complications. Proper reissuance of the check to the new account helps prevent rejection and ensures a smooth, compliant transfer of your retirement funds.\", requires_opt=True)]\n"
     ]
    },
    {
     "name": "stderr",
     "output_type": "stream",
     "text": [
      "\n",
      "\n",
      "Loading Data: 100%|██████████| 2/2 [00:00<00:00, 293.29it/s]\n",
      "Predicting: step(10): 0.6167 across 2 samples, Max potential: 0.6167: 100%|██████████| 2/2 [00:00<00:00, 124.67it/s]\n"
     ]
    },
    {
     "name": "stdout",
     "output_type": "stream",
     "text": [
      "2025-06-29 22:17:55 - [trainer.py:2230:_text_grad_constraint_propose_step] - Fail minibatch check, try next proposal: True, 0.6166666666666667 <= 0.6916666666666667\n"
     ]
    },
    {
     "name": "stderr",
     "output_type": "stream",
     "text": [
      "\n",
      "Proposing:  80%|████████  | 4/5 [00:17<00:03,  3.77s/it]"
     ]
    },
    {
     "name": "stdout",
     "output_type": "stream",
     "text": [
      "Proposal: 5\n",
      "2025-06-29 22:17:57 - [trainer.py:2204:_text_grad_constraint_propose_step] - Propose time: 2.0566680431365967\n",
      "New prompts:  [PromptData(id='b01271f1-fb33-40ad-979c-5b5cfe3db491', name='llm.task_desc_str', data=\"To transfer your 401k funds after your business has closed, you should first contact your plan administrator to confirm they accept rollovers and to obtain the necessary paperwork. Ensure that the check for the transfer is made payable directly to your new IRA custodian or the new employer's plan, not to you personally. The check should then be sent directly to the new custodian or plan administrator. If the check is issued to you, you must endorse it and deposit it into your IRA or send it to the new plan, but direct transfer is preferred to avoid complications. Proper reissuance of the check to the new account helps prevent rejection and ensures a smooth, compliant transfer of your retirement funds.\", requires_opt=True)]\n"
     ]
    },
    {
     "name": "stderr",
     "output_type": "stream",
     "text": [
      "\n",
      "\n",
      "Loading Data: 100%|██████████| 2/2 [00:00<00:00, 657.05it/s]\n",
      "Predicting: step(10): 0.6167 across 2 samples, Max potential: 0.6167: 100%|██████████| 2/2 [00:00<00:00, 127.30it/s]\n"
     ]
    },
    {
     "name": "stdout",
     "output_type": "stream",
     "text": [
      "2025-06-29 22:17:57 - [trainer.py:2230:_text_grad_constraint_propose_step] - Fail minibatch check, try next proposal: True, 0.6166666666666667 <= 0.6916666666666667\n"
     ]
    },
    {
     "name": "stderr",
     "output_type": "stream",
     "text": [
      "\n",
      "Proposing: 100%|██████████| 5/5 [00:20<00:00,  4.01s/it]\n"
     ]
    },
    {
     "name": "stdout",
     "output_type": "stream",
     "text": [
      "No proposal can improve the subset and full set, and val set\n",
      "Saving checkpoint to C:\\Users\\wuhan\\AppData\\Roaming\\adalflow\\ckpt\\HotPotQAAdal\\constrained_max_steps_12_c89b2_run_1.json\n",
      "Done with proposals\n"
     ]
    },
    {
     "name": "stderr",
     "output_type": "stream",
     "text": [
      "Training Step: 11:  33%|███▎      | 1/3 [00:28<00:56, 28.03s/it]\n",
      "Loading Data: 100%|██████████| 4/4 [00:00<00:00, 575.27it/s]\n",
      "Training: 100%|██████████| 4/4 [00:01<00:00,  2.36it/s]\n",
      "\n",
      "Loading Data: 100%|██████████| 4/4 [00:00<00:00, 233.37it/s]\n",
      "Calculating Loss: 100%|██████████| 4/4 [00:01<00:00,  2.75it/s]\n",
      "Evaluating: 100%|██████████| 10/10 [00:00<00:00, 116.79it/s]\n"
     ]
    },
    {
     "name": "stdout",
     "output_type": "stream",
     "text": [
      "Moving batch eval: EvaluationResult(avg_score=0.6766666666666667, per_item_scores=[0.6166666666666667, 0.6166666666666667, 0.7666666666666666, 0.7666666666666666, 0.7666666666666666, 0.7666666666666666, 0.7166666666666667, 0.6666666666666667, 0.6166666666666667, 0.4666666666666667], additional_info=None)\n",
      "2025-06-29 22:18:01 - [trainer.py:2172:_text_grad_constraint_propose_step] - Moving batch acc: 0.6766666666666667\n",
      "Moving batch correct size: 9\n",
      "Moving batch error size: 1\n",
      "Subset Error size: 1\n",
      "Subset Correct size: 2\n",
      "Subset score: 0.65\n",
      "2025-06-29 22:18:01 - [trainer.py:2178:_text_grad_constraint_propose_step] - Subset batch acc: 0.65,0.65\n",
      "Subset loss backward...\n",
      "Subset loss backward time: 6.666033506393433\n",
      "Optimizer propose...\n"
     ]
    },
    {
     "name": "stderr",
     "output_type": "stream",
     "text": [
      "\n",
      "Proposing:   0%|          | 0/5 [00:00<?, ?it/s]"
     ]
    },
    {
     "name": "stdout",
     "output_type": "stream",
     "text": [
      "Proposal: 1\n",
      "2025-06-29 22:18:09 - [trainer.py:2204:_text_grad_constraint_propose_step] - Propose time: 1.4298927783966064\n",
      "New prompts:  [PromptData(id='b01271f1-fb33-40ad-979c-5b5cfe3db491', name='llm.task_desc_str', data='Request the associate to reissue the cheque directly to your business as the payee. Once reissued, endorse it if needed and deposit it into your business account. This ensures proper processing, legality, and compliance.', requires_opt=True)]\n"
     ]
    },
    {
     "name": "stderr",
     "output_type": "stream",
     "text": [
      "\n",
      "\n",
      "Loading Data: 100%|██████████| 3/3 [00:00<00:00, 543.28it/s]\n",
      "Predicting: step(11): 0.6333 across 3 samples, Max potential: 0.6333: 100%|██████████| 3/3 [00:05<00:00,  1.76s/it]\n"
     ]
    },
    {
     "name": "stdout",
     "output_type": "stream",
     "text": [
      "2025-06-29 22:18:14 - [trainer.py:2230:_text_grad_constraint_propose_step] - Fail minibatch check, try next proposal: True, 0.6333333333333333 <= 0.65\n"
     ]
    },
    {
     "name": "stderr",
     "output_type": "stream",
     "text": [
      "\n",
      "Proposing:  20%|██        | 1/5 [00:07<00:28,  7.10s/it]"
     ]
    },
    {
     "name": "stdout",
     "output_type": "stream",
     "text": [
      "Proposal: 2\n",
      "2025-06-29 22:18:16 - [trainer.py:2204:_text_grad_constraint_propose_step] - Propose time: 1.4823226928710938\n",
      "New prompts:  [PromptData(id='b01271f1-fb33-40ad-979c-5b5cfe3db491', name='llm.task_desc_str', data='Request the associate to have the cheque reissued to your business as the payee. Once you have the cheque made out to the business, endorse it if necessary, or deposit it directly into your business account, ensuring proper documentation. This approach ensures a smooth deposit process and compliance with banking regulations.', requires_opt=True)]\n"
     ]
    },
    {
     "name": "stderr",
     "output_type": "stream",
     "text": [
      "\n",
      "\n",
      "Loading Data: 100%|██████████| 3/3 [00:00<00:00, 757.46it/s]\n",
      "Predicting: step(11): 0.6944 across 3 samples, Max potential: 0.6944: 100%|██████████| 3/3 [00:03<00:00,  1.19s/it]\n"
     ]
    },
    {
     "name": "stdout",
     "output_type": "stream",
     "text": [
      "2025-06-29 22:18:20 - [trainer.py:2224:_text_grad_constraint_propose_step] - Pass minibatch check:True, 0.6944444444444445 > 0.65\n"
     ]
    },
    {
     "name": "stderr",
     "output_type": "stream",
     "text": [
      "\n",
      "\n",
      "Loading Data: 100%|██████████| 10/10 [00:00<00:00, 1509.50it/s]\n",
      "Predicting: step(11): 0.5933 across 5 samples, Max potential: 0.7967:  50%|█████     | 5/10 [00:08<00:08,  1.72s/it]\n"
     ]
    },
    {
     "name": "stdout",
     "output_type": "stream",
     "text": [
      "Optimizer revert: 0.6222222222222221 <= 0.7766666666666666\n"
     ]
    },
    {
     "name": "stderr",
     "output_type": "stream",
     "text": [
      "\n",
      "Proposing:  40%|████      | 2/5 [00:21<00:33, 11.17s/it]"
     ]
    },
    {
     "name": "stdout",
     "output_type": "stream",
     "text": [
      "Proposal: 3\n",
      "2025-06-29 22:18:30 - [trainer.py:2204:_text_grad_constraint_propose_step] - Propose time: 1.8905823230743408\n",
      "New prompts:  [PromptData(id='b01271f1-fb33-40ad-979c-5b5cfe3db491', name='llm.task_desc_str', data='To deposit a cheque issued to an associate into your business account, ensure the cheque is reissued to the business as the proper payee. The associate should endorse the cheque by signing the back in front of a bank teller with valid ID, or deposit it into their own account and write a cheque payable to your business. Having the cheque properly reissued to the business prevents rejection and legal issues, making the deposit process smoother and compliant.', requires_opt=True)]\n"
     ]
    },
    {
     "name": "stderr",
     "output_type": "stream",
     "text": [
      "\n",
      "\n",
      "Loading Data: 100%|██████████| 3/3 [00:00<00:00, 942.61it/s]\n",
      "Predicting: step(11): 0.7167 across 3 samples, Max potential: 0.7167: 100%|██████████| 3/3 [00:04<00:00,  1.55s/it]\n"
     ]
    },
    {
     "name": "stdout",
     "output_type": "stream",
     "text": [
      "2025-06-29 22:18:35 - [trainer.py:2224:_text_grad_constraint_propose_step] - Pass minibatch check:True, 0.7166666666666667 > 0.65\n"
     ]
    },
    {
     "name": "stderr",
     "output_type": "stream",
     "text": [
      "\n",
      "\n",
      "Loading Data: 100%|██████████| 10/10 [00:00<00:00, 2536.47it/s]\n",
      "Predicting: step(11): 0.7458 across 8 samples, Max potential: 0.7967:  80%|████████  | 8/10 [00:13<00:03,  1.65s/it]\n"
     ]
    },
    {
     "name": "stdout",
     "output_type": "stream",
     "text": [
      "Optimizer revert: 0.748148148148148 <= 0.7766666666666666\n"
     ]
    },
    {
     "name": "stderr",
     "output_type": "stream",
     "text": [
      "\n",
      "Proposing:  60%|██████    | 3/5 [00:41<00:30, 15.25s/it]"
     ]
    },
    {
     "name": "stdout",
     "output_type": "stream",
     "text": [
      "Proposal: 4\n",
      "2025-06-29 22:18:50 - [trainer.py:2204:_text_grad_constraint_propose_step] - Propose time: 1.5157647132873535\n",
      "New prompts:  [PromptData(id='b01271f1-fb33-40ad-979c-5b5cfe3db491', name='llm.task_desc_str', data='Request the associate to have the cheque reissued to your business as the payee. Once you have the cheque made out to the business, endorse it if necessary, or deposit it directly into your business account, ensuring proper documentation. This approach ensures a smooth deposit process and compliance with banking regulations.', requires_opt=True)]\n"
     ]
    },
    {
     "name": "stderr",
     "output_type": "stream",
     "text": [
      "\n",
      "\n",
      "Loading Data: 100%|██████████| 3/3 [00:00<00:00, 1064.45it/s]\n",
      "Predicting: step(11): 0.6944 across 3 samples, Max potential: 0.6944: 100%|██████████| 3/3 [00:00<00:00, 99.87it/s]\n"
     ]
    },
    {
     "name": "stdout",
     "output_type": "stream",
     "text": [
      "2025-06-29 22:18:50 - [trainer.py:2224:_text_grad_constraint_propose_step] - Pass minibatch check:True, 0.6944444444444445 > 0.65\n"
     ]
    },
    {
     "name": "stderr",
     "output_type": "stream",
     "text": [
      "\n",
      "\n",
      "Loading Data: 100%|██████████| 10/10 [00:00<00:00, 1702.79it/s]\n",
      "Predicting: step(11): 0.5933 across 5 samples, Max potential: 0.7967:  50%|█████     | 5/10 [00:00<00:00, 92.04it/s]\n"
     ]
    },
    {
     "name": "stdout",
     "output_type": "stream",
     "text": [
      "Optimizer revert: 0.6222222222222221 <= 0.7766666666666666\n"
     ]
    },
    {
     "name": "stderr",
     "output_type": "stream",
     "text": [
      "\n",
      "Proposing:  80%|████████  | 4/5 [00:43<00:09,  9.95s/it]"
     ]
    },
    {
     "name": "stdout",
     "output_type": "stream",
     "text": [
      "Proposal: 5\n",
      "2025-06-29 22:18:52 - [trainer.py:2204:_text_grad_constraint_propose_step] - Propose time: 1.5823876857757568\n",
      "New prompts:  [PromptData(id='b01271f1-fb33-40ad-979c-5b5cfe3db491', name='llm.task_desc_str', data='Request the associate to have the cheque reissued to your business as the payee. Once you have the cheque made out to the business, endorse it if necessary, or deposit it directly into your business account, ensuring proper documentation. This approach ensures a smooth deposit process and compliance with banking regulations.', requires_opt=True)]\n"
     ]
    },
    {
     "name": "stderr",
     "output_type": "stream",
     "text": [
      "\n",
      "\n",
      "Loading Data: 100%|██████████| 3/3 [00:00<00:00, 931.24it/s]\n",
      "Predicting: step(11): 0.6944 across 3 samples, Max potential: 0.6944: 100%|██████████| 3/3 [00:00<00:00, 128.08it/s]\n"
     ]
    },
    {
     "name": "stdout",
     "output_type": "stream",
     "text": [
      "2025-06-29 22:18:52 - [trainer.py:2224:_text_grad_constraint_propose_step] - Pass minibatch check:True, 0.6944444444444445 > 0.65\n"
     ]
    },
    {
     "name": "stderr",
     "output_type": "stream",
     "text": [
      "\n",
      "\n",
      "Loading Data: 100%|██████████| 10/10 [00:00<00:00, 1063.52it/s]\n",
      "Predicting: step(11): 0.5933 across 5 samples, Max potential: 0.7967:  50%|█████     | 5/10 [00:00<00:00, 128.98it/s]\n"
     ]
    },
    {
     "name": "stdout",
     "output_type": "stream",
     "text": [
      "Optimizer revert: 0.6222222222222221 <= 0.7766666666666666\n"
     ]
    },
    {
     "name": "stderr",
     "output_type": "stream",
     "text": [
      "\n",
      "Proposing: 100%|██████████| 5/5 [00:44<00:00,  8.98s/it]\n"
     ]
    },
    {
     "name": "stdout",
     "output_type": "stream",
     "text": [
      "No proposal can improve the subset and full set, and val set\n",
      "Saving checkpoint to C:\\Users\\wuhan\\AppData\\Roaming\\adalflow\\ckpt\\HotPotQAAdal\\constrained_max_steps_12_c89b2_run_1.json\n",
      "Done with proposals\n"
     ]
    },
    {
     "name": "stderr",
     "output_type": "stream",
     "text": [
      "Training Step: 12:  67%|██████▋   | 2/3 [01:23<00:44, 44.00s/it]\n",
      "Loading Data: 100%|██████████| 2/2 [00:00<00:00, 929.59it/s]\n",
      "Training: 100%|██████████| 2/2 [00:01<00:00,  1.76it/s]\n",
      "\n",
      "Loading Data: 100%|██████████| 2/2 [00:00<00:00, 870.10it/s]\n",
      "Calculating Loss: 100%|██████████| 2/2 [00:01<00:00,  1.93it/s]\n",
      "Evaluating: 100%|██████████| 12/12 [00:00<00:00, 231.14it/s]\n"
     ]
    },
    {
     "name": "stdout",
     "output_type": "stream",
     "text": [
      "Moving batch eval: EvaluationResult(avg_score=0.6791666666666667, per_item_scores=[0.6166666666666667, 0.6166666666666667, 0.7666666666666666, 0.7666666666666666, 0.7666666666666666, 0.7666666666666666, 0.7166666666666667, 0.6666666666666667, 0.6166666666666667, 0.4666666666666667, 0.7666666666666666, 0.6166666666666667], additional_info=None)\n",
      "2025-06-29 22:18:55 - [trainer.py:2172:_text_grad_constraint_propose_step] - Moving batch acc: 0.6791666666666667\n",
      "Moving batch correct size: 11\n",
      "Moving batch error size: 1\n",
      "Subset Error size: 1\n",
      "Subset Correct size: 2\n",
      "Subset score: 0.6333333333333334\n",
      "2025-06-29 22:18:55 - [trainer.py:2178:_text_grad_constraint_propose_step] - Subset batch acc: 0.6333333333333334,0.6333333333333334\n",
      "Subset loss backward...\n",
      "Subset loss backward time: 6.088621616363525\n",
      "Optimizer propose...\n"
     ]
    },
    {
     "name": "stderr",
     "output_type": "stream",
     "text": [
      "\n",
      "Proposing:   0%|          | 0/5 [00:00<?, ?it/s]"
     ]
    },
    {
     "name": "stdout",
     "output_type": "stream",
     "text": [
      "Proposal: 1\n",
      "2025-06-29 22:19:04 - [trainer.py:2204:_text_grad_constraint_propose_step] - Propose time: 2.699615001678467\n",
      "New prompts:  [PromptData(id='b01271f1-fb33-40ad-979c-5b5cfe3db491', name='llm.task_desc_str', data='You can operate under multiple business names using a single EIN by registering a DBA (Doing Business As) for each trade name. This allows your business to legally conduct activities under different names without needing separate EINs, provided all trade names belong to the same legal entity. However, if you are merging companies, dissolving entities, or creating new legal structures, you may need to cancel old EINs and obtain new ones, and in some cases, register DBAs for the new or merged entity. Registering a DBA is a practical way to use multiple trade names under one EIN, but separate EINs are required when legally establishing or maintaining multiple distinct entities, especially during mergers or dissolutions as outlined in the ground truth.', requires_opt=True)]\n"
     ]
    },
    {
     "name": "stderr",
     "output_type": "stream",
     "text": [
      "\n",
      "\n",
      "Loading Data: 100%|██████████| 3/3 [00:00<00:00, 965.69it/s]\n",
      "Predicting: step(12): 0.5833 across 3 samples, Max potential: 0.5833: 100%|██████████| 3/3 [00:04<00:00,  1.57s/it]\n"
     ]
    },
    {
     "name": "stdout",
     "output_type": "stream",
     "text": [
      "2025-06-29 22:19:08 - [trainer.py:2230:_text_grad_constraint_propose_step] - Fail minibatch check, try next proposal: True, 0.5833333333333334 <= 0.6333333333333334\n"
     ]
    },
    {
     "name": "stderr",
     "output_type": "stream",
     "text": [
      "\n",
      "Proposing:  20%|██        | 1/5 [00:07<00:30,  7.56s/it]"
     ]
    },
    {
     "name": "stdout",
     "output_type": "stream",
     "text": [
      "Proposal: 2\n",
      "2025-06-29 22:19:11 - [trainer.py:2204:_text_grad_constraint_propose_step] - Propose time: 2.176126480102539\n",
      "New prompts:  [PromptData(id='b01271f1-fb33-40ad-979c-5b5cfe3db491', name='llm.task_desc_str', data='You can operate multiple business names under one EIN by registering a DBA (Doing Business As) for each trade name, which is suitable for a single legal entity. This allows you to conduct business under different names without creating separate EINs. However, if you are managing multiple legally distinct entities, each must have its own EIN. In cases of mergers or dissolutions, the proper procedure involves canceling old EINs and obtaining new ones for the remaining or new entities. Register your DBAs with local authorities and verify them at the bank to ensure compliance and proper operation under the correct EINs.', requires_opt=True)]\n"
     ]
    },
    {
     "name": "stderr",
     "output_type": "stream",
     "text": [
      "\n",
      "\n",
      "Loading Data:   0%|          | 0/3 [00:00<?, ?it/s]\n",
      "\n",
      "Loading Data:  33%|███▎      | 1/3 [00:00<00:00,  5.20it/s]\n",
      "\n",
      "Loading Data: 100%|██████████| 3/3 [00:00<00:00,  6.82it/s]\n",
      "Predicting: step(12): 0.6833 across 3 samples, Max potential: 0.6833: 100%|██████████| 3/3 [00:05<00:00,  1.77s/it]\n"
     ]
    },
    {
     "name": "stdout",
     "output_type": "stream",
     "text": [
      "2025-06-29 22:19:17 - [trainer.py:2224:_text_grad_constraint_propose_step] - Pass minibatch check:True, 0.6833333333333332 > 0.6333333333333334\n"
     ]
    },
    {
     "name": "stderr",
     "output_type": "stream",
     "text": [
      "\n",
      "\n",
      "Loading Data: 100%|██████████| 10/10 [00:00<00:00, 1033.95it/s]\n",
      "Predicting: step(12): 0.7312 across 8 samples, Max potential: 0.785:  80%|████████  | 8/10 [00:14<00:03,  1.79s/it] \n"
     ]
    },
    {
     "name": "stdout",
     "output_type": "stream",
     "text": [
      "Optimizer revert: 0.7407407407407407 <= 0.7766666666666666\n"
     ]
    },
    {
     "name": "stderr",
     "output_type": "stream",
     "text": [
      "\n",
      "Proposing:  40%|████      | 2/5 [00:30<00:49, 16.43s/it]"
     ]
    },
    {
     "name": "stdout",
     "output_type": "stream",
     "text": [
      "Proposal: 3\n",
      "2025-06-29 22:19:33 - [trainer.py:2204:_text_grad_constraint_propose_step] - Propose time: 2.242260456085205\n",
      "New prompts:  [PromptData(id='b01271f1-fb33-40ad-979c-5b5cfe3db491', name='llm.task_desc_str', data='To operate multiple trade names under a single EIN, register a DBA (Doing Business As) for each trade name with your local government. This allows your business to conduct activities under different names without establishing separate legal entities or EINs. If your business undergoes structural changes like mergers or dissolutions, you may need to cancel existing EINs and obtain new ones for the resulting entities, as outlined in the ground truth. Proper registration and verification with banks and authorities ensure compliance and smooth operation. Use a DBA when multiple trade names are needed within one legal entity, but obtain separate EINs for legally distinct entities or after significant structural changes.', requires_opt=True)]\n"
     ]
    },
    {
     "name": "stderr",
     "output_type": "stream",
     "text": [
      "\n",
      "\n",
      "Loading Data: 100%|██████████| 3/3 [00:00<00:00, 995.17it/s]\n",
      "Predicting: step(12): 0.6333 across 3 samples, Max potential: 0.6333: 100%|██████████| 3/3 [00:05<00:00,  1.67s/it]\n"
     ]
    },
    {
     "name": "stdout",
     "output_type": "stream",
     "text": [
      "2025-06-29 22:19:38 - [trainer.py:2230:_text_grad_constraint_propose_step] - Fail minibatch check, try next proposal: True, 0.6333333333333333 <= 0.6333333333333334\n"
     ]
    },
    {
     "name": "stderr",
     "output_type": "stream",
     "text": [
      "\n",
      "Proposing:  60%|██████    | 3/5 [00:37<00:24, 12.31s/it]"
     ]
    },
    {
     "name": "stdout",
     "output_type": "stream",
     "text": [
      "Proposal: 4\n",
      "2025-06-29 22:19:41 - [trainer.py:2204:_text_grad_constraint_propose_step] - Propose time: 1.9504103660583496\n",
      "New prompts:  [PromptData(id='b01271f1-fb33-40ad-979c-5b5cfe3db491', name='llm.task_desc_str', data='You can operate under multiple business names using a single EIN by registering a DBA (Doing Business As) for each trade name associated with one legal entity. This allows your business to conduct activities under different trade names without requiring separate EINs. However, if your business consists of multiple separate legal entities, each entity must have its own EIN. During mergers, dissolutions, or structural changes, different EINs might be canceled and new ones issued, and registering DBAs can help manage multiple trade names under a single EIN for a single entity.', requires_opt=True)]\n"
     ]
    },
    {
     "name": "stderr",
     "output_type": "stream",
     "text": [
      "\n",
      "\n",
      "Loading Data: 100%|██████████| 3/3 [00:00<00:00, 1094.17it/s]\n",
      "Predicting: step(12): 0.5667 across 3 samples, Max potential: 0.5667: 100%|██████████| 3/3 [00:05<00:00,  1.83s/it]\n"
     ]
    },
    {
     "name": "stdout",
     "output_type": "stream",
     "text": [
      "2025-06-29 22:19:46 - [trainer.py:2230:_text_grad_constraint_propose_step] - Fail minibatch check, try next proposal: True, 0.5666666666666668 <= 0.6333333333333334\n"
     ]
    },
    {
     "name": "stderr",
     "output_type": "stream",
     "text": [
      "\n",
      "Proposing:  80%|████████  | 4/5 [00:45<00:10, 10.44s/it]"
     ]
    },
    {
     "name": "stdout",
     "output_type": "stream",
     "text": [
      "Proposal: 5\n",
      "2025-06-29 22:19:48 - [trainer.py:2204:_text_grad_constraint_propose_step] - Propose time: 2.16549015045166\n",
      "New prompts:  [PromptData(id='b01271f1-fb33-40ad-979c-5b5cfe3db491', name='llm.task_desc_str', data=\"You can operate multiple trade names under a single EIN by registering a DBA (Doing Business As) for each name. This allows a sole legal entity to have different business identities without needing separate EINs. Each DBA must be registered with your local government, and your bank can verify this registration when opening accounts. However, if you are operating as multiple separate legal entities (e.g., different LLCs or corporations), each entity requires its own EIN. During mergers, dissolutions, or structural changes, you might need to cancel existing EINs and apply for new ones for the remaining or new entities. For example, if Company A merges with Company B and B ceases to exist, you would cancel B's EIN and possibly create a new EIN for the merged entity, while registering a DBA for the new trade name if needed. This distinction is crucial for compliance and proper business management.\", requires_opt=True)]\n"
     ]
    },
    {
     "name": "stderr",
     "output_type": "stream",
     "text": [
      "\n",
      "\n",
      "Loading Data: 100%|██████████| 3/3 [00:00<00:00, 330.62it/s]\n",
      "Predicting: step(12): 0.6833 across 3 samples, Max potential: 0.6833: 100%|██████████| 3/3 [00:07<00:00,  2.51s/it]\n"
     ]
    },
    {
     "name": "stdout",
     "output_type": "stream",
     "text": [
      "2025-06-29 22:19:56 - [trainer.py:2224:_text_grad_constraint_propose_step] - Pass minibatch check:True, 0.6833333333333332 > 0.6333333333333334\n"
     ]
    },
    {
     "name": "stderr",
     "output_type": "stream",
     "text": [
      "\n",
      "\n",
      "Loading Data: 100%|██████████| 10/10 [00:00<00:00, 2187.84it/s]\n",
      "Predicting: step(12): 0.7548 across 7 samples, Max potential: 0.8283:  70%|███████   | 7/10 [00:11<00:04,  1.63s/it]\n"
     ]
    },
    {
     "name": "stdout",
     "output_type": "stream",
     "text": [
      "Optimizer revert: 0.71875 <= 0.7766666666666666\n"
     ]
    },
    {
     "name": "stderr",
     "output_type": "stream",
     "text": [
      "\n",
      "Proposing: 100%|██████████| 5/5 [01:06<00:00, 13.31s/it]\n"
     ]
    },
    {
     "name": "stdout",
     "output_type": "stream",
     "text": [
      "No proposal can improve the subset and full set, and val set\n",
      "Saving checkpoint to C:\\Users\\wuhan\\AppData\\Roaming\\adalflow\\ckpt\\HotPotQAAdal\\constrained_max_steps_12_c89b2_run_1.json\n",
      "Done with proposals\n"
     ]
    },
    {
     "name": "stderr",
     "output_type": "stream",
     "text": [
      "Training Step: 12: 100%|██████████| 3/3 [02:38<00:00, 52.78s/it]\n",
      "Epoch:  80%|████████  | 4/5 [11:20<02:55, 175.23s/it]"
     ]
    },
    {
     "name": "stdout",
     "output_type": "stream",
     "text": [
      "Epoch: 4\n"
     ]
    },
    {
     "name": "stderr",
     "output_type": "stream",
     "text": [
      "  0%|          | 0/3 [00:00<?, ?it/s]"
     ]
    },
    {
     "name": "stdout",
     "output_type": "stream",
     "text": [
      "Reached max steps\n"
     ]
    },
    {
     "name": "stderr",
     "output_type": "stream",
     "text": [
      "  0%|          | 0/3 [00:00<?, ?it/s]\n",
      "Epoch: 100%|██████████| 5/5 [11:20<00:00, 136.01s/it]\n"
     ]
    },
    {
     "name": "stdout",
     "output_type": "stream",
     "text": [
      "Starting step: 12\n",
      "steps [0, 1, 2, 3, 4, 5, 6, 7, 8, 9, 10, 11, 12]\n",
      "Training time: 680.3639607429504s\n"
     ]
    },
    {
     "name": "stderr",
     "output_type": "stream",
     "text": [
      "Loading Data: 100%|██████████| 10/10 [00:00<00:00, 1662.03it/s]\n",
      "Predicting: step(0): 0.705 across 10 samples, Max potential: 0.705: 100%|██████████| 10/10 [00:13<00:00,  1.33s/it]\n"
     ]
    },
    {
     "name": "stdout",
     "output_type": "stream",
     "text": [
      "ckpt_file: C:\\Users\\wuhan\\AppData\\Roaming\\adalflow\\ckpt\\HotPotQAAdal\\constrained_max_steps_12_c89b2_run_1.json\n"
     ]
    },
    {
     "data": {
      "text/plain": [
       "'C:\\\\Users\\\\wuhan\\\\AppData\\\\Roaming\\\\adalflow\\\\ckpt\\\\HotPotQAAdal\\\\constrained_max_steps_12_c89b2_run_1.json'"
      ]
     },
     "execution_count": 10,
     "metadata": {},
     "output_type": "execute_result"
    }
   ],
   "source": [
    "train(\n",
    "    task_model_cliet=gpt4_model[\"model_client\"],\n",
    "    task_model_kwargs=gpt4_model[\"model_kwargs\"],\n",
    "    optimizer_model_config=gpt4_model,\n",
    "    backward_engine_model_config=gpt4_model,\n",
    "    max_steps=12,\n",
    ")"
   ]
  },
  {
   "cell_type": "code",
   "execution_count": 11,
   "id": "7c6442a1",
   "metadata": {},
   "outputs": [],
   "source": [
    "def plot_training_single(file):\n",
    "    import json\n",
    "    import matplotlib.pyplot as plt\n",
    "\n",
    "    with open(file) as f:\n",
    "        data = json.load(f)\n",
    "\n",
    "    val_scores = data[\"val_scores\"]\n",
    "    start_test_score = data[\"test_scores\"][0]\n",
    "    end_test_score = data[\"test_score\"]\n",
    "\n",
    "    plt.figure(figsize=(12, 6))\n",
    "\n",
    "    # Plot validation scores as a continuous line\n",
    "    plt.plot(\n",
    "        val_scores,\n",
    "        label=\"Validation Scores\",\n",
    "        marker=\"o\",\n",
    "        markersize=5,\n",
    "        linewidth=1.5,\n",
    "        color=\"tab:blue\",\n",
    "    )\n",
    "\n",
    "    # Plot test scores as individual markers\n",
    "    plt.scatter(\n",
    "        0,\n",
    "        start_test_score,\n",
    "        s=100,\n",
    "        marker=\"D\",\n",
    "        color=\"tab:orange\",\n",
    "        edgecolor=\"black\",\n",
    "        label=\"Initial Test Score\",\n",
    "    )\n",
    "    plt.scatter(\n",
    "        len(val_scores) - 1,\n",
    "        end_test_score,\n",
    "        s=100,\n",
    "        marker=\"D\",\n",
    "        color=\"tab:green\",\n",
    "        edgecolor=\"black\",\n",
    "        label=\"Final Test Score\",\n",
    "    )\n",
    "\n",
    "    plt.title(\"AdalFlow Promp Optimization Training Progress\", fontsize=14, pad=20)\n",
    "    plt.xlabel(\"Training Steps\", fontsize=12)\n",
    "    plt.ylabel(\"GEval Score\", fontsize=12)\n",
    "    plt.legend(loc=\"lower right\", frameon=True)\n",
    "    plt.grid(True, linestyle=\"--\", alpha=0.6)\n",
    "\n",
    "    # Set x-axis to show only integer steps\n",
    "    plt.xticks(range(0, len(val_scores) + 1, max(1, len(val_scores) // 10)))\n",
    "\n",
    "    plt.tight_layout()\n",
    "    plt.show()"
   ]
  },
  {
   "cell_type": "code",
   "execution_count": 12,
   "id": "6b6162a7",
   "metadata": {},
   "outputs": [
    {
     "data": {
      "image/png": "[encoded data removed]",
      "text/plain": [
       "<Figure size 1200x600 with 1 Axes>"
      ]
     },
     "metadata": {},
     "output_type": "display_data"
    }
   ],
   "source": [
    "file = ('C:\\\\Users\\\\wuhan\\\\AppData\\\\Roaming\\\\adalflow\\\\ckpt\\\\HotPotQAAdal\\\\constrained_max_steps_12_db413_run_1.json')\n",
    "plot_training_single(file)"
   ]
  }
 ],
 "metadata": {
  "kernelspec": {
   "display_name": ".venv",
   "language": "python",
   "name": "python3"
  },
  "language_info": {
   "codemirror_mode": {
    "name": "ipython",
    "version": 3
   },
   "file_extension": ".py",
   "mimetype": "text/x-python",
   "name": "python",
   "nbconvert_exporter": "python",
   "pygments_lexer": "ipython3",
   "version": "3.13.5"
  }
 },
 "nbformat": 4,
 "nbformat_minor": 5
}

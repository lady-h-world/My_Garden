{
 "cells": [
  {
   "cell_type": "markdown",
   "id": "07ca39f3",
   "metadata": {},
   "source": [
    "Licensed under the MIT License.\n",
    "\n",
    "Copyright (c) 2025-2035. All rights reserved by Hanhan Wu.\n",
    "\n",
    "Permission is hereby granted to view this code for evaluation purposes only.\n",
    "You may not reuse, copy, modify, merge, publish, distribute, sublicense,\n",
    "or exploit this code without Hanhan Wu's EXPLICIT written permission.\n",
    "\n",
    "\n",
    "# AdalFlow on Bigger FIQA Data & Optimize Answer Generation\n",
    "\n",
    "* Dataset\n",
    "  * 100 training records\n",
    "  * 180 validation records\n",
    "  * 200 testing records\n",
    "* Optimization\n",
    "  * teacher generator for few-shot learning\n",
    "  * backward_engine & optimizer for text_grad optimization\n",
    "  * Added `self.configure_text_optimizer_helper()` to customize LLM used in the optimization\n",
    "  * Added `few_shot_demos` to add examples in training, indeed improved the performance here\n",
    "  * Added `regularization_fn` in `optimizer_config`"
   ]
  },
  {
   "cell_type": "code",
   "execution_count": 1,
   "id": "f045bba8",
   "metadata": {},
   "outputs": [],
   "source": [
    "%load_ext autoreload\n",
    "%autoreload 2\n",
    "\n",
    "import pandas as pd\n",
    "import re\n",
    "import json\n",
    "import matplotlib.pyplot as plt\n",
    "from pprint import pprint\n",
    "from dataclasses import dataclass, field\n",
    "from typing import Union, Dict, Callable, Any, Tuple\n",
    "\n",
    "import adalflow as adal\n",
    "from adalflow.datasets.hotpot_qa import HotPotQAData\n",
    "from adalflow.components.model_client.openai_client import OpenAIClient\n",
    "from adalflow.eval.g_eval import GEvalLLMJudge, GEvalJudgeEvaluator, NLGTask\n",
    "\n",
    "import warnings\n",
    "warnings.filterwarnings('ignore')\n",
    "\n",
    "\n",
    "model_str = \"gpt-4.1-nano\"\n",
    "gpt4_model = {\n",
    "    \"model_client\": OpenAIClient(),\n",
    "    \"model_kwargs\": {\n",
    "        \"model\": model_str,\n",
    "        \"temperature\": 0.7,\n",
    "    },\n",
    "}\n",
    "model_kwargs = {\n",
    "        \"model\": model_str,\n",
    "        \"temperature\": 0.7,\n",
    "    }"
   ]
  },
  {
   "cell_type": "markdown",
   "id": "d941ed71",
   "metadata": {},
   "source": [
    "### Create Data Input"
   ]
  },
  {
   "cell_type": "code",
   "execution_count": 2,
   "id": "28d25d1b",
   "metadata": {},
   "outputs": [
    {
     "name": "stdout",
     "output_type": "stream",
     "text": [
      "(100, 4) (180, 4) (200, 4)\n"
     ]
    },
    {
     "data": {
      "text/html": [
       "<div>\n",
       "<style scoped>\n",
       "    .dataframe tbody tr th:only-of-type {\n",
       "        vertical-align: middle;\n",
       "    }\n",
       "\n",
       "    .dataframe tbody tr th {\n",
       "        vertical-align: top;\n",
       "    }\n",
       "\n",
       "    .dataframe thead th {\n",
       "        text-align: right;\n",
       "    }\n",
       "</style>\n",
       "<table border=\"1\" class=\"dataframe\">\n",
       "  <thead>\n",
       "    <tr style=\"text-align: right;\">\n",
       "      <th></th>\n",
       "      <th>doc_id</th>\n",
       "      <th>context</th>\n",
       "      <th>question</th>\n",
       "      <th>ground_truth</th>\n",
       "    </tr>\n",
       "  </thead>\n",
       "  <tbody>\n",
       "    <tr>\n",
       "      <th>0</th>\n",
       "      <td>2574.jpeg</td>\n",
       "      <td>[**Document Type:** \\nThis is a check issued b...</td>\n",
       "      <td>Who issued the check?</td>\n",
       "      <td>The Tobacco Institute, located at 1875 I Stree...</td>\n",
       "    </tr>\n",
       "    <tr>\n",
       "      <th>1</th>\n",
       "      <td>4492.jpeg</td>\n",
       "      <td>[### Document Analysis\\n\\n**Document Type**: C...</td>\n",
       "      <td>What is the type of document being analyzed?</td>\n",
       "      <td>The document is a Check Request Form.</td>\n",
       "    </tr>\n",
       "    <tr>\n",
       "      <th>2</th>\n",
       "      <td>7281.jpeg</td>\n",
       "      <td>[**Document Type**: This is a commercial invoi...</td>\n",
       "      <td>What is the name of the organization issuing t...</td>\n",
       "      <td>Philip Morris Limited</td>\n",
       "    </tr>\n",
       "    <tr>\n",
       "      <th>3</th>\n",
       "      <td>1242.jpeg</td>\n",
       "      <td>[### Document Type\\nThis is a financial docume...</td>\n",
       "      <td>What is the client company for this outdoor ad...</td>\n",
       "      <td>The client company is P.M. Inc.</td>\n",
       "    </tr>\n",
       "    <tr>\n",
       "      <th>4</th>\n",
       "      <td>7700.jpeg</td>\n",
       "      <td>[### Document Type\\nThis is a Production Estim...</td>\n",
       "      <td>What is the client's name mentioned in the doc...</td>\n",
       "      <td>The client's name is RJR/NOW Family.</td>\n",
       "    </tr>\n",
       "  </tbody>\n",
       "</table>\n",
       "</div>"
      ],
      "text/plain": [
       "      doc_id                                            context  \\\n",
       "0  2574.jpeg  [**Document Type:** \\nThis is a check issued b...   \n",
       "1  4492.jpeg  [### Document Analysis\\n\\n**Document Type**: C...   \n",
       "2  7281.jpeg  [**Document Type**: This is a commercial invoi...   \n",
       "3  1242.jpeg  [### Document Type\\nThis is a financial docume...   \n",
       "4  7700.jpeg  [### Document Type\\nThis is a Production Estim...   \n",
       "\n",
       "                                            question  \\\n",
       "0                              Who issued the check?   \n",
       "1       What is the type of document being analyzed?   \n",
       "2  What is the name of the organization issuing t...   \n",
       "3  What is the client company for this outdoor ad...   \n",
       "4  What is the client's name mentioned in the doc...   \n",
       "\n",
       "                                        ground_truth  \n",
       "0  The Tobacco Institute, located at 1875 I Stree...  \n",
       "1              The document is a Check Request Form.  \n",
       "2                              Philip Morris Limited  \n",
       "3                    The client company is P.M. Inc.  \n",
       "4               The client's name is RJR/NOW Family.  "
      ]
     },
     "execution_count": 2,
     "metadata": {},
     "output_type": "execute_result"
    }
   ],
   "source": [
    "train_df = pd.read_parquet('final_finance_qa_train.parquet')\n",
    "val_df = pd.read_parquet('final_finance_qa_val.parquet')\n",
    "test_df = pd.read_parquet('final_finance_qa_test.parquet')\n",
    "\n",
    "print(train_df.shape, val_df.shape, test_df.shape)\n",
    "train_df.head()"
   ]
  },
  {
   "cell_type": "code",
   "execution_count": 3,
   "id": "b72a69af",
   "metadata": {},
   "outputs": [
    {
     "name": "stdout",
     "output_type": "stream",
     "text": [
      "(480, 4)\n",
      "(480, 3)\n"
     ]
    },
    {
     "data": {
      "text/html": [
       "<div>\n",
       "<style scoped>\n",
       "    .dataframe tbody tr th:only-of-type {\n",
       "        vertical-align: middle;\n",
       "    }\n",
       "\n",
       "    .dataframe tbody tr th {\n",
       "        vertical-align: top;\n",
       "    }\n",
       "\n",
       "    .dataframe thead th {\n",
       "        text-align: right;\n",
       "    }\n",
       "</style>\n",
       "<table border=\"1\" class=\"dataframe\">\n",
       "  <thead>\n",
       "    <tr style=\"text-align: right;\">\n",
       "      <th></th>\n",
       "      <th>question</th>\n",
       "      <th>context</th>\n",
       "      <th>ground_truth</th>\n",
       "    </tr>\n",
       "  </thead>\n",
       "  <tbody>\n",
       "    <tr>\n",
       "      <th>0</th>\n",
       "      <td>Who issued the check?</td>\n",
       "      <td>[**Document Type:** \\nThis is a check issued b...</td>\n",
       "      <td>The Tobacco Institute, located at 1875 I Stree...</td>\n",
       "    </tr>\n",
       "    <tr>\n",
       "      <th>1</th>\n",
       "      <td>What is the type of document being analyzed?</td>\n",
       "      <td>[### Document Analysis\\n\\n**Document Type**: C...</td>\n",
       "      <td>The document is a Check Request Form.</td>\n",
       "    </tr>\n",
       "    <tr>\n",
       "      <th>2</th>\n",
       "      <td>What is the name of the organization issuing t...</td>\n",
       "      <td>[**Document Type**: This is a commercial invoi...</td>\n",
       "      <td>Philip Morris Limited</td>\n",
       "    </tr>\n",
       "    <tr>\n",
       "      <th>3</th>\n",
       "      <td>What is the client company for this outdoor ad...</td>\n",
       "      <td>[### Document Type\\nThis is a financial docume...</td>\n",
       "      <td>The client company is P.M. Inc.</td>\n",
       "    </tr>\n",
       "    <tr>\n",
       "      <th>4</th>\n",
       "      <td>What is the client's name mentioned in the doc...</td>\n",
       "      <td>[### Document Type\\nThis is a Production Estim...</td>\n",
       "      <td>The client's name is RJR/NOW Family.</td>\n",
       "    </tr>\n",
       "  </tbody>\n",
       "</table>\n",
       "</div>"
      ],
      "text/plain": [
       "                                            question  \\\n",
       "0                              Who issued the check?   \n",
       "1       What is the type of document being analyzed?   \n",
       "2  What is the name of the organization issuing t...   \n",
       "3  What is the client company for this outdoor ad...   \n",
       "4  What is the client's name mentioned in the doc...   \n",
       "\n",
       "                                             context  \\\n",
       "0  [**Document Type:** \\nThis is a check issued b...   \n",
       "1  [### Document Analysis\\n\\n**Document Type**: C...   \n",
       "2  [**Document Type**: This is a commercial invoi...   \n",
       "3  [### Document Type\\nThis is a financial docume...   \n",
       "4  [### Document Type\\nThis is a Production Estim...   \n",
       "\n",
       "                                        ground_truth  \n",
       "0  The Tobacco Institute, located at 1875 I Stree...  \n",
       "1              The document is a Check Request Form.  \n",
       "2                              Philip Morris Limited  \n",
       "3                    The client company is P.M. Inc.  \n",
       "4               The client's name is RJR/NOW Family.  "
      ]
     },
     "execution_count": 3,
     "metadata": {},
     "output_type": "execute_result"
    }
   ],
   "source": [
    "all_df = pd.concat([train_df, val_df, test_df], ignore_index=True)\n",
    "print(all_df.shape)\n",
    "all_df_lst = all_df.to_dict(orient='records')\n",
    "\n",
    "rag_lst = []\n",
    "for record in all_df_lst:\n",
    "    rag_lst.append({\n",
    "        'question': record['question'],\n",
    "        'context': record['context'],\n",
    "        'ground_truth': record['ground_truth']\n",
    "    })\n",
    "\n",
    "rag_df = pd.DataFrame(rag_lst)\n",
    "print(rag_df.shape)\n",
    "rag_df.head()"
   ]
  },
  {
   "cell_type": "code",
   "execution_count": 4,
   "id": "c29cf57e",
   "metadata": {},
   "outputs": [
    {
     "name": "stdout",
     "output_type": "stream",
     "text": [
      "480\n"
     ]
    },
    {
     "data": {
      "text/plain": [
       "{'question': 'Who issued the check?',\n",
       " 'answer': None,\n",
       " 'id': '0f3db81c-2ac7-417f-9e3c-e4f199331678',\n",
       " 'gold_titles': 'The Tobacco Institute, located at 1875 I Street, Northwest, Washington, DC 20006.',\n",
       " 'context': array(['**Document Type:** \\nThis is a check issued by The Tobacco Institute.\\n\\n**Key Details:**\\n- **Issuer:** The Tobacco Institute, 1875 I Street, Northwest, Washington, DC 20006\\n- **Check Number:** 075013\\n- **Date:** September 7, 1990\\n- **Payee:** Citizens for Jim Mcpike\\n- **Amount:** $500.00\\n- **Check Status:** Non-Negotiable\\n- **Bank Details:** Check drawn from The National Bank\\n\\n**Insights and Observations:**\\n- The check is marked as non-negotiable, indicating it cannot be transferred and can only be cashed or deposited by the person named (Citizens for Jim Mcpike).\\n- The substantial amount (considering the date in 1990) suggests it might have been for a significant expense or donation.\\n- As the issuer is The Tobacco Institute, the payment could be related to lobbying or campaign activities, given that it is addressed to a political entity or initiative named after an individual, Jim Mcpike.\\n- The document’s age and historical context could be relevant in analyzing the financial operations and political influences of organizations such as The Tobacco Institute during that period.\\n- The date and amount could be useful in financial or historical audits for tracing fund flows or understanding the financial practices of corporate entities in political realms at the time.'],\n",
       "       dtype=object)}"
      ]
     },
     "execution_count": 4,
     "metadata": {},
     "output_type": "execute_result"
    }
   ],
   "source": [
    "def fiqa_to_hotpotqa(record):\n",
    "    return HotPotQAData(\n",
    "        question=record['question'],\n",
    "        gold_titles=record['ground_truth'],\n",
    "        context=record['context']\n",
    "    )\n",
    "\n",
    "fiqa_as_hotpotqa = [fiqa_to_hotpotqa(s) for s in all_df_lst]\n",
    "print(len(fiqa_as_hotpotqa))\n",
    "fiqa_as_hotpotqa[0].to_dict()"
   ]
  },
  {
   "cell_type": "code",
   "execution_count": 5,
   "id": "9c1fe944",
   "metadata": {},
   "outputs": [
    {
     "name": "stdout",
     "output_type": "stream",
     "text": [
      "100 180 200\n"
     ]
    }
   ],
   "source": [
    "trainset = fiqa_as_hotpotqa[0:len(train_df)]\n",
    "valset = fiqa_as_hotpotqa[len(train_df):len(train_df) + len(val_df)]\n",
    "testset = fiqa_as_hotpotqa[len(train_df) + len(val_df):]\n",
    "print(len(trainset), len(valset), len(testset))"
   ]
  },
  {
   "cell_type": "markdown",
   "id": "9ef96f6e",
   "metadata": {},
   "source": [
    "### AdalFlow Optimization\n",
    "\n",
    "* References\n",
    "  * How to use AdalFlow's GEval and LLM-as-Judge: https://colab.research.google.com/github/SylphAI-Inc/AdalFlow/blob/main/notebooks/evaluation/adalflow_llm_eval.ipynb\n",
    "  * Official evaluation page (I think their user guide is very confusing 😅): https://adalflow.sylph.ai/apis/eval/index.html"
   ]
  },
  {
   "cell_type": "code",
   "execution_count": 8,
   "id": "58a1351e",
   "metadata": {},
   "outputs": [],
   "source": [
    "task_desc_str = r\"\"\"Answer questions with short factoid answers.\n",
    "                    You will receive context(contain relevant facts).\n",
    "                    Think step by step.\n",
    "                \"\"\"\n",
    "\n",
    "\n",
    "prompt_template = \"\"\"<START_OF_SYSTEM_PROMPT>\n",
    "{{task_desc_str}}\n",
    "\n",
    "{{output_format_str}}\n",
    "{# Few shot demos #}\n",
    "{% if few_shot_demos is not none %}\n",
    "    Here are some examples:\n",
    "    {{few_shot_demos}}\n",
    "{% endif %}\n",
    "<END_OF_SYSTEM_PROMPT>\n",
    "<START_OF_USER>\n",
    "    Context: {{context}}\n",
    "    Question: {{question}}\n",
    "<END_OF_USER>\n",
    "\"\"\"\n",
    "\n",
    "\n",
    "def format_few_shot_demo(example):\n",
    "    return f\"Context: {example.context}\\nQuestion: {example.question}\\nAnswer: {example.answer}\\n\"\n",
    "\n",
    "few_shot_examples = trainset[:10]  # Use first 3 as examples\n",
    "few_shot_demos_str = \"\\n---\\n\".join([format_few_shot_demo(e) for e in few_shot_examples])"
   ]
  },
  {
   "cell_type": "code",
   "execution_count": 9,
   "id": "b61235db",
   "metadata": {},
   "outputs": [],
   "source": [
    "@dataclass\n",
    "class AnswerData(adal.DataClass):\n",
    "    reasoning: str = field(\n",
    "        metadata={\"desc\": \"The reasoning to produce the answer\"},\n",
    "    )\n",
    "    answer: str = field(\n",
    "        metadata={\"desc\": \"The answer you produced\"},\n",
    "    )\n",
    "\n",
    "    __output_fields__ = [\"reasoning\", \"answer\"]\n",
    "\n",
    "\n",
    "class RAG_AnswerGeneration(adal.Component):\n",
    "    def __init__(self, model_client=None, model_kwargs=None):\n",
    "        super().__init__()\n",
    "\n",
    "        self.llm_parser = adal.DataClassParser(\n",
    "            data_class=AnswerData, return_data_class=True, format_type=\"json\"\n",
    "        )\n",
    "        self.llm = adal.Generator(\n",
    "            model_client=model_client,\n",
    "            model_kwargs=model_kwargs,\n",
    "            prompt_kwargs={\n",
    "                \"task_desc_str\": adal.Parameter(\n",
    "                    data=task_desc_str,\n",
    "                    role_desc=\"\"\"Task description for the language model,\\\n",
    "                            used with the following template: \\\n",
    "                                {{task_desc_str}} \\\n",
    "                                {{output_format_str}}\\\n",
    "                            <START_OF_USER>\n",
    "                                Context: {{context}}\n",
    "                                Question: {{question}}\n",
    "                            <END_OF_USER>\"\"\",\n",
    "                    param_type=adal.ParameterType.PROMPT,\n",
    "                    requires_opt=True,\n",
    "                    instruction_to_backward_engine=\"\"\"You need find the best way\n",
    "                            (where does the right answer come from the context) \n",
    "                            to extract the RIGHT answer from the context.\"\"\",\n",
    "                    instruction_to_optimizer=\"\"\"\n",
    "                        Write ONLY general instructions for answering questions. \n",
    "                        Do NOT include any specific answers, facts, or content from the dataset or any query. \n",
    "                        Do NOT copy or paraphrase any ground-truth answer. \n",
    "                        Your output must be a reusable prompt template, not a response to a specific question.\n",
    "                    \"\"\",\n",
    "                ),\n",
    "                \"output_format_str\": self.llm_parser.get_output_format_str(),\n",
    "            },\n",
    "            template=prompt_template,\n",
    "            output_processors=self.llm_parser,\n",
    "            use_cache=True,\n",
    "        )\n",
    "\n",
    "    def bicall(\n",
    "        self, \n",
    "        question: str, \n",
    "        retrieved_context: str,\n",
    "        id: str = None,\n",
    "        few_shot_demos: str = None\n",
    "    ) -> Union[adal.GeneratorOutput, adal.Parameter]:\n",
    "        \"\"\"\n",
    "            This function is used to call the model for both training and eval mode.\n",
    "        \"\"\"\n",
    "        prompt_kwargs = {\n",
    "            \"context\": retrieved_context,\n",
    "            \"question\": question,\n",
    "        }\n",
    "        if few_shot_demos is not None:\n",
    "            prompt_kwargs[\"few_shot_demos\"] = few_shot_demos\n",
    "        output = self.llm(prompt_kwargs=prompt_kwargs, id=id)\n",
    "        return output"
   ]
  },
  {
   "cell_type": "code",
   "execution_count": 10,
   "id": "4575397e",
   "metadata": {},
   "outputs": [
    {
     "name": "stdout",
     "output_type": "stream",
     "text": [
      "GeneratorOutput(id=None, data=AnswerData(reasoning='The context explicitly states that the issuer of the check is The Tobacco Institute, including its address and other details. Since the question asks for the issuer, the answer directly corresponds to this information.', answer='The Tobacco Institute'), error=None, usage=CompletionUsage(completion_tokens=55, prompt_tokens=4761, total_tokens=4816), raw_response='{\\n    \"reasoning\": \"The context explicitly states that the issuer of the check is The Tobacco Institute, including its address and other details. Since the question asks for the issuer, the answer directly corresponds to this information.\",\\n    \"answer\": \"The Tobacco Institute\"\\n}', metadata=None)\n",
      "AnswerData(reasoning='The context explicitly states that the issuer of the '\n",
      "                     'check is The Tobacco Institute, including its address '\n",
      "                     'and other details. Since the question asks for the '\n",
      "                     'issuer, the answer directly corresponds to this '\n",
      "                     'information.',\n",
      "           answer='The Tobacco Institute')\n"
     ]
    }
   ],
   "source": [
    "# test above RAG_AnswerGeneration logic\n",
    "random_test_data = fiqa_as_hotpotqa[0].to_dict()\n",
    "\n",
    "rag = RAG_AnswerGeneration(**gpt4_model)\n",
    "output = rag.bicall(\n",
    "    question=random_test_data['question'],\n",
    "    retrieved_context=random_test_data['context'],\n",
    "    few_shot_demos=few_shot_demos_str\n",
    ")\n",
    "print(output)\n",
    "pprint(output.data)"
   ]
  },
  {
   "cell_type": "code",
   "execution_count": 11,
   "id": "901cb9f5",
   "metadata": {},
   "outputs": [],
   "source": [
    "class HotPotQAAdal(adal.AdalComponent):\n",
    "    def __init__(\n",
    "        self,\n",
    "        backward_engine_model_config: Dict | None = None,\n",
    "        teacher_model_config: Dict | None = None,\n",
    "        text_optimizer_model_config: Dict | None = None,\n",
    "        task: adal.Component | None = None,  # initialized task\n",
    "    ):\n",
    "        g_eval = GEvalLLMJudge(default_task=NLGTask.SUMMARIZATION,\n",
    "                                model_kwargs=model_kwargs)\n",
    "        g_evaluator = GEvalJudgeEvaluator(llm_judge=g_eval)\n",
    "        def extract_overall(**kwargs):\n",
    "            if 'input_str'  in kwargs:\n",
    "                match = re.search(r\"Reference Answer:(.*)Predicted Answer:(.*)\", kwargs['input_str'], re.DOTALL)\n",
    "                if match:\n",
    "                    reference = match.group(1).strip()\n",
    "                    predicted = match.group(2).strip()\n",
    "            else:\n",
    "                predicted = kwargs.get(\"y\")\n",
    "                reference = kwargs.get(\"y_gt\")\n",
    "\n",
    "            input_str = f\"Reference Answer: {reference}\\nPredicted Answer: {predicted}\"\n",
    "            return g_evaluator.compute_single_item(input_str)[\"overall\"]\n",
    "\n",
    "        eval_fn = extract_overall\n",
    "        loss_eval_fn = extract_overall\n",
    "\n",
    "        loss_fn = adal.EvalFnToTextLoss(\n",
    "            eval_fn=loss_eval_fn,\n",
    "            eval_fn_desc=\"GEval score\",\n",
    "        )\n",
    "        super().__init__(\n",
    "            task=task,\n",
    "            eval_fn=eval_fn,\n",
    "            loss_eval_fn=loss_eval_fn,\n",
    "            loss_fn=loss_fn,\n",
    "            backward_engine_model_config=backward_engine_model_config,\n",
    "            teacher_model_config=teacher_model_config,\n",
    "            text_optimizer_model_config=text_optimizer_model_config,\n",
    "        )\n",
    "        self.configure_text_optimizer_helper(\n",
    "            model_client=OpenAIClient(),\n",
    "            model_kwargs={\"temperature\": 0.3}\n",
    "        )\n",
    "\n",
    "    def prepare_task(self, sample: HotPotQAData) -> Tuple[Callable[..., Any], Dict]:\n",
    "        task_kwargs = {\n",
    "            \"question\": sample.question,\n",
    "            \"retrieved_context\": sample.context,\n",
    "            \"id\": getattr(sample, \"id\", None),\n",
    "            \"few_shot_demos\": few_shot_demos_str,\n",
    "        }\n",
    "        if self.task.training:\n",
    "            return self.task.forward, task_kwargs\n",
    "        else:\n",
    "            return self.task.call, task_kwargs\n",
    "\n",
    "    def prepare_eval(self, sample: HotPotQAData, y_pred: adal.GeneratorOutput):\n",
    "        y_label = \"\"\n",
    "        if y_pred and y_pred.data and y_pred.data.answer:\n",
    "            y_label = y_pred.data.answer\n",
    "\n",
    "        input_str = (\n",
    "            f\"Reference Answer: {sample.gold_titles}\\n\"\n",
    "            f\"Predicted Answer: {y_label}\"\n",
    "        )\n",
    "\n",
    "        return self.eval_fn, {'input_str': input_str}\n",
    "\n",
    "\n",
    "    def prepare_loss_eval(self, sample: Any, y_pred: Any, *args, **kwargs):\n",
    "        y_label = \"\"\n",
    "        if y_pred and y_pred.data and y_pred.data.answer:\n",
    "            y_label = y_pred.data.answer\n",
    "\n",
    "        input_str = (\n",
    "            f\"Reference Answer: {sample.gold_titles}\\n\"\n",
    "            f\"Predicted Answer: {y_label}\"\n",
    "        )\n",
    "\n",
    "        return self.loss_eval_fn, {'input_str': input_str}\n",
    "\n",
    "\n",
    "    def prepare_loss(self, sample: HotPotQAData, pred: adal.Parameter):\n",
    "        y_gt = adal.Parameter(\n",
    "            name=\"y_gt\",\n",
    "            data=sample.gold_titles,\n",
    "            eval_input=sample.gold_titles,\n",
    "            requires_opt=False,\n",
    "        )\n",
    "        context_param = adal.Parameter(\n",
    "            name=\"context\",\n",
    "            data=sample.context,\n",
    "            eval_input=sample.context,  # you could also stringify it if needed\n",
    "            requires_opt=False,\n",
    "        )\n",
    "\n",
    "        pred.eval_input = (\n",
    "            pred.data.data.answer\n",
    "            if pred.data and pred.data.data and pred.data.data.answer\n",
    "            else \"\"\n",
    "        )\n",
    "        return self.loss_fn, {\n",
    "            \"kwargs\": {\"y\": pred, \"y_gt\": y_gt,\n",
    "                        \"context\": context_param},\n",
    "            \"input\": {\"question\": sample.question,\n",
    "                       \"retrieved_context\": sample.context},\n",
    "            \"gt\": sample.gold_titles,\n",
    "            \"id\": sample.id,\n",
    "        }"
   ]
  },
  {
   "cell_type": "markdown",
   "id": "90fef285",
   "metadata": {},
   "source": [
    "<b>Evaluation On Testset Before Optimization</b>"
   ]
  },
  {
   "cell_type": "code",
   "execution_count": 12,
   "id": "b9ae4f16",
   "metadata": {},
   "outputs": [
    {
     "name": "stderr",
     "output_type": "stream",
     "text": [
      "Generator llm is already registered with jsonl file at C:\\Users\\wuhan\\AppData\\Roaming\\adalflow\\ckpt\\VallinaRAGAdal\\diagnose_train\\llm_call.jsonl\n"
     ]
    },
    {
     "name": "stdout",
     "output_type": "stream",
     "text": [
      "\u001b[36m2025-07-27 14:23:07 - [adal.py:852:configure_text_optimizer_helper] - Text optimizer configured for 1 parameters. names: [('llm.task_desc_str', 'Answer questions with short factoid answers.\\n                    You will receive context(contain relevant facts).\\n                    Think step by step.\\n                ')]\u001b[0m\n",
      "\u001b[36m2025-07-27 14:23:07 - [trainer.py:227:diagnose] - Checkpoint path: C:\\Users\\wuhan\\AppData\\Roaming\\adalflow\\ckpt\\HotPotQAAdal\u001b[0m\n"
     ]
    },
    {
     "name": "stderr",
     "output_type": "stream",
     "text": [
      "Loading Data: 100%|██████████| 200/200 [00:00<00:00, 6779.22it/s]\n",
      "Predicting: step(0): 0.8654 across 200 samples, Max potential: 0.8654: 100%|██████████| 200/200 [04:23<00:00,  1.32s/it]\n",
      "Error loading jsonl file C:\\Users\\wuhan\\AppData\\Roaming\\adalflow\\ckpt\\VallinaRAGAdal\\diagnose_train\\llm_call.jsonl: line contains invalid json: Trailing data (line 46)\n"
     ]
    },
    {
     "name": "stdout",
     "output_type": "stream",
     "text": [
      "Log file C:\\Users\\wuhan\\AppData\\Roaming\\adalflow\\ckpt\\VallinaRAGAdal\\diagnose_train\\llm_call.jsonl is empty. This llm is not called at all.\n",
      "\n",
      "================== DIAGNOSE REPORT ==================\n",
      "\n",
      "✔ Split: train\n",
      "✔ Overall accuracy score: 0.87\n",
      "✔ Log paths:\n",
      "  - Log 1: C:\\Users\\wuhan\\AppData\\Roaming\\adalflow\\ckpt\\VallinaRAGAdal\\diagnose_train\\llm_call.jsonl\n",
      "\n",
      "✔ Diagnose report completed successfully!\n",
      "\n",
      "=====================================================\n",
      "\n"
     ]
    }
   ],
   "source": [
    "def train_diagnose(model_client, model_kwargs):\n",
    "    task = RAG_AnswerGeneration(\n",
    "        model_client=model_client,\n",
    "        model_kwargs=model_kwargs\n",
    "    )\n",
    "\n",
    "    adal_component = HotPotQAAdal(task=task)\n",
    "    trainer = adal.Trainer(adaltask=adal_component)\n",
    "    trainer.diagnose(dataset=testset, split=\"train\")\n",
    "\n",
    "\n",
    "train_diagnose(**gpt4_model)"
   ]
  },
  {
   "cell_type": "markdown",
   "id": "4dc6a710",
   "metadata": {},
   "source": [
    "<b>Training</b>\n",
    "\n",
    "* Time Cost: 16 min 11sec"
   ]
  },
  {
   "cell_type": "code",
   "execution_count": 13,
   "id": "02cbfe73",
   "metadata": {},
   "outputs": [],
   "source": [
    "def regularization_fn(prompt: str, sample: HotPotQAData) -> float:\n",
    "    # Penalize if ground-truth answer appears in the prompt\n",
    "    if sample.answer.strip() in prompt or sample.question.strip() in prompt:\n",
    "        return 1.0  # High penalty\n",
    "    return 0.0     # No penalty\n",
    "\n",
    "optimizer_config = {\n",
    "    \"regularization_fn\": regularization_fn,\n",
    "}\n",
    "\n",
    "def train(\n",
    "    task_model_cliet,\n",
    "    task_model_kwargs,\n",
    "    optimizer_model_config,\n",
    "    backward_engine_model_config,\n",
    "    train_batch_size=4,  # larger batch size is not that effective, probably because of llm's lost in the middle\n",
    "    raw_shots: int = 0,\n",
    "    bootstrap_shots: int = 4,\n",
    "    max_steps=1,\n",
    "    num_workers=4,\n",
    "    strategy=\"constrained\",\n",
    "    optimization_order=\"sequential\",\n",
    "    debug=False,\n",
    "    resume_from_ckpt=None,\n",
    "    exclude_input_fields_from_bootstrap_demos=True,\n",
    "    seed=10,\n",
    "    max_proposals_per_step: int = 5,\n",
    "    disable_backward_gradients: bool = False,\n",
    "    disable_backward: bool = False,\n",
    "):\n",
    "    task = RAG_AnswerGeneration(\n",
    "        model_client=task_model_cliet,\n",
    "        model_kwargs=task_model_kwargs\n",
    "    )\n",
    "\n",
    "    adal_component = HotPotQAAdal(\n",
    "        task=task,\n",
    "        text_optimizer_model_config=optimizer_model_config,\n",
    "        backward_engine_model_config=backward_engine_model_config,\n",
    "    )\n",
    "\n",
    "    trainer = adal.Trainer(\n",
    "        train_batch_size=train_batch_size,\n",
    "        optimizer_config = optimizer_config,\n",
    "        adaltask=adal_component,\n",
    "        strategy=strategy,\n",
    "        max_steps=max_steps,\n",
    "        num_workers=num_workers,\n",
    "        raw_shots=raw_shots,\n",
    "        bootstrap_shots=bootstrap_shots,\n",
    "        debug=debug,\n",
    "        weighted_sampling=False,\n",
    "        optimization_order=optimization_order,\n",
    "        exclude_input_fields_from_bootstrap_demos=exclude_input_fields_from_bootstrap_demos,\n",
    "        max_proposals_per_step=max_proposals_per_step,\n",
    "        text_optimizers_config_kwargs={\"max_past_history\": 5},\n",
    "        disable_backward_gradients=disable_backward_gradients,\n",
    "        disable_backward=disable_backward,\n",
    "    )\n",
    "    trainer.set_random_seed(seed)\n",
    "    print(trainer)\n",
    "\n",
    "    ckpt, _ = trainer.fit(\n",
    "        train_dataset=trainset,\n",
    "        val_dataset=valset,\n",
    "        test_dataset=testset,\n",
    "        resume_from_ckpt=resume_from_ckpt,\n",
    "    )\n",
    "    return ckpt"
   ]
  },
  {
   "cell_type": "code",
   "execution_count": 14,
   "id": "192da2a3",
   "metadata": {},
   "outputs": [
    {
     "name": "stdout",
     "output_type": "stream",
     "text": [
      "2025-07-27 14:28:04 - [adal.py:852:configure_text_optimizer_helper] - Text optimizer configured for 1 parameters. names: [('llm.task_desc_str', 'Answer questions with short factoid answers.\\n                    You will receive context(contain relevant facts).\\n                    Think step by step.\\n                ')]\n",
      "Trainer(\n",
      "  (adaltask): HotPotQAAdal(\n",
      "    eval_fn: extract_overall, backward_engine: None, backward_engine_model_config: {'model_client': OpenAIClient(), 'model_kwargs': {'model': 'gpt-4.1-nano', 'temperature': 0.7}}, teacher_model_config: None, text_optimizer_model_config: {'model_client': OpenAIClient(), 'model_kwargs': {'model': 'gpt-4.1-nano', 'temperature': 0.7}}\n",
      "    (task): RAG_AnswerGeneration(\n",
      "      (llm_parser): DataClassParser(\n",
      "        data_class=AnswerData, format_type=json,            return_data_class=True, input_fields=[],            output_fields=['reasoning', 'answer']\n",
      "        (_output_processor): JsonParser()\n",
      "        (output_format_prompt): template: Your output should be formatted as a standard JSON instance with the following schema:\n",
      "        ```\n",
      "        {{schema}}\n",
      "        ```\n",
      "        -Make sure to always enclose the JSON output in triple backticks (```). Please do not add anything other than valid JSON output!\n",
      "        -Use double quotes for the keys and string values.\n",
      "        -DO NOT mistaken the \"properties\" and \"type\" in the schema as the actual fields in the JSON output.\n",
      "        -Follow the JSON formatting conventions., prompt_variables: ['schema']\n",
      "      )\n",
      "      (llm): Generator(\n",
      "        model_kwargs={'model': 'gpt-4.1-nano', 'temperature': 0.7}, trainable_prompt_kwargs=['task_desc_str']\n",
      "        (prompt): template: <START_OF_SYSTEM_PROMPT>\n",
      "        {{task_desc_str}}\n",
      "        \n",
      "        {{output_format_str}}\n",
      "        {# Few shot demos #}\n",
      "        {% if few_shot_demos is not none %}\n",
      "            Here are some examples:\n",
      "            {{few_shot_demos}}\n",
      "        {% endif %}\n",
      "        <END_OF_SYSTEM_PROMPT>\n",
      "        <START_OF_USER>\n",
      "            Context: {{context}}\n",
      "            Question: {{question}}\n",
      "        <END_OF_USER>\n",
      "        , prompt_kwargs: {'task_desc_str': 'Answer questions with short factoid answers.\\n                    You will receive context(contain relevant facts).\\n                    Think step by step.\\n                ', 'output_format_str': 'Your output should be formatted as a standard JSON instance with the following schema:\\n```\\n{\\n    \"reasoning\": \"The reasoning to produce the answer (str) (required)\",\\n    \"answer\": \"The answer you produced (str) (required)\"\\n}\\n```\\n-Make sure to always enclose the JSON output in triple backticks (```). Please do not add anything other than valid JSON output!\\n-Use double quotes for the keys and string values.\\n-DO NOT mistaken the \"properties\" and \"type\" in the schema as the actual fields in the JSON output.\\n-Follow the JSON formatting conventions.'}, prompt_variables: ['context', 'output_format_str', 'task_desc_str', 'question', 'few_shot_demos']\n",
      "        (model_client): OpenAIClient()\n",
      "        (output_processors): DataClassParser(\n",
      "          data_class=AnswerData, format_type=json,            return_data_class=True, input_fields=[],            output_fields=['reasoning', 'answer']\n",
      "          (_output_processor): JsonParser()\n",
      "          (output_format_prompt): template: Your output should be formatted as a standard JSON instance with the following schema:\n",
      "          ```\n",
      "          {{schema}}\n",
      "          ```\n",
      "          -Make sure to always enclose the JSON output in triple backticks (```). Please do not add anything other than valid JSON output!\n",
      "          -Use double quotes for the keys and string values.\n",
      "          -DO NOT mistaken the \"properties\" and \"type\" in the schema as the actual fields in the JSON output.\n",
      "          -Follow the JSON formatting conventions., prompt_variables: ['schema']\n",
      "        )\n",
      "      )\n",
      "    )\n",
      "    (loss_fn): EvalFnToTextLoss()\n",
      "  )\n",
      ")\n",
      "raw_shots: 0, bootstrap_shots: 4\n",
      "No demo parameters found.\n",
      "2025-07-27 14:28:05 - [adal.py:852:configure_text_optimizer_helper] - Text optimizer configured for 1 parameters. names: [('llm.task_desc_str', 'Answer questions with short factoid answers.\\n                    You will receive context(contain relevant facts).\\n                    Think step by step.\\n                ')]\n",
      "No trainable demo params to optimize\n",
      "Backward engine configured for GradComponents\n"
     ]
    },
    {
     "name": "stderr",
     "output_type": "stream",
     "text": [
      "Loading Data: 100%|██████████| 180/180 [00:00<00:00, 5918.77it/s]\n",
      "Predicting: step(0): 0.8615 across 180 samples, Max potential: 0.8615: 100%|██████████| 180/180 [03:54<00:00,  1.30s/it]\n",
      "Loading Data: 100%|██████████| 200/200 [00:00<00:00, 5156.60it/s]\n",
      "Predicting: step(0): 0.8654 across 200 samples, Max potential: 0.8654: 100%|██████████| 200/200 [00:02<00:00, 71.13it/s] \n"
     ]
    },
    {
     "name": "stdout",
     "output_type": "stream",
     "text": [
      "Initial validation score: 0.8615123456790121\n",
      "Initial test score: 0.8654166666666667\n",
      "2025-07-27 14:32:02 - [trainer.py:2343:_fit_text_grad_constraint] - Fitting using Textual Gradient Descent with constraints\n",
      "_fit_text_grad_constraint save to C:\\Users\\wuhan\\AppData\\Roaming\\adalflow\\ckpt\\HotPotQAAdal\\constrained_max_steps_12_42c34_run_1.json\n"
     ]
    },
    {
     "name": "stderr",
     "output_type": "stream",
     "text": [
      "Epoch:   0%|          | 0/1 [00:00<?, ?it/s]"
     ]
    },
    {
     "name": "stdout",
     "output_type": "stream",
     "text": [
      "Epoch: 0\n"
     ]
    },
    {
     "name": "stderr",
     "output_type": "stream",
     "text": [
      "Training Step: 1:   0%|          | 0/25 [00:00<?, ?it/s]\n",
      "Loading Data: 100%|██████████| 4/4 [00:00<00:00, 217.23it/s]\n",
      "Training: 100%|██████████| 4/4 [00:01<00:00,  2.24it/s]\n",
      "\n",
      "Loading Data: 100%|██████████| 4/4 [00:00<00:00, 235.13it/s]\n",
      "Calculating Loss: 100%|██████████| 4/4 [00:05<00:00,  1.33s/it]\n",
      "Evaluating: 100%|██████████| 4/4 [00:00<00:00, 93.08it/s]\n"
     ]
    },
    {
     "name": "stdout",
     "output_type": "stream",
     "text": [
      "Moving batch eval: EvaluationResult(avg_score=0.95, per_item_scores=[0.95, 0.95, 1.0, 0.9], additional_info=None)\n",
      "2025-07-27 14:32:09 - [trainer.py:2172:_text_grad_constraint_propose_step] - Moving batch acc: 0.95\n",
      "Moving batch correct size: 4\n",
      "Moving batch error size: 0\n",
      "Subset Error size: 0\n",
      "Subset Correct size: 2\n",
      "Subset score: 0.975\n",
      "2025-07-27 14:32:09 - [trainer.py:2178:_text_grad_constraint_propose_step] - Subset batch acc: 0.975,0.975\n",
      "Subset loss backward...\n",
      "Subset loss backward time: 2.490612745285034\n",
      "Optimizer propose...\n"
     ]
    },
    {
     "name": "stderr",
     "output_type": "stream",
     "text": [
      "\n",
      "Proposing:   0%|          | 0/5 [00:00<?, ?it/s]"
     ]
    },
    {
     "name": "stdout",
     "output_type": "stream",
     "text": [
      "Proposal: 1\n",
      "2025-07-27 14:32:14 - [trainer.py:2204:_text_grad_constraint_propose_step] - Propose time: 1.8081469535827637\n",
      "New prompts:  [PromptData(id='767d8352-8622-4a89-b2d4-08d8ad4d1a0c', name='llm.task_desc_str', data='Answer factual questions concisely and accurately based on provided context. Think step by step to ensure correctness. Do not include extraneous information.', requires_opt=True)]\n"
     ]
    },
    {
     "name": "stderr",
     "output_type": "stream",
     "text": [
      "\n",
      "\n",
      "Loading Data: 100%|██████████| 2/2 [00:00<00:00, 317.01it/s]\n",
      "Predicting: step(1): 0.5972 across 2 samples, Max potential: 0.5972: 100%|██████████| 2/2 [00:04<00:00,  2.13s/it]\n"
     ]
    },
    {
     "name": "stdout",
     "output_type": "stream",
     "text": [
      "2025-07-27 14:32:18 - [trainer.py:2230:_text_grad_constraint_propose_step] - Fail minibatch check, try next proposal: True, 0.5972222222222222 <= 0.975\n"
     ]
    },
    {
     "name": "stderr",
     "output_type": "stream",
     "text": [
      "\n",
      "Proposing:  20%|██        | 1/5 [00:06<00:25,  6.35s/it]"
     ]
    },
    {
     "name": "stdout",
     "output_type": "stream",
     "text": [
      "Proposal: 2\n",
      "2025-07-27 14:32:20 - [trainer.py:2204:_text_grad_constraint_propose_step] - Propose time: 2.0578572750091553\n",
      "New prompts:  [PromptData(id='767d8352-8622-4a89-b2d4-08d8ad4d1a0c', name='llm.task_desc_str', data='Answer factual questions precisely based on the given context. Think step by step to ensure accuracy. Do not include extraneous information or opinions.', requires_opt=True)]\n"
     ]
    },
    {
     "name": "stderr",
     "output_type": "stream",
     "text": [
      "\n",
      "\n",
      "Loading Data: 100%|██████████| 2/2 [00:00<00:00, 252.78it/s]\n",
      "Predicting: step(1): 0.5972 across 2 samples, Max potential: 0.5972: 100%|██████████| 2/2 [00:02<00:00,  1.14s/it]\n"
     ]
    },
    {
     "name": "stdout",
     "output_type": "stream",
     "text": [
      "2025-07-27 14:32:23 - [trainer.py:2230:_text_grad_constraint_propose_step] - Fail minibatch check, try next proposal: True, 0.5972222222222222 <= 0.975\n"
     ]
    },
    {
     "name": "stderr",
     "output_type": "stream",
     "text": [
      "\n",
      "Proposing:  40%|████      | 2/5 [00:10<00:16,  5.34s/it]"
     ]
    },
    {
     "name": "stdout",
     "output_type": "stream",
     "text": [
      "Proposal: 3\n",
      "2025-07-27 14:32:25 - [trainer.py:2204:_text_grad_constraint_propose_step] - Propose time: 1.5760250091552734\n",
      "New prompts:  [PromptData(id='767d8352-8622-4a89-b2d4-08d8ad4d1a0c', name='llm.task_desc_str', data='Answer questions with short, factual responses based on provided context. Think step by step and ensure clarity and accuracy.', requires_opt=True)]\n"
     ]
    },
    {
     "name": "stderr",
     "output_type": "stream",
     "text": [
      "\n",
      "\n",
      "Loading Data: 100%|██████████| 2/2 [00:00<00:00, 143.70it/s]\n",
      "Predicting: step(1): 0.5972 across 2 samples, Max potential: 0.5972: 100%|██████████| 2/2 [00:01<00:00,  1.73it/s]\n"
     ]
    },
    {
     "name": "stdout",
     "output_type": "stream",
     "text": [
      "2025-07-27 14:32:26 - [trainer.py:2230:_text_grad_constraint_propose_step] - Fail minibatch check, try next proposal: True, 0.5972222222222222 <= 0.975\n"
     ]
    },
    {
     "name": "stderr",
     "output_type": "stream",
     "text": [
      "\n",
      "Proposing:  60%|██████    | 3/5 [00:14<00:08,  4.30s/it]"
     ]
    },
    {
     "name": "stdout",
     "output_type": "stream",
     "text": [
      "Proposal: 4\n",
      "2025-07-27 14:32:28 - [trainer.py:2204:_text_grad_constraint_propose_step] - Propose time: 1.6576578617095947\n",
      "New prompts:  [PromptData(id='767d8352-8622-4a89-b2d4-08d8ad4d1a0c', name='llm.task_desc_str', data='Answer questions with brief factual responses based on given contexts. Think step by step to ensure accuracy and clarity.', requires_opt=True)]\n"
     ]
    },
    {
     "name": "stderr",
     "output_type": "stream",
     "text": [
      "\n",
      "\n",
      "Loading Data: 100%|██████████| 2/2 [00:00<00:00, 188.69it/s]\n",
      "Predicting: step(1): 0.975 across 2 samples, Max potential: 0.975: 100%|██████████| 2/2 [00:01<00:00,  1.45it/s]\n"
     ]
    },
    {
     "name": "stdout",
     "output_type": "stream",
     "text": [
      "2025-07-27 14:32:29 - [trainer.py:2230:_text_grad_constraint_propose_step] - Fail minibatch check, try next proposal: True, 0.975 <= 0.975\n"
     ]
    },
    {
     "name": "stderr",
     "output_type": "stream",
     "text": [
      "\n",
      "Proposing:  80%|████████  | 4/5 [00:17<00:03,  3.92s/it]"
     ]
    },
    {
     "name": "stdout",
     "output_type": "stream",
     "text": [
      "Proposal: 5\n",
      "2025-07-27 14:32:31 - [trainer.py:2204:_text_grad_constraint_propose_step] - Propose time: 1.8261768817901611\n",
      "New prompts:  [PromptData(id='767d8352-8622-4a89-b2d4-08d8ad4d1a0c', name='llm.task_desc_str', data='Answer the specific question by extracting the exact identifier (e.g., invoice number, client name) from the context. Provide only the factual answer without additional commentary. Think step by step to ensure accuracy.', requires_opt=True)]\n"
     ]
    },
    {
     "name": "stderr",
     "output_type": "stream",
     "text": [
      "\n",
      "\n",
      "Loading Data: 100%|██████████| 2/2 [00:00<00:00, 346.97it/s]\n",
      "Predicting: step(1): 0.975 across 2 samples, Max potential: 0.975: 100%|██████████| 2/2 [00:01<00:00,  1.45it/s]\n"
     ]
    },
    {
     "name": "stdout",
     "output_type": "stream",
     "text": [
      "2025-07-27 14:32:33 - [trainer.py:2230:_text_grad_constraint_propose_step] - Fail minibatch check, try next proposal: True, 0.975 <= 0.975\n"
     ]
    },
    {
     "name": "stderr",
     "output_type": "stream",
     "text": [
      "\n",
      "Proposing: 100%|██████████| 5/5 [00:20<00:00,  4.18s/it]\n"
     ]
    },
    {
     "name": "stdout",
     "output_type": "stream",
     "text": [
      "No proposal can improve the subset and full set, and val set\n",
      "Saving checkpoint to C:\\Users\\wuhan\\AppData\\Roaming\\adalflow\\ckpt\\HotPotQAAdal\\constrained_max_steps_12_42c34_run_1.json\n",
      "Done with proposals\n"
     ]
    },
    {
     "name": "stderr",
     "output_type": "stream",
     "text": [
      "Training Step: 2:   4%|▍         | 1/25 [00:30<12:22, 30.94s/it]\n",
      "Loading Data: 100%|██████████| 4/4 [00:00<00:00, 197.48it/s]\n",
      "Training: 100%|██████████| 4/4 [00:02<00:00,  1.77it/s]\n",
      "\n",
      "Loading Data: 100%|██████████| 4/4 [00:00<00:00, 289.22it/s]\n",
      "Calculating Loss: 100%|██████████| 4/4 [00:01<00:00,  2.03it/s]\n",
      "Evaluating: 100%|██████████| 8/8 [00:00<00:00, 67.67it/s]\n"
     ]
    },
    {
     "name": "stdout",
     "output_type": "stream",
     "text": [
      "Moving batch eval: EvaluationResult(avg_score=0.9354166666666667, per_item_scores=[0.95, 0.95, 1.0, 0.9, 1.0, 0.8666666666666667, 0.8166666666666667, 1.0], additional_info=None)\n",
      "2025-07-27 14:32:37 - [trainer.py:2172:_text_grad_constraint_propose_step] - Moving batch acc: 0.9354166666666667\n",
      "Moving batch correct size: 8\n",
      "Moving batch error size: 0\n",
      "Subset Error size: 0\n",
      "Subset Correct size: 2\n",
      "Subset score: 0.975\n",
      "2025-07-27 14:32:38 - [trainer.py:2178:_text_grad_constraint_propose_step] - Subset batch acc: 0.975,0.975\n",
      "Subset loss backward...\n",
      "Subset loss backward time: 2.236931800842285\n",
      "Optimizer propose...\n"
     ]
    },
    {
     "name": "stderr",
     "output_type": "stream",
     "text": [
      "\n",
      "Proposing:   0%|          | 0/5 [00:00<?, ?it/s]"
     ]
    },
    {
     "name": "stdout",
     "output_type": "stream",
     "text": [
      "Proposal: 1\n",
      "2025-07-27 14:32:41 - [trainer.py:2204:_text_grad_constraint_propose_step] - Propose time: 1.4904510974884033\n",
      "New prompts:  [PromptData(id='767d8352-8622-4a89-b2d4-08d8ad4d1a0c', name='llm.task_desc_str', data='Answer questions with short factoid answers. You will receive context (contain relevant facts). Think step by step. The client name mentioned in the document is the answer.', requires_opt=True)]\n"
     ]
    },
    {
     "name": "stderr",
     "output_type": "stream",
     "text": [
      "\n",
      "\n",
      "Loading Data: 100%|██████████| 2/2 [00:00<00:00, 262.60it/s]\n",
      "Predicting: step(2): 0.975 across 2 samples, Max potential: 0.975: 100%|██████████| 2/2 [00:02<00:00,  1.44s/it]\n"
     ]
    },
    {
     "name": "stdout",
     "output_type": "stream",
     "text": [
      "2025-07-27 14:32:44 - [trainer.py:2230:_text_grad_constraint_propose_step] - Fail minibatch check, try next proposal: True, 0.975 <= 0.975\n"
     ]
    },
    {
     "name": "stderr",
     "output_type": "stream",
     "text": [
      "\n",
      "Proposing:  20%|██        | 1/5 [00:04<00:18,  4.61s/it]"
     ]
    },
    {
     "name": "stdout",
     "output_type": "stream",
     "text": [
      "Proposal: 2\n",
      "2025-07-27 14:32:46 - [trainer.py:2204:_text_grad_constraint_propose_step] - Propose time: 1.7894461154937744\n",
      "New prompts:  [PromptData(id='767d8352-8622-4a89-b2d4-08d8ad4d1a0c', name='llm.task_desc_str', data=\"Answer questions with short factoid answers. You will receive context (contain relevant facts). Think step by step. Focus on extracting the client's name as explicitly mentioned in the context, such as 'P. M.', and provide it as the answer.\", requires_opt=True)]\n"
     ]
    },
    {
     "name": "stderr",
     "output_type": "stream",
     "text": [
      "\n",
      "\n",
      "Loading Data: 100%|██████████| 2/2 [00:00<00:00, 281.54it/s]\n",
      "Predicting: step(2): 0.975 across 2 samples, Max potential: 0.975: 100%|██████████| 2/2 [00:01<00:00,  1.27it/s]\n"
     ]
    },
    {
     "name": "stdout",
     "output_type": "stream",
     "text": [
      "2025-07-27 14:32:48 - [trainer.py:2230:_text_grad_constraint_propose_step] - Fail minibatch check, try next proposal: True, 0.975 <= 0.975\n"
     ]
    },
    {
     "name": "stderr",
     "output_type": "stream",
     "text": [
      "\n",
      "Proposing:  40%|████      | 2/5 [00:08<00:12,  4.03s/it]"
     ]
    },
    {
     "name": "stdout",
     "output_type": "stream",
     "text": [
      "Proposal: 3\n",
      "2025-07-27 14:32:50 - [trainer.py:2204:_text_grad_constraint_propose_step] - Propose time: 1.854642391204834\n",
      "New prompts:  [PromptData(id='767d8352-8622-4a89-b2d4-08d8ad4d1a0c', name='llm.task_desc_str', data=\"Answer the client's name mentioned in the document.\", requires_opt=True)]\n"
     ]
    },
    {
     "name": "stderr",
     "output_type": "stream",
     "text": [
      "\n",
      "\n",
      "Loading Data: 100%|██████████| 2/2 [00:00<00:00, 281.74it/s]\n",
      "Predicting: step(2): 0.975 across 2 samples, Max potential: 0.975: 100%|██████████| 2/2 [00:01<00:00,  1.72it/s]\n"
     ]
    },
    {
     "name": "stdout",
     "output_type": "stream",
     "text": [
      "2025-07-27 14:32:51 - [trainer.py:2230:_text_grad_constraint_propose_step] - Fail minibatch check, try next proposal: True, 0.975 <= 0.975\n"
     ]
    },
    {
     "name": "stderr",
     "output_type": "stream",
     "text": [
      "\n",
      "Proposing:  60%|██████    | 3/5 [00:11<00:07,  3.71s/it]"
     ]
    },
    {
     "name": "stdout",
     "output_type": "stream",
     "text": [
      "Proposal: 4\n",
      "2025-07-27 14:32:54 - [trainer.py:2204:_text_grad_constraint_propose_step] - Propose time: 2.41121768951416\n",
      "New prompts:  [PromptData(id='767d8352-8622-4a89-b2d4-08d8ad4d1a0c', name='llm.task_desc_str', data=\"Answer questions with short factoid answers. You will receive context(contain relevant facts). Think step by step. Extract the client name mentioned in the context, especially when explicitly labeled as 'Client:' or similar. Provide only the client name as the answer.\", requires_opt=True)]\n"
     ]
    },
    {
     "name": "stderr",
     "output_type": "stream",
     "text": [
      "\n",
      "\n",
      "Loading Data: 100%|██████████| 2/2 [00:00<00:00, 251.04it/s]\n",
      "Predicting: step(2): 0.975 across 2 samples, Max potential: 0.975: 100%|██████████| 2/2 [00:01<00:00,  2.00it/s]\n"
     ]
    },
    {
     "name": "stdout",
     "output_type": "stream",
     "text": [
      "2025-07-27 14:32:55 - [trainer.py:2230:_text_grad_constraint_propose_step] - Fail minibatch check, try next proposal: True, 0.975 <= 0.975\n"
     ]
    },
    {
     "name": "stderr",
     "output_type": "stream",
     "text": [
      "\n",
      "Proposing:  80%|████████  | 4/5 [00:15<00:03,  3.73s/it]"
     ]
    },
    {
     "name": "stdout",
     "output_type": "stream",
     "text": [
      "Proposal: 5\n",
      "2025-07-27 14:32:57 - [trainer.py:2204:_text_grad_constraint_propose_step] - Propose time: 2.029759407043457\n",
      "New prompts:  [PromptData(id='767d8352-8622-4a89-b2d4-08d8ad4d1a0c', name='llm.task_desc_str', data=\"Answer the question by extracting the client name specifically from the context where it is labeled as 'Client'.\", requires_opt=True)]\n"
     ]
    },
    {
     "name": "stderr",
     "output_type": "stream",
     "text": [
      "\n",
      "\n",
      "Loading Data: 100%|██████████| 2/2 [00:00<00:00, 350.64it/s]\n",
      "Predicting: step(2): 0.975 across 2 samples, Max potential: 0.975: 100%|██████████| 2/2 [00:01<00:00,  1.27it/s]\n"
     ]
    },
    {
     "name": "stdout",
     "output_type": "stream",
     "text": [
      "2025-07-27 14:32:59 - [trainer.py:2230:_text_grad_constraint_propose_step] - Fail minibatch check, try next proposal: True, 0.975 <= 0.975\n"
     ]
    },
    {
     "name": "stderr",
     "output_type": "stream",
     "text": [
      "\n",
      "Proposing: 100%|██████████| 5/5 [00:19<00:00,  3.84s/it]\n"
     ]
    },
    {
     "name": "stdout",
     "output_type": "stream",
     "text": [
      "No proposal can improve the subset and full set, and val set\n",
      "Saving checkpoint to C:\\Users\\wuhan\\AppData\\Roaming\\adalflow\\ckpt\\HotPotQAAdal\\constrained_max_steps_12_42c34_run_1.json\n",
      "Done with proposals\n"
     ]
    },
    {
     "name": "stderr",
     "output_type": "stream",
     "text": [
      "Training Step: 3:   8%|▊         | 2/25 [00:57<10:48, 28.22s/it]\n",
      "Loading Data: 100%|██████████| 4/4 [00:00<00:00, 196.98it/s]\n",
      "Training: 100%|██████████| 4/4 [00:02<00:00,  1.56it/s]\n",
      "\n",
      "Loading Data: 100%|██████████| 4/4 [00:00<00:00, 289.26it/s]\n",
      "Calculating Loss: 100%|██████████| 4/4 [00:03<00:00,  1.21it/s]\n",
      "Evaluating: 100%|██████████| 12/12 [00:00<00:00, 87.49it/s]\n"
     ]
    },
    {
     "name": "stdout",
     "output_type": "stream",
     "text": [
      "Moving batch eval: EvaluationResult(avg_score=0.9291666666666667, per_item_scores=[0.95, 0.95, 1.0, 0.9, 1.0, 0.8666666666666667, 0.8166666666666667, 1.0, 1.0, 0.7166666666666667, 0.95, 1.0], additional_info=None)\n",
      "2025-07-27 14:33:05 - [trainer.py:2172:_text_grad_constraint_propose_step] - Moving batch acc: 0.9291666666666667\n",
      "Moving batch correct size: 12\n",
      "Moving batch error size: 0\n",
      "Subset Error size: 0\n",
      "Subset Correct size: 2\n",
      "Subset score: 0.975\n",
      "2025-07-27 14:33:05 - [trainer.py:2178:_text_grad_constraint_propose_step] - Subset batch acc: 0.975,0.975\n",
      "Subset loss backward...\n",
      "Subset loss backward time: 2.181124210357666\n",
      "Optimizer propose...\n"
     ]
    },
    {
     "name": "stderr",
     "output_type": "stream",
     "text": [
      "\n",
      "Proposing:   0%|          | 0/5 [00:00<?, ?it/s]"
     ]
    },
    {
     "name": "stdout",
     "output_type": "stream",
     "text": [
      "Proposal: 1\n",
      "2025-07-27 14:33:09 - [trainer.py:2204:_text_grad_constraint_propose_step] - Propose time: 1.4332876205444336\n",
      "New prompts:  [PromptData(id='767d8352-8622-4a89-b2d4-08d8ad4d1a0c', name='llm.task_desc_str', data='Answer questions with short factoid answers. You will receive context (contain relevant facts). Think step by step. Identify the issuer of the invoice from the provided context and answer with the exact organization name.', requires_opt=True)]\n"
     ]
    },
    {
     "name": "stderr",
     "output_type": "stream",
     "text": [
      "\n",
      "\n",
      "Loading Data: 100%|██████████| 2/2 [00:00<00:00, 183.31it/s]\n",
      "Predicting: step(3): 0.975 across 2 samples, Max potential: 0.975: 100%|██████████| 2/2 [00:01<00:00,  1.99it/s]\n"
     ]
    },
    {
     "name": "stdout",
     "output_type": "stream",
     "text": [
      "2025-07-27 14:33:10 - [trainer.py:2230:_text_grad_constraint_propose_step] - Fail minibatch check, try next proposal: True, 0.975 <= 0.975\n"
     ]
    },
    {
     "name": "stderr",
     "output_type": "stream",
     "text": [
      "\n",
      "Proposing:  20%|██        | 1/5 [00:02<00:11,  2.80s/it]"
     ]
    },
    {
     "name": "stdout",
     "output_type": "stream",
     "text": [
      "Proposal: 2\n",
      "2025-07-27 14:33:13 - [trainer.py:2204:_text_grad_constraint_propose_step] - Propose time: 2.3749685287475586\n",
      "New prompts:  [PromptData(id='767d8352-8622-4a89-b2d4-08d8ad4d1a0c', name='llm.task_desc_str', data='Answer questions with short factoid answers. You will receive context (contain relevant facts). Think step by step. If the reasoning steps exceed 3, resolve more quickly by focusing on key facts and avoid unnecessary details to improve response speed for complex questions.', requires_opt=True)]\n"
     ]
    },
    {
     "name": "stderr",
     "output_type": "stream",
     "text": [
      "\n",
      "\n",
      "Loading Data: 100%|██████████| 2/2 [00:00<00:00, 344.59it/s]\n",
      "Predicting: step(3): 0.975 across 2 samples, Max potential: 0.975: 100%|██████████| 2/2 [00:00<00:00,  2.62it/s]\n"
     ]
    },
    {
     "name": "stdout",
     "output_type": "stream",
     "text": [
      "2025-07-27 14:33:14 - [trainer.py:2230:_text_grad_constraint_propose_step] - Fail minibatch check, try next proposal: True, 0.975 <= 0.975\n"
     ]
    },
    {
     "name": "stderr",
     "output_type": "stream",
     "text": [
      "\n",
      "Proposing:  40%|████      | 2/5 [00:06<00:09,  3.16s/it]"
     ]
    },
    {
     "name": "stdout",
     "output_type": "stream",
     "text": [
      "Proposal: 3\n",
      "2025-07-27 14:33:16 - [trainer.py:2204:_text_grad_constraint_propose_step] - Propose time: 1.4520366191864014\n",
      "New prompts:  [PromptData(id='767d8352-8622-4a89-b2d4-08d8ad4d1a0c', name='llm.task_desc_str', data='Answer questions with short factoid answers.\\nThe context contains relevant facts.\\nThink step by step.\\nThe invoice was issued by Dixie Constructors Inc. of Va.', requires_opt=True)]\n"
     ]
    },
    {
     "name": "stderr",
     "output_type": "stream",
     "text": [
      "\n",
      "\n",
      "Loading Data: 100%|██████████| 2/2 [00:00<00:00, 158.54it/s]\n",
      "Predicting: step(3): 0.975 across 2 samples, Max potential: 0.975: 100%|██████████| 2/2 [00:00<00:00,  2.45it/s]\n"
     ]
    },
    {
     "name": "stdout",
     "output_type": "stream",
     "text": [
      "2025-07-27 14:33:17 - [trainer.py:2230:_text_grad_constraint_propose_step] - Fail minibatch check, try next proposal: True, 0.975 <= 0.975\n"
     ]
    },
    {
     "name": "stderr",
     "output_type": "stream",
     "text": [
      "\n",
      "Proposing:  60%|██████    | 3/5 [00:08<00:05,  2.90s/it]"
     ]
    },
    {
     "name": "stdout",
     "output_type": "stream",
     "text": [
      "Proposal: 4\n",
      "2025-07-27 14:33:18 - [trainer.py:2204:_text_grad_constraint_propose_step] - Propose time: 1.325911045074463\n",
      "New prompts:  [PromptData(id='767d8352-8622-4a89-b2d4-08d8ad4d1a0c', name='llm.task_desc_str', data='Dixie Constructors Inc. of Va', requires_opt=True)]\n"
     ]
    },
    {
     "name": "stderr",
     "output_type": "stream",
     "text": [
      "\n",
      "\n",
      "Loading Data: 100%|██████████| 2/2 [00:00<00:00, 346.85it/s]\n",
      "Predicting: step(3): 0.975 across 2 samples, Max potential: 0.975: 100%|██████████| 2/2 [00:01<00:00,  1.26it/s]\n"
     ]
    },
    {
     "name": "stdout",
     "output_type": "stream",
     "text": [
      "2025-07-27 14:33:20 - [trainer.py:2230:_text_grad_constraint_propose_step] - Fail minibatch check, try next proposal: True, 0.975 <= 0.975\n"
     ]
    },
    {
     "name": "stderr",
     "output_type": "stream",
     "text": [
      "\n",
      "Proposing:  80%|████████  | 4/5 [00:11<00:02,  3.00s/it]"
     ]
    },
    {
     "name": "stdout",
     "output_type": "stream",
     "text": [
      "Proposal: 5\n",
      "2025-07-27 14:33:21 - [trainer.py:2204:_text_grad_constraint_propose_step] - Propose time: 1.553124189376831\n",
      "New prompts:  [PromptData(id='767d8352-8622-4a89-b2d4-08d8ad4d1a0c', name='llm.task_desc_str', data='Answer questions with short factoid answers. The context states that the invoice was issued by Dixie Constructors Inc. of Va. Please answer the question directly based on this information.', requires_opt=True)]\n"
     ]
    },
    {
     "name": "stderr",
     "output_type": "stream",
     "text": [
      "\n",
      "\n",
      "Loading Data: 100%|██████████| 2/2 [00:00<00:00, 379.83it/s]\n",
      "Predicting: step(3): 0.975 across 2 samples, Max potential: 0.975: 100%|██████████| 2/2 [00:00<00:00,  2.10it/s]\n"
     ]
    },
    {
     "name": "stdout",
     "output_type": "stream",
     "text": [
      "2025-07-27 14:33:22 - [trainer.py:2230:_text_grad_constraint_propose_step] - Fail minibatch check, try next proposal: True, 0.975 <= 0.975\n"
     ]
    },
    {
     "name": "stderr",
     "output_type": "stream",
     "text": [
      "\n",
      "Proposing: 100%|██████████| 5/5 [00:14<00:00,  2.95s/it]\n"
     ]
    },
    {
     "name": "stdout",
     "output_type": "stream",
     "text": [
      "No proposal can improve the subset and full set, and val set\n",
      "Saving checkpoint to C:\\Users\\wuhan\\AppData\\Roaming\\adalflow\\ckpt\\HotPotQAAdal\\constrained_max_steps_12_42c34_run_1.json\n",
      "Done with proposals\n"
     ]
    },
    {
     "name": "stderr",
     "output_type": "stream",
     "text": [
      "Training Step: 4:  12%|█▏        | 3/25 [01:20<09:33, 26.06s/it]\n",
      "Loading Data: 100%|██████████| 4/4 [00:00<00:00, 106.54it/s]\n",
      "Training: 100%|██████████| 4/4 [00:01<00:00,  2.13it/s]\n",
      "\n",
      "Loading Data: 100%|██████████| 4/4 [00:00<00:00, 258.31it/s]\n",
      "Calculating Loss: 100%|██████████| 4/4 [00:01<00:00,  2.23it/s]\n",
      "Evaluating: 100%|██████████| 16/16 [00:00<00:00, 92.76it/s]\n"
     ]
    },
    {
     "name": "stdout",
     "output_type": "stream",
     "text": [
      "Moving batch eval: EvaluationResult(avg_score=0.867361111111111, per_item_scores=[0.95, 0.95, 1.0, 0.9, 1.0, 0.8666666666666667, 0.8166666666666667, 1.0, 1.0, 0.7166666666666667, 0.95, 1.0, 0.24444444444444446, 0.7166666666666667, 0.8166666666666667, 0.95], additional_info=None)\n",
      "2025-07-27 14:33:27 - [trainer.py:2172:_text_grad_constraint_propose_step] - Moving batch acc: 0.867361111111111\n",
      "Moving batch correct size: 15\n",
      "Moving batch error size: 1\n",
      "Subset Error size: 1\n",
      "Subset Correct size: 2\n",
      "Subset score: 0.6425925925925926\n",
      "2025-07-27 14:33:27 - [trainer.py:2178:_text_grad_constraint_propose_step] - Subset batch acc: 0.6425925925925926,0.6425925925925926\n",
      "Subset loss backward...\n",
      "Subset loss backward time: 10.012238264083862\n",
      "Optimizer propose...\n"
     ]
    },
    {
     "name": "stderr",
     "output_type": "stream",
     "text": [
      "\n",
      "Proposing:   0%|          | 0/5 [00:00<?, ?it/s]"
     ]
    },
    {
     "name": "stdout",
     "output_type": "stream",
     "text": [
      "Proposal: 1\n",
      "2025-07-27 14:33:39 - [trainer.py:2204:_text_grad_constraint_propose_step] - Propose time: 2.1309804916381836\n",
      "New prompts:  [PromptData(id='767d8352-8622-4a89-b2d4-08d8ad4d1a0c', name='llm.task_desc_str', data='The proposed budget for 1980 was approximately $7,445,000, including $140,000 for the Scientific Advisory Board.', requires_opt=True)]\n"
     ]
    },
    {
     "name": "stderr",
     "output_type": "stream",
     "text": [
      "\n",
      "\n",
      "Loading Data:   0%|          | 0/3 [00:00<?, ?it/s]\n",
      "\n",
      "Loading Data: 100%|██████████| 3/3 [00:00<00:00, 20.37it/s]\n",
      "Predicting: step(4): 0.7833 across 3 samples, Max potential: 0.7833: 100%|██████████| 3/3 [00:02<00:00,  1.13it/s]\n"
     ]
    },
    {
     "name": "stdout",
     "output_type": "stream",
     "text": [
      "2025-07-27 14:33:42 - [trainer.py:2224:_text_grad_constraint_propose_step] - Pass minibatch check:True, 0.7833333333333333 > 0.6425925925925926\n"
     ]
    },
    {
     "name": "stderr",
     "output_type": "stream",
     "text": [
      "\n",
      "\n",
      "Loading Data: 100%|██████████| 180/180 [00:00<00:00, 3117.95it/s]\n",
      "Predicting: step(4): 0.859 across 173 samples, Max potential: 0.8644:  96%|█████████▌| 173/180 [01:02<00:02,  2.77it/s] \n"
     ]
    },
    {
     "name": "stdout",
     "output_type": "stream",
     "text": [
      "Optimizer revert: 0.8554278416347382 <= 0.8615123456790121\n"
     ]
    },
    {
     "name": "stderr",
     "output_type": "stream",
     "text": [
      "\n",
      "Proposing:  20%|██        | 1/5 [01:07<04:31, 67.80s/it]"
     ]
    },
    {
     "name": "stdout",
     "output_type": "stream",
     "text": [
      "Proposal: 2\n",
      "2025-07-27 14:34:47 - [trainer.py:2204:_text_grad_constraint_propose_step] - Propose time: 2.501926898956299\n",
      "New prompts:  [PromptData(id='767d8352-8622-4a89-b2d4-08d8ad4d1a0c', name='llm.task_desc_str', data='The proposed budget for 1980 was approximately $7,445,000, including $140,000 for the Scientific Advisory Board.', requires_opt=True)]\n"
     ]
    },
    {
     "name": "stderr",
     "output_type": "stream",
     "text": [
      "\n",
      "\n",
      "Loading Data: 100%|██████████| 3/3 [00:00<00:00, 331.76it/s]\n",
      "Predicting: step(4): 0.7833 across 3 samples, Max potential: 0.7833: 100%|██████████| 3/3 [00:00<00:00, 71.51it/s]\n"
     ]
    },
    {
     "name": "stdout",
     "output_type": "stream",
     "text": [
      "2025-07-27 14:34:48 - [trainer.py:2224:_text_grad_constraint_propose_step] - Pass minibatch check:True, 0.7833333333333333 > 0.6425925925925926\n"
     ]
    },
    {
     "name": "stderr",
     "output_type": "stream",
     "text": [
      "\n",
      "\n",
      "Loading Data: 100%|██████████| 180/180 [00:00<00:00, 10006.03it/s]\n",
      "Predicting: step(4): 0.859 across 173 samples, Max potential: 0.8644:  96%|█████████▌| 173/180 [00:02<00:00, 70.31it/s]  \n"
     ]
    },
    {
     "name": "stdout",
     "output_type": "stream",
     "text": [
      "Optimizer revert: 0.8554278416347382 <= 0.8615123456790121\n"
     ]
    },
    {
     "name": "stderr",
     "output_type": "stream",
     "text": [
      "\n",
      "Proposing:  40%|████      | 2/5 [01:13<01:33, 31.02s/it]"
     ]
    },
    {
     "name": "stdout",
     "output_type": "stream",
     "text": [
      "Proposal: 3\n",
      "2025-07-27 14:34:53 - [trainer.py:2204:_text_grad_constraint_propose_step] - Propose time: 2.3496346473693848\n",
      "New prompts:  [PromptData(id='767d8352-8622-4a89-b2d4-08d8ad4d1a0c', name='llm.task_desc_str', data='Answer questions with short factoid answers. The proposed budget for 1980 includes approximately $140,000 for the Scientific Advisory Board and about $7,445,000 in total, based on explicit figures in the context.', requires_opt=True)]\n"
     ]
    },
    {
     "name": "stderr",
     "output_type": "stream",
     "text": [
      "\n",
      "\n",
      "Loading Data: 100%|██████████| 3/3 [00:00<00:00, 375.77it/s]\n",
      "Predicting: step(4): 0.6833 across 3 samples, Max potential: 0.6833: 100%|██████████| 3/3 [00:03<00:00,  1.08s/it]\n"
     ]
    },
    {
     "name": "stdout",
     "output_type": "stream",
     "text": [
      "2025-07-27 14:34:56 - [trainer.py:2224:_text_grad_constraint_propose_step] - Pass minibatch check:True, 0.6833333333333332 > 0.6425925925925926\n"
     ]
    },
    {
     "name": "stderr",
     "output_type": "stream",
     "text": [
      "\n",
      "\n",
      "Loading Data: 100%|██████████| 180/180 [00:00<00:00, 5542.28it/s]\n",
      "Predicting: step(4): 0.864 across 180 samples, Max potential: 0.864: 100%|██████████| 180/180 [01:00<00:00,  3.00it/s]  \n"
     ]
    },
    {
     "name": "stdout",
     "output_type": "stream",
     "text": [
      "Optimizer step: 0.8639506172839506 > 0.8615123456790121\n"
     ]
    },
    {
     "name": "stderr",
     "output_type": "stream",
     "text": [
      "Proposing:  40%|████      | 2/5 [02:19<03:28, 69.53s/it]\n"
     ]
    },
    {
     "name": "stdout",
     "output_type": "stream",
     "text": [
      "Saving checkpoint to C:\\Users\\wuhan\\AppData\\Roaming\\adalflow\\ckpt\\HotPotQAAdal\\constrained_max_steps_12_42c34_run_1.json\n",
      "Done with proposals\n"
     ]
    },
    {
     "name": "stderr",
     "output_type": "stream",
     "text": [
      "Training Step: 5:  16%|█▌        | 4/25 [03:54<26:45, 76.44s/it]\n",
      "Loading Data: 100%|██████████| 4/4 [00:00<00:00, 201.36it/s]\n",
      "Training: 100%|██████████| 4/4 [00:01<00:00,  2.28it/s]\n",
      "\n",
      "Loading Data: 100%|██████████| 4/4 [00:00<00:00, 285.83it/s]\n",
      "Calculating Loss: 100%|██████████| 4/4 [00:02<00:00,  1.61it/s]\n",
      "Evaluating: 100%|██████████| 4/4 [00:00<00:00, 65.65it/s]\n"
     ]
    },
    {
     "name": "stdout",
     "output_type": "stream",
     "text": [
      "Moving batch eval: EvaluationResult(avg_score=0.8583333333333334, per_item_scores=[0.8166666666666667, 1.0, 0.7666666666666667, 0.85], additional_info=None)\n",
      "2025-07-27 14:36:01 - [trainer.py:2172:_text_grad_constraint_propose_step] - Moving batch acc: 0.8583333333333334\n",
      "Moving batch correct size: 4\n",
      "Moving batch error size: 0\n",
      "Subset Error size: 0\n",
      "Subset Correct size: 2\n",
      "Subset score: 0.8333333333333333\n",
      "2025-07-27 14:36:01 - [trainer.py:2178:_text_grad_constraint_propose_step] - Subset batch acc: 0.8333333333333333,0.8333333333333333\n",
      "Subset loss backward...\n",
      "Subset loss backward time: 6.56467866897583\n",
      "Optimizer propose...\n"
     ]
    },
    {
     "name": "stderr",
     "output_type": "stream",
     "text": [
      "\n",
      "Proposing:   0%|          | 0/5 [00:00<?, ?it/s]"
     ]
    },
    {
     "name": "stdout",
     "output_type": "stream",
     "text": [
      "Proposal: 1\n",
      "2025-07-27 14:36:09 - [trainer.py:2204:_text_grad_constraint_propose_step] - Propose time: 1.494748830795288\n",
      "New prompts:  [PromptData(id='767d8352-8622-4a89-b2d4-08d8ad4d1a0c', name='llm.task_desc_str', data=\"Answer questions with short factoid answers. The title of the document is 'MILITARY - COMPETITIVE COUNTIES, NO RJR.' as provided in the context.\", requires_opt=True)]\n"
     ]
    },
    {
     "name": "stderr",
     "output_type": "stream",
     "text": [
      "\n",
      "\n",
      "Loading Data: 100%|██████████| 2/2 [00:00<00:00, 337.11it/s]\n",
      "Predicting: step(5): 0.8333 across 2 samples, Max potential: 0.8333: 100%|██████████| 2/2 [00:01<00:00,  1.93it/s]\n"
     ]
    },
    {
     "name": "stdout",
     "output_type": "stream",
     "text": [
      "2025-07-27 14:36:10 - [trainer.py:2230:_text_grad_constraint_propose_step] - Fail minibatch check, try next proposal: True, 0.8333333333333333 <= 0.8333333333333333\n"
     ]
    },
    {
     "name": "stderr",
     "output_type": "stream",
     "text": [
      "\n",
      "Proposing:  20%|██        | 1/5 [00:02<00:11,  2.79s/it]"
     ]
    },
    {
     "name": "stdout",
     "output_type": "stream",
     "text": [
      "Proposal: 2\n",
      "2025-07-27 14:36:12 - [trainer.py:2204:_text_grad_constraint_propose_step] - Propose time: 1.7654786109924316\n",
      "New prompts:  [PromptData(id='767d8352-8622-4a89-b2d4-08d8ad4d1a0c', name='llm.task_desc_str', data=\"Answer questions with short factoid answers. The title of the document is 'MILITARY - COMPETITIVE COUNTIES, NO RJR.' as listed at the beginning of the document details.\", requires_opt=True)]\n"
     ]
    },
    {
     "name": "stderr",
     "output_type": "stream",
     "text": [
      "\n",
      "\n",
      "Loading Data: 100%|██████████| 2/2 [00:00<00:00, 137.98it/s]\n",
      "Predicting: step(5): 0.8333 across 2 samples, Max potential: 0.8333: 100%|██████████| 2/2 [00:01<00:00,  1.73it/s]\n"
     ]
    },
    {
     "name": "stdout",
     "output_type": "stream",
     "text": [
      "2025-07-27 14:36:14 - [trainer.py:2230:_text_grad_constraint_propose_step] - Fail minibatch check, try next proposal: True, 0.8333333333333333 <= 0.8333333333333333\n"
     ]
    },
    {
     "name": "stderr",
     "output_type": "stream",
     "text": [
      "\n",
      "Proposing:  40%|████      | 2/5 [00:06<00:09,  3.08s/it]"
     ]
    },
    {
     "name": "stdout",
     "output_type": "stream",
     "text": [
      "Proposal: 3\n",
      "2025-07-27 14:36:15 - [trainer.py:2204:_text_grad_constraint_propose_step] - Propose time: 1.4573354721069336\n",
      "New prompts:  [PromptData(id='767d8352-8622-4a89-b2d4-08d8ad4d1a0c', name='llm.task_desc_str', data=\"Answer questions with short factoid answers. The title of the document is 'MILITARY - COMPETITIVE COUNTIES, NO RJR.'\", requires_opt=True)]\n"
     ]
    },
    {
     "name": "stderr",
     "output_type": "stream",
     "text": [
      "\n",
      "\n",
      "Loading Data: 100%|██████████| 2/2 [00:00<00:00, 393.13it/s]\n",
      "Predicting: step(5): 0.8333 across 2 samples, Max potential: 0.8333: 100%|██████████| 2/2 [00:01<00:00,  1.46it/s]\n"
     ]
    },
    {
     "name": "stdout",
     "output_type": "stream",
     "text": [
      "2025-07-27 14:36:17 - [trainer.py:2230:_text_grad_constraint_propose_step] - Fail minibatch check, try next proposal: True, 0.8333333333333333 <= 0.8333333333333333\n"
     ]
    },
    {
     "name": "stderr",
     "output_type": "stream",
     "text": [
      "\n",
      "Proposing:  60%|██████    | 3/5 [00:09<00:06,  3.09s/it]"
     ]
    },
    {
     "name": "stdout",
     "output_type": "stream",
     "text": [
      "Proposal: 4\n",
      "2025-07-27 14:36:18 - [trainer.py:2204:_text_grad_constraint_propose_step] - Propose time: 1.4342536926269531\n",
      "New prompts:  [PromptData(id='767d8352-8622-4a89-b2d4-08d8ad4d1a0c', name='llm.task_desc_str', data=\"Answer questions with short factoid answers. The title of the document is 'MILITARY - COMPETITIVE COUNTIES, NO RJR.' as explicitly stated in the context.\", requires_opt=True)]\n"
     ]
    },
    {
     "name": "stderr",
     "output_type": "stream",
     "text": [
      "\n",
      "\n",
      "Loading Data: 100%|██████████| 2/2 [00:00<00:00, 356.92it/s]\n",
      "Predicting: step(5): 0.8333 across 2 samples, Max potential: 0.8333: 100%|██████████| 2/2 [00:01<00:00,  1.94it/s]\n"
     ]
    },
    {
     "name": "stdout",
     "output_type": "stream",
     "text": [
      "2025-07-27 14:36:19 - [trainer.py:2230:_text_grad_constraint_propose_step] - Fail minibatch check, try next proposal: True, 0.8333333333333333 <= 0.8333333333333333\n"
     ]
    },
    {
     "name": "stderr",
     "output_type": "stream",
     "text": [
      "\n",
      "Proposing:  80%|████████  | 4/5 [00:11<00:02,  2.94s/it]"
     ]
    },
    {
     "name": "stdout",
     "output_type": "stream",
     "text": [
      "Proposal: 5\n",
      "2025-07-27 14:36:21 - [trainer.py:2204:_text_grad_constraint_propose_step] - Propose time: 1.5837197303771973\n",
      "New prompts:  [PromptData(id='767d8352-8622-4a89-b2d4-08d8ad4d1a0c', name='llm.task_desc_str', data=\"Answer questions with short factoid answers. The title of the document is 'MILITARY - COMPETITIVE COUNTIES, NO RJR.' as explicitly stated in the context.\", requires_opt=True)]\n"
     ]
    },
    {
     "name": "stderr",
     "output_type": "stream",
     "text": [
      "\n",
      "\n",
      "Loading Data: 100%|██████████| 2/2 [00:00<00:00, 389.52it/s]\n",
      "Predicting: step(5): 0.8333 across 2 samples, Max potential: 0.8333: 100%|██████████| 2/2 [00:00<00:00, 57.98it/s]\n"
     ]
    },
    {
     "name": "stdout",
     "output_type": "stream",
     "text": [
      "2025-07-27 14:36:21 - [trainer.py:2230:_text_grad_constraint_propose_step] - Fail minibatch check, try next proposal: True, 0.8333333333333333 <= 0.8333333333333333\n"
     ]
    },
    {
     "name": "stderr",
     "output_type": "stream",
     "text": [
      "\n",
      "Proposing: 100%|██████████| 5/5 [00:13<00:00,  2.74s/it]\n"
     ]
    },
    {
     "name": "stdout",
     "output_type": "stream",
     "text": [
      "No proposal can improve the subset and full set, and val set\n",
      "Saving checkpoint to C:\\Users\\wuhan\\AppData\\Roaming\\adalflow\\ckpt\\HotPotQAAdal\\constrained_max_steps_12_42c34_run_1.json\n",
      "Done with proposals\n"
     ]
    },
    {
     "name": "stderr",
     "output_type": "stream",
     "text": [
      "Training Step: 6:  20%|██        | 5/25 [04:19<19:18, 57.92s/it]\n",
      "Loading Data: 100%|██████████| 4/4 [00:00<00:00, 257.52it/s]\n",
      "Training: 100%|██████████| 4/4 [00:01<00:00,  2.29it/s]\n",
      "\n",
      "Loading Data: 100%|██████████| 4/4 [00:00<00:00, 275.13it/s]\n",
      "Calculating Loss: 100%|██████████| 4/4 [00:02<00:00,  1.54it/s]\n",
      "Evaluating: 100%|██████████| 8/8 [00:00<00:00, 83.73it/s]\n"
     ]
    },
    {
     "name": "stdout",
     "output_type": "stream",
     "text": [
      "Moving batch eval: EvaluationResult(avg_score=0.7479166666666667, per_item_scores=[0.8166666666666667, 1.0, 0.7666666666666667, 0.85, 0.7166666666666667, 0.31666666666666665, 0.5666666666666667, 0.95], additional_info=None)\n",
      "2025-07-27 14:36:26 - [trainer.py:2172:_text_grad_constraint_propose_step] - Moving batch acc: 0.7479166666666667\n",
      "Moving batch correct size: 7\n",
      "Moving batch error size: 1\n",
      "Subset Error size: 1\n",
      "Subset Correct size: 2\n",
      "Subset score: 0.611111111111111\n",
      "2025-07-27 14:36:26 - [trainer.py:2178:_text_grad_constraint_propose_step] - Subset batch acc: 0.611111111111111,0.611111111111111\n",
      "Subset loss backward...\n",
      "Subset loss backward time: 6.988379955291748\n",
      "Optimizer propose...\n"
     ]
    },
    {
     "name": "stderr",
     "output_type": "stream",
     "text": [
      "\n",
      "Proposing:   0%|          | 0/5 [00:00<?, ?it/s]"
     ]
    },
    {
     "name": "stdout",
     "output_type": "stream",
     "text": [
      "Proposal: 1\n",
      "2025-07-27 14:36:36 - [trainer.py:2204:_text_grad_constraint_propose_step] - Propose time: 2.3946120738983154\n",
      "New prompts:  [PromptData(id='767d8352-8622-4a89-b2d4-08d8ad4d1a0c', name='llm.task_desc_str', data='Answer questions with short factoid answers. The context provides relevant information. Focus on providing a concise, factual response directly addressing the question.', requires_opt=True)]\n"
     ]
    },
    {
     "name": "stderr",
     "output_type": "stream",
     "text": [
      "\n",
      "\n",
      "Loading Data: 100%|██████████| 3/3 [00:00<00:00, 375.72it/s]\n",
      "Predicting: step(6): 0.6111 across 3 samples, Max potential: 0.6111: 100%|██████████| 3/3 [00:01<00:00,  2.42it/s]\n"
     ]
    },
    {
     "name": "stdout",
     "output_type": "stream",
     "text": [
      "2025-07-27 14:36:37 - [trainer.py:2230:_text_grad_constraint_propose_step] - Fail minibatch check, try next proposal: True, 0.611111111111111 <= 0.611111111111111\n"
     ]
    },
    {
     "name": "stderr",
     "output_type": "stream",
     "text": [
      "\n",
      "Proposing:  20%|██        | 1/5 [00:03<00:15,  3.84s/it]"
     ]
    },
    {
     "name": "stdout",
     "output_type": "stream",
     "text": [
      "Proposal: 2\n",
      "2025-07-27 14:36:40 - [trainer.py:2204:_text_grad_constraint_propose_step] - Propose time: 2.4511210918426514\n",
      "New prompts:  [PromptData(id='767d8352-8622-4a89-b2d4-08d8ad4d1a0c', name='llm.task_desc_str', data=\"Answer questions with short factoid answers. The primary focus of MCST's start-up is on product improvements and enhancing substances, as explicitly mentioned in the context.\", requires_opt=True)]\n"
     ]
    },
    {
     "name": "stderr",
     "output_type": "stream",
     "text": [
      "\n",
      "\n",
      "Loading Data: 100%|██████████| 3/3 [00:00<00:00, 368.62it/s]\n",
      "Predicting: step(6): 0.5944 across 3 samples, Max potential: 0.5944: 100%|██████████| 3/3 [00:02<00:00,  1.09it/s]\n"
     ]
    },
    {
     "name": "stdout",
     "output_type": "stream",
     "text": [
      "2025-07-27 14:36:42 - [trainer.py:2230:_text_grad_constraint_propose_step] - Fail minibatch check, try next proposal: True, 0.5944444444444444 <= 0.611111111111111\n"
     ]
    },
    {
     "name": "stderr",
     "output_type": "stream",
     "text": [
      "\n",
      "Proposing:  40%|████      | 2/5 [00:09<00:14,  4.79s/it]"
     ]
    },
    {
     "name": "stdout",
     "output_type": "stream",
     "text": [
      "Proposal: 3\n",
      "2025-07-27 14:36:45 - [trainer.py:2204:_text_grad_constraint_propose_step] - Propose time: 2.3399288654327393\n",
      "New prompts:  [PromptData(id='767d8352-8622-4a89-b2d4-08d8ad4d1a0c', name='llm.task_desc_str', data=\"Answer the primary focus of MCST's start-up as explicitly stated in the context: 'product improvements' and 'enhancing substances.'\", requires_opt=True)]\n"
     ]
    },
    {
     "name": "stderr",
     "output_type": "stream",
     "text": [
      "\n",
      "\n",
      "Loading Data: 100%|██████████| 3/3 [00:00<00:00, 236.52it/s]\n",
      "Predicting: step(6): 0.5944 across 3 samples, Max potential: 0.5944: 100%|██████████| 3/3 [00:01<00:00,  2.42it/s]\n"
     ]
    },
    {
     "name": "stdout",
     "output_type": "stream",
     "text": [
      "2025-07-27 14:36:46 - [trainer.py:2230:_text_grad_constraint_propose_step] - Fail minibatch check, try next proposal: True, 0.5944444444444444 <= 0.611111111111111\n"
     ]
    },
    {
     "name": "stderr",
     "output_type": "stream",
     "text": [
      "\n",
      "Proposing:  60%|██████    | 3/5 [00:13<00:08,  4.35s/it]"
     ]
    },
    {
     "name": "stdout",
     "output_type": "stream",
     "text": [
      "Proposal: 4\n",
      "2025-07-27 14:36:49 - [trainer.py:2204:_text_grad_constraint_propose_step] - Propose time: 2.1806063652038574\n",
      "New prompts:  [PromptData(id='767d8352-8622-4a89-b2d4-08d8ad4d1a0c', name='llm.task_desc_str', data='Answer questions with short factoid answers. The primary focus of MCST\\'s start-up is on \"product improvements\" and \"enhancing substances,\" as explicitly stated in the context.', requires_opt=True)]\n"
     ]
    },
    {
     "name": "stderr",
     "output_type": "stream",
     "text": [
      "\n",
      "\n",
      "Loading Data: 100%|██████████| 3/3 [00:00<00:00, 318.58it/s]\n",
      "Predicting: step(6): 0.7444 across 3 samples, Max potential: 0.7444: 100%|██████████| 3/3 [00:02<00:00,  1.17it/s]\n"
     ]
    },
    {
     "name": "stdout",
     "output_type": "stream",
     "text": [
      "2025-07-27 14:36:51 - [trainer.py:2224:_text_grad_constraint_propose_step] - Pass minibatch check:True, 0.7444444444444445 > 0.611111111111111\n"
     ]
    },
    {
     "name": "stderr",
     "output_type": "stream",
     "text": [
      "\n",
      "\n",
      "Loading Data: 100%|██████████| 180/180 [00:00<00:00, 4991.54it/s]\n",
      "Predicting: step(6): 0.8526 across 26 samples, Max potential: 0.9787:  14%|█▍        | 26/180 [00:06<00:27,  5.55it/s]Error at parsing JSON string: Got invalid JSON object with yaml.safe_load. Error: while parsing a flow mapping\n",
      "  in \"<unicode string>\", line 1, column 1:\n",
      "    {\n",
      "    ^\n",
      "expected ',' or '}', but got '<scalar>'\n",
      "  in \"<unicode string>\", line 2, column 102:\n",
      "     ... tual cost for November 1980 as \"$1,214,985\".\",\n",
      "                                         ^. Got JSON string: {\n",
      "    \"reasoning\": \"The provided context explicitly states the total actual cost for November 1980 as \"$1,214,985\".\",\n",
      "    \"answer\": \"$1,214,985\"\n",
      "}\n",
      "Error at parsing output: Error: Got invalid JSON object with yaml.safe_load. Error: while parsing a flow mapping\n",
      "  in \"<unicode string>\", line 1, column 1:\n",
      "    {\n",
      "    ^\n",
      "expected ',' or '}', but got '<scalar>'\n",
      "  in \"<unicode string>\", line 2, column 102:\n",
      "     ... tual cost for November 1980 as \"$1,214,985\".\",\n",
      "                                         ^. Got JSON string: {\n",
      "    \"reasoning\": \"The provided context explicitly states the total actual cost for November 1980 as \"$1,214,985\".\",\n",
      "    \"answer\": \"$1,214,985\"\n",
      "}\n",
      "Error processing the output processors: Error: Error: Got invalid JSON object with yaml.safe_load. Error: while parsing a flow mapping\n",
      "  in \"<unicode string>\", line 1, column 1:\n",
      "    {\n",
      "    ^\n",
      "expected ',' or '}', but got '<scalar>'\n",
      "  in \"<unicode string>\", line 2, column 102:\n",
      "     ... tual cost for November 1980 as \"$1,214,985\".\",\n",
      "                                         ^. Got JSON string: {\n",
      "    \"reasoning\": \"The provided context explicitly states the total actual cost for November 1980 as \"$1,214,985\".\",\n",
      "    \"answer\": \"$1,214,985\"\n",
      "}\n",
      "Predicting: step(6): 0.8646 across 180 samples, Max potential: 0.8646: 100%|██████████| 180/180 [00:55<00:00,  3.23it/s]\n"
     ]
    },
    {
     "name": "stdout",
     "output_type": "stream",
     "text": [
      "Optimizer step: 0.8646296296296296 > 0.8639506172839506\n"
     ]
    },
    {
     "name": "stderr",
     "output_type": "stream",
     "text": [
      "Proposing:  60%|██████    | 3/5 [01:13<00:49, 24.64s/it]\n"
     ]
    },
    {
     "name": "stdout",
     "output_type": "stream",
     "text": [
      "Saving checkpoint to C:\\Users\\wuhan\\AppData\\Roaming\\adalflow\\ckpt\\HotPotQAAdal\\constrained_max_steps_12_42c34_run_1.json\n",
      "Done with proposals\n"
     ]
    },
    {
     "name": "stderr",
     "output_type": "stream",
     "text": [
      "Training Step: 7:  24%|██▍       | 6/25 [05:45<21:21, 67.42s/it]\n",
      "Loading Data: 100%|██████████| 4/4 [00:00<00:00, 151.90it/s]\n",
      "Training: 100%|██████████| 4/4 [00:01<00:00,  2.89it/s]\n",
      "\n",
      "Loading Data: 100%|██████████| 4/4 [00:00<00:00, 278.59it/s]\n",
      "Calculating Loss: 100%|██████████| 4/4 [00:01<00:00,  2.02it/s]\n",
      "Evaluating: 100%|██████████| 4/4 [00:00<00:00, 60.07it/s]\n"
     ]
    },
    {
     "name": "stdout",
     "output_type": "stream",
     "text": [
      "Moving batch eval: EvaluationResult(avg_score=0.9166666666666667, per_item_scores=[1.0, 1.0, 0.95, 0.7166666666666667], additional_info=None)\n",
      "2025-07-27 14:37:51 - [trainer.py:2172:_text_grad_constraint_propose_step] - Moving batch acc: 0.9166666666666667\n",
      "Moving batch correct size: 4\n",
      "Moving batch error size: 0\n",
      "Subset Error size: 0\n",
      "Subset Correct size: 2\n",
      "Subset score: 0.975\n",
      "2025-07-27 14:37:51 - [trainer.py:2178:_text_grad_constraint_propose_step] - Subset batch acc: 0.975,0.975\n",
      "Subset loss backward...\n",
      "Subset loss backward time: 1.8756518363952637\n",
      "Optimizer propose...\n"
     ]
    },
    {
     "name": "stderr",
     "output_type": "stream",
     "text": [
      "\n",
      "Proposing:   0%|          | 0/5 [00:00<?, ?it/s]"
     ]
    },
    {
     "name": "stdout",
     "output_type": "stream",
     "text": [
      "Proposal: 1\n",
      "2025-07-27 14:37:54 - [trainer.py:2204:_text_grad_constraint_propose_step] - Propose time: 1.0867352485656738\n",
      "New prompts:  [PromptData(id='767d8352-8622-4a89-b2d4-08d8ad4d1a0c', name='llm.task_desc_str', data='Management Science Associates, Inc.', requires_opt=True)]\n"
     ]
    },
    {
     "name": "stderr",
     "output_type": "stream",
     "text": [
      "\n",
      "\n",
      "Loading Data: 100%|██████████| 2/2 [00:00<00:00, 368.63it/s]\n",
      "Predicting: step(7): 0.975 across 2 samples, Max potential: 0.975: 100%|██████████| 2/2 [00:01<00:00,  1.03it/s]\n"
     ]
    },
    {
     "name": "stdout",
     "output_type": "stream",
     "text": [
      "2025-07-27 14:37:56 - [trainer.py:2230:_text_grad_constraint_propose_step] - Fail minibatch check, try next proposal: True, 0.975 <= 0.975\n"
     ]
    },
    {
     "name": "stderr",
     "output_type": "stream",
     "text": [
      "\n",
      "Proposing:  20%|██        | 1/5 [00:03<00:13,  3.31s/it]"
     ]
    },
    {
     "name": "stdout",
     "output_type": "stream",
     "text": [
      "Proposal: 2\n"
     ]
    },
    {
     "name": "stderr",
     "output_type": "stream",
     "text": [
      "Error at parsing JSON string: Got invalid JSON object with yaml.safe_load. Error: while parsing a flow mapping\n",
      "  in \"<unicode string>\", line 1, column 1:\n",
      "    {\n",
      "    ^\n",
      "expected ',' or '}', but got '<scalar>'\n",
      "  in \"<unicode string>\", line 4, column 29:\n",
      "        \"proposed_variable\": \"{\"total_amount_bill\": \"$12,760\"}\"\n",
      "                                ^. Got JSON string: {\n",
      "    \"reasoning\": \"The context clearly states that the invoice amount is $12,760, and the document indicates this is the total billed amount for the project or research. The minor overage from the original estimate (within 10%) confirms that the total of $12,760 is accurate and comprehensive for this billing period.\",\n",
      "    \"method\": \"ADD new elements (instruction) to emphasize that the total bill is explicitly given and to clarify the overage context, leveraging constraints and formatting for clear presentation.\",\n",
      "    \"proposed_variable\": \"{\"total_amount_bill\": \"$12,760\"}\"\n",
      "}\n",
      "Error at parsing output: Error: Got invalid JSON object with yaml.safe_load. Error: while parsing a flow mapping\n",
      "  in \"<unicode string>\", line 1, column 1:\n",
      "    {\n",
      "    ^\n",
      "expected ',' or '}', but got '<scalar>'\n",
      "  in \"<unicode string>\", line 4, column 29:\n",
      "        \"proposed_variable\": \"{\"total_amount_bill\": \"$12,760\"}\"\n",
      "                                ^. Got JSON string: {\n",
      "    \"reasoning\": \"The context clearly states that the invoice amount is $12,760, and the document indicates this is the total billed amount for the project or research. The minor overage from the original estimate (within 10%) confirms that the total of $12,760 is accurate and comprehensive for this billing period.\",\n",
      "    \"method\": \"ADD new elements (instruction) to emphasize that the total bill is explicitly given and to clarify the overage context, leveraging constraints and formatting for clear presentation.\",\n",
      "    \"proposed_variable\": \"{\"total_amount_bill\": \"$12,760\"}\"\n",
      "}\n",
      "Error processing the output processors: Error: Error: Got invalid JSON object with yaml.safe_load. Error: while parsing a flow mapping\n",
      "  in \"<unicode string>\", line 1, column 1:\n",
      "    {\n",
      "    ^\n",
      "expected ',' or '}', but got '<scalar>'\n",
      "  in \"<unicode string>\", line 4, column 29:\n",
      "        \"proposed_variable\": \"{\"total_amount_bill\": \"$12,760\"}\"\n",
      "                                ^. Got JSON string: {\n",
      "    \"reasoning\": \"The context clearly states that the invoice amount is $12,760, and the document indicates this is the total billed amount for the project or research. The minor overage from the original estimate (within 10%) confirms that the total of $12,760 is accurate and comprehensive for this billing period.\",\n",
      "    \"method\": \"ADD new elements (instruction) to emphasize that the total bill is explicitly given and to clarify the overage context, leveraging constraints and formatting for clear presentation.\",\n",
      "    \"proposed_variable\": \"{\"total_amount_bill\": \"$12,760\"}\"\n",
      "}\n"
     ]
    },
    {
     "name": "stdout",
     "output_type": "stream",
     "text": [
      "2025-07-27 14:37:59 - [trainer.py:2204:_text_grad_constraint_propose_step] - Propose time: 2.1369495391845703\n",
      "New prompts:  [PromptData(id='767d8352-8622-4a89-b2d4-08d8ad4d1a0c', name='llm.task_desc_str', data='{\\n    \"reasoning\": \"The context clearly states that the invoice amount is $12,760, and the document indicates this is the total billed amount for the project or research. The minor overage from the original estimate (within 10%) confirms that the total of $12,760 is accurate and comprehensive for this billing period.\",\\n    \"method\": \"ADD new elements (instruction) to emphasize that the total bill is explicitly given and to clarify the overage context, leveraging constraints and formatting for clear presentation.\",\\n    \"proposed_variable\": \"{\"total_amount_bill\": \"$12,760\"}\"\\n}', requires_opt=True)]\n"
     ]
    },
    {
     "name": "stderr",
     "output_type": "stream",
     "text": [
      "\n",
      "\n",
      "Loading Data: 100%|██████████| 2/2 [00:00<00:00, 146.64it/s]\n",
      "Predicting: step(7): 0.9083 across 2 samples, Max potential: 0.9083: 100%|██████████| 2/2 [00:03<00:00,  1.65s/it]\n"
     ]
    },
    {
     "name": "stdout",
     "output_type": "stream",
     "text": [
      "2025-07-27 14:38:02 - [trainer.py:2230:_text_grad_constraint_propose_step] - Fail minibatch check, try next proposal: True, 0.9083333333333333 <= 0.975\n"
     ]
    },
    {
     "name": "stderr",
     "output_type": "stream",
     "text": [
      "\n",
      "Proposing:  40%|████      | 2/5 [00:09<00:14,  4.78s/it]"
     ]
    },
    {
     "name": "stdout",
     "output_type": "stream",
     "text": [
      "Proposal: 3\n",
      "2025-07-27 14:38:03 - [trainer.py:2204:_text_grad_constraint_propose_step] - Propose time: 1.0678327083587646\n",
      "New prompts:  [PromptData(id='767d8352-8622-4a89-b2d4-08d8ad4d1a0c', name='llm.task_desc_str', data='The total amount of the bill is $12,760.', requires_opt=True)]\n"
     ]
    },
    {
     "name": "stderr",
     "output_type": "stream",
     "text": [
      "\n",
      "\n",
      "Loading Data: 100%|██████████| 2/2 [00:00<00:00, 27.28it/s]\n",
      "Predicting: step(7): 0.975 across 2 samples, Max potential: 0.975: 100%|██████████| 2/2 [00:01<00:00,  1.70it/s]\n"
     ]
    },
    {
     "name": "stdout",
     "output_type": "stream",
     "text": [
      "2025-07-27 14:38:05 - [trainer.py:2230:_text_grad_constraint_propose_step] - Fail minibatch check, try next proposal: True, 0.975 <= 0.975\n"
     ]
    },
    {
     "name": "stderr",
     "output_type": "stream",
     "text": [
      "\n",
      "Proposing:  60%|██████    | 3/5 [00:11<00:07,  3.82s/it]"
     ]
    },
    {
     "name": "stdout",
     "output_type": "stream",
     "text": [
      "Proposal: 4\n",
      "2025-07-27 14:38:06 - [trainer.py:2204:_text_grad_constraint_propose_step] - Propose time: 1.4542059898376465\n",
      "New prompts:  [PromptData(id='767d8352-8622-4a89-b2d4-08d8ad4d1a0c', name='llm.task_desc_str', data='The total amount of the bill is $12,760.', requires_opt=True)]\n"
     ]
    },
    {
     "name": "stderr",
     "output_type": "stream",
     "text": [
      "\n",
      "\n",
      "Loading Data: 100%|██████████| 2/2 [00:00<00:00, 314.03it/s]\n",
      "Predicting: step(7): 0.975 across 2 samples, Max potential: 0.975: 100%|██████████| 2/2 [00:00<00:00, 60.09it/s]\n"
     ]
    },
    {
     "name": "stdout",
     "output_type": "stream",
     "text": [
      "2025-07-27 14:38:07 - [trainer.py:2230:_text_grad_constraint_propose_step] - Fail minibatch check, try next proposal: True, 0.975 <= 0.975\n"
     ]
    },
    {
     "name": "stderr",
     "output_type": "stream",
     "text": [
      "\n",
      "Proposing:  80%|████████  | 4/5 [00:13<00:02,  3.00s/it]"
     ]
    },
    {
     "name": "stdout",
     "output_type": "stream",
     "text": [
      "Proposal: 5\n",
      "2025-07-27 14:38:08 - [trainer.py:2204:_text_grad_constraint_propose_step] - Propose time: 1.675497055053711\n",
      "New prompts:  [PromptData(id='767d8352-8622-4a89-b2d4-08d8ad4d1a0c', name='llm.task_desc_str', data='Answer questions with short factoid answers. The primary focus of MCST\\'s start-up is on \"product improvements\" and \"enhancing substances,\" as explicitly stated in the context.', requires_opt=True)]\n"
     ]
    },
    {
     "name": "stderr",
     "output_type": "stream",
     "text": [
      "\n",
      "\n",
      "Loading Data: 100%|██████████| 2/2 [00:00<00:00, 351.28it/s]\n",
      "Predicting: step(7): 0.975 across 2 samples, Max potential: 0.975: 100%|██████████| 2/2 [00:00<00:00, 109.76it/s]\n"
     ]
    },
    {
     "name": "stdout",
     "output_type": "stream",
     "text": [
      "2025-07-27 14:38:09 - [trainer.py:2230:_text_grad_constraint_propose_step] - Fail minibatch check, try next proposal: True, 0.975 <= 0.975\n"
     ]
    },
    {
     "name": "stderr",
     "output_type": "stream",
     "text": [
      "\n",
      "Proposing: 100%|██████████| 5/5 [00:15<00:00,  3.10s/it]\n"
     ]
    },
    {
     "name": "stdout",
     "output_type": "stream",
     "text": [
      "No proposal can improve the subset and full set, and val set\n",
      "Saving checkpoint to C:\\Users\\wuhan\\AppData\\Roaming\\adalflow\\ckpt\\HotPotQAAdal\\constrained_max_steps_12_42c34_run_1.json\n",
      "Done with proposals\n"
     ]
    },
    {
     "name": "stderr",
     "output_type": "stream",
     "text": [
      "Training Step: 8:  28%|██▊       | 7/25 [06:06<15:42, 52.37s/it]\n",
      "Loading Data: 100%|██████████| 4/4 [00:00<00:00, 195.10it/s]\n",
      "Training: 100%|██████████| 4/4 [00:01<00:00,  2.88it/s]\n",
      "\n",
      "Loading Data: 100%|██████████| 4/4 [00:00<00:00, 264.03it/s]\n",
      "Calculating Loss: 100%|██████████| 4/4 [00:02<00:00,  1.38it/s]\n",
      "Evaluating: 100%|██████████| 8/8 [00:00<00:00, 83.44it/s]\n"
     ]
    },
    {
     "name": "stdout",
     "output_type": "stream",
     "text": [
      "Moving batch eval: EvaluationResult(avg_score=0.8333333333333333, per_item_scores=[1.0, 1.0, 0.95, 0.7166666666666667, 0.7666666666666667, 0.95, 0.33333333333333337, 0.95], additional_info=None)\n",
      "2025-07-27 14:38:13 - [trainer.py:2172:_text_grad_constraint_propose_step] - Moving batch acc: 0.8333333333333333\n",
      "Moving batch correct size: 7\n",
      "Moving batch error size: 1\n",
      "Subset Error size: 1\n",
      "Subset Correct size: 2\n",
      "Subset score: 0.6833333333333332\n",
      "2025-07-27 14:38:13 - [trainer.py:2178:_text_grad_constraint_propose_step] - Subset batch acc: 0.6833333333333332,0.6833333333333332\n",
      "Subset loss backward...\n",
      "Subset loss backward time: 6.7888689041137695\n",
      "Optimizer propose...\n"
     ]
    },
    {
     "name": "stderr",
     "output_type": "stream",
     "text": [
      "\n",
      "Proposing:   0%|          | 0/5 [00:00<?, ?it/s]"
     ]
    },
    {
     "name": "stdout",
     "output_type": "stream",
     "text": [
      "Proposal: 1\n",
      "2025-07-27 14:38:23 - [trainer.py:2204:_text_grad_constraint_propose_step] - Propose time: 2.6355788707733154\n",
      "New prompts:  [PromptData(id='767d8352-8622-4a89-b2d4-08d8ad4d1a0c', name='llm.task_desc_str', data='The total amount of TI dues for September is $1,600,000.', requires_opt=True)]\n"
     ]
    },
    {
     "name": "stderr",
     "output_type": "stream",
     "text": [
      "\n",
      "\n",
      "Loading Data: 100%|██████████| 3/3 [00:00<00:00, 168.69it/s]\n",
      "Predicting: step(8): 0.9056 across 3 samples, Max potential: 0.9056: 100%|██████████| 3/3 [00:03<00:00,  1.28s/it]\n"
     ]
    },
    {
     "name": "stdout",
     "output_type": "stream",
     "text": [
      "2025-07-27 14:38:27 - [trainer.py:2224:_text_grad_constraint_propose_step] - Pass minibatch check:True, 0.9055555555555556 > 0.6833333333333332\n"
     ]
    },
    {
     "name": "stderr",
     "output_type": "stream",
     "text": [
      "\n",
      "\n",
      "Loading Data: 100%|██████████| 180/180 [00:00<00:00, 2744.35it/s]\n",
      "Predicting: step(8): 0.871 across 180 samples, Max potential: 0.871: 100%|██████████| 180/180 [01:22<00:00,  2.17it/s]  \n"
     ]
    },
    {
     "name": "stdout",
     "output_type": "stream",
     "text": [
      "Optimizer step: 0.8709567901234568 > 0.8646296296296296\n"
     ]
    },
    {
     "name": "stderr",
     "output_type": "stream",
     "text": [
      "Proposing:   0%|          | 0/5 [01:29<?, ?it/s]\n"
     ]
    },
    {
     "name": "stdout",
     "output_type": "stream",
     "text": [
      "Saving checkpoint to C:\\Users\\wuhan\\AppData\\Roaming\\adalflow\\ckpt\\HotPotQAAdal\\constrained_max_steps_12_42c34_run_1.json\n",
      "Done with proposals\n"
     ]
    },
    {
     "name": "stderr",
     "output_type": "stream",
     "text": [
      "Training Step: 9:  32%|███▏      | 8/25 [07:48<19:17, 68.07s/it]\n",
      "Loading Data: 100%|██████████| 4/4 [00:00<00:00, 113.18it/s]\n",
      "Training: 100%|██████████| 4/4 [00:01<00:00,  2.50it/s]\n",
      "\n",
      "Loading Data: 100%|██████████| 4/4 [00:00<00:00, 40.45it/s]\n",
      "Calculating Loss: 100%|██████████| 4/4 [00:02<00:00,  1.68it/s]\n",
      "Evaluating: 100%|██████████| 4/4 [00:00<00:00, 63.25it/s]\n"
     ]
    },
    {
     "name": "stdout",
     "output_type": "stream",
     "text": [
      "Moving batch eval: EvaluationResult(avg_score=0.8833333333333333, per_item_scores=[0.95, 0.8166666666666667, 0.7666666666666667, 1.0], additional_info=None)\n",
      "2025-07-27 14:39:55 - [trainer.py:2172:_text_grad_constraint_propose_step] - Moving batch acc: 0.8833333333333333\n",
      "Moving batch correct size: 4\n",
      "Moving batch error size: 0\n",
      "Subset Error size: 0\n",
      "Subset Correct size: 2\n",
      "Subset score: 0.8583333333333334\n",
      "2025-07-27 14:39:55 - [trainer.py:2178:_text_grad_constraint_propose_step] - Subset batch acc: 0.8583333333333334,0.8583333333333334\n",
      "Subset loss backward...\n",
      "Subset loss backward time: 4.5079429149627686\n",
      "Optimizer propose...\n"
     ]
    },
    {
     "name": "stderr",
     "output_type": "stream",
     "text": [
      "\n",
      "Proposing:   0%|          | 0/5 [00:00<?, ?it/s]"
     ]
    },
    {
     "name": "stdout",
     "output_type": "stream",
     "text": [
      "Proposal: 1\n",
      "2025-07-27 14:40:01 - [trainer.py:2204:_text_grad_constraint_propose_step] - Propose time: 1.724212408065796\n",
      "New prompts:  [PromptData(id='767d8352-8622-4a89-b2d4-08d8ad4d1a0c', name='llm.task_desc_str', data='The actual issuer of this service invoice is Big Mo Parking Co.', requires_opt=True)]\n"
     ]
    },
    {
     "name": "stderr",
     "output_type": "stream",
     "text": [
      "\n",
      "\n",
      "Loading Data: 100%|██████████| 2/2 [00:00<00:00, 149.77it/s]\n",
      "Predicting: step(9): 0.8583 across 2 samples, Max potential: 0.8583: 100%|██████████| 2/2 [00:03<00:00,  1.76s/it]\n"
     ]
    },
    {
     "name": "stdout",
     "output_type": "stream",
     "text": [
      "2025-07-27 14:40:05 - [trainer.py:2230:_text_grad_constraint_propose_step] - Fail minibatch check, try next proposal: True, 0.8583333333333333 <= 0.8583333333333334\n"
     ]
    },
    {
     "name": "stderr",
     "output_type": "stream",
     "text": [
      "\n",
      "Proposing:  20%|██        | 1/5 [00:05<00:22,  5.57s/it]"
     ]
    },
    {
     "name": "stdout",
     "output_type": "stream",
     "text": [
      "Proposal: 2\n",
      "2025-07-27 14:40:07 - [trainer.py:2204:_text_grad_constraint_propose_step] - Propose time: 1.8758313655853271\n",
      "New prompts:  [PromptData(id='767d8352-8622-4a89-b2d4-08d8ad4d1a0c', name='llm.task_desc_str', data='Big Mo Parking Co.', requires_opt=True)]\n"
     ]
    },
    {
     "name": "stderr",
     "output_type": "stream",
     "text": [
      "\n",
      "\n",
      "Loading Data: 100%|██████████| 2/2 [00:00<00:00, 371.51it/s]\n",
      "Predicting: step(9): 0.8583 across 2 samples, Max potential: 0.8583: 100%|██████████| 2/2 [00:01<00:00,  1.28it/s]\n"
     ]
    },
    {
     "name": "stdout",
     "output_type": "stream",
     "text": [
      "2025-07-27 14:40:09 - [trainer.py:2230:_text_grad_constraint_propose_step] - Fail minibatch check, try next proposal: True, 0.8583333333333334 <= 0.8583333333333334\n"
     ]
    },
    {
     "name": "stderr",
     "output_type": "stream",
     "text": [
      "\n",
      "Proposing:  40%|████      | 2/5 [00:09<00:13,  4.48s/it]"
     ]
    },
    {
     "name": "stdout",
     "output_type": "stream",
     "text": [
      "Proposal: 3\n",
      "2025-07-27 14:40:10 - [trainer.py:2204:_text_grad_constraint_propose_step] - Propose time: 1.6405119895935059\n",
      "New prompts:  [PromptData(id='767d8352-8622-4a89-b2d4-08d8ad4d1a0c', name='llm.task_desc_str', data='The primary issuer of the invoice is Big Mo Parking Co.', requires_opt=True)]\n"
     ]
    },
    {
     "name": "stderr",
     "output_type": "stream",
     "text": [
      "\n",
      "\n",
      "Loading Data: 100%|██████████| 2/2 [00:00<00:00, 102.63it/s]\n",
      "Predicting: step(9): 0.8583 across 2 samples, Max potential: 0.8583: 100%|██████████| 2/2 [00:00<00:00,  2.22it/s]\n"
     ]
    },
    {
     "name": "stdout",
     "output_type": "stream",
     "text": [
      "2025-07-27 14:40:12 - [trainer.py:2230:_text_grad_constraint_propose_step] - Fail minibatch check, try next proposal: True, 0.8583333333333334 <= 0.8583333333333334\n"
     ]
    },
    {
     "name": "stderr",
     "output_type": "stream",
     "text": [
      "\n",
      "Proposing:  60%|██████    | 3/5 [00:12<00:07,  3.76s/it]"
     ]
    },
    {
     "name": "stdout",
     "output_type": "stream",
     "text": [
      "Proposal: 4\n",
      "2025-07-27 14:40:14 - [trainer.py:2204:_text_grad_constraint_propose_step] - Propose time: 1.8080732822418213\n",
      "New prompts:  [PromptData(id='767d8352-8622-4a89-b2d4-08d8ad4d1a0c', name='llm.task_desc_str', data='Big Mo Parking Co.', requires_opt=True)]\n"
     ]
    },
    {
     "name": "stderr",
     "output_type": "stream",
     "text": [
      "\n",
      "\n",
      "Loading Data: 100%|██████████| 2/2 [00:00<00:00, 539.29it/s]\n",
      "Predicting: step(9): 0.8583 across 2 samples, Max potential: 0.8583: 100%|██████████| 2/2 [00:00<00:00, 74.99it/s]\n"
     ]
    },
    {
     "name": "stdout",
     "output_type": "stream",
     "text": [
      "2025-07-27 14:40:14 - [trainer.py:2230:_text_grad_constraint_propose_step] - Fail minibatch check, try next proposal: True, 0.8583333333333334 <= 0.8583333333333334\n"
     ]
    },
    {
     "name": "stderr",
     "output_type": "stream",
     "text": [
      "\n",
      "Proposing:  80%|████████  | 4/5 [00:14<00:03,  3.08s/it]"
     ]
    },
    {
     "name": "stdout",
     "output_type": "stream",
     "text": [
      "Proposal: 5\n",
      "2025-07-27 14:40:15 - [trainer.py:2204:_text_grad_constraint_propose_step] - Propose time: 1.6226348876953125\n",
      "New prompts:  [PromptData(id='767d8352-8622-4a89-b2d4-08d8ad4d1a0c', name='llm.task_desc_str', data='Borriston Laboratories, Inc.', requires_opt=True)]\n"
     ]
    },
    {
     "name": "stderr",
     "output_type": "stream",
     "text": [
      "\n",
      "\n",
      "Loading Data: 100%|██████████| 2/2 [00:00<00:00, 374.37it/s]\n",
      "Predicting: step(9): 0.8583 across 2 samples, Max potential: 0.8583: 100%|██████████| 2/2 [00:01<00:00,  1.51it/s]\n"
     ]
    },
    {
     "name": "stdout",
     "output_type": "stream",
     "text": [
      "2025-07-27 14:40:17 - [trainer.py:2230:_text_grad_constraint_propose_step] - Fail minibatch check, try next proposal: True, 0.8583333333333334 <= 0.8583333333333334\n"
     ]
    },
    {
     "name": "stderr",
     "output_type": "stream",
     "text": [
      "\n",
      "Proposing: 100%|██████████| 5/5 [00:17<00:00,  3.49s/it]\n"
     ]
    },
    {
     "name": "stdout",
     "output_type": "stream",
     "text": [
      "No proposal can improve the subset and full set, and val set\n",
      "Saving checkpoint to C:\\Users\\wuhan\\AppData\\Roaming\\adalflow\\ckpt\\HotPotQAAdal\\constrained_max_steps_12_42c34_run_1.json\n",
      "Done with proposals\n"
     ]
    },
    {
     "name": "stderr",
     "output_type": "stream",
     "text": [
      "Training Step: 10:  36%|███▌      | 9/25 [08:15<14:42, 55.13s/it]\n",
      "Loading Data: 100%|██████████| 4/4 [00:00<00:00, 121.13it/s]\n",
      "Training: 100%|██████████| 4/4 [00:02<00:00,  1.51it/s]\n",
      "\n",
      "Loading Data: 100%|██████████| 4/4 [00:00<00:00, 225.78it/s]\n",
      "Calculating Loss: 100%|██████████| 4/4 [00:01<00:00,  2.29it/s]\n",
      "Evaluating: 100%|██████████| 8/8 [00:00<00:00, 81.40it/s]\n"
     ]
    },
    {
     "name": "stdout",
     "output_type": "stream",
     "text": [
      "Moving batch eval: EvaluationResult(avg_score=0.9125, per_item_scores=[0.95, 0.8166666666666667, 0.7666666666666667, 1.0, 0.8166666666666667, 1.0, 0.95, 1.0], additional_info=None)\n",
      "2025-07-27 14:40:22 - [trainer.py:2172:_text_grad_constraint_propose_step] - Moving batch acc: 0.9125\n",
      "Moving batch correct size: 8\n",
      "Moving batch error size: 0\n",
      "Subset Error size: 0\n",
      "Subset Correct size: 2\n",
      "Subset score: 0.8166666666666667\n",
      "2025-07-27 14:40:22 - [trainer.py:2178:_text_grad_constraint_propose_step] - Subset batch acc: 0.8166666666666667,0.8166666666666667\n",
      "Subset loss backward...\n",
      "Subset loss backward time: 6.472169876098633\n",
      "Optimizer propose...\n"
     ]
    },
    {
     "name": "stderr",
     "output_type": "stream",
     "text": [
      "\n",
      "Proposing:   0%|          | 0/5 [00:00<?, ?it/s]"
     ]
    },
    {
     "name": "stdout",
     "output_type": "stream",
     "text": [
      "Proposal: 1\n",
      "2025-07-27 14:40:30 - [trainer.py:2204:_text_grad_constraint_propose_step] - Propose time: 1.3939645290374756\n",
      "New prompts:  [PromptData(id='767d8352-8622-4a89-b2d4-08d8ad4d1a0c', name='llm.task_desc_str', data='634-D0618170', requires_opt=True)]\n"
     ]
    },
    {
     "name": "stderr",
     "output_type": "stream",
     "text": [
      "\n",
      "\n",
      "Loading Data: 100%|██████████| 2/2 [00:00<00:00, 394.00it/s]\n",
      "Predicting: step(10): 0.8167 across 2 samples, Max potential: 0.8167: 100%|██████████| 2/2 [00:01<00:00,  1.98it/s]\n"
     ]
    },
    {
     "name": "stdout",
     "output_type": "stream",
     "text": [
      "2025-07-27 14:40:31 - [trainer.py:2230:_text_grad_constraint_propose_step] - Fail minibatch check, try next proposal: True, 0.8166666666666667 <= 0.8166666666666667\n"
     ]
    },
    {
     "name": "stderr",
     "output_type": "stream",
     "text": [
      "\n",
      "Proposing:  20%|██        | 1/5 [00:02<00:10,  2.67s/it]"
     ]
    },
    {
     "name": "stdout",
     "output_type": "stream",
     "text": [
      "Proposal: 2\n",
      "2025-07-27 14:40:33 - [trainer.py:2204:_text_grad_constraint_propose_step] - Propose time: 2.0672740936279297\n",
      "New prompts:  [PromptData(id='767d8352-8622-4a89-b2d4-08d8ad4d1a0c', name='llm.task_desc_str', data='The invoice number is explicitly listed as 634-D0618170 in the key details section.', requires_opt=True)]\n"
     ]
    },
    {
     "name": "stderr",
     "output_type": "stream",
     "text": [
      "\n",
      "\n",
      "Loading Data: 100%|██████████| 2/2 [00:00<00:00, 397.72it/s]\n",
      "Predicting: step(10): 0.8167 across 2 samples, Max potential: 0.8167: 100%|██████████| 2/2 [00:01<00:00,  1.84it/s]\n"
     ]
    },
    {
     "name": "stdout",
     "output_type": "stream",
     "text": [
      "2025-07-27 14:40:35 - [trainer.py:2230:_text_grad_constraint_propose_step] - Fail minibatch check, try next proposal: True, 0.8166666666666667 <= 0.8166666666666667\n"
     ]
    },
    {
     "name": "stderr",
     "output_type": "stream",
     "text": [
      "\n",
      "Proposing:  40%|████      | 2/5 [00:06<00:09,  3.16s/it]"
     ]
    },
    {
     "name": "stdout",
     "output_type": "stream",
     "text": [
      "Proposal: 3\n",
      "2025-07-27 14:40:36 - [trainer.py:2204:_text_grad_constraint_propose_step] - Propose time: 1.3565571308135986\n",
      "New prompts:  [PromptData(id='767d8352-8622-4a89-b2d4-08d8ad4d1a0c', name='llm.task_desc_str', data='634-D0618170', requires_opt=True)]\n"
     ]
    },
    {
     "name": "stderr",
     "output_type": "stream",
     "text": [
      "\n",
      "\n",
      "Loading Data: 100%|██████████| 2/2 [00:00<00:00, 64.86it/s]\n",
      "Predicting: step(10): 0.8167 across 2 samples, Max potential: 0.8167: 100%|██████████| 2/2 [00:00<00:00, 96.14it/s]\n"
     ]
    },
    {
     "name": "stdout",
     "output_type": "stream",
     "text": [
      "2025-07-27 14:40:36 - [trainer.py:2230:_text_grad_constraint_propose_step] - Fail minibatch check, try next proposal: True, 0.8166666666666667 <= 0.8166666666666667\n"
     ]
    },
    {
     "name": "stderr",
     "output_type": "stream",
     "text": [
      "\n",
      "Proposing:  60%|██████    | 3/5 [00:07<00:04,  2.46s/it]"
     ]
    },
    {
     "name": "stdout",
     "output_type": "stream",
     "text": [
      "Proposal: 4\n",
      "2025-07-27 14:40:38 - [trainer.py:2204:_text_grad_constraint_propose_step] - Propose time: 1.2686476707458496\n",
      "New prompts:  [PromptData(id='767d8352-8622-4a89-b2d4-08d8ad4d1a0c', name='llm.task_desc_str', data='634-D0618170', requires_opt=True)]\n"
     ]
    },
    {
     "name": "stderr",
     "output_type": "stream",
     "text": [
      "\n",
      "\n",
      "Loading Data: 100%|██████████| 2/2 [00:00<00:00, 422.79it/s]\n",
      "Predicting: step(10): 0.8167 across 2 samples, Max potential: 0.8167: 100%|██████████| 2/2 [00:00<00:00, 145.63it/s]\n"
     ]
    },
    {
     "name": "stdout",
     "output_type": "stream",
     "text": [
      "2025-07-27 14:40:38 - [trainer.py:2230:_text_grad_constraint_propose_step] - Fail minibatch check, try next proposal: True, 0.8166666666666667 <= 0.8166666666666667\n"
     ]
    },
    {
     "name": "stderr",
     "output_type": "stream",
     "text": [
      "\n",
      "Proposing:  80%|████████  | 4/5 [00:09<00:02,  2.07s/it]"
     ]
    },
    {
     "name": "stdout",
     "output_type": "stream",
     "text": [
      "Proposal: 5\n",
      "2025-07-27 14:40:39 - [trainer.py:2204:_text_grad_constraint_propose_step] - Propose time: 1.3242995738983154\n",
      "New prompts:  [PromptData(id='767d8352-8622-4a89-b2d4-08d8ad4d1a0c', name='llm.task_desc_str', data='634-D0618170', requires_opt=True)]\n"
     ]
    },
    {
     "name": "stderr",
     "output_type": "stream",
     "text": [
      "\n",
      "\n",
      "Loading Data: 100%|██████████| 2/2 [00:00<00:00, 383.95it/s]\n",
      "Predicting: step(10): 0.8167 across 2 samples, Max potential: 0.8167: 100%|██████████| 2/2 [00:00<00:00, 80.15it/s]\n"
     ]
    },
    {
     "name": "stdout",
     "output_type": "stream",
     "text": [
      "2025-07-27 14:40:39 - [trainer.py:2230:_text_grad_constraint_propose_step] - Fail minibatch check, try next proposal: True, 0.8166666666666667 <= 0.8166666666666667\n"
     ]
    },
    {
     "name": "stderr",
     "output_type": "stream",
     "text": [
      "\n",
      "Proposing: 100%|██████████| 5/5 [00:10<00:00,  2.17s/it]\n"
     ]
    },
    {
     "name": "stdout",
     "output_type": "stream",
     "text": [
      "No proposal can improve the subset and full set, and val set\n",
      "Saving checkpoint to C:\\Users\\wuhan\\AppData\\Roaming\\adalflow\\ckpt\\HotPotQAAdal\\constrained_max_steps_12_42c34_run_1.json\n",
      "Done with proposals\n"
     ]
    },
    {
     "name": "stderr",
     "output_type": "stream",
     "text": [
      "Training Step: 11:  40%|████      | 10/25 [08:37<11:15, 45.04s/it]\n",
      "Loading Data: 100%|██████████| 4/4 [00:00<00:00, 250.71it/s]\n",
      "Training: 100%|██████████| 4/4 [00:01<00:00,  2.12it/s]\n",
      "\n",
      "Loading Data: 100%|██████████| 4/4 [00:00<00:00, 298.84it/s]\n",
      "Calculating Loss: 100%|██████████| 4/4 [00:02<00:00,  1.87it/s]\n",
      "Evaluating: 100%|██████████| 12/12 [00:00<00:00, 60.71it/s]\n"
     ]
    },
    {
     "name": "stdout",
     "output_type": "stream",
     "text": [
      "Moving batch eval: EvaluationResult(avg_score=0.9152777777777779, per_item_scores=[0.95, 0.8166666666666667, 0.7666666666666667, 1.0, 0.8166666666666667, 1.0, 0.95, 1.0, 1.0, 0.8666666666666667, 1.0, 0.8166666666666667], additional_info=None)\n",
      "2025-07-27 14:40:44 - [trainer.py:2172:_text_grad_constraint_propose_step] - Moving batch acc: 0.9152777777777779\n",
      "Moving batch correct size: 12\n",
      "Moving batch error size: 0\n",
      "Subset Error size: 0\n",
      "Subset Correct size: 2\n",
      "Subset score: 0.975\n",
      "2025-07-27 14:40:44 - [trainer.py:2178:_text_grad_constraint_propose_step] - Subset batch acc: 0.975,0.975\n",
      "Subset loss backward...\n",
      "Subset loss backward time: 3.3684310913085938\n",
      "Optimizer propose...\n"
     ]
    },
    {
     "name": "stderr",
     "output_type": "stream",
     "text": [
      "\n",
      "Proposing:   0%|          | 0/5 [00:00<?, ?it/s]"
     ]
    },
    {
     "name": "stdout",
     "output_type": "stream",
     "text": [
      "Proposal: 1\n",
      "2025-07-27 14:40:49 - [trainer.py:2204:_text_grad_constraint_propose_step] - Propose time: 1.4082615375518799\n",
      "New prompts:  [PromptData(id='767d8352-8622-4a89-b2d4-08d8ad4d1a0c', name='llm.task_desc_str', data='You are 2 steps since your last improvement. Update the variable more rapidly when steps are larger than 3.', requires_opt=True)]\n"
     ]
    },
    {
     "name": "stderr",
     "output_type": "stream",
     "text": [
      "\n",
      "\n",
      "Loading Data: 100%|██████████| 2/2 [00:00<00:00, 406.72it/s]\n",
      "Predicting: step(11): 0.975 across 2 samples, Max potential: 0.975: 100%|██████████| 2/2 [00:01<00:00,  1.38it/s]\n"
     ]
    },
    {
     "name": "stdout",
     "output_type": "stream",
     "text": [
      "2025-07-27 14:40:50 - [trainer.py:2230:_text_grad_constraint_propose_step] - Fail minibatch check, try next proposal: True, 0.975 <= 0.975\n"
     ]
    },
    {
     "name": "stderr",
     "output_type": "stream",
     "text": [
      "\n",
      "Proposing:  20%|██        | 1/5 [00:03<00:12,  3.12s/it]"
     ]
    },
    {
     "name": "stdout",
     "output_type": "stream",
     "text": [
      "Proposal: 2\n",
      "2025-07-27 14:40:52 - [trainer.py:2204:_text_grad_constraint_propose_step] - Propose time: 1.5416154861450195\n",
      "New prompts:  [PromptData(id='767d8352-8622-4a89-b2d4-08d8ad4d1a0c', name='llm.task_desc_str', data='You are 2 steps since your last improvement. Update the value more rapidly when steps are larger than 3.', requires_opt=True)]\n"
     ]
    },
    {
     "name": "stderr",
     "output_type": "stream",
     "text": [
      "\n",
      "\n",
      "Loading Data: 100%|██████████| 2/2 [00:00<00:00, 419.33it/s]\n",
      "Predicting: step(11): 0.975 across 2 samples, Max potential: 0.975: 100%|██████████| 2/2 [00:01<00:00,  1.38it/s]\n"
     ]
    },
    {
     "name": "stdout",
     "output_type": "stream",
     "text": [
      "2025-07-27 14:40:54 - [trainer.py:2230:_text_grad_constraint_propose_step] - Fail minibatch check, try next proposal: True, 0.975 <= 0.975\n"
     ]
    },
    {
     "name": "stderr",
     "output_type": "stream",
     "text": [
      "\n",
      "Proposing:  40%|████      | 2/5 [00:06<00:09,  3.20s/it]"
     ]
    },
    {
     "name": "stdout",
     "output_type": "stream",
     "text": [
      "Proposal: 3\n",
      "2025-07-27 14:40:55 - [trainer.py:2204:_text_grad_constraint_propose_step] - Propose time: 1.6629016399383545\n",
      "New prompts:  [PromptData(id='767d8352-8622-4a89-b2d4-08d8ad4d1a0c', name='llm.task_desc_str', data='You are 2 steps since your last improvement. Update the value more rapidly when steps are larger than 3.', requires_opt=True)]\n"
     ]
    },
    {
     "name": "stderr",
     "output_type": "stream",
     "text": [
      "\n",
      "\n",
      "Loading Data: 100%|██████████| 2/2 [00:00<00:00, 427.08it/s]\n",
      "Predicting: step(11): 0.975 across 2 samples, Max potential: 0.975: 100%|██████████| 2/2 [00:00<00:00, 80.53it/s]\n"
     ]
    },
    {
     "name": "stdout",
     "output_type": "stream",
     "text": [
      "2025-07-27 14:40:56 - [trainer.py:2230:_text_grad_constraint_propose_step] - Fail minibatch check, try next proposal: True, 0.975 <= 0.975\n"
     ]
    },
    {
     "name": "stderr",
     "output_type": "stream",
     "text": [
      "\n",
      "Proposing:  60%|██████    | 3/5 [00:08<00:05,  2.61s/it]"
     ]
    },
    {
     "name": "stdout",
     "output_type": "stream",
     "text": [
      "Proposal: 4\n",
      "2025-07-27 14:40:59 - [trainer.py:2204:_text_grad_constraint_propose_step] - Propose time: 3.148559808731079\n",
      "New prompts:  [PromptData(id='767d8352-8622-4a89-b2d4-08d8ad4d1a0c', name='llm.task_desc_str', data='You are 2 steps since your last improvement. Update the value more rapidly when steps are larger than 3.', requires_opt=True)]\n"
     ]
    },
    {
     "name": "stderr",
     "output_type": "stream",
     "text": [
      "\n",
      "\n",
      "Loading Data: 100%|██████████| 2/2 [00:00<00:00, 434.87it/s]\n",
      "Predicting: step(11): 0.975 across 2 samples, Max potential: 0.975: 100%|██████████| 2/2 [00:00<00:00, 150.56it/s]\n"
     ]
    },
    {
     "name": "stdout",
     "output_type": "stream",
     "text": [
      "2025-07-27 14:40:59 - [trainer.py:2230:_text_grad_constraint_propose_step] - Fail minibatch check, try next proposal: True, 0.975 <= 0.975\n"
     ]
    },
    {
     "name": "stderr",
     "output_type": "stream",
     "text": [
      "\n",
      "Proposing:  80%|████████  | 4/5 [00:11<00:02,  2.91s/it]"
     ]
    },
    {
     "name": "stdout",
     "output_type": "stream",
     "text": [
      "Proposal: 5\n",
      "2025-07-27 14:41:01 - [trainer.py:2204:_text_grad_constraint_propose_step] - Propose time: 1.7207798957824707\n",
      "New prompts:  [PromptData(id='767d8352-8622-4a89-b2d4-08d8ad4d1a0c', name='llm.task_desc_str', data='You are 2 steps since your last improvement. Update the variable more rapidly when steps are larger than 3 to ensure responsiveness for larger updates.', requires_opt=True)]\n"
     ]
    },
    {
     "name": "stderr",
     "output_type": "stream",
     "text": [
      "\n",
      "\n",
      "Loading Data: 100%|██████████| 2/2 [00:00<00:00, 387.38it/s]\n",
      "Predicting: step(11): 0.975 across 2 samples, Max potential: 0.975: 100%|██████████| 2/2 [00:02<00:00,  1.38s/it]\n"
     ]
    },
    {
     "name": "stdout",
     "output_type": "stream",
     "text": [
      "2025-07-27 14:41:04 - [trainer.py:2230:_text_grad_constraint_propose_step] - Fail minibatch check, try next proposal: True, 0.975 <= 0.975\n"
     ]
    },
    {
     "name": "stderr",
     "output_type": "stream",
     "text": [
      "\n",
      "Proposing: 100%|██████████| 5/5 [00:16<00:00,  3.29s/it]\n"
     ]
    },
    {
     "name": "stdout",
     "output_type": "stream",
     "text": [
      "No proposal can improve the subset and full set, and val set\n",
      "Saving checkpoint to C:\\Users\\wuhan\\AppData\\Roaming\\adalflow\\ckpt\\HotPotQAAdal\\constrained_max_steps_12_42c34_run_1.json\n",
      "Done with proposals\n"
     ]
    },
    {
     "name": "stderr",
     "output_type": "stream",
     "text": [
      "Training Step: 12:  44%|████▍     | 11/25 [09:02<09:02, 38.74s/it]\n",
      "Loading Data: 100%|██████████| 4/4 [00:00<00:00, 158.12it/s]\n",
      "Training: 100%|██████████| 4/4 [00:02<00:00,  1.99it/s]\n",
      "\n",
      "Loading Data: 100%|██████████| 4/4 [00:00<00:00, 288.66it/s]\n",
      "Calculating Loss: 100%|██████████| 4/4 [00:02<00:00,  1.47it/s]\n",
      "Evaluating: 100%|██████████| 16/16 [00:00<00:00, 89.81it/s]\n"
     ]
    },
    {
     "name": "stdout",
     "output_type": "stream",
     "text": [
      "Moving batch eval: EvaluationResult(avg_score=0.9104166666666667, per_item_scores=[0.95, 0.8166666666666667, 0.7666666666666667, 1.0, 0.8166666666666667, 1.0, 0.95, 1.0, 1.0, 0.8666666666666667, 1.0, 0.8166666666666667, 0.8166666666666667, 0.95, 1.0, 0.8166666666666667], additional_info=None)\n",
      "2025-07-27 14:41:09 - [trainer.py:2172:_text_grad_constraint_propose_step] - Moving batch acc: 0.9104166666666667\n",
      "Moving batch correct size: 16\n",
      "Moving batch error size: 0\n",
      "Subset Error size: 0\n",
      "Subset Correct size: 2\n",
      "Subset score: 0.8583333333333334\n",
      "2025-07-27 14:41:09 - [trainer.py:2178:_text_grad_constraint_propose_step] - Subset batch acc: 0.8583333333333334,0.8583333333333334\n",
      "Subset loss backward...\n",
      "Subset loss backward time: 7.152108669281006\n",
      "Optimizer propose...\n"
     ]
    },
    {
     "name": "stderr",
     "output_type": "stream",
     "text": [
      "\n",
      "Proposing:   0%|          | 0/5 [00:00<?, ?it/s]"
     ]
    },
    {
     "name": "stdout",
     "output_type": "stream",
     "text": [
      "Proposal: 1\n",
      "2025-07-27 14:41:18 - [trainer.py:2204:_text_grad_constraint_propose_step] - Propose time: 1.6187927722930908\n",
      "New prompts:  [PromptData(id='767d8352-8622-4a89-b2d4-08d8ad4d1a0c', name='llm.task_desc_str', data='Big Mo Parking Co.', requires_opt=True)]\n"
     ]
    },
    {
     "name": "stderr",
     "output_type": "stream",
     "text": [
      "\n",
      "\n",
      "Loading Data: 100%|██████████| 2/2 [00:00<00:00, 137.69it/s]\n",
      "Predicting: step(12): 0.8583 across 2 samples, Max potential: 0.8583: 100%|██████████| 2/2 [00:01<00:00,  1.89it/s]\n"
     ]
    },
    {
     "name": "stdout",
     "output_type": "stream",
     "text": [
      "2025-07-27 14:41:19 - [trainer.py:2230:_text_grad_constraint_propose_step] - Fail minibatch check, try next proposal: True, 0.8583333333333334 <= 0.8583333333333334\n"
     ]
    },
    {
     "name": "stderr",
     "output_type": "stream",
     "text": [
      "\n",
      "Proposing:  20%|██        | 1/5 [00:03<00:11,  3.00s/it]"
     ]
    },
    {
     "name": "stdout",
     "output_type": "stream",
     "text": [
      "Proposal: 2\n",
      "2025-07-27 14:41:21 - [trainer.py:2204:_text_grad_constraint_propose_step] - Propose time: 1.467461109161377\n",
      "New prompts:  [PromptData(id='767d8352-8622-4a89-b2d4-08d8ad4d1a0c', name='llm.task_desc_str', data=\"Big Mo Parking Co. operating under 'Big White Co.'\", requires_opt=True)]\n"
     ]
    },
    {
     "name": "stderr",
     "output_type": "stream",
     "text": [
      "\n",
      "\n",
      "Loading Data: 100%|██████████| 2/2 [00:00<00:00, 430.19it/s]\n",
      "Prediting step: 12:   0%|          | 0/2 [00:00<?, ?it/s]Error at parsing JSON string: Got invalid JSON object with yaml.safe_load. Error: while parsing a flow mapping\n",
      "  in \"<unicode string>\", line 1, column 1:\n",
      "    {\n",
      "    ^\n",
      "expected ',' or '}', but got '<scalar>'\n",
      "  in \"<unicode string>\", line 2, column 98:\n",
      "     ... Big White Co., operating under \"Big Mo Parking Co.\"'. This indic ... \n",
      "                                         ^. Got JSON string: {\n",
      "    \"reasoning\": \"The invoice clearly states that the issuer is 'Big White Co., operating under \"Big Mo Parking Co.\"'. This indicates that Big White Co. is the entity issuing the invoice for parking services provided to the Tobacco Institute. The address and details further affirm that Big White Co. is the actual service provider invoicing the client.\",\n",
      "    \"answer\": \"Big White Co.\"\n",
      "}\n",
      "Error at parsing output: Error: Got invalid JSON object with yaml.safe_load. Error: while parsing a flow mapping\n",
      "  in \"<unicode string>\", line 1, column 1:\n",
      "    {\n",
      "    ^\n",
      "expected ',' or '}', but got '<scalar>'\n",
      "  in \"<unicode string>\", line 2, column 98:\n",
      "     ... Big White Co., operating under \"Big Mo Parking Co.\"'. This indic ... \n",
      "                                         ^. Got JSON string: {\n",
      "    \"reasoning\": \"The invoice clearly states that the issuer is 'Big White Co., operating under \"Big Mo Parking Co.\"'. This indicates that Big White Co. is the entity issuing the invoice for parking services provided to the Tobacco Institute. The address and details further affirm that Big White Co. is the actual service provider invoicing the client.\",\n",
      "    \"answer\": \"Big White Co.\"\n",
      "}\n",
      "Error processing the output processors: Error: Error: Got invalid JSON object with yaml.safe_load. Error: while parsing a flow mapping\n",
      "  in \"<unicode string>\", line 1, column 1:\n",
      "    {\n",
      "    ^\n",
      "expected ',' or '}', but got '<scalar>'\n",
      "  in \"<unicode string>\", line 2, column 98:\n",
      "     ... Big White Co., operating under \"Big Mo Parking Co.\"'. This indic ... \n",
      "                                         ^. Got JSON string: {\n",
      "    \"reasoning\": \"The invoice clearly states that the issuer is 'Big White Co., operating under \"Big Mo Parking Co.\"'. This indicates that Big White Co. is the entity issuing the invoice for parking services provided to the Tobacco Institute. The address and details further affirm that Big White Co. is the actual service provider invoicing the client.\",\n",
      "    \"answer\": \"Big White Co.\"\n",
      "}\n",
      "Predicting: step(12): 0.925 across 2 samples, Max potential: 0.925: 100%|██████████| 2/2 [00:03<00:00,  1.85s/it]\n"
     ]
    },
    {
     "name": "stdout",
     "output_type": "stream",
     "text": [
      "2025-07-27 14:41:25 - [trainer.py:2224:_text_grad_constraint_propose_step] - Pass minibatch check:True, 0.9249999999999999 > 0.8583333333333334\n"
     ]
    },
    {
     "name": "stderr",
     "output_type": "stream",
     "text": [
      "\n",
      "\n",
      "Loading Data:   0%|          | 0/180 [00:00<?, ?it/s]\n",
      "\n",
      "Loading Data: 100%|██████████| 180/180 [00:00<00:00, 393.82it/s]\n",
      "Predicting: step(12): 0.8687 across 176 samples, Max potential: 0.8716:  98%|█████████▊| 176/180 [01:01<00:01,  2.87it/s]\n"
     ]
    },
    {
     "name": "stdout",
     "output_type": "stream",
     "text": [
      "Optimizer revert: 0.8685812931575643 <= 0.8709567901234568\n"
     ]
    },
    {
     "name": "stderr",
     "output_type": "stream",
     "text": [
      "\n",
      "Proposing:  40%|████      | 2/5 [01:10<02:02, 40.80s/it]"
     ]
    },
    {
     "name": "stdout",
     "output_type": "stream",
     "text": [
      "Proposal: 3\n",
      "2025-07-27 14:42:29 - [trainer.py:2204:_text_grad_constraint_propose_step] - Propose time: 1.813809871673584\n",
      "New prompts:  [PromptData(id='767d8352-8622-4a89-b2d4-08d8ad4d1a0c', name='llm.task_desc_str', data='The issuer of the invoice is Big Mo Parking Co., operating under \"Big White Co.\"', requires_opt=True)]\n"
     ]
    },
    {
     "name": "stderr",
     "output_type": "stream",
     "text": [
      "\n",
      "\n",
      "Loading Data: 100%|██████████| 2/2 [00:00<00:00, 389.15it/s]\n",
      "Predicting: step(12): 0.8583 across 2 samples, Max potential: 0.8583: 100%|██████████| 2/2 [00:02<00:00,  1.44s/it]\n"
     ]
    },
    {
     "name": "stdout",
     "output_type": "stream",
     "text": [
      "2025-07-27 14:42:32 - [trainer.py:2230:_text_grad_constraint_propose_step] - Fail minibatch check, try next proposal: True, 0.8583333333333334 <= 0.8583333333333334\n"
     ]
    },
    {
     "name": "stderr",
     "output_type": "stream",
     "text": [
      "\n",
      "Proposing:  60%|██████    | 3/5 [01:15<00:48, 24.43s/it]"
     ]
    },
    {
     "name": "stdout",
     "output_type": "stream",
     "text": [
      "Proposal: 4\n",
      "2025-07-27 14:42:33 - [trainer.py:2204:_text_grad_constraint_propose_step] - Propose time: 1.4718420505523682\n",
      "New prompts:  [PromptData(id='767d8352-8622-4a89-b2d4-08d8ad4d1a0c', name='llm.task_desc_str', data='The issuer of the invoice is Big Mo Parking Co., operating under Big White Co.', requires_opt=True)]\n"
     ]
    },
    {
     "name": "stderr",
     "output_type": "stream",
     "text": [
      "\n",
      "\n",
      "Loading Data: 100%|██████████| 2/2 [00:00<00:00, 359.59it/s]\n",
      "Predicting: step(12): 0.8583 across 2 samples, Max potential: 0.8583: 100%|██████████| 2/2 [00:02<00:00,  1.08s/it]\n"
     ]
    },
    {
     "name": "stdout",
     "output_type": "stream",
     "text": [
      "2025-07-27 14:42:35 - [trainer.py:2230:_text_grad_constraint_propose_step] - Fail minibatch check, try next proposal: True, 0.8583333333333334 <= 0.8583333333333334\n"
     ]
    },
    {
     "name": "stderr",
     "output_type": "stream",
     "text": [
      "\n",
      "Proposing:  80%|████████  | 4/5 [01:19<00:16, 16.32s/it]"
     ]
    },
    {
     "name": "stdout",
     "output_type": "stream",
     "text": [
      "Proposal: 5\n",
      "2025-07-27 14:42:37 - [trainer.py:2204:_text_grad_constraint_propose_step] - Propose time: 1.364556074142456\n",
      "New prompts:  [PromptData(id='767d8352-8622-4a89-b2d4-08d8ad4d1a0c', name='llm.task_desc_str', data='Big Mo Parking Co. operating under Big White Co.', requires_opt=True)]\n"
     ]
    },
    {
     "name": "stderr",
     "output_type": "stream",
     "text": [
      "\n",
      "\n",
      "Loading Data: 100%|██████████| 2/2 [00:00<00:00, 36.07it/s]\n",
      "Predicting: step(12): 0.8583 across 2 samples, Max potential: 0.8583: 100%|██████████| 2/2 [00:01<00:00,  1.57it/s]\n"
     ]
    },
    {
     "name": "stdout",
     "output_type": "stream",
     "text": [
      "2025-07-27 14:42:38 - [trainer.py:2230:_text_grad_constraint_propose_step] - Fail minibatch check, try next proposal: True, 0.8583333333333334 <= 0.8583333333333334\n"
     ]
    },
    {
     "name": "stderr",
     "output_type": "stream",
     "text": [
      "\n",
      "Proposing: 100%|██████████| 5/5 [01:22<00:00, 16.42s/it]\n"
     ]
    },
    {
     "name": "stdout",
     "output_type": "stream",
     "text": [
      "No proposal can improve the subset and full set, and val set\n",
      "Saving checkpoint to C:\\Users\\wuhan\\AppData\\Roaming\\adalflow\\ckpt\\HotPotQAAdal\\constrained_max_steps_12_42c34_run_1.json\n",
      "Done with proposals\n"
     ]
    },
    {
     "name": "stderr",
     "output_type": "stream",
     "text": [
      "Training Step: 12:  48%|████▊     | 12/25 [10:36<12:05, 55.78s/it]"
     ]
    },
    {
     "name": "stdout",
     "output_type": "stream",
     "text": [
      "Reached max steps\n"
     ]
    },
    {
     "name": "stderr",
     "output_type": "stream",
     "text": [
      "Training Step: 12:  48%|████▊     | 12/25 [10:36<11:29, 53.07s/it]\n",
      "Epoch: 100%|██████████| 1/1 [10:36<00:00, 636.82s/it]\n"
     ]
    },
    {
     "name": "stdout",
     "output_type": "stream",
     "text": [
      "Starting step: 12\n",
      "steps [0, 1, 2, 3, 4, 5, 6, 7, 8, 9, 10, 11, 12]\n",
      "Training time: 874.3076066970825s\n"
     ]
    },
    {
     "name": "stderr",
     "output_type": "stream",
     "text": [
      "Loading Data: 100%|██████████| 200/200 [00:00<00:00, 8954.63it/s]\n",
      "Predicting: step(0): 0.8715 across 200 samples, Max potential: 0.8715: 100%|██████████| 200/200 [01:34<00:00,  2.11it/s]\n"
     ]
    },
    {
     "name": "stdout",
     "output_type": "stream",
     "text": [
      "ckpt_file: C:\\Users\\wuhan\\AppData\\Roaming\\adalflow\\ckpt\\HotPotQAAdal\\constrained_max_steps_12_42c34_run_1.json\n"
     ]
    },
    {
     "data": {
      "text/plain": [
       "'C:\\\\Users\\\\wuhan\\\\AppData\\\\Roaming\\\\adalflow\\\\ckpt\\\\HotPotQAAdal\\\\constrained_max_steps_12_42c34_run_1.json'"
      ]
     },
     "execution_count": 14,
     "metadata": {},
     "output_type": "execute_result"
    }
   ],
   "source": [
    "train(\n",
    "    task_model_cliet=gpt4_model[\"model_client\"],\n",
    "    task_model_kwargs=gpt4_model[\"model_kwargs\"],\n",
    "    optimizer_model_config=gpt4_model,\n",
    "    backward_engine_model_config=gpt4_model,\n",
    "    max_steps=12,\n",
    ")"
   ]
  },
  {
   "cell_type": "code",
   "execution_count": 15,
   "id": "7c6442a1",
   "metadata": {},
   "outputs": [],
   "source": [
    "def plot_training_single(file):\n",
    "    with open(file) as f:\n",
    "        data = json.load(f)\n",
    "\n",
    "    val_scores = data[\"val_scores\"]\n",
    "    start_test_score = data[\"test_scores\"][0]\n",
    "    end_test_score = data[\"test_score\"]\n",
    "\n",
    "    plt.figure(figsize=(12, 6))\n",
    "\n",
    "    # Plot validation scores as a continuous line\n",
    "    plt.plot(\n",
    "        val_scores,\n",
    "        label=\"Validation Scores\",\n",
    "        marker=\"o\",\n",
    "        markersize=5,\n",
    "        linewidth=1.5,\n",
    "        color=\"tab:blue\",\n",
    "    )\n",
    "\n",
    "    # Plot test scores as individual markers\n",
    "    plt.scatter(\n",
    "        0,\n",
    "        start_test_score,\n",
    "        s=100,\n",
    "        marker=\"D\",\n",
    "        color=\"tab:orange\",\n",
    "        edgecolor=\"black\",\n",
    "        label=\"Initial Test Score\",\n",
    "    )\n",
    "    plt.scatter(\n",
    "        len(val_scores) - 1,\n",
    "        end_test_score,\n",
    "        s=100,\n",
    "        marker=\"D\",\n",
    "        color=\"tab:green\",\n",
    "        edgecolor=\"black\",\n",
    "        label=\"Final Test Score\",\n",
    "    )\n",
    "\n",
    "    plt.title(\"AdalFlow Promp Optimization Training Progress\", fontsize=14, pad=20)\n",
    "    plt.xlabel(\"Training Steps\", fontsize=12)\n",
    "    plt.ylabel(\"GEval Score\", fontsize=12)\n",
    "    plt.legend(loc=\"lower right\", frameon=True)\n",
    "    plt.grid(True, linestyle=\"--\", alpha=0.6)\n",
    "\n",
    "    # Set x-axis to show only integer steps\n",
    "    plt.xticks(range(0, len(val_scores) + 1, max(1, len(val_scores) // 10)))\n",
    "\n",
    "    plt.tight_layout()\n",
    "    plt.show()"
   ]
  },
  {
   "cell_type": "code",
   "execution_count": 16,
   "id": "1732102f",
   "metadata": {},
   "outputs": [
    {
     "data": {
      "image/png": "[encoded data removed]",
      "text/plain": [
       "<Figure size 1200x600 with 1 Axes>"
      ]
     },
     "metadata": {},
     "output_type": "display_data"
    }
   ],
   "source": [
    "file = 'C:\\\\Users\\\\wuhan\\\\AppData\\\\Roaming\\\\adalflow\\\\ckpt\\\\HotPotQAAdal\\\\constrained_max_steps_12_42c34_run_1.json'\n",
    "plot_training_single(file)"
   ]
  },
  {
   "cell_type": "markdown",
   "id": "2b35d38b",
   "metadata": {},
   "source": [
    "### Understand the JSON Output"
   ]
  },
  {
   "cell_type": "code",
   "execution_count": 17,
   "id": "948f3905",
   "metadata": {},
   "outputs": [
    {
     "name": "stdout",
     "output_type": "stream",
     "text": [
      "dict_keys(['steps', 'val_scores', 'test_scores', 'step_results', 'effective_measure', 'validate_stats', 'time_stamp', 'total_time', 'test_score', 'trainer_state'])\n"
     ]
    }
   ],
   "source": [
    "with open(file) as f:\n",
    "    data = json.load(f)\n",
    "print(data.keys())"
   ]
  },
  {
   "cell_type": "code",
   "execution_count": 18,
   "id": "0fe56f33",
   "metadata": {},
   "outputs": [
    {
     "name": "stdout",
     "output_type": "stream",
     "text": [
      "0.8715\n",
      "8\n",
      "Initial Prompt: Answer questions with short factoid answers.\n",
      "                    You will receive context(contain relevant facts).\n",
      "                    Think step by step.\n",
      "                \n",
      "Best Prompt: The total amount of TI dues for September is $1,600,000.\n"
     ]
    }
   ],
   "source": [
    "print(data['test_score'])\n",
    "\n",
    "best_idx = data['val_scores'].index(max(data['val_scores']))\n",
    "print(best_idx)\n",
    "\n",
    "best_prompt = data['step_results'][best_idx]['prompt'][0]['data']\n",
    "initial_prompt = data['step_results'][0]['prompt'][0]['data']\n",
    "print('Initial Prompt:', initial_prompt)\n",
    "print('Best Prompt:', best_prompt)"
   ]
  },
  {
   "cell_type": "code",
   "execution_count": 19,
   "id": "409b1e3e",
   "metadata": {},
   "outputs": [
    {
     "name": "stdout",
     "output_type": "stream",
     "text": [
      "step: 0\n",
      "val_score: 0.8615123456790121\n",
      "test_score: 0.8654166666666667\n",
      "attempted_val_score: None\n",
      "1 prompt: Answer questions with short factoid answers.\n",
      "                    You will receive context(contain relevant facts).\n",
      "                    Think step by step.\n",
      "                \n",
      "\n",
      "step: 1\n",
      "val_score: 0.8615123456790121\n",
      "test_score: 0.8654166666666667\n",
      "attempted_val_score: 0.975\n",
      "1 prompt: Answer questions with short factoid answers.\n",
      "                    You will receive context(contain relevant facts).\n",
      "                    Think step by step.\n",
      "                \n",
      "\n",
      "step: 2\n",
      "val_score: 0.8615123456790121\n",
      "test_score: 0.8654166666666667\n",
      "attempted_val_score: 0.975\n",
      "1 prompt: Answer questions with short factoid answers.\n",
      "                    You will receive context(contain relevant facts).\n",
      "                    Think step by step.\n",
      "                \n",
      "\n",
      "step: 3\n",
      "val_score: 0.8615123456790121\n",
      "test_score: 0.8654166666666667\n",
      "attempted_val_score: 0.975\n",
      "1 prompt: Answer questions with short factoid answers.\n",
      "                    You will receive context(contain relevant facts).\n",
      "                    Think step by step.\n",
      "                \n",
      "\n",
      "step: 4\n",
      "val_score: 0.8639506172839506\n",
      "test_score: None\n",
      "attempted_val_score: None\n",
      "1 prompt: Answer questions with short factoid answers. The proposed budget for 1980 includes approximately $140,000 for the Scientific Advisory Board and about $7,445,000 in total, based on explicit figures in the context.\n",
      "\n",
      "step: 5\n",
      "val_score: 0.8639506172839506\n",
      "test_score: None\n",
      "attempted_val_score: 0.8333333333333333\n",
      "1 prompt: Answer questions with short factoid answers. The proposed budget for 1980 includes approximately $140,000 for the Scientific Advisory Board and about $7,445,000 in total, based on explicit figures in the context.\n",
      "\n",
      "step: 6\n",
      "val_score: 0.8646296296296296\n",
      "test_score: None\n",
      "attempted_val_score: None\n",
      "1 prompt: Answer questions with short factoid answers. The primary focus of MCST's start-up is on \"product improvements\" and \"enhancing substances,\" as explicitly stated in the context.\n",
      "\n",
      "step: 7\n",
      "val_score: 0.8646296296296296\n",
      "test_score: None\n",
      "attempted_val_score: 0.975\n",
      "1 prompt: Answer questions with short factoid answers. The primary focus of MCST's start-up is on \"product improvements\" and \"enhancing substances,\" as explicitly stated in the context.\n",
      "\n",
      "step: 8\n",
      "val_score: 0.8709567901234568\n",
      "test_score: None\n",
      "attempted_val_score: None\n",
      "1 prompt: The total amount of TI dues for September is $1,600,000.\n",
      "\n",
      "step: 9\n",
      "val_score: 0.8709567901234568\n",
      "test_score: None\n",
      "attempted_val_score: 0.8583333333333334\n",
      "1 prompt: The total amount of TI dues for September is $1,600,000.\n",
      "\n",
      "step: 10\n",
      "val_score: 0.8709567901234568\n",
      "test_score: None\n",
      "attempted_val_score: 0.8166666666666667\n",
      "1 prompt: The total amount of TI dues for September is $1,600,000.\n",
      "\n",
      "step: 11\n",
      "val_score: 0.8709567901234568\n",
      "test_score: None\n",
      "attempted_val_score: 0.975\n",
      "1 prompt: The total amount of TI dues for September is $1,600,000.\n",
      "\n",
      "step: 12\n",
      "val_score: 0.8709567901234568\n",
      "test_score: None\n",
      "attempted_val_score: 0.8583333333333334\n",
      "1 prompt: The total amount of TI dues for September is $1,600,000.\n",
      "\n"
     ]
    }
   ],
   "source": [
    "for step in data['step_results']:\n",
    "    for k, v in step.items():\n",
    "        if k == 'prompt':\n",
    "            print(len(v), f\"prompt: {v[0]['data']}\")\n",
    "        else:\n",
    "            print(f\"{k}: {v}\")\n",
    "    print()"
   ]
  }
 ],
 "metadata": {
  "kernelspec": {
   "display_name": ".venv",
   "language": "python",
   "name": "python3"
  },
  "language_info": {
   "codemirror_mode": {
    "name": "ipython",
    "version": 3
   },
   "file_extension": ".py",
   "mimetype": "text/x-python",
   "name": "python",
   "nbconvert_exporter": "python",
   "pygments_lexer": "ipython3",
   "version": "3.13.5"
  }
 },
 "nbformat": 4,
 "nbformat_minor": 5
}

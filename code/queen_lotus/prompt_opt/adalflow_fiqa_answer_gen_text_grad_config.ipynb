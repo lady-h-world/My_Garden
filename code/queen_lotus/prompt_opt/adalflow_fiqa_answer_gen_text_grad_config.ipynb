{
 "cells": [
  {
   "cell_type": "markdown",
   "id": "07ca39f3",
   "metadata": {},
   "source": [
    "Licensed under the MIT License.\n",
    "\n",
    "Copyright (c) 2025-2035. All rights reserved by Hanhan Wu.\n",
    "\n",
    "Permission is hereby granted to view this code for evaluation purposes only.\n",
    "You may not reuse, copy, modify, merge, publish, distribute, sublicense,\n",
    "or exploit this code without Hanhan Wu's EXPLICIT written permission.\n",
    "\n",
    "\n",
    "# AdalFlow on FIQA Data & Optimize Answer Generation\n",
    "\n",
    "* Optimization\n",
    "  * teacher generator for few-shot learning\n",
    "  * backward_engine & optimizer for text_grad optimization\n",
    "  * Added `self.configure_text_optimizer_helper()` to customize LLM used in the optimization\n",
    "  * Added `few_shot_demos` to add examples in training, indeed improved the performance here\n",
    "  * Added `regularization_fn` in `optimizer_config`"
   ]
  },
  {
   "cell_type": "code",
   "execution_count": 1,
   "id": "f045bba8",
   "metadata": {},
   "outputs": [],
   "source": [
    "%load_ext autoreload\n",
    "%autoreload 2\n",
    "\n",
    "import pandas as pd\n",
    "import re\n",
    "import dspy\n",
    "import contextlib\n",
    "import json\n",
    "import matplotlib.pyplot as plt\n",
    "from pprint import pprint\n",
    "from datasets import load_dataset\n",
    "from dataclasses import dataclass, field\n",
    "from typing import Union, Dict, Callable, Any, Tuple\n",
    "\n",
    "import adalflow as adal\n",
    "from adalflow.datasets.hotpot_qa import HotPotQAData\n",
    "from adalflow.components.model_client.openai_client import OpenAIClient\n",
    "from adalflow.optim import TextOptimizer\n",
    "from adalflow.eval.g_eval import GEvalLLMJudge, GEvalJudgeEvaluator, NLGTask\n",
    "\n",
    "import warnings\n",
    "warnings.filterwarnings('ignore')\n",
    "\n",
    "\n",
    "model_str = \"gpt-4.1-nano\"\n",
    "gpt4_model = {\n",
    "    \"model_client\": OpenAIClient(),\n",
    "    \"model_kwargs\": {\n",
    "        \"model\": model_str,\n",
    "        \"temperature\": 0.7,\n",
    "    },\n",
    "}\n",
    "model_kwargs = {\n",
    "        \"model\": model_str,\n",
    "        \"temperature\": 0.7,\n",
    "    }"
   ]
  },
  {
   "cell_type": "markdown",
   "id": "d941ed71",
   "metadata": {},
   "source": [
    "### Create Data Input\n",
    "\n",
    "* Load fiqa data and convert to AdalFlow's HotPotQAData format\n",
    "  * So far, this is the only data format I knew AdalFlow can process...😅\n",
    "* About the Data Source: https://huggingface.co/datasets/explodinggradients/fiqa\n",
    "  * Only 30 records"
   ]
  },
  {
   "cell_type": "code",
   "execution_count": 2,
   "id": "b72a69af",
   "metadata": {},
   "outputs": [
    {
     "name": "stdout",
     "output_type": "stream",
     "text": [
      "(30, 4)\n"
     ]
    },
    {
     "data": {
      "text/html": [
       "<div>\n",
       "<style scoped>\n",
       "    .dataframe tbody tr th:only-of-type {\n",
       "        vertical-align: middle;\n",
       "    }\n",
       "\n",
       "    .dataframe tbody tr th {\n",
       "        vertical-align: top;\n",
       "    }\n",
       "\n",
       "    .dataframe thead th {\n",
       "        text-align: right;\n",
       "    }\n",
       "</style>\n",
       "<table border=\"1\" class=\"dataframe\">\n",
       "  <thead>\n",
       "    <tr style=\"text-align: right;\">\n",
       "      <th></th>\n",
       "      <th>question</th>\n",
       "      <th>context</th>\n",
       "      <th>ground_truth</th>\n",
       "      <th>answer_before_prompt_opt</th>\n",
       "    </tr>\n",
       "  </thead>\n",
       "  <tbody>\n",
       "    <tr>\n",
       "      <th>0</th>\n",
       "      <td>How to deposit a cheque issued to an associate...</td>\n",
       "      <td>[Just have the associate sign the back and the...</td>\n",
       "      <td>Have the check reissued to the proper payee.Ju...</td>\n",
       "      <td>The best way to deposit a cheque issued to an ...</td>\n",
       "    </tr>\n",
       "    <tr>\n",
       "      <th>1</th>\n",
       "      <td>Can I send a money order from USPS as a business?</td>\n",
       "      <td>[Sure you can.  You can fill in whatever you w...</td>\n",
       "      <td>Sure you can.  You can fill in whatever you wa...</td>\n",
       "      <td>Yes, you can send a money order from USPS as a...</td>\n",
       "    </tr>\n",
       "    <tr>\n",
       "      <th>2</th>\n",
       "      <td>1 EIN doing business under multiple business n...</td>\n",
       "      <td>[You're confusing a lot of things here. Compan...</td>\n",
       "      <td>You're confusing a lot of things here. Company...</td>\n",
       "      <td>Yes, it is possible to have one EIN doing busi...</td>\n",
       "    </tr>\n",
       "    <tr>\n",
       "      <th>3</th>\n",
       "      <td>Applying for and receiving business credit</td>\n",
       "      <td>[Set up a meeting with the bank that handles y...</td>\n",
       "      <td>\"I'm afraid the great myth of limited liabilit...</td>\n",
       "      <td>Applying for and receiving business credit can...</td>\n",
       "    </tr>\n",
       "    <tr>\n",
       "      <th>4</th>\n",
       "      <td>401k Transfer After Business Closure</td>\n",
       "      <td>[The time horizon for your 401K/IRA is essenti...</td>\n",
       "      <td>You should probably consult an attorney. Howev...</td>\n",
       "      <td>If your employer has closed and you need to tr...</td>\n",
       "    </tr>\n",
       "  </tbody>\n",
       "</table>\n",
       "</div>"
      ],
      "text/plain": [
       "                                            question  \\\n",
       "0  How to deposit a cheque issued to an associate...   \n",
       "1  Can I send a money order from USPS as a business?   \n",
       "2  1 EIN doing business under multiple business n...   \n",
       "3         Applying for and receiving business credit   \n",
       "4               401k Transfer After Business Closure   \n",
       "\n",
       "                                             context  \\\n",
       "0  [Just have the associate sign the back and the...   \n",
       "1  [Sure you can.  You can fill in whatever you w...   \n",
       "2  [You're confusing a lot of things here. Compan...   \n",
       "3  [Set up a meeting with the bank that handles y...   \n",
       "4  [The time horizon for your 401K/IRA is essenti...   \n",
       "\n",
       "                                        ground_truth  \\\n",
       "0  Have the check reissued to the proper payee.Ju...   \n",
       "1  Sure you can.  You can fill in whatever you wa...   \n",
       "2  You're confusing a lot of things here. Company...   \n",
       "3  \"I'm afraid the great myth of limited liabilit...   \n",
       "4  You should probably consult an attorney. Howev...   \n",
       "\n",
       "                            answer_before_prompt_opt  \n",
       "0  The best way to deposit a cheque issued to an ...  \n",
       "1  Yes, you can send a money order from USPS as a...  \n",
       "2  Yes, it is possible to have one EIN doing busi...  \n",
       "3  Applying for and receiving business credit can...  \n",
       "4  If your employer has closed and you need to tr...  "
      ]
     },
     "execution_count": 2,
     "metadata": {},
     "output_type": "execute_result"
    }
   ],
   "source": [
    "fiqa_eval = load_dataset(\"explodinggradients/fiqa\", \"ragas_eval\")['baseline']\n",
    "\n",
    "rag_lst = []\n",
    "for record in fiqa_eval:\n",
    "    rag_lst.append({\n",
    "        'question': record['question'],\n",
    "        'context': record['contexts'],\n",
    "        'ground_truth': record['ground_truths'][0],\n",
    "        'answer_before_prompt_opt': record['answer'].strip()\n",
    "    })\n",
    "\n",
    "rag_df = pd.DataFrame(rag_lst)\n",
    "print(rag_df.shape)\n",
    "rag_df.head()"
   ]
  },
  {
   "cell_type": "code",
   "execution_count": 3,
   "id": "c29cf57e",
   "metadata": {},
   "outputs": [
    {
     "name": "stdout",
     "output_type": "stream",
     "text": [
      "30\n"
     ]
    },
    {
     "data": {
      "text/plain": [
       "{'question': 'How to deposit a cheque issued to an associate in my business into my business account?',\n",
       " 'answer': 'The best way to deposit a cheque issued to an associate in your business into your business account is to open a business account with the bank. You will need a state-issued \"dba\" certificate from the county clerk\\'s office as well as an Employer ID Number (EIN) issued by the IRS. Once you have opened the business account, you can have the associate sign the back of the cheque and deposit it into the business account.',\n",
       " 'id': '5a8d8595-1b6b-4a62-9133-f4163247058d',\n",
       " 'gold_titles': \"Have the check reissued to the proper payee.Just have the associate sign the back and then deposit it.  It's called a third party cheque and is perfectly legal.  I wouldn't be surprised if it has a longer hold period and, as always, you don't get the money if the cheque doesn't clear. Now, you may have problems if it's a large amount or you're not very well known at the bank.  In that case you can have the associate go to the bank and endorse it in front of the teller with some ID.  You don't even technically have to be there.  Anybody can deposit money to your account if they have the account number. He could also just deposit it in his account and write a cheque to the business.\",\n",
       " 'context': ['Just have the associate sign the back and then deposit it.  It\\'s called a third party cheque and is perfectly legal.  I wouldn\\'t be surprised if it has a longer hold period and, as always, you don\\'t get the money if the cheque doesn\\'t clear. Now, you may have problems if it\\'s a large amount or you\\'re not very well known at the bank.  In that case you can have the associate go to the bank and endorse it in front of the teller with some ID.  You don\\'t even technically have to be there.  Anybody can deposit money to your account if they have the account number. He could also just deposit it in his account and write a cheque to the business.\"I have checked with Bank of America, and they say the ONLY way to cash (or deposit, or otherwise get access to the funds represented by a check made out to my business) is to open a business account. They tell me this is a Federal regulation, and every bank will say the same thing.  To do this, I need a state-issued \"\"dba\"\" certificate (from the county clerk\\'s office) as well as an Employer ID Number (EIN) issued by the IRS. AND their CHEAPEST business banking account costs $15 / month. I think I can go to the bank that the check is drawn upon, and they will cash it, assuming I have documentation showing that I am the sole proprietor. But I\\'m not sure.... What a racket!!\"When a business asks me to make out a cheque to a person rather than the business name, I take that as a red flag. Frankly it usually means that the person doesn\\'t want the money going through their business account for some reason - probably tax evasion. I\\'m not saying you are doing that, but it is a frequent issue. If the company makes the cheque out to a person they may run the risk of being party to fraud. Worse still they only have your word for it that you actually own the company, and aren\\'t ripping off your employer by pocketing their payment. Even worse, when the company is audited and finds that cheque, the person who wrote it will have to justify and document why they made it out to you or risk being charged with embezzlement. It\\'s very much in their interests to make the cheque out to the company they did business with. Given that, you should really have an account in the name of your business. It\\'s going to make your life much simpler in the long run.']}"
      ]
     },
     "execution_count": 3,
     "metadata": {},
     "output_type": "execute_result"
    }
   ],
   "source": [
    "def fiqa_to_hotpotqa(record):\n",
    "    return HotPotQAData(\n",
    "        question=record['question'],\n",
    "        gold_titles=record['ground_truths'][0],\n",
    "        context=record['contexts'],\n",
    "        answer=record['answer'].strip(),  # answer_before_prompt_opt\n",
    "    )\n",
    "\n",
    "fiqa_as_hotpotqa = [fiqa_to_hotpotqa(s) for s in fiqa_eval]\n",
    "print(len(fiqa_as_hotpotqa))\n",
    "fiqa_as_hotpotqa[0].to_dict()"
   ]
  },
  {
   "cell_type": "markdown",
   "id": "9ef96f6e",
   "metadata": {},
   "source": [
    "### AdalFlow Optimization\n",
    "\n",
    "* References\n",
    "  * How to use AdalFlow's GEval and LLM-as-Judge: https://colab.research.google.com/github/SylphAI-Inc/AdalFlow/blob/main/notebooks/evaluation/adalflow_llm_eval.ipynb\n",
    "  * Official evaluation page (I think their user guide is very confusing 😅): https://adalflow.sylph.ai/apis/eval/index.html"
   ]
  },
  {
   "cell_type": "code",
   "execution_count": 4,
   "id": "58a1351e",
   "metadata": {},
   "outputs": [
    {
     "name": "stdout",
     "output_type": "stream",
     "text": [
      "Context: ['Just have the associate sign the back and then deposit it.  It\\'s called a third party cheque and is perfectly legal.  I wouldn\\'t be surprised if it has a longer hold period and, as always, you don\\'t get the money if the cheque doesn\\'t clear. Now, you may have problems if it\\'s a large amount or you\\'re not very well known at the bank.  In that case you can have the associate go to the bank and endorse it in front of the teller with some ID.  You don\\'t even technically have to be there.  Anybody can deposit money to your account if they have the account number. He could also just deposit it in his account and write a cheque to the business.\"I have checked with Bank of America, and they say the ONLY way to cash (or deposit, or otherwise get access to the funds represented by a check made out to my business) is to open a business account. They tell me this is a Federal regulation, and every bank will say the same thing.  To do this, I need a state-issued \"\"dba\"\" certificate (from the county clerk\\'s office) as well as an Employer ID Number (EIN) issued by the IRS. AND their CHEAPEST business banking account costs $15 / month. I think I can go to the bank that the check is drawn upon, and they will cash it, assuming I have documentation showing that I am the sole proprietor. But I\\'m not sure.... What a racket!!\"When a business asks me to make out a cheque to a person rather than the business name, I take that as a red flag. Frankly it usually means that the person doesn\\'t want the money going through their business account for some reason - probably tax evasion. I\\'m not saying you are doing that, but it is a frequent issue. If the company makes the cheque out to a person they may run the risk of being party to fraud. Worse still they only have your word for it that you actually own the company, and aren\\'t ripping off your employer by pocketing their payment. Even worse, when the company is audited and finds that cheque, the person who wrote it will have to justify and document why they made it out to you or risk being charged with embezzlement. It\\'s very much in their interests to make the cheque out to the company they did business with. Given that, you should really have an account in the name of your business. It\\'s going to make your life much simpler in the long run.']\n",
      "Question: How to deposit a cheque issued to an associate in my business into my business account?\n",
      "Answer: The best way to deposit a cheque issued to an associate in your business into your business account is to open a business account with the bank. You will need a state-issued \"dba\" certificate from the county clerk's office as well as an Employer ID Number (EIN) issued by the IRS. Once you have opened the business account, you can have the associate sign the back of the cheque and deposit it into the business account.\n",
      "\n",
      "---\n",
      "Context: ['Sure you can.  You can fill in whatever you want in the From section of a money order, so your business name and address would be fine. The price only includes the money order itself.  You can hand deliver it yourself if you want, but if you want to mail it, you\\'ll have to provide an envelope and a stamp. Note that, since you won\\'t have a bank record of this payment, you\\'ll want to make sure you keep other records, such as the stub of the money order.  You should probably also ask the contractor to give you a receipt.\"Lets say you owed me $123.00 an wanted to mail me a check. I would then take the check from my mailbox an either take it to my bank, or scan it and deposit it via their electronic interface. Prior to you mailing it you would have no idea which bank I would use, or what my account number is. In fact I could have multiple bank accounts, so I could decide which one to deposit it into depending on what I wanted to do with the money, or which bank paid the most interest, or by coin flip. Now once the check is deposited my bank would then \"\"stamp\"\" the check with their name, their routing number, the date, an my account number. Eventually an image of the canceled check would then end up back at your bank. Which they would either send to you, or make available to you via their banking website. You don\\'t mail it to my bank. You mail it to my home, or my business, or wherever I tell you to mail it. Some business give you the address of another location, where either a 3rd party processes all their checks, or a central location  where all the money for multiple branches are processed. If you do owe a company they will generally ask that in the memo section in the lower left corner that you include your customer number. This is to make sure that if they have multiple Juans the money is accounted correctly. In all my dealings will paying bills and mailing checks I have never been asked to send a check directly to the bank. If they want you to do exactly as you describe, they should provide you with a form or other instructions.\"\"I have checked with Bank of America, and they say the ONLY way to cash (or deposit, or otherwise get access to the funds represented by a check made out to my business) is to open a business account. They tell me this is a Federal regulation, and every bank will say the same thing.  To do this, I need a state-issued \"\"dba\"\" certificate (from the county clerk\\'s office) as well as an Employer ID Number (EIN) issued by the IRS. AND their CHEAPEST business banking account costs $15 / month. I think I can go to the bank that the check is drawn upon, and they will cash it, assuming I have documentation showing that I am the sole proprietor. But I\\'m not sure.... What a racket!!\"']\n",
      "Question: Can I send a money order from USPS as a business?\n",
      "Answer: Yes, you can send a money order from USPS as a business. You can fill in whatever you want in the From section of the money order, including your business name and address. The price only includes the money order itself, so you will need to provide an envelope and a stamp if you want to mail it. It is important to keep records of the payment, such as the stub of the money order, and to ask the contractor for a receipt.\n",
      "\n",
      "---\n",
      "Context: ['You\\'re confusing a lot of things here. Company B LLC will have it\\'s sales run under Company A LLC, and cease operating as a separate entity These two are contradicting each other. If B LLC ceases to exist - it is not going to have it\\'s sales run under A LLC, since there will be no sales to run for a non-existent company. What happens is that you merge B LLC into A LLC, and then convert A LLC into S Corp. So you\\'re cancelling the EIN for B LLC, you\\'re cancelling the EIN for A LLC - because both entities cease to exist. You then create a EIN for A Corp, which is the converted A LLC, and you create a DBA where A Corp DBA B Shop. You then go to the bank and open the account for A Corp DBA B Shop with the EIN you just created for A Corp. Get a better accountant. Before you convert to S-Corp.You don\\'t need to notify the IRS of new members, the IRS doesn\\'t care (at this stage). What you do need, if you have a EIN for a single-member LLC, is to request a new EIN since your LLC is now a partnership (a different entity, from IRS perspective). From now on, you\\'ll need to file form 1065 with the IRS in case of business related income, on which you will declare the membership distribution interests on Schedules K-1 for each member.\"Depending on where you are, you may be able to get away with filing a \"\"Doing Business As\"\" document with your local government, and then having the bank call the county seat to verify this. There is generally a fee for processing/recording/filing the DBA form, of course. But it\\'s useful for more purposes than just this one. (I still need to file a DBA for my hobby work-for-pay, for exactly this reason.)\"']\n",
      "Question: 1 EIN doing business under multiple business names\n",
      "Answer: Yes, it is possible to have one EIN doing business under multiple business names. This can be done by filing a \"Doing Business As\" (DBA) document with the local government and having the bank call the county seat to verify the DBA. The DBA form will need to be processed and recorded, and there may be a fee associated with this.\n",
      "\n"
     ]
    }
   ],
   "source": [
    "task_desc_str = r\"\"\"Answer questions with short factoid answers.\n",
    "                    You will receive context(contain relevant facts).\n",
    "                    Think step by step.\n",
    "                \"\"\"\n",
    "\n",
    "\n",
    "prompt_template = \"\"\"<START_OF_SYSTEM_PROMPT>\n",
    "{{task_desc_str}}\n",
    "\n",
    "{{output_format_str}}\n",
    "{# Few shot demos #}\n",
    "{% if few_shot_demos is not none %}\n",
    "    Here are some examples:\n",
    "    {{few_shot_demos}}\n",
    "{% endif %}\n",
    "<END_OF_SYSTEM_PROMPT>\n",
    "<START_OF_USER>\n",
    "    Context: {{context}}\n",
    "    Question: {{question}}\n",
    "<END_OF_USER>\n",
    "\"\"\"\n",
    "\n",
    "\n",
    "trainset = fiqa_as_hotpotqa[0:10]\n",
    "valset = fiqa_as_hotpotqa[10:20]\n",
    "testset = fiqa_as_hotpotqa[20:]\n",
    "\n",
    "\n",
    "def format_few_shot_demo(example):\n",
    "    return f\"Context: {example.context}\\nQuestion: {example.question}\\nAnswer: {example.answer}\\n\"\n",
    "\n",
    "few_shot_examples = trainset[:3]  # Use first 3 as demos\n",
    "few_shot_demos_str = \"\\n---\\n\".join([format_few_shot_demo(e) for e in few_shot_examples])\n",
    "print(few_shot_demos_str)"
   ]
  },
  {
   "cell_type": "code",
   "execution_count": 5,
   "id": "b61235db",
   "metadata": {},
   "outputs": [],
   "source": [
    "@dataclass\n",
    "class AnswerData(adal.DataClass):\n",
    "    reasoning: str = field(\n",
    "        metadata={\"desc\": \"The reasoning to produce the answer\"},\n",
    "    )\n",
    "    answer: str = field(\n",
    "        metadata={\"desc\": \"The answer you produced\"},\n",
    "    )\n",
    "\n",
    "    __output_fields__ = [\"reasoning\", \"answer\"]\n",
    "\n",
    "\n",
    "class RAG_AnswerGeneration(adal.Component):\n",
    "    def __init__(self, model_client=None, model_kwargs=None):\n",
    "        super().__init__()\n",
    "\n",
    "        self.llm_parser = adal.DataClassParser(\n",
    "            data_class=AnswerData, return_data_class=True, format_type=\"json\"\n",
    "        )\n",
    "        self.llm = adal.Generator(\n",
    "            model_client=model_client,\n",
    "            model_kwargs=model_kwargs,\n",
    "            prompt_kwargs={\n",
    "                \"task_desc_str\": adal.Parameter(\n",
    "                    data=task_desc_str,\n",
    "                    role_desc=\"\"\"Task description for the language model,\\\n",
    "                            used with the following template: \\\n",
    "                                {{task_desc_str}} \\\n",
    "                                {{output_format_str}}\\\n",
    "                            <START_OF_USER>\n",
    "                                Context: {{context}}\n",
    "                                Question: {{question}}\n",
    "                            <END_OF_USER>\"\"\",\n",
    "                    param_type=adal.ParameterType.PROMPT,\n",
    "                    requires_opt=True,\n",
    "                    instruction_to_backward_engine=\"\"\"You need find the best way\n",
    "                            (where does the right answer come from the context) \n",
    "                            to extract the RIGHT answer from the context.\"\"\",\n",
    "                    instruction_to_optimizer=\"\"\"\n",
    "                        Write ONLY general instructions for answering questions. \n",
    "                        Do NOT include any specific answers, facts, or content from the dataset or any query. \n",
    "                        Do NOT copy or paraphrase any ground-truth answer. \n",
    "                        Your output must be a reusable prompt template, not a response to a specific question.\n",
    "                    \"\"\",\n",
    "                ),\n",
    "                \"output_format_str\": self.llm_parser.get_output_format_str(),\n",
    "            },\n",
    "            template=prompt_template,\n",
    "            output_processors=self.llm_parser,\n",
    "            use_cache=True,\n",
    "        )\n",
    "\n",
    "    def bicall(\n",
    "        self, \n",
    "        question: str, \n",
    "        retrieved_context: str,\n",
    "        id: str = None,\n",
    "        few_shot_demos: str = None\n",
    "    ) -> Union[adal.GeneratorOutput, adal.Parameter]:\n",
    "        \"\"\"\n",
    "            This function is used to call the model for both training and eval mode.\n",
    "        \"\"\"\n",
    "        prompt_kwargs = {\n",
    "            \"context\": retrieved_context,\n",
    "            \"question\": question,\n",
    "        }\n",
    "        if few_shot_demos is not None:\n",
    "            prompt_kwargs[\"few_shot_demos\"] = few_shot_demos\n",
    "        output = self.llm(prompt_kwargs=prompt_kwargs, id=id)\n",
    "        return output"
   ]
  },
  {
   "cell_type": "code",
   "execution_count": 6,
   "id": "4575397e",
   "metadata": {},
   "outputs": [
    {
     "name": "stdout",
     "output_type": "stream",
     "text": [
      "GeneratorOutput(id=None, data=AnswerData(reasoning='The context explains that a cheque issued to an associate can be deposited into a business account if the associate signs the back of the cheque and deposits it. It also mentions that having an account in the business name simplifies this process.', answer='Have the associate sign the back of the cheque and deposit it into your business account.'), error=None, usage=CompletionUsage(completion_tokens=79, prompt_tokens=2598, total_tokens=2677), raw_response='```json\\n{\\n    \"reasoning\": \"The context explains that a cheque issued to an associate can be deposited into a business account if the associate signs the back of the cheque and deposits it. It also mentions that having an account in the business name simplifies this process.\",\\n    \"answer\": \"Have the associate sign the back of the cheque and deposit it into your business account.\"\\n}\\n```', metadata=None)\n",
      "AnswerData(reasoning='The context explains that a cheque issued to an '\n",
      "                     'associate can be deposited into a business account if '\n",
      "                     'the associate signs the back of the cheque and deposits '\n",
      "                     'it. It also mentions that having an account in the '\n",
      "                     'business name simplifies this process.',\n",
      "           answer='Have the associate sign the back of the cheque and deposit '\n",
      "                  'it into your business account.')\n"
     ]
    }
   ],
   "source": [
    "# test above RAG_AnswerGeneration logic\n",
    "random_test_data = fiqa_as_hotpotqa[0].to_dict()\n",
    "\n",
    "rag = RAG_AnswerGeneration(**gpt4_model)\n",
    "output = rag.bicall(\n",
    "    question=random_test_data['question'],\n",
    "    retrieved_context=random_test_data['context'],\n",
    "    few_shot_demos=few_shot_demos_str\n",
    ")\n",
    "print(output)\n",
    "pprint(output.data)"
   ]
  },
  {
   "cell_type": "code",
   "execution_count": 7,
   "id": "901cb9f5",
   "metadata": {},
   "outputs": [],
   "source": [
    "class HotPotQAAdal(adal.AdalComponent):\n",
    "    def __init__(\n",
    "        self,\n",
    "        backward_engine_model_config: Dict | None = None,\n",
    "        teacher_model_config: Dict | None = None,\n",
    "        text_optimizer_model_config: Dict | None = None,\n",
    "        task: adal.Component | None = None,  # initialized task\n",
    "    ):\n",
    "        g_eval = GEvalLLMJudge(default_task=NLGTask.SUMMARIZATION,\n",
    "                                model_kwargs=model_kwargs)\n",
    "        g_evaluator = GEvalJudgeEvaluator(llm_judge=g_eval)\n",
    "        def extract_overall(**kwargs):\n",
    "            if 'input_str'  in kwargs:\n",
    "                match = re.search(r\"Reference Answer:(.*)Predicted Answer:(.*)\", kwargs['input_str'], re.DOTALL)\n",
    "                if match:\n",
    "                    reference = match.group(1).strip()\n",
    "                    predicted = match.group(2).strip()\n",
    "            else:\n",
    "                predicted = kwargs.get(\"y\")\n",
    "                reference = kwargs.get(\"y_gt\")\n",
    "\n",
    "            input_str = f\"Reference Answer: {reference}\\nPredicted Answer: {predicted}\"\n",
    "            return g_evaluator.compute_single_item(input_str)[\"overall\"]\n",
    "\n",
    "        eval_fn = extract_overall\n",
    "        loss_eval_fn = extract_overall\n",
    "\n",
    "        loss_fn = adal.EvalFnToTextLoss(\n",
    "            eval_fn=loss_eval_fn,\n",
    "            eval_fn_desc=\"GEval score\",\n",
    "        )\n",
    "        super().__init__(\n",
    "            task=task,\n",
    "            eval_fn=eval_fn,\n",
    "            loss_eval_fn=loss_eval_fn,\n",
    "            loss_fn=loss_fn,\n",
    "            backward_engine_model_config=backward_engine_model_config,\n",
    "            teacher_model_config=teacher_model_config,\n",
    "            text_optimizer_model_config=text_optimizer_model_config,\n",
    "        )\n",
    "        self.configure_text_optimizer_helper(\n",
    "            model_client=OpenAIClient(),\n",
    "            model_kwargs={\"temperature\": 0.3}\n",
    "        )\n",
    "\n",
    "    def prepare_task(self, sample: HotPotQAData) -> Tuple[Callable[..., Any], Dict]:\n",
    "        task_kwargs = {\n",
    "            \"question\": sample.question,\n",
    "            \"retrieved_context\": sample.context,\n",
    "            \"id\": getattr(sample, \"id\", None),\n",
    "            \"few_shot_demos\": few_shot_demos_str,\n",
    "        }\n",
    "        if self.task.training:\n",
    "            return self.task.forward, task_kwargs\n",
    "        else:\n",
    "            return self.task.call, task_kwargs\n",
    "\n",
    "    def prepare_eval(self, sample: HotPotQAData, y_pred: adal.GeneratorOutput):\n",
    "        y_label = \"\"\n",
    "        if y_pred and y_pred.data and y_pred.data.answer:\n",
    "            y_label = y_pred.data.answer\n",
    "\n",
    "        input_str = (\n",
    "            f\"Reference Answer: {sample.gold_titles}\\n\"\n",
    "            f\"Predicted Answer: {y_label}\"\n",
    "        )\n",
    "\n",
    "        return self.eval_fn, {'input_str': input_str}\n",
    "\n",
    "\n",
    "    def prepare_loss_eval(self, sample: Any, y_pred: Any, *args, **kwargs):\n",
    "        y_label = \"\"\n",
    "        if y_pred and y_pred.data and y_pred.data.answer:\n",
    "            y_label = y_pred.data.answer\n",
    "\n",
    "        input_str = (\n",
    "            f\"Reference Answer: {sample.gold_titles}\\n\"\n",
    "            f\"Predicted Answer: {y_label}\"\n",
    "        )\n",
    "\n",
    "        return self.loss_eval_fn, {'input_str': input_str}\n",
    "\n",
    "\n",
    "    def prepare_loss(self, sample: HotPotQAData, pred: adal.Parameter):\n",
    "        y_gt = adal.Parameter(\n",
    "            name=\"y_gt\",\n",
    "            data=sample.gold_titles,\n",
    "            eval_input=sample.gold_titles,\n",
    "            requires_opt=False,\n",
    "        )\n",
    "        context_param = adal.Parameter(\n",
    "            name=\"context\",\n",
    "            data=sample.context,\n",
    "            eval_input=sample.context,  # you could also stringify it if needed\n",
    "            requires_opt=False,\n",
    "        )\n",
    "\n",
    "        pred.eval_input = (\n",
    "            pred.data.data.answer\n",
    "            if pred.data and pred.data.data and pred.data.data.answer\n",
    "            else \"\"\n",
    "        )\n",
    "        return self.loss_fn, {\n",
    "            \"kwargs\": {\"y\": pred, \"y_gt\": y_gt,\n",
    "                        \"context\": context_param},\n",
    "            \"input\": {\"question\": sample.question,\n",
    "                       \"retrieved_context\": sample.context},\n",
    "            \"gt\": sample.gold_titles,\n",
    "            \"id\": sample.id,\n",
    "        }"
   ]
  },
  {
   "cell_type": "markdown",
   "id": "90fef285",
   "metadata": {},
   "source": [
    "<b>Evaluation Only</b>"
   ]
  },
  {
   "cell_type": "code",
   "execution_count": 8,
   "id": "b9ae4f16",
   "metadata": {},
   "outputs": [
    {
     "name": "stderr",
     "output_type": "stream",
     "text": [
      "Generator llm is already registered with jsonl file at C:\\Users\\wuhan\\AppData\\Roaming\\adalflow\\ckpt\\VallinaRAGAdal\\diagnose_train\\llm_call.jsonl\n"
     ]
    },
    {
     "name": "stdout",
     "output_type": "stream",
     "text": [
      "\u001b[36m2025-07-20 22:43:22 - [adal.py:852:configure_text_optimizer_helper] - Text optimizer configured for 1 parameters. names: [('llm.task_desc_str', 'Answer questions with short factoid answers.\\n                    You will receive context(contain relevant facts).\\n                    Think step by step.\\n                ')]\u001b[0m\n",
      "\u001b[36m2025-07-20 22:43:22 - [trainer.py:227:diagnose] - Checkpoint path: C:\\Users\\wuhan\\AppData\\Roaming\\adalflow\\ckpt\\HotPotQAAdal\u001b[0m\n"
     ]
    },
    {
     "name": "stderr",
     "output_type": "stream",
     "text": [
      "Loading Data: 100%|██████████| 10/10 [00:00<00:00, 861.01it/s]\n",
      "Predicting: step(0): 0.69 across 10 samples, Max potential: 0.69: 100%|██████████| 10/10 [00:00<00:00, 55.30it/s]  \n",
      "Error loading jsonl file C:\\Users\\wuhan\\AppData\\Roaming\\adalflow\\ckpt\\VallinaRAGAdal\\diagnose_train\\llm_call.jsonl: line contains invalid json: Trailing data (line 46)\n"
     ]
    },
    {
     "name": "stdout",
     "output_type": "stream",
     "text": [
      "Log file C:\\Users\\wuhan\\AppData\\Roaming\\adalflow\\ckpt\\VallinaRAGAdal\\diagnose_train\\llm_call.jsonl is empty. This llm is not called at all.\n",
      "\n",
      "================== DIAGNOSE REPORT ==================\n",
      "\n",
      "✔ Split: train\n",
      "✔ Overall accuracy score: 0.69\n",
      "✔ Log paths:\n",
      "  - Log 1: C:\\Users\\wuhan\\AppData\\Roaming\\adalflow\\ckpt\\VallinaRAGAdal\\diagnose_train\\llm_call.jsonl\n",
      "\n",
      "✔ Diagnose report completed successfully!\n",
      "\n",
      "=====================================================\n",
      "\n"
     ]
    }
   ],
   "source": [
    "def train_diagnose(model_client, model_kwargs):\n",
    "    task = RAG_AnswerGeneration(\n",
    "        model_client=model_client,\n",
    "        model_kwargs=model_kwargs\n",
    "    )\n",
    "\n",
    "    adal_component = HotPotQAAdal(task=task)\n",
    "    trainer = adal.Trainer(adaltask=adal_component)\n",
    "    trainer.diagnose(dataset=testset, split=\"train\")\n",
    "\n",
    "\n",
    "train_diagnose(**gpt4_model)"
   ]
  },
  {
   "cell_type": "markdown",
   "id": "4dc6a710",
   "metadata": {},
   "source": [
    "<b>Training</b>"
   ]
  },
  {
   "cell_type": "code",
   "execution_count": 9,
   "id": "02cbfe73",
   "metadata": {},
   "outputs": [],
   "source": [
    "def regularization_fn(prompt: str, sample: HotPotQAData) -> float:\n",
    "    # Penalize if ground-truth answer appears in the prompt\n",
    "    if sample.answer.strip() in prompt or sample.question.strip() in prompt:\n",
    "        return 1.0  # High penalty\n",
    "    return 0.0     # No penalty\n",
    "\n",
    "optimizer_config = {\n",
    "    \"regularization_fn\": regularization_fn,\n",
    "}\n",
    "\n",
    "def train(\n",
    "    task_model_cliet,\n",
    "    task_model_kwargs,\n",
    "    optimizer_model_config,\n",
    "    backward_engine_model_config,\n",
    "    train_batch_size=4,  # larger batch size is not that effective, probably because of llm's lost in the middle\n",
    "    raw_shots: int = 0,\n",
    "    bootstrap_shots: int = 4,\n",
    "    max_steps=1,\n",
    "    num_workers=4,\n",
    "    strategy=\"constrained\",\n",
    "    optimization_order=\"sequential\",\n",
    "    debug=False,\n",
    "    resume_from_ckpt=None,\n",
    "    exclude_input_fields_from_bootstrap_demos=True,\n",
    "    seed=10,\n",
    "    max_proposals_per_step: int = 5,\n",
    "    disable_backward_gradients: bool = False,\n",
    "    disable_backward: bool = False,\n",
    "):\n",
    "    task = RAG_AnswerGeneration(\n",
    "        model_client=task_model_cliet,\n",
    "        model_kwargs=task_model_kwargs\n",
    "    )\n",
    "\n",
    "    adal_component = HotPotQAAdal(\n",
    "        task=task,\n",
    "        text_optimizer_model_config=optimizer_model_config,\n",
    "        backward_engine_model_config=backward_engine_model_config,\n",
    "    )\n",
    "\n",
    "    trainer = adal.Trainer(\n",
    "        train_batch_size=train_batch_size,\n",
    "        optimizer_config = optimizer_config,\n",
    "        adaltask=adal_component,\n",
    "        strategy=strategy,\n",
    "        max_steps=max_steps,\n",
    "        num_workers=num_workers,\n",
    "        raw_shots=raw_shots,\n",
    "        bootstrap_shots=bootstrap_shots,\n",
    "        debug=debug,\n",
    "        weighted_sampling=False,\n",
    "        optimization_order=optimization_order,\n",
    "        exclude_input_fields_from_bootstrap_demos=exclude_input_fields_from_bootstrap_demos,\n",
    "        max_proposals_per_step=max_proposals_per_step,\n",
    "        text_optimizers_config_kwargs={\"max_past_history\": 5},\n",
    "        disable_backward_gradients=disable_backward_gradients,\n",
    "        disable_backward=disable_backward,\n",
    "    )\n",
    "    trainer.set_random_seed(seed)\n",
    "    print(trainer)\n",
    "\n",
    "    ckpt, _ = trainer.fit(\n",
    "        train_dataset=trainset,\n",
    "        val_dataset=valset,\n",
    "        test_dataset=testset,\n",
    "        resume_from_ckpt=resume_from_ckpt,\n",
    "    )\n",
    "    return ckpt"
   ]
  },
  {
   "cell_type": "code",
   "execution_count": 10,
   "id": "192da2a3",
   "metadata": {},
   "outputs": [
    {
     "name": "stdout",
     "output_type": "stream",
     "text": [
      "2025-07-20 22:43:31 - [adal.py:852:configure_text_optimizer_helper] - Text optimizer configured for 1 parameters. names: [('llm.task_desc_str', 'Answer questions with short factoid answers.\\n                    You will receive context(contain relevant facts).\\n                    Think step by step.\\n                ')]\n",
      "Trainer(\n",
      "  (adaltask): HotPotQAAdal(\n",
      "    eval_fn: extract_overall, backward_engine: None, backward_engine_model_config: {'model_client': OpenAIClient(), 'model_kwargs': {'model': 'gpt-4.1-nano', 'temperature': 0.7}}, teacher_model_config: None, text_optimizer_model_config: {'model_client': OpenAIClient(), 'model_kwargs': {'model': 'gpt-4.1-nano', 'temperature': 0.7}}\n",
      "    (task): RAG_AnswerGeneration(\n",
      "      (llm_parser): DataClassParser(\n",
      "        data_class=AnswerData, format_type=json,            return_data_class=True, input_fields=[],            output_fields=['reasoning', 'answer']\n",
      "        (_output_processor): JsonParser()\n",
      "        (output_format_prompt): template: Your output should be formatted as a standard JSON instance with the following schema:\n",
      "        ```\n",
      "        {{schema}}\n",
      "        ```\n",
      "        -Make sure to always enclose the JSON output in triple backticks (```). Please do not add anything other than valid JSON output!\n",
      "        -Use double quotes for the keys and string values.\n",
      "        -DO NOT mistaken the \"properties\" and \"type\" in the schema as the actual fields in the JSON output.\n",
      "        -Follow the JSON formatting conventions., prompt_variables: ['schema']\n",
      "      )\n",
      "      (llm): Generator(\n",
      "        model_kwargs={'model': 'gpt-4.1-nano', 'temperature': 0.7}, trainable_prompt_kwargs=['task_desc_str']\n",
      "        (prompt): template: <START_OF_SYSTEM_PROMPT>\n",
      "        {{task_desc_str}}\n",
      "        \n",
      "        {{output_format_str}}\n",
      "        {# Few shot demos #}\n",
      "        {% if few_shot_demos is not none %}\n",
      "            Here are some examples:\n",
      "            {{few_shot_demos}}\n",
      "        {% endif %}\n",
      "        <END_OF_SYSTEM_PROMPT>\n",
      "        <START_OF_USER>\n",
      "            Context: {{context}}\n",
      "            Question: {{question}}\n",
      "        <END_OF_USER>\n",
      "        , prompt_kwargs: {'task_desc_str': 'Answer questions with short factoid answers.\\n                    You will receive context(contain relevant facts).\\n                    Think step by step.\\n                ', 'output_format_str': 'Your output should be formatted as a standard JSON instance with the following schema:\\n```\\n{\\n    \"reasoning\": \"The reasoning to produce the answer (str) (required)\",\\n    \"answer\": \"The answer you produced (str) (required)\"\\n}\\n```\\n-Make sure to always enclose the JSON output in triple backticks (```). Please do not add anything other than valid JSON output!\\n-Use double quotes for the keys and string values.\\n-DO NOT mistaken the \"properties\" and \"type\" in the schema as the actual fields in the JSON output.\\n-Follow the JSON formatting conventions.'}, prompt_variables: ['question', 'few_shot_demos', 'output_format_str', 'task_desc_str', 'context']\n",
      "        (model_client): OpenAIClient()\n",
      "        (output_processors): DataClassParser(\n",
      "          data_class=AnswerData, format_type=json,            return_data_class=True, input_fields=[],            output_fields=['reasoning', 'answer']\n",
      "          (_output_processor): JsonParser()\n",
      "          (output_format_prompt): template: Your output should be formatted as a standard JSON instance with the following schema:\n",
      "          ```\n",
      "          {{schema}}\n",
      "          ```\n",
      "          -Make sure to always enclose the JSON output in triple backticks (```). Please do not add anything other than valid JSON output!\n",
      "          -Use double quotes for the keys and string values.\n",
      "          -DO NOT mistaken the \"properties\" and \"type\" in the schema as the actual fields in the JSON output.\n",
      "          -Follow the JSON formatting conventions., prompt_variables: ['schema']\n",
      "        )\n",
      "      )\n",
      "    )\n",
      "    (loss_fn): EvalFnToTextLoss()\n",
      "  )\n",
      ")\n",
      "raw_shots: 0, bootstrap_shots: 4\n",
      "No demo parameters found.\n",
      "2025-07-20 22:43:31 - [adal.py:852:configure_text_optimizer_helper] - Text optimizer configured for 1 parameters. names: [('llm.task_desc_str', 'Answer questions with short factoid answers.\\n                    You will receive context(contain relevant facts).\\n                    Think step by step.\\n                ')]\n",
      "No trainable demo params to optimize\n",
      "Backward engine configured for GradComponents\n"
     ]
    },
    {
     "name": "stderr",
     "output_type": "stream",
     "text": [
      "Loading Data: 100%|██████████| 10/10 [00:00<00:00, 903.42it/s]\n",
      "Predicting: step(0): 0.7083 across 10 samples, Max potential: 0.7083: 100%|██████████| 10/10 [00:00<00:00, 93.64it/s]\n",
      "Loading Data: 100%|██████████| 10/10 [00:00<00:00, 114.33it/s]\n",
      "Predicting: step(0): 0.69 across 10 samples, Max potential: 0.69: 100%|██████████| 10/10 [00:00<00:00, 113.09it/s]  \n"
     ]
    },
    {
     "name": "stdout",
     "output_type": "stream",
     "text": [
      "Initial validation score: 0.7083333333333333\n",
      "Initial test score: 0.6900000000000001\n",
      "2025-07-20 22:43:31 - [trainer.py:2343:_fit_text_grad_constraint] - Fitting using Textual Gradient Descent with constraints\n",
      "_fit_text_grad_constraint save to C:\\Users\\wuhan\\AppData\\Roaming\\adalflow\\ckpt\\HotPotQAAdal\\constrained_max_steps_12_b70f9_run_1.json\n"
     ]
    },
    {
     "name": "stderr",
     "output_type": "stream",
     "text": [
      "Epoch:   0%|          | 0/5 [00:00<?, ?it/s]"
     ]
    },
    {
     "name": "stdout",
     "output_type": "stream",
     "text": [
      "Epoch: 0\n"
     ]
    },
    {
     "name": "stderr",
     "output_type": "stream",
     "text": [
      "Training Step: 1:   0%|          | 0/3 [00:00<?, ?it/s]\n",
      "Loading Data: 100%|██████████| 4/4 [00:00<00:00, 320.78it/s]\n",
      "Training: 100%|██████████| 4/4 [00:00<00:00, 384.73it/s]\n",
      "\n",
      "Loading Data: 100%|██████████| 4/4 [00:00<00:00, 380.13it/s]\n",
      "Calculating Loss: 100%|██████████| 4/4 [00:00<00:00, 267.64it/s]\n",
      "Evaluating: 100%|██████████| 4/4 [00:00<00:00, 231.96it/s]\n"
     ]
    },
    {
     "name": "stdout",
     "output_type": "stream",
     "text": [
      "Moving batch eval: EvaluationResult(avg_score=0.5916666666666667, per_item_scores=[0.5666666666666667, 0.41666666666666663, 0.7166666666666667, 0.6666666666666667], additional_info=None)\n",
      "2025-07-20 22:43:32 - [trainer.py:2172:_text_grad_constraint_propose_step] - Moving batch acc: 0.5916666666666667\n",
      "Moving batch correct size: 3\n",
      "Moving batch error size: 1\n",
      "Subset Error size: 1\n",
      "Subset Correct size: 2\n",
      "Subset score: 0.5499999999999999\n",
      "2025-07-20 22:43:32 - [trainer.py:2178:_text_grad_constraint_propose_step] - Subset batch acc: 0.5499999999999999,0.5499999999999999\n",
      "Subset loss backward...\n",
      "Subset loss backward time: 13.30326771736145\n",
      "Optimizer propose...\n"
     ]
    },
    {
     "name": "stderr",
     "output_type": "stream",
     "text": [
      "\n",
      "Proposing:   0%|          | 0/5 [00:00<?, ?it/s]"
     ]
    },
    {
     "name": "stdout",
     "output_type": "stream",
     "text": [
      "Proposal: 1\n",
      "2025-07-20 22:43:47 - [trainer.py:2204:_text_grad_constraint_propose_step] - Propose time: 2.0606839656829834\n",
      "New prompts:  [PromptData(id='62aa09d0-a09f-478c-8e2d-72695b0d3f26', name='llm.task_desc_str', data='Have the cheque reissued to the proper payee, such as the business name, and then deposit it into your business account.', requires_opt=True)]\n"
     ]
    },
    {
     "name": "stderr",
     "output_type": "stream",
     "text": [
      "\n",
      "\n",
      "Loading Data: 100%|██████████| 3/3 [00:00<00:00, 172.56it/s]\n",
      "Predicting: step(1): 0.6167 across 3 samples, Max potential: 0.6167: 100%|██████████| 3/3 [00:07<00:00,  2.52s/it]\n"
     ]
    },
    {
     "name": "stdout",
     "output_type": "stream",
     "text": [
      "2025-07-20 22:43:55 - [trainer.py:2224:_text_grad_constraint_propose_step] - Pass minibatch check:True, 0.6166666666666667 > 0.5499999999999999\n"
     ]
    },
    {
     "name": "stderr",
     "output_type": "stream",
     "text": [
      "\n",
      "\n",
      "Loading Data:   0%|          | 0/10 [00:00<?, ?it/s]\n",
      "\n",
      "Loading Data: 100%|██████████| 10/10 [00:00<00:00, 72.26it/s]\n",
      "Predicting: step(1): 0.7967 across 10 samples, Max potential: 0.7967: 100%|██████████| 10/10 [00:16<00:00,  1.64s/it]\n"
     ]
    },
    {
     "name": "stdout",
     "output_type": "stream",
     "text": [
      "Optimizer step: 0.7966666666666666 > 0.7083333333333333\n"
     ]
    },
    {
     "name": "stderr",
     "output_type": "stream",
     "text": [
      "Proposing:   0%|          | 0/5 [00:27<?, ?it/s]\n"
     ]
    },
    {
     "name": "stdout",
     "output_type": "stream",
     "text": [
      "Saving checkpoint to C:\\Users\\wuhan\\AppData\\Roaming\\adalflow\\ckpt\\HotPotQAAdal\\constrained_max_steps_12_b70f9_run_1.json\n",
      "Done with proposals\n"
     ]
    },
    {
     "name": "stderr",
     "output_type": "stream",
     "text": [
      "Training Step: 2:  33%|███▎      | 1/3 [00:40<01:21, 40.81s/it]\n",
      "Loading Data: 100%|██████████| 4/4 [00:00<00:00, 248.68it/s]\n",
      "Training: 100%|██████████| 4/4 [00:02<00:00,  1.95it/s]\n",
      "\n",
      "Loading Data: 100%|██████████| 4/4 [00:00<00:00, 335.28it/s]\n",
      "Calculating Loss: 100%|██████████| 4/4 [00:01<00:00,  2.61it/s]\n",
      "Evaluating: 100%|██████████| 4/4 [00:00<00:00, 43.44it/s]\n"
     ]
    },
    {
     "name": "stdout",
     "output_type": "stream",
     "text": [
      "Moving batch eval: EvaluationResult(avg_score=0.6166666666666667, per_item_scores=[0.7166666666666668, 0.4666666666666667, 0.7666666666666666, 0.5166666666666667], additional_info=None)\n",
      "2025-07-20 22:44:16 - [trainer.py:2172:_text_grad_constraint_propose_step] - Moving batch acc: 0.6166666666666667\n",
      "Moving batch correct size: 3\n",
      "Moving batch error size: 1\n",
      "Subset Error size: 1\n",
      "Subset Correct size: 2\n",
      "Subset score: 0.5666666666666668\n",
      "2025-07-20 22:44:16 - [trainer.py:2178:_text_grad_constraint_propose_step] - Subset batch acc: 0.5666666666666668,0.5666666666666668\n",
      "Subset loss backward...\n",
      "Subset loss backward time: 6.5201005935668945\n",
      "Optimizer propose...\n"
     ]
    },
    {
     "name": "stderr",
     "output_type": "stream",
     "text": [
      "\n",
      "Proposing:   0%|          | 0/5 [00:00<?, ?it/s]"
     ]
    },
    {
     "name": "stdout",
     "output_type": "stream",
     "text": [
      "Proposal: 1\n",
      "2025-07-20 22:44:24 - [trainer.py:2204:_text_grad_constraint_propose_step] - Propose time: 1.4792702198028564\n",
      "New prompts:  [PromptData(id='62aa09d0-a09f-478c-8e2d-72695b0d3f26', name='llm.task_desc_str', data='Yes, an entrepreneur can hire a self-employed business owner, provided the contractual relationship clearly defines the individual as self-employed and not an employee, in accordance with legal and tax regulations.', requires_opt=True)]\n"
     ]
    },
    {
     "name": "stderr",
     "output_type": "stream",
     "text": [
      "\n",
      "\n",
      "Loading Data: 100%|██████████| 3/3 [00:00<00:00, 103.95it/s]\n",
      "Predicting: step(2): 0.5833 across 3 samples, Max potential: 0.5833: 100%|██████████| 3/3 [00:05<00:00,  1.91s/it]\n"
     ]
    },
    {
     "name": "stdout",
     "output_type": "stream",
     "text": [
      "2025-07-20 22:44:30 - [trainer.py:2224:_text_grad_constraint_propose_step] - Pass minibatch check:True, 0.5833333333333334 > 0.5666666666666668\n"
     ]
    },
    {
     "name": "stderr",
     "output_type": "stream",
     "text": [
      "\n",
      "\n",
      "Loading Data: 100%|██████████| 10/10 [00:00<00:00, 803.83it/s]\n",
      "Predicting: step(2): 0.7452 across 7 samples, Max potential: 0.8217:  70%|███████   | 7/10 [00:15<00:06,  2.15s/it]\n"
     ]
    },
    {
     "name": "stdout",
     "output_type": "stream",
     "text": [
      "Optimizer revert: 0.7291666666666667 <= 0.7966666666666666\n"
     ]
    },
    {
     "name": "stderr",
     "output_type": "stream",
     "text": [
      "\n",
      "Proposing:  20%|██        | 1/5 [00:22<01:30, 22.69s/it]"
     ]
    },
    {
     "name": "stdout",
     "output_type": "stream",
     "text": [
      "Proposal: 2\n",
      "2025-07-20 22:44:47 - [trainer.py:2204:_text_grad_constraint_propose_step] - Propose time: 1.6949634552001953\n",
      "New prompts:  [PromptData(id='62aa09d0-a09f-478c-8e2d-72695b0d3f26', name='llm.task_desc_str', data='Yes, an entrepreneur can hire a self-employed business owner, provided the contractual relationship clearly defines independent contractor status and complies with relevant legal and tax regulations.', requires_opt=True)]\n"
     ]
    },
    {
     "name": "stderr",
     "output_type": "stream",
     "text": [
      "\n",
      "\n",
      "Loading Data: 100%|██████████| 3/3 [00:00<00:00, 334.70it/s]\n",
      "Predicting: step(2): 0.5333 across 3 samples, Max potential: 0.5333: 100%|██████████| 3/3 [00:05<00:00,  1.71s/it]\n"
     ]
    },
    {
     "name": "stdout",
     "output_type": "stream",
     "text": [
      "2025-07-20 22:44:53 - [trainer.py:2230:_text_grad_constraint_propose_step] - Fail minibatch check, try next proposal: True, 0.5333333333333333 <= 0.5666666666666668\n"
     ]
    },
    {
     "name": "stderr",
     "output_type": "stream",
     "text": [
      "\n",
      "Proposing:  40%|████      | 2/5 [00:29<00:40, 13.60s/it]"
     ]
    },
    {
     "name": "stdout",
     "output_type": "stream",
     "text": [
      "Proposal: 3\n",
      "2025-07-20 22:44:54 - [trainer.py:2204:_text_grad_constraint_propose_step] - Propose time: 1.4177320003509521\n",
      "New prompts:  [PromptData(id='62aa09d0-a09f-478c-8e2d-72695b0d3f26', name='llm.task_desc_str', data='The primary goal of deductible amounts for small businesses is to lower taxable income and support legitimate business and health expenses, thereby reducing overall tax liability and aiding expense management.', requires_opt=True)]\n"
     ]
    },
    {
     "name": "stderr",
     "output_type": "stream",
     "text": [
      "\n",
      "\n",
      "Loading Data: 100%|██████████| 3/3 [00:00<00:00, 135.29it/s]\n",
      "Predicting: step(2): 0.6167 across 3 samples, Max potential: 0.6167: 100%|██████████| 3/3 [00:05<00:00,  1.69s/it]\n"
     ]
    },
    {
     "name": "stdout",
     "output_type": "stream",
     "text": [
      "2025-07-20 22:45:00 - [trainer.py:2224:_text_grad_constraint_propose_step] - Pass minibatch check:True, 0.6166666666666667 > 0.5666666666666668\n"
     ]
    },
    {
     "name": "stderr",
     "output_type": "stream",
     "text": [
      "\n",
      "\n",
      "Loading Data: 100%|██████████| 10/10 [00:00<00:00, 566.38it/s]\n",
      "Predicting: step(2): 0.7479 across 8 samples, Max potential: 0.7983:  80%|████████  | 8/10 [00:14<00:03,  1.82s/it]\n"
     ]
    },
    {
     "name": "stdout",
     "output_type": "stream",
     "text": [
      "Optimizer revert: 0.7592592592592593 <= 0.7966666666666666\n"
     ]
    },
    {
     "name": "stderr",
     "output_type": "stream",
     "text": [
      "\n",
      "Proposing:  60%|██████    | 3/5 [00:51<00:34, 17.22s/it]"
     ]
    },
    {
     "name": "stdout",
     "output_type": "stream",
     "text": [
      "Proposal: 4\n",
      "2025-07-20 22:45:16 - [trainer.py:2204:_text_grad_constraint_propose_step] - Propose time: 1.6906616687774658\n",
      "New prompts:  [PromptData(id='62aa09d0-a09f-478c-8e2d-72695b0d3f26', name='llm.task_desc_str', data='Yes, an entrepreneur can hire a self-employed business owner, provided the contractual arrangements and circumstances support a self-employment relationship rather than employment.', requires_opt=True)]\n"
     ]
    },
    {
     "name": "stderr",
     "output_type": "stream",
     "text": [
      "\n",
      "\n",
      "Loading Data: 100%|██████████| 3/3 [00:00<00:00, 353.65it/s]\n",
      "Predicting: step(2): 0.5833 across 3 samples, Max potential: 0.5833: 100%|██████████| 3/3 [00:04<00:00,  1.42s/it]\n"
     ]
    },
    {
     "name": "stdout",
     "output_type": "stream",
     "text": [
      "2025-07-20 22:45:21 - [trainer.py:2224:_text_grad_constraint_propose_step] - Pass minibatch check:True, 0.5833333333333334 > 0.5666666666666668\n"
     ]
    },
    {
     "name": "stderr",
     "output_type": "stream",
     "text": [
      "\n",
      "\n",
      "Loading Data: 100%|██████████| 10/10 [00:00<00:00, 643.07it/s]\n",
      "Predicting: step(2): 0.7741 across 9 samples, Max potential: 0.7967:  90%|█████████ | 9/10 [00:17<00:01,  1.90s/it]\n"
     ]
    },
    {
     "name": "stdout",
     "output_type": "stream",
     "text": [
      "Optimizer revert: 0.7816666666666666 <= 0.7966666666666666\n"
     ]
    },
    {
     "name": "stderr",
     "output_type": "stream",
     "text": [
      "\n",
      "Proposing:  80%|████████  | 4/5 [01:14<00:19, 19.68s/it]"
     ]
    },
    {
     "name": "stdout",
     "output_type": "stream",
     "text": [
      "Proposal: 5\n",
      "2025-07-20 22:45:40 - [trainer.py:2204:_text_grad_constraint_propose_step] - Propose time: 1.769005537033081\n",
      "New prompts:  [PromptData(id='62aa09d0-a09f-478c-8e2d-72695b0d3f26', name='llm.task_desc_str', data='Yes, an entrepreneur can hire a self-employed business owner, provided the contractual arrangements and circumstances support a self-employment relationship rather than employment.', requires_opt=True)]\n"
     ]
    },
    {
     "name": "stderr",
     "output_type": "stream",
     "text": [
      "\n",
      "\n",
      "Loading Data: 100%|██████████| 3/3 [00:00<00:00, 186.33it/s]\n",
      "Predicting: step(2): 0.5833 across 3 samples, Max potential: 0.5833: 100%|██████████| 3/3 [00:00<00:00, 48.73it/s]\n"
     ]
    },
    {
     "name": "stdout",
     "output_type": "stream",
     "text": [
      "2025-07-20 22:45:40 - [trainer.py:2224:_text_grad_constraint_propose_step] - Pass minibatch check:True, 0.5833333333333334 > 0.5666666666666668\n"
     ]
    },
    {
     "name": "stderr",
     "output_type": "stream",
     "text": [
      "\n",
      "\n",
      "Loading Data: 100%|██████████| 10/10 [00:00<00:00, 609.74it/s]\n",
      "Predicting: step(2): 0.7741 across 9 samples, Max potential: 0.7967:  90%|█████████ | 9/10 [00:00<00:00, 38.01it/s]\n"
     ]
    },
    {
     "name": "stdout",
     "output_type": "stream",
     "text": [
      "Optimizer revert: 0.7816666666666666 <= 0.7966666666666666\n"
     ]
    },
    {
     "name": "stderr",
     "output_type": "stream",
     "text": [
      "\n",
      "Proposing: 100%|██████████| 5/5 [01:17<00:00, 15.51s/it]\n"
     ]
    },
    {
     "name": "stdout",
     "output_type": "stream",
     "text": [
      "No proposal can improve the subset and full set, and val set\n",
      "Saving checkpoint to C:\\Users\\wuhan\\AppData\\Roaming\\adalflow\\ckpt\\HotPotQAAdal\\constrained_max_steps_12_b70f9_run_1.json\n",
      "Done with proposals\n"
     ]
    },
    {
     "name": "stderr",
     "output_type": "stream",
     "text": [
      "Training Step: 3:  67%|██████▋   | 2/3 [02:09<01:08, 68.77s/it]\n",
      "Loading Data: 100%|██████████| 2/2 [00:00<00:00, 391.48it/s]\n",
      "Training: 100%|██████████| 2/2 [00:02<00:00,  1.28s/it]\n",
      "\n",
      "Loading Data: 100%|██████████| 2/2 [00:00<00:00, 270.84it/s]\n",
      "Calculating Loss: 100%|██████████| 2/2 [00:02<00:00,  1.07s/it]\n",
      "Evaluating: 100%|██████████| 6/6 [00:00<00:00, 69.82it/s]\n"
     ]
    },
    {
     "name": "stdout",
     "output_type": "stream",
     "text": [
      "Moving batch eval: EvaluationResult(avg_score=0.6666666666666666, per_item_scores=[0.7166666666666668, 0.4666666666666667, 0.7666666666666666, 0.5166666666666667, 0.7666666666666666, 0.7666666666666666], additional_info=None)\n",
      "2025-07-20 22:45:45 - [trainer.py:2172:_text_grad_constraint_propose_step] - Moving batch acc: 0.6666666666666666\n",
      "Moving batch correct size: 5\n",
      "Moving batch error size: 1\n",
      "Subset Error size: 1\n",
      "Subset Correct size: 2\n",
      "Subset score: 0.6666666666666666\n",
      "2025-07-20 22:45:46 - [trainer.py:2178:_text_grad_constraint_propose_step] - Subset batch acc: 0.6666666666666666,0.6666666666666666\n",
      "Subset loss backward...\n",
      "Subset loss backward time: 7.28583025932312\n",
      "Optimizer propose...\n"
     ]
    },
    {
     "name": "stderr",
     "output_type": "stream",
     "text": [
      "\n",
      "Proposing:   0%|          | 0/5 [00:00<?, ?it/s]"
     ]
    },
    {
     "name": "stdout",
     "output_type": "stream",
     "text": [
      "Proposal: 1\n",
      "2025-07-20 22:45:56 - [trainer.py:2204:_text_grad_constraint_propose_step] - Propose time: 2.7175188064575195\n",
      "New prompts:  [PromptData(id='62aa09d0-a09f-478c-8e2d-72695b0d3f26', name='llm.task_desc_str', data='Filing personal taxes with 1099 income involves reporting income directly on your individual return and paying self-employment taxes quarterly, but it offers limited legal protections and fewer opportunities for deducting business expenses. Operating as an LLC or S-corp means your business income is reported on a separate corporate return (Form 1120S), which provides liability protection and allows you to pay yourself a salary, potentially reducing self-employment taxes. Additionally, these structures enable more comprehensive deduction of business expenses. The choice depends on your specific needs, expenses, and risk considerations, but generally, LLCs or S-corps offer significant legal protections and tax advantages over sole proprietorship or direct 1099 filing.', requires_opt=True)]\n"
     ]
    },
    {
     "name": "stderr",
     "output_type": "stream",
     "text": [
      "\n",
      "\n",
      "Loading Data: 100%|██████████| 3/3 [00:00<00:00, 485.47it/s]\n",
      "Predicting: step(3): 0.5333 across 3 samples, Max potential: 0.5333: 100%|██████████| 3/3 [00:05<00:00,  1.96s/it]\n"
     ]
    },
    {
     "name": "stdout",
     "output_type": "stream",
     "text": [
      "2025-07-20 22:46:02 - [trainer.py:2230:_text_grad_constraint_propose_step] - Fail minibatch check, try next proposal: True, 0.5333333333333333 <= 0.6666666666666666\n"
     ]
    },
    {
     "name": "stderr",
     "output_type": "stream",
     "text": [
      "\n",
      "Proposing:  20%|██        | 1/5 [00:08<00:35,  8.92s/it]"
     ]
    },
    {
     "name": "stdout",
     "output_type": "stream",
     "text": [
      "Proposal: 2\n",
      "2025-07-20 22:46:05 - [trainer.py:2204:_text_grad_constraint_propose_step] - Propose time: 2.9076669216156006\n",
      "New prompts:  [PromptData(id='62aa09d0-a09f-478c-8e2d-72695b0d3f26', name='llm.task_desc_str', data='Filing personal taxes with 1099 income involves reporting your income directly on your individual tax return and paying self-employment taxes quarterly, but it offers limited legal protections and fewer opportunities for deductions. Operating as an S-corp, on the other hand, means your business income is reported on a separate corporate tax return (Form 1120S), allowing you to pay yourself a salary, potentially reduce self-employment taxes, and benefit from liability protections and more substantial business expense deductions. The choice depends on your specific circumstances, but generally, forming an LLC or S-corp provides significant legal protections and tax advantages that are not available when simply filing as a sole proprietor or with 1099 income.', requires_opt=True)]\n"
     ]
    },
    {
     "name": "stderr",
     "output_type": "stream",
     "text": [
      "\n",
      "\n",
      "Loading Data: 100%|██████████| 3/3 [00:00<00:00, 466.95it/s]\n",
      "Predicting: step(3): 0.65 across 3 samples, Max potential: 0.65: 100%|██████████| 3/3 [00:05<00:00,  1.90s/it]    \n"
     ]
    },
    {
     "name": "stdout",
     "output_type": "stream",
     "text": [
      "2025-07-20 22:46:11 - [trainer.py:2230:_text_grad_constraint_propose_step] - Fail minibatch check, try next proposal: True, 0.6499999999999999 <= 0.6666666666666666\n"
     ]
    },
    {
     "name": "stderr",
     "output_type": "stream",
     "text": [
      "\n",
      "Proposing:  40%|████      | 2/5 [00:17<00:26,  8.92s/it]"
     ]
    },
    {
     "name": "stdout",
     "output_type": "stream",
     "text": [
      "Proposal: 3\n",
      "2025-07-20 22:46:14 - [trainer.py:2204:_text_grad_constraint_propose_step] - Propose time: 2.582848072052002\n",
      "New prompts:  [PromptData(id='62aa09d0-a09f-478c-8e2d-72695b0d3f26', name='llm.task_desc_str', data='Filing personal taxes with 1099 income involves reporting income directly on your individual return and paying self-employment taxes quarterly, with limited legal protections and fewer deductible expenses. Operating as an LLC or S-corp means your business income is reported on a separate corporate return (Form 1120S), allowing you to pay yourself a salary and potentially reduce self-employment taxes, while also providing liability protection and the ability to deduct business expenses more effectively. The decision depends on your specific situation, expenses, and risk considerations, but generally, an LLC or S-corp offers significant legal protections and tax advantages over sole proprietorship or simple 1099 reporting, making it a preferable choice for many business owners seeking both legal security and tax efficiency.', requires_opt=True)]\n"
     ]
    },
    {
     "name": "stderr",
     "output_type": "stream",
     "text": [
      "\n",
      "\n",
      "Loading Data: 100%|██████████| 3/3 [00:00<00:00, 227.06it/s]\n",
      "Predicting: step(3): 0.5833 across 3 samples, Max potential: 0.5833: 100%|██████████| 3/3 [00:04<00:00,  1.64s/it]\n"
     ]
    },
    {
     "name": "stdout",
     "output_type": "stream",
     "text": [
      "2025-07-20 22:46:19 - [trainer.py:2230:_text_grad_constraint_propose_step] - Fail minibatch check, try next proposal: True, 0.5833333333333334 <= 0.6666666666666666\n"
     ]
    },
    {
     "name": "stderr",
     "output_type": "stream",
     "text": [
      "\n",
      "Proposing:  60%|██████    | 3/5 [00:25<00:16,  8.44s/it]"
     ]
    },
    {
     "name": "stdout",
     "output_type": "stream",
     "text": [
      "Proposal: 4\n",
      "2025-07-20 22:46:24 - [trainer.py:2204:_text_grad_constraint_propose_step] - Propose time: 4.755796432495117\n",
      "New prompts:  [PromptData(id='62aa09d0-a09f-478c-8e2d-72695b0d3f26', name='llm.task_desc_str', data='Filing personal taxes with 1099 income involves reporting income directly on your individual return and paying self-employment taxes quarterly, with limited legal protections and fewer deductible expenses. Operating as an S-corp means your business income is reported on a separate corporate return (Form 1120S), allowing you to pay yourself a salary, potentially reduce self-employment taxes, and benefit from liability protection and more deductible business expenses. The choice depends on your specific situation, expenses, and risk considerations, but generally, an LLC or S-corp offers advantages in legal protection and tax planning over sole proprietorship or 1099 filing alone.', requires_opt=True)]\n"
     ]
    },
    {
     "name": "stderr",
     "output_type": "stream",
     "text": [
      "\n",
      "\n",
      "Loading Data: 100%|██████████| 3/3 [00:00<00:00, 440.13it/s]\n",
      "Predicting: step(3): 0.65 across 3 samples, Max potential: 0.65: 100%|██████████| 3/3 [00:06<00:00,  2.11s/it]    \n"
     ]
    },
    {
     "name": "stdout",
     "output_type": "stream",
     "text": [
      "2025-07-20 22:46:30 - [trainer.py:2230:_text_grad_constraint_propose_step] - Fail minibatch check, try next proposal: True, 0.65 <= 0.6666666666666666\n"
     ]
    },
    {
     "name": "stderr",
     "output_type": "stream",
     "text": [
      "\n",
      "Proposing:  80%|████████  | 4/5 [00:37<00:09,  9.60s/it]"
     ]
    },
    {
     "name": "stdout",
     "output_type": "stream",
     "text": [
      "Proposal: 5\n",
      "2025-07-20 22:46:33 - [trainer.py:2204:_text_grad_constraint_propose_step] - Propose time: 2.288154125213623\n",
      "New prompts:  [PromptData(id='62aa09d0-a09f-478c-8e2d-72695b0d3f26', name='llm.task_desc_str', data='Filing personal taxes with 1099 income involves reporting the income on your individual tax return and paying self-employment taxes, which can be higher and less flexible. Operating as an S-corp means your business income is reported separately via Form 1120S, allowing you to pay yourself a salary and potentially reduce self-employment taxes, while also offering legal protections and the ability to deduct business expenses. The decision depends on your entity structure and financial goals, but generally, an S-corp provides better legal protection and tax planning opportunities compared to sole proprietorship or direct 1099 reporting.', requires_opt=True)]\n"
     ]
    },
    {
     "name": "stderr",
     "output_type": "stream",
     "text": [
      "\n",
      "\n",
      "Loading Data: 100%|██████████| 3/3 [00:00<00:00, 489.57it/s]\n",
      "Predicting: step(3): 0.65 across 3 samples, Max potential: 0.65: 100%|██████████| 3/3 [00:05<00:00,  1.70s/it]    \n"
     ]
    },
    {
     "name": "stdout",
     "output_type": "stream",
     "text": [
      "2025-07-20 22:46:38 - [trainer.py:2230:_text_grad_constraint_propose_step] - Fail minibatch check, try next proposal: True, 0.65 <= 0.6666666666666666\n"
     ]
    },
    {
     "name": "stderr",
     "output_type": "stream",
     "text": [
      "\n",
      "Proposing: 100%|██████████| 5/5 [00:44<00:00,  8.95s/it]\n"
     ]
    },
    {
     "name": "stdout",
     "output_type": "stream",
     "text": [
      "No proposal can improve the subset and full set, and val set\n",
      "Saving checkpoint to C:\\Users\\wuhan\\AppData\\Roaming\\adalflow\\ckpt\\HotPotQAAdal\\constrained_max_steps_12_b70f9_run_1.json\n",
      "Done with proposals\n"
     ]
    },
    {
     "name": "stderr",
     "output_type": "stream",
     "text": [
      "Training Step: 3: 100%|██████████| 3/3 [03:06<00:00, 62.19s/it]\n",
      "Epoch:  20%|██        | 1/5 [03:06<12:26, 186.59s/it]"
     ]
    },
    {
     "name": "stdout",
     "output_type": "stream",
     "text": [
      "Epoch: 1\n"
     ]
    },
    {
     "name": "stderr",
     "output_type": "stream",
     "text": [
      "Training Step: 4:   0%|          | 0/3 [00:00<?, ?it/s]\n",
      "Loading Data: 100%|██████████| 4/4 [00:00<00:00, 272.43it/s]\n",
      "Training: 100%|██████████| 4/4 [00:00<00:00, 185.26it/s]\n",
      "\n",
      "Loading Data: 100%|██████████| 4/4 [00:00<00:00, 481.11it/s]\n",
      "Calculating Loss: 100%|██████████| 4/4 [00:00<00:00, 243.74it/s]\n",
      "Evaluating: 100%|██████████| 10/10 [00:00<00:00, 181.79it/s]\n"
     ]
    },
    {
     "name": "stdout",
     "output_type": "stream",
     "text": [
      "Moving batch eval: EvaluationResult(avg_score=0.6266666666666667, per_item_scores=[0.7166666666666668, 0.4666666666666667, 0.7666666666666666, 0.5166666666666667, 0.7666666666666666, 0.7666666666666666, 0.7166666666666668, 0.4666666666666667, 0.6666666666666667, 0.41666666666666663], additional_info=None)\n",
      "2025-07-20 22:46:38 - [trainer.py:2172:_text_grad_constraint_propose_step] - Moving batch acc: 0.6266666666666667\n",
      "Moving batch correct size: 7\n",
      "Moving batch error size: 3\n",
      "Subset Error size: 2\n",
      "Subset Correct size: 2\n",
      "Subset score: 0.5666666666666667\n",
      "2025-07-20 22:46:38 - [trainer.py:2178:_text_grad_constraint_propose_step] - Subset batch acc: 0.5666666666666667,0.5666666666666667\n",
      "Subset loss backward...\n",
      "Subset loss backward time: 9.199041366577148\n",
      "Optimizer propose...\n"
     ]
    },
    {
     "name": "stderr",
     "output_type": "stream",
     "text": [
      "\n",
      "Proposing:   0%|          | 0/5 [00:00<?, ?it/s]"
     ]
    },
    {
     "name": "stdout",
     "output_type": "stream",
     "text": [
      "Proposal: 1\n",
      "2025-07-20 22:46:50 - [trainer.py:2204:_text_grad_constraint_propose_step] - Propose time: 1.9001762866973877\n",
      "New prompts:  [PromptData(id='62aa09d0-a09f-478c-8e2d-72695b0d3f26', name='llm.task_desc_str', data=\"Yes, it is possible to have one EIN operating under multiple business names by filing a 'Doing Business As' (DBA) registration with your local government. After filing, you should have the DBA verified with your bank, which may involve the bank calling the county seat to confirm the DBA registration. This process involves paying a processing fee for the DBA. Once verified, you can operate your business under multiple trade names using the same EIN, provided you keep proper records.\", requires_opt=True)]\n"
     ]
    },
    {
     "name": "stderr",
     "output_type": "stream",
     "text": [
      "\n",
      "\n",
      "Loading Data: 100%|██████████| 4/4 [00:00<00:00, 512.66it/s]\n",
      "Predicting: step(4): 0.5792 across 4 samples, Max potential: 0.5792: 100%|██████████| 4/4 [00:08<00:00,  2.12s/it]\n"
     ]
    },
    {
     "name": "stdout",
     "output_type": "stream",
     "text": [
      "2025-07-20 22:46:58 - [trainer.py:2224:_text_grad_constraint_propose_step] - Pass minibatch check:True, 0.5791666666666666 > 0.5666666666666667\n"
     ]
    },
    {
     "name": "stderr",
     "output_type": "stream",
     "text": [
      "\n",
      "\n",
      "Loading Data: 100%|██████████| 10/10 [00:00<00:00, 1162.66it/s]\n",
      "Predicting: step(4): 0.7521 across 8 samples, Max potential: 0.8017:  80%|████████  | 8/10 [00:15<00:03,  1.95s/it]\n"
     ]
    },
    {
     "name": "stdout",
     "output_type": "stream",
     "text": [
      "Optimizer revert: 0.7592592592592591 <= 0.7966666666666666\n"
     ]
    },
    {
     "name": "stderr",
     "output_type": "stream",
     "text": [
      "\n",
      "Proposing:  20%|██        | 1/5 [00:26<01:45, 26.30s/it]"
     ]
    },
    {
     "name": "stdout",
     "output_type": "stream",
     "text": [
      "Proposal: 2\n",
      "2025-07-20 22:47:16 - [trainer.py:2204:_text_grad_constraint_propose_step] - Propose time: 2.07586669921875\n",
      "New prompts:  [PromptData(id='62aa09d0-a09f-478c-8e2d-72695b0d3f26', name='llm.task_desc_str', data=\"Yes, it is possible to have one EIN doing business under multiple business names by filing a 'Doing Business As' (DBA) registration with your local government and having the bank verify the DBA. This process involves submitting the DBA form, which must be processed and recorded, and then using the same EIN for all the trade names. The verification ensures that your business operates legally under multiple trade names without needing separate EINs.\", requires_opt=True)]\n"
     ]
    },
    {
     "name": "stderr",
     "output_type": "stream",
     "text": [
      "\n",
      "\n",
      "Loading Data: 100%|██████████| 4/4 [00:00<00:00, 468.61it/s]\n",
      "Predicting: step(4): 0.6292 across 4 samples, Max potential: 0.6292: 100%|██████████| 4/4 [00:07<00:00,  1.89s/it]\n"
     ]
    },
    {
     "name": "stdout",
     "output_type": "stream",
     "text": [
      "2025-07-20 22:47:24 - [trainer.py:2224:_text_grad_constraint_propose_step] - Pass minibatch check:True, 0.6291666666666667 > 0.5666666666666667\n"
     ]
    },
    {
     "name": "stderr",
     "output_type": "stream",
     "text": [
      "\n",
      "\n",
      "Loading Data: 100%|██████████| 10/10 [00:00<00:00, 1052.21it/s]\n",
      "Predicting: step(4): 0.7714 across 7 samples, Max potential: 0.84:  70%|███████   | 7/10 [00:16<00:07,  2.36s/it]  \n"
     ]
    },
    {
     "name": "stdout",
     "output_type": "stream",
     "text": [
      "Optimizer revert: 0.7395833333333333 <= 0.7966666666666666\n"
     ]
    },
    {
     "name": "stderr",
     "output_type": "stream",
     "text": [
      "\n",
      "Proposing:  40%|████      | 2/5 [00:52<01:19, 26.44s/it]"
     ]
    },
    {
     "name": "stdout",
     "output_type": "stream",
     "text": [
      "Proposal: 3\n",
      "2025-07-20 22:47:43 - [trainer.py:2204:_text_grad_constraint_propose_step] - Propose time: 2.0690150260925293\n",
      "New prompts:  [PromptData(id='62aa09d0-a09f-478c-8e2d-72695b0d3f26', name='llm.task_desc_str', data=\"Yes, it is possible to have one EIN doing business under multiple business names by filing a 'Doing Business As' (DBA) registration with your local government, having the bank call the county seat to verify the DBA, and ensuring the DBA form is properly processed and recorded. This allows a single EIN to be associated with multiple trade names, provided the legal and procedural steps are followed.\", requires_opt=True)]\n"
     ]
    },
    {
     "name": "stderr",
     "output_type": "stream",
     "text": [
      "\n",
      "\n",
      "Loading Data: 100%|██████████| 4/4 [00:00<00:00, 478.76it/s]\n",
      "Predicting: step(4): 0.6167 across 4 samples, Max potential: 0.6167: 100%|██████████| 4/4 [00:08<00:00,  2.10s/it]\n"
     ]
    },
    {
     "name": "stdout",
     "output_type": "stream",
     "text": [
      "2025-07-20 22:47:51 - [trainer.py:2224:_text_grad_constraint_propose_step] - Pass minibatch check:True, 0.6166666666666667 > 0.5666666666666667\n"
     ]
    },
    {
     "name": "stderr",
     "output_type": "stream",
     "text": [
      "\n",
      "\n",
      "Loading Data: 100%|██████████| 10/10 [00:00<00:00, 843.36it/s]\n",
      "Predicting: step(4): 0.7143 across 7 samples, Max potential: 0.8:  70%|███████   | 7/10 [00:15<00:06,  2.21s/it]   \n"
     ]
    },
    {
     "name": "stdout",
     "output_type": "stream",
     "text": [
      "Optimizer revert: 0.7083333333333333 <= 0.7966666666666666\n"
     ]
    },
    {
     "name": "stderr",
     "output_type": "stream",
     "text": [
      "\n",
      "Proposing:  60%|██████    | 3/5 [01:19<00:52, 26.38s/it]"
     ]
    },
    {
     "name": "stdout",
     "output_type": "stream",
     "text": [
      "Proposal: 4\n",
      "2025-07-20 22:48:09 - [trainer.py:2204:_text_grad_constraint_propose_step] - Propose time: 2.097766399383545\n",
      "New prompts:  [PromptData(id='62aa09d0-a09f-478c-8e2d-72695b0d3f26', name='llm.task_desc_str', data=\"Yes, it is possible to have one EIN doing business under multiple business names by filing a 'Doing Business As' (DBA) registration with your local government and having the bank call the county seat to verify the DBA. After the DBA is processed and recorded, you can operate under different trade names using the same EIN. This process involves submitting the DBA form, paying any associated fees, and ensuring the bank has verified the DBA before opening accounts or conducting business under those names.\", requires_opt=True)]\n"
     ]
    },
    {
     "name": "stderr",
     "output_type": "stream",
     "text": [
      "\n",
      "\n",
      "Loading Data: 100%|██████████| 4/4 [00:00<00:00, 294.15it/s]\n",
      "Predicting: step(4): 0.6167 across 4 samples, Max potential: 0.6167: 100%|██████████| 4/4 [00:06<00:00,  1.73s/it]\n"
     ]
    },
    {
     "name": "stdout",
     "output_type": "stream",
     "text": [
      "2025-07-20 22:48:16 - [trainer.py:2224:_text_grad_constraint_propose_step] - Pass minibatch check:True, 0.6166666666666667 > 0.5666666666666667\n"
     ]
    },
    {
     "name": "stderr",
     "output_type": "stream",
     "text": [
      "\n",
      "\n",
      "Loading Data: 100%|██████████| 10/10 [00:00<00:00, 1109.75it/s]\n",
      "Predicting: step(4): 0.7786 across 7 samples, Max potential: 0.845:  70%|███████   | 7/10 [00:14<00:06,  2.05s/it] \n"
     ]
    },
    {
     "name": "stdout",
     "output_type": "stream",
     "text": [
      "Optimizer revert: 0.7395833333333333 <= 0.7966666666666666\n"
     ]
    },
    {
     "name": "stderr",
     "output_type": "stream",
     "text": [
      "\n",
      "Proposing:  80%|████████  | 4/5 [01:42<00:25, 25.34s/it]"
     ]
    },
    {
     "name": "stdout",
     "output_type": "stream",
     "text": [
      "Proposal: 5\n",
      "2025-07-20 22:48:33 - [trainer.py:2204:_text_grad_constraint_propose_step] - Propose time: 2.311622381210327\n",
      "New prompts:  [PromptData(id='62aa09d0-a09f-478c-8e2d-72695b0d3f26', name='llm.task_desc_str', data='Yes, it is possible to have one EIN doing business under multiple business names. This can be done by filing a \"Doing Business As\" (DBA) document with your local government and having the bank call the county seat to verify the DBA. The DBA form will need to be processed and recorded, and there may be a fee associated with this.', requires_opt=True)]\n"
     ]
    },
    {
     "name": "stderr",
     "output_type": "stream",
     "text": [
      "\n",
      "\n",
      "Loading Data: 100%|██████████| 4/4 [00:00<00:00, 237.95it/s]\n",
      "Predicting: step(4): 0.5667 across 4 samples, Max potential: 0.5667: 100%|██████████| 4/4 [00:06<00:00,  1.69s/it]\n"
     ]
    },
    {
     "name": "stdout",
     "output_type": "stream",
     "text": [
      "2025-07-20 22:48:40 - [trainer.py:2230:_text_grad_constraint_propose_step] - Fail minibatch check, try next proposal: True, 0.5666666666666667 <= 0.5666666666666667\n"
     ]
    },
    {
     "name": "stderr",
     "output_type": "stream",
     "text": [
      "\n",
      "Proposing: 100%|██████████| 5/5 [01:52<00:00, 22.48s/it]\n"
     ]
    },
    {
     "name": "stdout",
     "output_type": "stream",
     "text": [
      "No proposal can improve the subset and full set, and val set\n",
      "Saving checkpoint to C:\\Users\\wuhan\\AppData\\Roaming\\adalflow\\ckpt\\HotPotQAAdal\\constrained_max_steps_12_b70f9_run_1.json\n",
      "Done with proposals\n"
     ]
    },
    {
     "name": "stderr",
     "output_type": "stream",
     "text": [
      "Training Step: 5:  33%|███▎      | 1/3 [02:02<04:04, 122.17s/it]\n",
      "Loading Data: 100%|██████████| 4/4 [00:00<00:00, 369.89it/s]\n",
      "Training: 100%|██████████| 4/4 [00:01<00:00,  2.10it/s]\n",
      "\n",
      "Loading Data: 100%|██████████| 4/4 [00:00<00:00, 316.46it/s]\n",
      "Calculating Loss: 100%|██████████| 4/4 [00:00<00:00, 59.19it/s]\n",
      "Evaluating: 100%|██████████| 14/14 [00:00<00:00, 89.52it/s]\n"
     ]
    },
    {
     "name": "stdout",
     "output_type": "stream",
     "text": [
      "Moving batch eval: EvaluationResult(avg_score=0.6488095238095238, per_item_scores=[0.7166666666666668, 0.4666666666666667, 0.7666666666666666, 0.5166666666666667, 0.7666666666666666, 0.7666666666666666, 0.7166666666666668, 0.4666666666666667, 0.6666666666666667, 0.41666666666666663, 0.7666666666666666, 0.7666666666666666, 0.7666666666666666, 0.5166666666666667], additional_info=None)\n",
      "2025-07-20 22:48:42 - [trainer.py:2172:_text_grad_constraint_propose_step] - Moving batch acc: 0.6488095238095238\n",
      "Moving batch correct size: 11\n",
      "Moving batch error size: 3\n",
      "Subset Error size: 2\n",
      "Subset Correct size: 2\n",
      "Subset score: 0.6041666666666666\n",
      "2025-07-20 22:48:43 - [trainer.py:2178:_text_grad_constraint_propose_step] - Subset batch acc: 0.6041666666666666,0.6041666666666666\n",
      "Subset loss backward...\n",
      "Subset loss backward time: 9.732853651046753\n",
      "Optimizer propose...\n"
     ]
    },
    {
     "name": "stderr",
     "output_type": "stream",
     "text": [
      "\n",
      "Proposing:   0%|          | 0/5 [00:00<?, ?it/s]"
     ]
    },
    {
     "name": "stdout",
     "output_type": "stream",
     "text": [
      "Proposal: 1\n",
      "2025-07-20 22:48:55 - [trainer.py:2204:_text_grad_constraint_propose_step] - Propose time: 2.109221935272217\n",
      "New prompts:  [PromptData(id='62aa09d0-a09f-478c-8e2d-72695b0d3f26', name='llm.task_desc_str', data='To apply for and receive business credit, you should set up a meeting with your bank in person, bringing your financial statements such as profit and loss, balance sheet, and cash flow spreadsheets. Explain your needs for establishing credit and obtaining a credit card with a desired limit. Building a strong relationship with your banker can help in getting approved, even with limited credit history. It’s also beneficial to continue meeting regularly, updating your financials, and exploring additional credit options as your business grows.', requires_opt=True)]\n"
     ]
    },
    {
     "name": "stderr",
     "output_type": "stream",
     "text": [
      "\n",
      "\n",
      "Loading Data: 100%|██████████| 4/4 [00:00<00:00, 381.94it/s]\n",
      "Predicting: step(5): 0.6167 across 4 samples, Max potential: 0.6167: 100%|██████████| 4/4 [00:05<00:00,  1.32s/it]\n"
     ]
    },
    {
     "name": "stdout",
     "output_type": "stream",
     "text": [
      "2025-07-20 22:49:00 - [trainer.py:2224:_text_grad_constraint_propose_step] - Pass minibatch check:True, 0.6166666666666667 > 0.6041666666666666\n"
     ]
    },
    {
     "name": "stderr",
     "output_type": "stream",
     "text": [
      "\n",
      "\n",
      "Loading Data: 100%|██████████| 10/10 [00:00<00:00, 768.58it/s]\n",
      "Predicting: step(5): 0.7562 across 8 samples, Max potential: 0.805:  80%|████████  | 8/10 [00:17<00:04,  2.14s/it] \n"
     ]
    },
    {
     "name": "stdout",
     "output_type": "stream",
     "text": [
      "Optimizer revert: 0.7685185185185185 <= 0.7966666666666666\n"
     ]
    },
    {
     "name": "stderr",
     "output_type": "stream",
     "text": [
      "\n",
      "Proposing:  20%|██        | 1/5 [00:24<01:39, 24.87s/it]"
     ]
    },
    {
     "name": "stdout",
     "output_type": "stream",
     "text": [
      "Proposal: 2\n",
      "2025-07-20 22:49:20 - [trainer.py:2204:_text_grad_constraint_propose_step] - Propose time: 2.412889003753662\n",
      "New prompts:  [PromptData(id='62aa09d0-a09f-478c-8e2d-72695b0d3f26', name='llm.task_desc_str', data='To apply for and receive business credit, meet in person with your bank, bring detailed financial statements such as profit and loss, balance sheet, and cash flow spreadsheets. Discuss your credit needs, including requesting a credit card with a specific limit. Building a strong relationship with your banker can improve your approval chances. Continue regular meetings, updating your financials, and demonstrating your creditworthiness to establish and maintain business credit effectively.', requires_opt=True)]\n"
     ]
    },
    {
     "name": "stderr",
     "output_type": "stream",
     "text": [
      "\n",
      "\n",
      "Loading Data: 100%|██████████| 4/4 [00:00<00:00, 465.70it/s]\n",
      "Predicting: step(5): 0.5792 across 4 samples, Max potential: 0.5792: 100%|██████████| 4/4 [00:04<00:00,  1.22s/it]\n"
     ]
    },
    {
     "name": "stdout",
     "output_type": "stream",
     "text": [
      "2025-07-20 22:49:25 - [trainer.py:2230:_text_grad_constraint_propose_step] - Fail minibatch check, try next proposal: True, 0.5791666666666666 <= 0.6041666666666666\n"
     ]
    },
    {
     "name": "stderr",
     "output_type": "stream",
     "text": [
      "\n",
      "Proposing:  40%|████      | 2/5 [00:32<00:44, 14.73s/it]"
     ]
    },
    {
     "name": "stdout",
     "output_type": "stream",
     "text": [
      "Proposal: 3\n",
      "2025-07-20 22:49:28 - [trainer.py:2204:_text_grad_constraint_propose_step] - Propose time: 2.463794708251953\n",
      "New prompts:  [PromptData(id='62aa09d0-a09f-478c-8e2d-72695b0d3f26', name='llm.task_desc_str', data='To apply for and receive business credit, you should set up a meeting with your bank in person, bringing your financial statements such as profit and loss, balance sheet, and cash flow spreadsheets. Explain your needs for establishing credit and obtaining a credit card with a desired limit. Building a strong relationship with your banker can help in getting approved, even with limited credit history. It’s also beneficial to continue meeting regularly, updating your financials, and demonstrating your creditworthiness. This proactive approach will improve your chances of securing business credit and establishing a solid financial foundation.', requires_opt=True)]\n"
     ]
    },
    {
     "name": "stderr",
     "output_type": "stream",
     "text": [
      "\n",
      "\n",
      "Loading Data: 100%|██████████| 4/4 [00:00<00:00, 518.25it/s]\n",
      "Predicting: step(5): 0.6042 across 4 samples, Max potential: 0.6042: 100%|██████████| 4/4 [00:05<00:00,  1.39s/it]\n"
     ]
    },
    {
     "name": "stdout",
     "output_type": "stream",
     "text": [
      "2025-07-20 22:49:33 - [trainer.py:2230:_text_grad_constraint_propose_step] - Fail minibatch check, try next proposal: True, 0.6041666666666666 <= 0.6041666666666666\n"
     ]
    },
    {
     "name": "stderr",
     "output_type": "stream",
     "text": [
      "\n",
      "Proposing:  60%|██████    | 3/5 [00:40<00:23, 11.84s/it]"
     ]
    },
    {
     "name": "stdout",
     "output_type": "stream",
     "text": [
      "Proposal: 4\n",
      "2025-07-20 22:49:36 - [trainer.py:2204:_text_grad_constraint_propose_step] - Propose time: 2.457782745361328\n",
      "New prompts:  [PromptData(id='62aa09d0-a09f-478c-8e2d-72695b0d3f26', name='llm.task_desc_str', data='To apply for and receive business credit, you should set up a meeting with your bank in person, bringing your financial statements such as profit and loss, balance sheet, and cash flow spreadsheets. Explain your needs for establishing credit and obtaining a credit card with a desired limit. Building a strong relationship with your banker can help in getting approved, even with limited credit history. It’s also beneficial to continue meeting regularly, updating your financials, and exploring alternative funding options like factoring receivables or providing collateral if necessary. This proactive approach will improve your chances of securing business credit and establishing a solid financial foundation.', requires_opt=True)]\n"
     ]
    },
    {
     "name": "stderr",
     "output_type": "stream",
     "text": [
      "\n",
      "\n",
      "Loading Data: 100%|██████████| 4/4 [00:00<00:00, 439.53it/s]\n",
      "Predicting: step(5): 0.5542 across 4 samples, Max potential: 0.5542: 100%|██████████| 4/4 [00:07<00:00,  1.96s/it]\n"
     ]
    },
    {
     "name": "stdout",
     "output_type": "stream",
     "text": [
      "2025-07-20 22:49:44 - [trainer.py:2230:_text_grad_constraint_propose_step] - Fail minibatch check, try next proposal: True, 0.5541666666666667 <= 0.6041666666666666\n"
     ]
    },
    {
     "name": "stderr",
     "output_type": "stream",
     "text": [
      "\n",
      "Proposing:  80%|████████  | 4/5 [00:51<00:11, 11.36s/it]"
     ]
    },
    {
     "name": "stdout",
     "output_type": "stream",
     "text": [
      "Proposal: 5\n",
      "2025-07-20 22:49:47 - [trainer.py:2204:_text_grad_constraint_propose_step] - Propose time: 2.598325490951538\n",
      "New prompts:  [PromptData(id='62aa09d0-a09f-478c-8e2d-72695b0d3f26', name='llm.task_desc_str', data='To apply for and receive business credit, you should set up a meeting with your bank in person, bringing your financial statements such as profit and loss, balance sheet, and cash flow spreadsheets. Explain your needs for establishing credit and obtaining a credit card with a desired limit. Building a strong relationship with your banker can help in getting approved, even with limited credit history. It’s also beneficial to continue meeting regularly, updating your financials, and exploring alternative funding options like factoring receivables or providing collateral if necessary. This proactive approach will improve your chances of securing business credit and establishing a solid financial foundation.', requires_opt=True)]\n"
     ]
    },
    {
     "name": "stderr",
     "output_type": "stream",
     "text": [
      "\n",
      "\n",
      "Loading Data: 100%|██████████| 4/4 [00:00<00:00, 417.76it/s]\n",
      "Predicting: step(5): 0.5542 across 4 samples, Max potential: 0.5542: 100%|██████████| 4/4 [00:00<00:00, 52.77it/s]\n"
     ]
    },
    {
     "name": "stdout",
     "output_type": "stream",
     "text": [
      "2025-07-20 22:49:47 - [trainer.py:2230:_text_grad_constraint_propose_step] - Fail minibatch check, try next proposal: True, 0.5541666666666667 <= 0.6041666666666666\n"
     ]
    },
    {
     "name": "stderr",
     "output_type": "stream",
     "text": [
      "\n",
      "Proposing: 100%|██████████| 5/5 [00:54<00:00, 10.89s/it]\n"
     ]
    },
    {
     "name": "stdout",
     "output_type": "stream",
     "text": [
      "No proposal can improve the subset and full set, and val set\n",
      "Saving checkpoint to C:\\Users\\wuhan\\AppData\\Roaming\\adalflow\\ckpt\\HotPotQAAdal\\constrained_max_steps_12_b70f9_run_1.json\n",
      "Done with proposals\n"
     ]
    },
    {
     "name": "stderr",
     "output_type": "stream",
     "text": [
      "Training Step: 6:  67%|██████▋   | 2/3 [03:09<01:29, 89.66s/it] \n",
      "Loading Data: 100%|██████████| 2/2 [00:00<00:00, 334.17it/s]\n",
      "Training: 100%|██████████| 2/2 [00:00<00:00, 1897.45it/s]\n",
      "\n",
      "Loading Data: 100%|██████████| 2/2 [00:00<00:00, 536.87it/s]\n",
      "Calculating Loss: 100%|██████████| 2/2 [00:00<00:00, 307.97it/s]\n",
      "Evaluating: 100%|██████████| 16/16 [00:00<00:00, 84.10it/s]\n"
     ]
    },
    {
     "name": "stdout",
     "output_type": "stream",
     "text": [
      "Moving batch eval: EvaluationResult(avg_score=0.6635416666666667, per_item_scores=[0.7166666666666668, 0.4666666666666667, 0.7666666666666666, 0.5166666666666667, 0.7666666666666666, 0.7666666666666666, 0.7166666666666668, 0.4666666666666667, 0.6666666666666667, 0.41666666666666663, 0.7666666666666666, 0.7666666666666666, 0.7666666666666666, 0.5166666666666667, 0.7666666666666666, 0.7666666666666666], additional_info=None)\n",
      "2025-07-20 22:49:47 - [trainer.py:2172:_text_grad_constraint_propose_step] - Moving batch acc: 0.6635416666666667\n",
      "Moving batch correct size: 13\n",
      "Moving batch error size: 3\n",
      "Subset Error size: 2\n",
      "Subset Correct size: 2\n",
      "Subset score: 0.5916666666666667\n",
      "2025-07-20 22:49:48 - [trainer.py:2178:_text_grad_constraint_propose_step] - Subset batch acc: 0.5916666666666667,0.5916666666666667\n",
      "Subset loss backward...\n",
      "Subset loss backward time: 8.6231849193573\n",
      "Optimizer propose...\n"
     ]
    },
    {
     "name": "stderr",
     "output_type": "stream",
     "text": [
      "\n",
      "Proposing:   0%|          | 0/5 [00:00<?, ?it/s]"
     ]
    },
    {
     "name": "stdout",
     "output_type": "stream",
     "text": [
      "Proposal: 1\n",
      "2025-07-20 22:49:58 - [trainer.py:2204:_text_grad_constraint_propose_step] - Propose time: 1.695587158203125\n",
      "New prompts:  [PromptData(id='62aa09d0-a09f-478c-8e2d-72695b0d3f26', name='llm.task_desc_str', data='After a business closure, contact your 401(k) plan administrator to request a direct rollover or transfer of your funds into an IRA or your new employer’s 401(k) plan. Verify the plan’s procedures, complete the necessary paperwork, and ensure the transfer is direct to avoid taxes or penalties. Keep records of the transaction for future reference and tax reporting.', requires_opt=True)]\n"
     ]
    },
    {
     "name": "stderr",
     "output_type": "stream",
     "text": [
      "\n",
      "\n",
      "Loading Data: 100%|██████████| 4/4 [00:00<00:00, 451.77it/s]\n",
      "Predicting: step(6): 0.6542 across 4 samples, Max potential: 0.6542: 100%|██████████| 4/4 [00:07<00:00,  1.80s/it]\n"
     ]
    },
    {
     "name": "stdout",
     "output_type": "stream",
     "text": [
      "2025-07-20 22:50:05 - [trainer.py:2224:_text_grad_constraint_propose_step] - Pass minibatch check:True, 0.6541666666666667 > 0.5916666666666667\n"
     ]
    },
    {
     "name": "stderr",
     "output_type": "stream",
     "text": [
      "\n",
      "\n",
      "Loading Data: 100%|██████████| 10/10 [00:00<00:00, 858.01it/s]\n",
      "Predicting: step(6): 0.75 across 7 samples, Max potential: 0.825:  70%|███████   | 7/10 [00:15<00:06,  2.15s/it]   \n"
     ]
    },
    {
     "name": "stdout",
     "output_type": "stream",
     "text": [
      "Optimizer revert: 0.7270833333333333 <= 0.7966666666666666\n"
     ]
    },
    {
     "name": "stderr",
     "output_type": "stream",
     "text": [
      "\n",
      "Proposing:  20%|██        | 1/5 [00:24<01:37, 24.36s/it]"
     ]
    },
    {
     "name": "stdout",
     "output_type": "stream",
     "text": [
      "Proposal: 2\n",
      "2025-07-20 22:50:23 - [trainer.py:2204:_text_grad_constraint_propose_step] - Propose time: 2.2032346725463867\n",
      "New prompts:  [PromptData(id='62aa09d0-a09f-478c-8e2d-72695b0d3f26', name='llm.task_desc_str', data=\"To properly transfer your 401(k) funds after your business closes, contact your current plan administrator to request a rollover. Verify the procedures for executing a direct transfer into an IRA or a new employer's 401(k) plan. Complete any required paperwork, specify the receiving account details, and ensure the transfer is done directly between plan providers to avoid taxes or penalties. Keep records of the transaction for tax reporting and future reference.\", requires_opt=True)]\n"
     ]
    },
    {
     "name": "stderr",
     "output_type": "stream",
     "text": [
      "\n",
      "\n",
      "Loading Data: 100%|██████████| 4/4 [00:00<00:00, 215.82it/s]\n",
      "Predicting: step(6): 0.6042 across 4 samples, Max potential: 0.6042: 100%|██████████| 4/4 [00:09<00:00,  2.33s/it]\n"
     ]
    },
    {
     "name": "stdout",
     "output_type": "stream",
     "text": [
      "2025-07-20 22:50:32 - [trainer.py:2224:_text_grad_constraint_propose_step] - Pass minibatch check:True, 0.6041666666666666 > 0.5916666666666667\n"
     ]
    },
    {
     "name": "stderr",
     "output_type": "stream",
     "text": [
      "\n",
      "\n",
      "Loading Data: 100%|██████████| 10/10 [00:00<00:00, 562.03it/s]\n",
      "Predicting: step(6): 0.7452 across 7 samples, Max potential: 0.8217:  70%|███████   | 7/10 [00:14<00:06,  2.12s/it]\n"
     ]
    },
    {
     "name": "stdout",
     "output_type": "stream",
     "text": [
      "Optimizer revert: 0.7416666666666667 <= 0.7966666666666666\n"
     ]
    },
    {
     "name": "stderr",
     "output_type": "stream",
     "text": [
      "\n",
      "Proposing:  40%|████      | 2/5 [00:51<01:17, 25.81s/it]"
     ]
    },
    {
     "name": "stdout",
     "output_type": "stream",
     "text": [
      "Proposal: 3\n",
      "2025-07-20 22:50:50 - [trainer.py:2204:_text_grad_constraint_propose_step] - Propose time: 2.064969301223755\n",
      "New prompts:  [PromptData(id='62aa09d0-a09f-478c-8e2d-72695b0d3f26', name='llm.task_desc_str', data=\"After a business closure, you should contact your 401(k) plan administrator to request a direct rollover or transfer of your funds into an IRA or a new employer's 401(k) plan. Ensure you follow the plan's specific procedures, complete all required paperwork, and coordinate the transfer directly to avoid taxes or penalties. Keep records of the transaction for your tax records and future reference.\", requires_opt=True)]\n"
     ]
    },
    {
     "name": "stderr",
     "output_type": "stream",
     "text": [
      "\n",
      "\n",
      "Loading Data: 100%|██████████| 4/4 [00:00<00:00, 166.72it/s]\n",
      "Predicting: step(6): 0.5792 across 4 samples, Max potential: 0.5792: 100%|██████████| 4/4 [00:06<00:00,  1.64s/it]\n"
     ]
    },
    {
     "name": "stdout",
     "output_type": "stream",
     "text": [
      "2025-07-20 22:50:56 - [trainer.py:2230:_text_grad_constraint_propose_step] - Fail minibatch check, try next proposal: True, 0.5791666666666666 <= 0.5916666666666667\n"
     ]
    },
    {
     "name": "stderr",
     "output_type": "stream",
     "text": [
      "\n",
      "Proposing:  60%|██████    | 3/5 [01:00<00:36, 18.17s/it]"
     ]
    },
    {
     "name": "stdout",
     "output_type": "stream",
     "text": [
      "Proposal: 4\n",
      "2025-07-20 22:50:59 - [trainer.py:2204:_text_grad_constraint_propose_step] - Propose time: 2.7196154594421387\n",
      "New prompts:  [PromptData(id='62aa09d0-a09f-478c-8e2d-72695b0d3f26', name='llm.task_desc_str', data='Yes, it is possible to have one EIN doing business under multiple business names. This can be achieved by filing a \"Doing Business As\" (DBA) document with your local government and having the bank verify the DBA. The DBA registration allows you to operate under different trade names using the same EIN, with a processing fee involved.', requires_opt=True)]\n"
     ]
    },
    {
     "name": "stderr",
     "output_type": "stream",
     "text": [
      "\n",
      "\n",
      "Loading Data: 100%|██████████| 4/4 [00:00<00:00, 443.81it/s]\n",
      "Predicting: step(6): 0.6417 across 4 samples, Max potential: 0.6417: 100%|██████████| 4/4 [00:07<00:00,  1.81s/it]\n"
     ]
    },
    {
     "name": "stdout",
     "output_type": "stream",
     "text": [
      "2025-07-20 22:51:07 - [trainer.py:2224:_text_grad_constraint_propose_step] - Pass minibatch check:True, 0.6416666666666666 > 0.5916666666666667\n"
     ]
    },
    {
     "name": "stderr",
     "output_type": "stream",
     "text": [
      "\n",
      "\n",
      "Loading Data: 100%|██████████| 10/10 [00:00<00:00, 612.17it/s]\n",
      "Predicting: step(6): 0.7667 across 7 samples, Max potential: 0.8367:  70%|███████   | 7/10 [00:15<00:06,  2.23s/it]\n"
     ]
    },
    {
     "name": "stdout",
     "output_type": "stream",
     "text": [
      "Optimizer revert: 0.7416666666666666 <= 0.7966666666666666\n"
     ]
    },
    {
     "name": "stderr",
     "output_type": "stream",
     "text": [
      "\n",
      "Proposing:  80%|████████  | 4/5 [01:26<00:21, 21.28s/it]"
     ]
    },
    {
     "name": "stdout",
     "output_type": "stream",
     "text": [
      "Proposal: 5\n",
      "2025-07-20 22:51:25 - [trainer.py:2204:_text_grad_constraint_propose_step] - Propose time: 2.184293508529663\n",
      "New prompts:  [PromptData(id='62aa09d0-a09f-478c-8e2d-72695b0d3f26', name='llm.task_desc_str', data=\"After a business closure, you should contact your 401(k) plan administrator to request a rollover or transfer of your funds into an IRA or a new employer's 401(k) plan. This ensures your retirement savings remain protected and accessible, and it allows you to continue managing your investments without interruption. Make sure to follow the plan's procedures for rollovers, coordinate the transfer directly to avoid taxes or penalties, and keep records of the transaction for your tax filings.\", requires_opt=True)]\n"
     ]
    },
    {
     "name": "stderr",
     "output_type": "stream",
     "text": [
      "\n",
      "\n",
      "Loading Data: 100%|██████████| 4/4 [00:00<00:00, 198.95it/s]\n",
      "Predicting: step(6): 0.5917 across 4 samples, Max potential: 0.5917: 100%|██████████| 4/4 [00:05<00:00,  1.46s/it]\n"
     ]
    },
    {
     "name": "stdout",
     "output_type": "stream",
     "text": [
      "2025-07-20 22:51:31 - [trainer.py:2230:_text_grad_constraint_propose_step] - Fail minibatch check, try next proposal: True, 0.5916666666666666 <= 0.5916666666666667\n"
     ]
    },
    {
     "name": "stderr",
     "output_type": "stream",
     "text": [
      "\n",
      "Proposing: 100%|██████████| 5/5 [01:34<00:00, 18.96s/it]\n"
     ]
    },
    {
     "name": "stdout",
     "output_type": "stream",
     "text": [
      "No proposal can improve the subset and full set, and val set\n",
      "Saving checkpoint to C:\\Users\\wuhan\\AppData\\Roaming\\adalflow\\ckpt\\HotPotQAAdal\\constrained_max_steps_12_b70f9_run_1.json\n",
      "Done with proposals\n"
     ]
    },
    {
     "name": "stderr",
     "output_type": "stream",
     "text": [
      "Training Step: 6: 100%|██████████| 3/3 [04:53<00:00, 97.72s/it]\n",
      "Epoch:  40%|████      | 2/5 [07:59<12:27, 249.29s/it]"
     ]
    },
    {
     "name": "stdout",
     "output_type": "stream",
     "text": [
      "Epoch: 2\n"
     ]
    },
    {
     "name": "stderr",
     "output_type": "stream",
     "text": [
      "Training Step: 7:   0%|          | 0/3 [00:00<?, ?it/s]\n",
      "Loading Data: 100%|██████████| 4/4 [00:00<00:00, 183.59it/s]\n",
      "Training: 100%|██████████| 4/4 [00:00<00:00, 101.15it/s]\n",
      "\n",
      "Loading Data: 100%|██████████| 4/4 [00:00<00:00, 499.32it/s]\n",
      "Calculating Loss: 100%|██████████| 4/4 [00:00<00:00, 175.98it/s]\n",
      "Evaluating: 100%|██████████| 20/20 [00:00<00:00, 184.74it/s]\n"
     ]
    },
    {
     "name": "stdout",
     "output_type": "stream",
     "text": [
      "Moving batch eval: EvaluationResult(avg_score=0.6666666666666666, per_item_scores=[0.7166666666666668, 0.4666666666666667, 0.7666666666666666, 0.5166666666666667, 0.7666666666666666, 0.7666666666666666, 0.7166666666666668, 0.4666666666666667, 0.6666666666666667, 0.41666666666666663, 0.7666666666666666, 0.7666666666666666, 0.7666666666666666, 0.5166666666666667, 0.7666666666666666, 0.7666666666666666, 0.7666666666666666, 0.7666666666666666, 0.4666666666666667, 0.7166666666666668], additional_info=None)\n",
      "2025-07-20 22:51:31 - [trainer.py:2172:_text_grad_constraint_propose_step] - Moving batch acc: 0.6666666666666666\n",
      "Moving batch correct size: 16\n",
      "Moving batch error size: 4\n",
      "Subset Error size: 2\n",
      "Subset Correct size: 2\n",
      "Subset score: 0.5541666666666667\n",
      "2025-07-20 22:51:32 - [trainer.py:2178:_text_grad_constraint_propose_step] - Subset batch acc: 0.5541666666666667,0.5541666666666667\n",
      "Subset loss backward...\n",
      "Subset loss backward time: 10.139115571975708\n",
      "Optimizer propose...\n"
     ]
    },
    {
     "name": "stderr",
     "output_type": "stream",
     "text": [
      "\n",
      "Proposing:   0%|          | 0/5 [00:00<?, ?it/s]"
     ]
    },
    {
     "name": "stdout",
     "output_type": "stream",
     "text": [
      "Proposal: 1\n",
      "2025-07-20 22:51:44 - [trainer.py:2204:_text_grad_constraint_propose_step] - Propose time: 1.7876391410827637\n",
      "New prompts:  [PromptData(id='62aa09d0-a09f-478c-8e2d-72695b0d3f26', name='llm.task_desc_str', data='Have the cheque reissued to the proper payee, such as the business name, and then deposit it into your business account.', requires_opt=True)]\n"
     ]
    },
    {
     "name": "stderr",
     "output_type": "stream",
     "text": [
      "\n",
      "\n",
      "Loading Data: 100%|██████████| 4/4 [00:00<00:00, 536.91it/s]\n",
      "Predicting: step(7): 0.5542 across 4 samples, Max potential: 0.5542: 100%|██████████| 4/4 [00:00<00:00, 81.81it/s]\n"
     ]
    },
    {
     "name": "stdout",
     "output_type": "stream",
     "text": [
      "2025-07-20 22:51:44 - [trainer.py:2230:_text_grad_constraint_propose_step] - Fail minibatch check, try next proposal: True, 0.5541666666666667 <= 0.5541666666666667\n"
     ]
    },
    {
     "name": "stderr",
     "output_type": "stream",
     "text": [
      "\n",
      "Proposing:  20%|██        | 1/5 [00:02<00:08,  2.10s/it]"
     ]
    },
    {
     "name": "stdout",
     "output_type": "stream",
     "text": [
      "Proposal: 2\n",
      "2025-07-20 22:51:46 - [trainer.py:2204:_text_grad_constraint_propose_step] - Propose time: 1.7330827713012695\n",
      "New prompts:  [PromptData(id='62aa09d0-a09f-478c-8e2d-72695b0d3f26', name='llm.task_desc_str', data='The check should be reissued to the proper payee, such as the business name. Have the associate sign the back of the check if it is already payable to them, or request that the issuer reissue the check directly to the business name to ensure it can be deposited without issues.', requires_opt=True)]\n"
     ]
    },
    {
     "name": "stderr",
     "output_type": "stream",
     "text": [
      "\n",
      "\n",
      "Loading Data: 100%|██████████| 4/4 [00:00<00:00, 486.96it/s]\n",
      "Predicting: step(7): 0.5042 across 4 samples, Max potential: 0.5042: 100%|██████████| 4/4 [00:08<00:00,  2.16s/it]\n"
     ]
    },
    {
     "name": "stdout",
     "output_type": "stream",
     "text": [
      "2025-07-20 22:51:55 - [trainer.py:2230:_text_grad_constraint_propose_step] - Fail minibatch check, try next proposal: True, 0.5041666666666667 <= 0.5541666666666667\n"
     ]
    },
    {
     "name": "stderr",
     "output_type": "stream",
     "text": [
      "\n",
      "Proposing:  40%|████      | 2/5 [00:12<00:21,  7.15s/it]"
     ]
    },
    {
     "name": "stdout",
     "output_type": "stream",
     "text": [
      "Proposal: 3\n",
      "2025-07-20 22:51:57 - [trainer.py:2204:_text_grad_constraint_propose_step] - Propose time: 1.8008553981781006\n",
      "New prompts:  [PromptData(id='62aa09d0-a09f-478c-8e2d-72695b0d3f26', name='llm.task_desc_str', data='The check should be reissued to the proper payee, such as the business name. Have the associate endorse the cheque to the business or request a new cheque made payable to the business. Once properly made out to the business, endorse it in the name of the business if necessary, and deposit into your business account.', requires_opt=True)]\n"
     ]
    },
    {
     "name": "stderr",
     "output_type": "stream",
     "text": [
      "\n",
      "\n",
      "Loading Data: 100%|██████████| 4/4 [00:00<00:00, 523.26it/s]\n",
      "Predicting: step(7): 0.5417 across 4 samples, Max potential: 0.5417: 100%|██████████| 4/4 [00:07<00:00,  1.96s/it]\n"
     ]
    },
    {
     "name": "stdout",
     "output_type": "stream",
     "text": [
      "2025-07-20 22:52:05 - [trainer.py:2230:_text_grad_constraint_propose_step] - Fail minibatch check, try next proposal: True, 0.5416666666666666 <= 0.5541666666666667\n"
     ]
    },
    {
     "name": "stderr",
     "output_type": "stream",
     "text": [
      "\n",
      "Proposing:  60%|██████    | 3/5 [00:22<00:16,  8.44s/it]"
     ]
    },
    {
     "name": "stdout",
     "output_type": "stream",
     "text": [
      "Proposal: 4\n",
      "2025-07-20 22:52:07 - [trainer.py:2204:_text_grad_constraint_propose_step] - Propose time: 1.8664019107818604\n",
      "New prompts:  [PromptData(id='62aa09d0-a09f-478c-8e2d-72695b0d3f26', name='llm.task_desc_str', data='The check should be reissued to the proper payee, such as the business name. The associate should endorse the cheque to the business or request a new cheque made out to the business name. After that, deposit the reissued cheque into the business account, ensuring it is payable to the business to avoid deposit issues.', requires_opt=True)]\n"
     ]
    },
    {
     "name": "stderr",
     "output_type": "stream",
     "text": [
      "\n",
      "\n",
      "Loading Data: 100%|██████████| 4/4 [00:00<00:00, 440.24it/s]\n",
      "Predicting: step(7): 0.5292 across 4 samples, Max potential: 0.5292: 100%|██████████| 4/4 [00:05<00:00,  1.45s/it]\n"
     ]
    },
    {
     "name": "stdout",
     "output_type": "stream",
     "text": [
      "2025-07-20 22:52:13 - [trainer.py:2230:_text_grad_constraint_propose_step] - Fail minibatch check, try next proposal: True, 0.5291666666666667 <= 0.5541666666666667\n"
     ]
    },
    {
     "name": "stderr",
     "output_type": "stream",
     "text": [
      "\n",
      "Proposing:  80%|████████  | 4/5 [00:30<00:08,  8.25s/it]"
     ]
    },
    {
     "name": "stdout",
     "output_type": "stream",
     "text": [
      "Proposal: 5\n",
      "2025-07-20 22:52:14 - [trainer.py:2204:_text_grad_constraint_propose_step] - Propose time: 1.5842986106872559\n",
      "New prompts:  [PromptData(id='62aa09d0-a09f-478c-8e2d-72695b0d3f26', name='llm.task_desc_str', data='The check should be reissued to the proper payee, such as the business name. Have the associate endorse the cheque to the business or request a new cheque made payable to the business name. Deposit the properly reissued cheque into your business account, ensuring it is payable to the business to avoid deposit issues.', requires_opt=True)]\n"
     ]
    },
    {
     "name": "stderr",
     "output_type": "stream",
     "text": [
      "\n",
      "\n",
      "Loading Data: 100%|██████████| 4/4 [00:00<00:00, 484.09it/s]\n",
      "Predicting: step(7): 0.5167 across 4 samples, Max potential: 0.5167: 100%|██████████| 4/4 [00:06<00:00,  1.70s/it]\n"
     ]
    },
    {
     "name": "stdout",
     "output_type": "stream",
     "text": [
      "2025-07-20 22:52:21 - [trainer.py:2230:_text_grad_constraint_propose_step] - Fail minibatch check, try next proposal: True, 0.5166666666666667 <= 0.5541666666666667\n"
     ]
    },
    {
     "name": "stderr",
     "output_type": "stream",
     "text": [
      "\n",
      "Proposing: 100%|██████████| 5/5 [00:39<00:00,  7.90s/it]\n"
     ]
    },
    {
     "name": "stdout",
     "output_type": "stream",
     "text": [
      "No proposal can improve the subset and full set, and val set\n",
      "Saving checkpoint to C:\\Users\\wuhan\\AppData\\Roaming\\adalflow\\ckpt\\HotPotQAAdal\\constrained_max_steps_12_b70f9_run_1.json\n",
      "Done with proposals\n"
     ]
    },
    {
     "name": "stderr",
     "output_type": "stream",
     "text": [
      "Training Step: 8:  33%|███▎      | 1/3 [00:50<01:40, 50.42s/it]\n",
      "Loading Data: 100%|██████████| 4/4 [00:00<00:00, 191.76it/s]\n",
      "Training: 100%|██████████| 4/4 [00:00<00:00, 128.18it/s]\n",
      "\n",
      "Loading Data: 100%|██████████| 4/4 [00:00<00:00, 518.28it/s]\n",
      "Calculating Loss: 100%|██████████| 4/4 [00:00<00:00, 170.82it/s]\n",
      "Evaluating: 100%|██████████| 24/24 [00:00<00:00, 179.00it/s]\n"
     ]
    },
    {
     "name": "stdout",
     "output_type": "stream",
     "text": [
      "Moving batch eval: EvaluationResult(avg_score=0.6687500000000001, per_item_scores=[0.7166666666666668, 0.4666666666666667, 0.7666666666666666, 0.5166666666666667, 0.7666666666666666, 0.7666666666666666, 0.7166666666666668, 0.4666666666666667, 0.6666666666666667, 0.41666666666666663, 0.7666666666666666, 0.7666666666666666, 0.7666666666666666, 0.5166666666666667, 0.7666666666666666, 0.7666666666666666, 0.7666666666666666, 0.7666666666666666, 0.4666666666666667, 0.7166666666666668, 0.7666666666666666, 0.6666666666666667, 0.7666666666666666, 0.5166666666666667], additional_info=None)\n",
      "2025-07-20 22:52:22 - [trainer.py:2172:_text_grad_constraint_propose_step] - Moving batch acc: 0.6541666666666667\n",
      "Moving batch correct size: 16\n",
      "Moving batch error size: 4\n",
      "Subset Error size: 2\n",
      "Subset Correct size: 2\n",
      "Subset score: 0.6166666666666667\n",
      "2025-07-20 22:52:22 - [trainer.py:2178:_text_grad_constraint_propose_step] - Subset batch acc: 0.6166666666666667,0.6166666666666667\n",
      "Subset loss backward...\n",
      "Subset loss backward time: 10.688668251037598\n",
      "Optimizer propose...\n"
     ]
    },
    {
     "name": "stderr",
     "output_type": "stream",
     "text": [
      "\n",
      "Proposing:   0%|          | 0/5 [00:00<?, ?it/s]"
     ]
    },
    {
     "name": "stdout",
     "output_type": "stream",
     "text": [
      "Proposal: 1\n",
      "2025-07-20 22:52:35 - [trainer.py:2204:_text_grad_constraint_propose_step] - Propose time: 1.698241949081421\n",
      "New prompts:  [PromptData(id='62aa09d0-a09f-478c-8e2d-72695b0d3f26', name='llm.task_desc_str', data='To deposit a check made out to your business, it is best to endorse it with your signature and deposit it into your dedicated business account. Avoid depositing business checks into your personal account to ensure proper record-keeping and compliance. If unsure, consult your bank about their policies regarding business checks and personal accounts.', requires_opt=True)]\n"
     ]
    },
    {
     "name": "stderr",
     "output_type": "stream",
     "text": [
      "\n",
      "\n",
      "Loading Data: 100%|██████████| 4/4 [00:00<00:00, 496.75it/s]\n",
      "Predicting: step(8): 0.6542 across 4 samples, Max potential: 0.6542: 100%|██████████| 4/4 [00:07<00:00,  1.80s/it]\n"
     ]
    },
    {
     "name": "stdout",
     "output_type": "stream",
     "text": [
      "2025-07-20 22:52:42 - [trainer.py:2224:_text_grad_constraint_propose_step] - Pass minibatch check:True, 0.6541666666666667 > 0.6166666666666667\n"
     ]
    },
    {
     "name": "stderr",
     "output_type": "stream",
     "text": [
      "\n",
      "\n",
      "Loading Data: 100%|██████████| 10/10 [00:00<00:00, 1248.60it/s]\n",
      "Predicting: step(8): 0.7521 across 8 samples, Max potential: 0.8017:  80%|████████  | 8/10 [00:13<00:03,  1.74s/it]\n"
     ]
    },
    {
     "name": "stdout",
     "output_type": "stream",
     "text": [
      "Optimizer revert: 0.7648148148148147 <= 0.7966666666666666\n"
     ]
    },
    {
     "name": "stderr",
     "output_type": "stream",
     "text": [
      "\n",
      "Proposing:  20%|██        | 1/5 [00:23<01:32, 23.24s/it]"
     ]
    },
    {
     "name": "stdout",
     "output_type": "stream",
     "text": [
      "Proposal: 2\n",
      "2025-07-20 22:52:58 - [trainer.py:2204:_text_grad_constraint_propose_step] - Propose time: 2.091557741165161\n",
      "New prompts:  [PromptData(id='62aa09d0-a09f-478c-8e2d-72695b0d3f26', name='llm.task_desc_str', data='To deposit a check made out to your business, you should endorse it with your signature and deposit it into a dedicated business account. It is strongly recommended to keep business and personal funds separate to ensure proper record-keeping and legal compliance. If unsure, consult with your bank about depositing business checks into your business account.', requires_opt=True)]\n"
     ]
    },
    {
     "name": "stderr",
     "output_type": "stream",
     "text": [
      "\n",
      "\n",
      "Loading Data: 100%|██████████| 4/4 [00:00<00:00, 531.31it/s]\n",
      "Predicting: step(8): 0.5917 across 4 samples, Max potential: 0.5917: 100%|██████████| 4/4 [00:07<00:00,  1.75s/it]\n"
     ]
    },
    {
     "name": "stdout",
     "output_type": "stream",
     "text": [
      "2025-07-20 22:53:06 - [trainer.py:2230:_text_grad_constraint_propose_step] - Fail minibatch check, try next proposal: True, 0.5916666666666667 <= 0.6166666666666667\n"
     ]
    },
    {
     "name": "stderr",
     "output_type": "stream",
     "text": [
      "\n",
      "Proposing:  40%|████      | 2/5 [00:32<00:45, 15.17s/it]"
     ]
    },
    {
     "name": "stdout",
     "output_type": "stream",
     "text": [
      "Proposal: 3\n",
      "2025-07-20 22:53:08 - [trainer.py:2204:_text_grad_constraint_propose_step] - Propose time: 2.2020716667175293\n",
      "New prompts:  [PromptData(id='62aa09d0-a09f-478c-8e2d-72695b0d3f26', name='llm.task_desc_str', data='To deposit a check made out to your business, you should endorse it with your signature and the business name if allowed, then deposit it into your dedicated business account. It is highly recommended to maintain a separate business account for proper record-keeping and legal compliance, avoiding mixing personal and business funds. Always verify with your bank if depositing business checks into personal accounts is permitted in your situation.', requires_opt=True)]\n"
     ]
    },
    {
     "name": "stderr",
     "output_type": "stream",
     "text": [
      "\n",
      "\n",
      "Loading Data: 100%|██████████| 4/4 [00:00<00:00, 496.50it/s]\n",
      "Predicting: step(8): 0.6667 across 4 samples, Max potential: 0.6667: 100%|██████████| 4/4 [00:07<00:00,  1.88s/it]\n"
     ]
    },
    {
     "name": "stdout",
     "output_type": "stream",
     "text": [
      "2025-07-20 22:53:16 - [trainer.py:2224:_text_grad_constraint_propose_step] - Pass minibatch check:True, 0.6666666666666667 > 0.6166666666666667\n"
     ]
    },
    {
     "name": "stderr",
     "output_type": "stream",
     "text": [
      "\n",
      "\n",
      "Loading Data: 100%|██████████| 10/10 [00:00<00:00, 1163.53it/s]\n",
      "Predicting: step(8): 0.75 across 8 samples, Max potential: 0.8:  80%|████████  | 8/10 [00:17<00:04,  2.23s/it]     \n"
     ]
    },
    {
     "name": "stdout",
     "output_type": "stream",
     "text": [
      "Optimizer revert: 0.7518518518518519 <= 0.7966666666666666\n"
     ]
    },
    {
     "name": "stderr",
     "output_type": "stream",
     "text": [
      "\n",
      "Proposing:  60%|██████    | 3/5 [01:00<00:42, 21.01s/it]"
     ]
    },
    {
     "name": "stdout",
     "output_type": "stream",
     "text": [
      "Proposal: 4\n",
      "2025-07-20 22:53:36 - [trainer.py:2204:_text_grad_constraint_propose_step] - Propose time: 1.9783806800842285\n",
      "New prompts:  [PromptData(id='62aa09d0-a09f-478c-8e2d-72695b0d3f26', name='llm.task_desc_str', data='To deposit a check made out to your business, it is best to endorse it with the business name and deposit it into a dedicated business account. This ensures proper handling, record-keeping, and legal compliance. Avoid depositing business checks into personal accounts to prevent accounting and legal issues.', requires_opt=True)]\n"
     ]
    },
    {
     "name": "stderr",
     "output_type": "stream",
     "text": [
      "\n",
      "\n",
      "Loading Data: 100%|██████████| 4/4 [00:00<00:00, 164.19it/s]\n",
      "Predicting: step(8): 0.6542 across 4 samples, Max potential: 0.6542: 100%|██████████| 4/4 [00:08<00:00,  2.08s/it]\n"
     ]
    },
    {
     "name": "stdout",
     "output_type": "stream",
     "text": [
      "2025-07-20 22:53:44 - [trainer.py:2224:_text_grad_constraint_propose_step] - Pass minibatch check:True, 0.6541666666666667 > 0.6166666666666667\n"
     ]
    },
    {
     "name": "stderr",
     "output_type": "stream",
     "text": [
      "\n",
      "\n",
      "Loading Data: 100%|██████████| 10/10 [00:00<00:00, 494.70it/s]\n",
      "Predicting: step(8): 0.7708 across 8 samples, Max potential: 0.8167:  80%|████████  | 8/10 [00:16<00:04,  2.09s/it]\n"
     ]
    },
    {
     "name": "stdout",
     "output_type": "stream",
     "text": [
      "Optimizer revert: 0.7703703703703703 <= 0.7966666666666666\n"
     ]
    },
    {
     "name": "stderr",
     "output_type": "stream",
     "text": [
      "\n",
      "Proposing:  80%|████████  | 4/5 [01:28<00:23, 23.63s/it]"
     ]
    },
    {
     "name": "stdout",
     "output_type": "stream",
     "text": [
      "Proposal: 5\n",
      "2025-07-20 22:54:04 - [trainer.py:2204:_text_grad_constraint_propose_step] - Propose time: 2.095945119857788\n",
      "New prompts:  [PromptData(id='62aa09d0-a09f-478c-8e2d-72695b0d3f26', name='llm.task_desc_str', data='The best way to deposit a check made out to your business is to endorse it with the business name and deposit it into your dedicated business account. You should avoid depositing business checks into personal accounts to prevent accounting and legal issues. If unsure, consult your bank for their policies on business check deposits.', requires_opt=True)]\n"
     ]
    },
    {
     "name": "stderr",
     "output_type": "stream",
     "text": [
      "\n",
      "\n",
      "Loading Data: 100%|██████████| 4/4 [00:00<00:00, 243.57it/s]\n",
      "Predicting: step(8): 0.6292 across 4 samples, Max potential: 0.6292: 100%|██████████| 4/4 [00:07<00:00,  1.99s/it]\n"
     ]
    },
    {
     "name": "stdout",
     "output_type": "stream",
     "text": [
      "2025-07-20 22:54:12 - [trainer.py:2224:_text_grad_constraint_propose_step] - Pass minibatch check:True, 0.6291666666666667 > 0.6166666666666667\n"
     ]
    },
    {
     "name": "stderr",
     "output_type": "stream",
     "text": [
      "\n",
      "\n",
      "Loading Data: 100%|██████████| 10/10 [00:00<00:00, 536.83it/s]\n",
      "Predicting: step(8): 0.7458 across 8 samples, Max potential: 0.7967:  80%|████████  | 8/10 [00:15<00:03,  1.97s/it]\n"
     ]
    },
    {
     "name": "stdout",
     "output_type": "stream",
     "text": [
      "Optimizer revert: 0.7314814814814815 <= 0.7966666666666666\n"
     ]
    },
    {
     "name": "stderr",
     "output_type": "stream",
     "text": [
      "\n",
      "Proposing: 100%|██████████| 5/5 [01:54<00:00, 22.94s/it]\n"
     ]
    },
    {
     "name": "stdout",
     "output_type": "stream",
     "text": [
      "No proposal can improve the subset and full set, and val set\n",
      "Saving checkpoint to C:\\Users\\wuhan\\AppData\\Roaming\\adalflow\\ckpt\\HotPotQAAdal\\constrained_max_steps_12_b70f9_run_1.json\n",
      "Done with proposals\n"
     ]
    },
    {
     "name": "stderr",
     "output_type": "stream",
     "text": [
      "Training Step: 9:  67%|██████▋   | 2/3 [02:56<01:34, 95.00s/it]\n",
      "Loading Data: 100%|██████████| 2/2 [00:00<00:00, 226.00it/s]\n",
      "Training: 100%|██████████| 2/2 [00:00<00:00, 59.40it/s]\n",
      "\n",
      "Loading Data: 100%|██████████| 2/2 [00:00<00:00, 555.35it/s]\n",
      "Calculating Loss: 100%|██████████| 2/2 [00:00<00:00, 304.24it/s]\n",
      "Evaluating: 100%|██████████| 22/22 [00:00<00:00, 137.92it/s]\n"
     ]
    },
    {
     "name": "stdout",
     "output_type": "stream",
     "text": [
      "Moving batch eval: EvaluationResult(avg_score=0.6484848484848484, per_item_scores=[0.4666666666666667, 0.4666666666666667, 0.41666666666666663, 0.4666666666666667, 0.7666666666666666, 0.5166666666666667, 0.7666666666666666, 0.6666666666666667, 0.7666666666666666, 0.5166666666666667, 0.7666666666666666, 0.7666666666666666, 0.6666666666666667, 0.7666666666666666, 0.7666666666666666, 0.7666666666666666, 0.7666666666666666, 0.5166666666666667, 0.7666666666666666, 0.7166666666666668, 0.41666666666666663, 0.7666666666666666], additional_info=None)\n",
      "2025-07-20 22:54:28 - [trainer.py:2172:_text_grad_constraint_propose_step] - Moving batch acc: 0.6366666666666668\n",
      "Moving batch correct size: 15\n",
      "Moving batch error size: 5\n",
      "Subset Error size: 2\n",
      "Subset Correct size: 2\n",
      "Subset score: 0.6166666666666667\n",
      "2025-07-20 22:54:28 - [trainer.py:2178:_text_grad_constraint_propose_step] - Subset batch acc: 0.6166666666666667,0.6166666666666667\n",
      "Subset loss backward...\n",
      "Subset loss backward time: 9.714799880981445\n",
      "Optimizer propose...\n"
     ]
    },
    {
     "name": "stderr",
     "output_type": "stream",
     "text": [
      "\n",
      "Proposing:   0%|          | 0/5 [00:00<?, ?it/s]"
     ]
    },
    {
     "name": "stdout",
     "output_type": "stream",
     "text": [
      "Proposal: 1\n",
      "2025-07-20 22:54:40 - [trainer.py:2204:_text_grad_constraint_propose_step] - Propose time: 2.3111531734466553\n",
      "New prompts:  [PromptData(id='62aa09d0-a09f-478c-8e2d-72695b0d3f26', name='llm.task_desc_str', data='Filing as a 1099 contractor involves reporting income directly on your personal tax return and paying self-employment taxes, with limited legal protections and fewer deductions. Operating as an S-corp requires filing a separate corporate tax return (Form 1120S), paying yourself a salary, potentially reducing self-employment taxes, and providing liability protection and more avenues for deducting business expenses. The choice depends on your income level, expenses, and risk tolerance, but generally, an S-corp offers tax and legal advantages over sole proprietorship with 1099 income.', requires_opt=True)]\n"
     ]
    },
    {
     "name": "stderr",
     "output_type": "stream",
     "text": [
      "\n",
      "\n",
      "Loading Data: 100%|██████████| 4/4 [00:00<00:00, 482.23it/s]\n",
      "Predicting: step(9): 0.6042 across 4 samples, Max potential: 0.6042: 100%|██████████| 4/4 [00:06<00:00,  1.50s/it]\n"
     ]
    },
    {
     "name": "stdout",
     "output_type": "stream",
     "text": [
      "2025-07-20 22:54:47 - [trainer.py:2230:_text_grad_constraint_propose_step] - Fail minibatch check, try next proposal: True, 0.6041666666666666 <= 0.6166666666666667\n"
     ]
    },
    {
     "name": "stderr",
     "output_type": "stream",
     "text": [
      "\n",
      "Proposing:  20%|██        | 1/5 [00:08<00:34,  8.60s/it]"
     ]
    },
    {
     "name": "stdout",
     "output_type": "stream",
     "text": [
      "Proposal: 2\n",
      "2025-07-20 22:54:49 - [trainer.py:2204:_text_grad_constraint_propose_step] - Propose time: 2.1428494453430176\n",
      "New prompts:  [PromptData(id='62aa09d0-a09f-478c-8e2d-72695b0d3f26', name='llm.task_desc_str', data='Filing personal taxes with 1099 income involves reporting income directly on your individual return and paying self-employment taxes quarterly, with limited legal protections and fewer deductible expenses. Operating as an S-corp means your business income is reported on a separate corporate return (Form 1120S), allowing you to pay yourself a salary, potentially reduce self-employment taxes, and benefit from liability protection and more deductions. The choice depends on your expenses, liability concerns, and income level, but generally, an S-corp offers advantages in tax planning and legal protection over sole proprietorship or 1099 filing alone.', requires_opt=True)]\n"
     ]
    },
    {
     "name": "stderr",
     "output_type": "stream",
     "text": [
      "\n",
      "\n",
      "Loading Data: 100%|██████████| 4/4 [00:00<00:00, 413.51it/s]\n",
      "Predicting: step(9): 0.6167 across 4 samples, Max potential: 0.6167: 100%|██████████| 4/4 [00:06<00:00,  1.67s/it]\n"
     ]
    },
    {
     "name": "stdout",
     "output_type": "stream",
     "text": [
      "2025-07-20 22:54:56 - [trainer.py:2230:_text_grad_constraint_propose_step] - Fail minibatch check, try next proposal: True, 0.6166666666666666 <= 0.6166666666666667\n"
     ]
    },
    {
     "name": "stderr",
     "output_type": "stream",
     "text": [
      "\n",
      "Proposing:  40%|████      | 2/5 [00:17<00:26,  8.92s/it]"
     ]
    },
    {
     "name": "stdout",
     "output_type": "stream",
     "text": [
      "Proposal: 3\n",
      "2025-07-20 22:54:59 - [trainer.py:2204:_text_grad_constraint_propose_step] - Propose time: 2.5656023025512695\n",
      "New prompts:  [PromptData(id='62aa09d0-a09f-478c-8e2d-72695b0d3f26', name='llm.task_desc_str', data='Filing personal taxes with 1099 income involves reporting income directly on your individual return and paying self-employment taxes quarterly, with limited legal protections and fewer deductible expenses. Operating as an S-corp means your business income is reported on a separate corporate return (Form 1120S), allowing you to pay yourself a salary and potentially reduce self-employment taxes, while also providing liability protection and the ability to deduct business expenses more effectively. The decision depends on your specific situation, expenses, and risk considerations, but generally, an S-corp offers advantages in tax planning and legal protection over sole proprietorship or 1099 filing alone.', requires_opt=True)]\n"
     ]
    },
    {
     "name": "stderr",
     "output_type": "stream",
     "text": [
      "\n",
      "\n",
      "Loading Data: 100%|██████████| 4/4 [00:00<00:00, 561.77it/s]\n",
      "Predicting: step(9): 0.6042 across 4 samples, Max potential: 0.6042: 100%|██████████| 4/4 [00:06<00:00,  1.55s/it]\n"
     ]
    },
    {
     "name": "stdout",
     "output_type": "stream",
     "text": [
      "2025-07-20 22:55:05 - [trainer.py:2230:_text_grad_constraint_propose_step] - Fail minibatch check, try next proposal: True, 0.6041666666666667 <= 0.6166666666666667\n"
     ]
    },
    {
     "name": "stderr",
     "output_type": "stream",
     "text": [
      "\n",
      "Proposing:  60%|██████    | 3/5 [00:26<00:18,  9.01s/it]"
     ]
    },
    {
     "name": "stdout",
     "output_type": "stream",
     "text": [
      "Proposal: 4\n",
      "2025-07-20 22:55:07 - [trainer.py:2204:_text_grad_constraint_propose_step] - Propose time: 2.145376682281494\n",
      "New prompts:  [PromptData(id='62aa09d0-a09f-478c-8e2d-72695b0d3f26', name='llm.task_desc_str', data='Filing as a 1099 contractor involves reporting income directly on your personal tax return and paying self-employment taxes quarterly, with limited legal protections and fewer deductible expenses. Operating as an S-corp means your business files a separate corporate return (Form 1120S), allows paying yourself a salary, offers liability protection, and enables more effective deduction of business expenses. The choice depends on your situation, but generally, an S-corp provides tax planning and legal protections beyond sole proprietorship or 1099 filing.', requires_opt=True)]\n"
     ]
    },
    {
     "name": "stderr",
     "output_type": "stream",
     "text": [
      "\n",
      "\n",
      "Loading Data: 100%|██████████| 4/4 [00:00<00:00, 378.75it/s]\n",
      "Predicting: step(9): 0.5792 across 4 samples, Max potential: 0.5792: 100%|██████████| 4/4 [00:08<00:00,  2.04s/it]\n"
     ]
    },
    {
     "name": "stdout",
     "output_type": "stream",
     "text": [
      "2025-07-20 22:55:16 - [trainer.py:2230:_text_grad_constraint_propose_step] - Fail minibatch check, try next proposal: True, 0.5791666666666666 <= 0.6166666666666667\n"
     ]
    },
    {
     "name": "stderr",
     "output_type": "stream",
     "text": [
      "\n",
      "Proposing:  80%|████████  | 4/5 [00:37<00:09,  9.65s/it]"
     ]
    },
    {
     "name": "stdout",
     "output_type": "stream",
     "text": [
      "Proposal: 5\n",
      "2025-07-20 22:55:18 - [trainer.py:2204:_text_grad_constraint_propose_step] - Propose time: 2.2266368865966797\n",
      "New prompts:  [PromptData(id='62aa09d0-a09f-478c-8e2d-72695b0d3f26', name='llm.task_desc_str', data='Filing personal taxes with 1099 income involves reporting income directly on your individual return and paying self-employment taxes quarterly, with limited legal protections and fewer deductible expenses. Operating as an S-corp means your business income is reported on a separate corporate return (Form 1120S), allowing you to pay yourself a salary, potentially reduce self-employment taxes, and enjoy liability protections and more deductions. The choice depends on your business size, expenses, and risk, but generally, an S-corp offers tax and legal advantages over sole proprietorship or simple 1099 reporting.', requires_opt=True)]\n"
     ]
    },
    {
     "name": "stderr",
     "output_type": "stream",
     "text": [
      "\n",
      "\n",
      "Loading Data: 100%|██████████| 4/4 [00:00<00:00, 497.21it/s]\n",
      "Predicting: step(9): 0.6417 across 4 samples, Max potential: 0.6417: 100%|██████████| 4/4 [00:07<00:00,  1.83s/it]\n"
     ]
    },
    {
     "name": "stdout",
     "output_type": "stream",
     "text": [
      "2025-07-20 22:55:25 - [trainer.py:2224:_text_grad_constraint_propose_step] - Pass minibatch check:True, 0.6416666666666666 > 0.6166666666666667\n"
     ]
    },
    {
     "name": "stderr",
     "output_type": "stream",
     "text": [
      "\n",
      "\n",
      "Loading Data: 100%|██████████| 10/10 [00:00<00:00, 1153.30it/s]\n",
      "Predicting: step(9): 0.75 across 7 samples, Max potential: 0.825:  70%|███████   | 7/10 [00:13<00:05,  1.96s/it]   \n"
     ]
    },
    {
     "name": "stdout",
     "output_type": "stream",
     "text": [
      "Optimizer revert: 0.7395833333333335 <= 0.7966666666666666\n"
     ]
    },
    {
     "name": "stderr",
     "output_type": "stream",
     "text": [
      "\n",
      "Proposing: 100%|██████████| 5/5 [01:01<00:00, 12.23s/it]\n"
     ]
    },
    {
     "name": "stdout",
     "output_type": "stream",
     "text": [
      "No proposal can improve the subset and full set, and val set\n",
      "Saving checkpoint to C:\\Users\\wuhan\\AppData\\Roaming\\adalflow\\ckpt\\HotPotQAAdal\\constrained_max_steps_12_b70f9_run_1.json\n",
      "Done with proposals\n"
     ]
    },
    {
     "name": "stderr",
     "output_type": "stream",
     "text": [
      "Training Step: 9: 100%|██████████| 3/3 [04:08<00:00, 82.74s/it]\n",
      "Epoch:  60%|██████    | 3/5 [12:08<08:17, 248.82s/it]"
     ]
    },
    {
     "name": "stdout",
     "output_type": "stream",
     "text": [
      "Epoch: 3\n"
     ]
    },
    {
     "name": "stderr",
     "output_type": "stream",
     "text": [
      "Training Step: 10:   0%|          | 0/3 [00:00<?, ?it/s]\n",
      "Loading Data: 100%|██████████| 4/4 [00:00<00:00, 158.09it/s]\n",
      "Training: 100%|██████████| 4/4 [00:00<00:00, 79.59it/s]\n",
      "\n",
      "Loading Data: 100%|██████████| 4/4 [00:00<00:00, 543.87it/s]\n",
      "Calculating Loss: 100%|██████████| 4/4 [00:00<00:00, 275.12it/s]\n",
      "Evaluating: 100%|██████████| 24/24 [00:00<00:00, 129.31it/s]\n"
     ]
    },
    {
     "name": "stdout",
     "output_type": "stream",
     "text": [
      "Moving batch eval: EvaluationResult(avg_score=0.6541666666666667, per_item_scores=[0.4666666666666667, 0.4666666666666667, 0.41666666666666663, 0.4666666666666667, 0.41666666666666663, 0.7666666666666666, 0.5166666666666667, 0.7666666666666666, 0.7666666666666666, 0.7666666666666666, 0.7666666666666666, 0.7666666666666666, 0.6666666666666667, 0.7666666666666666, 0.7666666666666666, 0.6666666666666667, 0.7666666666666666, 0.5166666666666667, 0.7166666666666668, 0.5166666666666667, 0.7666666666666666, 0.6666666666666667, 0.7666666666666666, 0.7666666666666666], additional_info=None)\n",
      "2025-07-20 22:55:40 - [trainer.py:2172:_text_grad_constraint_propose_step] - Moving batch acc: 0.6366666666666666\n",
      "Moving batch correct size: 15\n",
      "Moving batch error size: 5\n",
      "Subset Error size: 2\n",
      "Subset Correct size: 2\n",
      "Subset score: 0.6041666666666666\n",
      "2025-07-20 22:55:40 - [trainer.py:2178:_text_grad_constraint_propose_step] - Subset batch acc: 0.6041666666666666,0.6041666666666666\n",
      "Subset loss backward...\n",
      "Subset loss backward time: 10.999132871627808\n",
      "Optimizer propose...\n"
     ]
    },
    {
     "name": "stderr",
     "output_type": "stream",
     "text": [
      "\n",
      "Proposing:   0%|          | 0/5 [00:00<?, ?it/s]"
     ]
    },
    {
     "name": "stdout",
     "output_type": "stream",
     "text": [
      "Proposal: 1\n",
      "2025-07-20 22:55:53 - [trainer.py:2204:_text_grad_constraint_propose_step] - Propose time: 2.1809587478637695\n",
      "New prompts:  [PromptData(id='62aa09d0-a09f-478c-8e2d-72695b0d3f26', name='llm.task_desc_str', data='Yes, you can send a money order from USPS as a business. You can fill in whatever you want in the From section of the money order, including your business name and address. The price only includes the money order itself. You can hand deliver it yourself or mail it with an envelope and stamp. Remember to keep the stub and ask for a receipt to record your payment.', requires_opt=True)]\n"
     ]
    },
    {
     "name": "stderr",
     "output_type": "stream",
     "text": [
      "\n",
      "\n",
      "Loading Data: 100%|██████████| 4/4 [00:00<00:00, 231.35it/s]\n",
      "Predicting: step(10): 0.6167 across 4 samples, Max potential: 0.6167: 100%|██████████| 4/4 [00:05<00:00,  1.35s/it]\n"
     ]
    },
    {
     "name": "stdout",
     "output_type": "stream",
     "text": [
      "2025-07-20 22:55:59 - [trainer.py:2224:_text_grad_constraint_propose_step] - Pass minibatch check:True, 0.6166666666666667 > 0.6041666666666666\n"
     ]
    },
    {
     "name": "stderr",
     "output_type": "stream",
     "text": [
      "\n",
      "\n",
      "Loading Data: 100%|██████████| 10/10 [00:00<00:00, 1364.89it/s]\n",
      "Predicting: step(10): 0.7238 across 7 samples, Max potential: 0.8067:  70%|███████   | 7/10 [00:45<00:19,  6.51s/it]\n"
     ]
    },
    {
     "name": "stdout",
     "output_type": "stream",
     "text": [
      "Optimizer revert: 0.6916666666666667 <= 0.7966666666666666\n"
     ]
    },
    {
     "name": "stderr",
     "output_type": "stream",
     "text": [
      "\n",
      "Proposing:  20%|██        | 1/5 [00:53<03:34, 53.64s/it]"
     ]
    },
    {
     "name": "stdout",
     "output_type": "stream",
     "text": [
      "Proposal: 2\n",
      "2025-07-20 22:56:47 - [trainer.py:2204:_text_grad_constraint_propose_step] - Propose time: 2.0905566215515137\n",
      "New prompts:  [PromptData(id='62aa09d0-a09f-478c-8e2d-72695b0d3f26', name='llm.task_desc_str', data='Yes, you can send a money order from USPS as a business. You can fill in whatever you want in the From section of the money order, including your business name and address. The price only includes the money order itself, so you will need to provide an envelope and a stamp if you want to mail it. It is important to keep records of the payment, such as the stub of the money order, and to ask the contractor for a receipt.', requires_opt=True)]\n"
     ]
    },
    {
     "name": "stderr",
     "output_type": "stream",
     "text": [
      "\n",
      "\n",
      "Loading Data: 100%|██████████| 4/4 [00:00<00:00, 457.47it/s]\n",
      "Predicting: step(10): 0.6542 across 4 samples, Max potential: 0.6542: 100%|██████████| 4/4 [00:03<00:00,  1.20it/s]\n"
     ]
    },
    {
     "name": "stdout",
     "output_type": "stream",
     "text": [
      "2025-07-20 22:56:50 - [trainer.py:2224:_text_grad_constraint_propose_step] - Pass minibatch check:True, 0.6541666666666667 > 0.6041666666666666\n"
     ]
    },
    {
     "name": "stderr",
     "output_type": "stream",
     "text": [
      "\n",
      "\n",
      "Loading Data: 100%|██████████| 10/10 [00:00<00:00, 589.84it/s]\n",
      "Predicting: step(10): 0.7476 across 7 samples, Max potential: 0.8233:  70%|███████   | 7/10 [00:14<00:06,  2.06s/it]\n"
     ]
    },
    {
     "name": "stdout",
     "output_type": "stream",
     "text": [
      "Optimizer revert: 0.7375 <= 0.7966666666666666\n"
     ]
    },
    {
     "name": "stderr",
     "output_type": "stream",
     "text": [
      "\n",
      "Proposing:  40%|████      | 2/5 [01:13<01:42, 34.02s/it]"
     ]
    },
    {
     "name": "stdout",
     "output_type": "stream",
     "text": [
      "Proposal: 3\n",
      "2025-07-20 22:57:07 - [trainer.py:2204:_text_grad_constraint_propose_step] - Propose time: 2.0911507606506348\n",
      "New prompts:  [PromptData(id='62aa09d0-a09f-478c-8e2d-72695b0d3f26', name='llm.task_desc_str', data='Yes, you can send a money order from USPS as a business. You can fill in whatever you want in the From section of the money order, including your business name and address. The price only includes the money order itself, so you will need to provide an envelope and a stamp if you want to mail it. It is important to keep records of the payment, such as the stub of the money order, and to ask the contractor for a receipt.', requires_opt=True)]\n"
     ]
    },
    {
     "name": "stderr",
     "output_type": "stream",
     "text": [
      "\n",
      "\n",
      "Loading Data: 100%|██████████| 4/4 [00:00<00:00, 469.35it/s]\n",
      "Predicting: step(10): 0.6542 across 4 samples, Max potential: 0.6542: 100%|██████████| 4/4 [00:00<00:00, 67.54it/s]\n"
     ]
    },
    {
     "name": "stdout",
     "output_type": "stream",
     "text": [
      "2025-07-20 22:57:07 - [trainer.py:2224:_text_grad_constraint_propose_step] - Pass minibatch check:True, 0.6541666666666667 > 0.6041666666666666\n"
     ]
    },
    {
     "name": "stderr",
     "output_type": "stream",
     "text": [
      "\n",
      "\n",
      "Loading Data: 100%|██████████| 10/10 [00:00<00:00, 171.04it/s]\n",
      "Predicting: step(10): 0.7476 across 7 samples, Max potential: 0.8233:  70%|███████   | 7/10 [00:00<00:00, 67.85it/s]\n"
     ]
    },
    {
     "name": "stdout",
     "output_type": "stream",
     "text": [
      "Optimizer revert: 0.7375 <= 0.7966666666666666\n"
     ]
    },
    {
     "name": "stderr",
     "output_type": "stream",
     "text": [
      "\n",
      "Proposing:  60%|██████    | 3/5 [01:16<00:39, 19.72s/it]"
     ]
    },
    {
     "name": "stdout",
     "output_type": "stream",
     "text": [
      "Proposal: 4\n",
      "2025-07-20 22:57:10 - [trainer.py:2204:_text_grad_constraint_propose_step] - Propose time: 2.377281665802002\n",
      "New prompts:  [PromptData(id='62aa09d0-a09f-478c-8e2d-72695b0d3f26', name='llm.task_desc_str', data=\"Sure you can. You can fill in whatever you want in the From section of a money order, so your business name and address would be fine. The price only includes the money order itself. You can hand deliver it yourself if you want, but if you want to mail it, you'll have to provide an envelope and a stamp. Note that, since you won't have a bank record of this payment, you'll want to make sure you keep other records, such as the stub of the money order. You should probably also ask the contractor to give you a receipt.\", requires_opt=True)]\n"
     ]
    },
    {
     "name": "stderr",
     "output_type": "stream",
     "text": [
      "\n",
      "\n",
      "Loading Data: 100%|██████████| 4/4 [00:00<00:00, 471.65it/s]\n",
      "Predicting: step(10): 0.6042 across 4 samples, Max potential: 0.6042: 100%|██████████| 4/4 [00:05<00:00,  1.37s/it]\n"
     ]
    },
    {
     "name": "stdout",
     "output_type": "stream",
     "text": [
      "2025-07-20 22:57:16 - [trainer.py:2230:_text_grad_constraint_propose_step] - Fail minibatch check, try next proposal: True, 0.6041666666666666 <= 0.6041666666666666\n"
     ]
    },
    {
     "name": "stderr",
     "output_type": "stream",
     "text": [
      "\n",
      "Proposing:  80%|████████  | 4/5 [01:24<00:15, 15.18s/it]"
     ]
    },
    {
     "name": "stdout",
     "output_type": "stream",
     "text": [
      "Proposal: 5\n",
      "2025-07-20 22:57:18 - [trainer.py:2204:_text_grad_constraint_propose_step] - Propose time: 1.922579288482666\n",
      "New prompts:  [PromptData(id='62aa09d0-a09f-478c-8e2d-72695b0d3f26', name='llm.task_desc_str', data='Yes, you can send a money order from USPS as a business. You can fill in whatever you want in the From section of the money order, including your business name and address. The price only includes the money order itself, so you will need to provide an envelope and a stamp if you want to mail it. It is important to keep records of the payment, such as the stub of the money order, and to ask the contractor for a receipt.', requires_opt=True)]\n"
     ]
    },
    {
     "name": "stderr",
     "output_type": "stream",
     "text": [
      "\n",
      "\n",
      "Loading Data: 100%|██████████| 4/4 [00:00<00:00, 194.56it/s]\n",
      "Predicting: step(10): 0.6542 across 4 samples, Max potential: 0.6542: 100%|██████████| 4/4 [00:00<00:00, 30.30it/s]\n"
     ]
    },
    {
     "name": "stdout",
     "output_type": "stream",
     "text": [
      "2025-07-20 22:57:18 - [trainer.py:2224:_text_grad_constraint_propose_step] - Pass minibatch check:True, 0.6541666666666667 > 0.6041666666666666\n"
     ]
    },
    {
     "name": "stderr",
     "output_type": "stream",
     "text": [
      "\n",
      "\n",
      "Loading Data: 100%|██████████| 10/10 [00:00<00:00, 532.52it/s]\n",
      "Predicting: step(10): 0.7476 across 7 samples, Max potential: 0.8233:  70%|███████   | 7/10 [00:00<00:00, 31.45it/s]\n"
     ]
    },
    {
     "name": "stdout",
     "output_type": "stream",
     "text": [
      "Optimizer revert: 0.7375 <= 0.7966666666666666\n"
     ]
    },
    {
     "name": "stderr",
     "output_type": "stream",
     "text": [
      "\n",
      "Proposing: 100%|██████████| 5/5 [01:27<00:00, 17.54s/it]\n"
     ]
    },
    {
     "name": "stdout",
     "output_type": "stream",
     "text": [
      "No proposal can improve the subset and full set, and val set\n",
      "Saving checkpoint to C:\\Users\\wuhan\\AppData\\Roaming\\adalflow\\ckpt\\HotPotQAAdal\\constrained_max_steps_12_b70f9_run_1.json\n",
      "Done with proposals\n"
     ]
    },
    {
     "name": "stderr",
     "output_type": "stream",
     "text": [
      "Training Step: 11:  33%|███▎      | 1/3 [01:39<03:18, 99.47s/it]\n",
      "Loading Data: 100%|██████████| 4/4 [00:00<00:00, 347.19it/s]\n",
      "Training: 100%|██████████| 4/4 [00:00<00:00, 495.14it/s]\n",
      "\n",
      "Loading Data: 100%|██████████| 4/4 [00:00<00:00, 466.51it/s]\n",
      "Calculating Loss: 100%|██████████| 4/4 [00:00<00:00, 179.02it/s]\n",
      "Evaluating: 100%|██████████| 24/24 [00:00<00:00, 147.25it/s]\n"
     ]
    },
    {
     "name": "stdout",
     "output_type": "stream",
     "text": [
      "Moving batch eval: EvaluationResult(avg_score=0.6208333333333332, per_item_scores=[0.4666666666666667, 0.4666666666666667, 0.41666666666666663, 0.4666666666666667, 0.41666666666666663, 0.6666666666666667, 0.7666666666666666, 0.7666666666666666, 0.7166666666666668, 0.7666666666666666, 0.7666666666666666, 0.7666666666666666, 0.5166666666666667, 0.7666666666666666, 0.5166666666666667, 0.5166666666666667, 0.7666666666666666, 0.7666666666666666, 0.7666666666666666, 0.6666666666666667, 0.7666666666666666, 0.4666666666666667, 0.41666666666666663, 0.5166666666666667], additional_info=None)\n",
      "2025-07-20 22:57:19 - [trainer.py:2172:_text_grad_constraint_propose_step] - Moving batch acc: 0.6191666666666666\n",
      "Moving batch correct size: 13\n",
      "Moving batch error size: 7\n",
      "Subset Error size: 2\n",
      "Subset Correct size: 2\n",
      "Subset score: 0.6166666666666667\n",
      "2025-07-20 22:57:19 - [trainer.py:2178:_text_grad_constraint_propose_step] - Subset batch acc: 0.6166666666666667,0.6166666666666667\n",
      "Subset loss backward...\n",
      "Subset loss backward time: 9.519334077835083\n",
      "Optimizer propose...\n"
     ]
    },
    {
     "name": "stderr",
     "output_type": "stream",
     "text": [
      "\n",
      "Proposing:   0%|          | 0/5 [00:00<?, ?it/s]"
     ]
    },
    {
     "name": "stdout",
     "output_type": "stream",
     "text": [
      "Proposal: 1\n",
      "2025-07-20 22:57:31 - [trainer.py:2204:_text_grad_constraint_propose_step] - Propose time: 2.1026103496551514\n",
      "New prompts:  [PromptData(id='62aa09d0-a09f-478c-8e2d-72695b0d3f26', name='llm.task_desc_str', data='The best way to deposit a cheque issued to an associate into your business account is to have the cheque reissued to the business name. Once the cheque is made payable to the business, you can endorse it in the name of the business, or have the associate sign the back of the cheque if necessary, and then deposit it into your business account.', requires_opt=True)]\n"
     ]
    },
    {
     "name": "stderr",
     "output_type": "stream",
     "text": [
      "\n",
      "\n",
      "Loading Data: 100%|██████████| 4/4 [00:00<00:00, 226.71it/s]\n",
      "Predicting: step(11): 0.5917 across 4 samples, Max potential: 0.5917: 100%|██████████| 4/4 [00:07<00:00,  1.76s/it]\n"
     ]
    },
    {
     "name": "stdout",
     "output_type": "stream",
     "text": [
      "2025-07-20 22:57:38 - [trainer.py:2230:_text_grad_constraint_propose_step] - Fail minibatch check, try next proposal: True, 0.5916666666666667 <= 0.6166666666666667\n"
     ]
    },
    {
     "name": "stderr",
     "output_type": "stream",
     "text": [
      "\n",
      "Proposing:  20%|██        | 1/5 [00:09<00:38,  9.57s/it]"
     ]
    },
    {
     "name": "stdout",
     "output_type": "stream",
     "text": [
      "Proposal: 2\n",
      "2025-07-20 22:57:40 - [trainer.py:2204:_text_grad_constraint_propose_step] - Propose time: 1.729917049407959\n",
      "New prompts:  [PromptData(id='62aa09d0-a09f-478c-8e2d-72695b0d3f26', name='llm.task_desc_str', data='The cheque should be reissued to the business name, and once it is payable to the business, the authorized person can endorse it and deposit it into the business account.', requires_opt=True)]\n"
     ]
    },
    {
     "name": "stderr",
     "output_type": "stream",
     "text": [
      "\n",
      "\n",
      "Loading Data: 100%|██████████| 4/4 [00:00<00:00, 190.01it/s]\n",
      "Predicting: step(11): 0.6042 across 4 samples, Max potential: 0.6042: 100%|██████████| 4/4 [00:07<00:00,  1.78s/it]\n"
     ]
    },
    {
     "name": "stdout",
     "output_type": "stream",
     "text": [
      "2025-07-20 22:57:48 - [trainer.py:2230:_text_grad_constraint_propose_step] - Fail minibatch check, try next proposal: True, 0.6041666666666666 <= 0.6166666666666667\n"
     ]
    },
    {
     "name": "stderr",
     "output_type": "stream",
     "text": [
      "\n",
      "Proposing:  40%|████      | 2/5 [00:18<00:28,  9.42s/it]"
     ]
    },
    {
     "name": "stdout",
     "output_type": "stream",
     "text": [
      "Proposal: 3\n",
      "2025-07-20 22:57:50 - [trainer.py:2204:_text_grad_constraint_propose_step] - Propose time: 1.634124755859375\n",
      "New prompts:  [PromptData(id='62aa09d0-a09f-478c-8e2d-72695b0d3f26', name='llm.task_desc_str', data='The cheque should be reissued to the business name as the proper payee before deposit into the business account.', requires_opt=True)]\n"
     ]
    },
    {
     "name": "stderr",
     "output_type": "stream",
     "text": [
      "\n",
      "\n",
      "Loading Data: 100%|██████████| 4/4 [00:00<00:00, 528.70it/s]\n",
      "Predicting: step(11): 0.5917 across 4 samples, Max potential: 0.5917: 100%|██████████| 4/4 [00:06<00:00,  1.58s/it]\n"
     ]
    },
    {
     "name": "stdout",
     "output_type": "stream",
     "text": [
      "2025-07-20 22:57:56 - [trainer.py:2230:_text_grad_constraint_propose_step] - Fail minibatch check, try next proposal: True, 0.5916666666666667 <= 0.6166666666666667\n"
     ]
    },
    {
     "name": "stderr",
     "output_type": "stream",
     "text": [
      "\n",
      "Proposing:  60%|██████    | 3/5 [00:27<00:17,  8.90s/it]"
     ]
    },
    {
     "name": "stdout",
     "output_type": "stream",
     "text": [
      "Proposal: 4\n",
      "2025-07-20 22:57:58 - [trainer.py:2204:_text_grad_constraint_propose_step] - Propose time: 1.565363883972168\n",
      "New prompts:  [PromptData(id='62aa09d0-a09f-478c-8e2d-72695b0d3f26', name='llm.task_desc_str', data='The cheque should be reissued to the business name to ensure it is payable to the business for deposit purposes. Once reissued, the business can endorse it if needed and deposit it into the business account.', requires_opt=True)]\n"
     ]
    },
    {
     "name": "stderr",
     "output_type": "stream",
     "text": [
      "\n",
      "\n",
      "Loading Data: 100%|██████████| 4/4 [00:00<00:00, 232.04it/s]\n",
      "Predicting: step(11): 0.6167 across 4 samples, Max potential: 0.6167: 100%|██████████| 4/4 [00:08<00:00,  2.05s/it]\n"
     ]
    },
    {
     "name": "stdout",
     "output_type": "stream",
     "text": [
      "2025-07-20 22:58:06 - [trainer.py:2230:_text_grad_constraint_propose_step] - Fail minibatch check, try next proposal: True, 0.6166666666666667 <= 0.6166666666666667\n"
     ]
    },
    {
     "name": "stderr",
     "output_type": "stream",
     "text": [
      "\n",
      "Proposing:  80%|████████  | 4/5 [00:37<00:09,  9.40s/it]"
     ]
    },
    {
     "name": "stdout",
     "output_type": "stream",
     "text": [
      "Proposal: 5\n",
      "2025-07-20 22:58:08 - [trainer.py:2204:_text_grad_constraint_propose_step] - Propose time: 1.838068962097168\n",
      "New prompts:  [PromptData(id='62aa09d0-a09f-478c-8e2d-72695b0d3f26', name='llm.task_desc_str', data='The cheque must be reissued to the business name to facilitate deposit into the company account. Once reissued, the business can endorse it and deposit it accordingly.', requires_opt=True)]\n"
     ]
    },
    {
     "name": "stderr",
     "output_type": "stream",
     "text": [
      "\n",
      "\n",
      "Loading Data: 100%|██████████| 4/4 [00:00<00:00, 518.81it/s]\n",
      "Predicting: step(11): 0.6292 across 4 samples, Max potential: 0.6292: 100%|██████████| 4/4 [00:06<00:00,  1.53s/it]\n"
     ]
    },
    {
     "name": "stdout",
     "output_type": "stream",
     "text": [
      "2025-07-20 22:58:15 - [trainer.py:2224:_text_grad_constraint_propose_step] - Pass minibatch check:True, 0.6291666666666667 > 0.6166666666666667\n"
     ]
    },
    {
     "name": "stderr",
     "output_type": "stream",
     "text": [
      "\n",
      "\n",
      "Loading Data: 100%|██████████| 10/10 [00:00<00:00, 500.00it/s]\n",
      "Predicting: step(11): 0.7852 across 9 samples, Max potential: 0.8067:  90%|█████████ | 9/10 [00:16<00:01,  1.82s/it]\n"
     ]
    },
    {
     "name": "stdout",
     "output_type": "stream",
     "text": [
      "Optimizer revert: 0.7833333333333333 <= 0.7966666666666666\n"
     ]
    },
    {
     "name": "stderr",
     "output_type": "stream",
     "text": [
      "\n",
      "Proposing: 100%|██████████| 5/5 [01:02<00:00, 12.41s/it]\n"
     ]
    },
    {
     "name": "stdout",
     "output_type": "stream",
     "text": [
      "No proposal can improve the subset and full set, and val set\n",
      "Saving checkpoint to C:\\Users\\wuhan\\AppData\\Roaming\\adalflow\\ckpt\\HotPotQAAdal\\constrained_max_steps_12_b70f9_run_1.json\n",
      "Done with proposals\n"
     ]
    },
    {
     "name": "stderr",
     "output_type": "stream",
     "text": [
      "Training Step: 12:  67%|██████▋   | 2/3 [02:51<01:23, 83.49s/it]\n",
      "Loading Data: 100%|██████████| 2/2 [00:00<00:00, 160.08it/s]\n",
      "Training: 100%|██████████| 2/2 [00:00<00:00, 47.93it/s]\n",
      "\n",
      "Loading Data: 100%|██████████| 2/2 [00:00<00:00, 274.62it/s]\n",
      "Calculating Loss: 100%|██████████| 2/2 [00:00<00:00, 115.13it/s]\n",
      "Evaluating: 100%|██████████| 22/22 [00:00<00:00, 152.97it/s]\n"
     ]
    },
    {
     "name": "stdout",
     "output_type": "stream",
     "text": [
      "Moving batch eval: EvaluationResult(avg_score=0.6303030303030304, per_item_scores=[0.4666666666666667, 0.4666666666666667, 0.41666666666666663, 0.4666666666666667, 0.41666666666666663, 0.4666666666666667, 0.41666666666666663, 0.7666666666666666, 0.5166666666666667, 0.7666666666666666, 0.7666666666666666, 0.5166666666666667, 0.7666666666666666, 0.7666666666666666, 0.7666666666666666, 0.6666666666666667, 0.7666666666666666, 0.7666666666666666, 0.6666666666666667, 0.7666666666666666, 0.7166666666666668, 0.7666666666666666], additional_info=None)\n",
      "2025-07-20 22:58:32 - [trainer.py:2172:_text_grad_constraint_propose_step] - Moving batch acc: 0.6441666666666667\n",
      "Moving batch correct size: 14\n",
      "Moving batch error size: 6\n",
      "Subset Error size: 2\n",
      "Subset Correct size: 2\n",
      "Subset score: 0.6166666666666667\n",
      "2025-07-20 22:58:32 - [trainer.py:2178:_text_grad_constraint_propose_step] - Subset batch acc: 0.6166666666666667,0.6166666666666667\n",
      "Subset loss backward...\n",
      "Subset loss backward time: 9.788763761520386\n",
      "Optimizer propose...\n"
     ]
    },
    {
     "name": "stderr",
     "output_type": "stream",
     "text": [
      "\n",
      "Proposing:   0%|          | 0/5 [00:00<?, ?it/s]"
     ]
    },
    {
     "name": "stdout",
     "output_type": "stream",
     "text": [
      "Proposal: 1\n",
      "2025-07-20 22:58:44 - [trainer.py:2204:_text_grad_constraint_propose_step] - Propose time: 1.9974758625030518\n",
      "New prompts:  [PromptData(id='62aa09d0-a09f-478c-8e2d-72695b0d3f26', name='llm.task_desc_str', data='To deposit a check issued to your business into your business account, endorse the check with your authorized signature and deposit it into your dedicated business account. It is recommended to use a business account supported by proper documentation such as a DBA certificate and EIN to ensure compliance and proper record-keeping. Avoid depositing business checks into personal accounts to maintain clear separation of business and personal finances.', requires_opt=True)]\n"
     ]
    },
    {
     "name": "stderr",
     "output_type": "stream",
     "text": [
      "\n",
      "\n",
      "Loading Data: 100%|██████████| 4/4 [00:00<00:00, 189.02it/s]\n",
      "Predicting: step(12): 0.6292 across 4 samples, Max potential: 0.6292: 100%|██████████| 4/4 [00:06<00:00,  1.74s/it]\n"
     ]
    },
    {
     "name": "stdout",
     "output_type": "stream",
     "text": [
      "2025-07-20 22:58:51 - [trainer.py:2224:_text_grad_constraint_propose_step] - Pass minibatch check:True, 0.6291666666666667 > 0.6166666666666667\n"
     ]
    },
    {
     "name": "stderr",
     "output_type": "stream",
     "text": [
      "\n",
      "\n",
      "Loading Data: 100%|██████████| 10/10 [00:00<00:00, 558.15it/s]\n",
      "Predicting: step(12): 0.7381 across 7 samples, Max potential: 0.8167:  70%|███████   | 7/10 [00:13<00:05,  1.98s/it]\n"
     ]
    },
    {
     "name": "stdout",
     "output_type": "stream",
     "text": [
      "Optimizer revert: 0.7354166666666667 <= 0.7966666666666666\n"
     ]
    },
    {
     "name": "stderr",
     "output_type": "stream",
     "text": [
      "\n",
      "Proposing:  20%|██        | 1/5 [00:23<01:33, 23.43s/it]"
     ]
    },
    {
     "name": "stdout",
     "output_type": "stream",
     "text": [
      "Proposal: 2\n",
      "2025-07-20 22:59:07 - [trainer.py:2204:_text_grad_constraint_propose_step] - Propose time: 1.9972388744354248\n",
      "New prompts:  [PromptData(id='62aa09d0-a09f-478c-8e2d-72695b0d3f26', name='llm.task_desc_str', data='The correct approach is to deposit the check into a dedicated business account, endorsed appropriately, and supported by the necessary documentation such as a DBA certificate and EIN, ensuring compliance with banking regulations and best practices.', requires_opt=True)]\n"
     ]
    },
    {
     "name": "stderr",
     "output_type": "stream",
     "text": [
      "\n",
      "\n",
      "Loading Data: 100%|██████████| 4/4 [00:00<00:00, 203.35it/s]\n",
      "Predicting: step(12): 0.6167 across 4 samples, Max potential: 0.6167: 100%|██████████| 4/4 [00:07<00:00,  1.93s/it]\n"
     ]
    },
    {
     "name": "stdout",
     "output_type": "stream",
     "text": [
      "2025-07-20 22:59:15 - [trainer.py:2230:_text_grad_constraint_propose_step] - Fail minibatch check, try next proposal: True, 0.6166666666666667 <= 0.6166666666666667\n"
     ]
    },
    {
     "name": "stderr",
     "output_type": "stream",
     "text": [
      "\n",
      "Proposing:  40%|████      | 2/5 [00:33<00:46, 15.62s/it]"
     ]
    },
    {
     "name": "stdout",
     "output_type": "stream",
     "text": [
      "Proposal: 3\n",
      "2025-07-20 22:59:17 - [trainer.py:2204:_text_grad_constraint_propose_step] - Propose time: 2.101696014404297\n",
      "New prompts:  [PromptData(id='62aa09d0-a09f-478c-8e2d-72695b0d3f26', name='llm.task_desc_str', data='The correct approach is to deposit the check into a dedicated business account, endorsed appropriately, and supported by the necessary documentation such as a DBA certificate and EIN, ensuring compliance with banking regulations and best practices.', requires_opt=True)]\n"
     ]
    },
    {
     "name": "stderr",
     "output_type": "stream",
     "text": [
      "\n",
      "\n",
      "Loading Data: 100%|██████████| 4/4 [00:00<00:00, 221.01it/s]\n",
      "Predicting: step(12): 0.5917 across 4 samples, Max potential: 0.5917: 100%|██████████| 4/4 [00:00<00:00, 42.58it/s]\n"
     ]
    },
    {
     "name": "stdout",
     "output_type": "stream",
     "text": [
      "2025-07-20 22:59:18 - [trainer.py:2230:_text_grad_constraint_propose_step] - Fail minibatch check, try next proposal: True, 0.5916666666666667 <= 0.6166666666666667\n"
     ]
    },
    {
     "name": "stderr",
     "output_type": "stream",
     "text": [
      "\n",
      "Proposing:  60%|██████    | 3/5 [00:36<00:19,  9.66s/it]"
     ]
    },
    {
     "name": "stdout",
     "output_type": "stream",
     "text": [
      "Proposal: 4\n",
      "2025-07-20 22:59:20 - [trainer.py:2204:_text_grad_constraint_propose_step] - Propose time: 1.7777998447418213\n",
      "New prompts:  [PromptData(id='62aa09d0-a09f-478c-8e2d-72695b0d3f26', name='llm.task_desc_str', data='The correct approach is to deposit the check into a dedicated business account, endorsed appropriately, and supported by the necessary documentation such as a DBA certificate and EIN, ensuring compliance with banking regulations and best practices.', requires_opt=True)]\n"
     ]
    },
    {
     "name": "stderr",
     "output_type": "stream",
     "text": [
      "\n",
      "\n",
      "Loading Data: 100%|██████████| 4/4 [00:00<00:00, 198.15it/s]\n",
      "Predicting: step(12): 0.5917 across 4 samples, Max potential: 0.5917: 100%|██████████| 4/4 [00:00<00:00, 49.33it/s]\n"
     ]
    },
    {
     "name": "stdout",
     "output_type": "stream",
     "text": [
      "2025-07-20 22:59:20 - [trainer.py:2230:_text_grad_constraint_propose_step] - Fail minibatch check, try next proposal: True, 0.5916666666666667 <= 0.6166666666666667\n"
     ]
    },
    {
     "name": "stderr",
     "output_type": "stream",
     "text": [
      "\n",
      "Proposing:  80%|████████  | 4/5 [00:38<00:06,  6.74s/it]"
     ]
    },
    {
     "name": "stdout",
     "output_type": "stream",
     "text": [
      "Proposal: 5\n",
      "2025-07-20 22:59:22 - [trainer.py:2204:_text_grad_constraint_propose_step] - Propose time: 1.865492343902588\n",
      "New prompts:  [PromptData(id='62aa09d0-a09f-478c-8e2d-72695b0d3f26', name='llm.task_desc_str', data='The correct approach is to deposit the check into a dedicated business account, endorsed appropriately, and supported by the necessary documentation such as a DBA certificate and EIN, ensuring compliance with banking regulations and best practices.', requires_opt=True)]\n"
     ]
    },
    {
     "name": "stderr",
     "output_type": "stream",
     "text": [
      "\n",
      "\n",
      "Loading Data: 100%|██████████| 4/4 [00:00<00:00, 553.14it/s]\n",
      "Predicting: step(12): 0.5917 across 4 samples, Max potential: 0.5917: 100%|██████████| 4/4 [00:00<00:00, 82.32it/s]\n"
     ]
    },
    {
     "name": "stdout",
     "output_type": "stream",
     "text": [
      "2025-07-20 22:59:22 - [trainer.py:2230:_text_grad_constraint_propose_step] - Fail minibatch check, try next proposal: True, 0.5916666666666667 <= 0.6166666666666667\n"
     ]
    },
    {
     "name": "stderr",
     "output_type": "stream",
     "text": [
      "\n",
      "Proposing: 100%|██████████| 5/5 [00:40<00:00,  8.13s/it]\n"
     ]
    },
    {
     "name": "stdout",
     "output_type": "stream",
     "text": [
      "No proposal can improve the subset and full set, and val set\n",
      "Saving checkpoint to C:\\Users\\wuhan\\AppData\\Roaming\\adalflow\\ckpt\\HotPotQAAdal\\constrained_max_steps_12_b70f9_run_1.json\n",
      "Done with proposals\n"
     ]
    },
    {
     "name": "stderr",
     "output_type": "stream",
     "text": [
      "Training Step: 12: 100%|██████████| 3/3 [03:42<00:00, 74.31s/it]\n",
      "Epoch:  80%|████████  | 4/5 [15:51<03:58, 238.62s/it]"
     ]
    },
    {
     "name": "stdout",
     "output_type": "stream",
     "text": [
      "Epoch: 4\n"
     ]
    },
    {
     "name": "stderr",
     "output_type": "stream",
     "text": [
      "  0%|          | 0/3 [00:00<?, ?it/s]"
     ]
    },
    {
     "name": "stdout",
     "output_type": "stream",
     "text": [
      "Reached max steps\n"
     ]
    },
    {
     "name": "stderr",
     "output_type": "stream",
     "text": [
      "  0%|          | 0/3 [00:00<?, ?it/s]\n",
      "Epoch: 100%|██████████| 5/5 [15:51<00:00, 190.21s/it]\n"
     ]
    },
    {
     "name": "stdout",
     "output_type": "stream",
     "text": [
      "Starting step: 12\n",
      "steps [0, 1, 2, 3, 4, 5, 6, 7, 8, 9, 10, 11, 12]\n",
      "Training time: 951.7305405139923s\n"
     ]
    },
    {
     "name": "stderr",
     "output_type": "stream",
     "text": [
      "Loading Data: 100%|██████████| 10/10 [00:00<00:00, 991.73it/s]\n",
      "Predicting: step(0): 0.7167 across 10 samples, Max potential: 0.7167: 100%|██████████| 10/10 [00:18<00:00,  1.87s/it]\n"
     ]
    },
    {
     "name": "stdout",
     "output_type": "stream",
     "text": [
      "ckpt_file: C:\\Users\\wuhan\\AppData\\Roaming\\adalflow\\ckpt\\HotPotQAAdal\\constrained_max_steps_12_b70f9_run_1.json\n"
     ]
    },
    {
     "data": {
      "text/plain": [
       "'C:\\\\Users\\\\wuhan\\\\AppData\\\\Roaming\\\\adalflow\\\\ckpt\\\\HotPotQAAdal\\\\constrained_max_steps_12_b70f9_run_1.json'"
      ]
     },
     "execution_count": 10,
     "metadata": {},
     "output_type": "execute_result"
    }
   ],
   "source": [
    "train(\n",
    "    task_model_cliet=gpt4_model[\"model_client\"],\n",
    "    task_model_kwargs=gpt4_model[\"model_kwargs\"],\n",
    "    optimizer_model_config=gpt4_model,\n",
    "    backward_engine_model_config=gpt4_model,\n",
    "    max_steps=12,\n",
    ")"
   ]
  },
  {
   "cell_type": "code",
   "execution_count": 11,
   "id": "7c6442a1",
   "metadata": {},
   "outputs": [],
   "source": [
    "def plot_training_single(file):\n",
    "    with open(file) as f:\n",
    "        data = json.load(f)\n",
    "\n",
    "    val_scores = data[\"val_scores\"]\n",
    "    start_test_score = data[\"test_scores\"][0]\n",
    "    end_test_score = data[\"test_score\"]\n",
    "\n",
    "    plt.figure(figsize=(12, 6))\n",
    "\n",
    "    # Plot validation scores as a continuous line\n",
    "    plt.plot(\n",
    "        val_scores,\n",
    "        label=\"Validation Scores\",\n",
    "        marker=\"o\",\n",
    "        markersize=5,\n",
    "        linewidth=1.5,\n",
    "        color=\"tab:blue\",\n",
    "    )\n",
    "\n",
    "    # Plot test scores as individual markers\n",
    "    plt.scatter(\n",
    "        0,\n",
    "        start_test_score,\n",
    "        s=100,\n",
    "        marker=\"D\",\n",
    "        color=\"tab:orange\",\n",
    "        edgecolor=\"black\",\n",
    "        label=\"Initial Test Score\",\n",
    "    )\n",
    "    plt.scatter(\n",
    "        len(val_scores) - 1,\n",
    "        end_test_score,\n",
    "        s=100,\n",
    "        marker=\"D\",\n",
    "        color=\"tab:green\",\n",
    "        edgecolor=\"black\",\n",
    "        label=\"Final Test Score\",\n",
    "    )\n",
    "\n",
    "    plt.title(\"AdalFlow Promp Optimization Training Progress\", fontsize=14, pad=20)\n",
    "    plt.xlabel(\"Training Steps\", fontsize=12)\n",
    "    plt.ylabel(\"GEval Score\", fontsize=12)\n",
    "    plt.legend(loc=\"lower right\", frameon=True)\n",
    "    plt.grid(True, linestyle=\"--\", alpha=0.6)\n",
    "\n",
    "    # Set x-axis to show only integer steps\n",
    "    plt.xticks(range(0, len(val_scores) + 1, max(1, len(val_scores) // 10)))\n",
    "\n",
    "    plt.tight_layout()\n",
    "    plt.show()"
   ]
  },
  {
   "cell_type": "code",
   "execution_count": 12,
   "id": "1732102f",
   "metadata": {},
   "outputs": [
    {
     "data": {
      "image/png": "[encoded data removed]",
      "text/plain": [
       "<Figure size 1200x600 with 1 Axes>"
      ]
     },
     "metadata": {},
     "output_type": "display_data"
    }
   ],
   "source": [
    "file = 'C:\\\\Users\\\\wuhan\\\\AppData\\\\Roaming\\\\adalflow\\\\ckpt\\\\HotPotQAAdal\\\\constrained_max_steps_12_b70f9_run_1.json'\n",
    "plot_training_single(file)"
   ]
  },
  {
   "cell_type": "markdown",
   "id": "2b35d38b",
   "metadata": {},
   "source": [
    "### Understand the JSON Output"
   ]
  },
  {
   "cell_type": "code",
   "execution_count": 13,
   "id": "948f3905",
   "metadata": {},
   "outputs": [
    {
     "name": "stdout",
     "output_type": "stream",
     "text": [
      "dict_keys(['steps', 'val_scores', 'test_scores', 'step_results', 'effective_measure', 'validate_stats', 'time_stamp', 'total_time', 'test_score', 'trainer_state'])\n"
     ]
    }
   ],
   "source": [
    "with open(file) as f:\n",
    "    data = json.load(f)\n",
    "print(data.keys())"
   ]
  },
  {
   "cell_type": "code",
   "execution_count": 14,
   "id": "0fe56f33",
   "metadata": {},
   "outputs": [
    {
     "name": "stdout",
     "output_type": "stream",
     "text": [
      "0.7166666666666667\n",
      "1\n",
      "Have the cheque reissued to the proper payee, such as the business name, and then deposit it into your business account.\n"
     ]
    }
   ],
   "source": [
    "print(data['test_score'])\n",
    "\n",
    "best_idx = data['val_scores'].index(max(data['val_scores']))\n",
    "print(best_idx)\n",
    "\n",
    "best_prompt = data['step_results'][best_idx]['prompt'][0]['data']\n",
    "print(best_prompt)"
   ]
  },
  {
   "cell_type": "code",
   "execution_count": 15,
   "id": "409b1e3e",
   "metadata": {},
   "outputs": [
    {
     "name": "stdout",
     "output_type": "stream",
     "text": [
      "step: 0\n",
      "val_score: 0.7083333333333333\n",
      "test_score: 0.6900000000000001\n",
      "attempted_val_score: None\n",
      "1 prompt: Answer questions with short factoid answers.\n",
      "                    You will receive context(contain relevant facts).\n",
      "                    Think step by step.\n",
      "                \n",
      "\n",
      "step: 1\n",
      "val_score: 0.7966666666666666\n",
      "test_score: None\n",
      "attempted_val_score: None\n",
      "1 prompt: Have the cheque reissued to the proper payee, such as the business name, and then deposit it into your business account.\n",
      "\n",
      "step: 2\n",
      "val_score: 0.7966666666666666\n",
      "test_score: None\n",
      "attempted_val_score: 0.7816666666666666\n",
      "1 prompt: Have the cheque reissued to the proper payee, such as the business name, and then deposit it into your business account.\n",
      "\n",
      "step: 3\n",
      "val_score: 0.7966666666666666\n",
      "test_score: None\n",
      "attempted_val_score: 0.65\n",
      "1 prompt: Have the cheque reissued to the proper payee, such as the business name, and then deposit it into your business account.\n",
      "\n",
      "step: 4\n",
      "val_score: 0.7966666666666666\n",
      "test_score: None\n",
      "attempted_val_score: 0.5666666666666667\n",
      "1 prompt: Have the cheque reissued to the proper payee, such as the business name, and then deposit it into your business account.\n",
      "\n",
      "step: 5\n",
      "val_score: 0.7966666666666666\n",
      "test_score: None\n",
      "attempted_val_score: 0.5541666666666667\n",
      "1 prompt: Have the cheque reissued to the proper payee, such as the business name, and then deposit it into your business account.\n",
      "\n",
      "step: 6\n",
      "val_score: 0.7966666666666666\n",
      "test_score: None\n",
      "attempted_val_score: 0.5916666666666666\n",
      "1 prompt: Have the cheque reissued to the proper payee, such as the business name, and then deposit it into your business account.\n",
      "\n",
      "step: 7\n",
      "val_score: 0.7966666666666666\n",
      "test_score: None\n",
      "attempted_val_score: 0.5166666666666667\n",
      "1 prompt: Have the cheque reissued to the proper payee, such as the business name, and then deposit it into your business account.\n",
      "\n",
      "step: 8\n",
      "val_score: 0.7966666666666666\n",
      "test_score: None\n",
      "attempted_val_score: 0.7314814814814815\n",
      "1 prompt: Have the cheque reissued to the proper payee, such as the business name, and then deposit it into your business account.\n",
      "\n",
      "step: 9\n",
      "val_score: 0.7966666666666666\n",
      "test_score: None\n",
      "attempted_val_score: 0.7395833333333335\n",
      "1 prompt: Have the cheque reissued to the proper payee, such as the business name, and then deposit it into your business account.\n",
      "\n",
      "step: 10\n",
      "val_score: 0.7966666666666666\n",
      "test_score: None\n",
      "attempted_val_score: 0.7375\n",
      "1 prompt: Have the cheque reissued to the proper payee, such as the business name, and then deposit it into your business account.\n",
      "\n",
      "step: 11\n",
      "val_score: 0.7966666666666666\n",
      "test_score: None\n",
      "attempted_val_score: 0.7833333333333333\n",
      "1 prompt: Have the cheque reissued to the proper payee, such as the business name, and then deposit it into your business account.\n",
      "\n",
      "step: 12\n",
      "val_score: 0.7966666666666666\n",
      "test_score: None\n",
      "attempted_val_score: 0.5916666666666667\n",
      "1 prompt: Have the cheque reissued to the proper payee, such as the business name, and then deposit it into your business account.\n",
      "\n"
     ]
    }
   ],
   "source": [
    "for step in data['step_results']:\n",
    "    for k, v in step.items():\n",
    "        if k == 'prompt':\n",
    "            print(len(v), f\"prompt: {v[0]['data']}\")\n",
    "        else:\n",
    "            print(f\"{k}: {v}\")\n",
    "    print()"
   ]
  }
 ],
 "metadata": {
  "kernelspec": {
   "display_name": ".venv",
   "language": "python",
   "name": "python3"
  },
  "language_info": {
   "codemirror_mode": {
    "name": "ipython",
    "version": 3
   },
   "file_extension": ".py",
   "mimetype": "text/x-python",
   "name": "python",
   "nbconvert_exporter": "python",
   "pygments_lexer": "ipython3",
   "version": "3.13.5"
  }
 },
 "nbformat": 4,
 "nbformat_minor": 5
}
